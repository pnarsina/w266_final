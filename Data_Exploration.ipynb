{
 "cells": [
  {
   "cell_type": "code",
   "execution_count": 2,
   "metadata": {},
   "outputs": [
    {
     "data": {
      "text/plain": [
       "<module 'config' from 'C:\\\\prabhu\\\\edu\\\\code\\\\w266\\\\final_project\\\\config.py'>"
      ]
     },
     "execution_count": 2,
     "metadata": {},
     "output_type": "execute_result"
    }
   ],
   "source": [
    "import importlib\n",
    "import prepare_vocab\n",
    "import train\n",
    "import eval\n",
    "import config\n",
    "from data.loader import DataLoader\n",
    "from utils import constant\n",
    "importlib.reload(config)"
   ]
  },
  {
   "cell_type": "code",
   "execution_count": 3,
   "metadata": {},
   "outputs": [],
   "source": [
    "\n",
    "vocab_params = config.VocabParameters()\n",
    "training_params = config.TrainingParameters()\n",
    "eval_params = config.EvalParameters()\n",
    "opt = vars(vocab_params)\n",
    "opt['num_class'] = len(constant.LABEL_TO_ID)\n",
    "opt.update(vars(training_params))"
   ]
  },
  {
   "cell_type": "code",
   "execution_count": 4,
   "metadata": {},
   "outputs": [
    {
     "name": "stdout",
     "output_type": "stream",
     "text": [
      "loading files...\n",
      "2525296 tokens from 68124 examples loaded from ./dataset/tacred/train.json.\n",
      "802558 tokens from 22631 examples loaded from ./dataset/tacred/dev.json.\n",
      "539009 tokens from 15509 examples loaded from ./dataset/tacred/test.json.\n",
      "loading glove...\n",
      "2195892 words loaded from glove.\n",
      "building vocab...\n",
      "vocab built with 55950/62152 words.\n",
      "calculating oov...\n",
      "train oov: 20546/2525296 (0.81%)\n",
      "dev oov: 45801/802558 (5.71%)\n",
      "test oov: 33634/539009 (6.24%)\n",
      "building embeddings...\n",
      "embedding size: 55950 x 300\n",
      "dumping to files...\n",
      "all done.\n"
     ]
    }
   ],
   "source": [
    "vocab = prepare_vocab.prepare_voabulary (vocab_params)"
   ]
  },
  {
   "cell_type": "code",
   "execution_count": 5,
   "metadata": {},
   "outputs": [
    {
     "name": "stdout",
     "output_type": "stream",
     "text": [
      "Vocab size 55950 loaded from file\n"
     ]
    }
   ],
   "source": [
    "from utils.vocab import Vocab\n",
    "vocab_file = vocab_params.vocab_dir + '/vocab.pkl'\n",
    "vocab = Vocab(vocab_file, load=True)"
   ]
  },
  {
   "cell_type": "code",
   "execution_count": 6,
   "metadata": {},
   "outputs": [
    {
     "name": "stdout",
     "output_type": "stream",
     "text": [
      "<PAD>\n",
      "<UNK>\n",
      "SUBJ-ORGANIZATION\n",
      "SUBJ-PERSON\n",
      "OBJ-PERSON\n",
      "OBJ-ORGANIZATION\n",
      "OBJ-DATE\n",
      "OBJ-NUMBER\n",
      "OBJ-TITLE\n",
      "OBJ-COUNTRY\n",
      "OBJ-LOCATION\n",
      "OBJ-CITY\n",
      "OBJ-MISC\n",
      "OBJ-STATE_OR_PROVINCE\n",
      "OBJ-DURATION\n",
      "OBJ-NATIONALITY\n",
      "OBJ-CAUSE_OF_DEATH\n",
      "OBJ-CRIMINAL_CHARGE\n",
      "OBJ-RELIGION\n",
      "OBJ-URL\n",
      "OBJ-IDEOLOGY\n"
     ]
    }
   ],
   "source": [
    "i = 0\n",
    "for value in vocab.word2id:\n",
    "    i +=1\n",
    "    print(value)\n",
    "    if i >20: \n",
    "        break"
   ]
  },
  {
   "cell_type": "code",
   "execution_count": 7,
   "metadata": {},
   "outputs": [
    {
     "name": "stdout",
     "output_type": "stream",
     "text": [
      "Loading data from ./dataset/tacred with batch size 50...\n",
      "1363 batches created for ./dataset/tacred/train.json\n",
      "453 batches created for ./dataset/tacred/dev.json\n"
     ]
    }
   ],
   "source": [
    "# load data\n",
    "print(\"Loading data from {} with batch size {}...\".format(vocab_params.data_dir, training_params.batch_size))\n",
    "train_batch = DataLoader(vocab_params.data_dir+ '/train.json', training_params.batch_size, opt, vocab, evaluation=False)\n",
    "dev_batch = DataLoader(vocab_params.data_dir + '/dev.json', training_params.batch_size, opt, vocab, evaluation=True)"
   ]
  },
  {
   "cell_type": "code",
   "execution_count": 8,
   "metadata": {},
   "outputs": [
    {
     "data": {
      "text/plain": [
       "68124"
      ]
     },
     "execution_count": 8,
     "metadata": {},
     "output_type": "execute_result"
    }
   ],
   "source": [
    "import json\n",
    "with open(vocab_params.data_dir+ '/train.json') as infile:\n",
    "    json_data = json.load(infile)\n",
    "len(json_data)\n"
   ]
  },
  {
   "cell_type": "code",
   "execution_count": 9,
   "metadata": {},
   "outputs": [
    {
     "data": {
      "text/html": [
       "<div>\n",
       "<style scoped>\n",
       "    .dataframe tbody tr th:only-of-type {\n",
       "        vertical-align: middle;\n",
       "    }\n",
       "\n",
       "    .dataframe tbody tr th {\n",
       "        vertical-align: top;\n",
       "    }\n",
       "\n",
       "    .dataframe thead th {\n",
       "        text-align: right;\n",
       "    }\n",
       "</style>\n",
       "<table border=\"1\" class=\"dataframe\">\n",
       "  <thead>\n",
       "    <tr style=\"text-align: right;\">\n",
       "      <th></th>\n",
       "      <th>id</th>\n",
       "      <th>docid</th>\n",
       "      <th>relation</th>\n",
       "      <th>token</th>\n",
       "      <th>subj_start</th>\n",
       "      <th>subj_end</th>\n",
       "      <th>obj_start</th>\n",
       "      <th>obj_end</th>\n",
       "      <th>subj_type</th>\n",
       "      <th>obj_type</th>\n",
       "      <th>stanford_pos</th>\n",
       "      <th>stanford_ner</th>\n",
       "      <th>stanford_head</th>\n",
       "      <th>stanford_deprel</th>\n",
       "    </tr>\n",
       "  </thead>\n",
       "  <tbody>\n",
       "    <tr>\n",
       "      <th>42795</th>\n",
       "      <td>61b3a65fb960f284ebac</td>\n",
       "      <td>03c67d9ee4bf4ed33cbeddaa3a7b82cc</td>\n",
       "      <td>no_relation</td>\n",
       "      <td>[Red, Sox, 12, ,, Athletics, 2]</td>\n",
       "      <td>0</td>\n",
       "      <td>1</td>\n",
       "      <td>4</td>\n",
       "      <td>4</td>\n",
       "      <td>ORGANIZATION</td>\n",
       "      <td>ORGANIZATION</td>\n",
       "      <td>[NNP, NNP, CD, ,, NNP, CD]</td>\n",
       "      <td>[ORGANIZATION, ORGANIZATION, NUMBER, O, ORGANI...</td>\n",
       "      <td>[2, 0, 2, 2, 2, 5]</td>\n",
       "      <td>[compound, ROOT, nummod, punct, appos, nummod]</td>\n",
       "    </tr>\n",
       "    <tr>\n",
       "      <th>46757</th>\n",
       "      <td>61b3a65fb9080a05b4ee</td>\n",
       "      <td>15df2fc6a9a895432237cb2bdfcbd1b5</td>\n",
       "      <td>no_relation</td>\n",
       "      <td>[Thomas, ', assertion, of, 85, %, reporters, v...</td>\n",
       "      <td>41</td>\n",
       "      <td>43</td>\n",
       "      <td>31</td>\n",
       "      <td>31</td>\n",
       "      <td>ORGANIZATION</td>\n",
       "      <td>DATE</td>\n",
       "      <td>[NNP, POS, NN, IN, CD, NN, NNS, VBP, JJ, VBZ, ...</td>\n",
       "      <td>[PERSON, O, O, O, PERCENT, PERCENT, O, O, MISC...</td>\n",
       "      <td>[3, 1, 8, 7, 6, 7, 3, 0, 12, 12, 12, 8, 12, 18...</td>\n",
       "      <td>[nmod:poss, case, nsubj, case, compound, amod,...</td>\n",
       "    </tr>\n",
       "    <tr>\n",
       "      <th>36591</th>\n",
       "      <td>61b3a65fb9883fc52f01</td>\n",
       "      <td>274e368f381c1476fe0da7f201bfc331</td>\n",
       "      <td>no_relation</td>\n",
       "      <td>[Kerry, did, his, duty, and, did, it, well, .]</td>\n",
       "      <td>2</td>\n",
       "      <td>2</td>\n",
       "      <td>0</td>\n",
       "      <td>0</td>\n",
       "      <td>PERSON</td>\n",
       "      <td>PERSON</td>\n",
       "      <td>[NNP, VBD, PRP$, NN, CC, VBD, PRP, RB, .]</td>\n",
       "      <td>[PERSON, O, O, O, O, O, O, O, O]</td>\n",
       "      <td>[2, 0, 4, 2, 2, 2, 6, 6, 2]</td>\n",
       "      <td>[nsubj, ROOT, nmod:poss, dobj, cc, conj, dobj,...</td>\n",
       "    </tr>\n",
       "    <tr>\n",
       "      <th>22262</th>\n",
       "      <td>61b3a65fb937b50fc05a</td>\n",
       "      <td>409fa10efff702a41701bdddab89a2dd</td>\n",
       "      <td>no_relation</td>\n",
       "      <td>[This, August, ,, Moschella, 's, name, came, u...</td>\n",
       "      <td>17</td>\n",
       "      <td>20</td>\n",
       "      <td>39</td>\n",
       "      <td>40</td>\n",
       "      <td>ORGANIZATION</td>\n",
       "      <td>STATE_OR_PROVINCE</td>\n",
       "      <td>[DT, NNP, ,, NNP, POS, NN, VBD, RP, IN, DT, NN...</td>\n",
       "      <td>[DATE, DATE, O, PERSON, O, O, O, O, O, O, O, O...</td>\n",
       "      <td>[2, 0, 2, 6, 4, 7, 2, 7, 11, 11, 7, 15, 15, 15...</td>\n",
       "      <td>[det, ROOT, punct, nmod:poss, case, nsubj, acl...</td>\n",
       "    </tr>\n",
       "    <tr>\n",
       "      <th>644</th>\n",
       "      <td>61b3a5f2e85a8088c7bb</td>\n",
       "      <td>78d7e406b6911492f6f7f122d1f112ad</td>\n",
       "      <td>org:top_members/employees</td>\n",
       "      <td>[Sharpton, is, president, of, the, National, A...</td>\n",
       "      <td>5</td>\n",
       "      <td>7</td>\n",
       "      <td>0</td>\n",
       "      <td>0</td>\n",
       "      <td>ORGANIZATION</td>\n",
       "      <td>PERSON</td>\n",
       "      <td>[NNP, VBZ, NN, IN, DT, NNP, NNP, NNP, .]</td>\n",
       "      <td>[PERSON, O, O, O, O, ORGANIZATION, ORGANIZATIO...</td>\n",
       "      <td>[3, 3, 0, 8, 8, 8, 8, 3, 3]</td>\n",
       "      <td>[nsubj, cop, ROOT, case, det, compound, compou...</td>\n",
       "    </tr>\n",
       "    <tr>\n",
       "      <th>4138</th>\n",
       "      <td>61b3a37935aa6ae21928</td>\n",
       "      <td>84e924385dc7fb52b0417306a8500cb1</td>\n",
       "      <td>per:origin</td>\n",
       "      <td>[She, is, an, American, actress, and, singer, .]</td>\n",
       "      <td>0</td>\n",
       "      <td>0</td>\n",
       "      <td>3</td>\n",
       "      <td>3</td>\n",
       "      <td>PERSON</td>\n",
       "      <td>NATIONALITY</td>\n",
       "      <td>[PRP, VBZ, DT, JJ, NN, CC, NN, .]</td>\n",
       "      <td>[O, O, O, MISC, O, O, O, O]</td>\n",
       "      <td>[5, 5, 5, 5, 0, 5, 5, 5]</td>\n",
       "      <td>[nsubj, cop, det, amod, ROOT, cc, conj, punct]</td>\n",
       "    </tr>\n",
       "    <tr>\n",
       "      <th>32520</th>\n",
       "      <td>61b3afb926759a7aef5a</td>\n",
       "      <td>84e924385dc7fb52b0417306a8500cb1</td>\n",
       "      <td>per:title</td>\n",
       "      <td>[She, is, an, American, actress, and, singer, .]</td>\n",
       "      <td>0</td>\n",
       "      <td>0</td>\n",
       "      <td>6</td>\n",
       "      <td>6</td>\n",
       "      <td>PERSON</td>\n",
       "      <td>TITLE</td>\n",
       "      <td>[PRP, VBZ, DT, JJ, NN, CC, NN, .]</td>\n",
       "      <td>[O, O, O, MISC, O, O, O, O]</td>\n",
       "      <td>[5, 5, 5, 5, 0, 5, 5, 5]</td>\n",
       "      <td>[nsubj, cop, det, amod, ROOT, cc, conj, punct]</td>\n",
       "    </tr>\n",
       "    <tr>\n",
       "      <th>41668</th>\n",
       "      <td>61b3afb926aa0b82acad</td>\n",
       "      <td>84e924385dc7fb52b0417306a8500cb1</td>\n",
       "      <td>per:title</td>\n",
       "      <td>[She, is, an, American, actress, and, singer, .]</td>\n",
       "      <td>0</td>\n",
       "      <td>0</td>\n",
       "      <td>4</td>\n",
       "      <td>4</td>\n",
       "      <td>PERSON</td>\n",
       "      <td>TITLE</td>\n",
       "      <td>[PRP, VBZ, DT, JJ, NN, CC, NN, .]</td>\n",
       "      <td>[O, O, O, MISC, O, O, O, O]</td>\n",
       "      <td>[5, 5, 5, 5, 0, 5, 5, 5]</td>\n",
       "      <td>[nsubj, cop, det, amod, ROOT, cc, conj, punct]</td>\n",
       "    </tr>\n",
       "    <tr>\n",
       "      <th>62446</th>\n",
       "      <td>61b3a65fb9b37d516ec9</td>\n",
       "      <td>85b9cca690e98657db2480fb91e05489</td>\n",
       "      <td>no_relation</td>\n",
       "      <td>[Washington, ,, DC, :, American, Psychiatric, ...</td>\n",
       "      <td>4</td>\n",
       "      <td>6</td>\n",
       "      <td>7</td>\n",
       "      <td>7</td>\n",
       "      <td>ORGANIZATION</td>\n",
       "      <td>NUMBER</td>\n",
       "      <td>[NNP, ,, NNP, :, NNP, NNP, NNP, CD, .]</td>\n",
       "      <td>[LOCATION, O, LOCATION, O, ORGANIZATION, ORGAN...</td>\n",
       "      <td>[0, 1, 1, 1, 7, 7, 1, 7, 1]</td>\n",
       "      <td>[ROOT, punct, appos, punct, compound, compound...</td>\n",
       "    </tr>\n",
       "    <tr>\n",
       "      <th>66891</th>\n",
       "      <td>61b3a65fb9b8efc052b6</td>\n",
       "      <td>AFP_ENG_19941018.0328.LDC2007T07</td>\n",
       "      <td>no_relation</td>\n",
       "      <td>[President, Bill, Clinton, 's, top, defense, a...</td>\n",
       "      <td>42</td>\n",
       "      <td>44</td>\n",
       "      <td>39</td>\n",
       "      <td>39</td>\n",
       "      <td>PERSON</td>\n",
       "      <td>PERSON</td>\n",
       "      <td>[NNP, NNP, NNP, POS, JJ, NN, CC, JJ, NN, NNS, ...</td>\n",
       "      <td>[O, PERSON, PERSON, O, O, O, O, O, O, O, O, O,...</td>\n",
       "      <td>[3, 3, 6, 3, 6, 11, 6, 10, 10, 6, 0, 13, 46, 1...</td>\n",
       "      <td>[compound, compound, nmod:poss, case, amod, ns...</td>\n",
       "    </tr>\n",
       "  </tbody>\n",
       "</table>\n",
       "</div>"
      ],
      "text/plain": [
       "                         id                             docid  \\\n",
       "42795  61b3a65fb960f284ebac  03c67d9ee4bf4ed33cbeddaa3a7b82cc   \n",
       "46757  61b3a65fb9080a05b4ee  15df2fc6a9a895432237cb2bdfcbd1b5   \n",
       "36591  61b3a65fb9883fc52f01  274e368f381c1476fe0da7f201bfc331   \n",
       "22262  61b3a65fb937b50fc05a  409fa10efff702a41701bdddab89a2dd   \n",
       "644    61b3a5f2e85a8088c7bb  78d7e406b6911492f6f7f122d1f112ad   \n",
       "4138   61b3a37935aa6ae21928  84e924385dc7fb52b0417306a8500cb1   \n",
       "32520  61b3afb926759a7aef5a  84e924385dc7fb52b0417306a8500cb1   \n",
       "41668  61b3afb926aa0b82acad  84e924385dc7fb52b0417306a8500cb1   \n",
       "62446  61b3a65fb9b37d516ec9  85b9cca690e98657db2480fb91e05489   \n",
       "66891  61b3a65fb9b8efc052b6  AFP_ENG_19941018.0328.LDC2007T07   \n",
       "\n",
       "                        relation  \\\n",
       "42795                no_relation   \n",
       "46757                no_relation   \n",
       "36591                no_relation   \n",
       "22262                no_relation   \n",
       "644    org:top_members/employees   \n",
       "4138                  per:origin   \n",
       "32520                  per:title   \n",
       "41668                  per:title   \n",
       "62446                no_relation   \n",
       "66891                no_relation   \n",
       "\n",
       "                                                   token  subj_start  \\\n",
       "42795                    [Red, Sox, 12, ,, Athletics, 2]           0   \n",
       "46757  [Thomas, ', assertion, of, 85, %, reporters, v...          41   \n",
       "36591     [Kerry, did, his, duty, and, did, it, well, .]           2   \n",
       "22262  [This, August, ,, Moschella, 's, name, came, u...          17   \n",
       "644    [Sharpton, is, president, of, the, National, A...           5   \n",
       "4138    [She, is, an, American, actress, and, singer, .]           0   \n",
       "32520   [She, is, an, American, actress, and, singer, .]           0   \n",
       "41668   [She, is, an, American, actress, and, singer, .]           0   \n",
       "62446  [Washington, ,, DC, :, American, Psychiatric, ...           4   \n",
       "66891  [President, Bill, Clinton, 's, top, defense, a...          42   \n",
       "\n",
       "       subj_end  obj_start  obj_end     subj_type           obj_type  \\\n",
       "42795         1          4        4  ORGANIZATION       ORGANIZATION   \n",
       "46757        43         31       31  ORGANIZATION               DATE   \n",
       "36591         2          0        0        PERSON             PERSON   \n",
       "22262        20         39       40  ORGANIZATION  STATE_OR_PROVINCE   \n",
       "644           7          0        0  ORGANIZATION             PERSON   \n",
       "4138          0          3        3        PERSON        NATIONALITY   \n",
       "32520         0          6        6        PERSON              TITLE   \n",
       "41668         0          4        4        PERSON              TITLE   \n",
       "62446         6          7        7  ORGANIZATION             NUMBER   \n",
       "66891        44         39       39        PERSON             PERSON   \n",
       "\n",
       "                                            stanford_pos  \\\n",
       "42795                         [NNP, NNP, CD, ,, NNP, CD]   \n",
       "46757  [NNP, POS, NN, IN, CD, NN, NNS, VBP, JJ, VBZ, ...   \n",
       "36591          [NNP, VBD, PRP$, NN, CC, VBD, PRP, RB, .]   \n",
       "22262  [DT, NNP, ,, NNP, POS, NN, VBD, RP, IN, DT, NN...   \n",
       "644             [NNP, VBZ, NN, IN, DT, NNP, NNP, NNP, .]   \n",
       "4138                   [PRP, VBZ, DT, JJ, NN, CC, NN, .]   \n",
       "32520                  [PRP, VBZ, DT, JJ, NN, CC, NN, .]   \n",
       "41668                  [PRP, VBZ, DT, JJ, NN, CC, NN, .]   \n",
       "62446             [NNP, ,, NNP, :, NNP, NNP, NNP, CD, .]   \n",
       "66891  [NNP, NNP, NNP, POS, JJ, NN, CC, JJ, NN, NNS, ...   \n",
       "\n",
       "                                            stanford_ner  \\\n",
       "42795  [ORGANIZATION, ORGANIZATION, NUMBER, O, ORGANI...   \n",
       "46757  [PERSON, O, O, O, PERCENT, PERCENT, O, O, MISC...   \n",
       "36591                   [PERSON, O, O, O, O, O, O, O, O]   \n",
       "22262  [DATE, DATE, O, PERSON, O, O, O, O, O, O, O, O...   \n",
       "644    [PERSON, O, O, O, O, ORGANIZATION, ORGANIZATIO...   \n",
       "4138                         [O, O, O, MISC, O, O, O, O]   \n",
       "32520                        [O, O, O, MISC, O, O, O, O]   \n",
       "41668                        [O, O, O, MISC, O, O, O, O]   \n",
       "62446  [LOCATION, O, LOCATION, O, ORGANIZATION, ORGAN...   \n",
       "66891  [O, PERSON, PERSON, O, O, O, O, O, O, O, O, O,...   \n",
       "\n",
       "                                           stanford_head  \\\n",
       "42795                                 [2, 0, 2, 2, 2, 5]   \n",
       "46757  [3, 1, 8, 7, 6, 7, 3, 0, 12, 12, 12, 8, 12, 18...   \n",
       "36591                        [2, 0, 4, 2, 2, 2, 6, 6, 2]   \n",
       "22262  [2, 0, 2, 6, 4, 7, 2, 7, 11, 11, 7, 15, 15, 15...   \n",
       "644                          [3, 3, 0, 8, 8, 8, 8, 3, 3]   \n",
       "4138                            [5, 5, 5, 5, 0, 5, 5, 5]   \n",
       "32520                           [5, 5, 5, 5, 0, 5, 5, 5]   \n",
       "41668                           [5, 5, 5, 5, 0, 5, 5, 5]   \n",
       "62446                        [0, 1, 1, 1, 7, 7, 1, 7, 1]   \n",
       "66891  [3, 3, 6, 3, 6, 11, 6, 10, 10, 6, 0, 13, 46, 1...   \n",
       "\n",
       "                                         stanford_deprel  \n",
       "42795     [compound, ROOT, nummod, punct, appos, nummod]  \n",
       "46757  [nmod:poss, case, nsubj, case, compound, amod,...  \n",
       "36591  [nsubj, ROOT, nmod:poss, dobj, cc, conj, dobj,...  \n",
       "22262  [det, ROOT, punct, nmod:poss, case, nsubj, acl...  \n",
       "644    [nsubj, cop, ROOT, case, det, compound, compou...  \n",
       "4138      [nsubj, cop, det, amod, ROOT, cc, conj, punct]  \n",
       "32520     [nsubj, cop, det, amod, ROOT, cc, conj, punct]  \n",
       "41668     [nsubj, cop, det, amod, ROOT, cc, conj, punct]  \n",
       "62446  [ROOT, punct, appos, punct, compound, compound...  \n",
       "66891  [compound, compound, nmod:poss, case, amod, ns...  "
      ]
     },
     "execution_count": 9,
     "metadata": {},
     "output_type": "execute_result"
    }
   ],
   "source": [
    "import pandas as pd\n",
    "train_df = pd.DataFrame(json_data )\n",
    "train_df_sorted = train_df.sort_values(by=['docid','id'], ascending = True)\n",
    "train_df_sorted.head(10)"
   ]
  },
  {
   "cell_type": "code",
   "execution_count": 10,
   "metadata": {},
   "outputs": [
    {
     "data": {
      "text/plain": [
       "68124"
      ]
     },
     "execution_count": 10,
     "metadata": {},
     "output_type": "execute_result"
    }
   ],
   "source": [
    "len(train_df)"
   ]
  },
  {
   "cell_type": "code",
   "execution_count": 11,
   "metadata": {},
   "outputs": [
    {
     "data": {
      "text/plain": [
       "relation\n",
       "no_relation                            55112\n",
       "per:title                               2443\n",
       "org:top_members/employees               1890\n",
       "per:employee_of                         1524\n",
       "org:alternate_names                      808\n",
       "org:country_of_headquarters              468\n",
       "per:countries_of_residence               445\n",
       "per:age                                  390\n",
       "org:city_of_headquarters                 382\n",
       "per:cities_of_residence                  374\n",
       "per:stateorprovinces_of_residence        331\n",
       "per:origin                               325\n",
       "org:subsidiaries                         296\n",
       "org:parents                              286\n",
       "per:spouse                               258\n",
       "org:stateorprovince_of_headquarters      229\n",
       "per:children                             211\n",
       "per:other_family                         179\n",
       "org:members                              170\n",
       "per:siblings                             165\n",
       "per:parents                              152\n",
       "per:schools_attended                     149\n",
       "per:date_of_death                        134\n",
       "org:founded_by                           124\n",
       "org:member_of                            122\n",
       "per:cause_of_death                       117\n",
       "org:website                              111\n",
       "org:political/religious_affiliation      105\n",
       "per:alternate_names                      104\n",
       "org:founded                               91\n",
       "per:city_of_death                         81\n",
       "org:shareholders                          76\n",
       "org:number_of_employees/members           75\n",
       "per:charges                               72\n",
       "per:city_of_birth                         65\n",
       "per:date_of_birth                         63\n",
       "per:religion                              53\n",
       "per:stateorprovince_of_death              49\n",
       "per:stateorprovince_of_birth              38\n",
       "per:country_of_birth                      28\n",
       "org:dissolved                             23\n",
       "per:country_of_death                       6\n",
       "Name: id, dtype: int64"
      ]
     },
     "execution_count": 11,
     "metadata": {},
     "output_type": "execute_result"
    }
   ],
   "source": [
    "import matplotlib.pyplot as plt\n",
    "relation_df = train_df.groupby(\"relation\")[\"id\"].count().sort_values(ascending=False)\n",
    "relation_df"
   ]
  },
  {
   "cell_type": "code",
   "execution_count": 12,
   "metadata": {},
   "outputs": [
    {
     "data": {
      "text/plain": [
       "[<matplotlib.lines.Line2D at 0x170da066970>]"
      ]
     },
     "execution_count": 12,
     "metadata": {},
     "output_type": "execute_result"
    },
    {
     "data": {
      "image/png": "[encoded data removed]",
      "text/plain": [
       "<Figure size 1008x432 with 1 Axes>"
      ]
     },
     "metadata": {
      "needs_background": "light"
     },
     "output_type": "display_data"
    }
   ],
   "source": [
    "%matplotlib inline\n",
    "relation1_df = train_df[train_df[\"relation\"] != \"no_relation\"].groupby(\"relation\")[\"id\"].count().sort_values(ascending=False)\n",
    "plt.figure(figsize=(14,6))\n",
    "plt.xticks( rotation=90)\n",
    "plt.plot(relation1_df)\n"
   ]
  },
  {
   "cell_type": "code",
   "execution_count": 13,
   "metadata": {},
   "outputs": [
    {
     "data": {
      "text/plain": [
       "Index(['id', 'docid', 'relation', 'token', 'subj_start', 'subj_end',\n",
       "       'obj_start', 'obj_end', 'subj_type', 'obj_type', 'stanford_pos',\n",
       "       'stanford_ner', 'stanford_head', 'stanford_deprel'],\n",
       "      dtype='object')"
      ]
     },
     "execution_count": 13,
     "metadata": {},
     "output_type": "execute_result"
    }
   ],
   "source": [
    "train_df.columns"
   ]
  },
  {
   "cell_type": "markdown",
   "metadata": {},
   "source": [
    "## Expanding List columns to rows, so that we can analyze better"
   ]
  },
  {
   "cell_type": "code",
   "execution_count": 14,
   "metadata": {},
   "outputs": [
    {
     "data": {
      "text/plain": [
       "pos\n",
       "NNP      498547\n",
       "NN       307679\n",
       "IN       264369\n",
       "DT       188275\n",
       ",        154261\n",
       "JJ       134922\n",
       "NNS       98927\n",
       "VBD       91132\n",
       "CD        72827\n",
       "CC        68148\n",
       ".         64539\n",
       "RB        51995\n",
       "VB        47470\n",
       "TO        46999\n",
       "PRP       45974\n",
       "VBN       45818\n",
       "VBG       37914\n",
       "VBZ       37466\n",
       "PRP$      33458\n",
       ":         29903\n",
       "POS       26548\n",
       "-RRB-     20930\n",
       "-LRB-     20747\n",
       "''        20103\n",
       "``        19942\n",
       "VBP       16631\n",
       "MD        14386\n",
       "NNPS      11180\n",
       "WP        10200\n",
       "WDT        9795\n",
       "WRB        6509\n",
       "RP         6209\n",
       "JJR        4733\n",
       "JJS        3952\n",
       "$          3368\n",
       "RBR        1957\n",
       "FW         1716\n",
       "SYM        1379\n",
       "EX         1184\n",
       "RBS         990\n",
       "WP$         824\n",
       "PDT         549\n",
       "LS          484\n",
       "UH          275\n",
       "#            82\n",
       "Name: pos, dtype: int64"
      ]
     },
     "execution_count": 14,
     "metadata": {},
     "output_type": "execute_result"
    }
   ],
   "source": [
    "import numpy as np\n",
    "def expand_list(df, list_columns, new_columns): \n",
    "    lens_of_lists = df[list_columns[0]].apply(len)\n",
    "    origin_rows = range(df.shape[0])\n",
    "    destination_rows = np.repeat(origin_rows, lens_of_lists)\n",
    "    non_list_cols = (\n",
    "      [idx for idx, col in enumerate(df.columns)\n",
    "       if col not in list_columns]\n",
    "    )\n",
    "    expanded_df = df.iloc[destination_rows, non_list_cols].copy()\n",
    "    for new_column, list_column in zip(new_columns,list_columns):\n",
    "        expanded_df[new_column] = (\n",
    "          [item for items in df[list_column] for item in items]\n",
    "          )\n",
    "    expanded_df.reset_index(inplace=True, drop=True)\n",
    "    return expanded_df\n",
    "\n",
    "#usage\n",
    "train_tokens_df  = expand_list(train_df,['token','stanford_pos', 'stanford_ner', 'stanford_head', 'stanford_deprel'],  ['token_splitted', 'pos','ner', 'head', 'deprel'] )\n",
    "train_tokens_df.groupby('pos')['pos'].count().sort_values(ascending=False)\n"
   ]
  },
  {
   "cell_type": "code",
   "execution_count": 15,
   "metadata": {},
   "outputs": [
    {
     "data": {
      "text/plain": [
       "ner\n",
       "O               1907113\n",
       "PERSON           192199\n",
       "ORGANIZATION     169979\n",
       "LOCATION          74310\n",
       "DATE              67623\n",
       "NUMBER            41292\n",
       "MISC              29578\n",
       "DURATION          14355\n",
       "MONEY             12000\n",
       "PERCENT            6189\n",
       "ORDINAL            5360\n",
       "TIME               4037\n",
       "SET                1261\n",
       "Name: ner, dtype: int64"
      ]
     },
     "execution_count": 15,
     "metadata": {},
     "output_type": "execute_result"
    }
   ],
   "source": [
    "train_tokens_df.groupby('ner')['ner'].count().sort_values(ascending=False)"
   ]
  },
  {
   "cell_type": "code",
   "execution_count": 16,
   "metadata": {},
   "outputs": [
    {
     "data": {
      "text/plain": [
       "token_splitted\n",
       ",                   154260\n",
       "the                 109116\n",
       ".                    63711\n",
       "of                   59872\n",
       "and                  56473\n",
       "                     ...  \n",
       "Fern                     1\n",
       "organización             1\n",
       "Raoul                    1\n",
       "Fernandez-Ansola         1\n",
       "►                        1\n",
       "Name: token_splitted, Length: 62152, dtype: int64"
      ]
     },
     "execution_count": 16,
     "metadata": {},
     "output_type": "execute_result"
    }
   ],
   "source": [
    "train_tokens_df.groupby('token_splitted')['token_splitted'].count().sort_values(ascending=False)"
   ]
  },
  {
   "cell_type": "code",
   "execution_count": 17,
   "metadata": {},
   "outputs": [
    {
     "data": {
      "text/plain": [
       "head\n",
       "4     85613\n",
       "3     81060\n",
       "5     80995\n",
       "6     80007\n",
       "7     76451\n",
       "      ...  \n",
       "89      218\n",
       "92      206\n",
       "93      193\n",
       "94        3\n",
       "95        1\n",
       "Name: head, Length: 96, dtype: int64"
      ]
     },
     "execution_count": 17,
     "metadata": {},
     "output_type": "execute_result"
    }
   ],
   "source": [
    "train_tokens_df.groupby('head')['head'].count().sort_values(ascending=False)"
   ]
  },
  {
   "cell_type": "code",
   "execution_count": 18,
   "metadata": {},
   "outputs": [
    {
     "data": {
      "text/plain": [
       "deprel\n",
       "punct           329463\n",
       "compound        320847\n",
       "case            273899\n",
       "nmod            238648\n",
       "det             181625\n",
       "nsubj           137815\n",
       "amod            130419\n",
       "conj             94306\n",
       "dobj             92220\n",
       "ROOT             68124\n",
       "cc               67973\n",
       "mark             59303\n",
       "nmod:poss        58633\n",
       "advmod           55685\n",
       "appos            49362\n",
       "nummod           47278\n",
       "dep              44400\n",
       "aux              37868\n",
       "ccomp            36372\n",
       "advcl            27490\n",
       "acl:relcl        25892\n",
       "xcomp            25732\n",
       "cop              21879\n",
       "acl              20627\n",
       "auxpass          16862\n",
       "nsubjpass        14651\n",
       "nmod:tmod        11587\n",
       "neg               8700\n",
       "compound:prt      6577\n",
       "mwe               5499\n",
       "parataxis         4399\n",
       "root              3772\n",
       "nmod:npmod        2774\n",
       "expl              1105\n",
       "csubj              974\n",
       "iobj               876\n",
       "cc:preconj         800\n",
       "det:predet         609\n",
       "csubjpass          135\n",
       "discourse          116\n",
       "Name: deprel, dtype: int64"
      ]
     },
     "execution_count": 18,
     "metadata": {},
     "output_type": "execute_result"
    }
   ],
   "source": [
    "train_tokens_df.groupby('deprel')['deprel'].count().sort_values(ascending=False)"
   ]
  },
  {
   "cell_type": "code",
   "execution_count": 19,
   "metadata": {},
   "outputs": [
    {
     "data": {
      "text/html": [
       "<div>\n",
       "<style scoped>\n",
       "    .dataframe tbody tr th:only-of-type {\n",
       "        vertical-align: middle;\n",
       "    }\n",
       "\n",
       "    .dataframe tbody tr th {\n",
       "        vertical-align: top;\n",
       "    }\n",
       "\n",
       "    .dataframe thead th {\n",
       "        text-align: right;\n",
       "    }\n",
       "</style>\n",
       "<table border=\"1\" class=\"dataframe\">\n",
       "  <thead>\n",
       "    <tr style=\"text-align: right;\">\n",
       "      <th></th>\n",
       "      <th>id</th>\n",
       "      <th>docid</th>\n",
       "      <th>relation</th>\n",
       "      <th>token</th>\n",
       "      <th>subj_start</th>\n",
       "      <th>subj_end</th>\n",
       "      <th>obj_start</th>\n",
       "      <th>obj_end</th>\n",
       "      <th>subj_type</th>\n",
       "      <th>obj_type</th>\n",
       "      <th>stanford_pos</th>\n",
       "      <th>stanford_ner</th>\n",
       "      <th>stanford_head</th>\n",
       "      <th>stanford_deprel</th>\n",
       "    </tr>\n",
       "  </thead>\n",
       "  <tbody>\n",
       "    <tr>\n",
       "      <th>8114</th>\n",
       "      <td>61b3a65fb91dc38315f0</td>\n",
       "      <td>AFP_ENG_19960428.0415.LDC2007T07</td>\n",
       "      <td>no_relation</td>\n",
       "      <td>[Besides, Swires, ,, one, of, Hong, Kong, 's, ...</td>\n",
       "      <td>22</td>\n",
       "      <td>25</td>\n",
       "      <td>27</td>\n",
       "      <td>27</td>\n",
       "      <td>ORGANIZATION</td>\n",
       "      <td>ORGANIZATION</td>\n",
       "      <td>[IN, NNS, ,, CD, IN, NNP, NNP, POS, JJS, JJ, N...</td>\n",
       "      <td>[O, PERSON, O, NUMBER, O, LOCATION, LOCATION, ...</td>\n",
       "      <td>[2, 18, 18, 18, 11, 7, 11, 7, 11, 11, 4, 4, 14...</td>\n",
       "      <td>[case, nmod, punct, dep, case, compound, nmod:...</td>\n",
       "    </tr>\n",
       "    <tr>\n",
       "      <th>22042</th>\n",
       "      <td>61b3a65fb955534324a9</td>\n",
       "      <td>AFP_ENG_19960428.0415.LDC2007T07</td>\n",
       "      <td>no_relation</td>\n",
       "      <td>[Besides, Swires, ,, one, of, Hong, Kong, 's, ...</td>\n",
       "      <td>27</td>\n",
       "      <td>27</td>\n",
       "      <td>19</td>\n",
       "      <td>19</td>\n",
       "      <td>ORGANIZATION</td>\n",
       "      <td>MISC</td>\n",
       "      <td>[IN, NNS, ,, CD, IN, NNP, NNP, POS, JJS, JJ, N...</td>\n",
       "      <td>[O, PERSON, O, NUMBER, O, LOCATION, LOCATION, ...</td>\n",
       "      <td>[2, 18, 18, 18, 11, 7, 11, 7, 11, 11, 4, 4, 14...</td>\n",
       "      <td>[case, nmod, punct, dep, case, compound, nmod:...</td>\n",
       "    </tr>\n",
       "    <tr>\n",
       "      <th>23254</th>\n",
       "      <td>61b3a65fb9d54b6726bd</td>\n",
       "      <td>AFP_ENG_19960428.0415.LDC2007T07</td>\n",
       "      <td>no_relation</td>\n",
       "      <td>[Besides, Swires, ,, one, of, Hong, Kong, 's, ...</td>\n",
       "      <td>22</td>\n",
       "      <td>25</td>\n",
       "      <td>33</td>\n",
       "      <td>35</td>\n",
       "      <td>ORGANIZATION</td>\n",
       "      <td>ORGANIZATION</td>\n",
       "      <td>[IN, NNS, ,, CD, IN, NNP, NNP, POS, JJS, JJ, N...</td>\n",
       "      <td>[O, PERSON, O, NUMBER, O, LOCATION, LOCATION, ...</td>\n",
       "      <td>[2, 18, 18, 18, 11, 7, 11, 7, 11, 11, 4, 4, 14...</td>\n",
       "      <td>[case, nmod, punct, dep, case, compound, nmod:...</td>\n",
       "    </tr>\n",
       "    <tr>\n",
       "      <th>26561</th>\n",
       "      <td>61b3a65fb9899926c766</td>\n",
       "      <td>AFP_ENG_19960428.0415.LDC2007T07</td>\n",
       "      <td>no_relation</td>\n",
       "      <td>[Besides, Swires, ,, one, of, Hong, Kong, 's, ...</td>\n",
       "      <td>22</td>\n",
       "      <td>25</td>\n",
       "      <td>18</td>\n",
       "      <td>18</td>\n",
       "      <td>ORGANIZATION</td>\n",
       "      <td>NUMBER</td>\n",
       "      <td>[IN, NNS, ,, CD, IN, NNP, NNP, POS, JJS, JJ, N...</td>\n",
       "      <td>[O, PERSON, O, NUMBER, O, LOCATION, LOCATION, ...</td>\n",
       "      <td>[2, 18, 18, 18, 11, 7, 11, 7, 11, 11, 4, 4, 14...</td>\n",
       "      <td>[case, nmod, punct, dep, case, compound, nmod:...</td>\n",
       "    </tr>\n",
       "    <tr>\n",
       "      <th>45348</th>\n",
       "      <td>61b3a65fb976b7c07853</td>\n",
       "      <td>AFP_ENG_19960428.0415.LDC2007T07</td>\n",
       "      <td>no_relation</td>\n",
       "      <td>[Besides, Swires, ,, one, of, Hong, Kong, 's, ...</td>\n",
       "      <td>22</td>\n",
       "      <td>25</td>\n",
       "      <td>9</td>\n",
       "      <td>9</td>\n",
       "      <td>ORGANIZATION</td>\n",
       "      <td>MISC</td>\n",
       "      <td>[IN, NNS, ,, CD, IN, NNP, NNP, POS, JJS, JJ, N...</td>\n",
       "      <td>[O, PERSON, O, NUMBER, O, LOCATION, LOCATION, ...</td>\n",
       "      <td>[2, 18, 18, 18, 11, 7, 11, 7, 11, 11, 4, 4, 14...</td>\n",
       "      <td>[case, nmod, punct, dep, case, compound, nmod:...</td>\n",
       "    </tr>\n",
       "    <tr>\n",
       "      <th>50702</th>\n",
       "      <td>61b3a65fb9dd93965ad1</td>\n",
       "      <td>AFP_ENG_19960428.0415.LDC2007T07</td>\n",
       "      <td>no_relation</td>\n",
       "      <td>[Besides, Swires, ,, one, of, Hong, Kong, 's, ...</td>\n",
       "      <td>22</td>\n",
       "      <td>25</td>\n",
       "      <td>19</td>\n",
       "      <td>19</td>\n",
       "      <td>ORGANIZATION</td>\n",
       "      <td>MISC</td>\n",
       "      <td>[IN, NNS, ,, CD, IN, NNP, NNP, POS, JJS, JJ, N...</td>\n",
       "      <td>[O, PERSON, O, NUMBER, O, LOCATION, LOCATION, ...</td>\n",
       "      <td>[2, 18, 18, 18, 11, 7, 11, 7, 11, 11, 4, 4, 14...</td>\n",
       "      <td>[case, nmod, punct, dep, case, compound, nmod:...</td>\n",
       "    </tr>\n",
       "    <tr>\n",
       "      <th>54072</th>\n",
       "      <td>61b3a65fb98c2d5bc85b</td>\n",
       "      <td>AFP_ENG_19960428.0415.LDC2007T07</td>\n",
       "      <td>no_relation</td>\n",
       "      <td>[Besides, Swires, ,, one, of, Hong, Kong, 's, ...</td>\n",
       "      <td>27</td>\n",
       "      <td>27</td>\n",
       "      <td>33</td>\n",
       "      <td>35</td>\n",
       "      <td>ORGANIZATION</td>\n",
       "      <td>ORGANIZATION</td>\n",
       "      <td>[IN, NNS, ,, CD, IN, NNP, NNP, POS, JJS, JJ, N...</td>\n",
       "      <td>[O, PERSON, O, NUMBER, O, LOCATION, LOCATION, ...</td>\n",
       "      <td>[2, 18, 18, 18, 11, 7, 11, 7, 11, 11, 4, 4, 14...</td>\n",
       "      <td>[case, nmod, punct, dep, case, compound, nmod:...</td>\n",
       "    </tr>\n",
       "    <tr>\n",
       "      <th>62809</th>\n",
       "      <td>61b3a65fb962a5bcb0e5</td>\n",
       "      <td>AFP_ENG_19960428.0415.LDC2007T07</td>\n",
       "      <td>no_relation</td>\n",
       "      <td>[Besides, Swires, ,, one, of, Hong, Kong, 's, ...</td>\n",
       "      <td>22</td>\n",
       "      <td>25</td>\n",
       "      <td>1</td>\n",
       "      <td>1</td>\n",
       "      <td>ORGANIZATION</td>\n",
       "      <td>PERSON</td>\n",
       "      <td>[IN, NNS, ,, CD, IN, NNP, NNP, POS, JJS, JJ, N...</td>\n",
       "      <td>[O, PERSON, O, NUMBER, O, LOCATION, LOCATION, ...</td>\n",
       "      <td>[2, 18, 18, 18, 11, 7, 11, 7, 11, 11, 4, 4, 14...</td>\n",
       "      <td>[case, nmod, punct, dep, case, compound, nmod:...</td>\n",
       "    </tr>\n",
       "  </tbody>\n",
       "</table>\n",
       "</div>"
      ],
      "text/plain": [
       "                         id                             docid     relation  \\\n",
       "8114   61b3a65fb91dc38315f0  AFP_ENG_19960428.0415.LDC2007T07  no_relation   \n",
       "22042  61b3a65fb955534324a9  AFP_ENG_19960428.0415.LDC2007T07  no_relation   \n",
       "23254  61b3a65fb9d54b6726bd  AFP_ENG_19960428.0415.LDC2007T07  no_relation   \n",
       "26561  61b3a65fb9899926c766  AFP_ENG_19960428.0415.LDC2007T07  no_relation   \n",
       "45348  61b3a65fb976b7c07853  AFP_ENG_19960428.0415.LDC2007T07  no_relation   \n",
       "50702  61b3a65fb9dd93965ad1  AFP_ENG_19960428.0415.LDC2007T07  no_relation   \n",
       "54072  61b3a65fb98c2d5bc85b  AFP_ENG_19960428.0415.LDC2007T07  no_relation   \n",
       "62809  61b3a65fb962a5bcb0e5  AFP_ENG_19960428.0415.LDC2007T07  no_relation   \n",
       "\n",
       "                                                   token  subj_start  \\\n",
       "8114   [Besides, Swires, ,, one, of, Hong, Kong, 's, ...          22   \n",
       "22042  [Besides, Swires, ,, one, of, Hong, Kong, 's, ...          27   \n",
       "23254  [Besides, Swires, ,, one, of, Hong, Kong, 's, ...          22   \n",
       "26561  [Besides, Swires, ,, one, of, Hong, Kong, 's, ...          22   \n",
       "45348  [Besides, Swires, ,, one, of, Hong, Kong, 's, ...          22   \n",
       "50702  [Besides, Swires, ,, one, of, Hong, Kong, 's, ...          22   \n",
       "54072  [Besides, Swires, ,, one, of, Hong, Kong, 's, ...          27   \n",
       "62809  [Besides, Swires, ,, one, of, Hong, Kong, 's, ...          22   \n",
       "\n",
       "       subj_end  obj_start  obj_end     subj_type      obj_type  \\\n",
       "8114         25         27       27  ORGANIZATION  ORGANIZATION   \n",
       "22042        27         19       19  ORGANIZATION          MISC   \n",
       "23254        25         33       35  ORGANIZATION  ORGANIZATION   \n",
       "26561        25         18       18  ORGANIZATION        NUMBER   \n",
       "45348        25          9        9  ORGANIZATION          MISC   \n",
       "50702        25         19       19  ORGANIZATION          MISC   \n",
       "54072        27         33       35  ORGANIZATION  ORGANIZATION   \n",
       "62809        25          1        1  ORGANIZATION        PERSON   \n",
       "\n",
       "                                            stanford_pos  \\\n",
       "8114   [IN, NNS, ,, CD, IN, NNP, NNP, POS, JJS, JJ, N...   \n",
       "22042  [IN, NNS, ,, CD, IN, NNP, NNP, POS, JJS, JJ, N...   \n",
       "23254  [IN, NNS, ,, CD, IN, NNP, NNP, POS, JJS, JJ, N...   \n",
       "26561  [IN, NNS, ,, CD, IN, NNP, NNP, POS, JJS, JJ, N...   \n",
       "45348  [IN, NNS, ,, CD, IN, NNP, NNP, POS, JJS, JJ, N...   \n",
       "50702  [IN, NNS, ,, CD, IN, NNP, NNP, POS, JJS, JJ, N...   \n",
       "54072  [IN, NNS, ,, CD, IN, NNP, NNP, POS, JJS, JJ, N...   \n",
       "62809  [IN, NNS, ,, CD, IN, NNP, NNP, POS, JJS, JJ, N...   \n",
       "\n",
       "                                            stanford_ner  \\\n",
       "8114   [O, PERSON, O, NUMBER, O, LOCATION, LOCATION, ...   \n",
       "22042  [O, PERSON, O, NUMBER, O, LOCATION, LOCATION, ...   \n",
       "23254  [O, PERSON, O, NUMBER, O, LOCATION, LOCATION, ...   \n",
       "26561  [O, PERSON, O, NUMBER, O, LOCATION, LOCATION, ...   \n",
       "45348  [O, PERSON, O, NUMBER, O, LOCATION, LOCATION, ...   \n",
       "50702  [O, PERSON, O, NUMBER, O, LOCATION, LOCATION, ...   \n",
       "54072  [O, PERSON, O, NUMBER, O, LOCATION, LOCATION, ...   \n",
       "62809  [O, PERSON, O, NUMBER, O, LOCATION, LOCATION, ...   \n",
       "\n",
       "                                           stanford_head  \\\n",
       "8114   [2, 18, 18, 18, 11, 7, 11, 7, 11, 11, 4, 4, 14...   \n",
       "22042  [2, 18, 18, 18, 11, 7, 11, 7, 11, 11, 4, 4, 14...   \n",
       "23254  [2, 18, 18, 18, 11, 7, 11, 7, 11, 11, 4, 4, 14...   \n",
       "26561  [2, 18, 18, 18, 11, 7, 11, 7, 11, 11, 4, 4, 14...   \n",
       "45348  [2, 18, 18, 18, 11, 7, 11, 7, 11, 11, 4, 4, 14...   \n",
       "50702  [2, 18, 18, 18, 11, 7, 11, 7, 11, 11, 4, 4, 14...   \n",
       "54072  [2, 18, 18, 18, 11, 7, 11, 7, 11, 11, 4, 4, 14...   \n",
       "62809  [2, 18, 18, 18, 11, 7, 11, 7, 11, 11, 4, 4, 14...   \n",
       "\n",
       "                                         stanford_deprel  \n",
       "8114   [case, nmod, punct, dep, case, compound, nmod:...  \n",
       "22042  [case, nmod, punct, dep, case, compound, nmod:...  \n",
       "23254  [case, nmod, punct, dep, case, compound, nmod:...  \n",
       "26561  [case, nmod, punct, dep, case, compound, nmod:...  \n",
       "45348  [case, nmod, punct, dep, case, compound, nmod:...  \n",
       "50702  [case, nmod, punct, dep, case, compound, nmod:...  \n",
       "54072  [case, nmod, punct, dep, case, compound, nmod:...  \n",
       "62809  [case, nmod, punct, dep, case, compound, nmod:...  "
      ]
     },
     "execution_count": 19,
     "metadata": {},
     "output_type": "execute_result"
    }
   ],
   "source": [
    "train_df[train_df[\"docid\"]== \"AFP_ENG_19960428.0415.LDC2007T07\"]"
   ]
  },
  {
   "cell_type": "markdown",
   "metadata": {},
   "source": [
    "## Creating a  simple text document of all the sentences"
   ]
  },
  {
   "cell_type": "code",
   "execution_count": 20,
   "metadata": {},
   "outputs": [],
   "source": [
    "def generate_docs(df, token_list_field, doc_id_field, file_path):\n",
    "    df_sorted = df.sort_values(by=[doc_id_field, \"id\"], inplace=False)\n",
    "    doc_id = df[doc_id_field][0]\n",
    "    doc_string = \"\"\n",
    "    f = open(file_path, \"w\")\n",
    "    for ind in df_sorted.index: \n",
    "#       still in the same document\n",
    "        if doc_id == df_sorted[doc_id_field][ind]:\n",
    "            doc_string += \" \".join(df_sorted[token_list_field][ind])\n",
    "        else:\n",
    "#             print(doc_id, \": \", doc_string, \"\\n\")\n",
    "            try:\n",
    "                f.write(doc_id + \": \" + doc_string + \"\\n\")\n",
    "            except Exception as inst:\n",
    "                print(doc_id, ind, \":\", inst)\n",
    "                \n",
    "            doc_string = \"\"\n",
    "            doc_id = df_sorted[doc_id_field][ind]\n",
    "            doc_string += \" \".join(df_sorted[token_list_field][ind])\n",
    "    \n",
    "    f.close()"
   ]
  },
  {
   "cell_type": "code",
   "execution_count": 21,
   "metadata": {},
   "outputs": [
    {
     "name": "stdout",
     "output_type": "stream",
     "text": [
      "eng-NG-31-100504-10870400 3218 : 'charmap' codec can't encode characters in position 152-162: character maps to <undefined>\n",
      "eng-NG-31-142144-8684517 63360 : 'charmap' codec can't encode character '\\u25aa' in position 26: character maps to <undefined>\n",
      "eng-NG-31-149627-10595924 33227 : 'charmap' codec can't encode character '\\u06cc' in position 127: character maps to <undefined>\n",
      "eng-NG-31-149836-10610656 25890 : 'charmap' codec can't encode character '\\u011e' in position 32: character maps to <undefined>\n",
      "eng-NG-31-149836-10610671 4692 : 'charmap' codec can't encode character '\\u0131' in position 50: character maps to <undefined>\n",
      "eng-NG-31-149836-10611058 4375 : 'charmap' codec can't encode character '\\u0131' in position 80: character maps to <undefined>\n",
      "eng-WL-11-174572-12948689 20279 : 'charmap' codec can't encode character '\\u25ba' in position 27: character maps to <undefined>\n",
      "eng-WL-11-174611-12970821 31130 : 'charmap' codec can't encode character '\\u2033' in position 205: character maps to <undefined>\n",
      "eng-WL-11-174643-12999717 31113 : 'charmap' codec can't encode character '\\u0410' in position 90: character maps to <undefined>\n"
     ]
    }
   ],
   "source": [
    "file_path = vocab_params.data_dir + \"/raw.txt\"\n",
    "generate_docs(train_df, \"token\", \"docid\", file_path)\n",
    "# train_df[\"docid\"][0]\n",
    "# train_df.sort_values(by=[\"docid\"], inplace=True)\n",
    "# train_df"
   ]
  },
  {
   "cell_type": "markdown",
   "metadata": {},
   "source": [
    "## Looking at the relationships that didn't work well in the baseline\n"
   ]
  },
  {
   "cell_type": "code",
   "execution_count": 34,
   "metadata": {},
   "outputs": [
    {
     "name": "stdout",
     "output_type": "stream",
     "text": [
      "Olivia Palermo was looking very Blair Waldorfish at last week 's You Know You Want It : Style-Inspiration-Confidence book launch , so it 's only fitting she ran into real-life Gossip Girl s Leighton Meester and Nicole Fiscella on her way there ! \n",
      " \n",
      "\n",
      "Donald Wildmon , the founder and head of the American Family Association , is asking its members to petition Congress to end all funding for PBS . \n",
      " \n",
      "\n",
      "California Sen Boxer seeks support for Senate climate bill `` There are some in the Senate who insist that global warming is nothing more than science fiction , '' Sen Barbara Boxer said in the Democrats ' weekly radio address . \n",
      " \n",
      "\n",
      "While Juventus still holds the record with 27 Serie A titles , it has not officially won the `` scudetto '' since 2002-03 , when Ferrara was winding down an 11-year stint as a defender for the Bianconeri . \n",
      " \n",
      "\n",
      "The Rev. George Young , pastor of Holy Temple Baptist Church in Oklahoma City , has taught dozens of secular marriage skills courses to low-income men and women and was an adviser to the governor 's office . \n",
      " \n",
      "\n",
      "Julian Bond , chairman of the board of the National Association for the Advancement of Colored People , said Gordon tried to quit just six weeks after taking the job in August 2005 , but Bond convinced him to stay . \n",
      " \n",
      "\n",
      "Cathay Pacific Director Philip Chen said : `` Cathay Pacific being able to operate three services a week to Beijing is a very important step , but is still just a start . \n",
      " \n",
      "\n",
      "Cuban army general Raul Castro was elected president of Cuba Sunday to replace his brother Fidel Castro , during a legislative session at Cuba 's Palace of Conventions in the capital Havana . \n",
      " \n",
      "\n",
      "While Whitney Port , Kelly Cutrone and Roxy Olin of MTV 's `` The City '' were styling a shoot at Grand Central Terminal for Style212.com for an upcoming episode , police came over to break up a crowd gathered around the cast . \n",
      " \n",
      "\n",
      "Carson , 33 , has been a member of the Indianapolis City-County Council since August . \n",
      " \n",
      "\n",
      "Mia Farrow , a UN goodwill ambassador , has labeled the Beijing Games the `` genocide Olympics '' and has launched her own Olympic - style torch relay through countries with histories of mass atrocities . \n",
      " \n",
      "\n",
      "`` The board must not only be free of partisanship , but must function so all of the members have access '' to allegations of misconduct , said Rep Juanita Millender-McDonald , a Democrat and chairman of the Committee on House Administration . \n",
      " \n",
      "\n",
      "The `` Forgotten Americans Coalition '' is composed of a number of veteran conservative leaders , including the American Family Association 's Dr. Don Wildmon , Christian Broadcasting Network 's Robertson , the Free Congress Foundation 's Paul Weyrich , and Tim LaHaye , the co-author of the wildly popular `` Left Behind '' series of apocalyptic novels , and his wife , Beverly , the founder of Concerned Women for America . \n",
      " \n",
      "\n",
      "Vice President Ali Akbar Salehi , who is also the head of Atomic Energy Organization of Iran , said world powers would discredit themselves if they passed new sanctions . \n",
      " \n",
      "\n",
      "He was an Army veteran of the Korean War . \n",
      " \n",
      "\n",
      "Over his eight terms , in addition to heading the Small Business Committee , he was also Democratic whip at large , the senior member of the House Banking , Finance and Urban Affairs Committee , and chairman of its Subcommittee on Domestic Monetary Policy . \n",
      " \n",
      "\n",
      "A ruling Democratic Progressive Party legislator demanded Monday that Defense Minister Lee Jye `` give the country an explanation '' over allegations of the widespread existence of sexual harassment in the military . \n",
      " \n",
      "\n",
      "JetBlue Airways Corp spokesman Bryan Baldwin said he was `` not privy to conversations '' that the board members have had about Neeleman . \n",
      " \n",
      "\n",
      "He 's stayed `` red '' through his two terms in office : Livingstone called Fidel Castro 's communist revolution `` one of the high points of the 20th century , '' and welcomed Venezuelan president Hugo Chavez to city hall . \n",
      " \n",
      "\n",
      "And publicly today the White House is taking the optimistic route , Press Secretary Dee Dee Myers predicting the Democrats will be able to hold onto control of Congress , and she 's predicting that they will have the traditional losses that the party in power usually has during these mid-term elections . \n",
      " \n",
      "\n",
      "Until earlier this year , she worked on international trade issues for the Washington office of DLA Piper , one of the city 's biggest lobbying firms . \n",
      " \n",
      "\n"
     ]
    }
   ],
   "source": [
    "i = 0\n",
    "for token in train_df[train_df[\"relation\"] == \"per:employee_of\"][\"token\"]:\n",
    "    print (\" \".join(token), \"\\n \\n\")\n",
    "    i+=1\n",
    "    if i > 20:\n",
    "        break"
   ]
  },
  {
   "cell_type": "code",
   "execution_count": 35,
   "metadata": {},
   "outputs": [
    {
     "name": "stdout",
     "output_type": "stream",
     "text": [
      "But US and Indian experts say it has hesitated to take action against Lashkar-e-Taiba , which means `` The Army of the Pure , '' believing that the Islamic militants could prove useful in pressuring its historic rival India . \n",
      " \n",
      "\n",
      "Abu Mujahid , spokesman of the Popular Resistance Committee -LRB- PRC -RRB- said in a statement sent to reporters that the contradicted statements of the Israeli officials `` show that Israel is the one which delays and blocks the swap . '' \n",
      " \n",
      "\n",
      "Football : Allardyce becomes new Blackburn manager `` Blackburn Rovers are delighted to announce the appointment of Sam Allardyce as manager with immediate effect , '' a statement on the club 's official website said . \n",
      " \n",
      "\n",
      "Amadeo Perez Jr. , chairman of the Manila Economic and Cultural Office -LRB- MECO -RRB- , extended a welcome to the mission at the party . \n",
      " \n",
      "\n",
      "With Hawkins ' help , Kinmen Kaoliang Liquor -LRB- KKL -RRB- has opened the season with a 4-2 record and is the league 's most improved team . \n",
      " \n",
      "\n",
      "The Asian Development Bank -LRB- ADB -RRB- opened on Monday in Manila a regional knowledge center focused on public finance , said an ADB official . \n",
      " \n",
      "\n",
      "The Commodity Futures Trading Commission settled the charges with MF Global , formerly known as Man Financial . \n",
      " \n",
      "\n",
      "The APA Office has just received a letter from Senator Grassley of Iowa , requesting a complete accounting of APA revenues , except those from advertising in our journals , from pharmaceutical companies , starting in 2003 . \n",
      " \n",
      "\n",
      "Sudan broke off diplomatic relations with Chad in May after Darfur rebels of the Justice and Equality Movement -LRB- JEM -RRB- launched an attack near the capital Sudanese capital , Khartoum . \n",
      " \n",
      "\n",
      "First Automobile Works -LRB- FAW -RRB- Corp sold 24,141 units of its luxury Audi in the first quarter , an increase of 27 percent year on year , the company said Tuesday . \n",
      " \n",
      "\n",
      "Bermuda-based Tyco , which has operating headquarters in West Windsor , New Jersey , is splitting into three publicly traded companies : Tyco Healthcare , which will be renamed Covidien ; Tyco Electronics , and Tyco International , which will include the company 's fire security and engineered products unit and will remain at the current headquarters . \n",
      " \n",
      "\n",
      "US captures suspected Iraqi aide of Iranian unit The `` highly-sought individual is suspected of being an Iranian Revolutionary Guards Corps-Quds -LRB- IRGC-QF -RRB- affiliate , '' the military said in a statement without revealing the detainee 's identity but adding later that he was an Iraqi . \n",
      " \n",
      "\n",
      "The Federal Motor Carrier Safety Administration -LRB- FMCSA -RRB- announced in the August 17 Federal Register that it plans to proceed with a project to demonstrate the ability of Mexican motor carriers to operate safely in the U.S. beyond the 25-mile commercial zone along the U.S.-Mexico border . \n",
      " \n",
      "\n",
      "dank <d@nuggetorg> Or at least b & d news:VvYyj6886$Mh26285@nlpi069nbdcsbccom - Phil Clemence '' <me@loose_endscom> `` cybercat '' <cyberpu@yahoocom> Some new study conducted by the American Psychological Association -LRB- APA -RRB- claims that being spanked during childhood leads to `` sexual problems '' later in life , including a preference for sadomasochistic sex . \n",
      " \n",
      "\n",
      "The IPKat 's friend Chris Rycroft , the publisher at Oxford University Press who was responsible for launching the Journal of Intellectual Property Law & Practice and for building up OUP 's now-formidable list of intellectual property and competition law books , has left OUP for a new and exciting challenge . \n",
      " \n",
      "\n",
      "The explosive device was detonated near a convoy of the National People 's Army -LRB- ANP -RRB- around 13:30 local time -LRB- 1230 GMT -RRB- at the western entrance to Si Mustapha town in Boumerdes province , 50 km northeast the capital Algiers , the report quoted well-informed sources as saying . \n",
      " \n",
      "\n",
      "The Asian Development Bank -LRB- ADB -RRB- said Wednesday it is extending a loan of 250 million dollars to the Philippine government , which is trying to implement a number of economic reforms . \n",
      " \n",
      "\n",
      "Political parties , intellectuals and former advisors of the caretaker government on Wednesday dubbed the Awami League -LRB- AL -RRB- - led alliance 's boycott of Bangladesh 's national election slated for Jan 22 as a matter of sorrow and said the country is heading towards uncertainty . \n",
      " \n",
      "\n",
      "Denver has been host to all-star games in the old ABA , the NBA , the NHL and Major League Baseball . \n",
      " \n",
      "\n",
      "JOHANNESBURG , Feb 14 -LRB- Xinhua -RRB- However , he added , this reorganization `` will not entail any negative effect on the salaries and conditions of service of the current members of the DSO -LRB- Directorate of Special Operations -RRB- - Scorpions . '' \n",
      " \n",
      "\n",
      "An Australian helicopter carrying Australian troops and reporters has narrowly avoided an attack by a rocket in Afghanistan , Australian Broadcasting Corporation -LRB- ABC -RRB- radio reported Wednesday . \n",
      " \n",
      "\n"
     ]
    }
   ],
   "source": [
    "i = 0\n",
    "for token in train_df[train_df[\"relation\"] == \"org:alternate_names\"][\"token\"]:\n",
    "    print (\" \".join(token), \"\\n \\n\")\n",
    "    i+=1\n",
    "    if i > 20:\n",
    "        break"
   ]
  },
  {
   "cell_type": "markdown",
   "metadata": {},
   "source": [
    "## Exploring with Spacy"
   ]
  },
  {
   "cell_type": "code",
   "execution_count": 23,
   "metadata": {},
   "outputs": [],
   "source": [
    "import spacy\n",
    "nlp = spacy.load(\"en_core_web_lg\")"
   ]
  },
  {
   "cell_type": "code",
   "execution_count": 24,
   "metadata": {},
   "outputs": [],
   "source": [
    "def generate_spacy_tokens(df, token_list_field, doc_id_field):\n",
    "    df_sorted = df.sort_values(by=[doc_id_field, \"id\"], inplace=False)\n",
    "    doc_id = df[doc_id_field][0]\n",
    "    doc_string = \"\"\n",
    "    spacy_tokens = []\n",
    "    for ind in df_sorted.index: \n",
    "#       still in the same document\n",
    "        if doc_id == df_sorted[doc_id_field][ind]:\n",
    "            doc_string += \" \".join(df_sorted[token_list_field][ind])\n",
    "        else:\n",
    "            spacy_tokens.append(nlp(doc_string))   \n",
    "            doc_string = \"\"\n",
    "            doc_id = df_sorted[doc_id_field][ind]\n",
    "            doc_string += \" \".join(df_sorted[token_list_field][ind])\n",
    "    \n",
    "    return(spacy_tokens)"
   ]
  },
  {
   "cell_type": "code",
   "execution_count": 25,
   "metadata": {},
   "outputs": [
    {
     "data": {
      "text/plain": [
       "26369"
      ]
     },
     "execution_count": 25,
     "metadata": {},
     "output_type": "execute_result"
    }
   ],
   "source": [
    "len(train_df['docid'].unique())"
   ]
  },
  {
   "cell_type": "code",
   "execution_count": 26,
   "metadata": {},
   "outputs": [
    {
     "data": {
      "text/plain": [
       "26369"
      ]
     },
     "execution_count": 26,
     "metadata": {},
     "output_type": "execute_result"
    }
   ],
   "source": [
    "spacy_tokens = generate_spacy_tokens(train_df, \"token\", \"docid\")\n",
    "len(spacy_tokens)"
   ]
  },
  {
   "cell_type": "code",
   "execution_count": 27,
   "metadata": {},
   "outputs": [
    {
     "data": {
      "text/plain": []
     },
     "execution_count": 27,
     "metadata": {},
     "output_type": "execute_result"
    }
   ],
   "source": [
    "spacy_tokens[0]"
   ]
  },
  {
   "cell_type": "code",
   "execution_count": null,
   "metadata": {},
   "outputs": [],
   "source": []
  },
  {
   "cell_type": "code",
   "execution_count": null,
   "metadata": {},
   "outputs": [],
   "source": []
  },
  {
   "cell_type": "code",
   "execution_count": null,
   "metadata": {},
   "outputs": [],
   "source": []
  }
 ],
 "metadata": {
  "kernelspec": {
   "display_name": "Python 3",
   "language": "python",
   "name": "python3"
  },
  "language_info": {
   "codemirror_mode": {
    "name": "ipython",
    "version": 3
   },
   "file_extension": ".py",
   "mimetype": "text/x-python",
   "name": "python",
   "nbconvert_exporter": "python",
   "pygments_lexer": "ipython3",
   "version": "3.7.4"
  }
 },
 "nbformat": 4,
 "nbformat_minor": 4
}
