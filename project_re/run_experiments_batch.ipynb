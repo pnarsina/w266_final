{
 "cells": [
  {
   "cell_type": "code",
   "execution_count": 1,
   "metadata": {},
   "outputs": [
    {
     "name": "stderr",
     "output_type": "stream",
     "text": [
      "INFO:root:***** Running training *****\n",
      "INFO:root:  Num examples = 61014\n",
      "INFO:root:  Batch size = 24\n",
      "INFO:root:  Num steps = 7626\n",
      "Epoch:   0%|                                                                                                                                                  | 0/3 [00:00<?, ?it/s]"
     ]
    },
    {
     "data": {
      "application/vnd.jupyter.widget-view+json": {
       "model_id": "9f1bb55694fb47208d6b308934d9e440",
       "version_major": 2,
       "version_minor": 0
      },
      "text/plain": [
       "HBox(children=(FloatProgress(value=0.0, description='Iteration', max=5.0, style=ProgressStyle(description_widt…"
      ]
     },
     "metadata": {},
     "output_type": "display_data"
    },
    {
     "name": "stderr",
     "output_type": "stream",
     "text": [
      "C:\\ProgramData\\Anaconda3\\lib\\site-packages\\torch\\optim\\lr_scheduler.py:131: UserWarning: Detected call of `lr_scheduler.step()` before `optimizer.step()`. In PyTorch 1.1.0 and later, you should call them in the opposite order: `optimizer.step()` before `lr_scheduler.step()`.  Failure to do this will result in PyTorch skipping the first value of the learning rate schedule. See more details at https://pytorch.org/docs/stable/optim.html#how-to-adjust-learning-rate\n",
      "  warnings.warn(\"Detected call of `lr_scheduler.step()` before `optimizer.step()`. \"\n",
      "Epoch:  33%|██████████████████████████████████████████████                                                                                            | 1/3 [01:12<02:25, 72.72s/it]"
     ]
    },
    {
     "name": "stdout",
     "output_type": "stream",
     "text": [
      "\n",
      "so far epoch accuracy:  0.00016389681056806635\n"
     ]
    },
    {
     "data": {
      "application/vnd.jupyter.widget-view+json": {
       "model_id": "be22b7af4a0b42daa24d99b67f1c59a9",
       "version_major": 2,
       "version_minor": 0
      },
      "text/plain": [
       "HBox(children=(FloatProgress(value=0.0, description='Iteration', max=5.0, style=ProgressStyle(description_widt…"
      ]
     },
     "metadata": {},
     "output_type": "display_data"
    },
    {
     "name": "stderr",
     "output_type": "stream",
     "text": [
      "Epoch:  67%|████████████████████████████████████████████████████████████████████████████████████████████                                              | 2/3 [02:24<01:12, 72.35s/it]"
     ]
    },
    {
     "name": "stdout",
     "output_type": "stream",
     "text": [
      "\n"
     ]
    },
    {
     "data": {
      "application/vnd.jupyter.widget-view+json": {
       "model_id": "a8d1e00e751a4d80ade04bc4f4f05f79",
       "version_major": 2,
       "version_minor": 0
      },
      "text/plain": [
       "HBox(children=(FloatProgress(value=0.0, description='Iteration', max=5.0, style=ProgressStyle(description_widt…"
      ]
     },
     "metadata": {},
     "output_type": "display_data"
    },
    {
     "name": "stderr",
     "output_type": "stream",
     "text": [
      "Epoch: 100%|██████████████████████████████████████████████████████████████████████████████████████████████████████████████████████████████████████████| 3/3 [03:36<00:00, 72.21s/it]"
     ]
    },
    {
     "name": "stdout",
     "output_type": "stream",
     "text": [
      "\n",
      "so far epoch accuracy:  0.00019667617268167962\n",
      "Training complete\n",
      "Best val Acc: 0.000197\n"
     ]
    },
    {
     "name": "stderr",
     "output_type": "stream",
     "text": [
      "\n"
     ]
    },
    {
     "data": {
      "application/vnd.jupyter.widget-view+json": {
       "model_id": "69e040f16e9e419299e941ee123fbf17",
       "version_major": 2,
       "version_minor": 0
      },
      "text/plain": [
       "HBox(children=(FloatProgress(value=0.0, description='Evaluating', max=5.0, style=ProgressStyle(description_wid…"
      ]
     },
     "metadata": {},
     "output_type": "display_data"
    },
    {
     "name": "stderr",
     "output_type": "stream",
     "text": [
      "INFO:root:***** Running training *****\n",
      "INFO:root:  Num examples = 15304\n",
      "INFO:root:  Batch size = 24\n",
      "INFO:root:  Num steps = 1911\n"
     ]
    },
    {
     "name": "stdout",
     "output_type": "stream",
     "text": [
      "\n"
     ]
    },
    {
     "data": {
      "application/vnd.jupyter.widget-view+json": {
       "model_id": "35d131ebc96a4253aa73e4df870ec495",
       "version_major": 2,
       "version_minor": 0
      },
      "text/plain": [
       "HBox(children=(FloatProgress(value=0.0, description='Evaluating', max=5.0, style=ProgressStyle(description_wid…"
      ]
     },
     "metadata": {},
     "output_type": "display_data"
    },
    {
     "name": "stderr",
     "output_type": "stream",
     "text": [
      "INFO:root:***** Running training *****\n",
      "INFO:root:  Num examples = 1000\n",
      "INFO:root:  Batch size = 24\n",
      "INFO:root:  Num steps = 123\n"
     ]
    },
    {
     "name": "stdout",
     "output_type": "stream",
     "text": [
      "\n"
     ]
    },
    {
     "data": {
      "application/vnd.jupyter.widget-view+json": {
       "model_id": "086701fffd404037b08cab65e3ef3b0a",
       "version_major": 2,
       "version_minor": 0
      },
      "text/plain": [
       "HBox(children=(FloatProgress(value=0.0, description='Evaluating', max=42.0, style=ProgressStyle(description_wi…"
      ]
     },
     "metadata": {},
     "output_type": "display_data"
    },
    {
     "name": "stdout",
     "output_type": "stream",
     "text": [
      "\n",
      "\n",
      " label: [2 7 1 2 7 2 3 3 0 6 4 6 3 6 6 3 0 0 6 6 0 0 2 1 0 4 1 6 6 6 0 0 4 1 0 5 0\n",
      " 4 0 1 0 3 0 5 4 6 4 5 2 6 4 3 5 1 2 5 0 0 5 2 2 2 5 3 6 2 0 0 3 2 0 0 1 1\n",
      " 3 1 5 1 1 0 2 6 4 1 6 5 3 2 2 5 2 6 6 5 4 0 1 0 1]\n",
      "\n",
      " preds: [5 2 7 0 7 2 2 0 8 5 2 2 5 5 2 5 8 2 0 0 0 0 7 4 5 0 8 2 4 0 7 7 5 5 2 2 5\n",
      " 0 2 5 0 4 2 0 2 7 2 2 5 2 5 8 2 2 0 7 7 2 2 2 5 0 2 2 2 5 0 4 7 7 7 2 7 7\n",
      " 5 5 7 2 0 2 2 7 2 2 5 2 5 4 5 2 5 0 7 2 4 0 7 0 2]\n",
      "\n",
      " label: [8 8 8 8 8 8 0 0 2 4 8 8 8 8 2 8 0 8 0 1 6 8 8 0 8 8 0 8 0 4 2 5 0 3 0 8 4\n",
      " 8 1 2 8 0 8 8 0 1 8 8 2 8 2 7 8 8 8 8 0 1 8 8 2 8 0 0 3 6 8 8 0 8 5 2 8 5\n",
      " 3 2 5 3 0 5 8 8 6 1 8 3 8 8 3 8 5 8 2 6 6 3 7 0 0]\n",
      "\n",
      " preds: [7 7 8 2 4 4 0 2 7 0 7 2 0 7 5 0 5 5 2 2 7 5 7 2 0 0 2 7 2 2 2 2 2 5 2 2 4\n",
      " 3 0 0 0 5 2 7 7 0 0 0 5 0 2 5 7 0 7 4 4 0 3 7 2 0 2 7 0 5 7 0 2 3 2 5 7 0\n",
      " 5 5 0 5 4 5 7 7 2 7 5 5 7 2 0 7 0 7 0 2 3 2 7 2 2]\n",
      "\n",
      " label: [8 8 6 8 2 3 8 8 8 8 8 1 7 8 5 5 3 8 8 6 2 8 8 8 8 1 6 8 3 8 8 5 5 8 6 8 8\n",
      " 8 0 8 8 8 8 8 7 7 8 6 2 7 8 8 8 5 8 8 7 5 8 3 8 7 3 8 5 8 8 8 8 1 8 8 8 8\n",
      " 8 8 3 8 8 8 7 8 8 8 1 8 8 8 7 8 8 5 7 2 7 3 8 8 6 0 8 8 3 0 8 8 8 1 8 2 8\n",
      " 8 3 5 8 8 5 8 1 8 1 2 8 8 1 3 8 8 8 2 8 8 6 8 8 8 2 8 8 8 0 8 8 3 8 6 8 8\n",
      " 5 8 8 8 8 3 5 8 8 6 8 8 3 6 8 7 8 8 8 8 8 8 2 8 5 8 8 8 8 8 8 1 8 2 8 3 8\n",
      " 5 7 8 8 1 8 8 0 8 7 8 8 8 8 8 8 0 8 8 5 8 8 3 0 8 1 8 8 6 8 8 2 8 8 8 8 3\n",
      " 8 8 3 3 8 0 8 8 5 1 8 3 8 8 8 7 8 8 8 8 8 8 8 8 8 4 8 8 1 6 8 8 7 8 8 5 8\n",
      " 2 8 8 8 6 3 8 3 8 8 8 5 1 8 8 0 3 8 8 8 8 8 1 0 5 5 8 3 8 8 8 8 0 8 8 8 8\n",
      " 8 8 8 8 8 0 8 8 8 8 8 8 8 8 8 8 8 7 5 8 8 8 3 8 8 8 7 3 2 5 1 8 8 8 3 1 8\n",
      " 0 8 0 8 6 1 8 8 8 8 8 8 8 8 8 8 8 8 8 8 8 8 8 8 8 8 8 8 5 8 8 8 8 8 8 3 8\n",
      " 8 0 8 8 8 8 8 2 8 8 4 8 8 8 2 2 5 2 3 0 1 6 2 8 1 1 8 8 8 8 8 8 8 8 8 8 8\n",
      " 8 8 2 0 1 8 5 8 0 8 1 8 3 8 8 8 8 8 7 5 8 8 8 8 8 8 6 6 1 8 8 6 7 2 8 8 8\n",
      " 8 2 8 8 8 8 8 8 8 8 8 2 8 8 8 8 6 1 1 8 8 1 8 2 8 8 8 8 8 8 8 8 8 5 8 8 8\n",
      " 8 8 3 0 3 3 8 0 8 5 8 8 8 8 3 8 8 5 4 5 8 8 8 8 8 8 5 0 8 7 8 8 8 8 8 8 0\n",
      " 5 5 8 0 0 8 8 8 8 8 5 6 1 8 8 1 8 2 8 8 8 8 8 2 8 8 3 5 8 8 8 8 8 8 8 8 8\n",
      " 4 8 5 3 8 0 8 8 8 8 8 8 0 8 8 1 8 8 0 8 8 6 1 3 0 8 6 8 8 8 5 5 8 8 8 8 8\n",
      " 8 8 5 6 8 8 8 8 8 6 8 8 8 8 8 8 0 2 8 8 6 8 5 3 8 8 0 8 6 8 8 8 8 8 8 8 8\n",
      " 1 8 8 8 8 8 8 8 8 3 2 4 3 8 8 3 0 8 8 3 8 8 1 2 8 0 8 8 6 1 8 2 8 4 8 6 8\n",
      " 8 2 8 8 3 7 8 8 3 2 8 8 8 6 4 8 8 8 2 5 8 5 8 8 8 8 8 5 8 1 8 3 2 2 2 5 8\n",
      " 6 8 8 8 8 1 8 5 1 2 8 6 1 8 7 1 1 3 8 8 8 8 8 2 0 8 8 8 7 8 3 8 8 1 8 8 8\n",
      " 8 8 0 8 8 2 1 6 0 8 8 8 8 8 8 8 8 8 5 5 6 8 8 8 0 8 6 8 8 8 7 8 8 2 8 3 8\n",
      " 6 8 0 8 8 8 8 1 8 8 8 8 8 8 8 8 8 8 8 8 1 2 8 8 8 8 8 7 7 8 2 8 8 8 8 8 8\n",
      " 8 8 7 5 8 4 8 2 8 8 0 8 8 8 0 5 7 8 8 1 8 7 3 8 8 8 2 8 8 8 8 0 3 8 1 8 3\n",
      " 8 3 8 8 5 6 8 8 8 8 7 4 1 8 1 1 3 8 4 0 8 1 5 5 0 8 8 1 8 3 6 2 8 5 8 8 1\n",
      " 8 8 8 8 8 8 8 2 8 8 2 8 8 7 8 2 8 8 8 8 8 8 8 8 8 8 6 8 3 8 8 8 8 8 6 8 8\n",
      " 6 8 8 8 8 5 2 6 8 8 8 8 8 8 7 0 8 8 5 5 3 8 8 1 2 7 8 8 8 8 8 8 8 8 6 8 8\n",
      " 8 8 8 8 8 8 8 8 6 8 8 6 6 8 8 5 8 8 8 8 8 8 8 0 8 8 8 8 8 6 8 8 8 8 8 2 8\n",
      " 8]\n",
      "\n",
      " preds: [7 8 7 4 4 5 4 7 7 3 7 0 0 7 0 7 4 7 7 7 0 0 0 7 8 5 5 7 5 7 7 1 2 4 5 2 4\n",
      " 3 8 0 4 0 4 0 4 7 5 2 7 2 7 7 0 7 4 7 2 7 7 4 0 0 8 4 7 7 7 8 4 0 7 4 4 7\n",
      " 7 7 2 7 2 7 8 4 7 7 7 4 7 0 4 8 4 8 2 5 2 5 4 7 7 8 7 7 5 4 4 7 7 5 7 5 5\n",
      " 7 7 0 3 8 2 8 4 7 5 0 0 1 2 5 7 7 7 7 7 0 7 7 7 0 2 7 8 0 0 4 7 2 7 2 7 3\n",
      " 2 4 2 4 7 7 2 7 7 2 7 2 0 5 4 2 3 7 4 2 4 7 5 0 2 0 7 7 7 0 3 2 7 5 3 2 3\n",
      " 7 0 7 7 2 4 8 0 7 7 8 8 8 7 7 7 4 7 0 2 7 7 0 8 7 7 4 4 7 2 1 5 7 7 7 7 2\n",
      " 2 7 5 5 2 7 3 3 7 7 7 7 1 7 7 4 7 2 4 3 4 7 7 8 8 8 7 7 7 7 0 6 8 0 5 7 7\n",
      " 4 2 8 4 4 0 7 7 8 5 4 2 2 7 7 2 4 7 7 2 7 4 7 7 7 2 3 2 4 4 7 8 0 3 7 7 7\n",
      " 4 8 4 7 2 8 7 0 3 7 0 7 1 7 0 7 7 2 0 7 8 1 8 3 1 4 7 7 2 0 4 7 7 8 2 2 7\n",
      " 4 7 7 7 8 2 4 7 7 4 7 7 7 7 7 2 7 7 7 7 0 4 4 7 7 7 7 7 0 8 0 7 3 7 7 2 7\n",
      " 7 2 2 1 7 4 7 2 7 7 8 7 7 3 5 2 0 5 7 0 5 2 0 7 0 4 7 5 0 7 3 2 2 4 7 5 7\n",
      " 2 4 4 2 2 4 7 3 2 7 5 7 2 0 0 0 7 7 2 0 7 3 1 7 1 3 4 5 2 2 7 7 1 7 6 4 7\n",
      " 7 2 3 7 4 2 8 7 7 0 4 5 0 3 0 3 0 5 7 4 0 2 3 5 2 7 3 4 7 7 7 3 4 0 7 2 7\n",
      " 7 7 5 2 5 2 4 7 7 7 7 7 2 8 5 4 0 0 0 4 7 7 4 0 4 4 7 2 7 4 7 8 0 4 5 2 0\n",
      " 0 2 4 0 4 5 8 3 7 7 2 7 7 7 0 4 7 2 3 3 7 2 3 0 7 7 7 2 7 0 7 2 7 7 7 7 0\n",
      " 8 3 2 5 4 7 7 7 0 7 4 7 0 7 7 2 7 7 0 0 7 3 7 5 7 7 2 2 6 7 4 7 7 2 1 0 7\n",
      " 3 7 7 4 7 0 7 7 7 4 2 0 0 2 2 0 0 8 7 4 4 3 2 5 0 1 7 7 7 4 0 7 4 0 7 7 4\n",
      " 4 7 4 7 7 7 0 7 4 7 4 8 7 0 4 2 0 4 7 4 4 3 7 5 4 7 7 0 7 7 4 5 0 7 7 2 7\n",
      " 7 5 7 7 2 7 8 7 7 0 7 4 2 2 8 7 4 0 5 2 8 2 1 0 7 0 7 2 7 8 7 5 7 2 7 0 7\n",
      " 2 7 7 8 7 2 7 5 2 5 4 2 0 7 4 0 7 2 7 7 7 7 2 7 7 4 4 3 4 7 2 8 4 4 2 0 7\n",
      " 4 0 0 7 3 2 0 7 8 7 5 0 7 4 2 3 7 7 2 7 7 8 7 7 8 7 2 4 4 7 2 4 3 8 8 2 0\n",
      " 0 7 7 4 2 7 4 5 0 7 7 7 4 7 7 7 3 2 4 7 7 4 3 7 7 7 7 8 0 4 7 4 7 3 7 0 3\n",
      " 7 7 0 0 7 0 7 5 7 3 7 2 2 1 5 0 0 7 7 5 3 0 5 7 4 2 7 4 0 7 7 5 4 7 2 7 7\n",
      " 3 4 1 7 7 2 7 7 7 2 4 2 7 7 4 7 7 7 4 4 7 0 7 4 0 8 2 4 7 7 7 5 8 7 3 7 2\n",
      " 3 7 3 4 7 2 7 5 7 2 2 7 7 8 7 5 0 7 4 2 2 2 2 4 0 7 0 0 7 8 7 7 7 2 4 7 7\n",
      " 8 7 3 7 7 7 7 7 3 7 7 7 7 7 0 4 2 7 0 0 8 7 8 2 2 0 4 2 7 2 7 7 7 0 7 4 7\n",
      " 7 0 7 0 7 1 7 2 7 4 7 7 7 7 7 2 4 4 7 7 7 8 4 0 3 7 7 0 7 4 7 7 7 7 7 5 7\n",
      " 7]\n"
     ]
    }
   ],
   "source": [
    "import torch\n",
    "# device = torch.device(\"cuda\" if torch.cuda.is_available() else \"cpu\")\n",
    "device = \"cpu\"\n",
    "from  experiments_batch import run_all_experiments_save\n",
    "run_all_experiments_save(device)"
   ]
  },
  {
   "cell_type": "code",
   "execution_count": null,
   "metadata": {},
   "outputs": [],
   "source": []
  }
 ],
 "metadata": {
  "kernelspec": {
   "display_name": "Python 3",
   "language": "python",
   "name": "python3"
  },
  "language_info": {
   "codemirror_mode": {
    "name": "ipython",
    "version": 3
   },
   "file_extension": ".py",
   "mimetype": "text/x-python",
   "name": "python",
   "nbconvert_exporter": "python",
   "pygments_lexer": "ipython3",
   "version": "3.8.3"
  }
 },
 "nbformat": 4,
 "nbformat_minor": 4
}
