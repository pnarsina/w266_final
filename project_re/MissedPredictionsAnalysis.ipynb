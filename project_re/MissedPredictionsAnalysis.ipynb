{
 "cells": [
  {
   "cell_type": "markdown",
   "metadata": {
    "id": "n8poVVheu1BM"
   },
   "source": [
    "## Setting up the environment for Colab"
   ]
  },
  {
   "cell_type": "code",
   "execution_count": 45,
   "metadata": {
    "colab": {
     "base_uri": "https://localhost:8080/"
    },
    "executionInfo": {
     "elapsed": 381,
     "status": "ok",
     "timestamp": 1606254292534,
     "user": {
      "displayName": "Valerie Meausoone",
      "photoUrl": "https://lh3.googleusercontent.com/a-/AOh14GhEI3USGoSv9o6JShJGhR2V47o7KYZh-Ya1FgZ6=s64",
      "userId": "13066601150058162597"
     },
     "user_tz": 360
    },
    "id": "UtCAKDvUuv8y",
    "outputId": "c5b1e7ab-eb08-406e-8691-a09f29825e97"
   },
   "outputs": [
    {
     "name": "stdout",
     "output_type": "stream",
     "text": [
      "Drive already mounted at /content/drive; to attempt to forcibly remount, call drive.mount(\"/content/drive\", force_remount=True).\n"
     ]
    }
   ],
   "source": [
    "from google.colab import drive\n",
    "drive.mount('/content/drive')"
   ]
  },
  {
   "cell_type": "code",
   "execution_count": 46,
   "metadata": {
    "colab": {
     "base_uri": "https://localhost:8080/"
    },
    "executionInfo": {
     "elapsed": 555,
     "status": "ok",
     "timestamp": 1606254292715,
     "user": {
      "displayName": "Valerie Meausoone",
      "photoUrl": "https://lh3.googleusercontent.com/a-/AOh14GhEI3USGoSv9o6JShJGhR2V47o7KYZh-Ya1FgZ6=s64",
      "userId": "13066601150058162597"
     },
     "user_tz": 360
    },
    "id": "k6Zxln7RuvvR",
    "outputId": "b1552fc4-ad79-4d81-cfa6-6682d7d1ba14"
   },
   "outputs": [
    {
     "name": "stdout",
     "output_type": "stream",
     "text": [
      "/content/drive/.shortcut-targets-by-id/1I3W7Z7rz_YfsjBjX7z4zTzGbr-iKTrmD/w266_final/project_re\n"
     ]
    }
   ],
   "source": [
    "%cd \"/content/drive/My Drive/Colab Notebooks/w266_final/project_re\""
   ]
  },
  {
   "cell_type": "code",
   "execution_count": 1,
   "metadata": {
    "executionInfo": {
     "elapsed": 763,
     "status": "ok",
     "timestamp": 1606254292925,
     "user": {
      "displayName": "Valerie Meausoone",
      "photoUrl": "https://lh3.googleusercontent.com/a-/AOh14GhEI3USGoSv9o6JShJGhR2V47o7KYZh-Ya1FgZ6=s64",
      "userId": "13066601150058162597"
     },
     "user_tz": 360
    },
    "id": "kV2iDTIsus7I"
   },
   "outputs": [],
   "source": [
    "%reload_ext autoreload\n",
    "%autoreload\n",
    "import pickle, os, json\n",
    "import torch\n",
    "from pathlib import Path, PureWindowsPath, PurePosixPath\n",
    "from util.tools import load_config\n",
    "import pandas as pd"
   ]
  },
  {
   "cell_type": "code",
   "execution_count": 2,
   "metadata": {
    "executionInfo": {
     "elapsed": 763,
     "status": "ok",
     "timestamp": 1606254292927,
     "user": {
      "displayName": "Valerie Meausoone",
      "photoUrl": "https://lh3.googleusercontent.com/a-/AOh14GhEI3USGoSv9o6JShJGhR2V47o7KYZh-Ya1FgZ6=s64",
      "userId": "13066601150058162597"
     },
     "user_tz": 360
    },
    "id": "98XoNGYpus7J"
   },
   "outputs": [],
   "source": [
    "# device = torch.device(\"cuda\" if torch.cuda.is_available() else \"cpu\")\n",
    "device = \"cpu\""
   ]
  },
  {
   "cell_type": "code",
   "execution_count": 3,
   "metadata": {
    "executionInfo": {
     "elapsed": 762,
     "status": "ok",
     "timestamp": 1606254292927,
     "user": {
      "displayName": "Valerie Meausoone",
      "photoUrl": "https://lh3.googleusercontent.com/a-/AOh14GhEI3USGoSv9o6JShJGhR2V47o7KYZh-Ya1FgZ6=s64",
      "userId": "13066601150058162597"
     },
     "user_tz": 360
    },
    "id": "RjDSGzfZus7J"
   },
   "outputs": [],
   "source": [
    "config_folder = \"config/\"\n",
    "config = load_config(config_folder)"
   ]
  },
  {
   "cell_type": "code",
   "execution_count": 4,
   "metadata": {
    "colab": {
     "base_uri": "https://localhost:8080/",
     "height": 1000
    },
    "executionInfo": {
     "elapsed": 1218,
     "status": "ok",
     "timestamp": 1606254293389,
     "user": {
      "displayName": "Valerie Meausoone",
      "photoUrl": "https://lh3.googleusercontent.com/a-/AOh14GhEI3USGoSv9o6JShJGhR2V47o7KYZh-Ya1FgZ6=s64",
      "userId": "13066601150058162597"
     },
     "user_tz": 360
    },
    "id": "kGQLznIFus7J",
    "outputId": "3a84b021-ed7c-487d-fc86-d664d8b10e92"
   },
   "outputs": [
    {
     "name": "stdout",
     "output_type": "stream",
     "text": [
      "reports\\re\\test_results_2020-11-23 05_43_56_151740.pkl\n",
      "reports\\re\\test_results_2020-11-23 05_49_44_036175.pkl\n",
      "reports\\re\\test_results_2020-11-23 05_55_31_646110.pkl\n",
      "reports\\re\\test_results_2020-11-23 06_01_19_939455.pkl\n",
      "reports\\re\\test_results_2020-11-23 06_06_32_040659.pkl\n",
      "reports\\re\\test_results_2020-11-23 06_11_44_159352.pkl\n",
      "reports\\re\\test_results_2020-11-23 06_16_56_819055.pkl\n",
      "reports\\re\\test_results_2020-11-23 06_22_08_922387.pkl\n",
      "reports\\re\\test_results_2020-11-23 06_27_21_059745.pkl\n",
      "reports\\re\\test_results_2020-11-23 06_32_33_314245.pkl\n",
      "reports\\re\\test_results_2020-11-23 06_37_45_563271.pkl\n",
      "reports\\re\\test_results_2020-11-23 06_42_57_822165.pkl\n",
      "reports\\re\\test_results_2020-11-23 06_47_57_231734.pkl\n",
      "reports\\re\\test_results_2020-11-23 06_52_55_145775.pkl\n",
      "reports\\re\\test_results_2020-11-23 06_57_53_117925.pkl\n",
      "reports\\re\\test_results_2020-11-23 07_02_51_012135.pkl\n",
      "reports\\re\\test_results_2020-11-23 07_07_48_929393.pkl\n",
      "reports\\re\\test_results_2020-11-23 07_12_46_821315.pkl\n",
      "reports\\re\\test_results_2020-11-23 07_17_45_101072.pkl\n",
      "reports\\re\\test_results_2020-11-23 23_37_09_686026.pkl\n",
      "reports\\re\\test_results_2020-11-23 23_42_24_062586.pkl\n",
      "reports\\re\\test_results_2020-11-23 23_47_22_343763.pkl\n",
      "reports\\re\\test_results_2020-11-23 23_52_20_571355.pkl\n",
      "reports\\re\\test_results_2020-11-23 23_58_09_022516.pkl\n",
      "reports\\re\\test_results_2020-11-24 00_06_54_447780.pkl\n",
      "reports\\re\\test_results_2020-11-24 00_16_28_994579.pkl\n",
      "reports\\re\\test_results_2020-11-24 00_26_02_472202.pkl\n",
      "reports\\re\\test_results_2020-11-24 00_34_30_309222.pkl\n",
      "reports\\re\\test_results_2020-11-24 00_42_57_471389.pkl\n",
      "reports\\re\\test_results_2020-11-24 00_51_29_596686.pkl\n",
      "reports\\re\\test_results_2020-11-24 00_59_57_098431.pkl\n",
      "reports\\re\\test_results_2020-11-24 01_08_25_264470.pkl\n",
      "reports\\re\\test_results_2020-11-24 01_16_53_428151.pkl\n",
      "reports\\re\\test_results_2020-11-24 01_25_21_589383.pkl\n",
      "reports\\re\\test_results_2020-11-24 01_33_48_911496.pkl\n",
      "reports\\re\\test_results_2020-11-24 01_41_29_859898.pkl\n",
      "reports\\re\\test_results_2020-11-24 01_49_12_077169.pkl\n",
      "reports\\re\\test_results_2020-11-24 01_56_52_866813.pkl\n",
      "reports\\re\\test_results_2020-11-24 02_04_34_857470.pkl\n",
      "reports\\re\\test_results_2020-11-24 02_12_15_947083.pkl\n",
      "reports\\re\\test_results_2020-11-24 04_12_31_603527.pkl\n",
      "reports\\re\\test_results_2020-11-24 04_18_19_527945.pkl\n",
      "reports\\re\\test_results_2020-11-25 05_04_26_508254.pkl\n",
      "reports\\re\\test_results_2020-11-25 05_11_14_808756.pkl\n"
     ]
    },
    {
     "data": {
      "text/html": [
       "<div>\n",
       "<style scoped>\n",
       "    .dataframe tbody tr th:only-of-type {\n",
       "        vertical-align: middle;\n",
       "    }\n",
       "\n",
       "    .dataframe tbody tr th {\n",
       "        vertical-align: top;\n",
       "    }\n",
       "\n",
       "    .dataframe thead th {\n",
       "        text-align: right;\n",
       "    }\n",
       "</style>\n",
       "<table border=\"1\" class=\"dataframe\">\n",
       "  <thead>\n",
       "    <tr style=\"text-align: right;\">\n",
       "      <th></th>\n",
       "      <th>file_name</th>\n",
       "      <th>model_name</th>\n",
       "      <th>Predicted</th>\n",
       "      <th>True</th>\n",
       "      <th>input</th>\n",
       "    </tr>\n",
       "  </thead>\n",
       "  <tbody>\n",
       "    <tr>\n",
       "      <th>0</th>\n",
       "      <td>reports\\re\\test_results_2020-11-23 05_43_56_151740.pkl</td>\n",
       "      <td>outputs\\re\\BERT_Sequence2020-11-16 05_43_28_786014_bin</td>\n",
       "      <td>5</td>\n",
       "      <td>1</td>\n",
       "      <td>[CLS] In ##sul ##in Breakfast and Bed ##time - O ##B ##J _ B N ##P ##H O ##B ##J _ E 10 Units S ##U ##B _ B Fin ##gers ##tick S ##U ##B _ E before meals and bed - cover with re ##gu ##ls ##r sliding scale In ##sul ##in SC S ##lid ##ing Scale Brea...</td>\n",
       "    </tr>\n",
       "    <tr>\n",
       "      <th>1</th>\n",
       "      <td>reports\\re\\test_results_2020-11-23 05_43_56_151740.pkl</td>\n",
       "      <td>outputs\\re\\BERT_Sequence2020-11-16 05_43_28_786014_bin</td>\n",
       "      <td>2</td>\n",
       "      <td>8</td>\n",
       "      <td>[CLS] D ##IS ##CH ##AR ##GE ME ##DI ##CA ##TI ##ON ##S : F ##lut ##ica ##son ##e Sol ##u - Me ##dr ##ol 250 / 50 m ##c ##g disk b . i . d . , t ##iot ##rop ##ium br ##omi ##de 18 m ##c ##g capsule with in ##hala ##tion device daily , _ _ _ _ _ _ ...</td>\n",
       "    </tr>\n",
       "    <tr>\n",
       "      <th>2</th>\n",
       "      <td>reports\\re\\test_results_2020-11-23 05_43_56_151740.pkl</td>\n",
       "      <td>outputs\\re\\BERT_Sequence2020-11-16 05_43_28_786014_bin</td>\n",
       "      <td>2</td>\n",
       "      <td>8</td>\n",
       "      <td>[CLS] Release 24 h ##r - 1 ( One ) Cap ##sul ##e ( s ) by mouth twice a day F ##OL ##IC AC ##ID - ( Do ##se adjustment - no new R ##x ) - 1 mg Table ##t - 1 ( One ) Table ##t ( s ) by mouth once a day H ##Y ##DR ##OM ##OR ##P ##H ##ON ##E - 2 mg ...</td>\n",
       "    </tr>\n",
       "    <tr>\n",
       "      <th>3</th>\n",
       "      <td>reports\\re\\test_results_2020-11-23 05_43_56_151740.pkl</td>\n",
       "      <td>outputs\\re\\BERT_Sequence2020-11-16 05_43_28_786014_bin</td>\n",
       "      <td>5</td>\n",
       "      <td>1</td>\n",
       "      <td>[CLS] Pat ##ient kept N ##PO , T ##P ##N started , a ##cy ##c ##lov ##ir , c ##ef ##ep ##ime , and O ##B ##J _ B f ##ent ##any ##l O ##B ##J _ E S ##U ##B _ B PC ##A S ##U ##B _ E . [SEP] [PAD] [PAD] [PAD] [PAD] [PAD] [PAD] [PAD] [PAD] [PAD] [PAD...</td>\n",
       "    </tr>\n",
       "    <tr>\n",
       "      <th>4</th>\n",
       "      <td>reports\\re\\test_results_2020-11-23 05_43_56_151740.pkl</td>\n",
       "      <td>outputs\\re\\BERT_Sequence2020-11-16 05_43_28_786014_bin</td>\n",
       "      <td>5</td>\n",
       "      <td>6</td>\n",
       "      <td>[CLS] O ##B ##J _ B B ##isa ##co ##dy ##l O ##B ##J _ E 5 mg S ##U ##B _ B Table ##t , Del ##ay ##ed Release ( E . C . ) S ##U ##B _ E [SEP] [PAD] [PAD] [PAD] [PAD] [PAD] [PAD] [PAD] [PAD] [PAD] [PAD] [PAD] [PAD] [PAD] [PAD] [PAD] [PAD] [PAD] [PA...</td>\n",
       "    </tr>\n",
       "    <tr>\n",
       "      <th>...</th>\n",
       "      <td>...</td>\n",
       "      <td>...</td>\n",
       "      <td>...</td>\n",
       "      <td>...</td>\n",
       "      <td>...</td>\n",
       "    </tr>\n",
       "    <tr>\n",
       "      <th>34486</th>\n",
       "      <td>reports\\re\\test_results_2020-11-25 05_11_14_808756.pkl</td>\n",
       "      <td>outputs\\re\\BioBERT_fc2020-11-25 04_15_53_420251_bin</td>\n",
       "      <td>4</td>\n",
       "      <td>3</td>\n",
       "      <td>[CLS] You may also take O ##B ##J _ B ace ##tam ##ino ##phe ##n ( Ty ##len ##ol ) O ##B ##J _ E as directed , but do not exceed 4000 mg in S ##U ##B _ B one day S ##U ##B _ E . [SEP] [PAD] [PAD] [PAD] [PAD] [PAD] [PAD] [PAD] [PAD] [PAD] [PAD] [PA...</td>\n",
       "    </tr>\n",
       "    <tr>\n",
       "      <th>34487</th>\n",
       "      <td>reports\\re\\test_results_2020-11-25 05_11_14_808756.pkl</td>\n",
       "      <td>outputs\\re\\BioBERT_fc2020-11-25 04_15_53_420251_bin</td>\n",
       "      <td>3</td>\n",
       "      <td>6</td>\n",
       "      <td>[CLS] Me ##dication ##s on Ad ##mission : AL ##B ##UT ##ER ##OL S ##U ##LF ##AT ##E - 0 . 63 mg / 3 m ##L Sol ##ution for N ##eb ##uli ##zation - [ * * 11 - 24 * * ] Sol ##ution ( s ) inhaled every 4 - 6 hours as needed for short ##ness of breath...</td>\n",
       "    </tr>\n",
       "    <tr>\n",
       "      <th>34488</th>\n",
       "      <td>reports\\re\\test_results_2020-11-25 05_11_14_808756.pkl</td>\n",
       "      <td>outputs\\re\\BioBERT_fc2020-11-25 04_15_53_420251_bin</td>\n",
       "      <td>1</td>\n",
       "      <td>5</td>\n",
       "      <td>[CLS] O ##B ##J _ B I ##pra ##tro ##pi ##um - Al ##but ##ero ##l O ##B ##J _ E 0 . 5 - 2 . 5 mg / 3 m ##L Sol ##ution for N ##eb ##uli ##zation [ * * Doctor Last Name * * ] : One ( 1 ) S ##U ##B _ B In ##hala ##tion S ##U ##B _ E four times a day...</td>\n",
       "    </tr>\n",
       "    <tr>\n",
       "      <th>34489</th>\n",
       "      <td>reports\\re\\test_results_2020-11-25 05_11_14_808756.pkl</td>\n",
       "      <td>outputs\\re\\BioBERT_fc2020-11-25 04_15_53_420251_bin</td>\n",
       "      <td>8</td>\n",
       "      <td>0</td>\n",
       "      <td>[CLS] Per ##tinent Results : [ * * 211 ##8 - 4 - 18 * * ] 04 : 35 ##AM W ##BC - 9 . 7 RB ##C - 2 . 73 * H ##GB - 7 . 7 * HC ##T - 22 . 4 * MC ##V - 83 MC ##H - 28 . 4 MC ##HC - 34 . 2 R ##D ##W - 14 . 6 [ * * 211 ##8 - 4 - 18 * * ] 04 : 35 ##AM H...</td>\n",
       "    </tr>\n",
       "    <tr>\n",
       "      <th>34490</th>\n",
       "      <td>reports\\re\\test_results_2020-11-25 05_11_14_808756.pkl</td>\n",
       "      <td>outputs\\re\\BioBERT_fc2020-11-25 04_15_53_420251_bin</td>\n",
       "      <td>5</td>\n",
       "      <td>1</td>\n",
       "      <td>[CLS] 2 ) Your lip ##itor was increased to 80 ##m ##g daily 3 ) You will be receiving daily S ##U ##B _ B injection ##s S ##U ##B _ E of O ##B ##J _ B love ##no ##x O ##B ##J _ E , a blood thinner , to prevent blood c ##lot ##s after your hip sur...</td>\n",
       "    </tr>\n",
       "  </tbody>\n",
       "</table>\n",
       "<p>34491 rows × 5 columns</p>\n",
       "</div>"
      ],
      "text/plain": [
       "                                                    file_name  \\\n",
       "0      reports\\re\\test_results_2020-11-23 05_43_56_151740.pkl   \n",
       "1      reports\\re\\test_results_2020-11-23 05_43_56_151740.pkl   \n",
       "2      reports\\re\\test_results_2020-11-23 05_43_56_151740.pkl   \n",
       "3      reports\\re\\test_results_2020-11-23 05_43_56_151740.pkl   \n",
       "4      reports\\re\\test_results_2020-11-23 05_43_56_151740.pkl   \n",
       "...                                                       ...   \n",
       "34486  reports\\re\\test_results_2020-11-25 05_11_14_808756.pkl   \n",
       "34487  reports\\re\\test_results_2020-11-25 05_11_14_808756.pkl   \n",
       "34488  reports\\re\\test_results_2020-11-25 05_11_14_808756.pkl   \n",
       "34489  reports\\re\\test_results_2020-11-25 05_11_14_808756.pkl   \n",
       "34490  reports\\re\\test_results_2020-11-25 05_11_14_808756.pkl   \n",
       "\n",
       "                                                   model_name  Predicted  \\\n",
       "0      outputs\\re\\BERT_Sequence2020-11-16 05_43_28_786014_bin          5   \n",
       "1      outputs\\re\\BERT_Sequence2020-11-16 05_43_28_786014_bin          2   \n",
       "2      outputs\\re\\BERT_Sequence2020-11-16 05_43_28_786014_bin          2   \n",
       "3      outputs\\re\\BERT_Sequence2020-11-16 05_43_28_786014_bin          5   \n",
       "4      outputs\\re\\BERT_Sequence2020-11-16 05_43_28_786014_bin          5   \n",
       "...                                                       ...        ...   \n",
       "34486     outputs\\re\\BioBERT_fc2020-11-25 04_15_53_420251_bin          4   \n",
       "34487     outputs\\re\\BioBERT_fc2020-11-25 04_15_53_420251_bin          3   \n",
       "34488     outputs\\re\\BioBERT_fc2020-11-25 04_15_53_420251_bin          1   \n",
       "34489     outputs\\re\\BioBERT_fc2020-11-25 04_15_53_420251_bin          8   \n",
       "34490     outputs\\re\\BioBERT_fc2020-11-25 04_15_53_420251_bin          5   \n",
       "\n",
       "       True  \\\n",
       "0         1   \n",
       "1         8   \n",
       "2         8   \n",
       "3         1   \n",
       "4         6   \n",
       "...     ...   \n",
       "34486     3   \n",
       "34487     6   \n",
       "34488     5   \n",
       "34489     0   \n",
       "34490     1   \n",
       "\n",
       "                                                                                                                                                                                                                                                           input  \n",
       "0      [CLS] In ##sul ##in Breakfast and Bed ##time - O ##B ##J _ B N ##P ##H O ##B ##J _ E 10 Units S ##U ##B _ B Fin ##gers ##tick S ##U ##B _ E before meals and bed - cover with re ##gu ##ls ##r sliding scale In ##sul ##in SC S ##lid ##ing Scale Brea...  \n",
       "1      [CLS] D ##IS ##CH ##AR ##GE ME ##DI ##CA ##TI ##ON ##S : F ##lut ##ica ##son ##e Sol ##u - Me ##dr ##ol 250 / 50 m ##c ##g disk b . i . d . , t ##iot ##rop ##ium br ##omi ##de 18 m ##c ##g capsule with in ##hala ##tion device daily , _ _ _ _ _ _ ...  \n",
       "2      [CLS] Release 24 h ##r - 1 ( One ) Cap ##sul ##e ( s ) by mouth twice a day F ##OL ##IC AC ##ID - ( Do ##se adjustment - no new R ##x ) - 1 mg Table ##t - 1 ( One ) Table ##t ( s ) by mouth once a day H ##Y ##DR ##OM ##OR ##P ##H ##ON ##E - 2 mg ...  \n",
       "3      [CLS] Pat ##ient kept N ##PO , T ##P ##N started , a ##cy ##c ##lov ##ir , c ##ef ##ep ##ime , and O ##B ##J _ B f ##ent ##any ##l O ##B ##J _ E S ##U ##B _ B PC ##A S ##U ##B _ E . [SEP] [PAD] [PAD] [PAD] [PAD] [PAD] [PAD] [PAD] [PAD] [PAD] [PAD...  \n",
       "4      [CLS] O ##B ##J _ B B ##isa ##co ##dy ##l O ##B ##J _ E 5 mg S ##U ##B _ B Table ##t , Del ##ay ##ed Release ( E . C . ) S ##U ##B _ E [SEP] [PAD] [PAD] [PAD] [PAD] [PAD] [PAD] [PAD] [PAD] [PAD] [PAD] [PAD] [PAD] [PAD] [PAD] [PAD] [PAD] [PAD] [PA...  \n",
       "...                                                                                                                                                                                                                                                          ...  \n",
       "34486  [CLS] You may also take O ##B ##J _ B ace ##tam ##ino ##phe ##n ( Ty ##len ##ol ) O ##B ##J _ E as directed , but do not exceed 4000 mg in S ##U ##B _ B one day S ##U ##B _ E . [SEP] [PAD] [PAD] [PAD] [PAD] [PAD] [PAD] [PAD] [PAD] [PAD] [PAD] [PA...  \n",
       "34487  [CLS] Me ##dication ##s on Ad ##mission : AL ##B ##UT ##ER ##OL S ##U ##LF ##AT ##E - 0 . 63 mg / 3 m ##L Sol ##ution for N ##eb ##uli ##zation - [ * * 11 - 24 * * ] Sol ##ution ( s ) inhaled every 4 - 6 hours as needed for short ##ness of breath...  \n",
       "34488  [CLS] O ##B ##J _ B I ##pra ##tro ##pi ##um - Al ##but ##ero ##l O ##B ##J _ E 0 . 5 - 2 . 5 mg / 3 m ##L Sol ##ution for N ##eb ##uli ##zation [ * * Doctor Last Name * * ] : One ( 1 ) S ##U ##B _ B In ##hala ##tion S ##U ##B _ E four times a day...  \n",
       "34489  [CLS] Per ##tinent Results : [ * * 211 ##8 - 4 - 18 * * ] 04 : 35 ##AM W ##BC - 9 . 7 RB ##C - 2 . 73 * H ##GB - 7 . 7 * HC ##T - 22 . 4 * MC ##V - 83 MC ##H - 28 . 4 MC ##HC - 34 . 2 R ##D ##W - 14 . 6 [ * * 211 ##8 - 4 - 18 * * ] 04 : 35 ##AM H...  \n",
       "34490  [CLS] 2 ) Your lip ##itor was increased to 80 ##m ##g daily 3 ) You will be receiving daily S ##U ##B _ B injection ##s S ##U ##B _ E of O ##B ##J _ B love ##no ##x O ##B ##J _ E , a blood thinner , to prevent blood c ##lot ##s after your hip sur...  \n",
       "\n",
       "[34491 rows x 5 columns]"
      ]
     },
     "execution_count": 4,
     "metadata": {},
     "output_type": "execute_result"
    }
   ],
   "source": [
    "reports_folder_name = config.programsettings.REPORTS_DIR\n",
    "data_folder = Path(reports_folder_name)\n",
    "list_results_files = list(data_folder.glob('**/test_results*.pkl'))\n",
    "\n",
    "all_results = []\n",
    "for results_file in list_results_files:\n",
    "    print(results_file)\n",
    "    with open(results_file,\"rb\") as f:\n",
    "        lst_results = pickle.load(f)\n",
    "    for results in lst_results:\n",
    "        all_results.append([results_file, results[0], results[1], results[2], results[3] ])\n",
    "\n",
    "columns = ['file_name','model_name','Predicted', 'True', 'input']\n",
    "pd.options.display.max_colwidth = 250\n",
    "df_results = pd.DataFrame(all_results, columns = columns)\n",
    "df_results\n"
   ]
  },
  {
   "cell_type": "code",
   "execution_count": 5,
   "metadata": {
    "colab": {
     "base_uri": "https://localhost:8080/",
     "height": 759
    },
    "executionInfo": {
     "elapsed": 1213,
     "status": "ok",
     "timestamp": 1606254293390,
     "user": {
      "displayName": "Valerie Meausoone",
      "photoUrl": "https://lh3.googleusercontent.com/a-/AOh14GhEI3USGoSv9o6JShJGhR2V47o7KYZh-Ya1FgZ6=s64",
      "userId": "13066601150058162597"
     },
     "user_tz": 360
    },
    "id": "9bi6Htk5us7K",
    "outputId": "f8488e44-8c3a-4e36-f88c-3e0bc504e6be"
   },
   "outputs": [
    {
     "data": {
      "text/html": [
       "<div>\n",
       "<style scoped>\n",
       "    .dataframe tbody tr th:only-of-type {\n",
       "        vertical-align: middle;\n",
       "    }\n",
       "\n",
       "    .dataframe tbody tr th {\n",
       "        vertical-align: top;\n",
       "    }\n",
       "\n",
       "    .dataframe thead th {\n",
       "        text-align: right;\n",
       "    }\n",
       "</style>\n",
       "<table border=\"1\" class=\"dataframe\">\n",
       "  <thead>\n",
       "    <tr style=\"text-align: right;\">\n",
       "      <th></th>\n",
       "      <th>file_name</th>\n",
       "      <th>model_name</th>\n",
       "      <th>Predicted</th>\n",
       "      <th>True</th>\n",
       "      <th>input</th>\n",
       "    </tr>\n",
       "  </thead>\n",
       "  <tbody>\n",
       "    <tr>\n",
       "      <th>5</th>\n",
       "      <td>reports\\re\\test_results_2020-11-23 05_43_56_151740.pkl</td>\n",
       "      <td>outputs\\re\\BERT_Sequence2020-11-16 05_43_28_786014_bin</td>\n",
       "      <td>0</td>\n",
       "      <td>7</td>\n",
       "      <td>[CLS] - * Given patient ' s significant S ##U ##B _ B re ##tro ##per ##ito ##nea ##l bleed S ##U ##B _ E with h ##ct drop and h ##y ##pot ##ens ##ion , the patient ' s O ##B ##J _ B co ##uma ##din O ##B ##J _ E , as ##pi ##rin and p ##lav ##ix we...</td>\n",
       "    </tr>\n",
       "    <tr>\n",
       "      <th>6</th>\n",
       "      <td>reports\\re\\test_results_2020-11-23 05_43_56_151740.pkl</td>\n",
       "      <td>outputs\\re\\BERT_Sequence2020-11-16 05_43_28_786014_bin</td>\n",
       "      <td>0</td>\n",
       "      <td>7</td>\n",
       "      <td>[CLS] This medication can cause S ##U ##B _ B con ##st ##ip ##ation S ##U ##B _ E , so you should drink plenty of water daily and take a stool soft ##ener ( e . g . , co ##lace ) as needed to prevent this side effect . As your pain improve ##s , ...</td>\n",
       "    </tr>\n",
       "    <tr>\n",
       "      <th>10</th>\n",
       "      <td>reports\\re\\test_results_2020-11-23 05_43_56_151740.pkl</td>\n",
       "      <td>outputs\\re\\BERT_Sequence2020-11-16 05_43_28_786014_bin</td>\n",
       "      <td>8</td>\n",
       "      <td>7</td>\n",
       "      <td>[CLS] Per ##tinent Results : [ * * 214 ##4 - 8 - 10 * * ] 05 : 35 ##AM B ##L ##O ##OD W ##BC - 6 . 1 RB ##C - 3 . 45 * H ##g ##b - 9 . 4 * H ##ct - 28 . 9 * MC ##V - 84 MC ##H - 27 . 3 MC ##HC - 32 . 6 R ##D ##W - 15 . 2 P ##lt C ##t - 300 [ * * ...</td>\n",
       "    </tr>\n",
       "    <tr>\n",
       "      <th>17</th>\n",
       "      <td>reports\\re\\test_results_2020-11-23 05_43_56_151740.pkl</td>\n",
       "      <td>outputs\\re\\BERT_Sequence2020-11-16 05_43_28_786014_bin</td>\n",
       "      <td>0</td>\n",
       "      <td>7</td>\n",
       "      <td>[CLS] Of note her S ##U ##B _ B e ##ff ##usion S ##U ##B _ E ##s persisted despite anti ##biotic therapy and O ##B ##J _ B NSA ##ID O ##B ##J _ E therapy . [SEP] [PAD] [PAD] [PAD] [PAD] [PAD] [PAD] [PAD] [PAD] [PAD] [PAD] [PAD] [PAD] [PAD] [PAD] ...</td>\n",
       "    </tr>\n",
       "    <tr>\n",
       "      <th>19</th>\n",
       "      <td>reports\\re\\test_results_2020-11-23 05_43_56_151740.pkl</td>\n",
       "      <td>outputs\\re\\BERT_Sequence2020-11-16 05_43_28_786014_bin</td>\n",
       "      <td>0</td>\n",
       "      <td>7</td>\n",
       "      <td>[CLS] Pat ##ient additionally expressed concern re : potential side effects re : S ##U ##B _ B Ray ##na ##ud ' s S ##U ##B _ E and beta blockade . Pat ##ient experienced O ##B ##J _ B Met ##op ##rol ##ol O ##B ##J _ E related G ##I upset / d ##ys...</td>\n",
       "    </tr>\n",
       "    <tr>\n",
       "      <th>...</th>\n",
       "      <td>...</td>\n",
       "      <td>...</td>\n",
       "      <td>...</td>\n",
       "      <td>...</td>\n",
       "      <td>...</td>\n",
       "    </tr>\n",
       "    <tr>\n",
       "      <th>34459</th>\n",
       "      <td>reports\\re\\test_results_2020-11-25 05_11_14_808756.pkl</td>\n",
       "      <td>outputs\\re\\BioBERT_fc2020-11-25 04_15_53_420251_bin</td>\n",
       "      <td>0</td>\n",
       "      <td>7</td>\n",
       "      <td>[CLS] \" \" \" S ##U ##B _ B r ##ash S ##U ##B _ E \" \" - in MI ##CU p ##t became pink throughout the body / face . After 5 days c ##lind ##a was stopped and p ##t was switched over to Di ##c ##lo ##x P ##O and sent home with P ##O O ##B ##J _ B anti...</td>\n",
       "    </tr>\n",
       "    <tr>\n",
       "      <th>34461</th>\n",
       "      <td>reports\\re\\test_results_2020-11-25 05_11_14_808756.pkl</td>\n",
       "      <td>outputs\\re\\BioBERT_fc2020-11-25 04_15_53_420251_bin</td>\n",
       "      <td>0</td>\n",
       "      <td>7</td>\n",
       "      <td>[CLS] Return ##s with near s ##ync ##op ##al episodes and S ##U ##B _ B sin ##us bra ##dy ##card ##ia S ##U ##B _ E , likely medication related . Disc ##har ##ged on [ * * 2 - 15 * * ] on O ##B ##J _ B Do ##fe ##tel ##ide O ##B ##J _ E , Card ##i...</td>\n",
       "    </tr>\n",
       "    <tr>\n",
       "      <th>34463</th>\n",
       "      <td>reports\\re\\test_results_2020-11-25 05_11_14_808756.pkl</td>\n",
       "      <td>outputs\\re\\BioBERT_fc2020-11-25 04_15_53_420251_bin</td>\n",
       "      <td>0</td>\n",
       "      <td>7</td>\n",
       "      <td>[CLS] BR ##IE ##F S ##UM ##MA ##R ##Y OF H ##OS ##PI ##TA ##L CO ##UR ##SE : The patient was admitted for his S ##U ##B _ B acute re ##nal ins ##uff ##iciency S ##U ##B _ E . His O ##B ##J _ B Las ##ix O ##B ##J _ E and his Al ##da ##cton ##e wer...</td>\n",
       "    </tr>\n",
       "    <tr>\n",
       "      <th>34479</th>\n",
       "      <td>reports\\re\\test_results_2020-11-25 05_11_14_808756.pkl</td>\n",
       "      <td>outputs\\re\\BioBERT_fc2020-11-25 04_15_53_420251_bin</td>\n",
       "      <td>0</td>\n",
       "      <td>7</td>\n",
       "      <td>[CLS] H / o O ##B ##J _ B as ##pi ##rin O ##B ##J _ E S ##U ##B _ B all ##er ##gy S ##U ##B _ E - p ##t underwent O ##B ##J _ B as ##pi ##rin O ##B ##J _ E des ##ens ##iti ##zation the night before his cat ##he ##ter ##ization . [SEP] [PAD] [PAD]...</td>\n",
       "    </tr>\n",
       "    <tr>\n",
       "      <th>34483</th>\n",
       "      <td>reports\\re\\test_results_2020-11-25 05_11_14_808756.pkl</td>\n",
       "      <td>outputs\\re\\BioBERT_fc2020-11-25 04_15_53_420251_bin</td>\n",
       "      <td>0</td>\n",
       "      <td>7</td>\n",
       "      <td>[CLS] Past Medical History : * Mixed connect ##ive tissue disease * Re ##current finger o ##ste ##omy ##eli ##tis - - [ * * First Name ##5 ( Name ##P ##att ##ern ##1 ) 56 ##4 * * ] [ * * Last Name ( Name ##P ##att ##ern ##1 ) 45 ##29 ##0 * * ] [ ...</td>\n",
       "    </tr>\n",
       "  </tbody>\n",
       "</table>\n",
       "<p>7491 rows × 5 columns</p>\n",
       "</div>"
      ],
      "text/plain": [
       "                                                    file_name  \\\n",
       "5      reports\\re\\test_results_2020-11-23 05_43_56_151740.pkl   \n",
       "6      reports\\re\\test_results_2020-11-23 05_43_56_151740.pkl   \n",
       "10     reports\\re\\test_results_2020-11-23 05_43_56_151740.pkl   \n",
       "17     reports\\re\\test_results_2020-11-23 05_43_56_151740.pkl   \n",
       "19     reports\\re\\test_results_2020-11-23 05_43_56_151740.pkl   \n",
       "...                                                       ...   \n",
       "34459  reports\\re\\test_results_2020-11-25 05_11_14_808756.pkl   \n",
       "34461  reports\\re\\test_results_2020-11-25 05_11_14_808756.pkl   \n",
       "34463  reports\\re\\test_results_2020-11-25 05_11_14_808756.pkl   \n",
       "34479  reports\\re\\test_results_2020-11-25 05_11_14_808756.pkl   \n",
       "34483  reports\\re\\test_results_2020-11-25 05_11_14_808756.pkl   \n",
       "\n",
       "                                                   model_name  Predicted  \\\n",
       "5      outputs\\re\\BERT_Sequence2020-11-16 05_43_28_786014_bin          0   \n",
       "6      outputs\\re\\BERT_Sequence2020-11-16 05_43_28_786014_bin          0   \n",
       "10     outputs\\re\\BERT_Sequence2020-11-16 05_43_28_786014_bin          8   \n",
       "17     outputs\\re\\BERT_Sequence2020-11-16 05_43_28_786014_bin          0   \n",
       "19     outputs\\re\\BERT_Sequence2020-11-16 05_43_28_786014_bin          0   \n",
       "...                                                       ...        ...   \n",
       "34459     outputs\\re\\BioBERT_fc2020-11-25 04_15_53_420251_bin          0   \n",
       "34461     outputs\\re\\BioBERT_fc2020-11-25 04_15_53_420251_bin          0   \n",
       "34463     outputs\\re\\BioBERT_fc2020-11-25 04_15_53_420251_bin          0   \n",
       "34479     outputs\\re\\BioBERT_fc2020-11-25 04_15_53_420251_bin          0   \n",
       "34483     outputs\\re\\BioBERT_fc2020-11-25 04_15_53_420251_bin          0   \n",
       "\n",
       "       True  \\\n",
       "5         7   \n",
       "6         7   \n",
       "10        7   \n",
       "17        7   \n",
       "19        7   \n",
       "...     ...   \n",
       "34459     7   \n",
       "34461     7   \n",
       "34463     7   \n",
       "34479     7   \n",
       "34483     7   \n",
       "\n",
       "                                                                                                                                                                                                                                                           input  \n",
       "5      [CLS] - * Given patient ' s significant S ##U ##B _ B re ##tro ##per ##ito ##nea ##l bleed S ##U ##B _ E with h ##ct drop and h ##y ##pot ##ens ##ion , the patient ' s O ##B ##J _ B co ##uma ##din O ##B ##J _ E , as ##pi ##rin and p ##lav ##ix we...  \n",
       "6      [CLS] This medication can cause S ##U ##B _ B con ##st ##ip ##ation S ##U ##B _ E , so you should drink plenty of water daily and take a stool soft ##ener ( e . g . , co ##lace ) as needed to prevent this side effect . As your pain improve ##s , ...  \n",
       "10     [CLS] Per ##tinent Results : [ * * 214 ##4 - 8 - 10 * * ] 05 : 35 ##AM B ##L ##O ##OD W ##BC - 6 . 1 RB ##C - 3 . 45 * H ##g ##b - 9 . 4 * H ##ct - 28 . 9 * MC ##V - 84 MC ##H - 27 . 3 MC ##HC - 32 . 6 R ##D ##W - 15 . 2 P ##lt C ##t - 300 [ * * ...  \n",
       "17     [CLS] Of note her S ##U ##B _ B e ##ff ##usion S ##U ##B _ E ##s persisted despite anti ##biotic therapy and O ##B ##J _ B NSA ##ID O ##B ##J _ E therapy . [SEP] [PAD] [PAD] [PAD] [PAD] [PAD] [PAD] [PAD] [PAD] [PAD] [PAD] [PAD] [PAD] [PAD] [PAD] ...  \n",
       "19     [CLS] Pat ##ient additionally expressed concern re : potential side effects re : S ##U ##B _ B Ray ##na ##ud ' s S ##U ##B _ E and beta blockade . Pat ##ient experienced O ##B ##J _ B Met ##op ##rol ##ol O ##B ##J _ E related G ##I upset / d ##ys...  \n",
       "...                                                                                                                                                                                                                                                          ...  \n",
       "34459  [CLS] \" \" \" S ##U ##B _ B r ##ash S ##U ##B _ E \" \" - in MI ##CU p ##t became pink throughout the body / face . After 5 days c ##lind ##a was stopped and p ##t was switched over to Di ##c ##lo ##x P ##O and sent home with P ##O O ##B ##J _ B anti...  \n",
       "34461  [CLS] Return ##s with near s ##ync ##op ##al episodes and S ##U ##B _ B sin ##us bra ##dy ##card ##ia S ##U ##B _ E , likely medication related . Disc ##har ##ged on [ * * 2 - 15 * * ] on O ##B ##J _ B Do ##fe ##tel ##ide O ##B ##J _ E , Card ##i...  \n",
       "34463  [CLS] BR ##IE ##F S ##UM ##MA ##R ##Y OF H ##OS ##PI ##TA ##L CO ##UR ##SE : The patient was admitted for his S ##U ##B _ B acute re ##nal ins ##uff ##iciency S ##U ##B _ E . His O ##B ##J _ B Las ##ix O ##B ##J _ E and his Al ##da ##cton ##e wer...  \n",
       "34479  [CLS] H / o O ##B ##J _ B as ##pi ##rin O ##B ##J _ E S ##U ##B _ B all ##er ##gy S ##U ##B _ E - p ##t underwent O ##B ##J _ B as ##pi ##rin O ##B ##J _ E des ##ens ##iti ##zation the night before his cat ##he ##ter ##ization . [SEP] [PAD] [PAD]...  \n",
       "34483  [CLS] Past Medical History : * Mixed connect ##ive tissue disease * Re ##current finger o ##ste ##omy ##eli ##tis - - [ * * First Name ##5 ( Name ##P ##att ##ern ##1 ) 56 ##4 * * ] [ * * Last Name ( Name ##P ##att ##ern ##1 ) 45 ##29 ##0 * * ] [ ...  \n",
       "\n",
       "[7491 rows x 5 columns]"
      ]
     },
     "execution_count": 5,
     "metadata": {},
     "output_type": "execute_result"
    }
   ],
   "source": [
    "df_results[ (df_results[\"True\"] == 7) ]"
   ]
  },
  {
   "cell_type": "code",
   "execution_count": 6,
   "metadata": {
    "colab": {
     "base_uri": "https://localhost:8080/"
    },
    "executionInfo": {
     "elapsed": 1208,
     "status": "ok",
     "timestamp": 1606254293391,
     "user": {
      "displayName": "Valerie Meausoone",
      "photoUrl": "https://lh3.googleusercontent.com/a-/AOh14GhEI3USGoSv9o6JShJGhR2V47o7KYZh-Ya1FgZ6=s64",
      "userId": "13066601150058162597"
     },
     "user_tz": 360
    },
    "id": "Ak8Qn9pCus7K",
    "outputId": "16dcf731-e95d-4411-84c5-94acd3bb13b3"
   },
   "outputs": [
    {
     "data": {
      "text/plain": [
       "Predicted\n",
       "0    7242\n",
       "1      19\n",
       "3      43\n",
       "4       5\n",
       "5      12\n",
       "6       2\n",
       "8     168\n",
       "Name: True, dtype: int64"
      ]
     },
     "execution_count": 6,
     "metadata": {},
     "output_type": "execute_result"
    }
   ],
   "source": [
    "df_results[ (df_results[\"True\"] == 7) ].groupby(\"Predicted\").count()['True']"
   ]
  },
  {
   "cell_type": "code",
   "execution_count": 7,
   "metadata": {
    "colab": {
     "base_uri": "https://localhost:8080/",
     "height": 1000
    },
    "executionInfo": {
     "elapsed": 1445,
     "status": "ok",
     "timestamp": 1606254293635,
     "user": {
      "displayName": "Valerie Meausoone",
      "photoUrl": "https://lh3.googleusercontent.com/a-/AOh14GhEI3USGoSv9o6JShJGhR2V47o7KYZh-Ya1FgZ6=s64",
      "userId": "13066601150058162597"
     },
     "user_tz": 360
    },
    "id": "m4feltcvus7K",
    "outputId": "38e68b9b-d95c-4040-848a-5e5b2cd0db94"
   },
   "outputs": [
    {
     "data": {
      "text/html": [
       "<div>\n",
       "<style scoped>\n",
       "    .dataframe tbody tr th:only-of-type {\n",
       "        vertical-align: middle;\n",
       "    }\n",
       "\n",
       "    .dataframe tbody tr th {\n",
       "        vertical-align: top;\n",
       "    }\n",
       "\n",
       "    .dataframe thead th {\n",
       "        text-align: right;\n",
       "    }\n",
       "</style>\n",
       "<table border=\"1\" class=\"dataframe\">\n",
       "  <thead>\n",
       "    <tr style=\"text-align: right;\">\n",
       "      <th></th>\n",
       "      <th>file_name</th>\n",
       "      <th>model_name</th>\n",
       "      <th>Predicted</th>\n",
       "      <th>True</th>\n",
       "    </tr>\n",
       "    <tr>\n",
       "      <th>input</th>\n",
       "      <th></th>\n",
       "      <th></th>\n",
       "      <th></th>\n",
       "      <th></th>\n",
       "    </tr>\n",
       "  </thead>\n",
       "  <tbody>\n",
       "    <tr>\n",
       "      <th>[CLS] It is unclear if there is a behavioral component to her S ##U ##B _ B u ##rina ##ry retention S ##U ##B _ E . All anti ##cho ##liner ##gic ##s were stopped , including O ##B ##J _ B Co ##gent ##in O ##B ##J _ E , with some improvement in her bladder volumes . [SEP] [PAD] [PAD] [PAD] [PAD] [PAD] [PAD] [PAD] [PAD] [PAD] [PAD] [PAD] [PAD] [PAD] [PAD] [PAD] [PAD] [PAD] [PAD] [PAD] [PAD] [PAD] [PAD] [PAD] [PAD] [PAD] [PAD] [PAD] [PAD] [PAD] [PAD] [PAD] [PAD] [PAD] [PAD] [PAD] [PAD] [PAD] [PAD] [PAD] [PAD] [PAD] [PAD] [PAD] [PAD] [PAD] [PAD] [PAD] [PAD] [PAD] [PAD] [PAD] [PAD] [PAD] [PAD] [PAD] [PAD] [PAD] [PAD] [PAD] [PAD] [PAD] [PAD] [PAD] [PAD] [PAD] [PAD] [PAD] [PAD] [PAD] [PAD] [PAD] [PAD] [PAD] [PAD] [PAD] [PAD] [PAD] [PAD] [PAD] [PAD] [PAD] [PAD] [PAD] [PAD] [PAD] [PAD] [PAD] [PAD] [PAD] [PAD] [PAD] [PAD] [PAD] [PAD] [PAD] [PAD] [PAD] [PAD] [PAD] [PAD] [PAD] [PAD] [PAD] [PAD] [PAD] [PAD] [PAD] [PAD] [PAD] [PAD] [PAD] [PAD] [PAD] [PAD] [PAD] [PAD] [PAD] [PAD] [PAD] [PAD] [PAD] [PAD] [PAD] [PAD] [PAD] [PAD] [PAD] [PAD] [PAD] [PAD] [PAD] [PAD] [PAD] [PAD] [PAD] [PAD] [PAD] [PAD] [PAD] [PAD] [PAD] [PAD] [PAD] [PAD] [PAD] [PAD] [PAD] [PAD] [PAD] [PAD] [PAD] [PAD] [PAD] [PAD] [PAD] [PAD] [PAD] [PAD] [PAD] [PAD] [PAD] [PAD] [PAD] [PAD] [PAD] [PAD] [PAD] [PAD] [PAD] [PAD] [PAD] [PAD] [PAD] [PAD] [PAD] [PAD] [PAD] [PAD] [PAD] [PAD] [PAD] [PAD] [PAD] [PAD] [PAD] [PAD] [PAD] [PAD] [PAD] [PAD] [PAD] [PAD] [PAD] [PAD] [PAD] [PAD]</th>\n",
       "      <td>42</td>\n",
       "      <td>42</td>\n",
       "      <td>42</td>\n",
       "      <td>42</td>\n",
       "    </tr>\n",
       "    <tr>\n",
       "      <th>[CLS] Physical Ex ##am : Vita ##ls : T : 99 . 8 , BP : 149 / 69 , P : 87 , R : 15 , O ##2 : 97 % RA General : So ##m ##no ##lent , moving all ex ##tre ##mit ##ies spontaneous ##ly but is not re ##sp ##ons ##ive to painful stimuli , no acute distress H ##EE ##NT : Well - healed surgical scar on the superior aspect of the head , s ##cle ##ra an ##ict ##eric , pupils 2 ##mm and minimal ##ly re ##sp ##ons ##ive , M ##MM , or ##op ##har ##ynx clear Neck : surgical scar in the left neck , su ##pp ##le , J ##VP not elevated , no LA ##D Lu ##ng ##s : coarse upper air ##way sounds , no w ##hee ##zes , r ##ales , r ##on ##chi C ##V : Regular rate and rhythm , normal S ##1 + S ##2 , no murmurs , rub ##s , gal ##lops Abd ##ome ##n : soft , non - tender , non - di ##sten ##ded , bow ##el sounds present , no re ##bound tender ##ness or guarding , no organ ##ome ##gal ##y Ex ##t : Warm , well per ##fused , 2 + pulses , no club ##bing , c ##yan ##osis or ed ##ema ; 10 ##c ##m sub ##cut ##aneous mass in the left a ##xi ##lla , 6 - 8 ##c ##m sub ##cut ##aneous mass in the left [SEP]</th>\n",
       "      <td>42</td>\n",
       "      <td>42</td>\n",
       "      <td>42</td>\n",
       "      <td>42</td>\n",
       "    </tr>\n",
       "    <tr>\n",
       "      <th>[CLS] In my opinion , the risk of re ##current significant S ##U ##B _ B R ##P bleed S ##U ##B _ E out ##wei ##gh ##s the card ##io ##em ##bolic benefits in the setting of the patient ' s a - fi ##b . The patient can be restart ##ed on as ##pi ##rin + / - O ##B ##J _ B p ##lav ##ix O ##B ##J _ E per PC ##P discretion at future out ##patient PC ##P [ * * Name Initial ( PR ##E ) * * ] . [SEP] [PAD] [PAD] [PAD] [PAD] [PAD] [PAD] [PAD] [PAD] [PAD] [PAD] [PAD] [PAD] [PAD] [PAD] [PAD] [PAD] [PAD] [PAD] [PAD] [PAD] [PAD] [PAD] [PAD] [PAD] [PAD] [PAD] [PAD] [PAD] [PAD] [PAD] [PAD] [PAD] [PAD] [PAD] [PAD] [PAD] [PAD] [PAD] [PAD] [PAD] [PAD] [PAD] [PAD] [PAD] [PAD] [PAD] [PAD] [PAD] [PAD] [PAD] [PAD] [PAD] [PAD] [PAD] [PAD] [PAD] [PAD] [PAD] [PAD] [PAD] [PAD] [PAD] [PAD] [PAD] [PAD] [PAD] [PAD] [PAD] [PAD] [PAD] [PAD] [PAD] [PAD] [PAD] [PAD] [PAD] [PAD] [PAD] [PAD] [PAD] [PAD] [PAD] [PAD] [PAD] [PAD] [PAD] [PAD] [PAD] [PAD] [PAD] [PAD] [PAD] [PAD] [PAD] [PAD] [PAD] [PAD] [PAD] [PAD] [PAD] [PAD] [PAD] [PAD] [PAD] [PAD] [PAD] [PAD] [PAD] [PAD] [PAD] [PAD] [PAD] [PAD] [PAD] [PAD] [PAD] [PAD] [PAD] [PAD] [PAD] [PAD] [PAD] [PAD] [PAD] [PAD] [PAD] [PAD] [PAD] [PAD] [PAD] [PAD] [PAD] [PAD] [PAD] [PAD] [PAD] [PAD] [PAD] [PAD] [PAD] [PAD] [PAD] [PAD] [PAD] [PAD] [PAD] [PAD] [PAD] [PAD] [PAD] [PAD] [PAD] [PAD] [PAD] [PAD] [PAD] [PAD] [PAD] [PAD]</th>\n",
       "      <td>42</td>\n",
       "      <td>42</td>\n",
       "      <td>42</td>\n",
       "      <td>42</td>\n",
       "    </tr>\n",
       "    <tr>\n",
       "      <th>[CLS] Initially S ##U ##B _ B h ##y ##pot ##ens ##ive S ##U ##B _ E on O ##B ##J _ B le ##vo ##phe ##d O ##B ##J _ E and aggressively fluid re ##sus ##ci ##tated . [SEP] [PAD] [PAD] [PAD] [PAD] [PAD] [PAD] [PAD] [PAD] [PAD] [PAD] [PAD] [PAD] [PAD] [PAD] [PAD] [PAD] [PAD] [PAD] [PAD] [PAD] [PAD] [PAD] [PAD] [PAD] [PAD] [PAD] [PAD] [PAD] [PAD] [PAD] [PAD] [PAD] [PAD] [PAD] [PAD] [PAD] [PAD] [PAD] [PAD] [PAD] [PAD] [PAD] [PAD] [PAD] [PAD] [PAD] [PAD] [PAD] [PAD] [PAD] [PAD] [PAD] [PAD] [PAD] [PAD] [PAD] [PAD] [PAD] [PAD] [PAD] [PAD] [PAD] [PAD] [PAD] [PAD] [PAD] [PAD] [PAD] [PAD] [PAD] [PAD] [PAD] [PAD] [PAD] [PAD] [PAD] [PAD] [PAD] [PAD] [PAD] [PAD] [PAD] [PAD] [PAD] [PAD] [PAD] [PAD] [PAD] [PAD] [PAD] [PAD] [PAD] [PAD] [PAD] [PAD] [PAD] [PAD] [PAD] [PAD] [PAD] [PAD] [PAD] [PAD] [PAD] [PAD] [PAD] [PAD] [PAD] [PAD] [PAD] [PAD] [PAD] [PAD] [PAD] [PAD] [PAD] [PAD] [PAD] [PAD] [PAD] [PAD] [PAD] [PAD] [PAD] [PAD] [PAD] [PAD] [PAD] [PAD] [PAD] [PAD] [PAD] [PAD] [PAD] [PAD] [PAD] [PAD] [PAD] [PAD] [PAD] [PAD] [PAD] [PAD] [PAD] [PAD] [PAD] [PAD] [PAD] [PAD] [PAD] [PAD] [PAD] [PAD] [PAD] [PAD] [PAD] [PAD] [PAD] [PAD] [PAD] [PAD] [PAD] [PAD] [PAD] [PAD] [PAD] [PAD] [PAD] [PAD] [PAD] [PAD] [PAD] [PAD] [PAD] [PAD] [PAD] [PAD] [PAD] [PAD] [PAD] [PAD] [PAD] [PAD] [PAD] [PAD] [PAD] [PAD] [PAD] [PAD] [PAD] [PAD] [PAD] [PAD] [PAD] [PAD] [PAD] [PAD] [PAD] [PAD] [PAD] [PAD] [PAD] [PAD] [PAD] [PAD] [PAD] [PAD] [PAD] [PAD] [PAD] [PAD] [PAD] [PAD] [PAD] [PAD]</th>\n",
       "      <td>42</td>\n",
       "      <td>42</td>\n",
       "      <td>42</td>\n",
       "      <td>42</td>\n",
       "    </tr>\n",
       "    <tr>\n",
       "      <th>[CLS] Initially he was S ##U ##B _ B h ##y ##pot ##ens ##ive S ##U ##B _ E which was treated with IV fluids and discontinued O ##B ##J _ B prop ##of ##ol O ##B ##J _ E , switching to f ##ent ##any ##l / verse ##d for se ##dation . [SEP] [PAD] [PAD] [PAD] [PAD] [PAD] [PAD] [PAD] [PAD] [PAD] [PAD] [PAD] [PAD] [PAD] [PAD] [PAD] [PAD] [PAD] [PAD] [PAD] [PAD] [PAD] [PAD] [PAD] [PAD] [PAD] [PAD] [PAD] [PAD] [PAD] [PAD] [PAD] [PAD] [PAD] [PAD] [PAD] [PAD] [PAD] [PAD] [PAD] [PAD] [PAD] [PAD] [PAD] [PAD] [PAD] [PAD] [PAD] [PAD] [PAD] [PAD] [PAD] [PAD] [PAD] [PAD] [PAD] [PAD] [PAD] [PAD] [PAD] [PAD] [PAD] [PAD] [PAD] [PAD] [PAD] [PAD] [PAD] [PAD] [PAD] [PAD] [PAD] [PAD] [PAD] [PAD] [PAD] [PAD] [PAD] [PAD] [PAD] [PAD] [PAD] [PAD] [PAD] [PAD] [PAD] [PAD] [PAD] [PAD] [PAD] [PAD] [PAD] [PAD] [PAD] [PAD] [PAD] [PAD] [PAD] [PAD] [PAD] [PAD] [PAD] [PAD] [PAD] [PAD] [PAD] [PAD] [PAD] [PAD] [PAD] [PAD] [PAD] [PAD] [PAD] [PAD] [PAD] [PAD] [PAD] [PAD] [PAD] [PAD] [PAD] [PAD] [PAD] [PAD] [PAD] [PAD] [PAD] [PAD] [PAD] [PAD] [PAD] [PAD] [PAD] [PAD] [PAD] [PAD] [PAD] [PAD] [PAD] [PAD] [PAD] [PAD] [PAD] [PAD] [PAD] [PAD] [PAD] [PAD] [PAD] [PAD] [PAD] [PAD] [PAD] [PAD] [PAD] [PAD] [PAD] [PAD] [PAD] [PAD] [PAD] [PAD] [PAD] [PAD] [PAD] [PAD] [PAD] [PAD] [PAD] [PAD] [PAD] [PAD] [PAD] [PAD] [PAD] [PAD] [PAD] [PAD] [PAD] [PAD] [PAD] [PAD] [PAD] [PAD] [PAD] [PAD] [PAD] [PAD] [PAD] [PAD] [PAD] [PAD] [PAD] [PAD] [PAD] [PAD] [PAD] [PAD] [PAD] [PAD] [PAD]</th>\n",
       "      <td>42</td>\n",
       "      <td>42</td>\n",
       "      <td>42</td>\n",
       "      <td>42</td>\n",
       "    </tr>\n",
       "    <tr>\n",
       "      <th>[CLS] Initially he was S ##U ##B _ B h ##y ##pot ##ens ##ive S ##U ##B _ E which was treated with IV fluids and discontinued prop ##of ##ol , switching to O ##B ##J _ B f ##ent ##any ##l O ##B ##J _ E / verse ##d for se ##dation . [SEP] [PAD] [PAD] [PAD] [PAD] [PAD] [PAD] [PAD] [PAD] [PAD] [PAD] [PAD] [PAD] [PAD] [PAD] [PAD] [PAD] [PAD] [PAD] [PAD] [PAD] [PAD] [PAD] [PAD] [PAD] [PAD] [PAD] [PAD] [PAD] [PAD] [PAD] [PAD] [PAD] [PAD] [PAD] [PAD] [PAD] [PAD] [PAD] [PAD] [PAD] [PAD] [PAD] [PAD] [PAD] [PAD] [PAD] [PAD] [PAD] [PAD] [PAD] [PAD] [PAD] [PAD] [PAD] [PAD] [PAD] [PAD] [PAD] [PAD] [PAD] [PAD] [PAD] [PAD] [PAD] [PAD] [PAD] [PAD] [PAD] [PAD] [PAD] [PAD] [PAD] [PAD] [PAD] [PAD] [PAD] [PAD] [PAD] [PAD] [PAD] [PAD] [PAD] [PAD] [PAD] [PAD] [PAD] [PAD] [PAD] [PAD] [PAD] [PAD] [PAD] [PAD] [PAD] [PAD] [PAD] [PAD] [PAD] [PAD] [PAD] [PAD] [PAD] [PAD] [PAD] [PAD] [PAD] [PAD] [PAD] [PAD] [PAD] [PAD] [PAD] [PAD] [PAD] [PAD] [PAD] [PAD] [PAD] [PAD] [PAD] [PAD] [PAD] [PAD] [PAD] [PAD] [PAD] [PAD] [PAD] [PAD] [PAD] [PAD] [PAD] [PAD] [PAD] [PAD] [PAD] [PAD] [PAD] [PAD] [PAD] [PAD] [PAD] [PAD] [PAD] [PAD] [PAD] [PAD] [PAD] [PAD] [PAD] [PAD] [PAD] [PAD] [PAD] [PAD] [PAD] [PAD] [PAD] [PAD] [PAD] [PAD] [PAD] [PAD] [PAD] [PAD] [PAD] [PAD] [PAD] [PAD] [PAD] [PAD] [PAD] [PAD] [PAD] [PAD] [PAD] [PAD] [PAD] [PAD] [PAD] [PAD] [PAD] [PAD] [PAD] [PAD] [PAD] [PAD] [PAD] [PAD] [PAD] [PAD] [PAD] [PAD] [PAD] [PAD] [PAD] [PAD] [PAD] [PAD] [PAD] [PAD]</th>\n",
       "      <td>42</td>\n",
       "      <td>42</td>\n",
       "      <td>42</td>\n",
       "      <td>42</td>\n",
       "    </tr>\n",
       "    <tr>\n",
       "      <th>[CLS] These medications were subsequently stopped by p ##c ##p due to h ##yper ##tens ##ion - Para ##no ##id s ##chi ##zophrenia : diagnosed 5 - 10 years ago admitted [ * * 12 - 19 * * ] x 2 weeks at [ * * Hospital 126 ##3 * * ] hospital ; [ * * Date range ( 3 ) 240 ##50 * * ] [ * * Hospital ##1 18 * * ] admit for ps ##ych ##osis after stopping O ##B ##J _ B r ##is ##per ##ido ##ne O ##B ##J _ E for S ##U ##B _ B or ##th ##ost ##atic h ##y ##pot ##ens ##ion S ##U ##B _ E - Out ##pt P ##sy ##chia ##tri ##st : Dr . [ * * First Name ##8 ( Name ##P ##att ##ern ##2 ) * * ] [ * * Last Name ( Name ##P ##att ##ern ##1 ) 240 ##51 * * ] at [ * * First Name ##8 ( Name ##P ##att ##ern ##2 ) * * ] [ * * Doctor Last Name * * ] - I ##mp ##aire ##d glucose tolerance [SEP] [PAD] [PAD] [PAD] [PAD] [PAD] [PAD] [PAD] [PAD] [PAD] [PAD] [PAD] [PAD] [PAD] [PAD] [PAD] [PAD] [PAD] [PAD] [PAD] [PAD] [PAD] [PAD] [PAD] [PAD] [PAD] [PAD] [PAD] [PAD] [PAD] [PAD] [PAD] [PAD] [PAD] [PAD] [PAD] [PAD] [PAD] [PAD] [PAD] [PAD] [PAD] [PAD] [PAD] [PAD] [PAD] [PAD] [PAD] [PAD] [PAD] [PAD] [PAD] [PAD] [PAD] [PAD] [PAD] [PAD] [PAD] [PAD] [PAD]</th>\n",
       "      <td>42</td>\n",
       "      <td>42</td>\n",
       "      <td>42</td>\n",
       "      <td>42</td>\n",
       "    </tr>\n",
       "    <tr>\n",
       "      <th>[CLS] Most likely S ##U ##B _ B le ##uk ##ope ##nia S ##U ##B _ E was due to recent initiation of flag ##yl , and should improve on O ##B ##J _ B c ##ip ##ro O ##B ##J _ E / van ##co regime ##n . [SEP] [PAD] [PAD] [PAD] [PAD] [PAD] [PAD] [PAD] [PAD] [PAD] [PAD] [PAD] [PAD] [PAD] [PAD] [PAD] [PAD] [PAD] [PAD] [PAD] [PAD] [PAD] [PAD] [PAD] [PAD] [PAD] [PAD] [PAD] [PAD] [PAD] [PAD] [PAD] [PAD] [PAD] [PAD] [PAD] [PAD] [PAD] [PAD] [PAD] [PAD] [PAD] [PAD] [PAD] [PAD] [PAD] [PAD] [PAD] [PAD] [PAD] [PAD] [PAD] [PAD] [PAD] [PAD] [PAD] [PAD] [PAD] [PAD] [PAD] [PAD] [PAD] [PAD] [PAD] [PAD] [PAD] [PAD] [PAD] [PAD] [PAD] [PAD] [PAD] [PAD] [PAD] [PAD] [PAD] [PAD] [PAD] [PAD] [PAD] [PAD] [PAD] [PAD] [PAD] [PAD] [PAD] [PAD] [PAD] [PAD] [PAD] [PAD] [PAD] [PAD] [PAD] [PAD] [PAD] [PAD] [PAD] [PAD] [PAD] [PAD] [PAD] [PAD] [PAD] [PAD] [PAD] [PAD] [PAD] [PAD] [PAD] [PAD] [PAD] [PAD] [PAD] [PAD] [PAD] [PAD] [PAD] [PAD] [PAD] [PAD] [PAD] [PAD] [PAD] [PAD] [PAD] [PAD] [PAD] [PAD] [PAD] [PAD] [PAD] [PAD] [PAD] [PAD] [PAD] [PAD] [PAD] [PAD] [PAD] [PAD] [PAD] [PAD] [PAD] [PAD] [PAD] [PAD] [PAD] [PAD] [PAD] [PAD] [PAD] [PAD] [PAD] [PAD] [PAD] [PAD] [PAD] [PAD] [PAD] [PAD] [PAD] [PAD] [PAD] [PAD] [PAD] [PAD] [PAD] [PAD] [PAD] [PAD] [PAD] [PAD] [PAD] [PAD] [PAD] [PAD] [PAD] [PAD] [PAD] [PAD] [PAD] [PAD] [PAD] [PAD] [PAD] [PAD] [PAD] [PAD] [PAD] [PAD] [PAD] [PAD] [PAD] [PAD] [PAD] [PAD] [PAD] [PAD] [PAD] [PAD] [PAD] [PAD] [PAD] [PAD] [PAD] [PAD]</th>\n",
       "      <td>42</td>\n",
       "      <td>42</td>\n",
       "      <td>42</td>\n",
       "      <td>42</td>\n",
       "    </tr>\n",
       "    <tr>\n",
       "      <th>[CLS] On the day of in ##tub ##ation , she also became S ##U ##B _ B h ##y ##pot ##ens ##ive S ##U ##B _ E requiring initiation of nor ##ep ##ine ##ph ##rine . Also on daily O ##B ##J _ B fur ##ose ##mi ##de O ##B ##J _ E . [SEP] [PAD] [PAD] [PAD] [PAD] [PAD] [PAD] [PAD] [PAD] [PAD] [PAD] [PAD] [PAD] [PAD] [PAD] [PAD] [PAD] [PAD] [PAD] [PAD] [PAD] [PAD] [PAD] [PAD] [PAD] [PAD] [PAD] [PAD] [PAD] [PAD] [PAD] [PAD] [PAD] [PAD] [PAD] [PAD] [PAD] [PAD] [PAD] [PAD] [PAD] [PAD] [PAD] [PAD] [PAD] [PAD] [PAD] [PAD] [PAD] [PAD] [PAD] [PAD] [PAD] [PAD] [PAD] [PAD] [PAD] [PAD] [PAD] [PAD] [PAD] [PAD] [PAD] [PAD] [PAD] [PAD] [PAD] [PAD] [PAD] [PAD] [PAD] [PAD] [PAD] [PAD] [PAD] [PAD] [PAD] [PAD] [PAD] [PAD] [PAD] [PAD] [PAD] [PAD] [PAD] [PAD] [PAD] [PAD] [PAD] [PAD] [PAD] [PAD] [PAD] [PAD] [PAD] [PAD] [PAD] [PAD] [PAD] [PAD] [PAD] [PAD] [PAD] [PAD] [PAD] [PAD] [PAD] [PAD] [PAD] [PAD] [PAD] [PAD] [PAD] [PAD] [PAD] [PAD] [PAD] [PAD] [PAD] [PAD] [PAD] [PAD] [PAD] [PAD] [PAD] [PAD] [PAD] [PAD] [PAD] [PAD] [PAD] [PAD] [PAD] [PAD] [PAD] [PAD] [PAD] [PAD] [PAD] [PAD] [PAD] [PAD] [PAD] [PAD] [PAD] [PAD] [PAD] [PAD] [PAD] [PAD] [PAD] [PAD] [PAD] [PAD] [PAD] [PAD] [PAD] [PAD] [PAD] [PAD] [PAD] [PAD] [PAD] [PAD] [PAD] [PAD] [PAD] [PAD] [PAD] [PAD] [PAD] [PAD] [PAD] [PAD] [PAD] [PAD] [PAD] [PAD] [PAD] [PAD] [PAD] [PAD] [PAD] [PAD] [PAD] [PAD] [PAD] [PAD] [PAD] [PAD] [PAD] [PAD] [PAD] [PAD] [PAD] [PAD] [PAD] [PAD] [PAD] [PAD] [PAD] [PAD]</th>\n",
       "      <td>42</td>\n",
       "      <td>42</td>\n",
       "      <td>42</td>\n",
       "      <td>42</td>\n",
       "    </tr>\n",
       "    <tr>\n",
       "      <th>[CLS] Other sources considered included line infections ( Right I ##J recently replaced in same site ) or S ##U ##B _ B C . di ##ff S ##U ##B _ E given prolonged O ##B ##J _ B AB ##X O ##B ##J _ E course . [SEP] [PAD] [PAD] [PAD] [PAD] [PAD] [PAD] [PAD] [PAD] [PAD] [PAD] [PAD] [PAD] [PAD] [PAD] [PAD] [PAD] [PAD] [PAD] [PAD] [PAD] [PAD] [PAD] [PAD] [PAD] [PAD] [PAD] [PAD] [PAD] [PAD] [PAD] [PAD] [PAD] [PAD] [PAD] [PAD] [PAD] [PAD] [PAD] [PAD] [PAD] [PAD] [PAD] [PAD] [PAD] [PAD] [PAD] [PAD] [PAD] [PAD] [PAD] [PAD] [PAD] [PAD] [PAD] [PAD] [PAD] [PAD] [PAD] [PAD] [PAD] [PAD] [PAD] [PAD] [PAD] [PAD] [PAD] [PAD] [PAD] [PAD] [PAD] [PAD] [PAD] [PAD] [PAD] [PAD] [PAD] [PAD] [PAD] [PAD] [PAD] [PAD] [PAD] [PAD] [PAD] [PAD] [PAD] [PAD] [PAD] [PAD] [PAD] [PAD] [PAD] [PAD] [PAD] [PAD] [PAD] [PAD] [PAD] [PAD] [PAD] [PAD] [PAD] [PAD] [PAD] [PAD] [PAD] [PAD] [PAD] [PAD] [PAD] [PAD] [PAD] [PAD] [PAD] [PAD] [PAD] [PAD] [PAD] [PAD] [PAD] [PAD] [PAD] [PAD] [PAD] [PAD] [PAD] [PAD] [PAD] [PAD] [PAD] [PAD] [PAD] [PAD] [PAD] [PAD] [PAD] [PAD] [PAD] [PAD] [PAD] [PAD] [PAD] [PAD] [PAD] [PAD] [PAD] [PAD] [PAD] [PAD] [PAD] [PAD] [PAD] [PAD] [PAD] [PAD] [PAD] [PAD] [PAD] [PAD] [PAD] [PAD] [PAD] [PAD] [PAD] [PAD] [PAD] [PAD] [PAD] [PAD] [PAD] [PAD] [PAD] [PAD] [PAD] [PAD] [PAD] [PAD] [PAD] [PAD] [PAD] [PAD] [PAD] [PAD] [PAD] [PAD] [PAD] [PAD] [PAD] [PAD] [PAD] [PAD] [PAD] [PAD] [PAD] [PAD] [PAD] [PAD] [PAD] [PAD] [PAD] [PAD] [PAD] [PAD] [PAD] [PAD] [PAD] [PAD]</th>\n",
       "      <td>42</td>\n",
       "      <td>42</td>\n",
       "      <td>42</td>\n",
       "      <td>42</td>\n",
       "    </tr>\n",
       "    <tr>\n",
       "      <th>[CLS] We in ##fused O ##B ##J _ B van ##co O ##B ##J _ E slowly ( over 2 hours ) in case of S ##U ##B _ B red man syndrome S ##U ##B _ E . [SEP] [PAD] [PAD] [PAD] [PAD] [PAD] [PAD] [PAD] [PAD] [PAD] [PAD] [PAD] [PAD] [PAD] [PAD] [PAD] [PAD] [PAD] [PAD] [PAD] [PAD] [PAD] [PAD] [PAD] [PAD] [PAD] [PAD] [PAD] [PAD] [PAD] [PAD] [PAD] [PAD] [PAD] [PAD] [PAD] [PAD] [PAD] [PAD] [PAD] [PAD] [PAD] [PAD] [PAD] [PAD] [PAD] [PAD] [PAD] [PAD] [PAD] [PAD] [PAD] [PAD] [PAD] [PAD] [PAD] [PAD] [PAD] [PAD] [PAD] [PAD] [PAD] [PAD] [PAD] [PAD] [PAD] [PAD] [PAD] [PAD] [PAD] [PAD] [PAD] [PAD] [PAD] [PAD] [PAD] [PAD] [PAD] [PAD] [PAD] [PAD] [PAD] [PAD] [PAD] [PAD] [PAD] [PAD] [PAD] [PAD] [PAD] [PAD] [PAD] [PAD] [PAD] [PAD] [PAD] [PAD] [PAD] [PAD] [PAD] [PAD] [PAD] [PAD] [PAD] [PAD] [PAD] [PAD] [PAD] [PAD] [PAD] [PAD] [PAD] [PAD] [PAD] [PAD] [PAD] [PAD] [PAD] [PAD] [PAD] [PAD] [PAD] [PAD] [PAD] [PAD] [PAD] [PAD] [PAD] [PAD] [PAD] [PAD] [PAD] [PAD] [PAD] [PAD] [PAD] [PAD] [PAD] [PAD] [PAD] [PAD] [PAD] [PAD] [PAD] [PAD] [PAD] [PAD] [PAD] [PAD] [PAD] [PAD] [PAD] [PAD] [PAD] [PAD] [PAD] [PAD] [PAD] [PAD] [PAD] [PAD] [PAD] [PAD] [PAD] [PAD] [PAD] [PAD] [PAD] [PAD] [PAD] [PAD] [PAD] [PAD] [PAD] [PAD] [PAD] [PAD] [PAD] [PAD] [PAD] [PAD] [PAD] [PAD] [PAD] [PAD] [PAD] [PAD] [PAD] [PAD] [PAD] [PAD] [PAD] [PAD] [PAD] [PAD] [PAD] [PAD] [PAD] [PAD] [PAD] [PAD] [PAD] [PAD] [PAD] [PAD] [PAD] [PAD] [PAD] [PAD] [PAD] [PAD] [PAD] [PAD] [PAD] [PAD] [PAD] [PAD]</th>\n",
       "      <td>42</td>\n",
       "      <td>42</td>\n",
       "      <td>42</td>\n",
       "      <td>42</td>\n",
       "    </tr>\n",
       "    <tr>\n",
       "      <th>[CLS] P ##t again became S ##U ##B _ B S ##O ##B S ##U ##B _ E after blood products , improved with las ##ix and O ##B ##J _ B m ##or ##phine O ##B ##J _ E . [SEP] [PAD] [PAD] [PAD] [PAD] [PAD] [PAD] [PAD] [PAD] [PAD] [PAD] [PAD] [PAD] [PAD] [PAD] [PAD] [PAD] [PAD] [PAD] [PAD] [PAD] [PAD] [PAD] [PAD] [PAD] [PAD] [PAD] [PAD] [PAD] [PAD] [PAD] [PAD] [PAD] [PAD] [PAD] [PAD] [PAD] [PAD] [PAD] [PAD] [PAD] [PAD] [PAD] [PAD] [PAD] [PAD] [PAD] [PAD] [PAD] [PAD] [PAD] [PAD] [PAD] [PAD] [PAD] [PAD] [PAD] [PAD] [PAD] [PAD] [PAD] [PAD] [PAD] [PAD] [PAD] [PAD] [PAD] [PAD] [PAD] [PAD] [PAD] [PAD] [PAD] [PAD] [PAD] [PAD] [PAD] [PAD] [PAD] [PAD] [PAD] [PAD] [PAD] [PAD] [PAD] [PAD] [PAD] [PAD] [PAD] [PAD] [PAD] [PAD] [PAD] [PAD] [PAD] [PAD] [PAD] [PAD] [PAD] [PAD] [PAD] [PAD] [PAD] [PAD] [PAD] [PAD] [PAD] [PAD] [PAD] [PAD] [PAD] [PAD] [PAD] [PAD] [PAD] [PAD] [PAD] [PAD] [PAD] [PAD] [PAD] [PAD] [PAD] [PAD] [PAD] [PAD] [PAD] [PAD] [PAD] [PAD] [PAD] [PAD] [PAD] [PAD] [PAD] [PAD] [PAD] [PAD] [PAD] [PAD] [PAD] [PAD] [PAD] [PAD] [PAD] [PAD] [PAD] [PAD] [PAD] [PAD] [PAD] [PAD] [PAD] [PAD] [PAD] [PAD] [PAD] [PAD] [PAD] [PAD] [PAD] [PAD] [PAD] [PAD] [PAD] [PAD] [PAD] [PAD] [PAD] [PAD] [PAD] [PAD] [PAD] [PAD] [PAD] [PAD] [PAD] [PAD] [PAD] [PAD] [PAD] [PAD] [PAD] [PAD] [PAD] [PAD] [PAD] [PAD] [PAD] [PAD] [PAD] [PAD] [PAD] [PAD] [PAD] [PAD] [PAD] [PAD] [PAD] [PAD] [PAD] [PAD] [PAD] [PAD] [PAD] [PAD] [PAD] [PAD] [PAD] [PAD] [PAD] [PAD] [PAD] [PAD] [PAD]</th>\n",
       "      <td>42</td>\n",
       "      <td>42</td>\n",
       "      <td>42</td>\n",
       "      <td>42</td>\n",
       "    </tr>\n",
       "    <tr>\n",
       "      <th>[CLS] Pat ##ient became S ##U ##B _ B h ##y ##pot ##ens ##ive S ##U ##B _ E and was started on do ##pa ##mine g ##gt overnight and O ##B ##J _ B le ##vo ##phe ##d O ##B ##J _ E the following morning . [SEP] [PAD] [PAD] [PAD] [PAD] [PAD] [PAD] [PAD] [PAD] [PAD] [PAD] [PAD] [PAD] [PAD] [PAD] [PAD] [PAD] [PAD] [PAD] [PAD] [PAD] [PAD] [PAD] [PAD] [PAD] [PAD] [PAD] [PAD] [PAD] [PAD] [PAD] [PAD] [PAD] [PAD] [PAD] [PAD] [PAD] [PAD] [PAD] [PAD] [PAD] [PAD] [PAD] [PAD] [PAD] [PAD] [PAD] [PAD] [PAD] [PAD] [PAD] [PAD] [PAD] [PAD] [PAD] [PAD] [PAD] [PAD] [PAD] [PAD] [PAD] [PAD] [PAD] [PAD] [PAD] [PAD] [PAD] [PAD] [PAD] [PAD] [PAD] [PAD] [PAD] [PAD] [PAD] [PAD] [PAD] [PAD] [PAD] [PAD] [PAD] [PAD] [PAD] [PAD] [PAD] [PAD] [PAD] [PAD] [PAD] [PAD] [PAD] [PAD] [PAD] [PAD] [PAD] [PAD] [PAD] [PAD] [PAD] [PAD] [PAD] [PAD] [PAD] [PAD] [PAD] [PAD] [PAD] [PAD] [PAD] [PAD] [PAD] [PAD] [PAD] [PAD] [PAD] [PAD] [PAD] [PAD] [PAD] [PAD] [PAD] [PAD] [PAD] [PAD] [PAD] [PAD] [PAD] [PAD] [PAD] [PAD] [PAD] [PAD] [PAD] [PAD] [PAD] [PAD] [PAD] [PAD] [PAD] [PAD] [PAD] [PAD] [PAD] [PAD] [PAD] [PAD] [PAD] [PAD] [PAD] [PAD] [PAD] [PAD] [PAD] [PAD] [PAD] [PAD] [PAD] [PAD] [PAD] [PAD] [PAD] [PAD] [PAD] [PAD] [PAD] [PAD] [PAD] [PAD] [PAD] [PAD] [PAD] [PAD] [PAD] [PAD] [PAD] [PAD] [PAD] [PAD] [PAD] [PAD] [PAD] [PAD] [PAD] [PAD] [PAD] [PAD] [PAD] [PAD] [PAD] [PAD] [PAD] [PAD] [PAD] [PAD] [PAD] [PAD] [PAD] [PAD] [PAD] [PAD] [PAD] [PAD] [PAD] [PAD] [PAD] [PAD] [PAD] [PAD]</th>\n",
       "      <td>42</td>\n",
       "      <td>42</td>\n",
       "      <td>42</td>\n",
       "      <td>42</td>\n",
       "    </tr>\n",
       "    <tr>\n",
       "      <th>[CLS] Per ##tinent Results : [ * * 214 ##4 - 8 - 10 * * ] 05 : 35 ##AM B ##L ##O ##OD W ##BC - 6 . 1 RB ##C - 3 . 45 * H ##g ##b - 9 . 4 * H ##ct - 28 . 9 * MC ##V - 84 MC ##H - 27 . 3 MC ##HC - 32 . 6 R ##D ##W - 15 . 2 P ##lt C ##t - 300 [ * * 214 ##4 - 8 - 9 * * ] 05 : 33 ##AM B ##L ##O ##OD W ##BC - 5 . 3 RB ##C - 3 . 39 * H ##g ##b - 9 . 1 * H ##ct - 28 . 5 * MC ##V - 84 MC ##H - 27 . 0 MC ##HC - 32 . 1 R ##D ##W - 15 . 2 P ##lt C ##t - 234 [ * * 214 ##4 - 8 - 8 * * ] 06 : 07 ##AM B ##L ##O ##OD W ##BC - 6 . 2 RB ##C - 3 . 41 * H ##g ##b - 9 . 2 * H ##ct - 28 . 2 * MC ##V - 83 MC ##H - 26 . 8 * MC ##HC - 32 . 5 R ##D ##W - 15 . 0 P ##lt C ##t - 213 [ * * 214 ##4 - 8 - 7 * * ] 04 : 00 ##AM B ##L [SEP]</th>\n",
       "      <td>42</td>\n",
       "      <td>42</td>\n",
       "      <td>42</td>\n",
       "      <td>42</td>\n",
       "    </tr>\n",
       "    <tr>\n",
       "      <th>[CLS] Per ##tinent Results : [ * * 216 ##4 - 8 - 26 * * ] 03 : 03 ##AM B ##L ##O ##OD W ##BC - 15 . 8 * # RB ##C - 3 . 50 * H ##g ##b - 10 . 6 * H ##ct - 31 . 2 * MC ##V - 89 MC ##H - 30 . 4 MC ##HC - 34 . 0 R ##D ##W - 13 . 3 P ##lt C ##t - 33 ##6 [ * * 216 ##4 - 8 - 25 * * ] 09 : 00 ##AM B ##L ##O ##OD W ##BC - 8 . 1 RB ##C - 3 . 68 * H ##g ##b - 11 . 2 * H ##ct - 33 . 4 * MC ##V - 91 MC ##H - 30 . 3 MC ##HC - 33 . 4 R ##D ##W - 13 . 1 P ##lt C ##t - 313 [ * * 216 ##4 - 8 - 25 * * ] 09 : 00 ##AM B ##L ##O ##OD N ##eu ##ts - 91 . 2 * L ##ymph ##s - 7 . 7 * Mon ##os - 0 . 9 * E ##os - 0 . 2 Ba ##so - 0 . 1 [ * * 216 ##4 - 8 - 26 * * ] 03 : 03 ##AM B ##L ##O ##OD PT - 12 . 0 PT ##T - 23 . 5 IN ##R ( PT ) - 1 [SEP]</th>\n",
       "      <td>42</td>\n",
       "      <td>42</td>\n",
       "      <td>42</td>\n",
       "      <td>42</td>\n",
       "    </tr>\n",
       "    <tr>\n",
       "      <th>[CLS] Return ##s with near s ##ync ##op ##al episodes and S ##U ##B _ B sin ##us bra ##dy ##card ##ia S ##U ##B _ E , likely medication related . Disc ##har ##ged on [ * * 2 - 15 * * ] on Do ##fe ##tel ##ide , O ##B ##J _ B Card ##ize ##m O ##B ##J _ E and Met ##op ##rol ##ol in normal sin ##us rhythm . [SEP] [PAD] [PAD] [PAD] [PAD] [PAD] [PAD] [PAD] [PAD] [PAD] [PAD] [PAD] [PAD] [PAD] [PAD] [PAD] [PAD] [PAD] [PAD] [PAD] [PAD] [PAD] [PAD] [PAD] [PAD] [PAD] [PAD] [PAD] [PAD] [PAD] [PAD] [PAD] [PAD] [PAD] [PAD] [PAD] [PAD] [PAD] [PAD] [PAD] [PAD] [PAD] [PAD] [PAD] [PAD] [PAD] [PAD] [PAD] [PAD] [PAD] [PAD] [PAD] [PAD] [PAD] [PAD] [PAD] [PAD] [PAD] [PAD] [PAD] [PAD] [PAD] [PAD] [PAD] [PAD] [PAD] [PAD] [PAD] [PAD] [PAD] [PAD] [PAD] [PAD] [PAD] [PAD] [PAD] [PAD] [PAD] [PAD] [PAD] [PAD] [PAD] [PAD] [PAD] [PAD] [PAD] [PAD] [PAD] [PAD] [PAD] [PAD] [PAD] [PAD] [PAD] [PAD] [PAD] [PAD] [PAD] [PAD] [PAD] [PAD] [PAD] [PAD] [PAD] [PAD] [PAD] [PAD] [PAD] [PAD] [PAD] [PAD] [PAD] [PAD] [PAD] [PAD] [PAD] [PAD] [PAD] [PAD] [PAD] [PAD] [PAD] [PAD] [PAD] [PAD] [PAD] [PAD] [PAD] [PAD] [PAD] [PAD] [PAD] [PAD] [PAD] [PAD] [PAD] [PAD] [PAD] [PAD] [PAD] [PAD] [PAD] [PAD] [PAD] [PAD] [PAD] [PAD] [PAD] [PAD] [PAD] [PAD] [PAD] [PAD] [PAD] [PAD] [PAD] [PAD] [PAD] [PAD] [PAD] [PAD] [PAD] [PAD] [PAD] [PAD] [PAD] [PAD] [PAD] [PAD] [PAD] [PAD] [PAD] [PAD] [PAD] [PAD] [PAD] [PAD] [PAD] [PAD] [PAD] [PAD]</th>\n",
       "      <td>42</td>\n",
       "      <td>42</td>\n",
       "      <td>42</td>\n",
       "      <td>42</td>\n",
       "    </tr>\n",
       "    <tr>\n",
       "      <th>[CLS] He was instructed to contact PC ##P with results so that he can tape ##r his daily O ##B ##J _ B insulin O ##B ##J _ E shot to S ##U ##B _ B prevent h ##y ##po ##gly ##ce ##mia S ##U ##B _ E . [SEP] [PAD] [PAD] [PAD] [PAD] [PAD] [PAD] [PAD] [PAD] [PAD] [PAD] [PAD] [PAD] [PAD] [PAD] [PAD] [PAD] [PAD] [PAD] [PAD] [PAD] [PAD] [PAD] [PAD] [PAD] [PAD] [PAD] [PAD] [PAD] [PAD] [PAD] [PAD] [PAD] [PAD] [PAD] [PAD] [PAD] [PAD] [PAD] [PAD] [PAD] [PAD] [PAD] [PAD] [PAD] [PAD] [PAD] [PAD] [PAD] [PAD] [PAD] [PAD] [PAD] [PAD] [PAD] [PAD] [PAD] [PAD] [PAD] [PAD] [PAD] [PAD] [PAD] [PAD] [PAD] [PAD] [PAD] [PAD] [PAD] [PAD] [PAD] [PAD] [PAD] [PAD] [PAD] [PAD] [PAD] [PAD] [PAD] [PAD] [PAD] [PAD] [PAD] [PAD] [PAD] [PAD] [PAD] [PAD] [PAD] [PAD] [PAD] [PAD] [PAD] [PAD] [PAD] [PAD] [PAD] [PAD] [PAD] [PAD] [PAD] [PAD] [PAD] [PAD] [PAD] [PAD] [PAD] [PAD] [PAD] [PAD] [PAD] [PAD] [PAD] [PAD] [PAD] [PAD] [PAD] [PAD] [PAD] [PAD] [PAD] [PAD] [PAD] [PAD] [PAD] [PAD] [PAD] [PAD] [PAD] [PAD] [PAD] [PAD] [PAD] [PAD] [PAD] [PAD] [PAD] [PAD] [PAD] [PAD] [PAD] [PAD] [PAD] [PAD] [PAD] [PAD] [PAD] [PAD] [PAD] [PAD] [PAD] [PAD] [PAD] [PAD] [PAD] [PAD] [PAD] [PAD] [PAD] [PAD] [PAD] [PAD] [PAD] [PAD] [PAD] [PAD] [PAD] [PAD] [PAD] [PAD] [PAD] [PAD] [PAD] [PAD] [PAD] [PAD] [PAD] [PAD] [PAD] [PAD] [PAD] [PAD] [PAD] [PAD] [PAD] [PAD] [PAD] [PAD] [PAD] [PAD] [PAD] [PAD] [PAD] [PAD] [PAD] [PAD] [PAD] [PAD] [PAD] [PAD] [PAD] [PAD] [PAD] [PAD] [PAD] [PAD] [PAD]</th>\n",
       "      <td>42</td>\n",
       "      <td>42</td>\n",
       "      <td>42</td>\n",
       "      <td>42</td>\n",
       "    </tr>\n",
       "    <tr>\n",
       "      <th>[CLS] Return ##s with near s ##ync ##op ##al episodes and S ##U ##B _ B sin ##us bra ##dy ##card ##ia S ##U ##B _ E , likely medication related . Disc ##har ##ged on [ * * 2 - 15 * * ] on O ##B ##J _ B Do ##fe ##tel ##ide O ##B ##J _ E , Card ##ize ##m and Met ##op ##rol ##ol in normal sin ##us rhythm . [SEP] [PAD] [PAD] [PAD] [PAD] [PAD] [PAD] [PAD] [PAD] [PAD] [PAD] [PAD] [PAD] [PAD] [PAD] [PAD] [PAD] [PAD] [PAD] [PAD] [PAD] [PAD] [PAD] [PAD] [PAD] [PAD] [PAD] [PAD] [PAD] [PAD] [PAD] [PAD] [PAD] [PAD] [PAD] [PAD] [PAD] [PAD] [PAD] [PAD] [PAD] [PAD] [PAD] [PAD] [PAD] [PAD] [PAD] [PAD] [PAD] [PAD] [PAD] [PAD] [PAD] [PAD] [PAD] [PAD] [PAD] [PAD] [PAD] [PAD] [PAD] [PAD] [PAD] [PAD] [PAD] [PAD] [PAD] [PAD] [PAD] [PAD] [PAD] [PAD] [PAD] [PAD] [PAD] [PAD] [PAD] [PAD] [PAD] [PAD] [PAD] [PAD] [PAD] [PAD] [PAD] [PAD] [PAD] [PAD] [PAD] [PAD] [PAD] [PAD] [PAD] [PAD] [PAD] [PAD] [PAD] [PAD] [PAD] [PAD] [PAD] [PAD] [PAD] [PAD] [PAD] [PAD] [PAD] [PAD] [PAD] [PAD] [PAD] [PAD] [PAD] [PAD] [PAD] [PAD] [PAD] [PAD] [PAD] [PAD] [PAD] [PAD] [PAD] [PAD] [PAD] [PAD] [PAD] [PAD] [PAD] [PAD] [PAD] [PAD] [PAD] [PAD] [PAD] [PAD] [PAD] [PAD] [PAD] [PAD] [PAD] [PAD] [PAD] [PAD] [PAD] [PAD] [PAD] [PAD] [PAD] [PAD] [PAD] [PAD] [PAD] [PAD] [PAD] [PAD] [PAD] [PAD] [PAD] [PAD] [PAD] [PAD] [PAD] [PAD] [PAD] [PAD] [PAD] [PAD] [PAD] [PAD] [PAD] [PAD] [PAD] [PAD] [PAD] [PAD] [PAD] [PAD] [PAD] [PAD] [PAD]</th>\n",
       "      <td>42</td>\n",
       "      <td>42</td>\n",
       "      <td>42</td>\n",
       "      <td>42</td>\n",
       "    </tr>\n",
       "    <tr>\n",
       "      <th>[CLS] She had S ##U ##B _ B fever ##s S ##U ##B _ E , weakness , and di ##ar ##r ##hea . Ad ##mission Date : [ * * 210 ##9 - 7 - 21 * * ] Disc ##har ##ge Date : [ * * 210 ##9 - 8 - 13 * * ] Date of Birth : [ * * 205 ##3 - 6 - 5 * * ] Sex : F Service : [ * * Doctor Last Name 118 ##1 * * ] ME ##DI ##CI ##NE H ##IS ##TO ##R ##Y OF PR ##ES ##EN ##T IL ##L ##NE ##SS : This is a 56 - year - old white female with a history of right frontal c ##rani ##oto ##my on [ * * 210 ##9 - 7 - 1 * * ] , for a d ##ys ##em ##b ##ryo ##p ##lastic an ##gion ##eur ##al e ##pit ##hel ##ial les ##ion with features of an o ##li ##go ##den ##dr ##og ##lio ##ma who was started on O ##B ##J _ B Di ##lant ##in O ##B ##J _ E post ##oper ##ative ##ly for seizure prop ##hyl ##ax ##is and was subsequently developed eye discharge and was seen by an op ##tom ##et ##rist who treated it with su ##lf ##ate op ##ht ##hal ##mic drops . [SEP] [PAD] [PAD] [PAD] [PAD] [PAD] [PAD] [PAD] [PAD] [PAD] [PAD] [PAD] [PAD] [PAD] [PAD] [PAD] [PAD] [PAD] [PAD] [PAD] [PAD] [PAD] [PAD] [PAD] [PAD] [PAD] [PAD] [PAD]</th>\n",
       "      <td>42</td>\n",
       "      <td>42</td>\n",
       "      <td>42</td>\n",
       "      <td>42</td>\n",
       "    </tr>\n",
       "    <tr>\n",
       "      <th>[CLS] She was found to be S ##U ##B _ B PR ##A positive S ##U ##B _ E and requires H ##LA matched O ##B ##J _ B plate ##let O ##B ##J _ E ##s . [SEP] [PAD] [PAD] [PAD] [PAD] [PAD] [PAD] [PAD] [PAD] [PAD] [PAD] [PAD] [PAD] [PAD] [PAD] [PAD] [PAD] [PAD] [PAD] [PAD] [PAD] [PAD] [PAD] [PAD] [PAD] [PAD] [PAD] [PAD] [PAD] [PAD] [PAD] [PAD] [PAD] [PAD] [PAD] [PAD] [PAD] [PAD] [PAD] [PAD] [PAD] [PAD] [PAD] [PAD] [PAD] [PAD] [PAD] [PAD] [PAD] [PAD] [PAD] [PAD] [PAD] [PAD] [PAD] [PAD] [PAD] [PAD] [PAD] [PAD] [PAD] [PAD] [PAD] [PAD] [PAD] [PAD] [PAD] [PAD] [PAD] [PAD] [PAD] [PAD] [PAD] [PAD] [PAD] [PAD] [PAD] [PAD] [PAD] [PAD] [PAD] [PAD] [PAD] [PAD] [PAD] [PAD] [PAD] [PAD] [PAD] [PAD] [PAD] [PAD] [PAD] [PAD] [PAD] [PAD] [PAD] [PAD] [PAD] [PAD] [PAD] [PAD] [PAD] [PAD] [PAD] [PAD] [PAD] [PAD] [PAD] [PAD] [PAD] [PAD] [PAD] [PAD] [PAD] [PAD] [PAD] [PAD] [PAD] [PAD] [PAD] [PAD] [PAD] [PAD] [PAD] [PAD] [PAD] [PAD] [PAD] [PAD] [PAD] [PAD] [PAD] [PAD] [PAD] [PAD] [PAD] [PAD] [PAD] [PAD] [PAD] [PAD] [PAD] [PAD] [PAD] [PAD] [PAD] [PAD] [PAD] [PAD] [PAD] [PAD] [PAD] [PAD] [PAD] [PAD] [PAD] [PAD] [PAD] [PAD] [PAD] [PAD] [PAD] [PAD] [PAD] [PAD] [PAD] [PAD] [PAD] [PAD] [PAD] [PAD] [PAD] [PAD] [PAD] [PAD] [PAD] [PAD] [PAD] [PAD] [PAD] [PAD] [PAD] [PAD] [PAD] [PAD] [PAD] [PAD] [PAD] [PAD] [PAD] [PAD] [PAD] [PAD] [PAD] [PAD] [PAD] [PAD] [PAD] [PAD] [PAD] [PAD] [PAD] [PAD] [PAD] [PAD] [PAD] [PAD] [PAD] [PAD] [PAD] [PAD] [PAD] [PAD] [PAD] [PAD] [PAD] [PAD]</th>\n",
       "      <td>42</td>\n",
       "      <td>42</td>\n",
       "      <td>42</td>\n",
       "      <td>42</td>\n",
       "    </tr>\n",
       "  </tbody>\n",
       "</table>\n",
       "</div>"
      ],
      "text/plain": [
       "                                                                                                                                                                                                                                                            file_name  \\\n",
       "input                                                                                                                                                                                                                                                                   \n",
       "[CLS] It is unclear if there is a behavioral component to her S ##U ##B _ B u ##rina ##ry retention S ##U ##B _ E . All anti ##cho ##liner ##gic ##s were stopped , including O ##B ##J _ B Co ##gent ##in O ##B ##J _ E , with some improvement in her...         42   \n",
       "[CLS] Physical Ex ##am : Vita ##ls : T : 99 . 8 , BP : 149 / 69 , P : 87 , R : 15 , O ##2 : 97 % RA General : So ##m ##no ##lent , moving all ex ##tre ##mit ##ies spontaneous ##ly but is not re ##sp ##ons ##ive to painful stimuli , no acute distre...         42   \n",
       "[CLS] In my opinion , the risk of re ##current significant S ##U ##B _ B R ##P bleed S ##U ##B _ E out ##wei ##gh ##s the card ##io ##em ##bolic benefits in the setting of the patient ' s a - fi ##b . The patient can be restart ##ed on as ##pi ##r...         42   \n",
       "[CLS] Initially S ##U ##B _ B h ##y ##pot ##ens ##ive S ##U ##B _ E on O ##B ##J _ B le ##vo ##phe ##d O ##B ##J _ E and aggressively fluid re ##sus ##ci ##tated . [SEP] [PAD] [PAD] [PAD] [PAD] [PAD] [PAD] [PAD] [PAD] [PAD] [PAD] [PAD] [PAD] [PAD]...         42   \n",
       "[CLS] Initially he was S ##U ##B _ B h ##y ##pot ##ens ##ive S ##U ##B _ E which was treated with IV fluids and discontinued O ##B ##J _ B prop ##of ##ol O ##B ##J _ E , switching to f ##ent ##any ##l / verse ##d for se ##dation . [SEP] [PAD] [PAD...         42   \n",
       "[CLS] Initially he was S ##U ##B _ B h ##y ##pot ##ens ##ive S ##U ##B _ E which was treated with IV fluids and discontinued prop ##of ##ol , switching to O ##B ##J _ B f ##ent ##any ##l O ##B ##J _ E / verse ##d for se ##dation . [SEP] [PAD] [PAD...         42   \n",
       "[CLS] These medications were subsequently stopped by p ##c ##p due to h ##yper ##tens ##ion - Para ##no ##id s ##chi ##zophrenia : diagnosed 5 - 10 years ago admitted [ * * 12 - 19 * * ] x 2 weeks at [ * * Hospital 126 ##3 * * ] hospital ; [ * * D...         42   \n",
       "[CLS] Most likely S ##U ##B _ B le ##uk ##ope ##nia S ##U ##B _ E was due to recent initiation of flag ##yl , and should improve on O ##B ##J _ B c ##ip ##ro O ##B ##J _ E / van ##co regime ##n . [SEP] [PAD] [PAD] [PAD] [PAD] [PAD] [PAD] [PAD] [PA...         42   \n",
       "[CLS] On the day of in ##tub ##ation , she also became S ##U ##B _ B h ##y ##pot ##ens ##ive S ##U ##B _ E requiring initiation of nor ##ep ##ine ##ph ##rine . Also on daily O ##B ##J _ B fur ##ose ##mi ##de O ##B ##J _ E . [SEP] [PAD] [PAD] [PAD]...         42   \n",
       "[CLS] Other sources considered included line infections ( Right I ##J recently replaced in same site ) or S ##U ##B _ B C . di ##ff S ##U ##B _ E given prolonged O ##B ##J _ B AB ##X O ##B ##J _ E course . [SEP] [PAD] [PAD] [PAD] [PAD] [PAD] [PAD]...         42   \n",
       "[CLS] We in ##fused O ##B ##J _ B van ##co O ##B ##J _ E slowly ( over 2 hours ) in case of S ##U ##B _ B red man syndrome S ##U ##B _ E . [SEP] [PAD] [PAD] [PAD] [PAD] [PAD] [PAD] [PAD] [PAD] [PAD] [PAD] [PAD] [PAD] [PAD] [PAD] [PAD] [PAD] [PAD] ...         42   \n",
       "[CLS] P ##t again became S ##U ##B _ B S ##O ##B S ##U ##B _ E after blood products , improved with las ##ix and O ##B ##J _ B m ##or ##phine O ##B ##J _ E . [SEP] [PAD] [PAD] [PAD] [PAD] [PAD] [PAD] [PAD] [PAD] [PAD] [PAD] [PAD] [PAD] [PAD] [PAD]...         42   \n",
       "[CLS] Pat ##ient became S ##U ##B _ B h ##y ##pot ##ens ##ive S ##U ##B _ E and was started on do ##pa ##mine g ##gt overnight and O ##B ##J _ B le ##vo ##phe ##d O ##B ##J _ E the following morning . [SEP] [PAD] [PAD] [PAD] [PAD] [PAD] [PAD] [PAD...         42   \n",
       "[CLS] Per ##tinent Results : [ * * 214 ##4 - 8 - 10 * * ] 05 : 35 ##AM B ##L ##O ##OD W ##BC - 6 . 1 RB ##C - 3 . 45 * H ##g ##b - 9 . 4 * H ##ct - 28 . 9 * MC ##V - 84 MC ##H - 27 . 3 MC ##HC - 32 . 6 R ##D ##W - 15 . 2 P ##lt C ##t - 300 [ * * 2...         42   \n",
       "[CLS] Per ##tinent Results : [ * * 216 ##4 - 8 - 26 * * ] 03 : 03 ##AM B ##L ##O ##OD W ##BC - 15 . 8 * # RB ##C - 3 . 50 * H ##g ##b - 10 . 6 * H ##ct - 31 . 2 * MC ##V - 89 MC ##H - 30 . 4 MC ##HC - 34 . 0 R ##D ##W - 13 . 3 P ##lt C ##t - 33 ##...         42   \n",
       "[CLS] Return ##s with near s ##ync ##op ##al episodes and S ##U ##B _ B sin ##us bra ##dy ##card ##ia S ##U ##B _ E , likely medication related . Disc ##har ##ged on [ * * 2 - 15 * * ] on Do ##fe ##tel ##ide , O ##B ##J _ B Card ##ize ##m O ##B ##...         42   \n",
       "[CLS] He was instructed to contact PC ##P with results so that he can tape ##r his daily O ##B ##J _ B insulin O ##B ##J _ E shot to S ##U ##B _ B prevent h ##y ##po ##gly ##ce ##mia S ##U ##B _ E . [SEP] [PAD] [PAD] [PAD] [PAD] [PAD] [PAD] [PAD] ...         42   \n",
       "[CLS] Return ##s with near s ##ync ##op ##al episodes and S ##U ##B _ B sin ##us bra ##dy ##card ##ia S ##U ##B _ E , likely medication related . Disc ##har ##ged on [ * * 2 - 15 * * ] on O ##B ##J _ B Do ##fe ##tel ##ide O ##B ##J _ E , Card ##iz...         42   \n",
       "[CLS] She had S ##U ##B _ B fever ##s S ##U ##B _ E , weakness , and di ##ar ##r ##hea . Ad ##mission Date : [ * * 210 ##9 - 7 - 21 * * ] Disc ##har ##ge Date : [ * * 210 ##9 - 8 - 13 * * ] Date of Birth : [ * * 205 ##3 - 6 - 5 * * ] Sex : F Servi...         42   \n",
       "[CLS] She was found to be S ##U ##B _ B PR ##A positive S ##U ##B _ E and requires H ##LA matched O ##B ##J _ B plate ##let O ##B ##J _ E ##s . [SEP] [PAD] [PAD] [PAD] [PAD] [PAD] [PAD] [PAD] [PAD] [PAD] [PAD] [PAD] [PAD] [PAD] [PAD] [PAD] [PAD] [...         42   \n",
       "\n",
       "                                                                                                                                                                                                                                                            model_name  \\\n",
       "input                                                                                                                                                                                                                                                                    \n",
       "[CLS] It is unclear if there is a behavioral component to her S ##U ##B _ B u ##rina ##ry retention S ##U ##B _ E . All anti ##cho ##liner ##gic ##s were stopped , including O ##B ##J _ B Co ##gent ##in O ##B ##J _ E , with some improvement in her...          42   \n",
       "[CLS] Physical Ex ##am : Vita ##ls : T : 99 . 8 , BP : 149 / 69 , P : 87 , R : 15 , O ##2 : 97 % RA General : So ##m ##no ##lent , moving all ex ##tre ##mit ##ies spontaneous ##ly but is not re ##sp ##ons ##ive to painful stimuli , no acute distre...          42   \n",
       "[CLS] In my opinion , the risk of re ##current significant S ##U ##B _ B R ##P bleed S ##U ##B _ E out ##wei ##gh ##s the card ##io ##em ##bolic benefits in the setting of the patient ' s a - fi ##b . The patient can be restart ##ed on as ##pi ##r...          42   \n",
       "[CLS] Initially S ##U ##B _ B h ##y ##pot ##ens ##ive S ##U ##B _ E on O ##B ##J _ B le ##vo ##phe ##d O ##B ##J _ E and aggressively fluid re ##sus ##ci ##tated . [SEP] [PAD] [PAD] [PAD] [PAD] [PAD] [PAD] [PAD] [PAD] [PAD] [PAD] [PAD] [PAD] [PAD]...          42   \n",
       "[CLS] Initially he was S ##U ##B _ B h ##y ##pot ##ens ##ive S ##U ##B _ E which was treated with IV fluids and discontinued O ##B ##J _ B prop ##of ##ol O ##B ##J _ E , switching to f ##ent ##any ##l / verse ##d for se ##dation . [SEP] [PAD] [PAD...          42   \n",
       "[CLS] Initially he was S ##U ##B _ B h ##y ##pot ##ens ##ive S ##U ##B _ E which was treated with IV fluids and discontinued prop ##of ##ol , switching to O ##B ##J _ B f ##ent ##any ##l O ##B ##J _ E / verse ##d for se ##dation . [SEP] [PAD] [PAD...          42   \n",
       "[CLS] These medications were subsequently stopped by p ##c ##p due to h ##yper ##tens ##ion - Para ##no ##id s ##chi ##zophrenia : diagnosed 5 - 10 years ago admitted [ * * 12 - 19 * * ] x 2 weeks at [ * * Hospital 126 ##3 * * ] hospital ; [ * * D...          42   \n",
       "[CLS] Most likely S ##U ##B _ B le ##uk ##ope ##nia S ##U ##B _ E was due to recent initiation of flag ##yl , and should improve on O ##B ##J _ B c ##ip ##ro O ##B ##J _ E / van ##co regime ##n . [SEP] [PAD] [PAD] [PAD] [PAD] [PAD] [PAD] [PAD] [PA...          42   \n",
       "[CLS] On the day of in ##tub ##ation , she also became S ##U ##B _ B h ##y ##pot ##ens ##ive S ##U ##B _ E requiring initiation of nor ##ep ##ine ##ph ##rine . Also on daily O ##B ##J _ B fur ##ose ##mi ##de O ##B ##J _ E . [SEP] [PAD] [PAD] [PAD]...          42   \n",
       "[CLS] Other sources considered included line infections ( Right I ##J recently replaced in same site ) or S ##U ##B _ B C . di ##ff S ##U ##B _ E given prolonged O ##B ##J _ B AB ##X O ##B ##J _ E course . [SEP] [PAD] [PAD] [PAD] [PAD] [PAD] [PAD]...          42   \n",
       "[CLS] We in ##fused O ##B ##J _ B van ##co O ##B ##J _ E slowly ( over 2 hours ) in case of S ##U ##B _ B red man syndrome S ##U ##B _ E . [SEP] [PAD] [PAD] [PAD] [PAD] [PAD] [PAD] [PAD] [PAD] [PAD] [PAD] [PAD] [PAD] [PAD] [PAD] [PAD] [PAD] [PAD] ...          42   \n",
       "[CLS] P ##t again became S ##U ##B _ B S ##O ##B S ##U ##B _ E after blood products , improved with las ##ix and O ##B ##J _ B m ##or ##phine O ##B ##J _ E . [SEP] [PAD] [PAD] [PAD] [PAD] [PAD] [PAD] [PAD] [PAD] [PAD] [PAD] [PAD] [PAD] [PAD] [PAD]...          42   \n",
       "[CLS] Pat ##ient became S ##U ##B _ B h ##y ##pot ##ens ##ive S ##U ##B _ E and was started on do ##pa ##mine g ##gt overnight and O ##B ##J _ B le ##vo ##phe ##d O ##B ##J _ E the following morning . [SEP] [PAD] [PAD] [PAD] [PAD] [PAD] [PAD] [PAD...          42   \n",
       "[CLS] Per ##tinent Results : [ * * 214 ##4 - 8 - 10 * * ] 05 : 35 ##AM B ##L ##O ##OD W ##BC - 6 . 1 RB ##C - 3 . 45 * H ##g ##b - 9 . 4 * H ##ct - 28 . 9 * MC ##V - 84 MC ##H - 27 . 3 MC ##HC - 32 . 6 R ##D ##W - 15 . 2 P ##lt C ##t - 300 [ * * 2...          42   \n",
       "[CLS] Per ##tinent Results : [ * * 216 ##4 - 8 - 26 * * ] 03 : 03 ##AM B ##L ##O ##OD W ##BC - 15 . 8 * # RB ##C - 3 . 50 * H ##g ##b - 10 . 6 * H ##ct - 31 . 2 * MC ##V - 89 MC ##H - 30 . 4 MC ##HC - 34 . 0 R ##D ##W - 13 . 3 P ##lt C ##t - 33 ##...          42   \n",
       "[CLS] Return ##s with near s ##ync ##op ##al episodes and S ##U ##B _ B sin ##us bra ##dy ##card ##ia S ##U ##B _ E , likely medication related . Disc ##har ##ged on [ * * 2 - 15 * * ] on Do ##fe ##tel ##ide , O ##B ##J _ B Card ##ize ##m O ##B ##...          42   \n",
       "[CLS] He was instructed to contact PC ##P with results so that he can tape ##r his daily O ##B ##J _ B insulin O ##B ##J _ E shot to S ##U ##B _ B prevent h ##y ##po ##gly ##ce ##mia S ##U ##B _ E . [SEP] [PAD] [PAD] [PAD] [PAD] [PAD] [PAD] [PAD] ...          42   \n",
       "[CLS] Return ##s with near s ##ync ##op ##al episodes and S ##U ##B _ B sin ##us bra ##dy ##card ##ia S ##U ##B _ E , likely medication related . Disc ##har ##ged on [ * * 2 - 15 * * ] on O ##B ##J _ B Do ##fe ##tel ##ide O ##B ##J _ E , Card ##iz...          42   \n",
       "[CLS] She had S ##U ##B _ B fever ##s S ##U ##B _ E , weakness , and di ##ar ##r ##hea . Ad ##mission Date : [ * * 210 ##9 - 7 - 21 * * ] Disc ##har ##ge Date : [ * * 210 ##9 - 8 - 13 * * ] Date of Birth : [ * * 205 ##3 - 6 - 5 * * ] Sex : F Servi...          42   \n",
       "[CLS] She was found to be S ##U ##B _ B PR ##A positive S ##U ##B _ E and requires H ##LA matched O ##B ##J _ B plate ##let O ##B ##J _ E ##s . [SEP] [PAD] [PAD] [PAD] [PAD] [PAD] [PAD] [PAD] [PAD] [PAD] [PAD] [PAD] [PAD] [PAD] [PAD] [PAD] [PAD] [...          42   \n",
       "\n",
       "                                                                                                                                                                                                                                                            Predicted  \\\n",
       "input                                                                                                                                                                                                                                                                   \n",
       "[CLS] It is unclear if there is a behavioral component to her S ##U ##B _ B u ##rina ##ry retention S ##U ##B _ E . All anti ##cho ##liner ##gic ##s were stopped , including O ##B ##J _ B Co ##gent ##in O ##B ##J _ E , with some improvement in her...         42   \n",
       "[CLS] Physical Ex ##am : Vita ##ls : T : 99 . 8 , BP : 149 / 69 , P : 87 , R : 15 , O ##2 : 97 % RA General : So ##m ##no ##lent , moving all ex ##tre ##mit ##ies spontaneous ##ly but is not re ##sp ##ons ##ive to painful stimuli , no acute distre...         42   \n",
       "[CLS] In my opinion , the risk of re ##current significant S ##U ##B _ B R ##P bleed S ##U ##B _ E out ##wei ##gh ##s the card ##io ##em ##bolic benefits in the setting of the patient ' s a - fi ##b . The patient can be restart ##ed on as ##pi ##r...         42   \n",
       "[CLS] Initially S ##U ##B _ B h ##y ##pot ##ens ##ive S ##U ##B _ E on O ##B ##J _ B le ##vo ##phe ##d O ##B ##J _ E and aggressively fluid re ##sus ##ci ##tated . [SEP] [PAD] [PAD] [PAD] [PAD] [PAD] [PAD] [PAD] [PAD] [PAD] [PAD] [PAD] [PAD] [PAD]...         42   \n",
       "[CLS] Initially he was S ##U ##B _ B h ##y ##pot ##ens ##ive S ##U ##B _ E which was treated with IV fluids and discontinued O ##B ##J _ B prop ##of ##ol O ##B ##J _ E , switching to f ##ent ##any ##l / verse ##d for se ##dation . [SEP] [PAD] [PAD...         42   \n",
       "[CLS] Initially he was S ##U ##B _ B h ##y ##pot ##ens ##ive S ##U ##B _ E which was treated with IV fluids and discontinued prop ##of ##ol , switching to O ##B ##J _ B f ##ent ##any ##l O ##B ##J _ E / verse ##d for se ##dation . [SEP] [PAD] [PAD...         42   \n",
       "[CLS] These medications were subsequently stopped by p ##c ##p due to h ##yper ##tens ##ion - Para ##no ##id s ##chi ##zophrenia : diagnosed 5 - 10 years ago admitted [ * * 12 - 19 * * ] x 2 weeks at [ * * Hospital 126 ##3 * * ] hospital ; [ * * D...         42   \n",
       "[CLS] Most likely S ##U ##B _ B le ##uk ##ope ##nia S ##U ##B _ E was due to recent initiation of flag ##yl , and should improve on O ##B ##J _ B c ##ip ##ro O ##B ##J _ E / van ##co regime ##n . [SEP] [PAD] [PAD] [PAD] [PAD] [PAD] [PAD] [PAD] [PA...         42   \n",
       "[CLS] On the day of in ##tub ##ation , she also became S ##U ##B _ B h ##y ##pot ##ens ##ive S ##U ##B _ E requiring initiation of nor ##ep ##ine ##ph ##rine . Also on daily O ##B ##J _ B fur ##ose ##mi ##de O ##B ##J _ E . [SEP] [PAD] [PAD] [PAD]...         42   \n",
       "[CLS] Other sources considered included line infections ( Right I ##J recently replaced in same site ) or S ##U ##B _ B C . di ##ff S ##U ##B _ E given prolonged O ##B ##J _ B AB ##X O ##B ##J _ E course . [SEP] [PAD] [PAD] [PAD] [PAD] [PAD] [PAD]...         42   \n",
       "[CLS] We in ##fused O ##B ##J _ B van ##co O ##B ##J _ E slowly ( over 2 hours ) in case of S ##U ##B _ B red man syndrome S ##U ##B _ E . [SEP] [PAD] [PAD] [PAD] [PAD] [PAD] [PAD] [PAD] [PAD] [PAD] [PAD] [PAD] [PAD] [PAD] [PAD] [PAD] [PAD] [PAD] ...         42   \n",
       "[CLS] P ##t again became S ##U ##B _ B S ##O ##B S ##U ##B _ E after blood products , improved with las ##ix and O ##B ##J _ B m ##or ##phine O ##B ##J _ E . [SEP] [PAD] [PAD] [PAD] [PAD] [PAD] [PAD] [PAD] [PAD] [PAD] [PAD] [PAD] [PAD] [PAD] [PAD]...         42   \n",
       "[CLS] Pat ##ient became S ##U ##B _ B h ##y ##pot ##ens ##ive S ##U ##B _ E and was started on do ##pa ##mine g ##gt overnight and O ##B ##J _ B le ##vo ##phe ##d O ##B ##J _ E the following morning . [SEP] [PAD] [PAD] [PAD] [PAD] [PAD] [PAD] [PAD...         42   \n",
       "[CLS] Per ##tinent Results : [ * * 214 ##4 - 8 - 10 * * ] 05 : 35 ##AM B ##L ##O ##OD W ##BC - 6 . 1 RB ##C - 3 . 45 * H ##g ##b - 9 . 4 * H ##ct - 28 . 9 * MC ##V - 84 MC ##H - 27 . 3 MC ##HC - 32 . 6 R ##D ##W - 15 . 2 P ##lt C ##t - 300 [ * * 2...         42   \n",
       "[CLS] Per ##tinent Results : [ * * 216 ##4 - 8 - 26 * * ] 03 : 03 ##AM B ##L ##O ##OD W ##BC - 15 . 8 * # RB ##C - 3 . 50 * H ##g ##b - 10 . 6 * H ##ct - 31 . 2 * MC ##V - 89 MC ##H - 30 . 4 MC ##HC - 34 . 0 R ##D ##W - 13 . 3 P ##lt C ##t - 33 ##...         42   \n",
       "[CLS] Return ##s with near s ##ync ##op ##al episodes and S ##U ##B _ B sin ##us bra ##dy ##card ##ia S ##U ##B _ E , likely medication related . Disc ##har ##ged on [ * * 2 - 15 * * ] on Do ##fe ##tel ##ide , O ##B ##J _ B Card ##ize ##m O ##B ##...         42   \n",
       "[CLS] He was instructed to contact PC ##P with results so that he can tape ##r his daily O ##B ##J _ B insulin O ##B ##J _ E shot to S ##U ##B _ B prevent h ##y ##po ##gly ##ce ##mia S ##U ##B _ E . [SEP] [PAD] [PAD] [PAD] [PAD] [PAD] [PAD] [PAD] ...         42   \n",
       "[CLS] Return ##s with near s ##ync ##op ##al episodes and S ##U ##B _ B sin ##us bra ##dy ##card ##ia S ##U ##B _ E , likely medication related . Disc ##har ##ged on [ * * 2 - 15 * * ] on O ##B ##J _ B Do ##fe ##tel ##ide O ##B ##J _ E , Card ##iz...         42   \n",
       "[CLS] She had S ##U ##B _ B fever ##s S ##U ##B _ E , weakness , and di ##ar ##r ##hea . Ad ##mission Date : [ * * 210 ##9 - 7 - 21 * * ] Disc ##har ##ge Date : [ * * 210 ##9 - 8 - 13 * * ] Date of Birth : [ * * 205 ##3 - 6 - 5 * * ] Sex : F Servi...         42   \n",
       "[CLS] She was found to be S ##U ##B _ B PR ##A positive S ##U ##B _ E and requires H ##LA matched O ##B ##J _ B plate ##let O ##B ##J _ E ##s . [SEP] [PAD] [PAD] [PAD] [PAD] [PAD] [PAD] [PAD] [PAD] [PAD] [PAD] [PAD] [PAD] [PAD] [PAD] [PAD] [PAD] [...         42   \n",
       "\n",
       "                                                                                                                                                                                                                                                            True  \n",
       "input                                                                                                                                                                                                                                                             \n",
       "[CLS] It is unclear if there is a behavioral component to her S ##U ##B _ B u ##rina ##ry retention S ##U ##B _ E . All anti ##cho ##liner ##gic ##s were stopped , including O ##B ##J _ B Co ##gent ##in O ##B ##J _ E , with some improvement in her...    42  \n",
       "[CLS] Physical Ex ##am : Vita ##ls : T : 99 . 8 , BP : 149 / 69 , P : 87 , R : 15 , O ##2 : 97 % RA General : So ##m ##no ##lent , moving all ex ##tre ##mit ##ies spontaneous ##ly but is not re ##sp ##ons ##ive to painful stimuli , no acute distre...    42  \n",
       "[CLS] In my opinion , the risk of re ##current significant S ##U ##B _ B R ##P bleed S ##U ##B _ E out ##wei ##gh ##s the card ##io ##em ##bolic benefits in the setting of the patient ' s a - fi ##b . The patient can be restart ##ed on as ##pi ##r...    42  \n",
       "[CLS] Initially S ##U ##B _ B h ##y ##pot ##ens ##ive S ##U ##B _ E on O ##B ##J _ B le ##vo ##phe ##d O ##B ##J _ E and aggressively fluid re ##sus ##ci ##tated . [SEP] [PAD] [PAD] [PAD] [PAD] [PAD] [PAD] [PAD] [PAD] [PAD] [PAD] [PAD] [PAD] [PAD]...    42  \n",
       "[CLS] Initially he was S ##U ##B _ B h ##y ##pot ##ens ##ive S ##U ##B _ E which was treated with IV fluids and discontinued O ##B ##J _ B prop ##of ##ol O ##B ##J _ E , switching to f ##ent ##any ##l / verse ##d for se ##dation . [SEP] [PAD] [PAD...    42  \n",
       "[CLS] Initially he was S ##U ##B _ B h ##y ##pot ##ens ##ive S ##U ##B _ E which was treated with IV fluids and discontinued prop ##of ##ol , switching to O ##B ##J _ B f ##ent ##any ##l O ##B ##J _ E / verse ##d for se ##dation . [SEP] [PAD] [PAD...    42  \n",
       "[CLS] These medications were subsequently stopped by p ##c ##p due to h ##yper ##tens ##ion - Para ##no ##id s ##chi ##zophrenia : diagnosed 5 - 10 years ago admitted [ * * 12 - 19 * * ] x 2 weeks at [ * * Hospital 126 ##3 * * ] hospital ; [ * * D...    42  \n",
       "[CLS] Most likely S ##U ##B _ B le ##uk ##ope ##nia S ##U ##B _ E was due to recent initiation of flag ##yl , and should improve on O ##B ##J _ B c ##ip ##ro O ##B ##J _ E / van ##co regime ##n . [SEP] [PAD] [PAD] [PAD] [PAD] [PAD] [PAD] [PAD] [PA...    42  \n",
       "[CLS] On the day of in ##tub ##ation , she also became S ##U ##B _ B h ##y ##pot ##ens ##ive S ##U ##B _ E requiring initiation of nor ##ep ##ine ##ph ##rine . Also on daily O ##B ##J _ B fur ##ose ##mi ##de O ##B ##J _ E . [SEP] [PAD] [PAD] [PAD]...    42  \n",
       "[CLS] Other sources considered included line infections ( Right I ##J recently replaced in same site ) or S ##U ##B _ B C . di ##ff S ##U ##B _ E given prolonged O ##B ##J _ B AB ##X O ##B ##J _ E course . [SEP] [PAD] [PAD] [PAD] [PAD] [PAD] [PAD]...    42  \n",
       "[CLS] We in ##fused O ##B ##J _ B van ##co O ##B ##J _ E slowly ( over 2 hours ) in case of S ##U ##B _ B red man syndrome S ##U ##B _ E . [SEP] [PAD] [PAD] [PAD] [PAD] [PAD] [PAD] [PAD] [PAD] [PAD] [PAD] [PAD] [PAD] [PAD] [PAD] [PAD] [PAD] [PAD] ...    42  \n",
       "[CLS] P ##t again became S ##U ##B _ B S ##O ##B S ##U ##B _ E after blood products , improved with las ##ix and O ##B ##J _ B m ##or ##phine O ##B ##J _ E . [SEP] [PAD] [PAD] [PAD] [PAD] [PAD] [PAD] [PAD] [PAD] [PAD] [PAD] [PAD] [PAD] [PAD] [PAD]...    42  \n",
       "[CLS] Pat ##ient became S ##U ##B _ B h ##y ##pot ##ens ##ive S ##U ##B _ E and was started on do ##pa ##mine g ##gt overnight and O ##B ##J _ B le ##vo ##phe ##d O ##B ##J _ E the following morning . [SEP] [PAD] [PAD] [PAD] [PAD] [PAD] [PAD] [PAD...    42  \n",
       "[CLS] Per ##tinent Results : [ * * 214 ##4 - 8 - 10 * * ] 05 : 35 ##AM B ##L ##O ##OD W ##BC - 6 . 1 RB ##C - 3 . 45 * H ##g ##b - 9 . 4 * H ##ct - 28 . 9 * MC ##V - 84 MC ##H - 27 . 3 MC ##HC - 32 . 6 R ##D ##W - 15 . 2 P ##lt C ##t - 300 [ * * 2...    42  \n",
       "[CLS] Per ##tinent Results : [ * * 216 ##4 - 8 - 26 * * ] 03 : 03 ##AM B ##L ##O ##OD W ##BC - 15 . 8 * # RB ##C - 3 . 50 * H ##g ##b - 10 . 6 * H ##ct - 31 . 2 * MC ##V - 89 MC ##H - 30 . 4 MC ##HC - 34 . 0 R ##D ##W - 13 . 3 P ##lt C ##t - 33 ##...    42  \n",
       "[CLS] Return ##s with near s ##ync ##op ##al episodes and S ##U ##B _ B sin ##us bra ##dy ##card ##ia S ##U ##B _ E , likely medication related . Disc ##har ##ged on [ * * 2 - 15 * * ] on Do ##fe ##tel ##ide , O ##B ##J _ B Card ##ize ##m O ##B ##...    42  \n",
       "[CLS] He was instructed to contact PC ##P with results so that he can tape ##r his daily O ##B ##J _ B insulin O ##B ##J _ E shot to S ##U ##B _ B prevent h ##y ##po ##gly ##ce ##mia S ##U ##B _ E . [SEP] [PAD] [PAD] [PAD] [PAD] [PAD] [PAD] [PAD] ...    42  \n",
       "[CLS] Return ##s with near s ##ync ##op ##al episodes and S ##U ##B _ B sin ##us bra ##dy ##card ##ia S ##U ##B _ E , likely medication related . Disc ##har ##ged on [ * * 2 - 15 * * ] on O ##B ##J _ B Do ##fe ##tel ##ide O ##B ##J _ E , Card ##iz...    42  \n",
       "[CLS] She had S ##U ##B _ B fever ##s S ##U ##B _ E , weakness , and di ##ar ##r ##hea . Ad ##mission Date : [ * * 210 ##9 - 7 - 21 * * ] Disc ##har ##ge Date : [ * * 210 ##9 - 8 - 13 * * ] Date of Birth : [ * * 205 ##3 - 6 - 5 * * ] Sex : F Servi...    42  \n",
       "[CLS] She was found to be S ##U ##B _ B PR ##A positive S ##U ##B _ E and requires H ##LA matched O ##B ##J _ B plate ##let O ##B ##J _ E ##s . [SEP] [PAD] [PAD] [PAD] [PAD] [PAD] [PAD] [PAD] [PAD] [PAD] [PAD] [PAD] [PAD] [PAD] [PAD] [PAD] [PAD] [...    42  "
      ]
     },
     "execution_count": 7,
     "metadata": {},
     "output_type": "execute_result"
    }
   ],
   "source": [
    "df_results[ (df_results[\"True\"] == 7) ].groupby(\"input\").count().apply(lambda x: x.sort_values(ascending=False).head(20))"
   ]
  },
  {
   "cell_type": "code",
   "execution_count": 8,
   "metadata": {
    "colab": {
     "base_uri": "https://localhost:8080/"
    },
    "executionInfo": {
     "elapsed": 1439,
     "status": "ok",
     "timestamp": 1606254293636,
     "user": {
      "displayName": "Valerie Meausoone",
      "photoUrl": "https://lh3.googleusercontent.com/a-/AOh14GhEI3USGoSv9o6JShJGhR2V47o7KYZh-Ya1FgZ6=s64",
      "userId": "13066601150058162597"
     },
     "user_tz": 360
    },
    "id": "M85T_-H0us7K",
    "outputId": "70963959-3a19-4411-9f03-e8cf761cbb10"
   },
   "outputs": [
    {
     "data": {
      "text/plain": [
       "model_name\n",
       "outputs\\re\\BioBERT_CNN_fc2020-11-23 20_32_17_598176_bin                  775\n",
       "outputs\\re\\BioBERT_CNN_fc2020-11-23 23_16_23_167740_bin                  775\n",
       "outputs\\re\\BioBERT_CNN_fc2020-11-24 03_13_56_562308_bin                  775\n",
       "outputs\\re\\test_evaluated\\BERT_Sequence2020-11-16 05_43_28_786014_bin    274\n",
       "outputs\\re\\BioBERT_fc2020-11-22 23_49_51_449255_bin                      242\n",
       "outputs\\re\\BioBERT_fc2020-11-23 02_11_58_926877_bin                      224\n",
       "outputs\\re\\BioBERT_fc2020-11-16 00_40_57_659995_bin                      166\n",
       "outputs\\re\\test_evaluated\\BioBERT_fc2020-11-16 00_40_57_659995_bin       166\n",
       "outputs\\re\\test_evaluated\\BERT_Sequence2020-11-16 22_21_41_536138_bin    150\n",
       "outputs\\re\\BERT_Sequence2020-11-16 22_21_41_536138_bin                   150\n",
       "outputs\\re\\BERT_Sequence2020-11-20 12_33_00_408665_bin                   145\n",
       "outputs\\re\\test_evaluated\\BERT_Sequence2020-11-20 12_33_00_408665_bin    145\n",
       "outputs\\re\\test_evaluated\\BioBERT_fc2020-11-16 20_17_53_374127_bin       138\n",
       "outputs\\re\\BioBERT_fc2020-11-16 20_17_53_374127_bin                      138\n",
       "outputs\\re\\BERT_Sequence2020-11-16 05_43_28_786014_bin                   137\n",
       "outputs\\re\\test_evaluated\\BioBERT_fc2020-11-22 08_15_02_596134_bin       135\n",
       "outputs\\re\\BioBERT_fc2020-11-22 08_15_02_596134_bin                      135\n",
       "outputs\\re\\BioBERT_5epochs_bin                                           131\n",
       "outputs\\re\\test_evaluated\\BioBERT_5epochs_bin                            131\n",
       "outputs\\re\\test_evaluated\\BERT_Sequence2020-11-20 04_03_11_148846_bin    130\n",
       "outputs\\re\\BERT_Sequence2020-11-20 04_03_11_148846_bin                   130\n",
       "outputs\\re\\BioBERT_fc2020-11-21 22_06_59_632738_bin                      124\n",
       "outputs\\re\\test_evaluated\\BioBERT_fc2020-11-21 22_06_59_632738_bin       124\n",
       "outputs\\re\\test_evaluated\\BioBERT_fc2020-11-22 10_36_33_240569_bin       122\n",
       "outputs\\re\\BioBERT_fc2020-11-22 10_36_33_240569_bin                      122\n",
       "outputs\\re\\BioBERT_fc2020-11-25 04_15_53_420251_bin                      120\n",
       "outputs\\re\\BioBERT_fc2020-11-22 01_29_37_863601_bin                      119\n",
       "outputs\\re\\test_evaluated\\BioBERT_fc2020-11-22 01_29_37_863601_bin       119\n",
       "outputs\\re\\test_evaluated\\BioBERT_fc2020-11-20 01_41_02_300023_bin       119\n",
       "outputs\\re\\BioBERT_fc2020-11-20 01_41_02_300023_bin                      119\n",
       "outputs\\re\\BioBERT_fc2020-11-16 16_17_55_396529_bin                      118\n",
       "outputs\\re\\test_evaluated\\BioBERT_fc2020-11-16 16_17_55_396529_bin       118\n",
       "outputs\\re\\test_evaluated\\BioBERT_5epochs_256seq_bin                     112\n",
       "outputs\\re\\BioBERT_5epochs_256seq_bin                                    112\n",
       "outputs\\re\\BioBERT_fc2020-11-25 01_06_44_926278_bin                      111\n",
       "outputs\\re\\test_evaluated\\BioBERT_fc2020-11-20 08_58_14_655591_bin       109\n",
       "outputs\\re\\BioBERT_fc2020-11-20 08_58_14_655591_bin                      109\n",
       "outputs\\re\\BioBERT_fc2020-11-22 04_52_17_649546_bin                      108\n",
       "outputs\\re\\test_evaluated\\BioBERT_fc2020-11-22 04_52_17_649546_bin       108\n",
       "outputs\\re\\BioBERT_fc2020-11-16 03_37_07_579463_bin                      103\n",
       "outputs\\re\\test_evaluated\\BioBERT_fc2020-11-16 03_37_07_579463_bin       103\n",
       "Name: Predicted, dtype: int64"
      ]
     },
     "execution_count": 8,
     "metadata": {},
     "output_type": "execute_result"
    }
   ],
   "source": [
    "df_results[ (df_results[\"True\"] == 7) ].groupby(\"model_name\").count().apply(lambda x: x.sort_values(ascending=False).head(50))['Predicted']"
   ]
  },
  {
   "cell_type": "code",
   "execution_count": 10,
   "metadata": {
    "colab": {
     "base_uri": "https://localhost:8080/"
    },
    "executionInfo": {
     "elapsed": 1433,
     "status": "ok",
     "timestamp": 1606254293636,
     "user": {
      "displayName": "Valerie Meausoone",
      "photoUrl": "https://lh3.googleusercontent.com/a-/AOh14GhEI3USGoSv9o6JShJGhR2V47o7KYZh-Ya1FgZ6=s64",
      "userId": "13066601150058162597"
     },
     "user_tz": 360
    },
    "id": "FQzTN-r2us7K",
    "outputId": "28a78ef7-36ff-44ba-9dfd-504e05d11e42"
   },
   "outputs": [
    {
     "data": {
      "text/plain": [
       "0    107\n",
       "8      2\n",
       "3      1\n",
       "1      1\n",
       "Name: Predicted, dtype: int64"
      ]
     },
     "execution_count": 10,
     "metadata": {},
     "output_type": "execute_result"
    }
   ],
   "source": [
    "df_results[ (df_results[\"True\"] == 7) & (df_results[\"model_name\"] == 'outputs\\\\re\\\\BioBERT_fc2020-11-25 01_06_44_926278_bin')][\"Predicted\"].value_counts()"
   ]
  },
  {
   "cell_type": "code",
   "execution_count": 56,
   "metadata": {
    "colab": {
     "base_uri": "https://localhost:8080/"
    },
    "executionInfo": {
     "elapsed": 1428,
     "status": "ok",
     "timestamp": 1606254293636,
     "user": {
      "displayName": "Valerie Meausoone",
      "photoUrl": "https://lh3.googleusercontent.com/a-/AOh14GhEI3USGoSv9o6JShJGhR2V47o7KYZh-Ya1FgZ6=s64",
      "userId": "13066601150058162597"
     },
     "user_tz": 360
    },
    "id": "O00Txk8lus7K",
    "outputId": "d332e9ed-a2ea-48e5-9a3a-d7b6dfddf1fc"
   },
   "outputs": [
    {
     "data": {
      "text/plain": [
       "0    2300\n",
       "8      74\n",
       "3      16\n",
       "1       4\n",
       "5       3\n",
       "4       2\n",
       "Name: Predicted, dtype: int64"
      ]
     },
     "execution_count": 56,
     "metadata": {
      "tags": []
     },
     "output_type": "execute_result"
    }
   ],
   "source": [
    "df_results[ (df_results[\"True\"] == 7) ][\"Predicted\"].value_counts()"
   ]
  },
  {
   "cell_type": "markdown",
   "metadata": {
    "id": "cSanGQXgvvil"
   },
   "source": [
    "## Misclassification with model: sequence length 256, epochs 5, 1FC "
   ]
  },
  {
   "cell_type": "code",
   "execution_count": 57,
   "metadata": {
    "colab": {
     "base_uri": "https://localhost:8080/",
     "height": 49
    },
    "executionInfo": {
     "elapsed": 1423,
     "status": "ok",
     "timestamp": 1606254293637,
     "user": {
      "displayName": "Valerie Meausoone",
      "photoUrl": "https://lh3.googleusercontent.com/a-/AOh14GhEI3USGoSv9o6JShJGhR2V47o7KYZh-Ya1FgZ6=s64",
      "userId": "13066601150058162597"
     },
     "user_tz": 360
    },
    "id": "E6KVmY7E0ORm",
    "outputId": "ab9708c2-eadf-4263-92fe-ca930655b39f"
   },
   "outputs": [
    {
     "data": {
      "text/html": [
       "<div>\n",
       "<style scoped>\n",
       "    .dataframe tbody tr th:only-of-type {\n",
       "        vertical-align: middle;\n",
       "    }\n",
       "\n",
       "    .dataframe tbody tr th {\n",
       "        vertical-align: top;\n",
       "    }\n",
       "\n",
       "    .dataframe thead th {\n",
       "        text-align: right;\n",
       "    }\n",
       "</style>\n",
       "<table border=\"1\" class=\"dataframe\">\n",
       "  <thead>\n",
       "    <tr style=\"text-align: right;\">\n",
       "      <th></th>\n",
       "      <th>file_name</th>\n",
       "      <th>model_name</th>\n",
       "      <th>Predicted</th>\n",
       "      <th>True</th>\n",
       "      <th>input</th>\n",
       "    </tr>\n",
       "  </thead>\n",
       "  <tbody>\n",
       "  </tbody>\n",
       "</table>\n",
       "</div>"
      ],
      "text/plain": [
       "Empty DataFrame\n",
       "Columns: [file_name, model_name, Predicted, True, input]\n",
       "Index: []"
      ]
     },
     "execution_count": 57,
     "metadata": {
      "tags": []
     },
     "output_type": "execute_result"
    }
   ],
   "source": [
    "df_results[df_results['Predicted']==df_results['True']]"
   ]
  },
  {
   "cell_type": "code",
   "execution_count": 58,
   "metadata": {
    "colab": {
     "base_uri": "https://localhost:8080/"
    },
    "executionInfo": {
     "elapsed": 1416,
     "status": "ok",
     "timestamp": 1606254293637,
     "user": {
      "displayName": "Valerie Meausoone",
      "photoUrl": "https://lh3.googleusercontent.com/a-/AOh14GhEI3USGoSv9o6JShJGhR2V47o7KYZh-Ya1FgZ6=s64",
      "userId": "13066601150058162597"
     },
     "user_tz": 360
    },
    "id": "m3_l3q-EzyBh",
    "outputId": "eb427b56-7779-44d6-f26f-e97c434ffe5c"
   },
   "outputs": [
    {
     "data": {
      "text/plain": [
       "outputs\\re\\BioBERT_fc2020-11-16 00_40_57_659995_bin       1012\n",
       "outputs\\re\\BERT_Sequence2020-11-20 04_03_11_148846_bin     793\n",
       "outputs\\re\\BERT_Sequence2020-11-16 22_21_41_536138_bin     789\n",
       "outputs\\re\\BERT_Sequence2020-11-20 12_33_00_408665_bin     786\n",
       "outputs\\re\\BERT_Sequence2020-11-16 05_43_28_786014_bin     773\n",
       "outputs\\re\\BioBERT_fc2020-11-23 02_11_58_926877_bin        754\n",
       "outputs\\re\\BioBERT_fc2020-11-22 01_29_37_863601_bin        753\n",
       "outputs\\re\\BioBERT_fc2020-11-21 22_06_59_632738_bin        745\n",
       "outputs\\re\\BioBERT_5epochs_256seq_bin                      730\n",
       "outputs\\re\\BioBERT_fc2020-11-20 01_41_02_300023_bin        726\n",
       "outputs\\re\\BioBERT_fc2020-11-16 20_17_53_374127_bin        725\n",
       "outputs\\re\\BioBERT_fc2020-11-20 08_58_14_655591_bin        723\n",
       "outputs\\re\\BioBERT_fc2020-11-16 03_37_07_579463_bin        720\n",
       "outputs\\re\\BioBERT_fc2020-11-22 23_49_51_449255_bin        720\n",
       "outputs\\re\\BioBERT_5epochs_bin                             716\n",
       "outputs\\re\\BioBERT_fc2020-11-16 16_17_55_396529_bin        711\n",
       "outputs\\re\\BioBERT_fc2020-11-22 10_36_33_240569_bin        709\n",
       "outputs\\re\\BioBERT_fc2020-11-22 08_15_02_596134_bin        708\n",
       "outputs\\re\\BioBERT_fc2020-11-22 04_52_17_649546_bin        704\n",
       "Name: model_name, dtype: int64"
      ]
     },
     "execution_count": 58,
     "metadata": {
      "tags": []
     },
     "output_type": "execute_result"
    }
   ],
   "source": [
    "df_results['model_name'].value_counts()"
   ]
  },
  {
   "cell_type": "code",
   "execution_count": 59,
   "metadata": {
    "executionInfo": {
     "elapsed": 1553,
     "status": "ok",
     "timestamp": 1606254293776,
     "user": {
      "displayName": "Valerie Meausoone",
      "photoUrl": "https://lh3.googleusercontent.com/a-/AOh14GhEI3USGoSv9o6JShJGhR2V47o7KYZh-Ya1FgZ6=s64",
      "userId": "13066601150058162597"
     },
     "user_tz": 360
    },
    "id": "K40NTk7Qus7K"
   },
   "outputs": [],
   "source": [
    "misclass_m1 = df_results[(df_results['model_name'] == 'outputs\\\\re\\\\BioBERT_5epochs_256seq_bin')]"
   ]
  },
  {
   "cell_type": "code",
   "execution_count": 60,
   "metadata": {
    "colab": {
     "base_uri": "https://localhost:8080/"
    },
    "executionInfo": {
     "elapsed": 1548,
     "status": "ok",
     "timestamp": 1606254293777,
     "user": {
      "displayName": "Valerie Meausoone",
      "photoUrl": "https://lh3.googleusercontent.com/a-/AOh14GhEI3USGoSv9o6JShJGhR2V47o7KYZh-Ya1FgZ6=s64",
      "userId": "13066601150058162597"
     },
     "user_tz": 360
    },
    "id": "BUbXvkJAze35",
    "outputId": "9915bc1f-019c-42a9-a4a6-8e75ea42b3cc"
   },
   "outputs": [
    {
     "data": {
      "text/plain": [
       "730"
      ]
     },
     "execution_count": 60,
     "metadata": {
      "tags": []
     },
     "output_type": "execute_result"
    }
   ],
   "source": [
    "len(misclass_m1)"
   ]
  },
  {
   "cell_type": "code",
   "execution_count": 61,
   "metadata": {
    "colab": {
     "base_uri": "https://localhost:8080/"
    },
    "executionInfo": {
     "elapsed": 1543,
     "status": "ok",
     "timestamp": 1606254293777,
     "user": {
      "displayName": "Valerie Meausoone",
      "photoUrl": "https://lh3.googleusercontent.com/a-/AOh14GhEI3USGoSv9o6JShJGhR2V47o7KYZh-Ya1FgZ6=s64",
      "userId": "13066601150058162597"
     },
     "user_tz": 360
    },
    "id": "d8SWFBE2zp-w",
    "outputId": "8a59fd4e-f8de-404c-ed07-88d27d13eb5d"
   },
   "outputs": [
    {
     "name": "stderr",
     "output_type": "stream",
     "text": [
      "/usr/local/lib/python3.6/dist-packages/ipykernel_launcher.py:1: FutureWarning: Passing a negative integer is deprecated in version 1.0 and will not be supported in future version. Instead, use None to not limit the column width.\n",
      "  \"\"\"Entry point for launching an IPython kernel.\n"
     ]
    }
   ],
   "source": [
    "pd.set_option('display.max_colwidth', -1)\n",
    "#misclass_ade_m1.head()"
   ]
  },
  {
   "cell_type": "code",
   "execution_count": 62,
   "metadata": {
    "colab": {
     "base_uri": "https://localhost:8080/"
    },
    "executionInfo": {
     "elapsed": 1539,
     "status": "ok",
     "timestamp": 1606254293778,
     "user": {
      "displayName": "Valerie Meausoone",
      "photoUrl": "https://lh3.googleusercontent.com/a-/AOh14GhEI3USGoSv9o6JShJGhR2V47o7KYZh-Ya1FgZ6=s64",
      "userId": "13066601150058162597"
     },
     "user_tz": 360
    },
    "id": "VLzhl7Hwzxeu",
    "outputId": "92f0cce1-3df3-46a3-cbda-5d701579d41c"
   },
   "outputs": [
    {
     "name": "stderr",
     "output_type": "stream",
     "text": [
      "/usr/local/lib/python3.6/dist-packages/ipykernel_launcher.py:1: SettingWithCopyWarning: \n",
      "A value is trying to be set on a copy of a slice from a DataFrame.\n",
      "Try using .loc[row_indexer,col_indexer] = value instead\n",
      "\n",
      "See the caveats in the documentation: https://pandas.pydata.org/pandas-docs/stable/user_guide/indexing.html#returning-a-view-versus-a-copy\n",
      "  \"\"\"Entry point for launching an IPython kernel.\n"
     ]
    }
   ],
   "source": [
    "misclass_m1['cleaned_input'] = misclass_m1['input'].str.replace(' ##', '')"
   ]
  },
  {
   "cell_type": "code",
   "execution_count": 63,
   "metadata": {
    "colab": {
     "base_uri": "https://localhost:8080/"
    },
    "executionInfo": {
     "elapsed": 1534,
     "status": "ok",
     "timestamp": 1606254293778,
     "user": {
      "displayName": "Valerie Meausoone",
      "photoUrl": "https://lh3.googleusercontent.com/a-/AOh14GhEI3USGoSv9o6JShJGhR2V47o7KYZh-Ya1FgZ6=s64",
      "userId": "13066601150058162597"
     },
     "user_tz": 360
    },
    "id": "kQBI3v9B-pyr",
    "outputId": "77ef164f-7f15-4d61-8922-265834c47252"
   },
   "outputs": [
    {
     "name": "stderr",
     "output_type": "stream",
     "text": [
      "/usr/local/lib/python3.6/dist-packages/ipykernel_launcher.py:1: SettingWithCopyWarning: \n",
      "A value is trying to be set on a copy of a slice from a DataFrame.\n",
      "Try using .loc[row_indexer,col_indexer] = value instead\n",
      "\n",
      "See the caveats in the documentation: https://pandas.pydata.org/pandas-docs/stable/user_guide/indexing.html#returning-a-view-versus-a-copy\n",
      "  \"\"\"Entry point for launching an IPython kernel.\n"
     ]
    }
   ],
   "source": [
    "misclass_m1['cleaned_input'] = misclass_m1['cleaned_input'].str.replace('\\[PAD\\]', '')"
   ]
  },
  {
   "cell_type": "markdown",
   "metadata": {
    "id": "bcLjAyUZ_GpQ"
   },
   "source": [
    "### Calculate sequence length"
   ]
  },
  {
   "cell_type": "code",
   "execution_count": 64,
   "metadata": {
    "colab": {
     "base_uri": "https://localhost:8080/"
    },
    "executionInfo": {
     "elapsed": 1530,
     "status": "ok",
     "timestamp": 1606254293779,
     "user": {
      "displayName": "Valerie Meausoone",
      "photoUrl": "https://lh3.googleusercontent.com/a-/AOh14GhEI3USGoSv9o6JShJGhR2V47o7KYZh-Ya1FgZ6=s64",
      "userId": "13066601150058162597"
     },
     "user_tz": 360
    },
    "id": "Jawy6KRn8C0b",
    "outputId": "04cbf5cd-82b1-4e25-e157-0f3dda25e73b"
   },
   "outputs": [
    {
     "name": "stderr",
     "output_type": "stream",
     "text": [
      "/usr/local/lib/python3.6/dist-packages/ipykernel_launcher.py:1: SettingWithCopyWarning: \n",
      "A value is trying to be set on a copy of a slice from a DataFrame.\n",
      "Try using .loc[row_indexer,col_indexer] = value instead\n",
      "\n",
      "See the caveats in the documentation: https://pandas.pydata.org/pandas-docs/stable/user_guide/indexing.html#returning-a-view-versus-a-copy\n",
      "  \"\"\"Entry point for launching an IPython kernel.\n"
     ]
    }
   ],
   "source": [
    "misclass_m1['seq_length'] = misclass_m1['cleaned_input'].str.len()"
   ]
  },
  {
   "cell_type": "code",
   "execution_count": 65,
   "metadata": {
    "colab": {
     "base_uri": "https://localhost:8080/",
     "height": 1000
    },
    "executionInfo": {
     "elapsed": 1521,
     "status": "ok",
     "timestamp": 1606254293779,
     "user": {
      "displayName": "Valerie Meausoone",
      "photoUrl": "https://lh3.googleusercontent.com/a-/AOh14GhEI3USGoSv9o6JShJGhR2V47o7KYZh-Ya1FgZ6=s64",
      "userId": "13066601150058162597"
     },
     "user_tz": 360
    },
    "id": "1ed5ifBT8FlN",
    "outputId": "bc96f389-64ad-45f2-ca2b-162f00aefbae"
   },
   "outputs": [
    {
     "data": {
      "text/html": [
       "<div>\n",
       "<style scoped>\n",
       "    .dataframe tbody tr th:only-of-type {\n",
       "        vertical-align: middle;\n",
       "    }\n",
       "\n",
       "    .dataframe tbody tr th {\n",
       "        vertical-align: top;\n",
       "    }\n",
       "\n",
       "    .dataframe thead th {\n",
       "        text-align: right;\n",
       "    }\n",
       "</style>\n",
       "<table border=\"1\" class=\"dataframe\">\n",
       "  <thead>\n",
       "    <tr style=\"text-align: right;\">\n",
       "      <th></th>\n",
       "      <th>file_name</th>\n",
       "      <th>model_name</th>\n",
       "      <th>Predicted</th>\n",
       "      <th>True</th>\n",
       "      <th>input</th>\n",
       "      <th>cleaned_input</th>\n",
       "      <th>seq_length</th>\n",
       "    </tr>\n",
       "  </thead>\n",
       "  <tbody>\n",
       "    <tr>\n",
       "      <th>11391</th>\n",
       "      <td>reports/re/test_results_2020-11-23 06_11_44_159352.pkl</td>\n",
       "      <td>outputs\\re\\BioBERT_5epochs_256seq_bin</td>\n",
       "      <td>8</td>\n",
       "      <td>2</td>\n",
       "      <td>[CLS] Relations ##hip : daughter Phone : [ * * Telephone / F ##ax ( 1 ) 243 ##12 * * ] Me ##dication ##s on Ad ##mission : Ali ##ski ##ren * N ##F * 150 mg Oral q ##d [ * * 9 - 5 * * ] @ 112 ##8 War ##fari ##n 2 . 5 mg P ##O 4 ##X / W ##EE ##K ( [ * * Doctor First Name * * ] , M ##O , W ##E , F ##R ) War ##fari ##n 2 mg P ##O D ##A ##Y ##S ( T ##U , T ##H , SA ) [ * * 9 - 5 * * ] @ 112 ##8 Am ##lo ##di ##pine 2 . 5 mg P ##O D ##A ##IL ##Y [ * * 9 - 5 * * ] @ 112 ##8 At ##or ##vas ##tat ##in 80 mg P ##O D ##A ##IL ##Y [ * * 9 - 5 * * ] @ 112 ##8 Lev ##oth ##yr ##ox ##ine So ##dium 112 m ##c ##g P ##O D ##A ##IL ##Y [ * * 9 - 5 * * ] @ 112 ##8 C ##lop ##ido ##g ##rel 75 mg P ##O D ##A ##IL ##Y [ * * 9 - 5 * * ] @ 112 ##8 Po ##tas ##sium Ch ##lor ##ide 20 m ##E ##q P ##O B ##ID Du ##ration : 24 Hours Met ##op ##rol ##ol Su ##cci ##nate X ##L 50 mg [SEP]</td>\n",
       "      <td>[CLS] Relationship : daughter Phone : [ * * Telephone / Fax ( 1 ) 24312 * * ] Medications on Admission : Aliskiren * NF * 150 mg Oral qd [ * * 9 - 5 * * ] @ 1128 Warfarin 2 . 5 mg PO 4X / WEEK ( [ * * Doctor First Name * * ] , MO , WE , FR ) Warfarin 2 mg PO DAYS ( TU , TH , SA ) [ * * 9 - 5 * * ] @ 1128 Amlodipine 2 . 5 mg PO DAILY [ * * 9 - 5 * * ] @ 1128 Atorvastatin 80 mg PO DAILY [ * * 9 - 5 * * ] @ 1128 Levothyroxine Sodium 112 mcg PO DAILY [ * * 9 - 5 * * ] @ 1128 Clopidogrel 75 mg PO DAILY [ * * 9 - 5 * * ] @ 1128 Potassium Chloride 20 mEq PO BID Duration : 24 Hours Metoprolol Succinate XL 50 mg [SEP]</td>\n",
       "      <td>616</td>\n",
       "    </tr>\n",
       "    <tr>\n",
       "      <th>11392</th>\n",
       "      <td>reports/re/test_results_2020-11-23 06_11_44_159352.pkl</td>\n",
       "      <td>outputs\\re\\BioBERT_5epochs_256seq_bin</td>\n",
       "      <td>6</td>\n",
       "      <td>2</td>\n",
       "      <td>[CLS] Pol ##ys ##por ##in was discontinued ( with concern for h ##yper ##sen ##si ##ti ##v ##ty per discussion with daughter ) and other me ##ds ( O ##B ##J _ B Pre ##d O ##B ##J _ E S ##U ##B _ B 1 S ##U ##B _ E % T ##ID OS , Tim ##olo ##l 0 . 5 % [ * * Hospital ##SU ##B _ B 1 S ##U ##B _ E * * ] O ##U , X ##ala ##tan Q ##HS OS , To ##bra ##de ##x [ * * Doctor Last Name * * ] OS Q ##HS ) continued . [SEP] [PAD] [PAD] [PAD] [PAD] [PAD] [PAD] [PAD] [PAD] [PAD] [PAD] [PAD] [PAD] [PAD] [PAD] [PAD] [PAD] [PAD] [PAD] [PAD] [PAD] [PAD] [PAD] [PAD] [PAD] [PAD] [PAD] [PAD] [PAD] [PAD] [PAD] [PAD] [PAD] [PAD] [PAD] [PAD] [PAD] [PAD] [PAD] [PAD] [PAD] [PAD] [PAD] [PAD] [PAD] [PAD] [PAD] [PAD] [PAD] [PAD] [PAD] [PAD] [PAD] [PAD] [PAD] [PAD] [PAD] [PAD] [PAD] [PAD] [PAD] [PAD] [PAD] [PAD] [PAD] [PAD] [PAD] [PAD] [PAD] [PAD] [PAD] [PAD] [PAD] [PAD] [PAD] [PAD] [PAD] [PAD] [PAD] [PAD] [PAD] [PAD] [PAD] [PAD] [PAD] [PAD] [PAD] [PAD] [PAD] [PAD] [PAD] [PAD] [PAD] [PAD] [PAD] [PAD] [PAD] [PAD] [PAD] [PAD] [PAD] [PAD] [PAD] [PAD] [PAD] [PAD] [PAD] [PAD] [PAD] [PAD] [PAD] [PAD] [PAD] [PAD] [PAD] [PAD] [PAD] [PAD] [PAD] [PAD] [PAD] [PAD] [PAD] [PAD] [PAD] [PAD] [PAD] [PAD] [PAD] [PAD] [PAD] [PAD] [PAD] [PAD] [PAD] [PAD] [PAD] [PAD] [PAD] [PAD] [PAD] [PAD] [PAD] [PAD] [PAD] [PAD] [PAD]</td>\n",
       "      <td>[CLS] Polysporin was discontinued ( with concern for hypersensitivty per discussion with daughter ) and other meds ( OBJ _ B Pred OBJ _ E SUB _ B 1 SUB _ E % TID OS , Timolol 0 . 5 % [ * * HospitalSUB _ B 1 SUB _ E * * ] OU , Xalatan QHS OS , Tobradex [ * * Doctor Last Name * * ] OS QHS ) continued . [SEP]</td>\n",
       "      <td>453</td>\n",
       "    </tr>\n",
       "    <tr>\n",
       "      <th>11393</th>\n",
       "      <td>reports/re/test_results_2020-11-23 06_11_44_159352.pkl</td>\n",
       "      <td>outputs\\re\\BioBERT_5epochs_256seq_bin</td>\n",
       "      <td>8</td>\n",
       "      <td>1</td>\n",
       "      <td>[CLS] Me ##dication ##s on Ad ##mission : Pro ##gra ##f 1 ##m ##g [ * * Hospital ##1 * * ] I ##mura ##n 50 ##m ##g [ * * Hospital ##1 * * ] Cell ##ce ##pt ( my ##co ##phe ##ni ##date m ##of ##eti ##l ) 1000 ##m ##g [ * * Hospital ##1 * * ] b ##act ##rim met ##op ##rol ##ol 50 ##m ##g [ * * Hospital ##1 * * ] C ##lind ##age ##l as ##a 81 ##m ##g daily f ##osa ##max 35 ##m ##g q f ##ri ma ##rino ##l 5 ##m ##g q ##pm and q ##hs si ##met ##hic ##one 80 ##m ##g [ * * Hospital ##1 * * ] ca ##l ##cum 500 ##m ##g + D [ * * Hospital ##1 * * ] Am ##bie ##n ( z ##ol ##pid ##em ) 5 ##m ##g q ##hs do ##xa ##zo ##sin 1 . 5 ##m ##g q ##hs h ##ydro ##xy ##zine h ##c ##l 50 ##m ##g [ * * Hospital ##1 * * ] r ##ital ##in 15 ##m ##g q ##am re ##mer ##on 7 . 5 q ##hs p ##ril ##ose ##c 20 ##m ##g daily E ##ffe ##x ##or 37 . 5 ##m ##g daily F ##lor ##ine ##f 0 . 1 ##m ##g daily Las ##ix 20 ##m ##g daily Kaye ##xy ##late Li ##pit ##or 10 ##m ##g daily Li ##sin ##op ##ril 5 ##m ##g daily Per ##co ##ce ##t [SEP]</td>\n",
       "      <td>[CLS] Medications on Admission : Prograf 1mg [ * * Hospital1 * * ] Imuran 50mg [ * * Hospital1 * * ] Cellcept ( mycophenidate mofetil ) 1000mg [ * * Hospital1 * * ] bactrim metoprolol 50mg [ * * Hospital1 * * ] Clindagel asa 81mg daily fosamax 35mg q fri marinol 5mg qpm and qhs simethicone 80mg [ * * Hospital1 * * ] calcum 500mg + D [ * * Hospital1 * * ] Ambien ( zolpidem ) 5mg qhs doxazosin 1 . 5mg qhs hydroxyzine hcl 50mg [ * * Hospital1 * * ] ritalin 15mg qam remeron 7 . 5 qhs prilosec 20mg daily Effexor 37 . 5mg daily Florinef 0 . 1mg daily Lasix 20mg daily Kayexylate Lipitor 10mg daily Lisinopril 5mg daily Percocet [SEP]</td>\n",
       "      <td>633</td>\n",
       "    </tr>\n",
       "    <tr>\n",
       "      <th>11394</th>\n",
       "      <td>reports/re/test_results_2020-11-23 06_11_44_159352.pkl</td>\n",
       "      <td>outputs\\re\\BioBERT_5epochs_256seq_bin</td>\n",
       "      <td>6</td>\n",
       "      <td>2</td>\n",
       "      <td>[CLS] O ##B ##J _ B H ##ydro ##mor ##phone ( P ##F ) O ##B ##J _ E 1 mg / m ##L S ##yr ##inge Si ##g : S ##U ##B _ B 0 . 25 - 0 . 5 mg S ##U ##B _ E In ##jection Q ##3 ##H ( every 3 hours ) as needed for pain : ( patient has not required this medication in &gt; 48 ##hr ##s ) . [SEP] [PAD] [PAD] [PAD] [PAD] [PAD] [PAD] [PAD] [PAD] [PAD] [PAD] [PAD] [PAD] [PAD] [PAD] [PAD] [PAD] [PAD] [PAD] [PAD] [PAD] [PAD] [PAD] [PAD] [PAD] [PAD] [PAD] [PAD] [PAD] [PAD] [PAD] [PAD] [PAD] [PAD] [PAD] [PAD] [PAD] [PAD] [PAD] [PAD] [PAD] [PAD] [PAD] [PAD] [PAD] [PAD] [PAD] [PAD] [PAD] [PAD] [PAD] [PAD] [PAD] [PAD] [PAD] [PAD] [PAD] [PAD] [PAD] [PAD] [PAD] [PAD] [PAD] [PAD] [PAD] [PAD] [PAD] [PAD] [PAD] [PAD] [PAD] [PAD] [PAD] [PAD] [PAD] [PAD] [PAD] [PAD] [PAD] [PAD] [PAD] [PAD] [PAD] [PAD] [PAD] [PAD] [PAD] [PAD] [PAD] [PAD] [PAD] [PAD] [PAD] [PAD] [PAD] [PAD] [PAD] [PAD] [PAD] [PAD] [PAD] [PAD] [PAD] [PAD] [PAD] [PAD] [PAD] [PAD] [PAD] [PAD] [PAD] [PAD] [PAD] [PAD] [PAD] [PAD] [PAD] [PAD] [PAD] [PAD] [PAD] [PAD] [PAD] [PAD] [PAD] [PAD] [PAD] [PAD] [PAD] [PAD] [PAD] [PAD] [PAD] [PAD] [PAD] [PAD] [PAD] [PAD] [PAD] [PAD] [PAD] [PAD] [PAD] [PAD] [PAD] [PAD] [PAD] [PAD] [PAD] [PAD] [PAD] [PAD] [PAD] [PAD] [PAD] [PAD] [PAD] [PAD] [PAD] [PAD] [PAD] [PAD] [PAD] [PAD] [PAD] [PAD] [PAD] [PAD] [PAD] [PAD] [PAD] [PAD] [PAD] [PAD] [PAD] [PAD] [PAD] [PAD] [PAD]</td>\n",
       "      <td>[CLS] OBJ _ B Hydromorphone ( PF ) OBJ _ E 1 mg / mL Syringe Sig : SUB _ B 0 . 25 - 0 . 5 mg SUB _ E Injection Q3H ( every 3 hours ) as needed for pain : ( patient has not required this medication in &gt; 48hrs ) . [SEP]</td>\n",
       "      <td>395</td>\n",
       "    </tr>\n",
       "    <tr>\n",
       "      <th>11395</th>\n",
       "      <td>reports/re/test_results_2020-11-23 06_11_44_159352.pkl</td>\n",
       "      <td>outputs\\re\\BioBERT_5epochs_256seq_bin</td>\n",
       "      <td>5</td>\n",
       "      <td>1</td>\n",
       "      <td>[CLS] O ##B ##J _ B He ##par ##in ( Po ##rc ##ine ) O ##B ##J _ E 5 , 000 unit / m ##L Sol ##ution Si ##g : One ( 1 ) S ##U ##B _ B In ##jection S ##U ##B _ E [ * * Hospital ##1 * * ] ( 2 times a day ) . [SEP] [PAD] [PAD] [PAD] [PAD] [PAD] [PAD] [PAD] [PAD] [PAD] [PAD] [PAD] [PAD] [PAD] [PAD] [PAD] [PAD] [PAD] [PAD] [PAD] [PAD] [PAD] [PAD] [PAD] [PAD] [PAD] [PAD] [PAD] [PAD] [PAD] [PAD] [PAD] [PAD] [PAD] [PAD] [PAD] [PAD] [PAD] [PAD] [PAD] [PAD] [PAD] [PAD] [PAD] [PAD] [PAD] [PAD] [PAD] [PAD] [PAD] [PAD] [PAD] [PAD] [PAD] [PAD] [PAD] [PAD] [PAD] [PAD] [PAD] [PAD] [PAD] [PAD] [PAD] [PAD] [PAD] [PAD] [PAD] [PAD] [PAD] [PAD] [PAD] [PAD] [PAD] [PAD] [PAD] [PAD] [PAD] [PAD] [PAD] [PAD] [PAD] [PAD] [PAD] [PAD] [PAD] [PAD] [PAD] [PAD] [PAD] [PAD] [PAD] [PAD] [PAD] [PAD] [PAD] [PAD] [PAD] [PAD] [PAD] [PAD] [PAD] [PAD] [PAD] [PAD] [PAD] [PAD] [PAD] [PAD] [PAD] [PAD] [PAD] [PAD] [PAD] [PAD] [PAD] [PAD] [PAD] [PAD] [PAD] [PAD] [PAD] [PAD] [PAD] [PAD] [PAD] [PAD] [PAD] [PAD] [PAD] [PAD] [PAD] [PAD] [PAD] [PAD] [PAD] [PAD] [PAD] [PAD] [PAD] [PAD] [PAD] [PAD] [PAD] [PAD] [PAD] [PAD] [PAD] [PAD] [PAD] [PAD] [PAD] [PAD] [PAD] [PAD] [PAD] [PAD] [PAD] [PAD] [PAD] [PAD] [PAD] [PAD] [PAD] [PAD] [PAD] [PAD] [PAD] [PAD] [PAD] [PAD] [PAD] [PAD] [PAD] [PAD] [PAD] [PAD] [PAD] [PAD] [PAD] [PAD] [PAD] [PAD] [PAD] [PAD] [PAD] [PAD] [PAD] [PAD] [PAD] [PAD] [PAD] [PAD] [PAD]</td>\n",
       "      <td>[CLS] OBJ _ B Heparin ( Porcine ) OBJ _ E 5 , 000 unit / mL Solution Sig : One ( 1 ) SUB _ B Injection SUB _ E [ * * Hospital1 * * ] ( 2 times a day ) . [SEP]</td>\n",
       "      <td>351</td>\n",
       "    </tr>\n",
       "  </tbody>\n",
       "</table>\n",
       "</div>"
      ],
      "text/plain": [
       "                                                    file_name  ... seq_length\n",
       "11391  reports/re/test_results_2020-11-23 06_11_44_159352.pkl  ...  616      \n",
       "11392  reports/re/test_results_2020-11-23 06_11_44_159352.pkl  ...  453      \n",
       "11393  reports/re/test_results_2020-11-23 06_11_44_159352.pkl  ...  633      \n",
       "11394  reports/re/test_results_2020-11-23 06_11_44_159352.pkl  ...  395      \n",
       "11395  reports/re/test_results_2020-11-23 06_11_44_159352.pkl  ...  351      \n",
       "\n",
       "[5 rows x 7 columns]"
      ]
     },
     "execution_count": 65,
     "metadata": {
      "tags": []
     },
     "output_type": "execute_result"
    }
   ],
   "source": [
    "misclass_m1.head()"
   ]
  },
  {
   "cell_type": "code",
   "execution_count": 66,
   "metadata": {
    "colab": {
     "base_uri": "https://localhost:8080/"
    },
    "executionInfo": {
     "elapsed": 1516,
     "status": "ok",
     "timestamp": 1606254293779,
     "user": {
      "displayName": "Valerie Meausoone",
      "photoUrl": "https://lh3.googleusercontent.com/a-/AOh14GhEI3USGoSv9o6JShJGhR2V47o7KYZh-Ya1FgZ6=s64",
      "userId": "13066601150058162597"
     },
     "user_tz": 360
    },
    "id": "GwH_9XtMWLEf",
    "outputId": "02bbe6e5-7b6c-41ad-e635-245fe8594007"
   },
   "outputs": [
    {
     "data": {
      "text/plain": [
       "11396    [CLS] SUB _ B Intracranial hemorrage SUB _ E : While on a OBJ _ B heparin OBJ _ E drip for DVT , the patient was noted to have anisocoria . [SEP]                                                                                                                                                                                                                                                                                                                                                                                                             \n",
       "11401    [CLS] The patient ' s platelets declined to 90 while in the MICU and he was found to be SUB _ B HIT SUB _ E antibody positive . OBJ _ B Heparin OBJ _ E products were held and the patient ' s platelet count stabilized . [SEP]                                                                                                                                                                                                                                                                                                                              \n",
       "11408    [CLS] # # SUB _ B Thrombocytopenia SUB _ E : Patient ' s platelet count was 122K on admission and dropped three days later to 62K . Was placed on argatroban gtt and aggrenox and bridged to OBJ _ B coumadin OBJ _ E while HIT Ab test was pending . [SEP]                                                                                                                                                                                                                                                                                                   \n",
       "11409    [CLS] SUB _ B ANAPHYLAXIS SUB _ E TO OBJ _ B BACTRIM OBJ _ E : Patient developed fever / tachycardia / hypotension on hospital day # 2 ; initial suspicion for sepsis syndrome , however blood cultures remained negative and hemodynamic recovery achieved with massive fluid resuscitation in the ICU - of note , patient had received dose of Bactrim for PCP prophylaxis preceding his hypotension . [SEP]                                                                                                                                                \n",
       "11418    [CLS] Upon return to the floor , he received an additional dose of OBJ _ B Bactrim OBJ _ E - with recurrence of SUB _ B fever SUB _ E / tachycardia / hypotension , again requiring ICU stay for massive fluid resuscitation . [SEP]                                                                                                                                                                                                                                                                                                                          \n",
       "Name: cleaned_input, dtype: object"
      ]
     },
     "execution_count": 66,
     "metadata": {
      "tags": []
     },
     "output_type": "execute_result"
    }
   ],
   "source": [
    "misclass_m1[(misclass_m1['True']==7)]['cleaned_input'].head()"
   ]
  },
  {
   "cell_type": "code",
   "execution_count": 67,
   "metadata": {
    "colab": {
     "base_uri": "https://localhost:8080/"
    },
    "executionInfo": {
     "elapsed": 1750,
     "status": "ok",
     "timestamp": 1606254294021,
     "user": {
      "displayName": "Valerie Meausoone",
      "photoUrl": "https://lh3.googleusercontent.com/a-/AOh14GhEI3USGoSv9o6JShJGhR2V47o7KYZh-Ya1FgZ6=s64",
      "userId": "13066601150058162597"
     },
     "user_tz": 360
    },
    "id": "Jsp-HGdz-grF",
    "outputId": "52b089f2-3430-4dd2-bc56-877f7da047e8"
   },
   "outputs": [
    {
     "data": {
      "text/plain": [
       "True\n",
       "0    476.818182\n",
       "1    463.726190\n",
       "2    556.918367\n",
       "3    576.417910\n",
       "4    474.294118\n",
       "5    480.946108\n",
       "6    500.696970\n",
       "7    430.294643\n",
       "8    653.555556\n",
       "Name: seq_length, dtype: float64"
      ]
     },
     "execution_count": 67,
     "metadata": {
      "tags": []
     },
     "output_type": "execute_result"
    }
   ],
   "source": [
    "misclass_m1['seq_length'].groupby(misclass_m1['True']).mean()"
   ]
  },
  {
   "cell_type": "code",
   "execution_count": 68,
   "metadata": {
    "colab": {
     "base_uri": "https://localhost:8080/"
    },
    "executionInfo": {
     "elapsed": 1747,
     "status": "ok",
     "timestamp": 1606254294022,
     "user": {
      "displayName": "Valerie Meausoone",
      "photoUrl": "https://lh3.googleusercontent.com/a-/AOh14GhEI3USGoSv9o6JShJGhR2V47o7KYZh-Ya1FgZ6=s64",
      "userId": "13066601150058162597"
     },
     "user_tz": 360
    },
    "id": "E7SolTTqUPyI",
    "outputId": "49958d13-08b5-44da-b366-41ae845f3fe6"
   },
   "outputs": [
    {
     "data": {
      "text/plain": [
       "True\n",
       "0    309\n",
       "1    297\n",
       "2    288\n",
       "3    296\n",
       "4    293\n",
       "5    289\n",
       "6    288\n",
       "7    320\n",
       "8    493\n",
       "Name: seq_length, dtype: int64"
      ]
     },
     "execution_count": 68,
     "metadata": {
      "tags": []
     },
     "output_type": "execute_result"
    }
   ],
   "source": [
    "misclass_m1['seq_length'].groupby(misclass_m1['True']).min()"
   ]
  },
  {
   "cell_type": "code",
   "execution_count": 69,
   "metadata": {
    "colab": {
     "base_uri": "https://localhost:8080/"
    },
    "executionInfo": {
     "elapsed": 1742,
     "status": "ok",
     "timestamp": 1606254294022,
     "user": {
      "displayName": "Valerie Meausoone",
      "photoUrl": "https://lh3.googleusercontent.com/a-/AOh14GhEI3USGoSv9o6JShJGhR2V47o7KYZh-Ya1FgZ6=s64",
      "userId": "13066601150058162597"
     },
     "user_tz": 360
    },
    "id": "iZsoOt-eVi7q",
    "outputId": "a04052b6-7c95-4eb8-a1a5-706480366258"
   },
   "outputs": [
    {
     "data": {
      "text/plain": [
       "True\n",
       "0    856\n",
       "1    769\n",
       "2    941\n",
       "3    753\n",
       "4    750\n",
       "5    868\n",
       "6    757\n",
       "7    868\n",
       "8    746\n",
       "Name: seq_length, dtype: int64"
      ]
     },
     "execution_count": 69,
     "metadata": {
      "tags": []
     },
     "output_type": "execute_result"
    }
   ],
   "source": [
    "misclass_m1['seq_length'].groupby(misclass_m1['True']).max()"
   ]
  },
  {
   "cell_type": "code",
   "execution_count": 70,
   "metadata": {
    "executionInfo": {
     "elapsed": 1741,
     "status": "ok",
     "timestamp": 1606254294023,
     "user": {
      "displayName": "Valerie Meausoone",
      "photoUrl": "https://lh3.googleusercontent.com/a-/AOh14GhEI3USGoSv9o6JShJGhR2V47o7KYZh-Ya1FgZ6=s64",
      "userId": "13066601150058162597"
     },
     "user_tz": 360
    },
    "id": "euk3MDYrV42e"
   },
   "outputs": [],
   "source": [
    "misclass_ade_m1 = misclass_m1[(misclass_m1['True']==7)].copy()"
   ]
  },
  {
   "cell_type": "code",
   "execution_count": 71,
   "metadata": {
    "colab": {
     "base_uri": "https://localhost:8080/"
    },
    "executionInfo": {
     "elapsed": 1736,
     "status": "ok",
     "timestamp": 1606254294023,
     "user": {
      "displayName": "Valerie Meausoone",
      "photoUrl": "https://lh3.googleusercontent.com/a-/AOh14GhEI3USGoSv9o6JShJGhR2V47o7KYZh-Ya1FgZ6=s64",
      "userId": "13066601150058162597"
     },
     "user_tz": 360
    },
    "id": "8C0IU_scYJcw",
    "outputId": "e00a86e8-52ef-4de3-9b60-389993eb22e9"
   },
   "outputs": [
    {
     "data": {
      "text/plain": [
       "0    107\n",
       "8    4  \n",
       "3    1  \n",
       "Name: Predicted, dtype: int64"
      ]
     },
     "execution_count": 71,
     "metadata": {
      "tags": []
     },
     "output_type": "execute_result"
    }
   ],
   "source": [
    "misclass_ade_m1['Predicted'].value_counts()"
   ]
  },
  {
   "cell_type": "code",
   "execution_count": 72,
   "metadata": {
    "colab": {
     "base_uri": "https://localhost:8080/"
    },
    "executionInfo": {
     "elapsed": 1732,
     "status": "ok",
     "timestamp": 1606254294024,
     "user": {
      "displayName": "Valerie Meausoone",
      "photoUrl": "https://lh3.googleusercontent.com/a-/AOh14GhEI3USGoSv9o6JShJGhR2V47o7KYZh-Ya1FgZ6=s64",
      "userId": "13066601150058162597"
     },
     "user_tz": 360
    },
    "id": "d98PRzDOYdeF",
    "outputId": "1923f846-76f9-40a3-c842-dbdf5e736cf3"
   },
   "outputs": [
    {
     "data": {
      "text/plain": [
       "Predicted\n",
       "0    421.897196\n",
       "3    350.000000\n",
       "8    675.000000\n",
       "Name: seq_length, dtype: float64"
      ]
     },
     "execution_count": 72,
     "metadata": {
      "tags": []
     },
     "output_type": "execute_result"
    }
   ],
   "source": [
    "misclass_ade_m1['seq_length'].groupby(misclass_ade_m1['Predicted']).mean()"
   ]
  },
  {
   "cell_type": "code",
   "execution_count": 73,
   "metadata": {
    "colab": {
     "base_uri": "https://localhost:8080/",
     "height": 555
    },
    "executionInfo": {
     "elapsed": 1722,
     "status": "ok",
     "timestamp": 1606254294024,
     "user": {
      "displayName": "Valerie Meausoone",
      "photoUrl": "https://lh3.googleusercontent.com/a-/AOh14GhEI3USGoSv9o6JShJGhR2V47o7KYZh-Ya1FgZ6=s64",
      "userId": "13066601150058162597"
     },
     "user_tz": 360
    },
    "id": "-3b5dVATpvjJ",
    "outputId": "fc6b2504-2562-409c-c9a7-df1ae007b501"
   },
   "outputs": [
    {
     "data": {
      "text/html": [
       "<div>\n",
       "<style scoped>\n",
       "    .dataframe tbody tr th:only-of-type {\n",
       "        vertical-align: middle;\n",
       "    }\n",
       "\n",
       "    .dataframe tbody tr th {\n",
       "        vertical-align: top;\n",
       "    }\n",
       "\n",
       "    .dataframe thead th {\n",
       "        text-align: right;\n",
       "    }\n",
       "</style>\n",
       "<table border=\"1\" class=\"dataframe\">\n",
       "  <thead>\n",
       "    <tr style=\"text-align: right;\">\n",
       "      <th></th>\n",
       "      <th>cleaned_input</th>\n",
       "      <th>seq_length</th>\n",
       "    </tr>\n",
       "  </thead>\n",
       "  <tbody>\n",
       "    <tr>\n",
       "      <th>11396</th>\n",
       "      <td>[CLS] SUB _ B Intracranial hemorrage SUB _ E : While on a OBJ _ B heparin OBJ _ E drip for DVT , the patient was noted to have anisocoria . [SEP]</td>\n",
       "      <td>346</td>\n",
       "    </tr>\n",
       "    <tr>\n",
       "      <th>11401</th>\n",
       "      <td>[CLS] The patient ' s platelets declined to 90 while in the MICU and he was found to be SUB _ B HIT SUB _ E antibody positive . OBJ _ B Heparin OBJ _ E products were held and the patient ' s platelet count stabilized . [SEP]</td>\n",
       "      <td>415</td>\n",
       "    </tr>\n",
       "    <tr>\n",
       "      <th>11408</th>\n",
       "      <td>[CLS] # # SUB _ B Thrombocytopenia SUB _ E : Patient ' s platelet count was 122K on admission and dropped three days later to 62K . Was placed on argatroban gtt and aggrenox and bridged to OBJ _ B coumadin OBJ _ E while HIT Ab test was pending . [SEP]</td>\n",
       "      <td>424</td>\n",
       "    </tr>\n",
       "    <tr>\n",
       "      <th>11409</th>\n",
       "      <td>[CLS] SUB _ B ANAPHYLAXIS SUB _ E TO OBJ _ B BACTRIM OBJ _ E : Patient developed fever / tachycardia / hypotension on hospital day # 2 ; initial suspicion for sepsis syndrome , however blood cultures remained negative and hemodynamic recovery achieved with massive fluid resuscitation in the ICU - of note , patient had received dose of Bactrim for PCP prophylaxis preceding his hypotension . [SEP]</td>\n",
       "      <td>542</td>\n",
       "    </tr>\n",
       "    <tr>\n",
       "      <th>11418</th>\n",
       "      <td>[CLS] Upon return to the floor , he received an additional dose of OBJ _ B Bactrim OBJ _ E - with recurrence of SUB _ B fever SUB _ E / tachycardia / hypotension , again requiring ICU stay for massive fluid resuscitation . [SEP]</td>\n",
       "      <td>416</td>\n",
       "    </tr>\n",
       "    <tr>\n",
       "      <th>...</th>\n",
       "      <td>...</td>\n",
       "      <td>...</td>\n",
       "    </tr>\n",
       "    <tr>\n",
       "      <th>12101</th>\n",
       "      <td>[CLS] EKG should be checked if the patient receives OBJ _ B haldol OBJ _ E on a regular basis ( risk for SUB _ B prolonged QT SUB _ E ) . [SEP]</td>\n",
       "      <td>352</td>\n",
       "    </tr>\n",
       "    <tr>\n",
       "      <th>12103</th>\n",
       "      <td>[CLS] Transitional Issues : - The patient had transfusion reaction to OBJ _ B platelet OBJ _ Es ; a blood bank work up was initiated and she was found to be SUB _ B PRA positive SUB _ E ; she will require HLA matched OBJ _ B platelet OBJ _ Es for all subsequent transfusions . [SEP]</td>\n",
       "      <td>457</td>\n",
       "    </tr>\n",
       "    <tr>\n",
       "      <th>12108</th>\n",
       "      <td>[CLS] Initially he was SUB _ B hypotensive SUB _ E which was treated with IV fluids and discontinued OBJ _ B propofol OBJ _ E , switching to fentanyl / versed for sedation . [SEP]</td>\n",
       "      <td>380</td>\n",
       "    </tr>\n",
       "    <tr>\n",
       "      <th>12117</th>\n",
       "      <td>[CLS] * DM - Pt had several episodes of SUB _ B hypoglycemia SUB _ E on OBJ _ B lantus OBJ _ E due to decreasing oral intake . [SEP]</td>\n",
       "      <td>340</td>\n",
       "    </tr>\n",
       "    <tr>\n",
       "      <th>12120</th>\n",
       "      <td>[CLS] Discharge Disposition : Home Discharge Diagnosis : MSSA Cellulitis SUB _ B ANAPHYLAXIS SUB _ E TO OBJ _ B BACTRIM OBJ _ E Discharge Condition : To home in stable condition on oral antibotics [ * * First Name11 ( Name Pattern1 ) 734 * * ] [ * * Last Name ( NamePattern1 ) 735 * * ] MD , [ * * MD Number ( 3 ) 799 * * ] Completed by : [ * * 2189 - 7 - 29 * * ] [SEP]</td>\n",
       "      <td>490</td>\n",
       "    </tr>\n",
       "  </tbody>\n",
       "</table>\n",
       "<p>112 rows × 2 columns</p>\n",
       "</div>"
      ],
      "text/plain": [
       "                                                                                                                                                                                                                                                                                                                                                                                                                                                                                                                                                        cleaned_input  seq_length\n",
       "11396  [CLS] SUB _ B Intracranial hemorrage SUB _ E : While on a OBJ _ B heparin OBJ _ E drip for DVT , the patient was noted to have anisocoria . [SEP]                                                                                                                                                                                                                                                                                                                                                                                                               346       \n",
       "11401  [CLS] The patient ' s platelets declined to 90 while in the MICU and he was found to be SUB _ B HIT SUB _ E antibody positive . OBJ _ B Heparin OBJ _ E products were held and the patient ' s platelet count stabilized . [SEP]                                                                                                                                                                                                                                                                                                                                415       \n",
       "11408  [CLS] # # SUB _ B Thrombocytopenia SUB _ E : Patient ' s platelet count was 122K on admission and dropped three days later to 62K . Was placed on argatroban gtt and aggrenox and bridged to OBJ _ B coumadin OBJ _ E while HIT Ab test was pending . [SEP]                                                                                                                                                                                                                                                                                                     424       \n",
       "11409  [CLS] SUB _ B ANAPHYLAXIS SUB _ E TO OBJ _ B BACTRIM OBJ _ E : Patient developed fever / tachycardia / hypotension on hospital day # 2 ; initial suspicion for sepsis syndrome , however blood cultures remained negative and hemodynamic recovery achieved with massive fluid resuscitation in the ICU - of note , patient had received dose of Bactrim for PCP prophylaxis preceding his hypotension . [SEP]                                                                                                                                                  542       \n",
       "11418  [CLS] Upon return to the floor , he received an additional dose of OBJ _ B Bactrim OBJ _ E - with recurrence of SUB _ B fever SUB _ E / tachycardia / hypotension , again requiring ICU stay for massive fluid resuscitation . [SEP]                                                                                                                                                                                                                                                                                                                            416       \n",
       "...                                                                                                                                                                                                                                                                                                                                                                                                                                 ...                                                                                                                                ...       \n",
       "12101  [CLS] EKG should be checked if the patient receives OBJ _ B haldol OBJ _ E on a regular basis ( risk for SUB _ B prolonged QT SUB _ E ) . [SEP]                                                                                                                                                                                                                                                                                                                                                                                                                 352       \n",
       "12103  [CLS] Transitional Issues : - The patient had transfusion reaction to OBJ _ B platelet OBJ _ Es ; a blood bank work up was initiated and she was found to be SUB _ B PRA positive SUB _ E ; she will require HLA matched OBJ _ B platelet OBJ _ Es for all subsequent transfusions . [SEP]                                                                                                                                                                                                                                                                      457       \n",
       "12108  [CLS] Initially he was SUB _ B hypotensive SUB _ E which was treated with IV fluids and discontinued OBJ _ B propofol OBJ _ E , switching to fentanyl / versed for sedation . [SEP]                                                                                                                                                                                                                                                                                                                                                                             380       \n",
       "12117  [CLS] * DM - Pt had several episodes of SUB _ B hypoglycemia SUB _ E on OBJ _ B lantus OBJ _ E due to decreasing oral intake . [SEP]                                                                                                                                                                                                                                                                                                                                                                                                                            340       \n",
       "12120  [CLS] Discharge Disposition : Home Discharge Diagnosis : MSSA Cellulitis SUB _ B ANAPHYLAXIS SUB _ E TO OBJ _ B BACTRIM OBJ _ E Discharge Condition : To home in stable condition on oral antibotics [ * * First Name11 ( Name Pattern1 ) 734 * * ] [ * * Last Name ( NamePattern1 ) 735 * * ] MD , [ * * MD Number ( 3 ) 799 * * ] Completed by : [ * * 2189 - 7 - 29 * * ] [SEP]                                                                                                                                                                              490       \n",
       "\n",
       "[112 rows x 2 columns]"
      ]
     },
     "execution_count": 73,
     "metadata": {
      "tags": []
     },
     "output_type": "execute_result"
    }
   ],
   "source": [
    "misclass_ade_m1[['cleaned_input', 'seq_length']]"
   ]
  },
  {
   "cell_type": "markdown",
   "metadata": {
    "id": "LD0o1cu2ZW_G"
   },
   "source": [
    "## Comparing sequence lengths"
   ]
  },
  {
   "cell_type": "code",
   "execution_count": 74,
   "metadata": {
    "colab": {
     "base_uri": "https://localhost:8080/"
    },
    "executionInfo": {
     "elapsed": 1930,
     "status": "ok",
     "timestamp": 1606254294237,
     "user": {
      "displayName": "Valerie Meausoone",
      "photoUrl": "https://lh3.googleusercontent.com/a-/AOh14GhEI3USGoSv9o6JShJGhR2V47o7KYZh-Ya1FgZ6=s64",
      "userId": "13066601150058162597"
     },
     "user_tz": 360
    },
    "id": "L5mtMbb0ZVk0",
    "outputId": "cefe6fed-a18a-4340-8f51-fb9c8ba5c247"
   },
   "outputs": [
    {
     "name": "stdout",
     "output_type": "stream",
     "text": [
      "/content/drive/.shortcut-targets-by-id/1I3W7Z7rz_YfsjBjX7z4zTzGbr-iKTrmD/w266_final/project_re\n"
     ]
    }
   ],
   "source": [
    "!pwd"
   ]
  },
  {
   "cell_type": "code",
   "execution_count": 75,
   "metadata": {
    "colab": {
     "base_uri": "https://localhost:8080/"
    },
    "executionInfo": {
     "elapsed": 1925,
     "status": "ok",
     "timestamp": 1606254294237,
     "user": {
      "displayName": "Valerie Meausoone",
      "photoUrl": "https://lh3.googleusercontent.com/a-/AOh14GhEI3USGoSv9o6JShJGhR2V47o7KYZh-Ya1FgZ6=s64",
      "userId": "13066601150058162597"
     },
     "user_tz": 360
    },
    "id": "g6ojumObZRp3",
    "outputId": "ca5c9793-8450-4455-bf69-575d7a1ff18c"
   },
   "outputs": [
    {
     "name": "stderr",
     "output_type": "stream",
     "text": [
      "/usr/local/lib/python3.6/dist-packages/ipykernel_launcher.py:2: FutureWarning: Passing a negative integer is deprecated in version 1.0 and will not be supported in future version. Instead, use None to not limit the column width.\n",
      "  \n"
     ]
    }
   ],
   "source": [
    "import pandas as pd\n",
    "pd.set_option('display.max_colwidth', -1)\n",
    "dev_df = pd.read_csv(\"data_divided/dev.tsv\", sep = \"\\t\", header=None)"
   ]
  },
  {
   "cell_type": "code",
   "execution_count": 76,
   "metadata": {
    "executionInfo": {
     "elapsed": 1923,
     "status": "ok",
     "timestamp": 1606254294237,
     "user": {
      "displayName": "Valerie Meausoone",
      "photoUrl": "https://lh3.googleusercontent.com/a-/AOh14GhEI3USGoSv9o6JShJGhR2V47o7KYZh-Ya1FgZ6=s64",
      "userId": "13066601150058162597"
     },
     "user_tz": 360
    },
    "id": "XEmqCjcUi7It"
   },
   "outputs": [],
   "source": [
    "dev_df = dev_df.rename(columns={0: \"id\", 1: \"relation_code\", 2: \"alpha\", 3:\"string\"})"
   ]
  },
  {
   "cell_type": "code",
   "execution_count": 77,
   "metadata": {
    "executionInfo": {
     "elapsed": 1923,
     "status": "ok",
     "timestamp": 1606254294238,
     "user": {
      "displayName": "Valerie Meausoone",
      "photoUrl": "https://lh3.googleusercontent.com/a-/AOh14GhEI3USGoSv9o6JShJGhR2V47o7KYZh-Ya1FgZ6=s64",
      "userId": "13066601150058162597"
     },
     "user_tz": 360
    },
    "id": "7WdYC6mWiET8"
   },
   "outputs": [],
   "source": [
    "dev_df['seq_length'] = dev_df['string'].str.len()"
   ]
  },
  {
   "cell_type": "code",
   "execution_count": 78,
   "metadata": {
    "colab": {
     "base_uri": "https://localhost:8080/"
    },
    "executionInfo": {
     "elapsed": 2094,
     "status": "ok",
     "timestamp": 1606254294415,
     "user": {
      "displayName": "Valerie Meausoone",
      "photoUrl": "https://lh3.googleusercontent.com/a-/AOh14GhEI3USGoSv9o6JShJGhR2V47o7KYZh-Ya1FgZ6=s64",
      "userId": "13066601150058162597"
     },
     "user_tz": 360
    },
    "id": "-jAuYmfXjc9X",
    "outputId": "96d7f9c3-9963-4a42-d4fb-78bb4d24b71c"
   },
   "outputs": [
    {
     "data": {
      "text/plain": [
       "relation_code\n",
       "0    207.584139\n",
       "1    202.951092\n",
       "2    225.322721\n",
       "3    242.643026\n",
       "4    203.617647\n",
       "5    204.937107\n",
       "6    176.986066\n",
       "7    205.900000\n",
       "8    90.236098 \n",
       "Name: seq_length, dtype: float64"
      ]
     },
     "execution_count": 78,
     "metadata": {
      "tags": []
     },
     "output_type": "execute_result"
    }
   ],
   "source": [
    "dev_df['seq_length'].groupby(dev_df['relation_code']).mean()"
   ]
  },
  {
   "cell_type": "code",
   "execution_count": 79,
   "metadata": {
    "colab": {
     "base_uri": "https://localhost:8080/",
     "height": 606
    },
    "executionInfo": {
     "elapsed": 2884,
     "status": "ok",
     "timestamp": 1606254295216,
     "user": {
      "displayName": "Valerie Meausoone",
      "photoUrl": "https://lh3.googleusercontent.com/a-/AOh14GhEI3USGoSv9o6JShJGhR2V47o7KYZh-Ya1FgZ6=s64",
      "userId": "13066601150058162597"
     },
     "user_tz": 360
    },
    "id": "9xSAmZyZlWOE",
    "outputId": "ab9f3ef4-e82a-422a-dbca-a5aac697c81c"
   },
   "outputs": [
    {
     "data": {
      "image/png": "[encoded data removed]",
      "text/plain": [
       "<Figure size 720x720 with 1 Axes>"
      ]
     },
     "metadata": {
      "needs_background": "light",
      "tags": []
     },
     "output_type": "display_data"
    }
   ],
   "source": [
    "#Dev dataset plot\n",
    "import seaborn as sns\n",
    "import matplotlib.pyplot as plt\n",
    "fig1, ax1 = plt.subplots(figsize=(10,10))\n",
    "ax1 = sns.boxplot(x = 'relation_code', y = 'seq_length' , data = dev_df)"
   ]
  },
  {
   "cell_type": "code",
   "execution_count": 80,
   "metadata": {
    "colab": {
     "base_uri": "https://localhost:8080/",
     "height": 606
    },
    "executionInfo": {
     "elapsed": 3103,
     "status": "ok",
     "timestamp": 1606254295440,
     "user": {
      "displayName": "Valerie Meausoone",
      "photoUrl": "https://lh3.googleusercontent.com/a-/AOh14GhEI3USGoSv9o6JShJGhR2V47o7KYZh-Ya1FgZ6=s64",
      "userId": "13066601150058162597"
     },
     "user_tz": 360
    },
    "id": "j0VxPxLBngkw",
    "outputId": "35d3b8da-1096-4f33-eabe-4a05b892b8b8"
   },
   "outputs": [
    {
     "data": {
      "image/png": "[encoded data removed]",
      "text/plain": [
       "<Figure size 720x720 with 1 Axes>"
      ]
     },
     "metadata": {
      "needs_background": "light",
      "tags": []
     },
     "output_type": "display_data"
    }
   ],
   "source": [
    "fig1, ax1 = plt.subplots(figsize=(10,10))\n",
    "ax1 = sns.boxplot(x = 'True', y = 'seq_length' , data = misclass_m1)"
   ]
  },
  {
   "cell_type": "code",
   "execution_count": 81,
   "metadata": {
    "colab": {
     "base_uri": "https://localhost:8080/",
     "height": 606
    },
    "executionInfo": {
     "elapsed": 3425,
     "status": "ok",
     "timestamp": 1606254295767,
     "user": {
      "displayName": "Valerie Meausoone",
      "photoUrl": "https://lh3.googleusercontent.com/a-/AOh14GhEI3USGoSv9o6JShJGhR2V47o7KYZh-Ya1FgZ6=s64",
      "userId": "13066601150058162597"
     },
     "user_tz": 360
    },
    "id": "45SMe6HToZPK",
    "outputId": "a335b5db-d4dc-4058-f33c-da4d5e99bb90"
   },
   "outputs": [
    {
     "data": {
      "image/png": "[encoded data removed]",
      "text/plain": [
       "<Figure size 720x720 with 1 Axes>"
      ]
     },
     "metadata": {
      "needs_background": "light",
      "tags": []
     },
     "output_type": "display_data"
    }
   ],
   "source": [
    "fig1, ax1 = plt.subplots(figsize=(10,10))\n",
    "ax1 = sns.boxplot(x = 'Predicted', y = 'seq_length' , data = misclass_ade_m1)"
   ]
  },
  {
   "cell_type": "code",
   "execution_count": 82,
   "metadata": {
    "colab": {
     "base_uri": "https://localhost:8080/",
     "height": 555
    },
    "executionInfo": {
     "elapsed": 385,
     "status": "ok",
     "timestamp": 1606254461920,
     "user": {
      "displayName": "Valerie Meausoone",
      "photoUrl": "https://lh3.googleusercontent.com/a-/AOh14GhEI3USGoSv9o6JShJGhR2V47o7KYZh-Ya1FgZ6=s64",
      "userId": "13066601150058162597"
     },
     "user_tz": 360
    },
    "id": "WK10t6P2oaOm",
    "outputId": "cf7354aa-f4e4-4ac5-801d-e2b9f25865e2"
   },
   "outputs": [
    {
     "data": {
      "text/html": [
       "<div>\n",
       "<style scoped>\n",
       "    .dataframe tbody tr th:only-of-type {\n",
       "        vertical-align: middle;\n",
       "    }\n",
       "\n",
       "    .dataframe tbody tr th {\n",
       "        vertical-align: top;\n",
       "    }\n",
       "\n",
       "    .dataframe thead th {\n",
       "        text-align: right;\n",
       "    }\n",
       "</style>\n",
       "<table border=\"1\" class=\"dataframe\">\n",
       "  <thead>\n",
       "    <tr style=\"text-align: right;\">\n",
       "      <th></th>\n",
       "      <th>cleaned_input</th>\n",
       "      <th>seq_length</th>\n",
       "    </tr>\n",
       "  </thead>\n",
       "  <tbody>\n",
       "    <tr>\n",
       "      <th>11396</th>\n",
       "      <td>[CLS] SUB _ B Intracranial hemorrage SUB _ E : While on a OBJ _ B heparin OBJ _ E drip for DVT , the patient was noted to have anisocoria . [SEP]</td>\n",
       "      <td>346</td>\n",
       "    </tr>\n",
       "    <tr>\n",
       "      <th>11401</th>\n",
       "      <td>[CLS] The patient ' s platelets declined to 90 while in the MICU and he was found to be SUB _ B HIT SUB _ E antibody positive . OBJ _ B Heparin OBJ _ E products were held and the patient ' s platelet count stabilized . [SEP]</td>\n",
       "      <td>415</td>\n",
       "    </tr>\n",
       "    <tr>\n",
       "      <th>11408</th>\n",
       "      <td>[CLS] # # SUB _ B Thrombocytopenia SUB _ E : Patient ' s platelet count was 122K on admission and dropped three days later to 62K . Was placed on argatroban gtt and aggrenox and bridged to OBJ _ B coumadin OBJ _ E while HIT Ab test was pending . [SEP]</td>\n",
       "      <td>424</td>\n",
       "    </tr>\n",
       "    <tr>\n",
       "      <th>11409</th>\n",
       "      <td>[CLS] SUB _ B ANAPHYLAXIS SUB _ E TO OBJ _ B BACTRIM OBJ _ E : Patient developed fever / tachycardia / hypotension on hospital day # 2 ; initial suspicion for sepsis syndrome , however blood cultures remained negative and hemodynamic recovery achieved with massive fluid resuscitation in the ICU - of note , patient had received dose of Bactrim for PCP prophylaxis preceding his hypotension . [SEP]</td>\n",
       "      <td>542</td>\n",
       "    </tr>\n",
       "    <tr>\n",
       "      <th>11418</th>\n",
       "      <td>[CLS] Upon return to the floor , he received an additional dose of OBJ _ B Bactrim OBJ _ E - with recurrence of SUB _ B fever SUB _ E / tachycardia / hypotension , again requiring ICU stay for massive fluid resuscitation . [SEP]</td>\n",
       "      <td>416</td>\n",
       "    </tr>\n",
       "    <tr>\n",
       "      <th>...</th>\n",
       "      <td>...</td>\n",
       "      <td>...</td>\n",
       "    </tr>\n",
       "    <tr>\n",
       "      <th>12101</th>\n",
       "      <td>[CLS] EKG should be checked if the patient receives OBJ _ B haldol OBJ _ E on a regular basis ( risk for SUB _ B prolonged QT SUB _ E ) . [SEP]</td>\n",
       "      <td>352</td>\n",
       "    </tr>\n",
       "    <tr>\n",
       "      <th>12103</th>\n",
       "      <td>[CLS] Transitional Issues : - The patient had transfusion reaction to OBJ _ B platelet OBJ _ Es ; a blood bank work up was initiated and she was found to be SUB _ B PRA positive SUB _ E ; she will require HLA matched OBJ _ B platelet OBJ _ Es for all subsequent transfusions . [SEP]</td>\n",
       "      <td>457</td>\n",
       "    </tr>\n",
       "    <tr>\n",
       "      <th>12108</th>\n",
       "      <td>[CLS] Initially he was SUB _ B hypotensive SUB _ E which was treated with IV fluids and discontinued OBJ _ B propofol OBJ _ E , switching to fentanyl / versed for sedation . [SEP]</td>\n",
       "      <td>380</td>\n",
       "    </tr>\n",
       "    <tr>\n",
       "      <th>12117</th>\n",
       "      <td>[CLS] * DM - Pt had several episodes of SUB _ B hypoglycemia SUB _ E on OBJ _ B lantus OBJ _ E due to decreasing oral intake . [SEP]</td>\n",
       "      <td>340</td>\n",
       "    </tr>\n",
       "    <tr>\n",
       "      <th>12120</th>\n",
       "      <td>[CLS] Discharge Disposition : Home Discharge Diagnosis : MSSA Cellulitis SUB _ B ANAPHYLAXIS SUB _ E TO OBJ _ B BACTRIM OBJ _ E Discharge Condition : To home in stable condition on oral antibotics [ * * First Name11 ( Name Pattern1 ) 734 * * ] [ * * Last Name ( NamePattern1 ) 735 * * ] MD , [ * * MD Number ( 3 ) 799 * * ] Completed by : [ * * 2189 - 7 - 29 * * ] [SEP]</td>\n",
       "      <td>490</td>\n",
       "    </tr>\n",
       "  </tbody>\n",
       "</table>\n",
       "<p>112 rows × 2 columns</p>\n",
       "</div>"
      ],
      "text/plain": [
       "                                                                                                                                                                                                                                                                                                                                                                                                                                                                                                                                                        cleaned_input  seq_length\n",
       "11396  [CLS] SUB _ B Intracranial hemorrage SUB _ E : While on a OBJ _ B heparin OBJ _ E drip for DVT , the patient was noted to have anisocoria . [SEP]                                                                                                                                                                                                                                                                                                                                                                                                               346       \n",
       "11401  [CLS] The patient ' s platelets declined to 90 while in the MICU and he was found to be SUB _ B HIT SUB _ E antibody positive . OBJ _ B Heparin OBJ _ E products were held and the patient ' s platelet count stabilized . [SEP]                                                                                                                                                                                                                                                                                                                                415       \n",
       "11408  [CLS] # # SUB _ B Thrombocytopenia SUB _ E : Patient ' s platelet count was 122K on admission and dropped three days later to 62K . Was placed on argatroban gtt and aggrenox and bridged to OBJ _ B coumadin OBJ _ E while HIT Ab test was pending . [SEP]                                                                                                                                                                                                                                                                                                     424       \n",
       "11409  [CLS] SUB _ B ANAPHYLAXIS SUB _ E TO OBJ _ B BACTRIM OBJ _ E : Patient developed fever / tachycardia / hypotension on hospital day # 2 ; initial suspicion for sepsis syndrome , however blood cultures remained negative and hemodynamic recovery achieved with massive fluid resuscitation in the ICU - of note , patient had received dose of Bactrim for PCP prophylaxis preceding his hypotension . [SEP]                                                                                                                                                  542       \n",
       "11418  [CLS] Upon return to the floor , he received an additional dose of OBJ _ B Bactrim OBJ _ E - with recurrence of SUB _ B fever SUB _ E / tachycardia / hypotension , again requiring ICU stay for massive fluid resuscitation . [SEP]                                                                                                                                                                                                                                                                                                                            416       \n",
       "...                                                                                                                                                                                                                                                                                                                                                                                                                                 ...                                                                                                                                ...       \n",
       "12101  [CLS] EKG should be checked if the patient receives OBJ _ B haldol OBJ _ E on a regular basis ( risk for SUB _ B prolonged QT SUB _ E ) . [SEP]                                                                                                                                                                                                                                                                                                                                                                                                                 352       \n",
       "12103  [CLS] Transitional Issues : - The patient had transfusion reaction to OBJ _ B platelet OBJ _ Es ; a blood bank work up was initiated and she was found to be SUB _ B PRA positive SUB _ E ; she will require HLA matched OBJ _ B platelet OBJ _ Es for all subsequent transfusions . [SEP]                                                                                                                                                                                                                                                                      457       \n",
       "12108  [CLS] Initially he was SUB _ B hypotensive SUB _ E which was treated with IV fluids and discontinued OBJ _ B propofol OBJ _ E , switching to fentanyl / versed for sedation . [SEP]                                                                                                                                                                                                                                                                                                                                                                             380       \n",
       "12117  [CLS] * DM - Pt had several episodes of SUB _ B hypoglycemia SUB _ E on OBJ _ B lantus OBJ _ E due to decreasing oral intake . [SEP]                                                                                                                                                                                                                                                                                                                                                                                                                            340       \n",
       "12120  [CLS] Discharge Disposition : Home Discharge Diagnosis : MSSA Cellulitis SUB _ B ANAPHYLAXIS SUB _ E TO OBJ _ B BACTRIM OBJ _ E Discharge Condition : To home in stable condition on oral antibotics [ * * First Name11 ( Name Pattern1 ) 734 * * ] [ * * Last Name ( NamePattern1 ) 735 * * ] MD , [ * * MD Number ( 3 ) 799 * * ] Completed by : [ * * 2189 - 7 - 29 * * ] [SEP]                                                                                                                                                                              490       \n",
       "\n",
       "[112 rows x 2 columns]"
      ]
     },
     "execution_count": 82,
     "metadata": {
      "tags": []
     },
     "output_type": "execute_result"
    }
   ],
   "source": [
    "misclass_ade_m1[['cleaned_input', 'seq_length']]"
   ]
  },
  {
   "cell_type": "code",
   "execution_count": 86,
   "metadata": {
    "colab": {
     "base_uri": "https://localhost:8080/",
     "height": 1000
    },
    "executionInfo": {
     "elapsed": 480,
     "status": "ok",
     "timestamp": 1606254884630,
     "user": {
      "displayName": "Valerie Meausoone",
      "photoUrl": "https://lh3.googleusercontent.com/a-/AOh14GhEI3USGoSv9o6JShJGhR2V47o7KYZh-Ya1FgZ6=s64",
      "userId": "13066601150058162597"
     },
     "user_tz": 360
    },
    "id": "dcR_xFMjOgIW",
    "outputId": "3abadc97-5765-42c7-a8a1-a0aeae500be8"
   },
   "outputs": [
    {
     "data": {
      "text/html": [
       "<div>\n",
       "<style scoped>\n",
       "    .dataframe tbody tr th:only-of-type {\n",
       "        vertical-align: middle;\n",
       "    }\n",
       "\n",
       "    .dataframe tbody tr th {\n",
       "        vertical-align: top;\n",
       "    }\n",
       "\n",
       "    .dataframe thead th {\n",
       "        text-align: right;\n",
       "    }\n",
       "</style>\n",
       "<table border=\"1\" class=\"dataframe\">\n",
       "  <thead>\n",
       "    <tr style=\"text-align: right;\">\n",
       "      <th></th>\n",
       "      <th>id</th>\n",
       "      <th>relation_code</th>\n",
       "      <th>alpha</th>\n",
       "      <th>string</th>\n",
       "      <th>seq_length</th>\n",
       "    </tr>\n",
       "  </thead>\n",
       "  <tbody>\n",
       "    <tr>\n",
       "      <th>0</th>\n",
       "      <td>16</td>\n",
       "      <td>0</td>\n",
       "      <td>a</td>\n",
       "      <td>His SUB_B Asthma SUB_E was treated with standing and PRN OBJ_B albuterol OBJ_E and ipratriopium and a slow prednisone taper which he l completed on [**2115-3-18**] and he was restarted on Advair -patient may require additional nebs on top of his standing advair though his respiratory status has been very stable, without wheezing for the last week.</td>\n",
       "      <td>349.0</td>\n",
       "    </tr>\n",
       "    <tr>\n",
       "      <th>2</th>\n",
       "      <td>20</td>\n",
       "      <td>0</td>\n",
       "      <td>a</td>\n",
       "      <td>His SUB_B Asthma SUB_E was treated with standing and PRN albuterol and ipratriopium and a slow OBJ_B prednisone OBJ_E taper which he l completed on [**2115-3-18**] and he was restarted on Advair -patient may require additional nebs on top of his standing advair though his respiratory status has been very stable, without wheezing for the last week.</td>\n",
       "      <td>349.0</td>\n",
       "    </tr>\n",
       "    <tr>\n",
       "      <th>4</th>\n",
       "      <td>31</td>\n",
       "      <td>0</td>\n",
       "      <td>a</td>\n",
       "      <td># SUB_B Ventilator associated pneumonia SUB_E:  Patient developed a fever on [**2-27**] with new infiltrates on chest xray while intubated. He was initially covered with vanc/cefepime and OBJ_B cipro OBJ_E.</td>\n",
       "      <td>206.0</td>\n",
       "    </tr>\n",
       "    <tr>\n",
       "      <th>6</th>\n",
       "      <td>34</td>\n",
       "      <td>0</td>\n",
       "      <td>a</td>\n",
       "      <td>Patient was SUB_B diuresed SUB_E with IV OBJ_B lasix OBJ_E in the ED and then transitioned to PO OBJ_B lasix OBJ_E, home dose, on the floor.</td>\n",
       "      <td>140.0</td>\n",
       "    </tr>\n",
       "    <tr>\n",
       "      <th>12</th>\n",
       "      <td>61</td>\n",
       "      <td>0</td>\n",
       "      <td>a</td>\n",
       "      <td>Of note, the patient was admitted to LGH in [**1-4**] for dyspnea, and was subsequently diagnosed with a CAP and SUB_B asthma SUB_E treated with OBJ_B CTX OBJ_E and azithromycin.</td>\n",
       "      <td>178.0</td>\n",
       "    </tr>\n",
       "    <tr>\n",
       "      <th>17</th>\n",
       "      <td>84</td>\n",
       "      <td>0</td>\n",
       "      <td>a</td>\n",
       "      <td>PO DAILY (Daily) as needed for SUB_B Constipation SUB_E. Medications on Admission: Carvedilol 25 [**Hospital1 **] Lasix 80 mg po bid Xanax 0.25 mg 1-2 tabs prn albuterol MDI Ibuprofen prn Benadryl prn Advair diskus Lsinopril 40 daily  Discharge Medications: 1. OBJ_B bisacodyl OBJ_E 5 mg Tablet, Delayed Release (E.C.)</td>\n",
       "      <td>318.0</td>\n",
       "    </tr>\n",
       "    <tr>\n",
       "      <th>19</th>\n",
       "      <td>99</td>\n",
       "      <td>0</td>\n",
       "      <td>a</td>\n",
       "      <td>3. OBJ_B acetaminophen OBJ_E 325 mg Tablet Sig: Two (2) Tablet PO Q6H (every 6 hours) as needed for SUB_B pain SUB_E/fever.</td>\n",
       "      <td>123.0</td>\n",
       "    </tr>\n",
       "    <tr>\n",
       "      <th>20</th>\n",
       "      <td>102</td>\n",
       "      <td>0</td>\n",
       "      <td>a</td>\n",
       "      <td>11. OBJ_B acetaminophen OBJ_E 500 mg Tablet Sig: Two (2) Tablet PO TID (3 times a day) as needed for pain/SUB_B fever SUB_E.</td>\n",
       "      <td>124.0</td>\n",
       "    </tr>\n",
       "    <tr>\n",
       "      <th>32</th>\n",
       "      <td>185</td>\n",
       "      <td>0</td>\n",
       "      <td>a</td>\n",
       "      <td>17. OBJ_B tramadol OBJ_E 50 mg Tablet Sig: One (1) Tablet PO Q6H (every 6 hours) as needed for SUB_B back pain SUB_E.</td>\n",
       "      <td>117.0</td>\n",
       "    </tr>\n",
       "    <tr>\n",
       "      <th>34</th>\n",
       "      <td>195</td>\n",
       "      <td>0</td>\n",
       "      <td>a</td>\n",
       "      <td>19. OBJ_B lorazepam OBJ_E 2 mg/mL Syringe Sig: 1-2 mg Injection twice a day as needed for SUB_B seizure SUB_E that last longer than 5 minutes.</td>\n",
       "      <td>142.0</td>\n",
       "    </tr>\n",
       "    <tr>\n",
       "      <th>35</th>\n",
       "      <td>201</td>\n",
       "      <td>0</td>\n",
       "      <td>a</td>\n",
       "      <td>On hospital day 11 he had a witnessed SUB_B grand mal seizure SUB_E and was given OBJ_B ativan OBJ_E and started on Keppra with neurology consult.</td>\n",
       "      <td>146.0</td>\n",
       "    </tr>\n",
       "    <tr>\n",
       "      <th>81</th>\n",
       "      <td>415</td>\n",
       "      <td>0</td>\n",
       "      <td>a</td>\n",
       "      <td>Her volume overload slowly improved and her SUB_B peripheral edema SUB_E/ascites slowly improved as well. She was then taken to the Cath lab and placed on a milrinone/OBJ_B lasix OBJ_E gtt and transfered to the CCU.</td>\n",
       "      <td>215.0</td>\n",
       "    </tr>\n",
       "    <tr>\n",
       "      <th>82</th>\n",
       "      <td>416</td>\n",
       "      <td>0</td>\n",
       "      <td>a</td>\n",
       "      <td>Her volume overload slowly improved and her peripheral edema/SUB_B ascites SUB_E slowly improved as well. She was then taken to the Cath lab and placed on a milrinone/OBJ_B lasix OBJ_E gtt and transfered to the CCU.</td>\n",
       "      <td>215.0</td>\n",
       "    </tr>\n",
       "    <tr>\n",
       "      <th>83</th>\n",
       "      <td>421</td>\n",
       "      <td>0</td>\n",
       "      <td>a</td>\n",
       "      <td>She was then started on OBJ_B solumedrol OBJ_E 30mg IV due to a concern for SUB_B GVHD SUB_E directed towards myocardium.</td>\n",
       "      <td>121.0</td>\n",
       "    </tr>\n",
       "    <tr>\n",
       "      <th>85</th>\n",
       "      <td>431</td>\n",
       "      <td>0</td>\n",
       "      <td>a</td>\n",
       "      <td>Of note, she had frequent alarms on telemetry for SUB_B tachycardia SUB_E that cardiologist felt was mostly due to artifact; her OBJ_B beta blocker OBJ_E was uptitrated.</td>\n",
       "      <td>169.0</td>\n",
       "    </tr>\n",
       "    <tr>\n",
       "      <th>86</th>\n",
       "      <td>437</td>\n",
       "      <td>0</td>\n",
       "      <td>a</td>\n",
       "      <td>She was sent to the cath lab and started on a OBJ_B milrinone OBJ_E/lasix gtt and transfered to the CCU with a goal SUB_B diuresis SUB_E of 1L per day.</td>\n",
       "      <td>151.0</td>\n",
       "    </tr>\n",
       "    <tr>\n",
       "      <th>87</th>\n",
       "      <td>444</td>\n",
       "      <td>0</td>\n",
       "      <td>a</td>\n",
       "      <td>Dx'ed with precursor B-cell SUB_B ALL SUB_E. - underwent phase I induction with daunorubicin, vincristine, dexamethasone, L-asparaginase, OBJ_B MTX OBJ_E; phase II with cyclophosphamide, cytarabine, mercaptopurine, OBJ_B MTX OBJ_E - Bone Marrow Aspirate/Biopsy on [**2172-10-26**] showed no morphologic  evidence of residual leukemia - underwent allo double cord blood SCT [**2173-1-11**], course complicated by neutropenic fever and acute skin GVHD  OTHER MEDICAL HISTORY: - Embolic stroke in [**3-/2174**] on coumadin - Cardiomyopathy due to early anthracycline-related cardiotoxicity [**10/2172**] - Chronic kidney disease stage III/IV, baseline creatinine ~2.0-2.2 - Asthma - HTN - Cervical Intraepithelial neoplasia - C-section in [**2165**]</td>\n",
       "      <td>746.0</td>\n",
       "    </tr>\n",
       "    <tr>\n",
       "      <th>88</th>\n",
       "      <td>446</td>\n",
       "      <td>0</td>\n",
       "      <td>a</td>\n",
       "      <td>Dx'ed with precursor B-cell SUB_B ALL SUB_E. - underwent phase I induction with daunorubicin, vincristine, dexamethasone, L-asparaginase, MTX; phase II with cyclophosphamide, OBJ_B cytarabine OBJ_E, mercaptopurine, MTX - Bone Marrow Aspirate/Biopsy on [**2172-10-26**] showed no morphologic  evidence of residual leukemia - underwent allo double cord blood SCT [**2173-1-11**], course complicated by neutropenic fever and acute skin GVHD  OTHER MEDICAL HISTORY: - Embolic stroke in [**3-/2174**] on coumadin - Cardiomyopathy due to early anthracycline-related cardiotoxicity [**10/2172**] - Chronic kidney disease stage III/IV, baseline creatinine ~2.0-2.2 - Asthma - HTN - Cervical Intraepithelial neoplasia - C-section in [**2165**]</td>\n",
       "      <td>734.0</td>\n",
       "    </tr>\n",
       "    <tr>\n",
       "      <th>111</th>\n",
       "      <td>578</td>\n",
       "      <td>0</td>\n",
       "      <td>a</td>\n",
       "      <td>You were started on steroids and OBJ_B mycophenolate mofetil OBJ_E because it was felt that you heart problems may be due to your SUB_B leukemia SUB_E.</td>\n",
       "      <td>151.0</td>\n",
       "    </tr>\n",
       "    <tr>\n",
       "      <th>113</th>\n",
       "      <td>589</td>\n",
       "      <td>0</td>\n",
       "      <td>a</td>\n",
       "      <td>We made the following changes to your medications: -Mycophenolate Mofetil 1000mg twice a day was started -Prednisone 60mg daily was started -Coumadin was decreased to 2mg daily -Torsemide was increased to 40mg daily -Please hold your valsartan until you see your cardiologist -Metoprolol succinate 100mg daily was started; please stop carvedilol -Bentyl (OBJ_B dicyclomine OBJ_E) was started for your SUB_B abdominal pain SUB_E -Simethicone was started for abdominal discomfort/gas -Your morphine was switched to long-acting Morphine 15mg twice a day -Bactrim single strength, 1 tablet daily, was started to help prevent infection -Acyclovir 400mg twice a day was started to help prevent infection -Allopurinol 100mg daily was started because your uric acid levels were high  Weigh yourself every morning, [**Name8 (MD) 138**] MD if weight goes up more than 3 lbs.</td>\n",
       "      <td>864.0</td>\n",
       "    </tr>\n",
       "  </tbody>\n",
       "</table>\n",
       "</div>"
      ],
      "text/plain": [
       "      id  ...  seq_length\n",
       "0    16   ...  349.0     \n",
       "2    20   ...  349.0     \n",
       "4    31   ...  206.0     \n",
       "6    34   ...  140.0     \n",
       "12   61   ...  178.0     \n",
       "17   84   ...  318.0     \n",
       "19   99   ...  123.0     \n",
       "20   102  ...  124.0     \n",
       "32   185  ...  117.0     \n",
       "34   195  ...  142.0     \n",
       "35   201  ...  146.0     \n",
       "81   415  ...  215.0     \n",
       "82   416  ...  215.0     \n",
       "83   421  ...  121.0     \n",
       "85   431  ...  169.0     \n",
       "86   437  ...  151.0     \n",
       "87   444  ...  746.0     \n",
       "88   446  ...  734.0     \n",
       "111  578  ...  151.0     \n",
       "113  589  ...  864.0     \n",
       "\n",
       "[20 rows x 5 columns]"
      ]
     },
     "execution_count": 86,
     "metadata": {
      "tags": []
     },
     "output_type": "execute_result"
    }
   ],
   "source": [
    "#Reason\n",
    "dev_df[dev_df['relation_code']==0].iloc[0:20,:]"
   ]
  },
  {
   "cell_type": "code",
   "execution_count": 87,
   "metadata": {
    "colab": {
     "base_uri": "https://localhost:8080/",
     "height": 992
    },
    "executionInfo": {
     "elapsed": 585,
     "status": "ok",
     "timestamp": 1606254895865,
     "user": {
      "displayName": "Valerie Meausoone",
      "photoUrl": "https://lh3.googleusercontent.com/a-/AOh14GhEI3USGoSv9o6JShJGhR2V47o7KYZh-Ya1FgZ6=s64",
      "userId": "13066601150058162597"
     },
     "user_tz": 360
    },
    "id": "QyH9oP5SOpc1",
    "outputId": "a4f9f688-f913-4b1a-a083-8c737ea2b3c0"
   },
   "outputs": [
    {
     "data": {
      "text/html": [
       "<div>\n",
       "<style scoped>\n",
       "    .dataframe tbody tr th:only-of-type {\n",
       "        vertical-align: middle;\n",
       "    }\n",
       "\n",
       "    .dataframe tbody tr th {\n",
       "        vertical-align: top;\n",
       "    }\n",
       "\n",
       "    .dataframe thead th {\n",
       "        text-align: right;\n",
       "    }\n",
       "</style>\n",
       "<table border=\"1\" class=\"dataframe\">\n",
       "  <thead>\n",
       "    <tr style=\"text-align: right;\">\n",
       "      <th></th>\n",
       "      <th>id</th>\n",
       "      <th>relation_code</th>\n",
       "      <th>alpha</th>\n",
       "      <th>string</th>\n",
       "      <th>seq_length</th>\n",
       "    </tr>\n",
       "  </thead>\n",
       "  <tbody>\n",
       "    <tr>\n",
       "      <th>10</th>\n",
       "      <td>56</td>\n",
       "      <td>7</td>\n",
       "      <td>a</td>\n",
       "      <td>Since no new infection was found this was presumed [**12-26**] OBJ_B steroids OBJ_E and the SUB_B leukocytosis SUB_E improved with prednisone taper.</td>\n",
       "      <td>148.0</td>\n",
       "    </tr>\n",
       "    <tr>\n",
       "      <th>79</th>\n",
       "      <td>407</td>\n",
       "      <td>7</td>\n",
       "      <td>a</td>\n",
       "      <td>History of Present Illness: 38 yo F w/ h/o ALL in remission s/p cord transplant in [**1-13**], OBJ_B anthracycline OBJ_E-induced SUB_B cardiomyopathy SUB_E (EF 15-20% [**1-14**]) and recurrent nausea and vomiting who presents with abdominal pain, N/V x1 week  Of note, the pt was admitted here from [**Date range (1) **] with nausea and vomitting of unclear etiology.</td>\n",
       "      <td>367.0</td>\n",
       "    </tr>\n",
       "    <tr>\n",
       "      <th>109</th>\n",
       "      <td>575</td>\n",
       "      <td>7</td>\n",
       "      <td>a</td>\n",
       "      <td>- underwent phase I induction with daunorubicin, vincristine, dexamethasone, L-asparaginase, MTX; phase II with cyclophosphamide, cytarabine, mercaptopurine, MTX - Bone Marrow Aspirate/Biopsy on [**2172-10-26**] showed no morphologic  evidence of residual leukemia - underwent allo double cord blood SCT [**2173-1-11**], course complicated by neutropenic fever and acute skin GVHD  OTHER MEDICAL HISTORY: - Embolic stroke in [**3-/2174**] on coumadin - SUB_B Cardiomyopathy SUB_E due to early OBJ_B anthracycline OBJ_E-related cardiotoxicity [**10/2172**] - Chronic kidney disease stage III/IV, baseline creatinine ~2.0-2.2 - Asthma - HTN - Cervical Intraepithelial neoplasia - C-section in [**2165**]</td>\n",
       "      <td>701.0</td>\n",
       "    </tr>\n",
       "    <tr>\n",
       "      <th>110</th>\n",
       "      <td>576</td>\n",
       "      <td>7</td>\n",
       "      <td>a</td>\n",
       "      <td>- underwent phase I induction with daunorubicin, vincristine, dexamethasone, L-asparaginase, MTX; phase II with cyclophosphamide, cytarabine, mercaptopurine, MTX - Bone Marrow Aspirate/Biopsy on [**2172-10-26**] showed no morphologic  evidence of residual leukemia - underwent allo double cord blood SCT [**2173-1-11**], course complicated by neutropenic fever and acute skin GVHD  OTHER MEDICAL HISTORY: - Embolic stroke in [**3-/2174**] on coumadin - Cardiomyopathy due to early OBJ_B anthracycline OBJ_E-related SUB_B cardiotoxicity SUB_E [**10/2172**] - Chronic kidney disease stage III/IV, baseline creatinine ~2.0-2.2 - Asthma - HTN - Cervical Intraepithelial neoplasia - C-section in [**2165**]</td>\n",
       "      <td>701.0</td>\n",
       "    </tr>\n",
       "    <tr>\n",
       "      <th>217</th>\n",
       "      <td>1143</td>\n",
       "      <td>7</td>\n",
       "      <td>a</td>\n",
       "      <td>Coumadin was thus held and reversed with FFP and vitamin K given her history of SUB_B GIB SUB_E on OBJ_B anticoagulation OBJ_E.</td>\n",
       "      <td>127.0</td>\n",
       "    </tr>\n",
       "    <tr>\n",
       "      <th>495</th>\n",
       "      <td>2584</td>\n",
       "      <td>7</td>\n",
       "      <td>a</td>\n",
       "      <td>He became quite SUB_B agitated SUB_E after OBJ_B Naloxone OBJ_E so he was given 2.5mg IV Haldol.</td>\n",
       "      <td>96.0</td>\n",
       "    </tr>\n",
       "    <tr>\n",
       "      <th>499</th>\n",
       "      <td>2607</td>\n",
       "      <td>7</td>\n",
       "      <td>a</td>\n",
       "      <td># Altered Mental Status: As above, felt to be secondary to SUB_B hypercarbia SUB_E and OBJ_B narcotics OBJ_E.</td>\n",
       "      <td>109.0</td>\n",
       "    </tr>\n",
       "    <tr>\n",
       "      <th>558</th>\n",
       "      <td>2904</td>\n",
       "      <td>7</td>\n",
       "      <td>a</td>\n",
       "      <td>She did not experience significant nausea during hospitalization, but continued to have SUB_B diarrhea SUB_E related to her OBJ_B chemotherapy OBJ_E which was treated with Lomotil.</td>\n",
       "      <td>180.0</td>\n",
       "    </tr>\n",
       "    <tr>\n",
       "      <th>612</th>\n",
       "      <td>3192</td>\n",
       "      <td>7</td>\n",
       "      <td>a</td>\n",
       "      <td>You were seen by dermatology who thought that you had a SUB_B drug sensitivity reaction SUB_E. Your rash appeared to improve after discontinuation of the antibiotics OBJ_B piperacillin OBJ_E and tazobactam, but the exact cause was unknown.</td>\n",
       "      <td>239.0</td>\n",
       "    </tr>\n",
       "    <tr>\n",
       "      <th>796</th>\n",
       "      <td>4187</td>\n",
       "      <td>7</td>\n",
       "      <td>a</td>\n",
       "      <td>Status post OBJ_B erlotinib OBJ_E 150 mg/day from [**4-2**] to [**2156-4-22**] (intolerant to medication due to grade [**2-6**] SUB_B rash SUB_E).</td>\n",
       "      <td>146.0</td>\n",
       "    </tr>\n",
       "    <tr>\n",
       "      <th>858</th>\n",
       "      <td>4464</td>\n",
       "      <td>7</td>\n",
       "      <td>a</td>\n",
       "      <td># GI: SUB_B Diarrhea SUB_E was believed to be OBJ_B chemo OBJ_E-induced diarrhea.</td>\n",
       "      <td>81.0</td>\n",
       "    </tr>\n",
       "    <tr>\n",
       "      <th>859</th>\n",
       "      <td>4467</td>\n",
       "      <td>7</td>\n",
       "      <td>a</td>\n",
       "      <td># GI: Diarrhea was believed to be OBJ_B chemo OBJ_E-induced SUB_B diarrhea SUB_E.</td>\n",
       "      <td>81.0</td>\n",
       "    </tr>\n",
       "    <tr>\n",
       "      <th>1009</th>\n",
       "      <td>5255</td>\n",
       "      <td>7</td>\n",
       "      <td>a</td>\n",
       "      <td>Given that the mammillary bodies are enriched with dopamine receptors, would avoid OBJ_B Haldol OBJ_E as this may exacerbate his SUB_B Wernicke Korsakoff's pathology SUB_E.</td>\n",
       "      <td>172.0</td>\n",
       "    </tr>\n",
       "    <tr>\n",
       "      <th>1011</th>\n",
       "      <td>5264</td>\n",
       "      <td>7</td>\n",
       "      <td>a</td>\n",
       "      <td>Combined with the significant (12mg IV) OBJ_B lorazepam OBJ_E he received in Emergency Department and 5mg IV more on initial evening in ICU, benzodiazepine intoxication felt to be responsible for much of SUB_B altered mental status SUB_E.</td>\n",
       "      <td>238.0</td>\n",
       "    </tr>\n",
       "    <tr>\n",
       "      <th>1196</th>\n",
       "      <td>6051</td>\n",
       "      <td>7</td>\n",
       "      <td>a</td>\n",
       "      <td>Infectious work-up was unremarkable and his SUB_B fevers SUB_E were atrributed to a reaction to OBJ_B platelet OBJ_E transfusion.</td>\n",
       "      <td>129.0</td>\n",
       "    </tr>\n",
       "    <tr>\n",
       "      <th>1496</th>\n",
       "      <td>7574</td>\n",
       "      <td>7</td>\n",
       "      <td>a</td>\n",
       "      <td>Most likely causes are EtOH withdrawal (EtOH on tox screen negative) with concurrent OBJ_B Benzo OBJ_E SUB_B intoxication SUB_E (pos on tox screen and received 450mg librium over 4 days at HRI [**Location (un) **]), or depression with psychosis.</td>\n",
       "      <td>245.0</td>\n",
       "    </tr>\n",
       "    <tr>\n",
       "      <th>1497</th>\n",
       "      <td>7577</td>\n",
       "      <td>7</td>\n",
       "      <td>a</td>\n",
       "      <td>Psych was consulted and felt that OBJ_B benzo OBJ_E SUB_B intoxication SUB_E was likely.</td>\n",
       "      <td>88.0</td>\n",
       "    </tr>\n",
       "    <tr>\n",
       "      <th>1820</th>\n",
       "      <td>9130</td>\n",
       "      <td>7</td>\n",
       "      <td>a</td>\n",
       "      <td>18. OBJ_B morphine OBJ_E 15 mg Tablet Extended Release Sig: One (1) Tablet Extended Release PO once a day as needed for pain: hold for SUB_B sedation SUB_E, RR&lt; 12.</td>\n",
       "      <td>164.0</td>\n",
       "    </tr>\n",
       "    <tr>\n",
       "      <th>1883</th>\n",
       "      <td>9433</td>\n",
       "      <td>7</td>\n",
       "      <td>a</td>\n",
       "      <td>On post operative day two he had episodes of nausea treated with antiemtics and then short episode of SUB_B confusion SUB_E so his OBJ_B narcotics OBJ_E were stopped and he was placed on ultram for pain management with good effect.</td>\n",
       "      <td>231.0</td>\n",
       "    </tr>\n",
       "    <tr>\n",
       "      <th>1991</th>\n",
       "      <td>9935</td>\n",
       "      <td>7</td>\n",
       "      <td>a</td>\n",
       "      <td>SUB_B Thrombocytopenia SUB_E: While in ICU, platelets were noted to drop to a nadir in the 80s. Concern for HIT was raised and OBJ_B Heparin OBJ_E was discontinued after 48 hours of therapy.</td>\n",
       "      <td>190.0</td>\n",
       "    </tr>\n",
       "  </tbody>\n",
       "</table>\n",
       "</div>"
      ],
      "text/plain": [
       "        id  ...  seq_length\n",
       "10    56    ...  148.0     \n",
       "79    407   ...  367.0     \n",
       "109   575   ...  701.0     \n",
       "110   576   ...  701.0     \n",
       "217   1143  ...  127.0     \n",
       "495   2584  ...  96.0      \n",
       "499   2607  ...  109.0     \n",
       "558   2904  ...  180.0     \n",
       "612   3192  ...  239.0     \n",
       "796   4187  ...  146.0     \n",
       "858   4464  ...  81.0      \n",
       "859   4467  ...  81.0      \n",
       "1009  5255  ...  172.0     \n",
       "1011  5264  ...  238.0     \n",
       "1196  6051  ...  129.0     \n",
       "1496  7574  ...  245.0     \n",
       "1497  7577  ...  88.0      \n",
       "1820  9130  ...  164.0     \n",
       "1883  9433  ...  231.0     \n",
       "1991  9935  ...  190.0     \n",
       "\n",
       "[20 rows x 5 columns]"
      ]
     },
     "execution_count": 87,
     "metadata": {
      "tags": []
     },
     "output_type": "execute_result"
    }
   ],
   "source": [
    "#ADE\n",
    "dev_df[dev_df['relation_code']==7].iloc[0:20,:]"
   ]
  },
  {
   "cell_type": "code",
   "execution_count": 89,
   "metadata": {
    "colab": {
     "base_uri": "https://localhost:8080/"
    },
    "executionInfo": {
     "elapsed": 509,
     "status": "ok",
     "timestamp": 1606257484041,
     "user": {
      "displayName": "Valerie Meausoone",
      "photoUrl": "https://lh3.googleusercontent.com/a-/AOh14GhEI3USGoSv9o6JShJGhR2V47o7KYZh-Ya1FgZ6=s64",
      "userId": "13066601150058162597"
     },
     "user_tz": 360
    },
    "id": "gGdBbxykOtNM",
    "outputId": "f4ccfbb3-fd89-4eb4-9d18-f8bf4b97cb67"
   },
   "outputs": [
    {
     "data": {
      "text/plain": [
       "83"
      ]
     },
     "execution_count": 89,
     "metadata": {
      "tags": []
     },
     "output_type": "execute_result"
    }
   ],
   "source": [
    "sum(dev_df[dev_df['relation_code']==0].string.str.count(\"treated\"))"
   ]
  },
  {
   "cell_type": "code",
   "execution_count": 90,
   "metadata": {
    "colab": {
     "base_uri": "https://localhost:8080/"
    },
    "executionInfo": {
     "elapsed": 504,
     "status": "ok",
     "timestamp": 1606257494696,
     "user": {
      "displayName": "Valerie Meausoone",
      "photoUrl": "https://lh3.googleusercontent.com/a-/AOh14GhEI3USGoSv9o6JShJGhR2V47o7KYZh-Ya1FgZ6=s64",
      "userId": "13066601150058162597"
     },
     "user_tz": 360
    },
    "id": "-ZGjd28lZ_IF",
    "outputId": "a7a10bbb-b3eb-481c-9484-5aa4fab1454d"
   },
   "outputs": [
    {
     "data": {
      "text/plain": [
       "10"
      ]
     },
     "execution_count": 90,
     "metadata": {
      "tags": []
     },
     "output_type": "execute_result"
    }
   ],
   "source": [
    "sum(dev_df[dev_df['relation_code']==7].string.str.count(\"treated\"))"
   ]
  }
 ],
 "metadata": {
  "colab": {
   "collapsed_sections": [],
   "name": "MissedPredictionsAnalysis.ipynb",
   "provenance": []
  },
  "kernelspec": {
   "display_name": "Python 3",
   "language": "python",
   "name": "python3"
  },
  "language_info": {
   "codemirror_mode": {
    "name": "ipython",
    "version": 3
   },
   "file_extension": ".py",
   "mimetype": "text/x-python",
   "name": "python",
   "nbconvert_exporter": "python",
   "pygments_lexer": "ipython3",
   "version": "3.8.3"
  }
 },
 "nbformat": 4,
 "nbformat_minor": 4
}
