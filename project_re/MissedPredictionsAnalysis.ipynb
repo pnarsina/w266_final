{
 "cells": [
  {
   "cell_type": "code",
   "execution_count": 5,
   "metadata": {},
   "outputs": [],
   "source": [
    "%reload_ext autoreload\n",
    "%autoreload\n",
    "import pickle, os, json\n",
    "import torch\n",
    "from pathlib import Path, PureWindowsPath, PurePosixPath\n",
    "from util.tools import load_config\n",
    "import pandas as pd"
   ]
  },
  {
   "cell_type": "code",
   "execution_count": 6,
   "metadata": {},
   "outputs": [],
   "source": [
    "# device = torch.device(\"cuda\" if torch.cuda.is_available() else \"cpu\")\n",
    "device = \"cpu\""
   ]
  },
  {
   "cell_type": "code",
   "execution_count": 7,
   "metadata": {},
   "outputs": [],
   "source": [
    "config_folder = \"config/\"\n",
    "config = load_config(config_folder)"
   ]
  },
  {
   "cell_type": "code",
   "execution_count": 10,
   "metadata": {},
   "outputs": [
    {
     "name": "stdout",
     "output_type": "stream",
     "text": [
      "reports\\re\\test_results_2020-11-23 05_06_00_213380.pkl\n",
      "reports\\re\\test_results_2020-11-23 05_11_48_221375.pkl\n",
      "reports\\re\\test_results_2020-11-23 05_17_36_161331.pkl\n",
      "reports\\re\\test_results_2020-11-23 05_23_23_956346.pkl\n",
      "reports\\re\\test_results_2020-11-23 05_28_35_603016.pkl\n",
      "reports\\re\\test_results_2020-11-23 05_33_47_445735.pkl\n"
     ]
    },
    {
     "data": {
      "text/html": [
       "<div>\n",
       "<style scoped>\n",
       "    .dataframe tbody tr th:only-of-type {\n",
       "        vertical-align: middle;\n",
       "    }\n",
       "\n",
       "    .dataframe tbody tr th {\n",
       "        vertical-align: top;\n",
       "    }\n",
       "\n",
       "    .dataframe thead th {\n",
       "        text-align: right;\n",
       "    }\n",
       "</style>\n",
       "<table border=\"1\" class=\"dataframe\">\n",
       "  <thead>\n",
       "    <tr style=\"text-align: right;\">\n",
       "      <th></th>\n",
       "      <th>file_name</th>\n",
       "      <th>model_name</th>\n",
       "      <th>Predicted</th>\n",
       "      <th>True</th>\n",
       "      <th>input</th>\n",
       "    </tr>\n",
       "  </thead>\n",
       "  <tbody>\n",
       "    <tr>\n",
       "      <th>0</th>\n",
       "      <td>reports\\re\\test_results_2020-11-23 05_11_48_221375.pkl</td>\n",
       "      <td>outputs\\re\\BERT_Sequence2020-11-16 22_21_41_536138_bin</td>\n",
       "      <td>7</td>\n",
       "      <td>0</td>\n",
       "      <td>[CLS] We also gave O ##B ##J _ B Val ##ium O ##B ##J _ E you started having a S ##U ##B _ B ton ##ic reaction S ##U ##B _ E , treating the contraction rather than the pain . [SEP] [PAD] [PAD] [PAD] [PAD] [PAD] [PAD] [PAD] [PAD] [PAD] [PAD] [PAD] ...</td>\n",
       "    </tr>\n",
       "    <tr>\n",
       "      <th>1</th>\n",
       "      <td>reports\\re\\test_results_2020-11-23 05_11_48_221375.pkl</td>\n",
       "      <td>outputs\\re\\BERT_Sequence2020-11-16 22_21_41_536138_bin</td>\n",
       "      <td>8</td>\n",
       "      <td>2</td>\n",
       "      <td>[CLS] Me ##dication ##s on Ad ##mission : AL ##B ##UT ##ER ##OL S ##U ##LF ##AT ##E - 0 . 63 mg / 3 m ##L Sol ##ution for N ##eb ##uli ##zation - [ * * 11 - 24 * * ] Sol ##ution ( s ) inhaled every 4 - 6 hours as needed for short ##ness of breath...</td>\n",
       "    </tr>\n",
       "    <tr>\n",
       "      <th>2</th>\n",
       "      <td>reports\\re\\test_results_2020-11-23 05_17_36_161331.pkl</td>\n",
       "      <td>outputs\\re\\BERT_Sequence2020-11-20 04_03_11_148846_bin</td>\n",
       "      <td>3</td>\n",
       "      <td>5</td>\n",
       "      <td>[CLS] Me ##dication ##s on Ad ##mission : AL ##B ##UT ##ER ##OL S ##U ##LF ##AT ##E - 0 . 63 mg / 3 m ##L Sol ##ution for N ##eb ##uli ##zation - [ * * 11 - 24 * * ] Sol ##ution ( s ) inhaled every 4 - 6 hours as needed for short ##ness of breath...</td>\n",
       "    </tr>\n",
       "    <tr>\n",
       "      <th>3</th>\n",
       "      <td>reports\\re\\test_results_2020-11-23 05_23_23_956346.pkl</td>\n",
       "      <td>outputs\\re\\BERT_Sequence2020-11-20 12_33_00_408665_bin</td>\n",
       "      <td>2</td>\n",
       "      <td>1</td>\n",
       "      <td>[CLS] Me ##dication ##s on Ad ##mission : Pro ##gra ##f 1 ##m ##g [ * * Hospital ##1 * * ] I ##mura ##n 50 ##m ##g [ * * Hospital ##1 * * ] Cell ##ce ##pt ( my ##co ##phe ##ni ##date m ##of ##eti ##l ) 1000 ##m ##g [ * * Hospital ##1 * * ] b ##ac...</td>\n",
       "    </tr>\n",
       "    <tr>\n",
       "      <th>4</th>\n",
       "      <td>reports\\re\\test_results_2020-11-23 05_28_35_603016.pkl</td>\n",
       "      <td>outputs\\re\\BioBERT_5epochs_bin</td>\n",
       "      <td>2</td>\n",
       "      <td>0</td>\n",
       "      <td>[CLS] You should CO ##NT ##IN ##UE taking : lip ##itor 20 ##m ##g f ##olate 1 ##m ##g q ##day pro ##ton ##ix 40 ##m ##g q ##day v ##it C 1 ##g q ##day c ##yan ##oc ##ob ##ala ##min 1 ##g s ##c monthly ( you received this on [ * * 3 - 27 * * ] ) Y...</td>\n",
       "    </tr>\n",
       "    <tr>\n",
       "      <th>5</th>\n",
       "      <td>reports\\re\\test_results_2020-11-23 05_28_35_603016.pkl</td>\n",
       "      <td>outputs\\re\\BioBERT_5epochs_bin</td>\n",
       "      <td>7</td>\n",
       "      <td>0</td>\n",
       "      <td>[CLS] You may have S ##U ##B _ B con ##st ##ip ##ation S ##U ##B _ E when taking na ##rc ##otic pain medications ( o ##xy ##co ##don ##e , per ##co ##ce ##t , v ##ico ##din , h ##ydro ##co ##don ##e , di ##lau ##di ##d , etc . ) ; you should cont...</td>\n",
       "    </tr>\n",
       "    <tr>\n",
       "      <th>6</th>\n",
       "      <td>reports\\re\\test_results_2020-11-23 05_28_35_603016.pkl</td>\n",
       "      <td>outputs\\re\\BioBERT_5epochs_bin</td>\n",
       "      <td>2</td>\n",
       "      <td>3</td>\n",
       "      <td>[CLS] Me ##dication ##s on Ad ##mission : # Ma ##alo ##x / Di ##phe ##nh ##yd ##ram ##ine / Li ##do ##ca ##ine 15 - 30 m ##L P ##O 15 MI ##NU ##TE ##S B ##EF ##OR ##E ME ##AL ##S AS NE ##ED ##ED F ##OR M ##O ##UT ##H PA ##IN # Met ##op ##rol ##ol...</td>\n",
       "    </tr>\n",
       "  </tbody>\n",
       "</table>\n",
       "</div>"
      ],
      "text/plain": [
       "                                                file_name  \\\n",
       "0  reports\\re\\test_results_2020-11-23 05_11_48_221375.pkl   \n",
       "1  reports\\re\\test_results_2020-11-23 05_11_48_221375.pkl   \n",
       "2  reports\\re\\test_results_2020-11-23 05_17_36_161331.pkl   \n",
       "3  reports\\re\\test_results_2020-11-23 05_23_23_956346.pkl   \n",
       "4  reports\\re\\test_results_2020-11-23 05_28_35_603016.pkl   \n",
       "5  reports\\re\\test_results_2020-11-23 05_28_35_603016.pkl   \n",
       "6  reports\\re\\test_results_2020-11-23 05_28_35_603016.pkl   \n",
       "\n",
       "                                               model_name  Predicted  True  \\\n",
       "0  outputs\\re\\BERT_Sequence2020-11-16 22_21_41_536138_bin          7     0   \n",
       "1  outputs\\re\\BERT_Sequence2020-11-16 22_21_41_536138_bin          8     2   \n",
       "2  outputs\\re\\BERT_Sequence2020-11-20 04_03_11_148846_bin          3     5   \n",
       "3  outputs\\re\\BERT_Sequence2020-11-20 12_33_00_408665_bin          2     1   \n",
       "4                          outputs\\re\\BioBERT_5epochs_bin          2     0   \n",
       "5                          outputs\\re\\BioBERT_5epochs_bin          7     0   \n",
       "6                          outputs\\re\\BioBERT_5epochs_bin          2     3   \n",
       "\n",
       "                                                                                                                                                                                                                                                       input  \n",
       "0  [CLS] We also gave O ##B ##J _ B Val ##ium O ##B ##J _ E you started having a S ##U ##B _ B ton ##ic reaction S ##U ##B _ E , treating the contraction rather than the pain . [SEP] [PAD] [PAD] [PAD] [PAD] [PAD] [PAD] [PAD] [PAD] [PAD] [PAD] [PAD] ...  \n",
       "1  [CLS] Me ##dication ##s on Ad ##mission : AL ##B ##UT ##ER ##OL S ##U ##LF ##AT ##E - 0 . 63 mg / 3 m ##L Sol ##ution for N ##eb ##uli ##zation - [ * * 11 - 24 * * ] Sol ##ution ( s ) inhaled every 4 - 6 hours as needed for short ##ness of breath...  \n",
       "2  [CLS] Me ##dication ##s on Ad ##mission : AL ##B ##UT ##ER ##OL S ##U ##LF ##AT ##E - 0 . 63 mg / 3 m ##L Sol ##ution for N ##eb ##uli ##zation - [ * * 11 - 24 * * ] Sol ##ution ( s ) inhaled every 4 - 6 hours as needed for short ##ness of breath...  \n",
       "3  [CLS] Me ##dication ##s on Ad ##mission : Pro ##gra ##f 1 ##m ##g [ * * Hospital ##1 * * ] I ##mura ##n 50 ##m ##g [ * * Hospital ##1 * * ] Cell ##ce ##pt ( my ##co ##phe ##ni ##date m ##of ##eti ##l ) 1000 ##m ##g [ * * Hospital ##1 * * ] b ##ac...  \n",
       "4  [CLS] You should CO ##NT ##IN ##UE taking : lip ##itor 20 ##m ##g f ##olate 1 ##m ##g q ##day pro ##ton ##ix 40 ##m ##g q ##day v ##it C 1 ##g q ##day c ##yan ##oc ##ob ##ala ##min 1 ##g s ##c monthly ( you received this on [ * * 3 - 27 * * ] ) Y...  \n",
       "5  [CLS] You may have S ##U ##B _ B con ##st ##ip ##ation S ##U ##B _ E when taking na ##rc ##otic pain medications ( o ##xy ##co ##don ##e , per ##co ##ce ##t , v ##ico ##din , h ##ydro ##co ##don ##e , di ##lau ##di ##d , etc . ) ; you should cont...  \n",
       "6  [CLS] Me ##dication ##s on Ad ##mission : # Ma ##alo ##x / Di ##phe ##nh ##yd ##ram ##ine / Li ##do ##ca ##ine 15 - 30 m ##L P ##O 15 MI ##NU ##TE ##S B ##EF ##OR ##E ME ##AL ##S AS NE ##ED ##ED F ##OR M ##O ##UT ##H PA ##IN # Met ##op ##rol ##ol...  "
      ]
     },
     "execution_count": 10,
     "metadata": {},
     "output_type": "execute_result"
    }
   ],
   "source": [
    "reports_folder_name = config.programsettings.REPORTS_DIR\n",
    "data_folder = Path(reports_folder_name)\n",
    "list_results_files = list(data_folder.glob('**/test_results*.pkl'))\n",
    "\n",
    "all_results = []\n",
    "for results_file in list_results_files:\n",
    "    print(results_file)\n",
    "    with open(results_file,\"rb\") as f:\n",
    "        lst_results = pickle.load(f)\n",
    "    for results in lst_results:\n",
    "        all_results.append([results_file, results[0], results[1], results[2], results[3] ])\n",
    "\n",
    "columns = ['file_name','model_name','Predicted', 'True', 'input']\n",
    "pd.options.display.max_colwidth = 250\n",
    "df_results = pd.DataFrame(all_results, columns = columns)\n",
    "df_results\n",
    "# df_results[ (df_results[\"True\"] == 7) ]"
   ]
  },
  {
   "cell_type": "code",
   "execution_count": null,
   "metadata": {},
   "outputs": [],
   "source": []
  }
 ],
 "metadata": {
  "kernelspec": {
   "display_name": "Python 3",
   "language": "python",
   "name": "python3"
  },
  "language_info": {
   "codemirror_mode": {
    "name": "ipython",
    "version": 3
   },
   "file_extension": ".py",
   "mimetype": "text/x-python",
   "name": "python",
   "nbconvert_exporter": "python",
   "pygments_lexer": "ipython3",
   "version": "3.8.3"
  }
 },
 "nbformat": 4,
 "nbformat_minor": 4
}
