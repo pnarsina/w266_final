{
 "cells": [
  {
   "cell_type": "code",
   "execution_count": 1,
   "metadata": {},
   "outputs": [],
   "source": [
    "%reload_ext autoreload\n",
    "%autoreload\n",
    "import pickle, os, json\n",
    "import torch\n",
    "from pathlib import Path, PureWindowsPath, PurePosixPath\n",
    "from util.tools import load_config\n",
    "import pandas as pd"
   ]
  },
  {
   "cell_type": "code",
   "execution_count": 2,
   "metadata": {},
   "outputs": [],
   "source": [
    "device = torch.device(\"cuda\" if torch.cuda.is_available() else \"cpu\")\n",
    "# device = \"cpu\""
   ]
  },
  {
   "cell_type": "code",
   "execution_count": 3,
   "metadata": {},
   "outputs": [],
   "source": [
    "config_folder = \"config/\"\n",
    "config = load_config(config_folder)"
   ]
  },
  {
   "cell_type": "code",
   "execution_count": 6,
   "metadata": {},
   "outputs": [
    {
     "name": "stdout",
     "output_type": "stream",
     "text": [
      "reports\\re\\BIOBERT_fc_missedcases_2020-11-21 22_19_19_657147.pkl\n",
      "reports\\re\\BIOBERT_fc_missedcases_2020-11-22 01_41_58_166374.pkl\n",
      "reports\\re\\BIOBERT_fc_missedcases_2020-11-22 05_04_37_037379.pkl\n",
      "reports\\re\\BIOBERT_fc_missedcases_2020-11-22 08_27_25_411399.pkl\n",
      "reports\\re\\BIOBERT_fc_missedcases_2020-11-22 10_44_10_840035.pkl\n"
     ]
    },
    {
     "data": {
      "text/html": [
       "<div>\n",
       "<style scoped>\n",
       "    .dataframe tbody tr th:only-of-type {\n",
       "        vertical-align: middle;\n",
       "    }\n",
       "\n",
       "    .dataframe tbody tr th {\n",
       "        vertical-align: top;\n",
       "    }\n",
       "\n",
       "    .dataframe thead th {\n",
       "        text-align: right;\n",
       "    }\n",
       "</style>\n",
       "<table border=\"1\" class=\"dataframe\">\n",
       "  <thead>\n",
       "    <tr style=\"text-align: right;\">\n",
       "      <th></th>\n",
       "      <th>file_name</th>\n",
       "      <th>Predicted</th>\n",
       "      <th>True</th>\n",
       "      <th>input</th>\n",
       "    </tr>\n",
       "  </thead>\n",
       "  <tbody>\n",
       "    <tr>\n",
       "      <th>0</th>\n",
       "      <td>reports\\re\\BIOBERT_fc_missedcases_2020-11-22 01_41_58_166374.pkl</td>\n",
       "      <td>5</td>\n",
       "      <td>1</td>\n",
       "      <td>[CLS] N ##eur ##o : Post - operative ##ly , the patient received Fen ##tany ##l &amp; O ##B ##J _ B Di ##lau ##di ##d O ##B ##J _ E S ##U ##B _ B IV S ##U ##B _ E with good effect and adequate pain control . [SEP] [PAD] [PAD] [PAD] [PAD] [PAD] [PAD] ...</td>\n",
       "    </tr>\n",
       "    <tr>\n",
       "      <th>1</th>\n",
       "      <td>reports\\re\\BIOBERT_fc_missedcases_2020-11-22 05_04_37_037379.pkl</td>\n",
       "      <td>3</td>\n",
       "      <td>0</td>\n",
       "      <td>[CLS] Right vent ##ric ##ular chamber size and free wall motion are normal . [SEP] [PAD] [PAD] [PAD] [PAD] [PAD] [PAD] [PAD] [PAD] [PAD] [PAD] [PAD] [PAD] [PAD] [PAD] [PAD] [PAD] [PAD] [PAD] [PAD] [PAD] [PAD] [PAD] [PAD] [PAD] [PAD] [PAD] [PAD] [...</td>\n",
       "    </tr>\n",
       "    <tr>\n",
       "      <th>2</th>\n",
       "      <td>reports\\re\\BIOBERT_fc_missedcases_2020-11-22 05_04_37_037379.pkl</td>\n",
       "      <td>1</td>\n",
       "      <td>5</td>\n",
       "      <td>[CLS] O ##B ##J _ B N ##ec ##on O ##B ##J _ E 1 / 35 ( 28 ) 1 - 35 mg - m ##c ##g Table ##t Si ##g : S ##U ##B _ B One ( 1 ) S ##U ##B _ E Table ##t P ##O once a day . [SEP] [PAD] [PAD] [PAD] [PAD] [PAD] [PAD] [PAD] [PAD] [PAD] [PAD] [PAD] [PAD] ...</td>\n",
       "    </tr>\n",
       "  </tbody>\n",
       "</table>\n",
       "</div>"
      ],
      "text/plain": [
       "                                                          file_name  \\\n",
       "0  reports\\re\\BIOBERT_fc_missedcases_2020-11-22 01_41_58_166374.pkl   \n",
       "1  reports\\re\\BIOBERT_fc_missedcases_2020-11-22 05_04_37_037379.pkl   \n",
       "2  reports\\re\\BIOBERT_fc_missedcases_2020-11-22 05_04_37_037379.pkl   \n",
       "\n",
       "   Predicted  True  \\\n",
       "0          5     1   \n",
       "1          3     0   \n",
       "2          1     5   \n",
       "\n",
       "                                                                                                                                                                                                                                                       input  \n",
       "0  [CLS] N ##eur ##o : Post - operative ##ly , the patient received Fen ##tany ##l & O ##B ##J _ B Di ##lau ##di ##d O ##B ##J _ E S ##U ##B _ B IV S ##U ##B _ E with good effect and adequate pain control . [SEP] [PAD] [PAD] [PAD] [PAD] [PAD] [PAD] ...  \n",
       "1  [CLS] Right vent ##ric ##ular chamber size and free wall motion are normal . [SEP] [PAD] [PAD] [PAD] [PAD] [PAD] [PAD] [PAD] [PAD] [PAD] [PAD] [PAD] [PAD] [PAD] [PAD] [PAD] [PAD] [PAD] [PAD] [PAD] [PAD] [PAD] [PAD] [PAD] [PAD] [PAD] [PAD] [PAD] [...  \n",
       "2  [CLS] O ##B ##J _ B N ##ec ##on O ##B ##J _ E 1 / 35 ( 28 ) 1 - 35 mg - m ##c ##g Table ##t Si ##g : S ##U ##B _ B One ( 1 ) S ##U ##B _ E Table ##t P ##O once a day . [SEP] [PAD] [PAD] [PAD] [PAD] [PAD] [PAD] [PAD] [PAD] [PAD] [PAD] [PAD] [PAD] ...  "
      ]
     },
     "execution_count": 6,
     "metadata": {},
     "output_type": "execute_result"
    }
   ],
   "source": [
    "reports_folder_name = config.programsettings.REPORTS_DIR\n",
    "data_folder = Path(reports_folder_name)\n",
    "list_results_files = list(data_folder.glob('**/*missedcases*.pkl'))\n",
    "\n",
    "all_results = []\n",
    "for results_file in list_results_files:\n",
    "    print(results_file)\n",
    "    with open(results_file,\"rb\") as f:\n",
    "        lst_results = pickle.load(f)\n",
    "    for results in lst_results:\n",
    "        all_results.append([results_file, results[0], results[1], results[2] ])\n",
    "\n",
    "columns = ['file_name','Predicted', 'True', 'input']\n",
    "pd.options.display.max_colwidth = 250\n",
    "df_results = pd.DataFrame(all_results, columns = columns)\n",
    "df_results\n",
    "# df_results[ (df_results[\"True\"] == 7) ]"
   ]
  },
  {
   "cell_type": "code",
   "execution_count": null,
   "metadata": {},
   "outputs": [],
   "source": []
  }
 ],
 "metadata": {
  "kernelspec": {
   "display_name": "Python 3",
   "language": "python",
   "name": "python3"
  },
  "language_info": {
   "codemirror_mode": {
    "name": "ipython",
    "version": 3
   },
   "file_extension": ".py",
   "mimetype": "text/x-python",
   "name": "python",
   "nbconvert_exporter": "python",
   "pygments_lexer": "ipython3",
   "version": "3.8.3"
  }
 },
 "nbformat": 4,
 "nbformat_minor": 4
}
