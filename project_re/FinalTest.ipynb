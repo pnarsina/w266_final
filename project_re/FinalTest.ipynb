{
 "cells": [
  {
   "cell_type": "code",
   "execution_count": 9,
   "metadata": {},
   "outputs": [],
   "source": [
    "%reload_ext autoreload\n",
    "%autoreload\n",
    "%matplotlib inline\n",
    "import os, json,glob,sys,io\n",
    "from types import SimpleNamespace\n",
    "from experiment import run_model\n",
    "from eval import calculate_stats, eval_model\n",
    "import pickle\n",
    "from datetime import datetime \n",
    "import torch\n",
    "from torch import nn\n",
    "from transformers import BertTokenizer\n",
    "from model.MedClinical import Biobert_fc \n",
    "from sklearn.metrics import classification_report, f1_score\n",
    "from util.tools  import load_config\n",
    "from util.DataLoader  import *\n",
    "from pathlib import Path, PureWindowsPath, PurePosixPath\n",
    "import traceback\n",
    "from matplotlib import pyplot as plt\n",
    "import pandas as pd"
   ]
  },
  {
   "cell_type": "code",
   "execution_count": 10,
   "metadata": {},
   "outputs": [],
   "source": [
    "device = torch.device(\"cuda\" if torch.cuda.is_available() else \"cpu\")\n",
    "# device = \"cpu\""
   ]
  },
  {
   "cell_type": "code",
   "execution_count": 11,
   "metadata": {},
   "outputs": [],
   "source": [
    "config_folder = \"config/\"\n",
    "config = load_config(config_folder)"
   ]
  },
  {
   "cell_type": "code",
   "execution_count": 12,
   "metadata": {},
   "outputs": [
    {
     "name": "stderr",
     "output_type": "stream",
     "text": [
      "INFO:root:***** Running training *****\n",
      "INFO:root:  Num examples = 50010\n",
      "INFO:root:  Batch size = 24\n",
      "INFO:root:  Num steps = 20830\n"
     ]
    }
   ],
   "source": [
    "dataprocessor = MultiClassificationProcessor()\n",
    "test_dataloader, dev_data_len, dev_num_labels, dev_num_train_optimization_steps, all_dev_label_ids = dataprocessor.get_data_loader(config,source='test')    "
   ]
  },
  {
   "cell_type": "code",
   "execution_count": 13,
   "metadata": {},
   "outputs": [],
   "source": [
    "def save_missed_cases_to_file(file_name, preds, label_ids, inputs):\n",
    "    tokenizer = BertTokenizer.from_pretrained('bert-base-cased', do_lower_case=False)\n",
    "    missed_cases = []\n",
    "    for i in range(0,len(label_ids)):\n",
    "        if label_ids[i] !=  preds[i]:\n",
    "             missed_cases.append([ file_name, preds[i],  label_ids[i] , \" \". join (tokenizer.convert_ids_to_tokens(inputs[i])) ])\n",
    "\n",
    "    #Save into a file\n",
    "    missed_cases_file = config.programsettings.REPORTS_DIR +'test_results_' + str(datetime.now()).replace(\":\", \"_\").replace(\".\", \"_\") + \".pkl\"\n",
    "    with open(missed_cases_file, \"wb\") as f:\n",
    "        pickle.dump(missed_cases, f)  \n",
    "        \n",
    "    "
   ]
  },
  {
   "cell_type": "code",
   "execution_count": null,
   "metadata": {},
   "outputs": [
    {
     "name": "stdout",
     "output_type": "stream",
     "text": [
      "\n",
      " Model file:  outputs\\re\\BioBERT_CNN_fc2020-11-24 03_13_56_562308.bin\n"
     ]
    },
    {
     "data": {
      "application/vnd.jupyter.widget-view+json": {
       "model_id": "5b88c2ac90f94e4aaa8c94178784d180",
       "version_major": 2,
       "version_minor": 0
      },
      "text/plain": [
       "HBox(children=(FloatProgress(value=0.0, description='Evaluating', max=2084.0, style=ProgressStyle(description_…"
      ]
     },
     "metadata": {},
     "output_type": "display_data"
    },
    {
     "name": "stdout",
     "output_type": "stream",
     "text": [
      "\n",
      "              precision    recall  f1-score   support\n",
      "\n",
      "           0       0.81      0.99      0.89      3464\n",
      "           1       0.97      0.98      0.97      3723\n",
      "           2       0.96      0.98      0.97      4274\n",
      "           3       0.99      0.98      0.99      4090\n",
      "           4       0.95      0.96      0.96       420\n",
      "           5       0.98      0.95      0.96      3024\n",
      "           6       0.97      0.97      0.97      2802\n",
      "           7       0.00      0.00      0.00       775\n",
      "           8       1.00      1.00      1.00     27438\n",
      "\n",
      "    accuracy                           0.97     50010\n",
      "   macro avg       0.85      0.87      0.86     50010\n",
      "weighted avg       0.96      0.97      0.97     50010\n",
      "\n",
      "\n",
      " \n",
      " \n",
      "\n"
     ]
    },
    {
     "name": "stderr",
     "output_type": "stream",
     "text": [
      "C:\\ProgramData\\Anaconda3\\lib\\site-packages\\sklearn\\metrics\\_classification.py:1221: UndefinedMetricWarning: Precision and F-score are ill-defined and being set to 0.0 in labels with no predicted samples. Use `zero_division` parameter to control this behavior.\n",
      "  _warn_prf(average, modifier, msg_start, len(result))\n"
     ]
    },
    {
     "name": "stdout",
     "output_type": "stream",
     "text": [
      "\n",
      " Model file:  outputs\\re\\test_evaluated\\BERT_Sequence2020-11-16 05_43_28_786014.bin\n"
     ]
    },
    {
     "data": {
      "application/vnd.jupyter.widget-view+json": {
       "model_id": "a305cdd732234573ab84ec31b6320de5",
       "version_major": 2,
       "version_minor": 0
      },
      "text/plain": [
       "HBox(children=(FloatProgress(value=0.0, description='Evaluating', max=2084.0, style=ProgressStyle(description_…"
      ]
     },
     "metadata": {},
     "output_type": "display_data"
    },
    {
     "name": "stdout",
     "output_type": "stream",
     "text": [
      "\n",
      "              precision    recall  f1-score   support\n",
      "\n",
      "           0       0.95      0.97      0.96      3464\n",
      "           1       0.97      0.97      0.97      3723\n",
      "           2       0.97      0.98      0.98      4274\n",
      "           3       0.99      0.98      0.98      4090\n",
      "           4       0.93      0.95      0.94       420\n",
      "           5       0.97      0.95      0.96      3024\n",
      "           6       0.97      0.98      0.97      2802\n",
      "           7       0.91      0.82      0.86       775\n",
      "           8       1.00      1.00      1.00     27438\n",
      "\n",
      "    accuracy                           0.98     50010\n",
      "   macro avg       0.96      0.96      0.96     50010\n",
      "weighted avg       0.98      0.98      0.98     50010\n",
      "\n",
      "\n",
      " \n",
      " \n",
      "\n",
      "\n",
      " Model file:  outputs\\re\\test_evaluated\\BERT_Sequence2020-11-16 22_21_41_536138.bin\n"
     ]
    },
    {
     "data": {
      "application/vnd.jupyter.widget-view+json": {
       "model_id": "ec3a3b4a821c4a23a898983320256291",
       "version_major": 2,
       "version_minor": 0
      },
      "text/plain": [
       "HBox(children=(FloatProgress(value=0.0, description='Evaluating', max=2084.0, style=ProgressStyle(description_…"
      ]
     },
     "metadata": {},
     "output_type": "display_data"
    },
    {
     "name": "stdout",
     "output_type": "stream",
     "text": [
      "\n",
      "\n",
      " Model file:  outputs\\re\\test_evaluated\\BERT_Sequence2020-11-20 04_03_11_148846.bin\n"
     ]
    },
    {
     "name": "stderr",
     "output_type": "stream",
     "text": [
      "Traceback (most recent call last):\n",
      "  File \"<ipython-input-14-f17c69de64b9>\", line 13, in <module>\n",
      "    test_inputs, test_preds, test_labels, test_loss = eval_model( config, model, test_dataloader, device, num_labels)\n",
      "  File \"F:\\Prabhu\\final_project\\project_re\\eval.py\", line 59, in eval_model\n",
      "    inputs[0] = np.append(\n",
      "  File \"<__array_function__ internals>\", line 5, in append\n",
      "  File \"C:\\ProgramData\\Anaconda3\\lib\\site-packages\\numpy\\lib\\function_base.py\", line 4693, in append\n",
      "    return concatenate((arr, values), axis=axis)\n",
      "  File \"<__array_function__ internals>\", line 5, in concatenate\n",
      "KeyboardInterrupt\n"
     ]
    },
    {
     "data": {
      "application/vnd.jupyter.widget-view+json": {
       "model_id": "774fc8a8a365498783d6ea963e584dbd",
       "version_major": 2,
       "version_minor": 0
      },
      "text/plain": [
       "HBox(children=(FloatProgress(value=0.0, description='Evaluating', max=2084.0, style=ProgressStyle(description_…"
      ]
     },
     "metadata": {},
     "output_type": "display_data"
    }
   ],
   "source": [
    "models_folder_name = config.programsettings.OUTPUT_DIR\n",
    "data_folder = Path(models_folder_name)\n",
    "list_model_files = list(data_folder.glob('**/*.bin'))\n",
    "num_labels = 9\n",
    "\n",
    "f1_score_list = []\n",
    "for model_file in list_model_files:\n",
    "    try:\n",
    "        print(\"\\n Model file: \", model_file)\n",
    "        model = torch.load(model_file)\n",
    "#         model = nn.DataParallel(model)\n",
    "        x =model.eval()\n",
    "        test_inputs, test_preds, test_labels, test_loss = eval_model( config, model, test_dataloader, device, num_labels)  \n",
    "        print(classification_report(test_labels,test_preds ))\n",
    "        print(\"\\n \\n \\n\")\n",
    "        f1_value = f1_score(test_labels, test_preds,average='macro')\n",
    "        f1_score_list.append([model_file,f1_value ])\n",
    "        file_name = model_file.__str__().replace(\".\", \"_\") \n",
    "        save_missed_cases_to_file( file_name, test_preds, test_labels, test_inputs)\n",
    "        \n",
    "    except:\n",
    "#         print(\"Failed due to cpu & GPU incompatibility\")\n",
    "     # printing stack trace \n",
    "        traceback.print_exc()         \n",
    "\n",
    "print(\"\\n \\n \\n\")\n",
    "\n",
    "\n"
   ]
  },
  {
   "cell_type": "code",
   "execution_count": null,
   "metadata": {},
   "outputs": [],
   "source": [
    "pd.set_option('display.max_colwidth', 120)\n",
    "columns = ['file_namae', 'f1-score']\n",
    "test_results= pd.DataFrame(f1_score_list, columns = columns)\n",
    "test_results"
   ]
  },
  {
   "cell_type": "code",
   "execution_count": null,
   "metadata": {},
   "outputs": [],
   "source": [
    "# print (\"F1 Score summary \\n\")  \n",
    "# ax = plt.gca()\n",
    "# ax.get_xaxis().set_visible(False)\n",
    "# ax.get_yaxis().set_visible(False)\n",
    "# plt.box(on=None)\n",
    "# plt.figure(figsize=(14,6))\n",
    "# the_table = plt.table(cellText=f1_score_list,\n",
    "#                       colLabels=['file name', 'F1-score'],\n",
    "#                       loc='center')\n",
    "# the_table.auto_set_font_size(False)\n",
    "# the_table.set_fontsize(10)"
   ]
  },
  {
   "cell_type": "code",
   "execution_count": null,
   "metadata": {},
   "outputs": [],
   "source": []
  }
 ],
 "metadata": {
  "kernelspec": {
   "display_name": "Python 3",
   "language": "python",
   "name": "python3"
  },
  "language_info": {
   "codemirror_mode": {
    "name": "ipython",
    "version": 3
   },
   "file_extension": ".py",
   "mimetype": "text/x-python",
   "name": "python",
   "nbconvert_exporter": "python",
   "pygments_lexer": "ipython3",
   "version": "3.8.3"
  }
 },
 "nbformat": 4,
 "nbformat_minor": 4
}
