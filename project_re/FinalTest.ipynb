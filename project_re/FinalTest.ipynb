{
 "cells": [
  {
   "cell_type": "code",
   "execution_count": 1,
   "metadata": {},
   "outputs": [],
   "source": [
    "%reload_ext autoreload\n",
    "%autoreload\n",
    "%matplotlib inline\n",
    "import os, json,glob,sys,io\n",
    "from types import SimpleNamespace\n",
    "from experiment import run_model\n",
    "from eval import calculate_stats, eval_model\n",
    "import pickle\n",
    "from datetime import datetime \n",
    "import torch\n",
    "from torch import nn\n",
    "from transformers import BertTokenizer\n",
    "from model.MedClinical import Biobert_fc \n",
    "from sklearn.metrics import classification_report, f1_score\n",
    "from util.tools  import load_config\n",
    "from util.DataLoader  import *\n",
    "from pathlib import Path, PureWindowsPath, PurePosixPath\n",
    "import traceback\n",
    "from matplotlib import pyplot as plt\n",
    "import pandas as pd"
   ]
  },
  {
   "cell_type": "code",
   "execution_count": 2,
   "metadata": {},
   "outputs": [],
   "source": [
    "device = torch.device(\"cuda\" if torch.cuda.is_available() else \"cpu\")\n",
    "# device = \"cpu\""
   ]
  },
  {
   "cell_type": "code",
   "execution_count": 3,
   "metadata": {},
   "outputs": [],
   "source": [
    "config_folder = \"config/\"\n",
    "config = load_config(config_folder)"
   ]
  },
  {
   "cell_type": "code",
   "execution_count": 4,
   "metadata": {},
   "outputs": [
    {
     "name": "stderr",
     "output_type": "stream",
     "text": [
      "INFO:root:***** Running training *****\n",
      "INFO:root:  Num examples = 50010\n",
      "INFO:root:  Batch size = 24\n",
      "INFO:root:  Num steps = 20830\n"
     ]
    }
   ],
   "source": [
    "dataprocessor = MultiClassificationProcessor()\n",
    "test_dataloader, dev_data_len, dev_num_labels, dev_num_train_optimization_steps, all_dev_label_ids = dataprocessor.get_data_loader(config,source='test')    "
   ]
  },
  {
   "cell_type": "code",
   "execution_count": 5,
   "metadata": {},
   "outputs": [],
   "source": [
    "def save_missed_cases_to_file(file_name, preds, label_ids, inputs):\n",
    "    tokenizer = BertTokenizer.from_pretrained('bert-base-cased', do_lower_case=False)\n",
    "    missed_cases = []\n",
    "    for i in range(0,50):\n",
    "        if label_ids[i] !=  preds[i]:\n",
    "             missed_cases.append([ preds[i],  label_ids[i] , \" \". join (tokenizer.convert_ids_to_tokens(inputs[i])) ])\n",
    "\n",
    "    #Save into a file\n",
    "    missed_cases_file = config.programsettings.REPORTS_DIR +file_name + str(datetime.now()).replace(\":\", \"_\").replace(\".\", \"_\") + \".pkl\"\n",
    "    with open(missed_cases_file, \"wb\") as f:\n",
    "        pickle.dump(missed_cases, f)  \n",
    "        \n"
   ]
  },
  {
   "cell_type": "code",
   "execution_count": null,
   "metadata": {},
   "outputs": [
    {
     "name": "stdout",
     "output_type": "stream",
     "text": [
      "\n",
      " Model file:  outputs\\re\\BERT_Sequence2020-11-16 05_43_28_786014.bin\n"
     ]
    },
    {
     "data": {
      "application/vnd.jupyter.widget-view+json": {
       "model_id": "94591d19954a4a7aa7bb87ec21326be8",
       "version_major": 2,
       "version_minor": 0
      },
      "text/plain": [
       "HBox(children=(FloatProgress(value=0.0, description='Evaluating', max=2084.0, style=ProgressStyle(description_…"
      ]
     },
     "metadata": {},
     "output_type": "display_data"
    },
    {
     "name": "stdout",
     "output_type": "stream",
     "text": [
      "\n",
      "              precision    recall  f1-score   support\n",
      "\n",
      "           0       0.95      0.97      0.96      3464\n",
      "           1       0.97      0.97      0.97      3723\n",
      "           2       0.97      0.98      0.98      4274\n",
      "           3       0.99      0.98      0.98      4090\n",
      "           4       0.93      0.95      0.94       420\n",
      "           5       0.97      0.95      0.96      3024\n",
      "           6       0.97      0.98      0.97      2802\n",
      "           7       0.91      0.82      0.86       775\n",
      "           8       1.00      1.00      1.00     27438\n",
      "\n",
      "    accuracy                           0.98     50010\n",
      "   macro avg       0.96      0.96      0.96     50010\n",
      "weighted avg       0.98      0.98      0.98     50010\n",
      "\n",
      "\n",
      " \n",
      " \n",
      "\n"
     ]
    },
    {
     "name": "stderr",
     "output_type": "stream",
     "text": [
      "Traceback (most recent call last):\n",
      "  File \"<ipython-input-6-15a4f7924ce1>\", line 18, in <module>\n",
      "    save_missed_cases_to_file(model_file.__str__() + \"_test_\" , test_preds, test_labels, test_inputs)\n",
      "  File \"<ipython-input-5-b69fe2cb202e>\", line 10, in save_missed_cases_to_file\n",
      "    with open(missed_cases_file, \"wb\") as f:\n",
      "FileNotFoundError: [Errno 2] No such file or directory: 'reports/re/outputs\\\\re\\\\BERT_Sequence2020-11-16 05_43_28_786014.bin_test_2020-11-23 03_46_53_087960.pkl'\n"
     ]
    },
    {
     "name": "stdout",
     "output_type": "stream",
     "text": [
      "\n",
      " Model file:  outputs\\re\\BERT_Sequence2020-11-16 22_21_41_536138.bin\n"
     ]
    },
    {
     "data": {
      "application/vnd.jupyter.widget-view+json": {
       "model_id": "dc79962d00574ea09c46108f41ecd18c",
       "version_major": 2,
       "version_minor": 0
      },
      "text/plain": [
       "HBox(children=(FloatProgress(value=0.0, description='Evaluating', max=2084.0, style=ProgressStyle(description_…"
      ]
     },
     "metadata": {},
     "output_type": "display_data"
    }
   ],
   "source": [
    "models_folder_name = config.programsettings.OUTPUT_DIR\n",
    "data_folder = Path(models_folder_name)\n",
    "list_model_files = list(data_folder.glob('**/*.bin'))\n",
    "num_labels = 9\n",
    "\n",
    "f1_score_list = []\n",
    "for model_file in list_model_files:\n",
    "    try:\n",
    "        print(\"\\n Model file: \", model_file)\n",
    "        model = torch.load(model_file)\n",
    "#         model = nn.DataParallel(model)\n",
    "        x =model.eval()\n",
    "        test_inputs, test_preds, test_labels, test_loss = eval_model( config, model, test_dataloader, device, num_labels)  \n",
    "        print(classification_report(test_labels,test_preds ))\n",
    "        print(\"\\n \\n \\n\")\n",
    "        f1_value = f1_score(test_labels, test_preds,average='macro')\n",
    "        f1_score_list.append([model_file,f1_value ])\n",
    "        save_missed_cases_to_file(model_file.__str__() + \"_test_\" , test_preds, test_labels, test_inputs)\n",
    "        \n",
    "    except:\n",
    "#         print(\"Failed due to cpu & GPU incompatibility\")\n",
    "     # printing stack trace \n",
    "        traceback.print_exc()         \n",
    "\n",
    "print(\"\\n \\n \\n\")\n",
    "\n",
    "\n"
   ]
  },
  {
   "cell_type": "code",
   "execution_count": null,
   "metadata": {},
   "outputs": [],
   "source": [
    "pd.set_option('display.max_colwidth', 120)\n",
    "columns = ['file_namae', 'f1-score']\n",
    "test_results= pd.DataFrame(f1_score_list, columns = columns)\n",
    "test_results"
   ]
  },
  {
   "cell_type": "code",
   "execution_count": null,
   "metadata": {},
   "outputs": [],
   "source": [
    "# print (\"F1 Score summary \\n\")  \n",
    "# ax = plt.gca()\n",
    "# ax.get_xaxis().set_visible(False)\n",
    "# ax.get_yaxis().set_visible(False)\n",
    "# plt.box(on=None)\n",
    "# plt.figure(figsize=(14,6))\n",
    "# the_table = plt.table(cellText=f1_score_list,\n",
    "#                       colLabels=['file name', 'F1-score'],\n",
    "#                       loc='center')\n",
    "# the_table.auto_set_font_size(False)\n",
    "# the_table.set_fontsize(10)"
   ]
  },
  {
   "cell_type": "code",
   "execution_count": null,
   "metadata": {},
   "outputs": [],
   "source": []
  }
 ],
 "metadata": {
  "kernelspec": {
   "display_name": "Python 3",
   "language": "python",
   "name": "python3"
  },
  "language_info": {
   "codemirror_mode": {
    "name": "ipython",
    "version": 3
   },
   "file_extension": ".py",
   "mimetype": "text/x-python",
   "name": "python",
   "nbconvert_exporter": "python",
   "pygments_lexer": "ipython3",
   "version": "3.8.3"
  }
 },
 "nbformat": 4,
 "nbformat_minor": 4
}
