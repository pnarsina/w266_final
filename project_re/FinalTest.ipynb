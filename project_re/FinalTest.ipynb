{
 "cells": [
  {
   "cell_type": "code",
   "execution_count": 1,
   "metadata": {},
   "outputs": [],
   "source": [
    "%reload_ext autoreload\n",
    "%autoreload\n",
    "%matplotlib inline\n",
    "import os, json,glob,sys,io\n",
    "from types import SimpleNamespace\n",
    "from experiment import run_model\n",
    "from eval import calculate_stats, eval_model\n",
    "import pickle\n",
    "from datetime import datetime \n",
    "import torch\n",
    "from transformers import BertTokenizer\n",
    "from model.MedClinical import Biobert_fc \n",
    "from sklearn.metrics import classification_report, f1_score\n",
    "from util.tools  import load_config\n",
    "from util.DataLoader  import *\n",
    "from pathlib import Path, PureWindowsPath, PurePosixPath\n",
    "import traceback\n",
    "from matplotlib import pyplot as plt\n",
    "import pandas as pd"
   ]
  },
  {
   "cell_type": "code",
   "execution_count": 2,
   "metadata": {},
   "outputs": [],
   "source": [
    "device = torch.device(\"cuda\" if torch.cuda.is_available() else \"cpu\")\n",
    "# device = \"cpu\""
   ]
  },
  {
   "cell_type": "code",
   "execution_count": 3,
   "metadata": {},
   "outputs": [],
   "source": [
    "config_folder = \"config/\"\n",
    "config = load_config(config_folder)"
   ]
  },
  {
   "cell_type": "code",
   "execution_count": 4,
   "metadata": {},
   "outputs": [
    {
     "name": "stderr",
     "output_type": "stream",
     "text": [
      "INFO:root:***** Running training *****\n",
      "INFO:root:  Num examples = 1000\n",
      "INFO:root:  Batch size = 24\n",
      "INFO:root:  Num steps = 410\n"
     ]
    }
   ],
   "source": [
    "dataprocessor = MultiClassificationProcessor()\n",
    "test_dataloader, dev_data_len, dev_num_labels, dev_num_train_optimization_steps, all_dev_label_ids = dataprocessor.get_data_loader(config,source='test')    "
   ]
  },
  {
   "cell_type": "code",
   "execution_count": null,
   "metadata": {},
   "outputs": [
    {
     "name": "stdout",
     "output_type": "stream",
     "text": [
      "\n",
      " Model file:  outputs\\re\\BERT_Sequence2020-11-15 15_34_27_348184.bin\n"
     ]
    },
    {
     "data": {
      "application/vnd.jupyter.widget-view+json": {
       "model_id": "1ff9cae6aa2143e58bda076d359403d8",
       "version_major": 2,
       "version_minor": 0
      },
      "text/plain": [
       "HBox(children=(FloatProgress(value=0.0, description='Evaluating', max=42.0, style=ProgressStyle(description_wi…"
      ]
     },
     "metadata": {},
     "output_type": "display_data"
    },
    {
     "name": "stdout",
     "output_type": "stream",
     "text": [
      "\n",
      "Failed due to cpu & GPU incompatibility\n",
      "\n",
      " Model file:  outputs\\re\\BERT_Sequence2020-11-15 18_33_16_910419.bin\n"
     ]
    },
    {
     "data": {
      "application/vnd.jupyter.widget-view+json": {
       "model_id": "b36ba79dda5448ed8619228db7603cf2",
       "version_major": 2,
       "version_minor": 0
      },
      "text/plain": [
       "HBox(children=(FloatProgress(value=0.0, description='Evaluating', max=42.0, style=ProgressStyle(description_wi…"
      ]
     },
     "metadata": {},
     "output_type": "display_data"
    },
    {
     "name": "stdout",
     "output_type": "stream",
     "text": [
      "\n",
      "Failed due to cpu & GPU incompatibility\n",
      "\n",
      " Model file:  outputs\\re\\BERT_Sequence2020-11-16 05_43_28_786014.bin\n"
     ]
    },
    {
     "data": {
      "application/vnd.jupyter.widget-view+json": {
       "model_id": "117fc355c66a4923a58d479e1ce78148",
       "version_major": 2,
       "version_minor": 0
      },
      "text/plain": [
       "HBox(children=(FloatProgress(value=0.0, description='Evaluating', max=42.0, style=ProgressStyle(description_wi…"
      ]
     },
     "metadata": {},
     "output_type": "display_data"
    },
    {
     "name": "stdout",
     "output_type": "stream",
     "text": [
      "\n",
      "              precision    recall  f1-score   support\n",
      "\n",
      "           0       0.76      1.00      0.86        44\n",
      "           1       0.68      0.96      0.80        53\n",
      "           2       0.94      0.98      0.96        50\n",
      "           3       1.00      0.96      0.98        55\n",
      "           4       0.90      0.90      0.90        10\n",
      "           5       0.97      0.58      0.73        57\n",
      "           6       0.98      0.93      0.96        46\n",
      "           7       1.00      0.67      0.80        33\n",
      "           8       1.00      1.00      1.00       652\n",
      "\n",
      "    accuracy                           0.96      1000\n",
      "   macro avg       0.91      0.89      0.89      1000\n",
      "weighted avg       0.97      0.96      0.95      1000\n",
      "\n",
      "\n",
      " \n",
      " \n",
      "\n",
      "\n",
      " Model file:  outputs\\re\\BERT_Sequence2020-11-16 10_27_50_320534.bin\n"
     ]
    },
    {
     "data": {
      "application/vnd.jupyter.widget-view+json": {
       "model_id": "64c955fc4e374c309c31b4893ebf1ae8",
       "version_major": 2,
       "version_minor": 0
      },
      "text/plain": [
       "HBox(children=(FloatProgress(value=0.0, description='Evaluating', max=42.0, style=ProgressStyle(description_wi…"
      ]
     },
     "metadata": {},
     "output_type": "display_data"
    },
    {
     "name": "stdout",
     "output_type": "stream",
     "text": [
      "\n",
      "Failed due to cpu & GPU incompatibility\n",
      "\n",
      " Model file:  outputs\\re\\BERT_Sequence2020-11-16 22_21_41_536138.bin\n"
     ]
    },
    {
     "data": {
      "application/vnd.jupyter.widget-view+json": {
       "model_id": "5c09ce146b8846d68ca387f5500ccead",
       "version_major": 2,
       "version_minor": 0
      },
      "text/plain": [
       "HBox(children=(FloatProgress(value=0.0, description='Evaluating', max=42.0, style=ProgressStyle(description_wi…"
      ]
     },
     "metadata": {},
     "output_type": "display_data"
    },
    {
     "name": "stdout",
     "output_type": "stream",
     "text": [
      "\n",
      "              precision    recall  f1-score   support\n",
      "\n",
      "           0       0.80      0.98      0.88        44\n",
      "           1       0.68      0.98      0.81        53\n",
      "           2       0.96      0.98      0.97        50\n",
      "           3       1.00      0.96      0.98        55\n",
      "           4       0.90      0.90      0.90        10\n",
      "           5       0.97      0.60      0.74        57\n",
      "           6       0.98      0.96      0.97        46\n",
      "           7       1.00      0.73      0.84        33\n",
      "           8       1.00      1.00      1.00       652\n",
      "\n",
      "    accuracy                           0.96      1000\n",
      "   macro avg       0.92      0.90      0.90      1000\n",
      "weighted avg       0.97      0.96      0.96      1000\n",
      "\n",
      "\n",
      " \n",
      " \n",
      "\n",
      "\n",
      " Model file:  outputs\\re\\BERT_Sequence2020-11-20 04_03_11_148846.bin\n"
     ]
    },
    {
     "data": {
      "application/vnd.jupyter.widget-view+json": {
       "model_id": "21197daced5a4ae2ad264e35bf093ee9",
       "version_major": 2,
       "version_minor": 0
      },
      "text/plain": [
       "HBox(children=(FloatProgress(value=0.0, description='Evaluating', max=42.0, style=ProgressStyle(description_wi…"
      ]
     },
     "metadata": {},
     "output_type": "display_data"
    },
    {
     "name": "stdout",
     "output_type": "stream",
     "text": [
      "\n",
      "              precision    recall  f1-score   support\n",
      "\n",
      "           0       0.80      0.98      0.88        44\n",
      "           1       0.71      0.96      0.82        53\n",
      "           2       0.96      0.96      0.96        50\n",
      "           3       1.00      0.96      0.98        55\n",
      "           4       0.90      0.90      0.90        10\n",
      "           5       0.97      0.60      0.74        57\n",
      "           6       0.96      0.96      0.96        46\n",
      "           7       0.86      0.73      0.79        33\n",
      "           8       1.00      1.00      1.00       652\n",
      "\n",
      "    accuracy                           0.96      1000\n",
      "   macro avg       0.91      0.89      0.89      1000\n",
      "weighted avg       0.96      0.96      0.96      1000\n",
      "\n",
      "\n",
      " \n",
      " \n",
      "\n",
      "\n",
      " Model file:  outputs\\re\\BERT_Sequence2020-11-20 12_33_00_408665.bin\n"
     ]
    },
    {
     "data": {
      "application/vnd.jupyter.widget-view+json": {
       "model_id": "8654245df1964f0b975a9d0387ebe195",
       "version_major": 2,
       "version_minor": 0
      },
      "text/plain": [
       "HBox(children=(FloatProgress(value=0.0, description='Evaluating', max=42.0, style=ProgressStyle(description_wi…"
      ]
     },
     "metadata": {},
     "output_type": "display_data"
    },
    {
     "name": "stdout",
     "output_type": "stream",
     "text": [
      "\n",
      "              precision    recall  f1-score   support\n",
      "\n",
      "           0       0.81      0.98      0.89        44\n",
      "           1       0.71      0.98      0.83        53\n",
      "           2       0.94      0.96      0.95        50\n",
      "           3       0.98      0.96      0.97        55\n",
      "           4       0.90      0.90      0.90        10\n",
      "           5       0.97      0.63      0.77        57\n",
      "           6       0.98      0.96      0.97        46\n",
      "           7       1.00      0.76      0.86        33\n",
      "           8       1.00      1.00      1.00       652\n",
      "\n",
      "    accuracy                           0.96      1000\n",
      "   macro avg       0.92      0.90      0.90      1000\n",
      "weighted avg       0.97      0.96      0.96      1000\n",
      "\n",
      "\n",
      " \n",
      " \n",
      "\n",
      "\n",
      " Model file:  outputs\\re\\BERT_Sequence2020-11-20 21_54_47_248143.bin\n"
     ]
    },
    {
     "data": {
      "application/vnd.jupyter.widget-view+json": {
       "model_id": "1d5d5cfabd6b49b1bba3126bdef99e52",
       "version_major": 2,
       "version_minor": 0
      },
      "text/plain": [
       "HBox(children=(FloatProgress(value=0.0, description='Evaluating', max=42.0, style=ProgressStyle(description_wi…"
      ]
     },
     "metadata": {},
     "output_type": "display_data"
    },
    {
     "name": "stdout",
     "output_type": "stream",
     "text": [
      "\n",
      "Failed due to cpu & GPU incompatibility\n",
      "\n",
      " Model file:  outputs\\re\\BERT_Sequence2020-11-20 22_06_02_778408.bin\n"
     ]
    },
    {
     "data": {
      "application/vnd.jupyter.widget-view+json": {
       "model_id": "56972a82daf14516a66a53e43d3161a1",
       "version_major": 2,
       "version_minor": 0
      },
      "text/plain": [
       "HBox(children=(FloatProgress(value=0.0, description='Evaluating', max=42.0, style=ProgressStyle(description_wi…"
      ]
     },
     "metadata": {},
     "output_type": "display_data"
    },
    {
     "name": "stdout",
     "output_type": "stream",
     "text": [
      "\n",
      "Failed due to cpu & GPU incompatibility\n",
      "\n",
      " Model file:  outputs\\re\\BioBERT2020-11-15 15_04_20_814323.bin\n"
     ]
    },
    {
     "data": {
      "application/vnd.jupyter.widget-view+json": {
       "model_id": "724fa09990894cc69cc9f8c04fc9f138",
       "version_major": 2,
       "version_minor": 0
      },
      "text/plain": [
       "HBox(children=(FloatProgress(value=0.0, description='Evaluating', max=42.0, style=ProgressStyle(description_wi…"
      ]
     },
     "metadata": {},
     "output_type": "display_data"
    },
    {
     "name": "stdout",
     "output_type": "stream",
     "text": [
      "\n",
      "Failed due to cpu & GPU incompatibility\n",
      "\n",
      " Model file:  outputs\\re\\BioBERT2020-11-15 15_10_05_603490.bin\n"
     ]
    },
    {
     "data": {
      "application/vnd.jupyter.widget-view+json": {
       "model_id": "0ef16f76285b4082ac9573126e52e5b2",
       "version_major": 2,
       "version_minor": 0
      },
      "text/plain": [
       "HBox(children=(FloatProgress(value=0.0, description='Evaluating', max=42.0, style=ProgressStyle(description_wi…"
      ]
     },
     "metadata": {},
     "output_type": "display_data"
    },
    {
     "name": "stdout",
     "output_type": "stream",
     "text": [
      "\n",
      "Failed due to cpu & GPU incompatibility\n",
      "\n",
      " Model file:  outputs\\re\\BioBERT2020-11-15 15_11_59_648261.bin\n"
     ]
    },
    {
     "data": {
      "application/vnd.jupyter.widget-view+json": {
       "model_id": "fd03bbe5ada94ecdba76f910928056a6",
       "version_major": 2,
       "version_minor": 0
      },
      "text/plain": [
       "HBox(children=(FloatProgress(value=0.0, description='Evaluating', max=42.0, style=ProgressStyle(description_wi…"
      ]
     },
     "metadata": {},
     "output_type": "display_data"
    },
    {
     "name": "stdout",
     "output_type": "stream",
     "text": [
      "\n",
      "Failed due to cpu & GPU incompatibility\n",
      "\n",
      " Model file:  outputs\\re\\BioBERT2020-11-15 15_13_41_384476.bin\n"
     ]
    },
    {
     "data": {
      "application/vnd.jupyter.widget-view+json": {
       "model_id": "aecf6fe802fa447899a69f1cf5d2685d",
       "version_major": 2,
       "version_minor": 0
      },
      "text/plain": [
       "HBox(children=(FloatProgress(value=0.0, description='Evaluating', max=42.0, style=ProgressStyle(description_wi…"
      ]
     },
     "metadata": {},
     "output_type": "display_data"
    },
    {
     "name": "stdout",
     "output_type": "stream",
     "text": [
      "\n",
      "Failed due to cpu & GPU incompatibility\n",
      "\n",
      " Model file:  outputs\\re\\BioBERT2020-11-15 15_15_35_047604.bin\n"
     ]
    },
    {
     "data": {
      "application/vnd.jupyter.widget-view+json": {
       "model_id": "33f7e296912b4bac918a1b1e97364a48",
       "version_major": 2,
       "version_minor": 0
      },
      "text/plain": [
       "HBox(children=(FloatProgress(value=0.0, description='Evaluating', max=42.0, style=ProgressStyle(description_wi…"
      ]
     },
     "metadata": {},
     "output_type": "display_data"
    },
    {
     "name": "stdout",
     "output_type": "stream",
     "text": [
      "\n",
      "Failed due to cpu & GPU incompatibility\n",
      "\n",
      " Model file:  outputs\\re\\BioBERT_5epochs.bin\n"
     ]
    },
    {
     "data": {
      "application/vnd.jupyter.widget-view+json": {
       "model_id": "439de05f9d864358b8cc345c14eedea9",
       "version_major": 2,
       "version_minor": 0
      },
      "text/plain": [
       "HBox(children=(FloatProgress(value=0.0, description='Evaluating', max=42.0, style=ProgressStyle(description_wi…"
      ]
     },
     "metadata": {},
     "output_type": "display_data"
    },
    {
     "name": "stdout",
     "output_type": "stream",
     "text": [
      "\n",
      "              precision    recall  f1-score   support\n",
      "\n",
      "           0       0.79      1.00      0.88        44\n",
      "           1       0.83      0.98      0.90        53\n",
      "           2       0.96      0.98      0.97        50\n",
      "           3       0.98      0.98      0.98        55\n",
      "           4       0.90      0.90      0.90        10\n",
      "           5       1.00      0.68      0.81        57\n",
      "           6       0.96      0.96      0.96        46\n",
      "           7       0.89      0.76      0.82        33\n",
      "           8       1.00      1.00      1.00       652\n",
      "\n",
      "    accuracy                           0.97      1000\n",
      "   macro avg       0.92      0.92      0.91      1000\n",
      "weighted avg       0.97      0.97      0.97      1000\n",
      "\n",
      "\n",
      " \n",
      " \n",
      "\n",
      "\n",
      " Model file:  outputs\\re\\BioBERT_5epochs_256seq.bin\n"
     ]
    },
    {
     "data": {
      "application/vnd.jupyter.widget-view+json": {
       "model_id": "be5c67970fe041d884cffa446e143d26",
       "version_major": 2,
       "version_minor": 0
      },
      "text/plain": [
       "HBox(children=(FloatProgress(value=0.0, description='Evaluating', max=42.0, style=ProgressStyle(description_wi…"
      ]
     },
     "metadata": {},
     "output_type": "display_data"
    },
    {
     "name": "stdout",
     "output_type": "stream",
     "text": [
      "\n",
      "              precision    recall  f1-score   support\n",
      "\n",
      "           0       0.88      1.00      0.94        44\n",
      "           1       0.73      0.98      0.84        53\n",
      "           2       0.96      0.98      0.97        50\n",
      "           3       0.98      0.98      0.98        55\n",
      "           4       0.90      0.90      0.90        10\n",
      "           5       1.00      0.63      0.77        57\n",
      "           6       0.98      0.96      0.97        46\n",
      "           7       0.93      0.85      0.89        33\n",
      "           8       1.00      1.00      1.00       652\n",
      "\n",
      "    accuracy                           0.97      1000\n",
      "   macro avg       0.93      0.92      0.92      1000\n",
      "weighted avg       0.97      0.97      0.97      1000\n",
      "\n",
      "\n",
      " \n",
      " \n",
      "\n",
      "\n",
      " Model file:  outputs\\re\\BioBERT_5epochs_256seq_binary.bin\n"
     ]
    },
    {
     "data": {
      "application/vnd.jupyter.widget-view+json": {
       "model_id": "641179f951bc43608ca16eabcd1ede0e",
       "version_major": 2,
       "version_minor": 0
      },
      "text/plain": [
       "HBox(children=(FloatProgress(value=0.0, description='Evaluating', max=42.0, style=ProgressStyle(description_wi…"
      ]
     },
     "metadata": {},
     "output_type": "display_data"
    },
    {
     "name": "stdout",
     "output_type": "stream",
     "text": [
      "\n",
      "Failed due to cpu & GPU incompatibility\n",
      "\n",
      " Model file:  outputs\\re\\BioBERT_fc2020-11-15 15_33_17_032647.bin\n"
     ]
    },
    {
     "data": {
      "application/vnd.jupyter.widget-view+json": {
       "model_id": "3544bc3617f24c969bf2aa944e0c4991",
       "version_major": 2,
       "version_minor": 0
      },
      "text/plain": [
       "HBox(children=(FloatProgress(value=0.0, description='Evaluating', max=42.0, style=ProgressStyle(description_wi…"
      ]
     },
     "metadata": {},
     "output_type": "display_data"
    },
    {
     "name": "stdout",
     "output_type": "stream",
     "text": [
      "\n",
      "Failed due to cpu & GPU incompatibility\n",
      "\n",
      " Model file:  outputs\\re\\BioBERT_fc2020-11-15 18_25_59_192174.bin\n"
     ]
    },
    {
     "data": {
      "application/vnd.jupyter.widget-view+json": {
       "model_id": "f15b7c5c5f974e3485daf1c7548c261e",
       "version_major": 2,
       "version_minor": 0
      },
      "text/plain": [
       "HBox(children=(FloatProgress(value=0.0, description='Evaluating', max=42.0, style=ProgressStyle(description_wi…"
      ]
     },
     "metadata": {},
     "output_type": "display_data"
    },
    {
     "name": "stdout",
     "output_type": "stream",
     "text": [
      "\n",
      "Failed due to cpu & GPU incompatibility\n",
      "\n",
      " Model file:  outputs\\re\\BioBERT_fc2020-11-15 21_37_11_126799.bin\n"
     ]
    },
    {
     "data": {
      "application/vnd.jupyter.widget-view+json": {
       "model_id": "82282aa34af9438ebe8b2cacd95b7934",
       "version_major": 2,
       "version_minor": 0
      },
      "text/plain": [
       "HBox(children=(FloatProgress(value=0.0, description='Evaluating', max=42.0, style=ProgressStyle(description_wi…"
      ]
     },
     "metadata": {},
     "output_type": "display_data"
    },
    {
     "name": "stdout",
     "output_type": "stream",
     "text": [
      "\n",
      "Failed due to cpu & GPU incompatibility\n",
      "\n",
      " Model file:  outputs\\re\\BioBERT_fc2020-11-16 00_40_57_659995.bin\n"
     ]
    },
    {
     "data": {
      "application/vnd.jupyter.widget-view+json": {
       "model_id": "2d04dd9f0f454c46b6ec7a659209b583",
       "version_major": 2,
       "version_minor": 0
      },
      "text/plain": [
       "HBox(children=(FloatProgress(value=0.0, description='Evaluating', max=42.0, style=ProgressStyle(description_wi…"
      ]
     },
     "metadata": {},
     "output_type": "display_data"
    },
    {
     "name": "stdout",
     "output_type": "stream",
     "text": [
      "\n",
      "              precision    recall  f1-score   support\n",
      "\n",
      "           0       0.65      0.98      0.78        44\n",
      "           1       0.84      0.96      0.89        53\n",
      "           2       0.98      0.96      0.97        50\n",
      "           3       0.95      0.96      0.95        55\n",
      "           4       0.82      0.90      0.86        10\n",
      "           5       1.00      0.72      0.84        57\n",
      "           6       0.95      0.87      0.91        46\n",
      "           7       0.89      0.73      0.80        33\n",
      "           8       1.00      0.99      1.00       652\n",
      "\n",
      "    accuracy                           0.96      1000\n",
      "   macro avg       0.90      0.90      0.89      1000\n",
      "weighted avg       0.96      0.96      0.96      1000\n",
      "\n",
      "\n",
      " \n",
      " \n",
      "\n",
      "\n",
      " Model file:  outputs\\re\\BioBERT_fc2020-11-16 03_37_07_579463.bin\n"
     ]
    },
    {
     "data": {
      "application/vnd.jupyter.widget-view+json": {
       "model_id": "ef8633a9dc714464bb5ddc57e345e41d",
       "version_major": 2,
       "version_minor": 0
      },
      "text/plain": [
       "HBox(children=(FloatProgress(value=0.0, description='Evaluating', max=42.0, style=ProgressStyle(description_wi…"
      ]
     },
     "metadata": {},
     "output_type": "display_data"
    },
    {
     "name": "stdout",
     "output_type": "stream",
     "text": [
      "\n",
      "              precision    recall  f1-score   support\n",
      "\n",
      "           0       0.86      1.00      0.93        44\n",
      "           1       0.82      1.00      0.90        53\n",
      "           2       0.96      0.96      0.96        50\n",
      "           3       0.98      0.98      0.98        55\n",
      "           4       0.90      0.90      0.90        10\n",
      "           5       1.00      0.63      0.77        57\n",
      "           6       0.96      0.96      0.96        46\n",
      "           7       0.81      0.88      0.84        33\n",
      "           8       1.00      1.00      1.00       652\n",
      "\n",
      "    accuracy                           0.97      1000\n",
      "   macro avg       0.92      0.92      0.92      1000\n",
      "weighted avg       0.97      0.97      0.97      1000\n",
      "\n",
      "\n",
      " \n",
      " \n",
      "\n",
      "\n",
      " Model file:  outputs\\re\\BioBERT_fc2020-11-16 09_42_50_419072.bin\n"
     ]
    },
    {
     "data": {
      "application/vnd.jupyter.widget-view+json": {
       "model_id": "88c63d616cbb402c89a904a28431d180",
       "version_major": 2,
       "version_minor": 0
      },
      "text/plain": [
       "HBox(children=(FloatProgress(value=0.0, description='Evaluating', max=42.0, style=ProgressStyle(description_wi…"
      ]
     },
     "metadata": {},
     "output_type": "display_data"
    },
    {
     "name": "stdout",
     "output_type": "stream",
     "text": [
      "\n",
      "Failed due to cpu & GPU incompatibility\n",
      "\n",
      " Model file:  outputs\\re\\BioBERT_fc2020-11-16 09_54_01_216248.bin\n"
     ]
    },
    {
     "data": {
      "application/vnd.jupyter.widget-view+json": {
       "model_id": "1cb0b9787f8343cb89cd07215137c695",
       "version_major": 2,
       "version_minor": 0
      },
      "text/plain": [
       "HBox(children=(FloatProgress(value=0.0, description='Evaluating', max=42.0, style=ProgressStyle(description_wi…"
      ]
     },
     "metadata": {},
     "output_type": "display_data"
    },
    {
     "name": "stdout",
     "output_type": "stream",
     "text": [
      "\n",
      "Failed due to cpu & GPU incompatibility\n",
      "\n",
      " Model file:  outputs\\re\\BioBERT_fc2020-11-16 10_17_23_898361.bin\n"
     ]
    },
    {
     "data": {
      "application/vnd.jupyter.widget-view+json": {
       "model_id": "e3bd618d8db844dd9b5a41b7bf8372eb",
       "version_major": 2,
       "version_minor": 0
      },
      "text/plain": [
       "HBox(children=(FloatProgress(value=0.0, description='Evaluating', max=42.0, style=ProgressStyle(description_wi…"
      ]
     },
     "metadata": {},
     "output_type": "display_data"
    },
    {
     "name": "stdout",
     "output_type": "stream",
     "text": [
      "\n",
      "Failed due to cpu & GPU incompatibility\n",
      "\n",
      " Model file:  outputs\\re\\BioBERT_fc2020-11-16 16_17_55_396529.bin\n"
     ]
    },
    {
     "data": {
      "application/vnd.jupyter.widget-view+json": {
       "model_id": "0957cc4e6f834b2fa5bbb341cd79f126",
       "version_major": 2,
       "version_minor": 0
      },
      "text/plain": [
       "HBox(children=(FloatProgress(value=0.0, description='Evaluating', max=42.0, style=ProgressStyle(description_wi…"
      ]
     },
     "metadata": {},
     "output_type": "display_data"
    }
   ],
   "source": [
    "models_folder_name = config.programsettings.OUTPUT_DIR\n",
    "data_folder = Path(models_folder_name)\n",
    "list_model_files = list(data_folder.glob('**/*.bin'))\n",
    "num_labels = 9\n",
    "\n",
    "f1_score_list = []\n",
    "for model_file in list_model_files:\n",
    "    try:\n",
    "        print(\"\\n Model file: \", model_file)\n",
    "        model = torch.load(model_file)\n",
    "        x =model.eval()\n",
    "        test_inputs, test_preds, test_labels, test_loss = eval_model( config, model, test_dataloader, device, num_labels)  \n",
    "        print(classification_report(test_labels,test_preds ))\n",
    "        print(\"\\n \\n \\n\")\n",
    "        f1_value = f1_score(test_labels, test_preds,average='macro')\n",
    "        f1_score_list.append([model_file,f1_value ])\n",
    "        \n",
    "    except:\n",
    "        print(\"Failed due to cpu & GPU incompatibility\")\n",
    "     # printing stack trace \n",
    "#         traceback.print_exc()         \n",
    "\n",
    "print(\"\\n \\n \\n\")\n",
    "\n",
    "\n"
   ]
  },
  {
   "cell_type": "code",
   "execution_count": null,
   "metadata": {},
   "outputs": [],
   "source": [
    "pd.set_option('display.max_colwidth', 120)\n",
    "columns = ['file_namae', 'f1-score']\n",
    "test_results= pd.DataFrame(f1_score_list, columns = columns)\n",
    "test_results"
   ]
  },
  {
   "cell_type": "code",
   "execution_count": null,
   "metadata": {},
   "outputs": [],
   "source": [
    "# print (\"F1 Score summary \\n\")  \n",
    "# ax = plt.gca()\n",
    "# ax.get_xaxis().set_visible(False)\n",
    "# ax.get_yaxis().set_visible(False)\n",
    "# plt.box(on=None)\n",
    "# plt.figure(figsize=(14,6))\n",
    "# the_table = plt.table(cellText=f1_score_list,\n",
    "#                       colLabels=['file name', 'F1-score'],\n",
    "#                       loc='center')\n",
    "# the_table.auto_set_font_size(False)\n",
    "# the_table.set_fontsize(10)"
   ]
  },
  {
   "cell_type": "code",
   "execution_count": null,
   "metadata": {},
   "outputs": [],
   "source": []
  }
 ],
 "metadata": {
  "kernelspec": {
   "display_name": "Python 3",
   "language": "python",
   "name": "python3"
  },
  "language_info": {
   "codemirror_mode": {
    "name": "ipython",
    "version": 3
   },
   "file_extension": ".py",
   "mimetype": "text/x-python",
   "name": "python",
   "nbconvert_exporter": "python",
   "pygments_lexer": "ipython3",
   "version": "3.8.3"
  }
 },
 "nbformat": 4,
 "nbformat_minor": 4
}
