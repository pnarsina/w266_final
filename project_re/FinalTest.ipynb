{
 "cells": [
  {
   "cell_type": "code",
   "execution_count": 1,
   "metadata": {},
   "outputs": [],
   "source": [
    "%reload_ext autoreload\n",
    "%autoreload\n",
    "%matplotlib inline\n",
    "import os, json,glob,sys,io\n",
    "from types import SimpleNamespace\n",
    "from experiment import run_model\n",
    "from eval import calculate_stats, eval_model\n",
    "import pickle\n",
    "from datetime import datetime \n",
    "import torch\n",
    "from torch import nn\n",
    "from transformers import BertTokenizer\n",
    "from model.MedClinical import Biobert_fc \n",
    "from sklearn.metrics import classification_report, f1_score\n",
    "from util.tools  import load_config\n",
    "from util.DataLoader  import *\n",
    "from pathlib import Path, PureWindowsPath, PurePosixPath\n",
    "import traceback\n",
    "from matplotlib import pyplot as plt\n",
    "import pandas as pd"
   ]
  },
  {
   "cell_type": "code",
   "execution_count": 2,
   "metadata": {},
   "outputs": [],
   "source": [
    "device = torch.device(\"cuda\" if torch.cuda.is_available() else \"cpu\")\n",
    "# device = \"cpu\""
   ]
  },
  {
   "cell_type": "code",
   "execution_count": 3,
   "metadata": {},
   "outputs": [],
   "source": [
    "config_folder = \"config/\"\n",
    "config = load_config(config_folder)"
   ]
  },
  {
   "cell_type": "code",
   "execution_count": 4,
   "metadata": {},
   "outputs": [
    {
     "name": "stderr",
     "output_type": "stream",
     "text": [
      "INFO:root:***** Running training *****\n",
      "INFO:root:  Num examples = 50010\n",
      "INFO:root:  Batch size = 24\n",
      "INFO:root:  Num steps = 20830\n"
     ]
    }
   ],
   "source": [
    "dataprocessor = MultiClassificationProcessor()\n",
    "test_dataloader, dev_data_len, dev_num_labels, dev_num_train_optimization_steps, all_dev_label_ids = dataprocessor.get_data_loader(config,source='test')    "
   ]
  },
  {
   "cell_type": "code",
   "execution_count": 5,
   "metadata": {},
   "outputs": [],
   "source": [
    "def save_missed_cases_to_file(file_name, preds, label_ids, inputs):\n",
    "    tokenizer = BertTokenizer.from_pretrained('bert-base-cased', do_lower_case=False)\n",
    "    missed_cases = []\n",
    "    for i in range(0,len(label_ids)):\n",
    "        if label_ids[i] !=  preds[i]:\n",
    "             missed_cases.append([ file_name, preds[i],  label_ids[i] , \" \". join (tokenizer.convert_ids_to_tokens(inputs[i])) ])\n",
    "\n",
    "    #Save into a file\n",
    "    missed_cases_file = config.programsettings.REPORTS_DIR +'test_results_' + str(datetime.now()).replace(\":\", \"_\").replace(\".\", \"_\") + \".pkl\"\n",
    "    with open(missed_cases_file, \"wb\") as f:\n",
    "        pickle.dump(missed_cases, f)  \n",
    "        \n"
   ]
  },
  {
   "cell_type": "code",
   "execution_count": 6,
   "metadata": {},
   "outputs": [
    {
     "name": "stdout",
     "output_type": "stream",
     "text": [
      "\n",
      " Model file:  outputs\\re\\BERT_Sequence2020-11-16 05_43_28_786014.bin\n"
     ]
    },
    {
     "data": {
      "application/vnd.jupyter.widget-view+json": {
       "model_id": "9cf528a54c2f43b48013f9017f4b2fc6",
       "version_major": 2,
       "version_minor": 0
      },
      "text/plain": [
       "HBox(children=(FloatProgress(value=0.0, description='Evaluating', max=2084.0, style=ProgressStyle(description_…"
      ]
     },
     "metadata": {},
     "output_type": "display_data"
    },
    {
     "name": "stdout",
     "output_type": "stream",
     "text": [
      "\n",
      "              precision    recall  f1-score   support\n",
      "\n",
      "           0       0.95      0.97      0.96      3464\n",
      "           1       0.97      0.97      0.97      3723\n",
      "           2       0.97      0.98      0.98      4274\n",
      "           3       0.99      0.98      0.98      4090\n",
      "           4       0.93      0.95      0.94       420\n",
      "           5       0.97      0.95      0.96      3024\n",
      "           6       0.97      0.98      0.97      2802\n",
      "           7       0.91      0.82      0.86       775\n",
      "           8       1.00      1.00      1.00     27438\n",
      "\n",
      "    accuracy                           0.98     50010\n",
      "   macro avg       0.96      0.96      0.96     50010\n",
      "weighted avg       0.98      0.98      0.98     50010\n",
      "\n",
      "\n",
      " \n",
      " \n",
      "\n",
      "\n",
      " Model file:  outputs\\re\\BERT_Sequence2020-11-16 22_21_41_536138.bin\n"
     ]
    },
    {
     "data": {
      "application/vnd.jupyter.widget-view+json": {
       "model_id": "7d8ff580ea6f471da64af1cb060bae3f",
       "version_major": 2,
       "version_minor": 0
      },
      "text/plain": [
       "HBox(children=(FloatProgress(value=0.0, description='Evaluating', max=2084.0, style=ProgressStyle(description_…"
      ]
     },
     "metadata": {},
     "output_type": "display_data"
    },
    {
     "name": "stdout",
     "output_type": "stream",
     "text": [
      "\n",
      "              precision    recall  f1-score   support\n",
      "\n",
      "           0       0.95      0.97      0.96      3464\n",
      "           1       0.97      0.98      0.97      3723\n",
      "           2       0.99      0.97      0.98      4274\n",
      "           3       0.99      0.98      0.99      4090\n",
      "           4       0.95      0.95      0.95       420\n",
      "           5       0.98      0.94      0.96      3024\n",
      "           6       0.97      0.98      0.98      2802\n",
      "           7       0.89      0.81      0.85       775\n",
      "           8       0.99      1.00      1.00     27438\n",
      "\n",
      "    accuracy                           0.98     50010\n",
      "   macro avg       0.96      0.95      0.96     50010\n",
      "weighted avg       0.98      0.98      0.98     50010\n",
      "\n",
      "\n",
      " \n",
      " \n",
      "\n",
      "\n",
      " Model file:  outputs\\re\\BERT_Sequence2020-11-20 04_03_11_148846.bin\n"
     ]
    },
    {
     "data": {
      "application/vnd.jupyter.widget-view+json": {
       "model_id": "0f1d2cbb44d74a53a2f423a4f966b6b7",
       "version_major": 2,
       "version_minor": 0
      },
      "text/plain": [
       "HBox(children=(FloatProgress(value=0.0, description='Evaluating', max=2084.0, style=ProgressStyle(description_…"
      ]
     },
     "metadata": {},
     "output_type": "display_data"
    },
    {
     "name": "stdout",
     "output_type": "stream",
     "text": [
      "\n",
      "              precision    recall  f1-score   support\n",
      "\n",
      "           0       0.95      0.97      0.96      3464\n",
      "           1       0.97      0.97      0.97      3723\n",
      "           2       0.98      0.98      0.98      4274\n",
      "           3       0.98      0.98      0.98      4090\n",
      "           4       0.94      0.96      0.95       420\n",
      "           5       0.97      0.94      0.96      3024\n",
      "           6       0.97      0.98      0.97      2802\n",
      "           7       0.88      0.83      0.85       775\n",
      "           8       1.00      1.00      1.00     27438\n",
      "\n",
      "    accuracy                           0.98     50010\n",
      "   macro avg       0.96      0.96      0.96     50010\n",
      "weighted avg       0.98      0.98      0.98     50010\n",
      "\n",
      "\n",
      " \n",
      " \n",
      "\n",
      "\n",
      " Model file:  outputs\\re\\BERT_Sequence2020-11-20 12_33_00_408665.bin\n"
     ]
    },
    {
     "data": {
      "application/vnd.jupyter.widget-view+json": {
       "model_id": "b5cda97f6257463f9ccb6ecf54acd563",
       "version_major": 2,
       "version_minor": 0
      },
      "text/plain": [
       "HBox(children=(FloatProgress(value=0.0, description='Evaluating', max=2084.0, style=ProgressStyle(description_…"
      ]
     },
     "metadata": {},
     "output_type": "display_data"
    },
    {
     "name": "stdout",
     "output_type": "stream",
     "text": [
      "\n",
      "              precision    recall  f1-score   support\n",
      "\n",
      "           0       0.94      0.97      0.96      3464\n",
      "           1       0.97      0.98      0.97      3723\n",
      "           2       0.98      0.98      0.98      4274\n",
      "           3       0.99      0.98      0.99      4090\n",
      "           4       0.94      0.95      0.95       420\n",
      "           5       0.97      0.94      0.96      3024\n",
      "           6       0.97      0.98      0.97      2802\n",
      "           7       0.91      0.81      0.86       775\n",
      "           8       1.00      1.00      1.00     27438\n",
      "\n",
      "    accuracy                           0.98     50010\n",
      "   macro avg       0.96      0.95      0.96     50010\n",
      "weighted avg       0.98      0.98      0.98     50010\n",
      "\n",
      "\n",
      " \n",
      " \n",
      "\n",
      "\n",
      " Model file:  outputs\\re\\BioBERT_5epochs.bin\n"
     ]
    },
    {
     "data": {
      "application/vnd.jupyter.widget-view+json": {
       "model_id": "1269a9433c4b4a29a40ce0f44be5bee1",
       "version_major": 2,
       "version_minor": 0
      },
      "text/plain": [
       "HBox(children=(FloatProgress(value=0.0, description='Evaluating', max=2084.0, style=ProgressStyle(description_…"
      ]
     },
     "metadata": {},
     "output_type": "display_data"
    },
    {
     "name": "stdout",
     "output_type": "stream",
     "text": [
      "\n",
      "              precision    recall  f1-score   support\n",
      "\n",
      "           0       0.95      0.97      0.96      3464\n",
      "           1       0.98      0.98      0.98      3723\n",
      "           2       0.96      0.98      0.97      4274\n",
      "           3       0.99      0.98      0.99      4090\n",
      "           4       0.94      0.96      0.95       420\n",
      "           5       0.98      0.95      0.96      3024\n",
      "           6       0.97      0.98      0.98      2802\n",
      "           7       0.92      0.83      0.87       775\n",
      "           8       1.00      1.00      1.00     27438\n",
      "\n",
      "    accuracy                           0.99     50010\n",
      "   macro avg       0.96      0.96      0.96     50010\n",
      "weighted avg       0.99      0.99      0.99     50010\n",
      "\n",
      "\n",
      " \n",
      " \n",
      "\n",
      "\n",
      " Model file:  outputs\\re\\BioBERT_5epochs_256seq.bin\n"
     ]
    },
    {
     "data": {
      "application/vnd.jupyter.widget-view+json": {
       "model_id": "cd247cf70ec44ac09c5d4d77b5dcc2a6",
       "version_major": 2,
       "version_minor": 0
      },
      "text/plain": [
       "HBox(children=(FloatProgress(value=0.0, description='Evaluating', max=2084.0, style=ProgressStyle(description_…"
      ]
     },
     "metadata": {},
     "output_type": "display_data"
    },
    {
     "name": "stdout",
     "output_type": "stream",
     "text": [
      "\n",
      "              precision    recall  f1-score   support\n",
      "\n",
      "           0       0.96      0.97      0.97      3464\n",
      "           1       0.98      0.98      0.98      3723\n",
      "           2       0.98      0.98      0.98      4274\n",
      "           3       0.99      0.98      0.98      4090\n",
      "           4       0.93      0.96      0.95       420\n",
      "           5       0.98      0.94      0.96      3024\n",
      "           6       0.97      0.98      0.97      2802\n",
      "           7       0.90      0.86      0.88       775\n",
      "           8       1.00      1.00      1.00     27438\n",
      "\n",
      "    accuracy                           0.99     50010\n",
      "   macro avg       0.97      0.96      0.96     50010\n",
      "weighted avg       0.99      0.99      0.99     50010\n",
      "\n",
      "\n",
      " \n",
      " \n",
      "\n",
      "\n",
      " Model file:  outputs\\re\\BioBERT_5epochs_256seq_binary.bin\n"
     ]
    },
    {
     "data": {
      "application/vnd.jupyter.widget-view+json": {
       "model_id": "1c4fda38d39a4a1ab612887f19a54e49",
       "version_major": 2,
       "version_minor": 0
      },
      "text/plain": [
       "HBox(children=(FloatProgress(value=0.0, description='Evaluating', max=2084.0, style=ProgressStyle(description_…"
      ]
     },
     "metadata": {},
     "output_type": "display_data"
    },
    {
     "name": "stdout",
     "output_type": "stream",
     "text": [
      "\n",
      "\n",
      " Model file:  outputs\\re\\BioBERT_fc2020-11-16 00_40_57_659995.bin\n"
     ]
    },
    {
     "name": "stderr",
     "output_type": "stream",
     "text": [
      "Traceback (most recent call last):\n",
      "  File \"<ipython-input-6-f17c69de64b9>\", line 13, in <module>\n",
      "    test_inputs, test_preds, test_labels, test_loss = eval_model( config, model, test_dataloader, device, num_labels)\n",
      "  File \"F:\\Prabhu\\final_project\\project_re\\eval.py\", line 45, in eval_model\n",
      "    tmp_eval_loss = loss_fct(logits.view(-1, num_labels), label_ids.view(-1))\n",
      "RuntimeError: shape '[-1, 9]' is invalid for input of size 48\n"
     ]
    },
    {
     "data": {
      "application/vnd.jupyter.widget-view+json": {
       "model_id": "3b339ff355c74f9aa3c266a2970d4aec",
       "version_major": 2,
       "version_minor": 0
      },
      "text/plain": [
       "HBox(children=(FloatProgress(value=0.0, description='Evaluating', max=2084.0, style=ProgressStyle(description_…"
      ]
     },
     "metadata": {},
     "output_type": "display_data"
    },
    {
     "name": "stdout",
     "output_type": "stream",
     "text": [
      "\n",
      "              precision    recall  f1-score   support\n",
      "\n",
      "           0       0.93      0.95      0.94      3464\n",
      "           1       0.97      0.96      0.97      3723\n",
      "           2       0.96      0.98      0.97      4274\n",
      "           3       0.96      0.99      0.97      4090\n",
      "           4       0.93      0.95      0.94       420\n",
      "           5       0.97      0.94      0.96      3024\n",
      "           6       0.97      0.97      0.97      2802\n",
      "           7       0.84      0.79      0.81       775\n",
      "           8       1.00      1.00      1.00     27438\n",
      "\n",
      "    accuracy                           0.98     50010\n",
      "   macro avg       0.95      0.95      0.95     50010\n",
      "weighted avg       0.98      0.98      0.98     50010\n",
      "\n",
      "\n",
      " \n",
      " \n",
      "\n",
      "\n",
      " Model file:  outputs\\re\\BioBERT_fc2020-11-16 03_37_07_579463.bin\n"
     ]
    },
    {
     "data": {
      "application/vnd.jupyter.widget-view+json": {
       "model_id": "7a58f62225364e4ba398aa0eae3fe91a",
       "version_major": 2,
       "version_minor": 0
      },
      "text/plain": [
       "HBox(children=(FloatProgress(value=0.0, description='Evaluating', max=2084.0, style=ProgressStyle(description_…"
      ]
     },
     "metadata": {},
     "output_type": "display_data"
    },
    {
     "name": "stdout",
     "output_type": "stream",
     "text": [
      "\n",
      "              precision    recall  f1-score   support\n",
      "\n",
      "           0       0.96      0.97      0.96      3464\n",
      "           1       0.97      0.98      0.98      3723\n",
      "           2       0.98      0.98      0.98      4274\n",
      "           3       0.97      0.99      0.98      4090\n",
      "           4       0.94      0.95      0.94       420\n",
      "           5       0.97      0.95      0.96      3024\n",
      "           6       0.97      0.98      0.98      2802\n",
      "           7       0.90      0.87      0.88       775\n",
      "           8       1.00      1.00      1.00     27438\n",
      "\n",
      "    accuracy                           0.99     50010\n",
      "   macro avg       0.96      0.96      0.96     50010\n",
      "weighted avg       0.99      0.99      0.99     50010\n",
      "\n",
      "\n",
      " \n",
      " \n",
      "\n",
      "\n",
      " Model file:  outputs\\re\\BioBERT_fc2020-11-16 16_17_55_396529.bin\n"
     ]
    },
    {
     "data": {
      "application/vnd.jupyter.widget-view+json": {
       "model_id": "0d623c3edd494645b97d0b2276ad6a52",
       "version_major": 2,
       "version_minor": 0
      },
      "text/plain": [
       "HBox(children=(FloatProgress(value=0.0, description='Evaluating', max=2084.0, style=ProgressStyle(description_…"
      ]
     },
     "metadata": {},
     "output_type": "display_data"
    },
    {
     "name": "stdout",
     "output_type": "stream",
     "text": [
      "\n",
      "              precision    recall  f1-score   support\n",
      "\n",
      "           0       0.96      0.98      0.97      3464\n",
      "           1       0.97      0.98      0.98      3723\n",
      "           2       0.97      0.98      0.98      4274\n",
      "           3       0.98      0.98      0.98      4090\n",
      "           4       0.93      0.96      0.95       420\n",
      "           5       0.97      0.95      0.96      3024\n",
      "           6       0.98      0.98      0.98      2802\n",
      "           7       0.92      0.85      0.88       775\n",
      "           8       1.00      1.00      1.00     27438\n",
      "\n",
      "    accuracy                           0.99     50010\n",
      "   macro avg       0.96      0.96      0.96     50010\n",
      "weighted avg       0.99      0.99      0.99     50010\n",
      "\n",
      "\n",
      " \n",
      " \n",
      "\n",
      "\n",
      " Model file:  outputs\\re\\BioBERT_fc2020-11-16 20_17_53_374127.bin\n"
     ]
    },
    {
     "data": {
      "application/vnd.jupyter.widget-view+json": {
       "model_id": "4a31b69286db4ec887d2d6f0397ba315",
       "version_major": 2,
       "version_minor": 0
      },
      "text/plain": [
       "HBox(children=(FloatProgress(value=0.0, description='Evaluating', max=2084.0, style=ProgressStyle(description_…"
      ]
     },
     "metadata": {},
     "output_type": "display_data"
    },
    {
     "name": "stdout",
     "output_type": "stream",
     "text": [
      "\n",
      "              precision    recall  f1-score   support\n",
      "\n",
      "           0       0.95      0.97      0.96      3464\n",
      "           1       0.98      0.98      0.98      3723\n",
      "           2       0.97      0.98      0.98      4274\n",
      "           3       0.99      0.98      0.99      4090\n",
      "           4       0.94      0.96      0.95       420\n",
      "           5       0.97      0.95      0.96      3024\n",
      "           6       0.97      0.98      0.98      2802\n",
      "           7       0.92      0.82      0.87       775\n",
      "           8       1.00      1.00      1.00     27438\n",
      "\n",
      "    accuracy                           0.99     50010\n",
      "   macro avg       0.97      0.96      0.96     50010\n",
      "weighted avg       0.99      0.99      0.99     50010\n",
      "\n",
      "\n",
      " \n",
      " \n",
      "\n",
      "\n",
      " Model file:  outputs\\re\\BioBERT_fc2020-11-20 01_41_02_300023.bin\n"
     ]
    },
    {
     "data": {
      "application/vnd.jupyter.widget-view+json": {
       "model_id": "1dc8ed5f4f624377830d41792478a25f",
       "version_major": 2,
       "version_minor": 0
      },
      "text/plain": [
       "HBox(children=(FloatProgress(value=0.0, description='Evaluating', max=2084.0, style=ProgressStyle(description_…"
      ]
     },
     "metadata": {},
     "output_type": "display_data"
    },
    {
     "name": "stdout",
     "output_type": "stream",
     "text": [
      "\n",
      "              precision    recall  f1-score   support\n",
      "\n",
      "           0       0.96      0.97      0.96      3464\n",
      "           1       0.98      0.98      0.98      3723\n",
      "           2       0.96      0.98      0.97      4274\n",
      "           3       0.98      0.99      0.98      4090\n",
      "           4       0.93      0.96      0.95       420\n",
      "           5       0.98      0.95      0.96      3024\n",
      "           6       0.97      0.98      0.98      2802\n",
      "           7       0.91      0.85      0.88       775\n",
      "           8       1.00      1.00      1.00     27438\n",
      "\n",
      "    accuracy                           0.99     50010\n",
      "   macro avg       0.96      0.96      0.96     50010\n",
      "weighted avg       0.99      0.99      0.99     50010\n",
      "\n",
      "\n",
      " \n",
      " \n",
      "\n",
      "\n",
      " Model file:  outputs\\re\\BioBERT_fc2020-11-20 08_58_14_655591.bin\n"
     ]
    },
    {
     "data": {
      "application/vnd.jupyter.widget-view+json": {
       "model_id": "61d6fc71cd994572bd2565cbf5d8423d",
       "version_major": 2,
       "version_minor": 0
      },
      "text/plain": [
       "HBox(children=(FloatProgress(value=0.0, description='Evaluating', max=2084.0, style=ProgressStyle(description_…"
      ]
     },
     "metadata": {},
     "output_type": "display_data"
    },
    {
     "name": "stdout",
     "output_type": "stream",
     "text": [
      "\n",
      "              precision    recall  f1-score   support\n",
      "\n",
      "           0       0.96      0.97      0.97      3464\n",
      "           1       0.98      0.98      0.98      3723\n",
      "           2       0.98      0.98      0.98      4274\n",
      "           3       0.99      0.98      0.99      4090\n",
      "           4       0.94      0.95      0.94       420\n",
      "           5       0.98      0.94      0.96      3024\n",
      "           6       0.97      0.98      0.97      2802\n",
      "           7       0.92      0.86      0.89       775\n",
      "           8       0.99      1.00      1.00     27438\n",
      "\n",
      "    accuracy                           0.99     50010\n",
      "   macro avg       0.97      0.96      0.96     50010\n",
      "weighted avg       0.99      0.99      0.99     50010\n",
      "\n",
      "\n",
      " \n",
      " \n",
      "\n",
      "\n",
      " Model file:  outputs\\re\\BioBERT_fc2020-11-21 22_06_59_632738.bin\n"
     ]
    },
    {
     "data": {
      "application/vnd.jupyter.widget-view+json": {
       "model_id": "fcb2ead7b07a4cf8bd96900c5699c031",
       "version_major": 2,
       "version_minor": 0
      },
      "text/plain": [
       "HBox(children=(FloatProgress(value=0.0, description='Evaluating', max=2084.0, style=ProgressStyle(description_…"
      ]
     },
     "metadata": {},
     "output_type": "display_data"
    },
    {
     "name": "stdout",
     "output_type": "stream",
     "text": [
      "\n",
      "              precision    recall  f1-score   support\n",
      "\n",
      "           0       0.96      0.97      0.96      3464\n",
      "           1       0.97      0.98      0.98      3723\n",
      "           2       0.98      0.98      0.98      4274\n",
      "           3       0.99      0.98      0.99      4090\n",
      "           4       0.95      0.95      0.95       420\n",
      "           5       0.98      0.94      0.96      3024\n",
      "           6       0.97      0.98      0.98      2802\n",
      "           7       0.90      0.84      0.87       775\n",
      "           8       0.99      1.00      1.00     27438\n",
      "\n",
      "    accuracy                           0.99     50010\n",
      "   macro avg       0.97      0.96      0.96     50010\n",
      "weighted avg       0.99      0.99      0.99     50010\n",
      "\n",
      "\n",
      " \n",
      " \n",
      "\n",
      "\n",
      " Model file:  outputs\\re\\BioBERT_fc2020-11-22 01_29_37_863601.bin\n"
     ]
    },
    {
     "data": {
      "application/vnd.jupyter.widget-view+json": {
       "model_id": "aa52af27b54648a99f3716a99aa78e3b",
       "version_major": 2,
       "version_minor": 0
      },
      "text/plain": [
       "HBox(children=(FloatProgress(value=0.0, description='Evaluating', max=2084.0, style=ProgressStyle(description_…"
      ]
     },
     "metadata": {},
     "output_type": "display_data"
    },
    {
     "name": "stdout",
     "output_type": "stream",
     "text": [
      "\n",
      "              precision    recall  f1-score   support\n",
      "\n",
      "           0       0.96      0.97      0.96      3464\n",
      "           1       0.97      0.98      0.97      3723\n",
      "           2       0.98      0.98      0.98      4274\n",
      "           3       0.99      0.98      0.99      4090\n",
      "           4       0.94      0.95      0.94       420\n",
      "           5       0.98      0.94      0.96      3024\n",
      "           6       0.97      0.98      0.97      2802\n",
      "           7       0.91      0.85      0.88       775\n",
      "           8       1.00      1.00      1.00     27438\n",
      "\n",
      "    accuracy                           0.98     50010\n",
      "   macro avg       0.97      0.96      0.96     50010\n",
      "weighted avg       0.98      0.98      0.98     50010\n",
      "\n",
      "\n",
      " \n",
      " \n",
      "\n",
      "\n",
      " Model file:  outputs\\re\\BioBERT_fc2020-11-22 04_52_17_649546.bin\n"
     ]
    },
    {
     "data": {
      "application/vnd.jupyter.widget-view+json": {
       "model_id": "d107ecdd578243c696a214528f86dff1",
       "version_major": 2,
       "version_minor": 0
      },
      "text/plain": [
       "HBox(children=(FloatProgress(value=0.0, description='Evaluating', max=2084.0, style=ProgressStyle(description_…"
      ]
     },
     "metadata": {},
     "output_type": "display_data"
    },
    {
     "name": "stdout",
     "output_type": "stream",
     "text": [
      "\n",
      "              precision    recall  f1-score   support\n",
      "\n",
      "           0       0.96      0.97      0.97      3464\n",
      "           1       0.98      0.98      0.98      3723\n",
      "           2       0.99      0.98      0.98      4274\n",
      "           3       0.99      0.98      0.99      4090\n",
      "           4       0.96      0.96      0.96       420\n",
      "           5       0.98      0.94      0.96      3024\n",
      "           6       0.97      0.98      0.97      2802\n",
      "           7       0.91      0.86      0.89       775\n",
      "           8       0.99      1.00      1.00     27438\n",
      "\n",
      "    accuracy                           0.99     50010\n",
      "   macro avg       0.97      0.96      0.97     50010\n",
      "weighted avg       0.99      0.99      0.99     50010\n",
      "\n",
      "\n",
      " \n",
      " \n",
      "\n",
      "\n",
      " Model file:  outputs\\re\\BioBERT_fc2020-11-22 08_15_02_596134.bin\n"
     ]
    },
    {
     "data": {
      "application/vnd.jupyter.widget-view+json": {
       "model_id": "78acd681092b4b7499578c5be777479e",
       "version_major": 2,
       "version_minor": 0
      },
      "text/plain": [
       "HBox(children=(FloatProgress(value=0.0, description='Evaluating', max=2084.0, style=ProgressStyle(description_…"
      ]
     },
     "metadata": {},
     "output_type": "display_data"
    },
    {
     "name": "stdout",
     "output_type": "stream",
     "text": [
      "\n",
      "              precision    recall  f1-score   support\n",
      "\n",
      "           0       0.95      0.98      0.97      3464\n",
      "           1       0.98      0.98      0.98      3723\n",
      "           2       0.98      0.98      0.98      4274\n",
      "           3       0.99      0.98      0.99      4090\n",
      "           4       0.94      0.96      0.95       420\n",
      "           5       0.98      0.95      0.96      3024\n",
      "           6       0.97      0.98      0.98      2802\n",
      "           7       0.93      0.83      0.87       775\n",
      "           8       1.00      1.00      1.00     27438\n",
      "\n",
      "    accuracy                           0.99     50010\n",
      "   macro avg       0.97      0.96      0.96     50010\n",
      "weighted avg       0.99      0.99      0.99     50010\n",
      "\n",
      "\n",
      " \n",
      " \n",
      "\n",
      "\n",
      " Model file:  outputs\\re\\BioBERT_fc2020-11-22 10_36_33_240569.bin\n"
     ]
    },
    {
     "data": {
      "application/vnd.jupyter.widget-view+json": {
       "model_id": "c87d4ed4866b4444ac8dfea1950c15aa",
       "version_major": 2,
       "version_minor": 0
      },
      "text/plain": [
       "HBox(children=(FloatProgress(value=0.0, description='Evaluating', max=2084.0, style=ProgressStyle(description_…"
      ]
     },
     "metadata": {},
     "output_type": "display_data"
    },
    {
     "name": "stdout",
     "output_type": "stream",
     "text": [
      "\n",
      "              precision    recall  f1-score   support\n",
      "\n",
      "           0       0.96      0.97      0.97      3464\n",
      "           1       0.97      0.98      0.98      3723\n",
      "           2       0.98      0.98      0.98      4274\n",
      "           3       0.99      0.98      0.99      4090\n",
      "           4       0.95      0.96      0.96       420\n",
      "           5       0.98      0.94      0.96      3024\n",
      "           6       0.97      0.98      0.97      2802\n",
      "           7       0.92      0.84      0.88       775\n",
      "           8       1.00      1.00      1.00     27438\n",
      "\n",
      "    accuracy                           0.99     50010\n",
      "   macro avg       0.97      0.96      0.96     50010\n",
      "weighted avg       0.99      0.99      0.99     50010\n",
      "\n",
      "\n",
      " \n",
      " \n",
      "\n",
      "\n",
      " Model file:  outputs\\re\\BioBERT_fc2020-11-22 23_49_51_449255.bin\n"
     ]
    },
    {
     "data": {
      "application/vnd.jupyter.widget-view+json": {
       "model_id": "eb872d5a78f242eeb5812c35f94f3175",
       "version_major": 2,
       "version_minor": 0
      },
      "text/plain": [
       "HBox(children=(FloatProgress(value=0.0, description='Evaluating', max=2084.0, style=ProgressStyle(description_…"
      ]
     },
     "metadata": {},
     "output_type": "display_data"
    },
    {
     "name": "stdout",
     "output_type": "stream",
     "text": [
      "\n",
      "              precision    recall  f1-score   support\n",
      "\n",
      "           0       0.96      0.97      0.96      3464\n",
      "           1       0.98      0.98      0.98      3723\n",
      "           2       0.99      0.97      0.98      4274\n",
      "           3       0.99      0.98      0.99      4090\n",
      "           4       0.94      0.95      0.94       420\n",
      "           5       0.97      0.95      0.96      3024\n",
      "           6       0.97      0.98      0.98      2802\n",
      "           7       0.91      0.84      0.87       775\n",
      "           8       0.99      1.00      1.00     27438\n",
      "\n",
      "    accuracy                           0.99     50010\n",
      "   macro avg       0.97      0.96      0.96     50010\n",
      "weighted avg       0.99      0.99      0.99     50010\n",
      "\n",
      "\n",
      " \n",
      " \n",
      "\n",
      "\n",
      " Model file:  outputs\\re\\BioBERT_fc2020-11-23 02_11_58_926877.bin\n"
     ]
    },
    {
     "data": {
      "application/vnd.jupyter.widget-view+json": {
       "model_id": "36d3d7c57e82452f94c83206ea5c000c",
       "version_major": 2,
       "version_minor": 0
      },
      "text/plain": [
       "HBox(children=(FloatProgress(value=0.0, description='Evaluating', max=2084.0, style=ProgressStyle(description_…"
      ]
     },
     "metadata": {},
     "output_type": "display_data"
    },
    {
     "name": "stdout",
     "output_type": "stream",
     "text": [
      "\n",
      "              precision    recall  f1-score   support\n",
      "\n",
      "           0       0.96      0.97      0.96      3464\n",
      "           1       0.97      0.98      0.98      3723\n",
      "           2       0.98      0.98      0.98      4274\n",
      "           3       0.98      0.98      0.98      4090\n",
      "           4       0.94      0.96      0.95       420\n",
      "           5       0.97      0.95      0.96      3024\n",
      "           6       0.97      0.98      0.97      2802\n",
      "           7       0.89      0.86      0.87       775\n",
      "           8       1.00      1.00      1.00     27438\n",
      "\n",
      "    accuracy                           0.98     50010\n",
      "   macro avg       0.96      0.96      0.96     50010\n",
      "weighted avg       0.98      0.98      0.98     50010\n",
      "\n",
      "\n",
      " \n",
      " \n",
      "\n",
      "\n",
      " \n",
      " \n",
      "\n"
     ]
    }
   ],
   "source": [
    "models_folder_name = config.programsettings.OUTPUT_DIR\n",
    "data_folder = Path(models_folder_name)\n",
    "list_model_files = list(data_folder.glob('**/*.bin'))\n",
    "num_labels = 9\n",
    "\n",
    "f1_score_list = []\n",
    "for model_file in list_model_files:\n",
    "    try:\n",
    "        print(\"\\n Model file: \", model_file)\n",
    "        model = torch.load(model_file)\n",
    "#         model = nn.DataParallel(model)\n",
    "        x =model.eval()\n",
    "        test_inputs, test_preds, test_labels, test_loss = eval_model( config, model, test_dataloader, device, num_labels)  \n",
    "        print(classification_report(test_labels,test_preds ))\n",
    "        print(\"\\n \\n \\n\")\n",
    "        f1_value = f1_score(test_labels, test_preds,average='macro')\n",
    "        f1_score_list.append([model_file,f1_value ])\n",
    "        file_name = model_file.__str__().replace(\".\", \"_\") \n",
    "        save_missed_cases_to_file( file_name, test_preds, test_labels, test_inputs)\n",
    "        \n",
    "    except:\n",
    "#         print(\"Failed due to cpu & GPU incompatibility\")\n",
    "     # printing stack trace \n",
    "        traceback.print_exc()         \n",
    "\n",
    "print(\"\\n \\n \\n\")\n",
    "\n",
    "\n"
   ]
  },
  {
   "cell_type": "code",
   "execution_count": 7,
   "metadata": {},
   "outputs": [
    {
     "data": {
      "text/html": [
       "<div>\n",
       "<style scoped>\n",
       "    .dataframe tbody tr th:only-of-type {\n",
       "        vertical-align: middle;\n",
       "    }\n",
       "\n",
       "    .dataframe tbody tr th {\n",
       "        vertical-align: top;\n",
       "    }\n",
       "\n",
       "    .dataframe thead th {\n",
       "        text-align: right;\n",
       "    }\n",
       "</style>\n",
       "<table border=\"1\" class=\"dataframe\">\n",
       "  <thead>\n",
       "    <tr style=\"text-align: right;\">\n",
       "      <th></th>\n",
       "      <th>file_namae</th>\n",
       "      <th>f1-score</th>\n",
       "    </tr>\n",
       "  </thead>\n",
       "  <tbody>\n",
       "    <tr>\n",
       "      <th>0</th>\n",
       "      <td>outputs\\re\\BERT_Sequence2020-11-16 05_43_28_786014.bin</td>\n",
       "      <td>0.959108</td>\n",
       "    </tr>\n",
       "    <tr>\n",
       "      <th>1</th>\n",
       "      <td>outputs\\re\\BERT_Sequence2020-11-16 22_21_41_536138.bin</td>\n",
       "      <td>0.958500</td>\n",
       "    </tr>\n",
       "    <tr>\n",
       "      <th>2</th>\n",
       "      <td>outputs\\re\\BERT_Sequence2020-11-20 04_03_11_148846.bin</td>\n",
       "      <td>0.958429</td>\n",
       "    </tr>\n",
       "    <tr>\n",
       "      <th>3</th>\n",
       "      <td>outputs\\re\\BERT_Sequence2020-11-20 12_33_00_408665.bin</td>\n",
       "      <td>0.958896</td>\n",
       "    </tr>\n",
       "    <tr>\n",
       "      <th>4</th>\n",
       "      <td>outputs\\re\\BioBERT_5epochs.bin</td>\n",
       "      <td>0.962013</td>\n",
       "    </tr>\n",
       "    <tr>\n",
       "      <th>5</th>\n",
       "      <td>outputs\\re\\BioBERT_5epochs_256seq.bin</td>\n",
       "      <td>0.962747</td>\n",
       "    </tr>\n",
       "    <tr>\n",
       "      <th>6</th>\n",
       "      <td>outputs\\re\\BioBERT_fc2020-11-16 00_40_57_659995.bin</td>\n",
       "      <td>0.947514</td>\n",
       "    </tr>\n",
       "    <tr>\n",
       "      <th>7</th>\n",
       "      <td>outputs\\re\\BioBERT_fc2020-11-16 03_37_07_579463.bin</td>\n",
       "      <td>0.962352</td>\n",
       "    </tr>\n",
       "    <tr>\n",
       "      <th>8</th>\n",
       "      <td>outputs\\re\\BioBERT_fc2020-11-16 16_17_55_396529.bin</td>\n",
       "      <td>0.962979</td>\n",
       "    </tr>\n",
       "    <tr>\n",
       "      <th>9</th>\n",
       "      <td>outputs\\re\\BioBERT_fc2020-11-16 20_17_53_374127.bin</td>\n",
       "      <td>0.961864</td>\n",
       "    </tr>\n",
       "    <tr>\n",
       "      <th>10</th>\n",
       "      <td>outputs\\re\\BioBERT_fc2020-11-20 01_41_02_300023.bin</td>\n",
       "      <td>0.961723</td>\n",
       "    </tr>\n",
       "    <tr>\n",
       "      <th>11</th>\n",
       "      <td>outputs\\re\\BioBERT_fc2020-11-20 08_58_14_655591.bin</td>\n",
       "      <td>0.963207</td>\n",
       "    </tr>\n",
       "    <tr>\n",
       "      <th>12</th>\n",
       "      <td>outputs\\re\\BioBERT_fc2020-11-21 22_06_59_632738.bin</td>\n",
       "      <td>0.961774</td>\n",
       "    </tr>\n",
       "    <tr>\n",
       "      <th>13</th>\n",
       "      <td>outputs\\re\\BioBERT_fc2020-11-22 01_29_37_863601.bin</td>\n",
       "      <td>0.961006</td>\n",
       "    </tr>\n",
       "    <tr>\n",
       "      <th>14</th>\n",
       "      <td>outputs\\re\\BioBERT_fc2020-11-22 04_52_17_649546.bin</td>\n",
       "      <td>0.965579</td>\n",
       "    </tr>\n",
       "    <tr>\n",
       "      <th>15</th>\n",
       "      <td>outputs\\re\\BioBERT_fc2020-11-22 08_15_02_596134.bin</td>\n",
       "      <td>0.962986</td>\n",
       "    </tr>\n",
       "    <tr>\n",
       "      <th>16</th>\n",
       "      <td>outputs\\re\\BioBERT_fc2020-11-22 10_36_33_240569.bin</td>\n",
       "      <td>0.963989</td>\n",
       "    </tr>\n",
       "    <tr>\n",
       "      <th>17</th>\n",
       "      <td>outputs\\re\\BioBERT_fc2020-11-22 23_49_51_449255.bin</td>\n",
       "      <td>0.962359</td>\n",
       "    </tr>\n",
       "    <tr>\n",
       "      <th>18</th>\n",
       "      <td>outputs\\re\\BioBERT_fc2020-11-23 02_11_58_926877.bin</td>\n",
       "      <td>0.961197</td>\n",
       "    </tr>\n",
       "  </tbody>\n",
       "</table>\n",
       "</div>"
      ],
      "text/plain": [
       "                                                file_namae  f1-score\n",
       "0   outputs\\re\\BERT_Sequence2020-11-16 05_43_28_786014.bin  0.959108\n",
       "1   outputs\\re\\BERT_Sequence2020-11-16 22_21_41_536138.bin  0.958500\n",
       "2   outputs\\re\\BERT_Sequence2020-11-20 04_03_11_148846.bin  0.958429\n",
       "3   outputs\\re\\BERT_Sequence2020-11-20 12_33_00_408665.bin  0.958896\n",
       "4                           outputs\\re\\BioBERT_5epochs.bin  0.962013\n",
       "5                    outputs\\re\\BioBERT_5epochs_256seq.bin  0.962747\n",
       "6      outputs\\re\\BioBERT_fc2020-11-16 00_40_57_659995.bin  0.947514\n",
       "7      outputs\\re\\BioBERT_fc2020-11-16 03_37_07_579463.bin  0.962352\n",
       "8      outputs\\re\\BioBERT_fc2020-11-16 16_17_55_396529.bin  0.962979\n",
       "9      outputs\\re\\BioBERT_fc2020-11-16 20_17_53_374127.bin  0.961864\n",
       "10     outputs\\re\\BioBERT_fc2020-11-20 01_41_02_300023.bin  0.961723\n",
       "11     outputs\\re\\BioBERT_fc2020-11-20 08_58_14_655591.bin  0.963207\n",
       "12     outputs\\re\\BioBERT_fc2020-11-21 22_06_59_632738.bin  0.961774\n",
       "13     outputs\\re\\BioBERT_fc2020-11-22 01_29_37_863601.bin  0.961006\n",
       "14     outputs\\re\\BioBERT_fc2020-11-22 04_52_17_649546.bin  0.965579\n",
       "15     outputs\\re\\BioBERT_fc2020-11-22 08_15_02_596134.bin  0.962986\n",
       "16     outputs\\re\\BioBERT_fc2020-11-22 10_36_33_240569.bin  0.963989\n",
       "17     outputs\\re\\BioBERT_fc2020-11-22 23_49_51_449255.bin  0.962359\n",
       "18     outputs\\re\\BioBERT_fc2020-11-23 02_11_58_926877.bin  0.961197"
      ]
     },
     "execution_count": 7,
     "metadata": {},
     "output_type": "execute_result"
    }
   ],
   "source": [
    "pd.set_option('display.max_colwidth', 120)\n",
    "columns = ['file_namae', 'f1-score']\n",
    "test_results= pd.DataFrame(f1_score_list, columns = columns)\n",
    "test_results"
   ]
  },
  {
   "cell_type": "code",
   "execution_count": 8,
   "metadata": {},
   "outputs": [],
   "source": [
    "# print (\"F1 Score summary \\n\")  \n",
    "# ax = plt.gca()\n",
    "# ax.get_xaxis().set_visible(False)\n",
    "# ax.get_yaxis().set_visible(False)\n",
    "# plt.box(on=None)\n",
    "# plt.figure(figsize=(14,6))\n",
    "# the_table = plt.table(cellText=f1_score_list,\n",
    "#                       colLabels=['file name', 'F1-score'],\n",
    "#                       loc='center')\n",
    "# the_table.auto_set_font_size(False)\n",
    "# the_table.set_fontsize(10)"
   ]
  },
  {
   "cell_type": "code",
   "execution_count": null,
   "metadata": {},
   "outputs": [],
   "source": []
  }
 ],
 "metadata": {
  "kernelspec": {
   "display_name": "Python 3",
   "language": "python",
   "name": "python3"
  },
  "language_info": {
   "codemirror_mode": {
    "name": "ipython",
    "version": 3
   },
   "file_extension": ".py",
   "mimetype": "text/x-python",
   "name": "python",
   "nbconvert_exporter": "python",
   "pygments_lexer": "ipython3",
   "version": "3.7.4"
  }
 },
 "nbformat": 4,
 "nbformat_minor": 4
}
