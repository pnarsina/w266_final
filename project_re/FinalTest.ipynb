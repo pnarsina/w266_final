{
 "cells": [
  {
   "cell_type": "code",
   "execution_count": 1,
   "metadata": {},
   "outputs": [],
   "source": [
    "%reload_ext autoreload\n",
    "%autoreload\n",
    "%matplotlib inline\n",
    "import os, json,glob,sys,io\n",
    "from types import SimpleNamespace\n",
    "from experiment import run_model\n",
    "from eval import calculate_stats, eval_model\n",
    "import pickle\n",
    "from datetime import datetime \n",
    "import torch\n",
    "from torch import nn\n",
    "from transformers import BertTokenizer\n",
    "from model.MedClinical import Biobert_fc \n",
    "from sklearn.metrics import classification_report, f1_score\n",
    "from util.tools  import load_config\n",
    "from util.DataLoader  import *\n",
    "from pathlib import Path, PureWindowsPath, PurePosixPath\n",
    "import traceback\n",
    "from matplotlib import pyplot as plt\n",
    "import pandas as pd"
   ]
  },
  {
   "cell_type": "code",
   "execution_count": 2,
   "metadata": {},
   "outputs": [],
   "source": [
    "device = torch.device(\"cuda\" if torch.cuda.is_available() else \"cpu\")\n",
    "# device = \"cpu\""
   ]
  },
  {
   "cell_type": "code",
   "execution_count": 3,
   "metadata": {},
   "outputs": [],
   "source": [
    "config_folder = \"config/\"\n",
    "config = load_config(config_folder)"
   ]
  },
  {
   "cell_type": "code",
   "execution_count": 4,
   "metadata": {},
   "outputs": [
    {
     "name": "stderr",
     "output_type": "stream",
     "text": [
      "100%|███████████████████████████████████████████████████████████████████████████████████| 50010/50010 [09:49<00:00, 84.85it/s]\n",
      "INFO:root:***** Running training *****\n",
      "INFO:root:  Num examples = 50010\n",
      "INFO:root:  Batch size = 24\n",
      "INFO:root:  Num steps = 20830\n"
     ]
    }
   ],
   "source": [
    "dataprocessor = MultiClassificationProcessor()\n",
    "test_dataloader, dev_data_len, dev_num_labels, dev_num_train_optimization_steps, all_dev_label_ids = dataprocessor.get_data_loader(config,source='test')    "
   ]
  },
  {
   "cell_type": "code",
   "execution_count": 5,
   "metadata": {},
   "outputs": [],
   "source": [
    "def save_missed_cases_to_file(file_name, preds, label_ids, inputs):\n",
    "    tokenizer = BertTokenizer.from_pretrained('bert-base-cased', do_lower_case=False)\n",
    "    missed_cases = []\n",
    "    for i in range(0,len(label_ids)):\n",
    "        if label_ids[i] !=  preds[i]:\n",
    "             missed_cases.append([ file_name, preds[i],  label_ids[i] , \" \". join (tokenizer.convert_ids_to_tokens(inputs[i])) ])\n",
    "\n",
    "    #Save into a file\n",
    "    missed_cases_file = config.programsettings.REPORTS_DIR +'test_results_' + str(datetime.now()).replace(\":\", \"_\").replace(\".\", \"_\") + \".pkl\"\n",
    "    with open(missed_cases_file, \"wb\") as f:\n",
    "        pickle.dump(missed_cases, f)  \n",
    "        \n",
    "    "
   ]
  },
  {
   "cell_type": "code",
   "execution_count": 6,
   "metadata": {},
   "outputs": [
    {
     "name": "stdout",
     "output_type": "stream",
     "text": [
      "\n",
      " Model file:  outputs\\re\\BioBERT_fc2020-11-25 01_06_44_926278.bin\n"
     ]
    },
    {
     "data": {
      "application/vnd.jupyter.widget-view+json": {
       "model_id": "7627fcef9c7a481c9e77b96717a2a2d0",
       "version_major": 2,
       "version_minor": 0
      },
      "text/plain": [
       "HBox(children=(FloatProgress(value=0.0, description='Evaluating', max=2084.0, style=ProgressStyle(description_…"
      ]
     },
     "metadata": {},
     "output_type": "display_data"
    },
    {
     "name": "stdout",
     "output_type": "stream",
     "text": [
      "\n",
      "              precision    recall  f1-score   support\n",
      "\n",
      "           0       0.96      0.98      0.97      3464\n",
      "           1       0.98      0.98      0.98      3723\n",
      "           2       0.99      0.98      0.99      4274\n",
      "           3       0.99      0.99      0.99      4090\n",
      "           4       0.93      0.96      0.94       420\n",
      "           5       0.98      0.96      0.97      3024\n",
      "           6       0.97      0.98      0.98      2802\n",
      "           7       0.91      0.86      0.88       775\n",
      "           8       1.00      1.00      1.00     27438\n",
      "\n",
      "    accuracy                           0.99     50010\n",
      "   macro avg       0.97      0.97      0.97     50010\n",
      "weighted avg       0.99      0.99      0.99     50010\n",
      "\n",
      "\n",
      " \n",
      " \n",
      "\n",
      "\n",
      " Model file:  outputs\\re\\BioBERT_fc2020-11-25 04_15_53_420251.bin\n"
     ]
    },
    {
     "data": {
      "application/vnd.jupyter.widget-view+json": {
       "model_id": "763d272353114ed984f358c515652626",
       "version_major": 2,
       "version_minor": 0
      },
      "text/plain": [
       "HBox(children=(FloatProgress(value=0.0, description='Evaluating', max=2084.0, style=ProgressStyle(description_…"
      ]
     },
     "metadata": {},
     "output_type": "display_data"
    },
    {
     "name": "stdout",
     "output_type": "stream",
     "text": [
      "\n",
      "              precision    recall  f1-score   support\n",
      "\n",
      "           0       0.96      0.98      0.97      3464\n",
      "           1       0.97      0.98      0.98      3723\n",
      "           2       0.99      0.98      0.99      4274\n",
      "           3       0.99      0.99      0.99      4090\n",
      "           4       0.96      0.97      0.96       420\n",
      "           5       0.98      0.95      0.96      3024\n",
      "           6       0.97      0.98      0.98      2802\n",
      "           7       0.93      0.85      0.88       775\n",
      "           8       1.00      1.00      1.00     27438\n",
      "\n",
      "    accuracy                           0.99     50010\n",
      "   macro avg       0.97      0.96      0.97     50010\n",
      "weighted avg       0.99      0.99      0.99     50010\n",
      "\n",
      "\n",
      " \n",
      " \n",
      "\n",
      "\n",
      " Model file:  outputs\\re\\test_evaluated\\BERT_Sequence2020-11-16 05_43_28_786014.bin\n"
     ]
    },
    {
     "data": {
      "application/vnd.jupyter.widget-view+json": {
       "model_id": "bbf840864ba74a0f9891005c99875c27",
       "version_major": 2,
       "version_minor": 0
      },
      "text/plain": [
       "HBox(children=(FloatProgress(value=0.0, description='Evaluating', max=2084.0, style=ProgressStyle(description_…"
      ]
     },
     "metadata": {},
     "output_type": "display_data"
    },
    {
     "name": "stdout",
     "output_type": "stream",
     "text": [
      "\n",
      "\n",
      " Model file:  outputs\\re\\test_evaluated\\BERT_Sequence2020-11-16 22_21_41_536138.bin\n"
     ]
    },
    {
     "name": "stderr",
     "output_type": "stream",
     "text": [
      "Traceback (most recent call last):\n",
      "  File \"<ipython-input-6-f17c69de64b9>\", line 13, in <module>\n",
      "    test_inputs, test_preds, test_labels, test_loss = eval_model( config, model, test_dataloader, device, num_labels)\n",
      "  File \"F:\\Prabhu\\final_project\\project_re\\eval.py\", line 42, in eval_model\n",
      "    class_weights = torch.FloatTensor(weights).cuda()\n",
      "KeyboardInterrupt\n"
     ]
    },
    {
     "data": {
      "application/vnd.jupyter.widget-view+json": {
       "model_id": "52642aca9aa84d398d697f62bf6892e7",
       "version_major": 2,
       "version_minor": 0
      },
      "text/plain": [
       "HBox(children=(FloatProgress(value=0.0, description='Evaluating', max=2084.0, style=ProgressStyle(description_…"
      ]
     },
     "metadata": {},
     "output_type": "display_data"
    },
    {
     "name": "stdout",
     "output_type": "stream",
     "text": [
      "\n",
      "              precision    recall  f1-score   support\n",
      "\n",
      "           0       0.95      0.97      0.96      3464\n",
      "           1       0.97      0.98      0.98      3723\n",
      "           2       0.99      0.99      0.99      4274\n",
      "           3       0.99      0.99      0.99      4090\n",
      "           4       0.95      0.96      0.95       420\n",
      "           5       0.98      0.95      0.97      3024\n",
      "           6       0.97      0.98      0.98      2802\n",
      "           7       0.89      0.81      0.85       775\n",
      "           8       1.00      1.00      1.00     27438\n",
      "\n",
      "    accuracy                           0.99     50010\n",
      "   macro avg       0.96      0.96      0.96     50010\n",
      "weighted avg       0.99      0.99      0.99     50010\n",
      "\n",
      "\n",
      " \n",
      " \n",
      "\n",
      "\n",
      " Model file:  outputs\\re\\test_evaluated\\BERT_Sequence2020-11-20 04_03_11_148846.bin\n"
     ]
    },
    {
     "data": {
      "application/vnd.jupyter.widget-view+json": {
       "model_id": "58ea33efe2674ac9bc4fa3539ded4b26",
       "version_major": 2,
       "version_minor": 0
      },
      "text/plain": [
       "HBox(children=(FloatProgress(value=0.0, description='Evaluating', max=2084.0, style=ProgressStyle(description_…"
      ]
     },
     "metadata": {},
     "output_type": "display_data"
    },
    {
     "name": "stdout",
     "output_type": "stream",
     "text": [
      "\n",
      "              precision    recall  f1-score   support\n",
      "\n",
      "           0       0.95      0.97      0.96      3464\n",
      "           1       0.97      0.98      0.98      3723\n",
      "           2       0.98      0.99      0.98      4274\n",
      "           3       0.99      0.99      0.99      4090\n",
      "           4       0.94      0.97      0.95       420\n",
      "           5       0.98      0.95      0.97      3024\n",
      "           6       0.97      0.98      0.98      2802\n",
      "           7       0.88      0.83      0.85       775\n",
      "           8       1.00      1.00      1.00     27438\n",
      "\n",
      "    accuracy                           0.99     50010\n",
      "   macro avg       0.96      0.96      0.96     50010\n",
      "weighted avg       0.99      0.99      0.99     50010\n",
      "\n",
      "\n",
      " \n",
      " \n",
      "\n",
      "\n",
      " Model file:  outputs\\re\\test_evaluated\\BERT_Sequence2020-11-20 12_33_00_408665.bin\n"
     ]
    },
    {
     "data": {
      "application/vnd.jupyter.widget-view+json": {
       "model_id": "6b01749cd6994dafb9b274c1aa591851",
       "version_major": 2,
       "version_minor": 0
      },
      "text/plain": [
       "HBox(children=(FloatProgress(value=0.0, description='Evaluating', max=2084.0, style=ProgressStyle(description_…"
      ]
     },
     "metadata": {},
     "output_type": "display_data"
    },
    {
     "name": "stdout",
     "output_type": "stream",
     "text": [
      "\n",
      "              precision    recall  f1-score   support\n",
      "\n",
      "           0       0.95      0.98      0.96      3464\n",
      "           1       0.97      0.98      0.98      3723\n",
      "           2       0.99      0.98      0.99      4274\n",
      "           3       0.99      0.99      0.99      4090\n",
      "           4       0.94      0.96      0.95       420\n",
      "           5       0.98      0.95      0.96      3024\n",
      "           6       0.97      0.98      0.98      2802\n",
      "           7       0.91      0.81      0.86       775\n",
      "           8       1.00      1.00      1.00     27438\n",
      "\n",
      "    accuracy                           0.99     50010\n",
      "   macro avg       0.97      0.96      0.96     50010\n",
      "weighted avg       0.99      0.99      0.99     50010\n",
      "\n",
      "\n",
      " \n",
      " \n",
      "\n",
      "\n",
      " Model file:  outputs\\re\\test_evaluated\\BioBERT_5epochs.bin\n"
     ]
    },
    {
     "data": {
      "application/vnd.jupyter.widget-view+json": {
       "model_id": "a549aa108e404174a980bcc933d70bfa",
       "version_major": 2,
       "version_minor": 0
      },
      "text/plain": [
       "HBox(children=(FloatProgress(value=0.0, description='Evaluating', max=2084.0, style=ProgressStyle(description_…"
      ]
     },
     "metadata": {},
     "output_type": "display_data"
    },
    {
     "name": "stdout",
     "output_type": "stream",
     "text": [
      "\n",
      "              precision    recall  f1-score   support\n",
      "\n",
      "           0       0.95      0.98      0.97      3464\n",
      "           1       0.98      0.98      0.98      3723\n",
      "           2       0.98      0.99      0.98      4274\n",
      "           3       0.99      0.99      0.99      4090\n",
      "           4       0.94      0.96      0.95       420\n",
      "           5       0.98      0.96      0.97      3024\n",
      "           6       0.97      0.99      0.98      2802\n",
      "           7       0.92      0.83      0.87       775\n",
      "           8       1.00      1.00      1.00     27438\n",
      "\n",
      "    accuracy                           0.99     50010\n",
      "   macro avg       0.97      0.96      0.97     50010\n",
      "weighted avg       0.99      0.99      0.99     50010\n",
      "\n",
      "\n",
      " \n",
      " \n",
      "\n",
      "\n",
      " Model file:  outputs\\re\\test_evaluated\\BioBERT_5epochs_256seq.bin\n"
     ]
    },
    {
     "data": {
      "application/vnd.jupyter.widget-view+json": {
       "model_id": "aa11c555ad1d4f06af5549b598f6206e",
       "version_major": 2,
       "version_minor": 0
      },
      "text/plain": [
       "HBox(children=(FloatProgress(value=0.0, description='Evaluating', max=2084.0, style=ProgressStyle(description_…"
      ]
     },
     "metadata": {},
     "output_type": "display_data"
    },
    {
     "name": "stdout",
     "output_type": "stream",
     "text": [
      "\n",
      "              precision    recall  f1-score   support\n",
      "\n",
      "           0       0.96      0.97      0.97      3464\n",
      "           1       0.98      0.98      0.98      3723\n",
      "           2       0.98      0.99      0.99      4274\n",
      "           3       0.99      0.99      0.99      4090\n",
      "           4       0.93      0.96      0.95       420\n",
      "           5       0.98      0.95      0.97      3024\n",
      "           6       0.98      0.98      0.98      2802\n",
      "           7       0.91      0.86      0.88       775\n",
      "           8       1.00      1.00      1.00     27438\n",
      "\n",
      "    accuracy                           0.99     50010\n",
      "   macro avg       0.97      0.97      0.97     50010\n",
      "weighted avg       0.99      0.99      0.99     50010\n",
      "\n",
      "\n",
      " \n",
      " \n",
      "\n",
      "\n",
      " Model file:  outputs\\re\\test_evaluated\\BioBERT_5epochs_256seq_binary.bin\n"
     ]
    },
    {
     "data": {
      "application/vnd.jupyter.widget-view+json": {
       "model_id": "dd18375eaf134eddb731982c6896ff1a",
       "version_major": 2,
       "version_minor": 0
      },
      "text/plain": [
       "HBox(children=(FloatProgress(value=0.0, description='Evaluating', max=2084.0, style=ProgressStyle(description_…"
      ]
     },
     "metadata": {},
     "output_type": "display_data"
    },
    {
     "name": "stdout",
     "output_type": "stream",
     "text": [
      "\n",
      "\n",
      " Model file:  outputs\\re\\test_evaluated\\BioBERT_CNN_fc2020-11-23 20_32_17_598176.bin\n"
     ]
    },
    {
     "name": "stderr",
     "output_type": "stream",
     "text": [
      "Traceback (most recent call last):\n",
      "  File \"<ipython-input-6-f17c69de64b9>\", line 13, in <module>\n",
      "    test_inputs, test_preds, test_labels, test_loss = eval_model( config, model, test_dataloader, device, num_labels)\n",
      "  File \"F:\\Prabhu\\final_project\\project_re\\eval.py\", line 45, in eval_model\n",
      "    tmp_eval_loss = loss_fct(logits.view(-1, num_labels), label_ids.view(-1))\n",
      "RuntimeError: shape '[-1, 9]' is invalid for input of size 48\n"
     ]
    },
    {
     "data": {
      "application/vnd.jupyter.widget-view+json": {
       "model_id": "25f8098eab2f4346935dabda2d35a826",
       "version_major": 2,
       "version_minor": 0
      },
      "text/plain": [
       "HBox(children=(FloatProgress(value=0.0, description='Evaluating', max=2084.0, style=ProgressStyle(description_…"
      ]
     },
     "metadata": {},
     "output_type": "display_data"
    },
    {
     "name": "stdout",
     "output_type": "stream",
     "text": [
      "\n",
      "\n",
      " Model file:  outputs\\re\\test_evaluated\\BioBERT_CNN_fc2020-11-23 23_16_23_167740.bin\n"
     ]
    },
    {
     "name": "stderr",
     "output_type": "stream",
     "text": [
      "Traceback (most recent call last):\n",
      "  File \"<ipython-input-6-f17c69de64b9>\", line 13, in <module>\n",
      "    test_inputs, test_preds, test_labels, test_loss = eval_model( config, model, test_dataloader, device, num_labels)\n",
      "  File \"F:\\Prabhu\\final_project\\project_re\\eval.py\", line 38, in eval_model\n",
      "    logits = model(input_ids, segment_ids, input_mask)\n",
      "  File \"C:\\ProgramData\\Anaconda3\\lib\\site-packages\\torch\\nn\\modules\\module.py\", line 727, in _call_impl\n",
      "    result = self.forward(*input, **kwargs)\n",
      "  File \"F:\\Prabhu\\final_project\\project_re\\model\\MedClinical.py\", line 76, in forward\n",
      "    x1 = self.conv_1(x)\n",
      "  File \"C:\\ProgramData\\Anaconda3\\lib\\site-packages\\torch\\nn\\modules\\module.py\", line 727, in _call_impl\n",
      "    result = self.forward(*input, **kwargs)\n",
      "  File \"C:\\ProgramData\\Anaconda3\\lib\\site-packages\\torch\\nn\\parallel\\data_parallel.py\", line 161, in forward\n",
      "    outputs = self.parallel_apply(replicas, inputs, kwargs)\n",
      "  File \"C:\\ProgramData\\Anaconda3\\lib\\site-packages\\torch\\nn\\parallel\\data_parallel.py\", line 171, in parallel_apply\n",
      "    return parallel_apply(replicas, inputs, kwargs, self.device_ids[:len(replicas)])\n",
      "  File \"C:\\ProgramData\\Anaconda3\\lib\\site-packages\\torch\\nn\\parallel\\parallel_apply.py\", line 86, in parallel_apply\n",
      "    output.reraise()\n",
      "  File \"C:\\ProgramData\\Anaconda3\\lib\\site-packages\\torch\\_utils.py\", line 428, in reraise\n",
      "    raise self.exc_type(msg)\n",
      "RuntimeError: Caught RuntimeError in replica 0 on device 0.\n",
      "Original Traceback (most recent call last):\n",
      "  File \"C:\\ProgramData\\Anaconda3\\lib\\site-packages\\torch\\nn\\parallel\\parallel_apply.py\", line 61, in _worker\n",
      "    output = module(*input, **kwargs)\n",
      "  File \"C:\\ProgramData\\Anaconda3\\lib\\site-packages\\torch\\nn\\modules\\module.py\", line 727, in _call_impl\n",
      "    result = self.forward(*input, **kwargs)\n",
      "  File \"C:\\ProgramData\\Anaconda3\\lib\\site-packages\\torch\\nn\\modules\\conv.py\", line 258, in forward\n",
      "    return F.conv1d(input, self.weight, self.bias, self.stride,\n",
      "RuntimeError: Given groups=1, weight of size [768, 256, 8], expected input[12, 384, 768] to have 256 channels, but got 384 channels instead\n",
      "\n"
     ]
    },
    {
     "data": {
      "application/vnd.jupyter.widget-view+json": {
       "model_id": "839c7824b500415ebfb021658b9bec08",
       "version_major": 2,
       "version_minor": 0
      },
      "text/plain": [
       "HBox(children=(FloatProgress(value=0.0, description='Evaluating', max=2084.0, style=ProgressStyle(description_…"
      ]
     },
     "metadata": {},
     "output_type": "display_data"
    },
    {
     "name": "stdout",
     "output_type": "stream",
     "text": [
      "\n",
      "\n",
      " Model file:  outputs\\re\\test_evaluated\\BioBERT_CNN_fc2020-11-24 03_13_56_562308.bin\n"
     ]
    },
    {
     "name": "stderr",
     "output_type": "stream",
     "text": [
      "Traceback (most recent call last):\n",
      "  File \"<ipython-input-6-f17c69de64b9>\", line 13, in <module>\n",
      "    test_inputs, test_preds, test_labels, test_loss = eval_model( config, model, test_dataloader, device, num_labels)\n",
      "  File \"F:\\Prabhu\\final_project\\project_re\\eval.py\", line 38, in eval_model\n",
      "    logits = model(input_ids, segment_ids, input_mask)\n",
      "  File \"C:\\ProgramData\\Anaconda3\\lib\\site-packages\\torch\\nn\\modules\\module.py\", line 727, in _call_impl\n",
      "    result = self.forward(*input, **kwargs)\n",
      "  File \"F:\\Prabhu\\final_project\\project_re\\model\\MedClinical.py\", line 76, in forward\n",
      "    x1 = self.conv_1(x)\n",
      "  File \"C:\\ProgramData\\Anaconda3\\lib\\site-packages\\torch\\nn\\modules\\module.py\", line 727, in _call_impl\n",
      "    result = self.forward(*input, **kwargs)\n",
      "  File \"C:\\ProgramData\\Anaconda3\\lib\\site-packages\\torch\\nn\\parallel\\data_parallel.py\", line 161, in forward\n",
      "    outputs = self.parallel_apply(replicas, inputs, kwargs)\n",
      "  File \"C:\\ProgramData\\Anaconda3\\lib\\site-packages\\torch\\nn\\parallel\\data_parallel.py\", line 171, in parallel_apply\n",
      "    return parallel_apply(replicas, inputs, kwargs, self.device_ids[:len(replicas)])\n",
      "  File \"C:\\ProgramData\\Anaconda3\\lib\\site-packages\\torch\\nn\\parallel\\parallel_apply.py\", line 86, in parallel_apply\n",
      "    output.reraise()\n",
      "  File \"C:\\ProgramData\\Anaconda3\\lib\\site-packages\\torch\\_utils.py\", line 428, in reraise\n",
      "    raise self.exc_type(msg)\n",
      "RuntimeError: Caught RuntimeError in replica 0 on device 0.\n",
      "Original Traceback (most recent call last):\n",
      "  File \"C:\\ProgramData\\Anaconda3\\lib\\site-packages\\torch\\nn\\parallel\\parallel_apply.py\", line 61, in _worker\n",
      "    output = module(*input, **kwargs)\n",
      "  File \"C:\\ProgramData\\Anaconda3\\lib\\site-packages\\torch\\nn\\modules\\module.py\", line 727, in _call_impl\n",
      "    result = self.forward(*input, **kwargs)\n",
      "  File \"C:\\ProgramData\\Anaconda3\\lib\\site-packages\\torch\\nn\\modules\\conv.py\", line 258, in forward\n",
      "    return F.conv1d(input, self.weight, self.bias, self.stride,\n",
      "RuntimeError: Given groups=1, weight of size [64, 256, 12], expected input[12, 384, 768] to have 256 channels, but got 384 channels instead\n",
      "\n"
     ]
    },
    {
     "data": {
      "application/vnd.jupyter.widget-view+json": {
       "model_id": "451d5c979f9943f5b6e4769bfde31ea0",
       "version_major": 2,
       "version_minor": 0
      },
      "text/plain": [
       "HBox(children=(FloatProgress(value=0.0, description='Evaluating', max=2084.0, style=ProgressStyle(description_…"
      ]
     },
     "metadata": {},
     "output_type": "display_data"
    },
    {
     "name": "stdout",
     "output_type": "stream",
     "text": [
      "\n",
      "\n",
      " Model file:  outputs\\re\\test_evaluated\\BioBERT_fc2020-11-16 00_40_57_659995.bin\n"
     ]
    },
    {
     "name": "stderr",
     "output_type": "stream",
     "text": [
      "Traceback (most recent call last):\n",
      "  File \"<ipython-input-6-f17c69de64b9>\", line 13, in <module>\n",
      "    test_inputs, test_preds, test_labels, test_loss = eval_model( config, model, test_dataloader, device, num_labels)\n",
      "  File \"F:\\Prabhu\\final_project\\project_re\\eval.py\", line 38, in eval_model\n",
      "    logits = model(input_ids, segment_ids, input_mask)\n",
      "  File \"C:\\ProgramData\\Anaconda3\\lib\\site-packages\\torch\\nn\\modules\\module.py\", line 727, in _call_impl\n",
      "    result = self.forward(*input, **kwargs)\n",
      "  File \"F:\\Prabhu\\final_project\\project_re\\model\\MedClinical.py\", line 76, in forward\n",
      "    x1 = self.conv_1(x)\n",
      "  File \"C:\\ProgramData\\Anaconda3\\lib\\site-packages\\torch\\nn\\modules\\module.py\", line 727, in _call_impl\n",
      "    result = self.forward(*input, **kwargs)\n",
      "  File \"C:\\ProgramData\\Anaconda3\\lib\\site-packages\\torch\\nn\\parallel\\data_parallel.py\", line 161, in forward\n",
      "    outputs = self.parallel_apply(replicas, inputs, kwargs)\n",
      "  File \"C:\\ProgramData\\Anaconda3\\lib\\site-packages\\torch\\nn\\parallel\\data_parallel.py\", line 171, in parallel_apply\n",
      "    return parallel_apply(replicas, inputs, kwargs, self.device_ids[:len(replicas)])\n",
      "  File \"C:\\ProgramData\\Anaconda3\\lib\\site-packages\\torch\\nn\\parallel\\parallel_apply.py\", line 86, in parallel_apply\n",
      "    output.reraise()\n",
      "  File \"C:\\ProgramData\\Anaconda3\\lib\\site-packages\\torch\\_utils.py\", line 428, in reraise\n",
      "    raise self.exc_type(msg)\n",
      "RuntimeError: Caught RuntimeError in replica 0 on device 0.\n",
      "Original Traceback (most recent call last):\n",
      "  File \"C:\\ProgramData\\Anaconda3\\lib\\site-packages\\torch\\nn\\parallel\\parallel_apply.py\", line 61, in _worker\n",
      "    output = module(*input, **kwargs)\n",
      "  File \"C:\\ProgramData\\Anaconda3\\lib\\site-packages\\torch\\nn\\modules\\module.py\", line 727, in _call_impl\n",
      "    result = self.forward(*input, **kwargs)\n",
      "  File \"C:\\ProgramData\\Anaconda3\\lib\\site-packages\\torch\\nn\\modules\\conv.py\", line 258, in forward\n",
      "    return F.conv1d(input, self.weight, self.bias, self.stride,\n",
      "RuntimeError: Given groups=1, weight of size [64, 256, 24], expected input[12, 384, 768] to have 256 channels, but got 384 channels instead\n",
      "\n"
     ]
    },
    {
     "data": {
      "application/vnd.jupyter.widget-view+json": {
       "model_id": "da7742627ad946379541b1d1608935cc",
       "version_major": 2,
       "version_minor": 0
      },
      "text/plain": [
       "HBox(children=(FloatProgress(value=0.0, description='Evaluating', max=2084.0, style=ProgressStyle(description_…"
      ]
     },
     "metadata": {},
     "output_type": "display_data"
    },
    {
     "name": "stdout",
     "output_type": "stream",
     "text": [
      "\n",
      "              precision    recall  f1-score   support\n",
      "\n",
      "           0       0.90      0.96      0.93      3464\n",
      "           1       0.97      0.97      0.97      3723\n",
      "           2       0.98      0.98      0.98      4274\n",
      "           3       0.97      0.99      0.98      4090\n",
      "           4       0.93      0.96      0.94       420\n",
      "           5       0.97      0.95      0.96      3024\n",
      "           6       0.97      0.98      0.97      2802\n",
      "           7       0.85      0.78      0.81       775\n",
      "           8       1.00      0.99      1.00     27438\n",
      "\n",
      "    accuracy                           0.98     50010\n",
      "   macro avg       0.95      0.95      0.95     50010\n",
      "weighted avg       0.98      0.98      0.98     50010\n",
      "\n",
      "\n",
      " \n",
      " \n",
      "\n",
      "\n",
      " Model file:  outputs\\re\\test_evaluated\\BioBERT_fc2020-11-16 03_37_07_579463.bin\n"
     ]
    },
    {
     "data": {
      "application/vnd.jupyter.widget-view+json": {
       "model_id": "16a363d4eb794f94aff8abd13c31b6b0",
       "version_major": 2,
       "version_minor": 0
      },
      "text/plain": [
       "HBox(children=(FloatProgress(value=0.0, description='Evaluating', max=2084.0, style=ProgressStyle(description_…"
      ]
     },
     "metadata": {},
     "output_type": "display_data"
    },
    {
     "name": "stdout",
     "output_type": "stream",
     "text": [
      "\n",
      "              precision    recall  f1-score   support\n",
      "\n",
      "           0       0.96      0.97      0.97      3464\n",
      "           1       0.98      0.98      0.98      3723\n",
      "           2       0.98      0.99      0.99      4274\n",
      "           3       0.99      0.99      0.99      4090\n",
      "           4       0.94      0.96      0.95       420\n",
      "           5       0.98      0.96      0.97      3024\n",
      "           6       0.98      0.98      0.98      2802\n",
      "           7       0.90      0.87      0.88       775\n",
      "           8       1.00      1.00      1.00     27438\n",
      "\n",
      "    accuracy                           0.99     50010\n",
      "   macro avg       0.97      0.97      0.97     50010\n",
      "weighted avg       0.99      0.99      0.99     50010\n",
      "\n",
      "\n",
      " \n",
      " \n",
      "\n",
      "\n",
      " Model file:  outputs\\re\\test_evaluated\\BioBERT_fc2020-11-16 16_17_55_396529.bin\n"
     ]
    },
    {
     "data": {
      "application/vnd.jupyter.widget-view+json": {
       "model_id": "f73949dee6154cbf81bde2b69f8afe08",
       "version_major": 2,
       "version_minor": 0
      },
      "text/plain": [
       "HBox(children=(FloatProgress(value=0.0, description='Evaluating', max=2084.0, style=ProgressStyle(description_…"
      ]
     },
     "metadata": {},
     "output_type": "display_data"
    },
    {
     "name": "stdout",
     "output_type": "stream",
     "text": [
      "\n",
      "              precision    recall  f1-score   support\n",
      "\n",
      "           0       0.96      0.98      0.97      3464\n",
      "           1       0.97      0.98      0.98      3723\n",
      "           2       0.98      0.99      0.98      4274\n",
      "           3       0.99      0.99      0.99      4090\n",
      "           4       0.93      0.97      0.95       420\n",
      "           5       0.98      0.95      0.97      3024\n",
      "           6       0.98      0.98      0.98      2802\n",
      "           7       0.93      0.85      0.89       775\n",
      "           8       1.00      1.00      1.00     27438\n",
      "\n",
      "    accuracy                           0.99     50010\n",
      "   macro avg       0.97      0.97      0.97     50010\n",
      "weighted avg       0.99      0.99      0.99     50010\n",
      "\n",
      "\n",
      " \n",
      " \n",
      "\n",
      "\n",
      " Model file:  outputs\\re\\test_evaluated\\BioBERT_fc2020-11-16 20_17_53_374127.bin\n"
     ]
    },
    {
     "data": {
      "application/vnd.jupyter.widget-view+json": {
       "model_id": "575dc1c94bd247db9c9a37e6bc603e10",
       "version_major": 2,
       "version_minor": 0
      },
      "text/plain": [
       "HBox(children=(FloatProgress(value=0.0, description='Evaluating', max=2084.0, style=ProgressStyle(description_…"
      ]
     },
     "metadata": {},
     "output_type": "display_data"
    },
    {
     "name": "stdout",
     "output_type": "stream",
     "text": [
      "\n",
      "              precision    recall  f1-score   support\n",
      "\n",
      "           0       0.95      0.98      0.97      3464\n",
      "           1       0.98      0.98      0.98      3723\n",
      "           2       0.99      0.99      0.99      4274\n",
      "           3       0.99      0.99      0.99      4090\n",
      "           4       0.95      0.97      0.96       420\n",
      "           5       0.97      0.96      0.97      3024\n",
      "           6       0.98      0.99      0.98      2802\n",
      "           7       0.92      0.82      0.87       775\n",
      "           8       1.00      1.00      1.00     27438\n",
      "\n",
      "    accuracy                           0.99     50010\n",
      "   macro avg       0.97      0.96      0.97     50010\n",
      "weighted avg       0.99      0.99      0.99     50010\n",
      "\n",
      "\n",
      " \n",
      " \n",
      "\n",
      "\n",
      " Model file:  outputs\\re\\test_evaluated\\BioBERT_fc2020-11-20 01_41_02_300023.bin\n"
     ]
    },
    {
     "data": {
      "application/vnd.jupyter.widget-view+json": {
       "model_id": "2c362b7ee7e145679bdb2799a3494126",
       "version_major": 2,
       "version_minor": 0
      },
      "text/plain": [
       "HBox(children=(FloatProgress(value=0.0, description='Evaluating', max=2084.0, style=ProgressStyle(description_…"
      ]
     },
     "metadata": {},
     "output_type": "display_data"
    },
    {
     "name": "stdout",
     "output_type": "stream",
     "text": [
      "\n",
      "              precision    recall  f1-score   support\n",
      "\n",
      "           0       0.96      0.98      0.97      3464\n",
      "           1       0.98      0.98      0.98      3723\n",
      "           2       0.98      0.99      0.98      4274\n",
      "           3       0.99      0.99      0.99      4090\n",
      "           4       0.94      0.96      0.95       420\n",
      "           5       0.98      0.96      0.97      3024\n",
      "           6       0.97      0.98      0.98      2802\n",
      "           7       0.91      0.85      0.88       775\n",
      "           8       1.00      1.00      1.00     27438\n",
      "\n",
      "    accuracy                           0.99     50010\n",
      "   macro avg       0.97      0.96      0.97     50010\n",
      "weighted avg       0.99      0.99      0.99     50010\n",
      "\n",
      "\n",
      " \n",
      " \n",
      "\n",
      "\n",
      " Model file:  outputs\\re\\test_evaluated\\BioBERT_fc2020-11-20 08_58_14_655591.bin\n"
     ]
    },
    {
     "data": {
      "application/vnd.jupyter.widget-view+json": {
       "model_id": "ab13914df1a8497aa392c80343af1a73",
       "version_major": 2,
       "version_minor": 0
      },
      "text/plain": [
       "HBox(children=(FloatProgress(value=0.0, description='Evaluating', max=2084.0, style=ProgressStyle(description_…"
      ]
     },
     "metadata": {},
     "output_type": "display_data"
    },
    {
     "name": "stdout",
     "output_type": "stream",
     "text": [
      "\n",
      "              precision    recall  f1-score   support\n",
      "\n",
      "           0       0.96      0.98      0.97      3464\n",
      "           1       0.98      0.98      0.98      3723\n",
      "           2       0.99      0.99      0.99      4274\n",
      "           3       0.99      0.99      0.99      4090\n",
      "           4       0.95      0.95      0.95       420\n",
      "           5       0.98      0.95      0.97      3024\n",
      "           6       0.97      0.98      0.98      2802\n",
      "           7       0.92      0.86      0.89       775\n",
      "           8       1.00      1.00      1.00     27438\n",
      "\n",
      "    accuracy                           0.99     50010\n",
      "   macro avg       0.97      0.96      0.97     50010\n",
      "weighted avg       0.99      0.99      0.99     50010\n",
      "\n",
      "\n",
      " \n",
      " \n",
      "\n",
      "\n",
      " Model file:  outputs\\re\\test_evaluated\\BioBERT_fc2020-11-21 22_06_59_632738.bin\n"
     ]
    },
    {
     "data": {
      "application/vnd.jupyter.widget-view+json": {
       "model_id": "5f876fb1faa540098a931946f070230a",
       "version_major": 2,
       "version_minor": 0
      },
      "text/plain": [
       "HBox(children=(FloatProgress(value=0.0, description='Evaluating', max=2084.0, style=ProgressStyle(description_…"
      ]
     },
     "metadata": {},
     "output_type": "display_data"
    },
    {
     "name": "stdout",
     "output_type": "stream",
     "text": [
      "\n",
      "              precision    recall  f1-score   support\n",
      "\n",
      "           0       0.96      0.97      0.97      3464\n",
      "           1       0.98      0.98      0.98      3723\n",
      "           2       0.99      0.99      0.99      4274\n",
      "           3       0.99      0.99      0.99      4090\n",
      "           4       0.95      0.96      0.95       420\n",
      "           5       0.97      0.95      0.96      3024\n",
      "           6       0.97      0.98      0.98      2802\n",
      "           7       0.90      0.84      0.87       775\n",
      "           8       1.00      1.00      1.00     27438\n",
      "\n",
      "    accuracy                           0.99     50010\n",
      "   macro avg       0.97      0.96      0.97     50010\n",
      "weighted avg       0.99      0.99      0.99     50010\n",
      "\n",
      "\n",
      " \n",
      " \n",
      "\n",
      "\n",
      " Model file:  outputs\\re\\test_evaluated\\BioBERT_fc2020-11-22 01_29_37_863601.bin\n"
     ]
    },
    {
     "data": {
      "application/vnd.jupyter.widget-view+json": {
       "model_id": "56b117408ff3467093aa1b3d4350b10b",
       "version_major": 2,
       "version_minor": 0
      },
      "text/plain": [
       "HBox(children=(FloatProgress(value=0.0, description='Evaluating', max=2084.0, style=ProgressStyle(description_…"
      ]
     },
     "metadata": {},
     "output_type": "display_data"
    },
    {
     "name": "stdout",
     "output_type": "stream",
     "text": [
      "\n",
      "              precision    recall  f1-score   support\n",
      "\n",
      "           0       0.96      0.98      0.97      3464\n",
      "           1       0.97      0.98      0.98      3723\n",
      "           2       0.99      0.99      0.99      4274\n",
      "           3       0.99      0.99      0.99      4090\n",
      "           4       0.94      0.95      0.94       420\n",
      "           5       0.98      0.95      0.96      3024\n",
      "           6       0.97      0.98      0.98      2802\n",
      "           7       0.91      0.85      0.88       775\n",
      "           8       1.00      1.00      1.00     27438\n",
      "\n",
      "    accuracy                           0.99     50010\n",
      "   macro avg       0.97      0.96      0.96     50010\n",
      "weighted avg       0.99      0.99      0.99     50010\n",
      "\n",
      "\n",
      " \n",
      " \n",
      "\n",
      "\n",
      " Model file:  outputs\\re\\test_evaluated\\BioBERT_fc2020-11-22 04_52_17_649546.bin\n"
     ]
    },
    {
     "data": {
      "application/vnd.jupyter.widget-view+json": {
       "model_id": "86ad0da3d6a849618c0dcc3145282c8a",
       "version_major": 2,
       "version_minor": 0
      },
      "text/plain": [
       "HBox(children=(FloatProgress(value=0.0, description='Evaluating', max=2084.0, style=ProgressStyle(description_…"
      ]
     },
     "metadata": {},
     "output_type": "display_data"
    },
    {
     "name": "stdout",
     "output_type": "stream",
     "text": [
      "\n",
      "              precision    recall  f1-score   support\n",
      "\n",
      "           0       0.96      0.98      0.97      3464\n",
      "           1       0.98      0.98      0.98      3723\n",
      "           2       0.99      0.99      0.99      4274\n",
      "           3       0.99      0.99      0.99      4090\n",
      "           4       0.96      0.96      0.96       420\n",
      "           5       0.98      0.96      0.97      3024\n",
      "           6       0.97      0.98      0.98      2802\n",
      "           7       0.91      0.86      0.89       775\n",
      "           8       1.00      1.00      1.00     27438\n",
      "\n",
      "    accuracy                           0.99     50010\n",
      "   macro avg       0.97      0.97      0.97     50010\n",
      "weighted avg       0.99      0.99      0.99     50010\n",
      "\n",
      "\n",
      " \n",
      " \n",
      "\n",
      "\n",
      " Model file:  outputs\\re\\test_evaluated\\BioBERT_fc2020-11-22 08_15_02_596134.bin\n"
     ]
    },
    {
     "data": {
      "application/vnd.jupyter.widget-view+json": {
       "model_id": "e075bd209681481692daca6cdee107f4",
       "version_major": 2,
       "version_minor": 0
      },
      "text/plain": [
       "HBox(children=(FloatProgress(value=0.0, description='Evaluating', max=2084.0, style=ProgressStyle(description_…"
      ]
     },
     "metadata": {},
     "output_type": "display_data"
    },
    {
     "name": "stdout",
     "output_type": "stream",
     "text": [
      "\n",
      "              precision    recall  f1-score   support\n",
      "\n",
      "           0       0.95      0.98      0.97      3464\n",
      "           1       0.98      0.98      0.98      3723\n",
      "           2       0.99      0.99      0.99      4274\n",
      "           3       0.99      0.99      0.99      4090\n",
      "           4       0.95      0.96      0.96       420\n",
      "           5       0.98      0.96      0.97      3024\n",
      "           6       0.98      0.98      0.98      2802\n",
      "           7       0.93      0.83      0.88       775\n",
      "           8       1.00      1.00      1.00     27438\n",
      "\n",
      "    accuracy                           0.99     50010\n",
      "   macro avg       0.97      0.96      0.97     50010\n",
      "weighted avg       0.99      0.99      0.99     50010\n",
      "\n",
      "\n",
      " \n",
      " \n",
      "\n",
      "\n",
      " Model file:  outputs\\re\\test_evaluated\\BioBERT_fc2020-11-22 10_36_33_240569.bin\n"
     ]
    },
    {
     "data": {
      "application/vnd.jupyter.widget-view+json": {
       "model_id": "c57fc7eccf0c45059675543e5e20ca59",
       "version_major": 2,
       "version_minor": 0
      },
      "text/plain": [
       "HBox(children=(FloatProgress(value=0.0, description='Evaluating', max=2084.0, style=ProgressStyle(description_…"
      ]
     },
     "metadata": {},
     "output_type": "display_data"
    },
    {
     "name": "stdout",
     "output_type": "stream",
     "text": [
      "\n",
      "              precision    recall  f1-score   support\n",
      "\n",
      "           0       0.96      0.98      0.97      3464\n",
      "           1       0.97      0.98      0.98      3723\n",
      "           2       0.99      0.99      0.99      4274\n",
      "           3       0.99      0.99      0.99      4090\n",
      "           4       0.95      0.96      0.96       420\n",
      "           5       0.98      0.95      0.97      3024\n",
      "           6       0.97      0.98      0.98      2802\n",
      "           7       0.92      0.85      0.88       775\n",
      "           8       1.00      1.00      1.00     27438\n",
      "\n",
      "    accuracy                           0.99     50010\n",
      "   macro avg       0.97      0.97      0.97     50010\n",
      "weighted avg       0.99      0.99      0.99     50010\n",
      "\n",
      "\n",
      " \n",
      " \n",
      "\n",
      "\n",
      " Model file:  outputs\\re\\test_evaluated\\BioBERT_fc2020-11-22 23_49_51_449255.bin\n"
     ]
    },
    {
     "data": {
      "application/vnd.jupyter.widget-view+json": {
       "model_id": "2155c98f1c0342929ed640735e4d2b19",
       "version_major": 2,
       "version_minor": 0
      },
      "text/plain": [
       "HBox(children=(FloatProgress(value=0.0, description='Evaluating', max=2084.0, style=ProgressStyle(description_…"
      ]
     },
     "metadata": {},
     "output_type": "display_data"
    },
    {
     "name": "stdout",
     "output_type": "stream",
     "text": [
      "\n",
      "              precision    recall  f1-score   support\n",
      "\n",
      "           0       0.96      0.97      0.97      3464\n",
      "           1       0.98      0.98      0.98      3723\n",
      "           2       0.99      0.99      0.99      4274\n",
      "           3       0.99      0.99      0.99      4090\n",
      "           4       0.95      0.95      0.95       420\n",
      "           5       0.98      0.96      0.97      3024\n",
      "           6       0.97      0.98      0.98      2802\n",
      "           7       0.90      0.85      0.87       775\n",
      "           8       1.00      1.00      1.00     27438\n",
      "\n",
      "    accuracy                           0.99     50010\n",
      "   macro avg       0.97      0.96      0.97     50010\n",
      "weighted avg       0.99      0.99      0.99     50010\n",
      "\n",
      "\n",
      " \n",
      " \n",
      "\n",
      "\n",
      " Model file:  outputs\\re\\test_evaluated\\BioBERT_fc2020-11-23 02_11_58_926877.bin\n"
     ]
    },
    {
     "data": {
      "application/vnd.jupyter.widget-view+json": {
       "model_id": "8b6d56de31a04275b1a800eca2d22a96",
       "version_major": 2,
       "version_minor": 0
      },
      "text/plain": [
       "HBox(children=(FloatProgress(value=0.0, description='Evaluating', max=2084.0, style=ProgressStyle(description_…"
      ]
     },
     "metadata": {},
     "output_type": "display_data"
    },
    {
     "name": "stdout",
     "output_type": "stream",
     "text": [
      "\n",
      "              precision    recall  f1-score   support\n",
      "\n",
      "           0       0.96      0.97      0.96      3464\n",
      "           1       0.97      0.98      0.98      3723\n",
      "           2       0.99      0.99      0.99      4274\n",
      "           3       0.99      0.99      0.99      4090\n",
      "           4       0.95      0.96      0.96       420\n",
      "           5       0.97      0.96      0.97      3024\n",
      "           6       0.97      0.98      0.98      2802\n",
      "           7       0.88      0.86      0.87       775\n",
      "           8       1.00      1.00      1.00     27438\n",
      "\n",
      "    accuracy                           0.99     50010\n",
      "   macro avg       0.97      0.96      0.96     50010\n",
      "weighted avg       0.99      0.99      0.99     50010\n",
      "\n",
      "\n",
      " \n",
      " \n",
      "\n",
      "\n",
      " \n",
      " \n",
      "\n"
     ]
    }
   ],
   "source": [
    "models_folder_name = config.programsettings.OUTPUT_DIR\n",
    "data_folder = Path(models_folder_name)\n",
    "list_model_files = list(data_folder.glob('*.bin'))\n",
    "num_labels = 9\n",
    "\n",
    "f1_score_list = []\n",
    "for model_file in list_model_files:\n",
    "    try:\n",
    "        print(\"\\n Model file: \", model_file)\n",
    "        model = torch.load(model_file)\n",
    "#         model = nn.DataParallel(model)\n",
    "        x =model.eval()\n",
    "        test_inputs, test_preds, test_labels, test_loss = eval_model( config, model, test_dataloader, device, num_labels)  \n",
    "        print(classification_report(test_labels,test_preds ))\n",
    "        print(\"\\n \\n \\n\")\n",
    "        f1_value = f1_score(test_labels, test_preds,average='macro')\n",
    "        f1_score_list.append([model_file,f1_value ])\n",
    "        file_name = model_file.__str__().replace(\".\", \"_\") \n",
    "        save_missed_cases_to_file( file_name, test_preds, test_labels, test_inputs)\n",
    "        \n",
    "    except:\n",
    "#         print(\"Failed due to cpu & GPU incompatibility\")\n",
    "     # printing stack trace \n",
    "        traceback.print_exc()         \n",
    "\n",
    "print(\"\\n \\n \\n\")\n",
    "\n",
    "\n"
   ]
  },
  {
   "cell_type": "code",
   "execution_count": 7,
   "metadata": {},
   "outputs": [
    {
     "data": {
      "text/html": [
       "<div>\n",
       "<style scoped>\n",
       "    .dataframe tbody tr th:only-of-type {\n",
       "        vertical-align: middle;\n",
       "    }\n",
       "\n",
       "    .dataframe tbody tr th {\n",
       "        vertical-align: top;\n",
       "    }\n",
       "\n",
       "    .dataframe thead th {\n",
       "        text-align: right;\n",
       "    }\n",
       "</style>\n",
       "<table border=\"1\" class=\"dataframe\">\n",
       "  <thead>\n",
       "    <tr style=\"text-align: right;\">\n",
       "      <th></th>\n",
       "      <th>file_namae</th>\n",
       "      <th>f1-score</th>\n",
       "    </tr>\n",
       "  </thead>\n",
       "  <tbody>\n",
       "    <tr>\n",
       "      <th>0</th>\n",
       "      <td>outputs\\re\\BioBERT_fc2020-11-25 01_06_44_926278.bin</td>\n",
       "      <td>0.966591</td>\n",
       "    </tr>\n",
       "    <tr>\n",
       "      <th>1</th>\n",
       "      <td>outputs\\re\\BioBERT_fc2020-11-25 04_15_53_420251.bin</td>\n",
       "      <td>0.967590</td>\n",
       "    </tr>\n",
       "    <tr>\n",
       "      <th>2</th>\n",
       "      <td>outputs\\re\\test_evaluated\\BERT_Sequence2020-11-16 22_21_41_536138.bin</td>\n",
       "      <td>0.961873</td>\n",
       "    </tr>\n",
       "    <tr>\n",
       "      <th>3</th>\n",
       "      <td>outputs\\re\\test_evaluated\\BERT_Sequence2020-11-20 04_03_11_148846.bin</td>\n",
       "      <td>0.962464</td>\n",
       "    </tr>\n",
       "    <tr>\n",
       "      <th>4</th>\n",
       "      <td>outputs\\re\\test_evaluated\\BERT_Sequence2020-11-20 12_33_00_408665.bin</td>\n",
       "      <td>0.962988</td>\n",
       "    </tr>\n",
       "    <tr>\n",
       "      <th>5</th>\n",
       "      <td>outputs\\re\\test_evaluated\\BioBERT_5epochs.bin</td>\n",
       "      <td>0.965785</td>\n",
       "    </tr>\n",
       "    <tr>\n",
       "      <th>6</th>\n",
       "      <td>outputs\\re\\test_evaluated\\BioBERT_5epochs_256seq.bin</td>\n",
       "      <td>0.966362</td>\n",
       "    </tr>\n",
       "    <tr>\n",
       "      <th>7</th>\n",
       "      <td>outputs\\re\\test_evaluated\\BioBERT_fc2020-11-16 00_40_57_659995.bin</td>\n",
       "      <td>0.950330</td>\n",
       "    </tr>\n",
       "    <tr>\n",
       "      <th>8</th>\n",
       "      <td>outputs\\re\\test_evaluated\\BioBERT_fc2020-11-16 03_37_07_579463.bin</td>\n",
       "      <td>0.966757</td>\n",
       "    </tr>\n",
       "    <tr>\n",
       "      <th>9</th>\n",
       "      <td>outputs\\re\\test_evaluated\\BioBERT_fc2020-11-16 16_17_55_396529.bin</td>\n",
       "      <td>0.967060</td>\n",
       "    </tr>\n",
       "    <tr>\n",
       "      <th>10</th>\n",
       "      <td>outputs\\re\\test_evaluated\\BioBERT_fc2020-11-16 20_17_53_374127.bin</td>\n",
       "      <td>0.965946</td>\n",
       "    </tr>\n",
       "    <tr>\n",
       "      <th>11</th>\n",
       "      <td>outputs\\re\\test_evaluated\\BioBERT_fc2020-11-20 01_41_02_300023.bin</td>\n",
       "      <td>0.965655</td>\n",
       "    </tr>\n",
       "    <tr>\n",
       "      <th>12</th>\n",
       "      <td>outputs\\re\\test_evaluated\\BioBERT_fc2020-11-20 08_58_14_655591.bin</td>\n",
       "      <td>0.967093</td>\n",
       "    </tr>\n",
       "    <tr>\n",
       "      <th>13</th>\n",
       "      <td>outputs\\re\\test_evaluated\\BioBERT_fc2020-11-21 22_06_59_632738.bin</td>\n",
       "      <td>0.965559</td>\n",
       "    </tr>\n",
       "    <tr>\n",
       "      <th>14</th>\n",
       "      <td>outputs\\re\\test_evaluated\\BioBERT_fc2020-11-22 01_29_37_863601.bin</td>\n",
       "      <td>0.964774</td>\n",
       "    </tr>\n",
       "    <tr>\n",
       "      <th>15</th>\n",
       "      <td>outputs\\re\\test_evaluated\\BioBERT_fc2020-11-22 04_52_17_649546.bin</td>\n",
       "      <td>0.969274</td>\n",
       "    </tr>\n",
       "    <tr>\n",
       "      <th>16</th>\n",
       "      <td>outputs\\re\\test_evaluated\\BioBERT_fc2020-11-22 08_15_02_596134.bin</td>\n",
       "      <td>0.967452</td>\n",
       "    </tr>\n",
       "    <tr>\n",
       "      <th>17</th>\n",
       "      <td>outputs\\re\\test_evaluated\\BioBERT_fc2020-11-22 10_36_33_240569.bin</td>\n",
       "      <td>0.967906</td>\n",
       "    </tr>\n",
       "    <tr>\n",
       "      <th>18</th>\n",
       "      <td>outputs\\re\\test_evaluated\\BioBERT_fc2020-11-22 23_49_51_449255.bin</td>\n",
       "      <td>0.966069</td>\n",
       "    </tr>\n",
       "    <tr>\n",
       "      <th>19</th>\n",
       "      <td>outputs\\re\\test_evaluated\\BioBERT_fc2020-11-23 02_11_58_926877.bin</td>\n",
       "      <td>0.964982</td>\n",
       "    </tr>\n",
       "  </tbody>\n",
       "</table>\n",
       "</div>"
      ],
      "text/plain": [
       "                                                               file_namae  \\\n",
       "0                     outputs\\re\\BioBERT_fc2020-11-25 01_06_44_926278.bin   \n",
       "1                     outputs\\re\\BioBERT_fc2020-11-25 04_15_53_420251.bin   \n",
       "2   outputs\\re\\test_evaluated\\BERT_Sequence2020-11-16 22_21_41_536138.bin   \n",
       "3   outputs\\re\\test_evaluated\\BERT_Sequence2020-11-20 04_03_11_148846.bin   \n",
       "4   outputs\\re\\test_evaluated\\BERT_Sequence2020-11-20 12_33_00_408665.bin   \n",
       "5                           outputs\\re\\test_evaluated\\BioBERT_5epochs.bin   \n",
       "6                    outputs\\re\\test_evaluated\\BioBERT_5epochs_256seq.bin   \n",
       "7      outputs\\re\\test_evaluated\\BioBERT_fc2020-11-16 00_40_57_659995.bin   \n",
       "8      outputs\\re\\test_evaluated\\BioBERT_fc2020-11-16 03_37_07_579463.bin   \n",
       "9      outputs\\re\\test_evaluated\\BioBERT_fc2020-11-16 16_17_55_396529.bin   \n",
       "10     outputs\\re\\test_evaluated\\BioBERT_fc2020-11-16 20_17_53_374127.bin   \n",
       "11     outputs\\re\\test_evaluated\\BioBERT_fc2020-11-20 01_41_02_300023.bin   \n",
       "12     outputs\\re\\test_evaluated\\BioBERT_fc2020-11-20 08_58_14_655591.bin   \n",
       "13     outputs\\re\\test_evaluated\\BioBERT_fc2020-11-21 22_06_59_632738.bin   \n",
       "14     outputs\\re\\test_evaluated\\BioBERT_fc2020-11-22 01_29_37_863601.bin   \n",
       "15     outputs\\re\\test_evaluated\\BioBERT_fc2020-11-22 04_52_17_649546.bin   \n",
       "16     outputs\\re\\test_evaluated\\BioBERT_fc2020-11-22 08_15_02_596134.bin   \n",
       "17     outputs\\re\\test_evaluated\\BioBERT_fc2020-11-22 10_36_33_240569.bin   \n",
       "18     outputs\\re\\test_evaluated\\BioBERT_fc2020-11-22 23_49_51_449255.bin   \n",
       "19     outputs\\re\\test_evaluated\\BioBERT_fc2020-11-23 02_11_58_926877.bin   \n",
       "\n",
       "    f1-score  \n",
       "0   0.966591  \n",
       "1   0.967590  \n",
       "2   0.961873  \n",
       "3   0.962464  \n",
       "4   0.962988  \n",
       "5   0.965785  \n",
       "6   0.966362  \n",
       "7   0.950330  \n",
       "8   0.966757  \n",
       "9   0.967060  \n",
       "10  0.965946  \n",
       "11  0.965655  \n",
       "12  0.967093  \n",
       "13  0.965559  \n",
       "14  0.964774  \n",
       "15  0.969274  \n",
       "16  0.967452  \n",
       "17  0.967906  \n",
       "18  0.966069  \n",
       "19  0.964982  "
      ]
     },
     "execution_count": 7,
     "metadata": {},
     "output_type": "execute_result"
    }
   ],
   "source": [
    "pd.set_option('display.max_colwidth', 120)\n",
    "columns = ['file_namae', 'f1-score']\n",
    "test_results= pd.DataFrame(f1_score_list, columns = columns)\n",
    "test_results"
   ]
  },
  {
   "cell_type": "code",
   "execution_count": null,
   "metadata": {},
   "outputs": [],
   "source": [
    "# print (\"F1 Score summary \\n\")  \n",
    "# ax = plt.gca()\n",
    "# ax.get_xaxis().set_visible(False)\n",
    "# ax.get_yaxis().set_visible(False)\n",
    "# plt.box(on=None)\n",
    "# plt.figure(figsize=(14,6))\n",
    "# the_table = plt.table(cellText=f1_score_list,\n",
    "#                       colLabels=['file name', 'F1-score'],\n",
    "#                       loc='center')\n",
    "# the_table.auto_set_font_size(False)\n",
    "# the_table.set_fontsize(10)"
   ]
  },
  {
   "cell_type": "code",
   "execution_count": null,
   "metadata": {},
   "outputs": [],
   "source": []
  }
 ],
 "metadata": {
  "kernelspec": {
   "display_name": "Python 3",
   "language": "python",
   "name": "python3"
  },
  "language_info": {
   "codemirror_mode": {
    "name": "ipython",
    "version": 3
   },
   "file_extension": ".py",
   "mimetype": "text/x-python",
   "name": "python",
   "nbconvert_exporter": "python",
   "pygments_lexer": "ipython3",
   "version": "3.8.3"
  }
 },
 "nbformat": 4,
 "nbformat_minor": 4
}
