{
 "cells": [
  {
   "cell_type": "code",
   "execution_count": 1,
   "metadata": {},
   "outputs": [],
   "source": [
    "%load_ext autoreload\n",
    "%autoreload\n",
    "import os, json,glob,sys,io\n",
    "from types import SimpleNamespace\n",
    "from experiment import run_model\n",
    "from eval import calculate_stats, eval_model\n",
    "import pickle\n",
    "from datetime import datetime \n",
    "import torch\n",
    "from transformers import BertTokenizer\n",
    "from model.MedClinical import Biobert_fc \n",
    "from sklearn.metrics import classification_report, f1_score\n",
    "from util.tools  import *\n",
    "from util.DataLoader  import *\n",
    "from pathlib import Path, PureWindowsPath, PurePosixPath\n"
   ]
  },
  {
   "cell_type": "code",
   "execution_count": 2,
   "metadata": {},
   "outputs": [],
   "source": [
    "device = torch.device(\"cuda\" if torch.cuda.is_available() else \"cpu\")\n",
    "# device = \"cpu\""
   ]
  },
  {
   "cell_type": "code",
   "execution_count": 3,
   "metadata": {},
   "outputs": [],
   "source": [
    "config_folder = \"config/\"\n",
    "\n",
    "class obj(object):\n",
    "    def __init__(self, d):\n",
    "        for a, b in d.items():\n",
    "            if isinstance(b, (list, tuple)):\n",
    "               setattr(self, a, [obj(x) if isinstance(x, dict) else x for x in b])\n",
    "            else:\n",
    "               setattr(self, a, obj(b) if isinstance(b, dict) else b)\n",
    "\n",
    "with open(os.path.join(config_folder, \"config.json\")) as f:\n",
    "    config = obj(json.load(f))"
   ]
  },
  {
   "cell_type": "code",
   "execution_count": 4,
   "metadata": {},
   "outputs": [
    {
     "name": "stderr",
     "output_type": "stream",
     "text": [
      "INFO:root:***** Running training *****\n",
      "INFO:root:  Num examples = 100\n",
      "INFO:root:  Batch size = 12\n",
      "INFO:root:  Num steps = 80\n"
     ]
    }
   ],
   "source": [
    "dataprocessor = MultiClassificationProcessor()\n",
    "test_dataloader, dev_data_len, dev_num_labels, dev_num_train_optimization_steps, all_dev_label_ids = dataprocessor.get_data_loader(config,source='test')    "
   ]
  },
  {
   "cell_type": "code",
   "execution_count": 6,
   "metadata": {},
   "outputs": [
    {
     "name": "stdout",
     "output_type": "stream",
     "text": [
      "\n",
      " Model file:  outputs\\re\\BERT_Sequence2020-11-15 15_34_27_348184.bin\n"
     ]
    },
    {
     "data": {
      "application/vnd.jupyter.widget-view+json": {
       "model_id": "05b4952b4c1b47bf8da76748138ec5bc",
       "version_major": 2,
       "version_minor": 0
      },
      "text/plain": [
       "HBox(children=(FloatProgress(value=0.0, description='Evaluating', max=9.0, style=ProgressStyle(description_wid…"
      ]
     },
     "metadata": {},
     "output_type": "display_data"
    },
    {
     "name": "stdout",
     "output_type": "stream",
     "text": [
      "\n",
      "Failed due to cpu & GPU incompatibility\n",
      "\n",
      " Model file:  outputs\\re\\BERT_Sequence2020-11-15 18_33_16_910419.bin\n"
     ]
    },
    {
     "data": {
      "application/vnd.jupyter.widget-view+json": {
       "model_id": "28dfdac761c74dbca274c160c6023f9c",
       "version_major": 2,
       "version_minor": 0
      },
      "text/plain": [
       "HBox(children=(FloatProgress(value=0.0, description='Evaluating', max=9.0, style=ProgressStyle(description_wid…"
      ]
     },
     "metadata": {},
     "output_type": "display_data"
    },
    {
     "name": "stdout",
     "output_type": "stream",
     "text": [
      "\n",
      "Failed due to cpu & GPU incompatibility\n",
      "\n",
      " Model file:  outputs\\re\\BERT_Sequence2020-11-16 05_43_28_786014.bin\n"
     ]
    },
    {
     "data": {
      "application/vnd.jupyter.widget-view+json": {
       "model_id": "f9dd66d367ec4f2a9b3f5be5321fcef0",
       "version_major": 2,
       "version_minor": 0
      },
      "text/plain": [
       "HBox(children=(FloatProgress(value=0.0, description='Evaluating', max=9.0, style=ProgressStyle(description_wid…"
      ]
     },
     "metadata": {},
     "output_type": "display_data"
    },
    {
     "name": "stdout",
     "output_type": "stream",
     "text": [
      "\n",
      "              precision    recall  f1-score   support\n",
      "\n",
      "           0       0.67      0.80      0.73         5\n",
      "           1       0.75      0.60      0.67         5\n",
      "           2       1.00      1.00      1.00         1\n",
      "           3       1.00      1.00      1.00         7\n",
      "           4       1.00      1.00      1.00         1\n",
      "           5       0.00      0.00      0.00         2\n",
      "           7       1.00      0.75      0.86         8\n",
      "           8       0.95      1.00      0.97        71\n",
      "\n",
      "    accuracy                           0.93       100\n",
      "   macro avg       0.80      0.77      0.78       100\n",
      "weighted avg       0.91      0.93      0.92       100\n",
      "\n",
      "\n",
      " \n",
      " \n",
      "\n",
      "Failed due to cpu & GPU incompatibility\n",
      "\n",
      " Model file:  outputs\\re\\BERT_Sequence2020-11-16 10_27_50_320534.bin\n"
     ]
    },
    {
     "name": "stderr",
     "output_type": "stream",
     "text": [
      "C:\\ProgramData\\Anaconda3\\lib\\site-packages\\sklearn\\metrics\\_classification.py:1221: UndefinedMetricWarning: Precision and F-score are ill-defined and being set to 0.0 in labels with no predicted samples. Use `zero_division` parameter to control this behavior.\n",
      "  _warn_prf(average, modifier, msg_start, len(result))\n"
     ]
    },
    {
     "data": {
      "application/vnd.jupyter.widget-view+json": {
       "model_id": "577658c2718e47ffaeeed7615da7afbe",
       "version_major": 2,
       "version_minor": 0
      },
      "text/plain": [
       "HBox(children=(FloatProgress(value=0.0, description='Evaluating', max=9.0, style=ProgressStyle(description_wid…"
      ]
     },
     "metadata": {},
     "output_type": "display_data"
    },
    {
     "name": "stdout",
     "output_type": "stream",
     "text": [
      "\n",
      "Failed due to cpu & GPU incompatibility\n",
      "\n",
      " Model file:  outputs\\re\\BERT_Sequence2020-11-16 22_21_41_536138.bin\n"
     ]
    },
    {
     "data": {
      "application/vnd.jupyter.widget-view+json": {
       "model_id": "3fd978e8417d4cc2a3b5060cc6e89cf6",
       "version_major": 2,
       "version_minor": 0
      },
      "text/plain": [
       "HBox(children=(FloatProgress(value=0.0, description='Evaluating', max=9.0, style=ProgressStyle(description_wid…"
      ]
     },
     "metadata": {},
     "output_type": "display_data"
    },
    {
     "name": "stdout",
     "output_type": "stream",
     "text": [
      "\n",
      "              precision    recall  f1-score   support\n",
      "\n",
      "           0       1.00      0.80      0.89         5\n",
      "           1       0.80      0.80      0.80         5\n",
      "           2       1.00      1.00      1.00         1\n",
      "           3       1.00      1.00      1.00         7\n",
      "           4       1.00      1.00      1.00         1\n",
      "           5       0.00      0.00      0.00         2\n",
      "           7       1.00      0.88      0.93         8\n",
      "           8       0.95      1.00      0.97        71\n",
      "\n",
      "    accuracy                           0.95       100\n",
      "   macro avg       0.84      0.81      0.82       100\n",
      "weighted avg       0.93      0.95      0.94       100\n",
      "\n",
      "\n",
      " \n",
      " \n",
      "\n",
      "Failed due to cpu & GPU incompatibility\n",
      "\n",
      " Model file:  outputs\\re\\BERT_Sequence2020-11-20 04_03_11_148846.bin\n"
     ]
    },
    {
     "data": {
      "application/vnd.jupyter.widget-view+json": {
       "model_id": "79ceffc1963840579338370703dc1903",
       "version_major": 2,
       "version_minor": 0
      },
      "text/plain": [
       "HBox(children=(FloatProgress(value=0.0, description='Evaluating', max=9.0, style=ProgressStyle(description_wid…"
      ]
     },
     "metadata": {},
     "output_type": "display_data"
    },
    {
     "name": "stdout",
     "output_type": "stream",
     "text": [
      "\n",
      "              precision    recall  f1-score   support\n",
      "\n",
      "           0       0.80      0.80      0.80         5\n",
      "           1       0.75      0.60      0.67         5\n",
      "           2       1.00      1.00      1.00         1\n",
      "           3       1.00      1.00      1.00         7\n",
      "           4       1.00      1.00      1.00         1\n",
      "           5       0.00      0.00      0.00         2\n",
      "           7       1.00      0.88      0.93         8\n",
      "           8       0.95      1.00      0.97        71\n",
      "\n",
      "    accuracy                           0.94       100\n",
      "   macro avg       0.81      0.78      0.80       100\n",
      "weighted avg       0.92      0.94      0.93       100\n",
      "\n",
      "\n",
      " \n",
      " \n",
      "\n",
      "Failed due to cpu & GPU incompatibility\n",
      "\n",
      " Model file:  outputs\\re\\BERT_Sequence2020-11-20 12_33_00_408665.bin\n"
     ]
    },
    {
     "data": {
      "application/vnd.jupyter.widget-view+json": {
       "model_id": "c2548ee2a29544ba81daae75ffd179c9",
       "version_major": 2,
       "version_minor": 0
      },
      "text/plain": [
       "HBox(children=(FloatProgress(value=0.0, description='Evaluating', max=9.0, style=ProgressStyle(description_wid…"
      ]
     },
     "metadata": {},
     "output_type": "display_data"
    },
    {
     "name": "stdout",
     "output_type": "stream",
     "text": [
      "\n",
      "              precision    recall  f1-score   support\n",
      "\n",
      "           0       1.00      0.80      0.89         5\n",
      "           1       0.80      0.80      0.80         5\n",
      "           2       1.00      1.00      1.00         1\n",
      "           3       1.00      1.00      1.00         7\n",
      "           4       1.00      1.00      1.00         1\n",
      "           5       0.00      0.00      0.00         2\n",
      "           7       1.00      0.88      0.93         8\n",
      "           8       0.95      1.00      0.97        71\n",
      "\n",
      "    accuracy                           0.95       100\n",
      "   macro avg       0.84      0.81      0.82       100\n",
      "weighted avg       0.93      0.95      0.94       100\n",
      "\n",
      "\n",
      " \n",
      " \n",
      "\n",
      "Failed due to cpu & GPU incompatibility\n",
      "\n",
      " Model file:  outputs\\re\\BioBERT2020-11-15 15_04_20_814323.bin\n"
     ]
    },
    {
     "data": {
      "application/vnd.jupyter.widget-view+json": {
       "model_id": "176ce2177a594071bc0c717e5e73855b",
       "version_major": 2,
       "version_minor": 0
      },
      "text/plain": [
       "HBox(children=(FloatProgress(value=0.0, description='Evaluating', max=9.0, style=ProgressStyle(description_wid…"
      ]
     },
     "metadata": {},
     "output_type": "display_data"
    },
    {
     "name": "stdout",
     "output_type": "stream",
     "text": [
      "\n",
      "Failed due to cpu & GPU incompatibility\n",
      "\n",
      " Model file:  outputs\\re\\BioBERT2020-11-15 15_10_05_603490.bin\n"
     ]
    },
    {
     "data": {
      "application/vnd.jupyter.widget-view+json": {
       "model_id": "8a7bbbdbd75e44af8728e0961b5e9a81",
       "version_major": 2,
       "version_minor": 0
      },
      "text/plain": [
       "HBox(children=(FloatProgress(value=0.0, description='Evaluating', max=9.0, style=ProgressStyle(description_wid…"
      ]
     },
     "metadata": {},
     "output_type": "display_data"
    },
    {
     "name": "stdout",
     "output_type": "stream",
     "text": [
      "\n",
      "Failed due to cpu & GPU incompatibility\n",
      "\n",
      " Model file:  outputs\\re\\BioBERT2020-11-15 15_11_59_648261.bin\n"
     ]
    },
    {
     "data": {
      "application/vnd.jupyter.widget-view+json": {
       "model_id": "fa4f9581f63844af85057f73b7fe966e",
       "version_major": 2,
       "version_minor": 0
      },
      "text/plain": [
       "HBox(children=(FloatProgress(value=0.0, description='Evaluating', max=9.0, style=ProgressStyle(description_wid…"
      ]
     },
     "metadata": {},
     "output_type": "display_data"
    },
    {
     "name": "stdout",
     "output_type": "stream",
     "text": [
      "\n",
      "Failed due to cpu & GPU incompatibility\n",
      "\n",
      " Model file:  outputs\\re\\BioBERT2020-11-15 15_13_41_384476.bin\n"
     ]
    },
    {
     "data": {
      "application/vnd.jupyter.widget-view+json": {
       "model_id": "4bf18f9744104c1ca289827c9269a0e9",
       "version_major": 2,
       "version_minor": 0
      },
      "text/plain": [
       "HBox(children=(FloatProgress(value=0.0, description='Evaluating', max=9.0, style=ProgressStyle(description_wid…"
      ]
     },
     "metadata": {},
     "output_type": "display_data"
    },
    {
     "name": "stdout",
     "output_type": "stream",
     "text": [
      "\n",
      "Failed due to cpu & GPU incompatibility\n",
      "\n",
      " Model file:  outputs\\re\\BioBERT2020-11-15 15_15_35_047604.bin\n"
     ]
    },
    {
     "data": {
      "application/vnd.jupyter.widget-view+json": {
       "model_id": "f40810cca3124e0cac7efe01106631c6",
       "version_major": 2,
       "version_minor": 0
      },
      "text/plain": [
       "HBox(children=(FloatProgress(value=0.0, description='Evaluating', max=9.0, style=ProgressStyle(description_wid…"
      ]
     },
     "metadata": {},
     "output_type": "display_data"
    },
    {
     "name": "stdout",
     "output_type": "stream",
     "text": [
      "\n",
      "Failed due to cpu & GPU incompatibility\n",
      "\n",
      " Model file:  outputs\\re\\BioBERT_fc2020-11-15 15_33_17_032647.bin\n"
     ]
    },
    {
     "data": {
      "application/vnd.jupyter.widget-view+json": {
       "model_id": "77b684e59c0348cfa56ca6af9ca97b50",
       "version_major": 2,
       "version_minor": 0
      },
      "text/plain": [
       "HBox(children=(FloatProgress(value=0.0, description='Evaluating', max=9.0, style=ProgressStyle(description_wid…"
      ]
     },
     "metadata": {},
     "output_type": "display_data"
    },
    {
     "name": "stdout",
     "output_type": "stream",
     "text": [
      "\n",
      "Failed due to cpu & GPU incompatibility\n",
      "\n",
      " Model file:  outputs\\re\\BioBERT_fc2020-11-15 18_25_59_192174.bin\n"
     ]
    },
    {
     "data": {
      "application/vnd.jupyter.widget-view+json": {
       "model_id": "1edd475d88314620be6439b94cb22243",
       "version_major": 2,
       "version_minor": 0
      },
      "text/plain": [
       "HBox(children=(FloatProgress(value=0.0, description='Evaluating', max=9.0, style=ProgressStyle(description_wid…"
      ]
     },
     "metadata": {},
     "output_type": "display_data"
    },
    {
     "name": "stdout",
     "output_type": "stream",
     "text": [
      "\n",
      "Failed due to cpu & GPU incompatibility\n",
      "\n",
      " Model file:  outputs\\re\\BioBERT_fc2020-11-15 21_37_11_126799.bin\n"
     ]
    },
    {
     "data": {
      "application/vnd.jupyter.widget-view+json": {
       "model_id": "e68e5cd381394522bc4221a4b6d9c0d3",
       "version_major": 2,
       "version_minor": 0
      },
      "text/plain": [
       "HBox(children=(FloatProgress(value=0.0, description='Evaluating', max=9.0, style=ProgressStyle(description_wid…"
      ]
     },
     "metadata": {},
     "output_type": "display_data"
    },
    {
     "name": "stdout",
     "output_type": "stream",
     "text": [
      "\n",
      "Failed due to cpu & GPU incompatibility\n",
      "\n",
      " Model file:  outputs\\re\\BioBERT_fc2020-11-16 00_40_57_659995.bin\n"
     ]
    },
    {
     "data": {
      "application/vnd.jupyter.widget-view+json": {
       "model_id": "eafc06f763224198a0a0aa9433114715",
       "version_major": 2,
       "version_minor": 0
      },
      "text/plain": [
       "HBox(children=(FloatProgress(value=0.0, description='Evaluating', max=9.0, style=ProgressStyle(description_wid…"
      ]
     },
     "metadata": {},
     "output_type": "display_data"
    },
    {
     "name": "stdout",
     "output_type": "stream",
     "text": [
      "\n",
      "              precision    recall  f1-score   support\n",
      "\n",
      "           0       0.67      0.80      0.73         5\n",
      "           1       0.67      0.40      0.50         5\n",
      "           2       1.00      1.00      1.00         1\n",
      "           3       0.86      0.86      0.86         7\n",
      "           4       0.50      1.00      0.67         1\n",
      "           5       0.00      0.00      0.00         2\n",
      "           7       1.00      0.75      0.86         8\n",
      "           8       0.95      1.00      0.97        71\n",
      "\n",
      "    accuracy                           0.91       100\n",
      "   macro avg       0.70      0.73      0.70       100\n",
      "weighted avg       0.89      0.91      0.90       100\n",
      "\n",
      "\n",
      " \n",
      " \n",
      "\n",
      "Failed due to cpu & GPU incompatibility\n",
      "\n",
      " Model file:  outputs\\re\\BioBERT_fc2020-11-16 03_37_07_579463.bin\n"
     ]
    },
    {
     "data": {
      "application/vnd.jupyter.widget-view+json": {
       "model_id": "37da68f387554f11985809e2d2483103",
       "version_major": 2,
       "version_minor": 0
      },
      "text/plain": [
       "HBox(children=(FloatProgress(value=0.0, description='Evaluating', max=9.0, style=ProgressStyle(description_wid…"
      ]
     },
     "metadata": {},
     "output_type": "display_data"
    },
    {
     "name": "stdout",
     "output_type": "stream",
     "text": [
      "\n",
      "              precision    recall  f1-score   support\n",
      "\n",
      "           0       1.00      0.80      0.89         5\n",
      "           1       0.80      0.80      0.80         5\n",
      "           2       1.00      1.00      1.00         1\n",
      "           3       1.00      1.00      1.00         7\n",
      "           4       1.00      1.00      1.00         1\n",
      "           5       0.00      0.00      0.00         2\n",
      "           7       1.00      0.88      0.93         8\n",
      "           8       0.95      1.00      0.97        71\n",
      "\n",
      "    accuracy                           0.95       100\n",
      "   macro avg       0.84      0.81      0.82       100\n",
      "weighted avg       0.93      0.95      0.94       100\n",
      "\n",
      "\n",
      " \n",
      " \n",
      "\n",
      "Failed due to cpu & GPU incompatibility\n",
      "\n",
      " Model file:  outputs\\re\\BioBERT_fc2020-11-16 09_42_50_419072.bin\n"
     ]
    },
    {
     "data": {
      "application/vnd.jupyter.widget-view+json": {
       "model_id": "4c351b70d57f4a3ea67d148ac8e61e15",
       "version_major": 2,
       "version_minor": 0
      },
      "text/plain": [
       "HBox(children=(FloatProgress(value=0.0, description='Evaluating', max=9.0, style=ProgressStyle(description_wid…"
      ]
     },
     "metadata": {},
     "output_type": "display_data"
    },
    {
     "name": "stdout",
     "output_type": "stream",
     "text": [
      "\n",
      "Failed due to cpu & GPU incompatibility\n",
      "\n",
      " Model file:  outputs\\re\\BioBERT_fc2020-11-16 09_54_01_216248.bin\n"
     ]
    },
    {
     "data": {
      "application/vnd.jupyter.widget-view+json": {
       "model_id": "95ae22d7a1d74801ae29761e4d2c5085",
       "version_major": 2,
       "version_minor": 0
      },
      "text/plain": [
       "HBox(children=(FloatProgress(value=0.0, description='Evaluating', max=9.0, style=ProgressStyle(description_wid…"
      ]
     },
     "metadata": {},
     "output_type": "display_data"
    },
    {
     "name": "stdout",
     "output_type": "stream",
     "text": [
      "\n",
      "Failed due to cpu & GPU incompatibility\n",
      "\n",
      " Model file:  outputs\\re\\BioBERT_fc2020-11-16 10_17_23_898361.bin\n"
     ]
    },
    {
     "data": {
      "application/vnd.jupyter.widget-view+json": {
       "model_id": "7b120417e18d4004a577f4b35c630f31",
       "version_major": 2,
       "version_minor": 0
      },
      "text/plain": [
       "HBox(children=(FloatProgress(value=0.0, description='Evaluating', max=9.0, style=ProgressStyle(description_wid…"
      ]
     },
     "metadata": {},
     "output_type": "display_data"
    },
    {
     "name": "stdout",
     "output_type": "stream",
     "text": [
      "\n",
      "Failed due to cpu & GPU incompatibility\n",
      "\n",
      " Model file:  outputs\\re\\BioBERT_fc2020-11-16 16_17_55_396529.bin\n"
     ]
    },
    {
     "data": {
      "application/vnd.jupyter.widget-view+json": {
       "model_id": "fe323c6362024e30b6af8b6f330ba158",
       "version_major": 2,
       "version_minor": 0
      },
      "text/plain": [
       "HBox(children=(FloatProgress(value=0.0, description='Evaluating', max=9.0, style=ProgressStyle(description_wid…"
      ]
     },
     "metadata": {},
     "output_type": "display_data"
    },
    {
     "name": "stdout",
     "output_type": "stream",
     "text": [
      "\n",
      "              precision    recall  f1-score   support\n",
      "\n",
      "           0       0.80      0.80      0.80         5\n",
      "           1       1.00      0.80      0.89         5\n",
      "           2       1.00      1.00      1.00         1\n",
      "           3       1.00      1.00      1.00         7\n",
      "           4       1.00      1.00      1.00         1\n",
      "           5       0.00      0.00      0.00         2\n",
      "           7       1.00      0.88      0.93         8\n",
      "           8       0.95      1.00      0.97        71\n",
      "\n",
      "    accuracy                           0.95       100\n",
      "   macro avg       0.84      0.81      0.82       100\n",
      "weighted avg       0.93      0.95      0.94       100\n",
      "\n",
      "\n",
      " \n",
      " \n",
      "\n",
      "Failed due to cpu & GPU incompatibility\n",
      "\n",
      " Model file:  outputs\\re\\BioBERT_fc2020-11-16 20_17_53_374127.bin\n"
     ]
    },
    {
     "data": {
      "application/vnd.jupyter.widget-view+json": {
       "model_id": "d5f4f753146e49ec91ab45e4de86fd42",
       "version_major": 2,
       "version_minor": 0
      },
      "text/plain": [
       "HBox(children=(FloatProgress(value=0.0, description='Evaluating', max=9.0, style=ProgressStyle(description_wid…"
      ]
     },
     "metadata": {},
     "output_type": "display_data"
    },
    {
     "name": "stdout",
     "output_type": "stream",
     "text": [
      "\n",
      "              precision    recall  f1-score   support\n",
      "\n",
      "           0       0.80      0.80      0.80         5\n",
      "           1       1.00      0.60      0.75         5\n",
      "           2       1.00      1.00      1.00         1\n",
      "           3       0.88      1.00      0.93         7\n",
      "           4       1.00      1.00      1.00         1\n",
      "           5       0.00      0.00      0.00         2\n",
      "           7       1.00      0.88      0.93         8\n",
      "           8       0.95      1.00      0.97        71\n",
      "\n",
      "    accuracy                           0.94       100\n",
      "   macro avg       0.83      0.78      0.80       100\n",
      "weighted avg       0.92      0.94      0.93       100\n",
      "\n",
      "\n",
      " \n",
      " \n",
      "\n",
      "Failed due to cpu & GPU incompatibility\n",
      "\n",
      " Model file:  outputs\\re\\BioBERT_fc2020-11-18 22_27_54_195406.bin\n"
     ]
    },
    {
     "data": {
      "application/vnd.jupyter.widget-view+json": {
       "model_id": "12519586cbfb4bbc988dbead2a1e200b",
       "version_major": 2,
       "version_minor": 0
      },
      "text/plain": [
       "HBox(children=(FloatProgress(value=0.0, description='Evaluating', max=9.0, style=ProgressStyle(description_wid…"
      ]
     },
     "metadata": {},
     "output_type": "display_data"
    },
    {
     "name": "stdout",
     "output_type": "stream",
     "text": [
      "\n",
      "Failed due to cpu & GPU incompatibility\n",
      "\n",
      " Model file:  outputs\\re\\BioBERT_fc2020-11-20 01_41_02_300023.bin\n"
     ]
    },
    {
     "data": {
      "application/vnd.jupyter.widget-view+json": {
       "model_id": "123d49e3bcee436b88c7269bf2261e96",
       "version_major": 2,
       "version_minor": 0
      },
      "text/plain": [
       "HBox(children=(FloatProgress(value=0.0, description='Evaluating', max=9.0, style=ProgressStyle(description_wid…"
      ]
     },
     "metadata": {},
     "output_type": "display_data"
    },
    {
     "name": "stdout",
     "output_type": "stream",
     "text": [
      "\n",
      "              precision    recall  f1-score   support\n",
      "\n",
      "           0       1.00      0.80      0.89         5\n",
      "           1       0.80      0.80      0.80         5\n",
      "           2       1.00      1.00      1.00         1\n",
      "           3       1.00      1.00      1.00         7\n",
      "           4       1.00      1.00      1.00         1\n",
      "           5       0.00      0.00      0.00         2\n",
      "           7       1.00      0.88      0.93         8\n",
      "           8       0.95      1.00      0.97        71\n",
      "\n",
      "    accuracy                           0.95       100\n",
      "   macro avg       0.84      0.81      0.82       100\n",
      "weighted avg       0.93      0.95      0.94       100\n",
      "\n",
      "\n",
      " \n",
      " \n",
      "\n",
      "Failed due to cpu & GPU incompatibility\n",
      "\n",
      " Model file:  outputs\\re\\BioBERT_fc2020-11-20 08_58_14_655591.bin\n"
     ]
    },
    {
     "data": {
      "application/vnd.jupyter.widget-view+json": {
       "model_id": "1b67addfcd8a4a0f9a3994c72f2fac72",
       "version_major": 2,
       "version_minor": 0
      },
      "text/plain": [
       "HBox(children=(FloatProgress(value=0.0, description='Evaluating', max=9.0, style=ProgressStyle(description_wid…"
      ]
     },
     "metadata": {},
     "output_type": "display_data"
    },
    {
     "name": "stdout",
     "output_type": "stream",
     "text": [
      "\n",
      "              precision    recall  f1-score   support\n",
      "\n",
      "           0       0.80      0.80      0.80         5\n",
      "           1       1.00      0.80      0.89         5\n",
      "           2       1.00      1.00      1.00         1\n",
      "           3       1.00      1.00      1.00         7\n",
      "           4       1.00      1.00      1.00         1\n",
      "           5       0.00      0.00      0.00         2\n",
      "           7       1.00      0.88      0.93         8\n",
      "           8       0.95      1.00      0.97        71\n",
      "\n",
      "    accuracy                           0.95       100\n",
      "   macro avg       0.84      0.81      0.82       100\n",
      "weighted avg       0.93      0.95      0.94       100\n",
      "\n",
      "\n",
      " \n",
      " \n",
      "\n",
      "Failed due to cpu & GPU incompatibility\n",
      "\n",
      " \n",
      " \n",
      "\n",
      "F1 Score summary \n",
      "\n",
      "[]\n"
     ]
    }
   ],
   "source": [
    "models_folder_name = config.programsettings.OUTPUT_DIR\n",
    "data_folder = Path(models_folder_name)\n",
    "list_model_files = list(data_folder.glob('**/*.bin'))\n",
    "num_labels = 9\n",
    "\n",
    "f1_score_list = []\n",
    "for model_file in list_model_files:\n",
    "    try:\n",
    "        \n",
    "        print(\"\\n Model file: \", model_file)\n",
    "        model = torch.load(model_file)\n",
    "        x =model.eval()\n",
    "        test_inputs, test_preds, test_labels, test_loss = eval_model( model, test_dataloader, device, num_labels)  \n",
    "        print(classification_report(test_labels,test_preds ))\n",
    "        print(\"\\n \\n \\n\")\n",
    "        f1_score_list.append([model_file, f1_score(test_labels, test_preds)])\n",
    "        \n",
    "    except:\n",
    "        print(\"Failed due to cpu & GPU incompatibility\")\n",
    "\n",
    "print(\"\\n \\n \\n\")\n",
    "print (\"F1 Score summary \\n\")\n",
    "print (f1_score_list)"
   ]
  },
  {
   "cell_type": "code",
   "execution_count": null,
   "metadata": {},
   "outputs": [],
   "source": []
  }
 ],
 "metadata": {
  "kernelspec": {
   "display_name": "Python 3",
   "language": "python",
   "name": "python3"
  },
  "language_info": {
   "codemirror_mode": {
    "name": "ipython",
    "version": 3
   },
   "file_extension": ".py",
   "mimetype": "text/x-python",
   "name": "python",
   "nbconvert_exporter": "python",
   "pygments_lexer": "ipython3",
   "version": "3.8.3"
  }
 },
 "nbformat": 4,
 "nbformat_minor": 4
}
