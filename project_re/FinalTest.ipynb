{
 "cells": [
  {
   "cell_type": "code",
   "execution_count": 1,
   "metadata": {},
   "outputs": [],
   "source": [
    "%reload_ext autoreload\n",
    "%autoreload\n",
    "%matplotlib inline\n",
    "import os, json,glob,sys,io\n",
    "from types import SimpleNamespace\n",
    "from experiment import run_model\n",
    "from eval import calculate_stats, eval_model\n",
    "import pickle\n",
    "from datetime import datetime \n",
    "import torch\n",
    "from torch import nn\n",
    "from transformers import BertTokenizer\n",
    "from model.MedClinical import Biobert_fc \n",
    "from sklearn.metrics import classification_report, f1_score\n",
    "from util.tools  import load_config\n",
    "from util.DataLoader  import *\n",
    "from pathlib import Path, PureWindowsPath, PurePosixPath\n",
    "import traceback\n",
    "from matplotlib import pyplot as plt\n",
    "import pandas as pd"
   ]
  },
  {
   "cell_type": "code",
   "execution_count": 2,
   "metadata": {},
   "outputs": [],
   "source": [
    "device = torch.device(\"cuda\" if torch.cuda.is_available() else \"cpu\")\n",
    "# device = \"cpu\""
   ]
  },
  {
   "cell_type": "code",
   "execution_count": 3,
   "metadata": {},
   "outputs": [],
   "source": [
    "config_folder = \"config/\"\n",
    "config = load_config(config_folder)"
   ]
  },
  {
   "cell_type": "code",
   "execution_count": 4,
   "metadata": {},
   "outputs": [
    {
     "name": "stderr",
     "output_type": "stream",
     "text": [
      "INFO:root:***** Running training *****\n",
      "INFO:root:  Num examples = 50010\n",
      "INFO:root:  Batch size = 24\n",
      "INFO:root:  Num steps = 20830\n"
     ]
    }
   ],
   "source": [
    "dataprocessor = MultiClassificationProcessor()\n",
    "test_dataloader, dev_data_len, dev_num_labels, dev_num_train_optimization_steps, all_dev_label_ids = dataprocessor.get_data_loader(config,source='test')    "
   ]
  },
  {
   "cell_type": "code",
   "execution_count": 5,
   "metadata": {},
   "outputs": [],
   "source": [
    "def save_missed_cases_to_file(file_name, preds, label_ids, inputs):\n",
    "    tokenizer = BertTokenizer.from_pretrained('bert-base-cased', do_lower_case=False)\n",
    "    missed_cases = []\n",
    "    for i in range(0,len(label_ids)):\n",
    "        if label_ids[i] !=  preds[i]:\n",
    "             missed_cases.append([ file_name, preds[i],  label_ids[i] , \" \". join (tokenizer.convert_ids_to_tokens(inputs[i])) ])\n",
    "\n",
    "    #Save into a file\n",
    "    missed_cases_file = config.programsettings.REPORTS_DIR +'test_results_' + str(datetime.now()).replace(\":\", \"_\").replace(\".\", \"_\") + \".pkl\"\n",
    "    with open(missed_cases_file, \"wb\") as f:\n",
    "        pickle.dump(missed_cases, f)  \n",
    "        \n",
    "    "
   ]
  },
  {
   "cell_type": "code",
   "execution_count": 6,
   "metadata": {},
   "outputs": [
    {
     "name": "stdout",
     "output_type": "stream",
     "text": [
      "\n",
      " Model file:  outputs\\re\\BioBERT_CNN_fc2020-11-28 09_52_32_142950.bin\n"
     ]
    },
    {
     "data": {
      "application/vnd.jupyter.widget-view+json": {
       "model_id": "34e2aa1842f24816bc86b592817e4995",
       "version_major": 2,
       "version_minor": 0
      },
      "text/plain": [
       "HBox(children=(FloatProgress(value=0.0, description='Evaluating', max=2084.0, style=ProgressStyle(description_…"
      ]
     },
     "metadata": {},
     "output_type": "display_data"
    },
    {
     "name": "stdout",
     "output_type": "stream",
     "text": [
      "\n",
      "              precision    recall  f1-score   support\n",
      "\n",
      "           0       0.81      0.98      0.89      3464\n",
      "           1       0.97      0.98      0.97      3723\n",
      "           2       0.97      0.98      0.98      4274\n",
      "           3       0.99      0.98      0.99      4090\n",
      "           4       0.96      0.96      0.96       420\n",
      "           5       0.98      0.95      0.96      3024\n",
      "           6       0.96      0.98      0.97      2802\n",
      "           7       0.00      0.00      0.00       775\n",
      "           8       1.00      1.00      1.00     27438\n",
      "\n",
      "    accuracy                           0.97     50010\n",
      "   macro avg       0.85      0.87      0.86     50010\n",
      "weighted avg       0.96      0.97      0.97     50010\n",
      "\n",
      "\n",
      " \n",
      " \n",
      "\n"
     ]
    },
    {
     "name": "stderr",
     "output_type": "stream",
     "text": [
      "C:\\ProgramData\\Anaconda3\\lib\\site-packages\\sklearn\\metrics\\_classification.py:1221: UndefinedMetricWarning: Precision and F-score are ill-defined and being set to 0.0 in labels with no predicted samples. Use `zero_division` parameter to control this behavior.\n",
      "  _warn_prf(average, modifier, msg_start, len(result))\n"
     ]
    },
    {
     "name": "stdout",
     "output_type": "stream",
     "text": [
      "\n",
      " Model file:  outputs\\re\\BioBERT_CNN_fc2020-11-28 12_39_05_806396.bin\n"
     ]
    },
    {
     "data": {
      "application/vnd.jupyter.widget-view+json": {
       "model_id": "4ea8c840f2644e14b9c0beb980487d8e",
       "version_major": 2,
       "version_minor": 0
      },
      "text/plain": [
       "HBox(children=(FloatProgress(value=0.0, description='Evaluating', max=2084.0, style=ProgressStyle(description_…"
      ]
     },
     "metadata": {},
     "output_type": "display_data"
    },
    {
     "name": "stdout",
     "output_type": "stream",
     "text": [
      "\n",
      "              precision    recall  f1-score   support\n",
      "\n",
      "           0       0.81      0.99      0.89      3464\n",
      "           1       0.97      0.98      0.98      3723\n",
      "           2       0.97      0.98      0.97      4274\n",
      "           3       0.99      0.98      0.99      4090\n",
      "           4       0.95      0.95      0.95       420\n",
      "           5       0.98      0.95      0.96      3024\n",
      "           6       0.96      0.98      0.97      2802\n",
      "           7       0.00      0.00      0.00       775\n",
      "           8       1.00      1.00      1.00     27438\n",
      "\n",
      "    accuracy                           0.97     50010\n",
      "   macro avg       0.85      0.87      0.86     50010\n",
      "weighted avg       0.96      0.97      0.97     50010\n",
      "\n",
      "\n",
      " \n",
      " \n",
      "\n",
      "\n",
      " Model file:  outputs\\re\\BioBERT_CNN_fc2020-11-28 15_25_44_081799.bin\n"
     ]
    },
    {
     "data": {
      "application/vnd.jupyter.widget-view+json": {
       "model_id": "3abb6e3483294918b21bf745b2bdea0e",
       "version_major": 2,
       "version_minor": 0
      },
      "text/plain": [
       "HBox(children=(FloatProgress(value=0.0, description='Evaluating', max=2084.0, style=ProgressStyle(description_…"
      ]
     },
     "metadata": {},
     "output_type": "display_data"
    },
    {
     "name": "stdout",
     "output_type": "stream",
     "text": [
      "\n",
      "              precision    recall  f1-score   support\n",
      "\n",
      "           0       0.81      0.99      0.89      3464\n",
      "           1       0.97      0.98      0.98      3723\n",
      "           2       0.97      0.98      0.98      4274\n",
      "           3       0.99      0.98      0.99      4090\n",
      "           4       0.95      0.97      0.96       420\n",
      "           5       0.98      0.95      0.96      3024\n",
      "           6       0.97      0.98      0.97      2802\n",
      "           7       0.00      0.00      0.00       775\n",
      "           8       1.00      1.00      1.00     27438\n",
      "\n",
      "    accuracy                           0.97     50010\n",
      "   macro avg       0.85      0.87      0.86     50010\n",
      "weighted avg       0.96      0.97      0.97     50010\n",
      "\n",
      "\n",
      " \n",
      " \n",
      "\n",
      "\n",
      " Model file:  outputs\\re\\BioBERT_fc2020-11-25 09_50_29_204646.bin\n"
     ]
    },
    {
     "data": {
      "application/vnd.jupyter.widget-view+json": {
       "model_id": "d205a528ee84474b8a7757584075a1ce",
       "version_major": 2,
       "version_minor": 0
      },
      "text/plain": [
       "HBox(children=(FloatProgress(value=0.0, description='Evaluating', max=2084.0, style=ProgressStyle(description_…"
      ]
     },
     "metadata": {},
     "output_type": "display_data"
    },
    {
     "name": "stdout",
     "output_type": "stream",
     "text": [
      "\n",
      "              precision    recall  f1-score   support\n",
      "\n",
      "           0       0.96      0.97      0.96      3464\n",
      "           1       0.98      0.98      0.98      3723\n",
      "           2       0.99      0.97      0.98      4274\n",
      "           3       0.99      0.98      0.99      4090\n",
      "           4       0.95      0.95      0.95       420\n",
      "           5       0.98      0.95      0.96      3024\n",
      "           6       0.97      0.98      0.97      2802\n",
      "           7       0.90      0.84      0.87       775\n",
      "           8       0.99      1.00      1.00     27438\n",
      "\n",
      "    accuracy                           0.99     50010\n",
      "   macro avg       0.97      0.96      0.96     50010\n",
      "weighted avg       0.99      0.99      0.99     50010\n",
      "\n",
      "\n",
      " \n",
      " \n",
      "\n",
      "\n",
      " Model file:  outputs\\re\\BioBERT_fc2020-11-25 12_55_42_931790.bin\n"
     ]
    },
    {
     "data": {
      "application/vnd.jupyter.widget-view+json": {
       "model_id": "025bb129d2f3424084afcd1f9ef00541",
       "version_major": 2,
       "version_minor": 0
      },
      "text/plain": [
       "HBox(children=(FloatProgress(value=0.0, description='Evaluating', max=2084.0, style=ProgressStyle(description_…"
      ]
     },
     "metadata": {},
     "output_type": "display_data"
    },
    {
     "name": "stdout",
     "output_type": "stream",
     "text": [
      "\n",
      "              precision    recall  f1-score   support\n",
      "\n",
      "           0       0.96      0.97      0.96      3464\n",
      "           1       0.97      0.98      0.97      3723\n",
      "           2       0.99      0.97      0.98      4274\n",
      "           3       0.99      0.98      0.99      4090\n",
      "           4       0.94      0.96      0.95       420\n",
      "           5       0.98      0.94      0.96      3024\n",
      "           6       0.97      0.98      0.97      2802\n",
      "           7       0.88      0.85      0.87       775\n",
      "           8       0.99      1.00      1.00     27438\n",
      "\n",
      "    accuracy                           0.99     50010\n",
      "   macro avg       0.96      0.96      0.96     50010\n",
      "weighted avg       0.98      0.99      0.98     50010\n",
      "\n",
      "\n",
      " \n",
      " \n",
      "\n",
      "\n",
      " Model file:  outputs\\re\\BioBERT_fc2020-11-25 17_55_47_519417.bin\n"
     ]
    },
    {
     "data": {
      "application/vnd.jupyter.widget-view+json": {
       "model_id": "6c52d32a8ed544a1958a17c716b2b743",
       "version_major": 2,
       "version_minor": 0
      },
      "text/plain": [
       "HBox(children=(FloatProgress(value=0.0, description='Evaluating', max=2084.0, style=ProgressStyle(description_…"
      ]
     },
     "metadata": {},
     "output_type": "display_data"
    },
    {
     "name": "stdout",
     "output_type": "stream",
     "text": [
      "\n",
      "              precision    recall  f1-score   support\n",
      "\n",
      "           0       0.95      0.97      0.96      3464\n",
      "           1       0.97      0.98      0.97      3723\n",
      "           2       0.99      0.97      0.98      4274\n",
      "           3       0.99      0.98      0.99      4090\n",
      "           4       0.95      0.96      0.95       420\n",
      "           5       0.98      0.94      0.96      3024\n",
      "           6       0.97      0.98      0.97      2802\n",
      "           7       0.91      0.83      0.87       775\n",
      "           8       0.99      1.00      1.00     27438\n",
      "\n",
      "    accuracy                           0.98     50010\n",
      "   macro avg       0.97      0.96      0.96     50010\n",
      "weighted avg       0.98      0.98      0.98     50010\n",
      "\n",
      "\n",
      " \n",
      " \n",
      "\n",
      "\n",
      " Model file:  outputs\\re\\BioBERT_fc2020-11-25 22_55_31_854296.bin\n"
     ]
    },
    {
     "data": {
      "application/vnd.jupyter.widget-view+json": {
       "model_id": "d10e24cfcfdf4f8e8c3462055944d7c2",
       "version_major": 2,
       "version_minor": 0
      },
      "text/plain": [
       "HBox(children=(FloatProgress(value=0.0, description='Evaluating', max=2084.0, style=ProgressStyle(description_…"
      ]
     },
     "metadata": {},
     "output_type": "display_data"
    },
    {
     "name": "stdout",
     "output_type": "stream",
     "text": [
      "\n",
      "              precision    recall  f1-score   support\n",
      "\n",
      "           0       0.96      0.97      0.96      3464\n",
      "           1       0.97      0.98      0.98      3723\n",
      "           2       0.99      0.97      0.98      4274\n",
      "           3       0.99      0.98      0.99      4090\n",
      "           4       0.95      0.96      0.96       420\n",
      "           5       0.98      0.94      0.96      3024\n",
      "           6       0.97      0.98      0.97      2802\n",
      "           7       0.89      0.86      0.88       775\n",
      "           8       0.99      1.00      1.00     27438\n",
      "\n",
      "    accuracy                           0.99     50010\n",
      "   macro avg       0.97      0.96      0.96     50010\n",
      "weighted avg       0.99      0.99      0.99     50010\n",
      "\n",
      "\n",
      " \n",
      " \n",
      "\n",
      "\n",
      " \n",
      " \n",
      "\n"
     ]
    }
   ],
   "source": [
    "models_folder_name = config.programsettings.OUTPUT_DIR\n",
    "data_folder = Path(models_folder_name)\n",
    "list_model_files = list(data_folder.glob('*.bin'))\n",
    "num_labels = 9\n",
    "\n",
    "f1_score_list = []\n",
    "for model_file in list_model_files:\n",
    "    try:\n",
    "        print(\"\\n Model file: \", model_file)\n",
    "        model = torch.load(model_file)\n",
    "#         model = nn.DataParallel(model)\n",
    "        x =model.eval()\n",
    "        test_inputs, test_preds, test_labels, test_loss = eval_model( config, model, test_dataloader, device, num_labels)  \n",
    "        print(classification_report(test_labels,test_preds ))\n",
    "        print(\"\\n \\n \\n\")\n",
    "        f1_value = f1_score(test_labels, test_preds,average='macro')\n",
    "        f1_score_list.append([model_file,f1_value ])\n",
    "        file_name = model_file.__str__().replace(\".\", \"_\") \n",
    "        save_missed_cases_to_file( file_name, test_preds, test_labels, test_inputs)\n",
    "        \n",
    "    except:\n",
    "#         print(\"Failed due to cpu & GPU incompatibility\")\n",
    "     # printing stack trace \n",
    "        traceback.print_exc()         \n",
    "\n",
    "print(\"\\n \\n \\n\")\n",
    "\n",
    "\n"
   ]
  },
  {
   "cell_type": "code",
   "execution_count": 7,
   "metadata": {},
   "outputs": [
    {
     "data": {
      "text/html": [
       "<div>\n",
       "<style scoped>\n",
       "    .dataframe tbody tr th:only-of-type {\n",
       "        vertical-align: middle;\n",
       "    }\n",
       "\n",
       "    .dataframe tbody tr th {\n",
       "        vertical-align: top;\n",
       "    }\n",
       "\n",
       "    .dataframe thead th {\n",
       "        text-align: right;\n",
       "    }\n",
       "</style>\n",
       "<table border=\"1\" class=\"dataframe\">\n",
       "  <thead>\n",
       "    <tr style=\"text-align: right;\">\n",
       "      <th></th>\n",
       "      <th>file_namae</th>\n",
       "      <th>f1-score</th>\n",
       "    </tr>\n",
       "  </thead>\n",
       "  <tbody>\n",
       "    <tr>\n",
       "      <th>0</th>\n",
       "      <td>outputs\\re\\BioBERT_CNN_fc2020-11-28 09_52_32_142950.bin</td>\n",
       "      <td>0.857145</td>\n",
       "    </tr>\n",
       "    <tr>\n",
       "      <th>1</th>\n",
       "      <td>outputs\\re\\BioBERT_CNN_fc2020-11-28 12_39_05_806396.bin</td>\n",
       "      <td>0.856620</td>\n",
       "    </tr>\n",
       "    <tr>\n",
       "      <th>2</th>\n",
       "      <td>outputs\\re\\BioBERT_CNN_fc2020-11-28 15_25_44_081799.bin</td>\n",
       "      <td>0.858284</td>\n",
       "    </tr>\n",
       "    <tr>\n",
       "      <th>3</th>\n",
       "      <td>outputs\\re\\BioBERT_fc2020-11-25 09_50_29_204646.bin</td>\n",
       "      <td>0.961746</td>\n",
       "    </tr>\n",
       "    <tr>\n",
       "      <th>4</th>\n",
       "      <td>outputs\\re\\BioBERT_fc2020-11-25 12_55_42_931790.bin</td>\n",
       "      <td>0.961457</td>\n",
       "    </tr>\n",
       "    <tr>\n",
       "      <th>5</th>\n",
       "      <td>outputs\\re\\BioBERT_fc2020-11-25 17_55_47_519417.bin</td>\n",
       "      <td>0.962269</td>\n",
       "    </tr>\n",
       "    <tr>\n",
       "      <th>6</th>\n",
       "      <td>outputs\\re\\BioBERT_fc2020-11-25 22_55_31_854296.bin</td>\n",
       "      <td>0.963903</td>\n",
       "    </tr>\n",
       "  </tbody>\n",
       "</table>\n",
       "</div>"
      ],
      "text/plain": [
       "                                                file_namae  f1-score\n",
       "0  outputs\\re\\BioBERT_CNN_fc2020-11-28 09_52_32_142950.bin  0.857145\n",
       "1  outputs\\re\\BioBERT_CNN_fc2020-11-28 12_39_05_806396.bin  0.856620\n",
       "2  outputs\\re\\BioBERT_CNN_fc2020-11-28 15_25_44_081799.bin  0.858284\n",
       "3      outputs\\re\\BioBERT_fc2020-11-25 09_50_29_204646.bin  0.961746\n",
       "4      outputs\\re\\BioBERT_fc2020-11-25 12_55_42_931790.bin  0.961457\n",
       "5      outputs\\re\\BioBERT_fc2020-11-25 17_55_47_519417.bin  0.962269\n",
       "6      outputs\\re\\BioBERT_fc2020-11-25 22_55_31_854296.bin  0.963903"
      ]
     },
     "execution_count": 7,
     "metadata": {},
     "output_type": "execute_result"
    }
   ],
   "source": [
    "pd.set_option('display.max_colwidth', 120)\n",
    "columns = ['file_namae', 'f1-score']\n",
    "test_results= pd.DataFrame(f1_score_list, columns = columns)\n",
    "test_results"
   ]
  },
  {
   "cell_type": "code",
   "execution_count": 8,
   "metadata": {},
   "outputs": [],
   "source": [
    "# print (\"F1 Score summary \\n\")  \n",
    "# ax = plt.gca()\n",
    "# ax.get_xaxis().set_visible(False)\n",
    "# ax.get_yaxis().set_visible(False)\n",
    "# plt.box(on=None)\n",
    "# plt.figure(figsize=(14,6))\n",
    "# the_table = plt.table(cellText=f1_score_list,\n",
    "#                       colLabels=['file name', 'F1-score'],\n",
    "#                       loc='center')\n",
    "# the_table.auto_set_font_size(False)\n",
    "# the_table.set_fontsize(10)"
   ]
  },
  {
   "cell_type": "code",
   "execution_count": null,
   "metadata": {},
   "outputs": [],
   "source": []
  }
 ],
 "metadata": {
  "kernelspec": {
   "display_name": "Python 3",
   "language": "python",
   "name": "python3"
  },
  "language_info": {
   "codemirror_mode": {
    "name": "ipython",
    "version": 3
   },
   "file_extension": ".py",
   "mimetype": "text/x-python",
   "name": "python",
   "nbconvert_exporter": "python",
   "pygments_lexer": "ipython3",
   "version": "3.8.3"
  }
 },
 "nbformat": 4,
 "nbformat_minor": 4
}
