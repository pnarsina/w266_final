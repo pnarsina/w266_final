{
 "cells": [
  {
   "cell_type": "code",
   "execution_count": 1,
   "metadata": {},
   "outputs": [],
   "source": [
    "%reload_ext autoreload\n",
    "%autoreload\n",
    "%matplotlib inline\n",
    "import os, json,glob,sys,io\n",
    "from types import SimpleNamespace\n",
    "from experiment import run_model\n",
    "from eval import calculate_stats, eval_model\n",
    "import pickle\n",
    "from datetime import datetime \n",
    "import torch\n",
    "from torch import nn\n",
    "from transformers import BertTokenizer\n",
    "from model.MedClinical import Biobert_fc \n",
    "from sklearn.metrics import classification_report, f1_score\n",
    "from util.tools  import load_config\n",
    "from util.DataLoader  import *\n",
    "from pathlib import Path, PureWindowsPath, PurePosixPath\n",
    "import traceback\n",
    "from matplotlib import pyplot as plt\n",
    "import pandas as pd"
   ]
  },
  {
   "cell_type": "code",
   "execution_count": 8,
   "metadata": {},
   "outputs": [],
   "source": [
    "# device = torch.device(\"cuda\" if torch.cuda.is_available() else \"cpu\")\n",
    "device = \"cpu\""
   ]
  },
  {
   "cell_type": "code",
   "execution_count": 9,
   "metadata": {},
   "outputs": [],
   "source": [
    "config_folder = \"config/\"\n",
    "config = load_config(config_folder)"
   ]
  },
  {
   "cell_type": "code",
   "execution_count": 10,
   "metadata": {},
   "outputs": [
    {
     "name": "stderr",
     "output_type": "stream",
     "text": [
      "INFO:root:***** Running training *****\n",
      "INFO:root:  Num examples = 1000\n",
      "INFO:root:  Batch size = 24\n",
      "INFO:root:  Num steps = 410\n"
     ]
    }
   ],
   "source": [
    "dataprocessor = MultiClassificationProcessor()\n",
    "test_dataloader, dev_data_len, dev_num_labels, dev_num_train_optimization_steps, all_dev_label_ids = dataprocessor.get_data_loader(config,source='test')    "
   ]
  },
  {
   "cell_type": "code",
   "execution_count": 11,
   "metadata": {},
   "outputs": [],
   "source": [
    "def save_missed_cases_to_file(file_name, preds, label_ids, inputs):\n",
    "    tokenizer = BertTokenizer.from_pretrained('bert-base-cased', do_lower_case=False)\n",
    "    missed_cases = []\n",
    "    all_cases = []\n",
    "    for i in range(0,len(label_ids)):\n",
    "        all_cases.append([ file_name, preds[i],  label_ids[i] , \" \". join (tokenizer.convert_ids_to_tokens(inputs[i])) ])\n",
    "        if label_ids[i] !=  preds[i]:\n",
    "            missed_cases.append([ file_name, preds[i],  label_ids[i] , \" \". join (tokenizer.convert_ids_to_tokens(inputs[i])) ])\n",
    "    #Save into a file\n",
    "    missed_cases_file = config.programsettings.REPORTS_DIR +'missed_test_results_' + str(datetime.now()).replace(\":\", \"_\").replace(\".\", \"_\") + \".pkl\"\n",
    "    all_cases_file = config.programsettings.REPORTS_DIR +'all_test_results_' + str(datetime.now()).replace(\":\", \"_\").replace(\".\", \"_\") + \".pkl\"\n",
    "    \n",
    "    with open(missed_cases_file, \"wb\") as f:\n",
    "        pickle.dump(missed_cases, f)  \n",
    "        \n",
    "    with open(all_cases_file, \"wb\") as f:\n",
    "        pickle.dump(all_cases, f)  \n",
    "        \n",
    "    "
   ]
  },
  {
   "cell_type": "code",
   "execution_count": 12,
   "metadata": {},
   "outputs": [
    {
     "name": "stdout",
     "output_type": "stream",
     "text": [
      "\n",
      " Model file:  outputs\\re\\BioBERT_CNN_fc2020-11-23 20_32_17_598176.bin\n"
     ]
    },
    {
     "data": {
      "application/vnd.jupyter.widget-view+json": {
       "model_id": "9a7271c7594243ff8333076c0b75317d",
       "version_major": 2,
       "version_minor": 0
      },
      "text/plain": [
       "HBox(children=(FloatProgress(value=0.0, description='Evaluating', max=42.0, style=ProgressStyle(description_wi…"
      ]
     },
     "metadata": {},
     "output_type": "display_data"
    },
    {
     "name": "stdout",
     "output_type": "stream",
     "text": [
      "\n",
      "\n",
      " Model file:  outputs\\re\\BioBERT_CNN_fc2020-11-23 23_16_23_167740.bin\n"
     ]
    },
    {
     "name": "stderr",
     "output_type": "stream",
     "text": [
      "Traceback (most recent call last):\n",
      "  File \"<ipython-input-12-c3208afc4473>\", line 13, in <module>\n",
      "    test_inputs, test_preds, test_labels, test_loss = eval_model( config, model, test_dataloader, device, num_labels)\n",
      "  File \"C:\\prabhu\\edu\\code\\w266\\final_project\\project_re\\eval.py\", line 38, in eval_model\n",
      "    logits = model(input_ids, segment_ids, input_mask)\n",
      "  File \"C:\\ProgramData\\Anaconda3\\lib\\site-packages\\torch\\nn\\modules\\module.py\", line 727, in _call_impl\n",
      "    result = self.forward(*input, **kwargs)\n",
      "  File \"C:\\prabhu\\edu\\code\\w266\\final_project\\project_re\\model\\MedClinical.py\", line 67, in forward\n",
      "    sequence_output, pooled_output = self.bert(\n",
      "  File \"C:\\ProgramData\\Anaconda3\\lib\\site-packages\\torch\\nn\\modules\\module.py\", line 727, in _call_impl\n",
      "    result = self.forward(*input, **kwargs)\n",
      "  File \"C:\\ProgramData\\Anaconda3\\lib\\site-packages\\torch\\nn\\parallel\\data_parallel.py\", line 157, in forward\n",
      "    inputs, kwargs = self.scatter(inputs, kwargs, self.device_ids)\n",
      "  File \"C:\\ProgramData\\Anaconda3\\lib\\site-packages\\torch\\nn\\parallel\\data_parallel.py\", line 168, in scatter\n",
      "    return scatter_kwargs(inputs, kwargs, device_ids, dim=self.dim)\n",
      "  File \"C:\\ProgramData\\Anaconda3\\lib\\site-packages\\torch\\nn\\parallel\\scatter_gather.py\", line 36, in scatter_kwargs\n",
      "    inputs = scatter(inputs, target_gpus, dim) if inputs else []\n",
      "  File \"C:\\ProgramData\\Anaconda3\\lib\\site-packages\\torch\\nn\\parallel\\scatter_gather.py\", line 28, in scatter\n",
      "    res = scatter_map(inputs)\n",
      "  File \"C:\\ProgramData\\Anaconda3\\lib\\site-packages\\torch\\nn\\parallel\\scatter_gather.py\", line 15, in scatter_map\n",
      "    return list(zip(*map(scatter_map, obj)))\n",
      "  File \"C:\\ProgramData\\Anaconda3\\lib\\site-packages\\torch\\nn\\parallel\\scatter_gather.py\", line 13, in scatter_map\n",
      "    return Scatter.apply(target_gpus, None, dim, obj)\n",
      "  File \"C:\\ProgramData\\Anaconda3\\lib\\site-packages\\torch\\nn\\parallel\\_functions.py\", line 91, in forward\n",
      "    streams = [_get_stream(device) for device in target_gpus]\n",
      "  File \"C:\\ProgramData\\Anaconda3\\lib\\site-packages\\torch\\nn\\parallel\\_functions.py\", line 91, in <listcomp>\n",
      "    streams = [_get_stream(device) for device in target_gpus]\n",
      "  File \"C:\\ProgramData\\Anaconda3\\lib\\site-packages\\torch\\nn\\parallel\\_functions.py\", line 118, in _get_stream\n",
      "    if _streams[device] is None:\n",
      "IndexError: list index out of range\n"
     ]
    },
    {
     "data": {
      "application/vnd.jupyter.widget-view+json": {
       "model_id": "325eb84b732b45a7a2aa2bb5b7836d16",
       "version_major": 2,
       "version_minor": 0
      },
      "text/plain": [
       "HBox(children=(FloatProgress(value=0.0, description='Evaluating', max=42.0, style=ProgressStyle(description_wi…"
      ]
     },
     "metadata": {},
     "output_type": "display_data"
    },
    {
     "name": "stdout",
     "output_type": "stream",
     "text": [
      "\n",
      "\n",
      " Model file:  outputs\\re\\BioBERT_CNN_fc2020-11-24 03_13_56_562308.bin\n"
     ]
    },
    {
     "name": "stderr",
     "output_type": "stream",
     "text": [
      "Traceback (most recent call last):\n",
      "  File \"<ipython-input-12-c3208afc4473>\", line 13, in <module>\n",
      "    test_inputs, test_preds, test_labels, test_loss = eval_model( config, model, test_dataloader, device, num_labels)\n",
      "  File \"C:\\prabhu\\edu\\code\\w266\\final_project\\project_re\\eval.py\", line 38, in eval_model\n",
      "    logits = model(input_ids, segment_ids, input_mask)\n",
      "  File \"C:\\ProgramData\\Anaconda3\\lib\\site-packages\\torch\\nn\\modules\\module.py\", line 727, in _call_impl\n",
      "    result = self.forward(*input, **kwargs)\n",
      "  File \"C:\\prabhu\\edu\\code\\w266\\final_project\\project_re\\model\\MedClinical.py\", line 67, in forward\n",
      "    sequence_output, pooled_output = self.bert(\n",
      "  File \"C:\\ProgramData\\Anaconda3\\lib\\site-packages\\torch\\nn\\modules\\module.py\", line 727, in _call_impl\n",
      "    result = self.forward(*input, **kwargs)\n",
      "  File \"C:\\ProgramData\\Anaconda3\\lib\\site-packages\\torch\\nn\\parallel\\data_parallel.py\", line 157, in forward\n",
      "    inputs, kwargs = self.scatter(inputs, kwargs, self.device_ids)\n",
      "  File \"C:\\ProgramData\\Anaconda3\\lib\\site-packages\\torch\\nn\\parallel\\data_parallel.py\", line 168, in scatter\n",
      "    return scatter_kwargs(inputs, kwargs, device_ids, dim=self.dim)\n",
      "  File \"C:\\ProgramData\\Anaconda3\\lib\\site-packages\\torch\\nn\\parallel\\scatter_gather.py\", line 36, in scatter_kwargs\n",
      "    inputs = scatter(inputs, target_gpus, dim) if inputs else []\n",
      "  File \"C:\\ProgramData\\Anaconda3\\lib\\site-packages\\torch\\nn\\parallel\\scatter_gather.py\", line 28, in scatter\n",
      "    res = scatter_map(inputs)\n",
      "  File \"C:\\ProgramData\\Anaconda3\\lib\\site-packages\\torch\\nn\\parallel\\scatter_gather.py\", line 15, in scatter_map\n",
      "    return list(zip(*map(scatter_map, obj)))\n",
      "  File \"C:\\ProgramData\\Anaconda3\\lib\\site-packages\\torch\\nn\\parallel\\scatter_gather.py\", line 13, in scatter_map\n",
      "    return Scatter.apply(target_gpus, None, dim, obj)\n",
      "  File \"C:\\ProgramData\\Anaconda3\\lib\\site-packages\\torch\\nn\\parallel\\_functions.py\", line 91, in forward\n",
      "    streams = [_get_stream(device) for device in target_gpus]\n",
      "  File \"C:\\ProgramData\\Anaconda3\\lib\\site-packages\\torch\\nn\\parallel\\_functions.py\", line 91, in <listcomp>\n",
      "    streams = [_get_stream(device) for device in target_gpus]\n",
      "  File \"C:\\ProgramData\\Anaconda3\\lib\\site-packages\\torch\\nn\\parallel\\_functions.py\", line 118, in _get_stream\n",
      "    if _streams[device] is None:\n",
      "IndexError: list index out of range\n"
     ]
    },
    {
     "data": {
      "application/vnd.jupyter.widget-view+json": {
       "model_id": "5e34953ff5ea41e8aec24fb22f0ddcc1",
       "version_major": 2,
       "version_minor": 0
      },
      "text/plain": [
       "HBox(children=(FloatProgress(value=0.0, description='Evaluating', max=42.0, style=ProgressStyle(description_wi…"
      ]
     },
     "metadata": {},
     "output_type": "display_data"
    },
    {
     "name": "stdout",
     "output_type": "stream",
     "text": [
      "\n",
      "\n",
      " \n",
      " \n",
      "\n"
     ]
    },
    {
     "name": "stderr",
     "output_type": "stream",
     "text": [
      "Traceback (most recent call last):\n",
      "  File \"<ipython-input-12-c3208afc4473>\", line 13, in <module>\n",
      "    test_inputs, test_preds, test_labels, test_loss = eval_model( config, model, test_dataloader, device, num_labels)\n",
      "  File \"C:\\prabhu\\edu\\code\\w266\\final_project\\project_re\\eval.py\", line 38, in eval_model\n",
      "    logits = model(input_ids, segment_ids, input_mask)\n",
      "  File \"C:\\ProgramData\\Anaconda3\\lib\\site-packages\\torch\\nn\\modules\\module.py\", line 727, in _call_impl\n",
      "    result = self.forward(*input, **kwargs)\n",
      "  File \"C:\\prabhu\\edu\\code\\w266\\final_project\\project_re\\model\\MedClinical.py\", line 67, in forward\n",
      "    sequence_output, pooled_output = self.bert(\n",
      "  File \"C:\\ProgramData\\Anaconda3\\lib\\site-packages\\torch\\nn\\modules\\module.py\", line 727, in _call_impl\n",
      "    result = self.forward(*input, **kwargs)\n",
      "  File \"C:\\ProgramData\\Anaconda3\\lib\\site-packages\\torch\\nn\\parallel\\data_parallel.py\", line 157, in forward\n",
      "    inputs, kwargs = self.scatter(inputs, kwargs, self.device_ids)\n",
      "  File \"C:\\ProgramData\\Anaconda3\\lib\\site-packages\\torch\\nn\\parallel\\data_parallel.py\", line 168, in scatter\n",
      "    return scatter_kwargs(inputs, kwargs, device_ids, dim=self.dim)\n",
      "  File \"C:\\ProgramData\\Anaconda3\\lib\\site-packages\\torch\\nn\\parallel\\scatter_gather.py\", line 36, in scatter_kwargs\n",
      "    inputs = scatter(inputs, target_gpus, dim) if inputs else []\n",
      "  File \"C:\\ProgramData\\Anaconda3\\lib\\site-packages\\torch\\nn\\parallel\\scatter_gather.py\", line 28, in scatter\n",
      "    res = scatter_map(inputs)\n",
      "  File \"C:\\ProgramData\\Anaconda3\\lib\\site-packages\\torch\\nn\\parallel\\scatter_gather.py\", line 15, in scatter_map\n",
      "    return list(zip(*map(scatter_map, obj)))\n",
      "  File \"C:\\ProgramData\\Anaconda3\\lib\\site-packages\\torch\\nn\\parallel\\scatter_gather.py\", line 13, in scatter_map\n",
      "    return Scatter.apply(target_gpus, None, dim, obj)\n",
      "  File \"C:\\ProgramData\\Anaconda3\\lib\\site-packages\\torch\\nn\\parallel\\_functions.py\", line 91, in forward\n",
      "    streams = [_get_stream(device) for device in target_gpus]\n",
      "  File \"C:\\ProgramData\\Anaconda3\\lib\\site-packages\\torch\\nn\\parallel\\_functions.py\", line 91, in <listcomp>\n",
      "    streams = [_get_stream(device) for device in target_gpus]\n",
      "  File \"C:\\ProgramData\\Anaconda3\\lib\\site-packages\\torch\\nn\\parallel\\_functions.py\", line 118, in _get_stream\n",
      "    if _streams[device] is None:\n",
      "IndexError: list index out of range\n"
     ]
    }
   ],
   "source": [
    "models_folder_name = config.programsettings.OUTPUT_DIR\n",
    "data_folder = Path(models_folder_name)\n",
    "list_model_files = list(data_folder.glob('*.bin'))\n",
    "num_labels = 9\n",
    "\n",
    "f1_score_list = []\n",
    "for model_file in list_model_files:\n",
    "    try:\n",
    "        print(\"\\n Model file: \", model_file)\n",
    "        model = torch.load(model_file)\n",
    "#         model = nn.DataParallel(model)\n",
    "        x =model.eval()\n",
    "        test_inputs, test_preds, test_labels, test_loss = eval_model( config, model, test_dataloader, device, num_labels)  \n",
    "        print(classification_report(test_labels,test_preds ))\n",
    "        print(\"\\n \\n \\n\")\n",
    "        f1_value = f1_score(test_labels, test_preds,average='macro')\n",
    "        f1_score_list.append([model_file,f1_value ])\n",
    "        file_name = model_file.__str__().replace(\".\", \"_\") \n",
    "        save_missed_cases_to_file( file_name, test_preds, test_labels, test_inputs)\n",
    "        \n",
    "    except:\n",
    "#         print(\"Failed due to cpu & GPU incompatibility\")\n",
    "     # printing stack trace \n",
    "        traceback.print_exc()         \n",
    "\n",
    "print(\"\\n \\n \\n\")\n",
    "\n",
    "\n"
   ]
  },
  {
   "cell_type": "code",
   "execution_count": null,
   "metadata": {},
   "outputs": [],
   "source": [
    "pd.set_option('display.max_colwidth', 120)\n",
    "columns = ['file_namae', 'f1-score']\n",
    "test_results= pd.DataFrame(f1_score_list, columns = columns)\n",
    "test_results"
   ]
  },
  {
   "cell_type": "code",
   "execution_count": null,
   "metadata": {},
   "outputs": [],
   "source": [
    "# print (\"F1 Score summary \\n\")  \n",
    "# ax = plt.gca()\n",
    "# ax.get_xaxis().set_visible(False)\n",
    "# ax.get_yaxis().set_visible(False)\n",
    "# plt.box(on=None)\n",
    "# plt.figure(figsize=(14,6))\n",
    "# the_table = plt.table(cellText=f1_score_list,\n",
    "#                       colLabels=['file name', 'F1-score'],\n",
    "#                       loc='center')\n",
    "# the_table.auto_set_font_size(False)\n",
    "# the_table.set_fontsize(10)"
   ]
  },
  {
   "cell_type": "code",
   "execution_count": null,
   "metadata": {},
   "outputs": [],
   "source": []
  }
 ],
 "metadata": {
  "kernelspec": {
   "display_name": "Python 3",
   "language": "python",
   "name": "python3"
  },
  "language_info": {
   "codemirror_mode": {
    "name": "ipython",
    "version": 3
   },
   "file_extension": ".py",
   "mimetype": "text/x-python",
   "name": "python",
   "nbconvert_exporter": "python",
   "pygments_lexer": "ipython3",
   "version": "3.8.3"
  }
 },
 "nbformat": 4,
 "nbformat_minor": 4
}
