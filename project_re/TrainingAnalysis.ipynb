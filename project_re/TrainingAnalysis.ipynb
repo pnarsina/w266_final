{
 "cells": [
  {
   "cell_type": "code",
   "execution_count": 2,
   "metadata": {},
   "outputs": [],
   "source": [
    "%reload_ext autoreload\n",
    "%autoreload\n",
    "%matplotlib inline\n",
    "import os, json,glob,sys,io\n",
    "from types import SimpleNamespace\n",
    "from experiment import run_model\n",
    "from eval import calculate_stats, eval_model\n",
    "import pickle\n",
    "from datetime import datetime \n",
    "import torch\n",
    "from torch import nn\n",
    "from transformers import BertTokenizer\n",
    "from model.MedClinical import Biobert_fc \n",
    "from sklearn.metrics import classification_report, f1_score\n",
    "from util.tools  import load_config\n",
    "from util.DataLoader  import *\n",
    "from pathlib import Path, PureWindowsPath, PurePosixPath\n",
    "import traceback\n",
    "from matplotlib import pyplot as plt\n",
    "import pandas as pd\n",
    "import numpy as np"
   ]
  },
  {
   "cell_type": "code",
   "execution_count": 3,
   "metadata": {},
   "outputs": [],
   "source": [
    "# device = torch.device(\"cuda\" if torch.cuda.is_available() else \"cpu\")\n",
    "device = \"cpu\""
   ]
  },
  {
   "cell_type": "code",
   "execution_count": 4,
   "metadata": {},
   "outputs": [],
   "source": [
    "config_folder = \"config/\"\n",
    "config = load_config(config_folder)"
   ]
  },
  {
   "cell_type": "code",
   "execution_count": 6,
   "metadata": {},
   "outputs": [
    {
     "name": "stdout",
     "output_type": "stream",
     "text": [
      "training metric file outputs\\re\\BioBERT_CNN_fc2020-11-28 09_52_32_142950_train_metrics_.pkl\n",
      "[[0, 111077074.83433414, 0.8984331464909693], [1, 109239077.6573317, 0.9648605238142066], [2, 108666215.96807456, 0.9730881437047235], [3, 108544874.57104897, 0.9742518110597568], [4, 108482751.81604171, 0.9751204641557675], [5, 108404522.97863674, 0.9759891172517783], [6, 108314340.89242458, 0.9760710656570624], [7, 108380488.12766147, 0.9765135870455961], [8, 108307814.52206612, 0.976857770347789], [9, 108272264.46187592, 0.9771855639689252]]\n",
      "\n",
      " \n",
      " \n",
      "\n",
      "training metric file outputs\\re\\BioBERT_CNN_fc2020-11-28 12_39_05_806396_train_metrics_.pkl\n",
      "[[0, 111623180.7278831, 0.8918936637493035], [1, 109163240.27297759, 0.9661389189366375], [2, 108756487.12372327, 0.9717605795391222], [3, 108666121.67842984, 0.9730225849804963], [4, 108561879.50465584, 0.974071524568132], [5, 108505157.82915473, 0.9748418395778018], [6, 108439937.85680223, 0.9755465958632445], [7, 108407877.34264684, 0.976267741829744], [8, 108352775.26701379, 0.9763333005539713], [9, 108316720.8316791, 0.9769233290720163]]\n",
      "\n",
      " \n",
      " \n",
      "\n",
      "training metric file outputs\\re\\BioBERT_CNN_fc2020-11-28 15_25_44_081799_train_metrics_.pkl\n",
      "[[0, 111771153.32293797, 0.8945979611236765], [1, 109268005.44677424, 0.9662700363850919], [2, 108729826.19642758, 0.9725964532730194], [3, 108628801.56287456, 0.9736617825417118], [4, 108467257.62234879, 0.9749401776641426], [5, 108450648.42969918, 0.9749729570262563], [6, 108507544.0235889, 0.9753499196905628], [7, 108423069.45830512, 0.9759399482086079], [8, 108361759.88301086, 0.9764152489592552], [9, 108327200.06604767, 0.9766447044940505]]\n",
      "\n",
      " \n",
      " \n",
      "\n"
     ]
    },
    {
     "data": {
      "image/png": "[encoded data removed]",
      "text/plain": [
       "<Figure size 432x288 with 1 Axes>"
      ]
     },
     "metadata": {
      "needs_background": "light"
     },
     "output_type": "display_data"
    }
   ],
   "source": [
    "models_folder_name = config.programsettings.OUTPUT_DIR\n",
    "data_folder = Path(models_folder_name)\n",
    "list_train_metrics = list(data_folder.glob('*.pkl'))\n",
    "num_labels = 9\n",
    "\n",
    "f1_score_list = []\n",
    "for metrics_file in list_train_metrics:\n",
    "    print('training metric file', metrics_file)\n",
    "    with open(metrics_file,\"rb\") as f:\n",
    "        train_metric = pickle.load(f)\n",
    "        print(train_metric)\n",
    "\n",
    "    print(\"\\n \\n \\n\")\n",
    "\n",
    "    plt.plot(np.array(train_metric)[:,0], np.array(train_metric)[:,1])\n",
    "    plt.xlabel(\"epoch\")\n",
    "    plt.ylabel(\"loss\")\n"
   ]
  },
  {
   "cell_type": "code",
   "execution_count": null,
   "metadata": {},
   "outputs": [],
   "source": []
  }
 ],
 "metadata": {
  "kernelspec": {
   "display_name": "Python 3",
   "language": "python",
   "name": "python3"
  },
  "language_info": {
   "codemirror_mode": {
    "name": "ipython",
    "version": 3
   },
   "file_extension": ".py",
   "mimetype": "text/x-python",
   "name": "python",
   "nbconvert_exporter": "python",
   "pygments_lexer": "ipython3",
   "version": "3.8.3"
  }
 },
 "nbformat": 4,
 "nbformat_minor": 4
}
