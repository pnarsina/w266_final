{
 "cells": [
  {
   "cell_type": "markdown",
   "metadata": {
    "id": "etP7C3tQfXCR"
   },
   "source": [
    "## Setting the environment for Colab"
   ]
  },
  {
   "cell_type": "code",
   "execution_count": 1,
   "metadata": {
    "colab": {
     "base_uri": "https://localhost:8080/"
    },
    "executionInfo": {
     "elapsed": 291,
     "status": "ok",
     "timestamp": 1606511189507,
     "user": {
      "displayName": "Valerie Meausoone",
      "photoUrl": "https://lh3.googleusercontent.com/a-/AOh14GhEI3USGoSv9o6JShJGhR2V47o7KYZh-Ya1FgZ6=s64",
      "userId": "13066601150058162597"
     },
     "user_tz": 360
    },
    "id": "xOwXpNsEfORS",
    "outputId": "9ac027ca-f031-4c7f-d9e5-ac73c0110347"
   },
   "outputs": [
    {
     "name": "stdout",
     "output_type": "stream",
     "text": [
      "Drive already mounted at /content/drive; to attempt to forcibly remount, call drive.mount(\"/content/drive\", force_remount=True).\n"
     ]
    }
   ],
   "source": [
    "# from google.colab import drive\n",
    "# drive.mount('/content/drive')"
   ]
  },
  {
   "cell_type": "code",
   "execution_count": 2,
   "metadata": {
    "colab": {
     "base_uri": "https://localhost:8080/"
    },
    "executionInfo": {
     "elapsed": 419,
     "status": "ok",
     "timestamp": 1606511189642,
     "user": {
      "displayName": "Valerie Meausoone",
      "photoUrl": "https://lh3.googleusercontent.com/a-/AOh14GhEI3USGoSv9o6JShJGhR2V47o7KYZh-Ya1FgZ6=s64",
      "userId": "13066601150058162597"
     },
     "user_tz": 360
    },
    "id": "uMUr8T8pfYmG",
    "outputId": "05c626cb-8e12-4988-860a-153644f608c5"
   },
   "outputs": [
    {
     "name": "stdout",
     "output_type": "stream",
     "text": [
      "/content/drive/.shortcut-targets-by-id/1I3W7Z7rz_YfsjBjX7z4zTzGbr-iKTrmD/w266_final/project_re\n"
     ]
    }
   ],
   "source": [
    "# %cd \"/content/drive/My Drive/Colab Notebooks/w266_final/project_re\""
   ]
  },
  {
   "cell_type": "code",
   "execution_count": 3,
   "metadata": {
    "colab": {
     "base_uri": "https://localhost:8080/"
    },
    "executionInfo": {
     "elapsed": 3602,
     "status": "ok",
     "timestamp": 1606511192832,
     "user": {
      "displayName": "Valerie Meausoone",
      "photoUrl": "https://lh3.googleusercontent.com/a-/AOh14GhEI3USGoSv9o6JShJGhR2V47o7KYZh-Ya1FgZ6=s64",
      "userId": "13066601150058162597"
     },
     "user_tz": 360
    },
    "id": "64OOH-uAhapD",
    "outputId": "ecaee690-5a76-41bb-c323-1044cfc1a15c"
   },
   "outputs": [
    {
     "name": "stdout",
     "output_type": "stream",
     "text": [
      "Requirement already satisfied: transformers in /usr/local/lib/python3.6/dist-packages (3.5.1)\n",
      "Requirement already satisfied: requests in /usr/local/lib/python3.6/dist-packages (from transformers) (2.23.0)\n",
      "Requirement already satisfied: protobuf in /usr/local/lib/python3.6/dist-packages (from transformers) (3.12.4)\n",
      "Requirement already satisfied: filelock in /usr/local/lib/python3.6/dist-packages (from transformers) (3.0.12)\n",
      "Requirement already satisfied: sacremoses in /usr/local/lib/python3.6/dist-packages (from transformers) (0.0.43)\n",
      "Requirement already satisfied: dataclasses; python_version < \"3.7\" in /usr/local/lib/python3.6/dist-packages (from transformers) (0.8)\n",
      "Requirement already satisfied: tqdm>=4.27 in /usr/local/lib/python3.6/dist-packages (from transformers) (4.41.1)\n",
      "Requirement already satisfied: sentencepiece==0.1.91 in /usr/local/lib/python3.6/dist-packages (from transformers) (0.1.91)\n",
      "Requirement already satisfied: tokenizers==0.9.3 in /usr/local/lib/python3.6/dist-packages (from transformers) (0.9.3)\n",
      "Requirement already satisfied: regex!=2019.12.17 in /usr/local/lib/python3.6/dist-packages (from transformers) (2019.12.20)\n",
      "Requirement already satisfied: numpy in /usr/local/lib/python3.6/dist-packages (from transformers) (1.18.5)\n",
      "Requirement already satisfied: packaging in /usr/local/lib/python3.6/dist-packages (from transformers) (20.4)\n",
      "Requirement already satisfied: idna<3,>=2.5 in /usr/local/lib/python3.6/dist-packages (from requests->transformers) (2.10)\n",
      "Requirement already satisfied: urllib3!=1.25.0,!=1.25.1,<1.26,>=1.21.1 in /usr/local/lib/python3.6/dist-packages (from requests->transformers) (1.24.3)\n",
      "Requirement already satisfied: certifi>=2017.4.17 in /usr/local/lib/python3.6/dist-packages (from requests->transformers) (2020.11.8)\n",
      "Requirement already satisfied: chardet<4,>=3.0.2 in /usr/local/lib/python3.6/dist-packages (from requests->transformers) (3.0.4)\n",
      "Requirement already satisfied: six>=1.9 in /usr/local/lib/python3.6/dist-packages (from protobuf->transformers) (1.15.0)\n",
      "Requirement already satisfied: setuptools in /usr/local/lib/python3.6/dist-packages (from protobuf->transformers) (50.3.2)\n",
      "Requirement already satisfied: joblib in /usr/local/lib/python3.6/dist-packages (from sacremoses->transformers) (0.17.0)\n",
      "Requirement already satisfied: click in /usr/local/lib/python3.6/dist-packages (from sacremoses->transformers) (7.1.2)\n",
      "Requirement already satisfied: pyparsing>=2.0.2 in /usr/local/lib/python3.6/dist-packages (from packaging->transformers) (2.4.7)\n"
     ]
    }
   ],
   "source": [
    "# !pip install transformers"
   ]
  },
  {
   "cell_type": "code",
   "execution_count": 1,
   "metadata": {
    "executionInfo": {
     "elapsed": 7695,
     "status": "ok",
     "timestamp": 1606511196930,
     "user": {
      "displayName": "Valerie Meausoone",
      "photoUrl": "https://lh3.googleusercontent.com/a-/AOh14GhEI3USGoSv9o6JShJGhR2V47o7KYZh-Ya1FgZ6=s64",
      "userId": "13066601150058162597"
     },
     "user_tz": 360
    },
    "id": "NPJ1N3yvfhCm"
   },
   "outputs": [],
   "source": [
    "%reload_ext autoreload\n",
    "%matplotlib inline\n",
    "import logging\n",
    "import time\n",
    "from platform import python_version\n",
    "import matplotlib\n",
    "import matplotlib.pyplot as plt\n",
    "import numpy as np\n",
    "import pandas as pd\n",
    "import sklearn\n",
    "import torch\n",
    "import torch.nn as nn\n",
    "import torch.nn.functional as F\n",
    "import transformers\n",
    "from sklearn.metrics import roc_auc_score\n",
    "from torch.autograd import Variable"
   ]
  },
  {
   "cell_type": "code",
   "execution_count": 2,
   "metadata": {
    "executionInfo": {
     "elapsed": 7696,
     "status": "ok",
     "timestamp": 1606511196935,
     "user": {
      "displayName": "Valerie Meausoone",
      "photoUrl": "https://lh3.googleusercontent.com/a-/AOh14GhEI3USGoSv9o6JShJGhR2V47o7KYZh-Ya1FgZ6=s64",
      "userId": "13066601150058162597"
     },
     "user_tz": 360
    },
    "id": "qopPKo2yKCfz"
   },
   "outputs": [],
   "source": [
    "# device = torch.device(\"cuda\" if torch.cuda.is_available() else \"cpu\")\n",
    "device = \"cpu\""
   ]
  },
  {
   "cell_type": "code",
   "execution_count": 4,
   "metadata": {
    "colab": {
     "base_uri": "https://localhost:8080/"
    },
    "executionInfo": {
     "elapsed": 7691,
     "status": "ok",
     "timestamp": 1606511196936,
     "user": {
      "displayName": "Valerie Meausoone",
      "photoUrl": "https://lh3.googleusercontent.com/a-/AOh14GhEI3USGoSv9o6JShJGhR2V47o7KYZh-Ya1FgZ6=s64",
      "userId": "13066601150058162597"
     },
     "user_tz": 360
    },
    "id": "BVY4z2wghkE5",
    "outputId": "3dbf1445-27f1-4a09-941a-831d48f20a09"
   },
   "outputs": [
    {
     "name": "stdout",
     "output_type": "stream",
     "text": [
      "61012\n"
     ]
    }
   ],
   "source": [
    "df_train = pd.read_csv('data_divided/train.tsv', sep =\"\\t\", header=None)\n",
    "df_train = df_train.rename(columns={0: \"id\", 1: \"relation_code\", 2: \"alpha\", 3:\"string\"})\n",
    "df_train = df_train[['id', 'string', 'relation_code' ]]\n",
    "df_train = df_train.dropna(subset=['string'])\n",
    "df_train = pd.get_dummies(df_train, columns = ['relation_code'])\n",
    "df_train = df_train.rename(columns={\"relation_code_0\": \"reason\", \n",
    "                                    \"relation_code_1\": \"route\", \n",
    "                                    \"relation_code_2\": \"strength\", \n",
    "                                    \"relation_code_3\": \"frequency\", \n",
    "                                    \"relation_code_4\": \"duration\", \n",
    "                                    \"relation_code_5\": \"form\",\n",
    "                                    \"relation_code_6\": \"dosage\",\n",
    "                                    \"relation_code_7\": \"ade\",\n",
    "                                    \"relation_code_8\": \"no_relation\"})\n",
    "\n",
    "print(len(df_train))"
   ]
  },
  {
   "cell_type": "code",
   "execution_count": 5,
   "metadata": {
    "colab": {
     "base_uri": "https://localhost:8080/",
     "height": 204
    },
    "executionInfo": {
     "elapsed": 7683,
     "status": "ok",
     "timestamp": 1606511196936,
     "user": {
      "displayName": "Valerie Meausoone",
      "photoUrl": "https://lh3.googleusercontent.com/a-/AOh14GhEI3USGoSv9o6JShJGhR2V47o7KYZh-Ya1FgZ6=s64",
      "userId": "13066601150058162597"
     },
     "user_tz": 360
    },
    "id": "f2oneYzViABX",
    "outputId": "770a3073-3f62-48a8-ffa8-f6eab28f4bc6"
   },
   "outputs": [
    {
     "data": {
      "text/html": [
       "<div>\n",
       "<style scoped>\n",
       "    .dataframe tbody tr th:only-of-type {\n",
       "        vertical-align: middle;\n",
       "    }\n",
       "\n",
       "    .dataframe tbody tr th {\n",
       "        vertical-align: top;\n",
       "    }\n",
       "\n",
       "    .dataframe thead th {\n",
       "        text-align: right;\n",
       "    }\n",
       "</style>\n",
       "<table border=\"1\" class=\"dataframe\">\n",
       "  <thead>\n",
       "    <tr style=\"text-align: right;\">\n",
       "      <th></th>\n",
       "      <th>id</th>\n",
       "      <th>string</th>\n",
       "      <th>reason</th>\n",
       "      <th>route</th>\n",
       "      <th>strength</th>\n",
       "      <th>frequency</th>\n",
       "      <th>duration</th>\n",
       "      <th>form</th>\n",
       "      <th>dosage</th>\n",
       "      <th>ade</th>\n",
       "      <th>no_relation</th>\n",
       "    </tr>\n",
       "  </thead>\n",
       "  <tbody>\n",
       "    <tr>\n",
       "      <th>0</th>\n",
       "      <td>0</td>\n",
       "      <td>He also may have SUB_B recurrent seizures SUB_...</td>\n",
       "      <td>1</td>\n",
       "      <td>0</td>\n",
       "      <td>0</td>\n",
       "      <td>0</td>\n",
       "      <td>0</td>\n",
       "      <td>0</td>\n",
       "      <td>0</td>\n",
       "      <td>0</td>\n",
       "      <td>0</td>\n",
       "    </tr>\n",
       "    <tr>\n",
       "      <th>1</th>\n",
       "      <td>1</td>\n",
       "      <td>He also may have recurrent seizures which shou...</td>\n",
       "      <td>0</td>\n",
       "      <td>1</td>\n",
       "      <td>0</td>\n",
       "      <td>0</td>\n",
       "      <td>0</td>\n",
       "      <td>0</td>\n",
       "      <td>0</td>\n",
       "      <td>0</td>\n",
       "      <td>0</td>\n",
       "    </tr>\n",
       "    <tr>\n",
       "      <th>2</th>\n",
       "      <td>2</td>\n",
       "      <td>He also may have recurrent seizures which shou...</td>\n",
       "      <td>0</td>\n",
       "      <td>1</td>\n",
       "      <td>0</td>\n",
       "      <td>0</td>\n",
       "      <td>0</td>\n",
       "      <td>0</td>\n",
       "      <td>0</td>\n",
       "      <td>0</td>\n",
       "      <td>0</td>\n",
       "    </tr>\n",
       "    <tr>\n",
       "      <th>3</th>\n",
       "      <td>3</td>\n",
       "      <td>-patient will be on OBJ_B Topiramate OBJ_E SUB...</td>\n",
       "      <td>0</td>\n",
       "      <td>0</td>\n",
       "      <td>1</td>\n",
       "      <td>0</td>\n",
       "      <td>0</td>\n",
       "      <td>0</td>\n",
       "      <td>0</td>\n",
       "      <td>0</td>\n",
       "      <td>0</td>\n",
       "    </tr>\n",
       "    <tr>\n",
       "      <th>4</th>\n",
       "      <td>4</td>\n",
       "      <td>-patient will be on OBJ_B Topiramate OBJ_E 25m...</td>\n",
       "      <td>0</td>\n",
       "      <td>1</td>\n",
       "      <td>0</td>\n",
       "      <td>0</td>\n",
       "      <td>0</td>\n",
       "      <td>0</td>\n",
       "      <td>0</td>\n",
       "      <td>0</td>\n",
       "      <td>0</td>\n",
       "    </tr>\n",
       "  </tbody>\n",
       "</table>\n",
       "</div>"
      ],
      "text/plain": [
       "   id                                             string  reason  route  \\\n",
       "0   0  He also may have SUB_B recurrent seizures SUB_...       1      0   \n",
       "1   1  He also may have recurrent seizures which shou...       0      1   \n",
       "2   2  He also may have recurrent seizures which shou...       0      1   \n",
       "3   3  -patient will be on OBJ_B Topiramate OBJ_E SUB...       0      0   \n",
       "4   4  -patient will be on OBJ_B Topiramate OBJ_E 25m...       0      1   \n",
       "\n",
       "   strength  frequency  duration  form  dosage  ade  no_relation  \n",
       "0         0          0         0     0       0    0            0  \n",
       "1         0          0         0     0       0    0            0  \n",
       "2         0          0         0     0       0    0            0  \n",
       "3         1          0         0     0       0    0            0  \n",
       "4         0          0         0     0       0    0            0  "
      ]
     },
     "execution_count": 5,
     "metadata": {},
     "output_type": "execute_result"
    }
   ],
   "source": [
    "df_train.head()"
   ]
  },
  {
   "cell_type": "code",
   "execution_count": 6,
   "metadata": {
    "colab": {
     "base_uri": "https://localhost:8080/"
    },
    "executionInfo": {
     "elapsed": 7675,
     "status": "ok",
     "timestamp": 1606511196937,
     "user": {
      "displayName": "Valerie Meausoone",
      "photoUrl": "https://lh3.googleusercontent.com/a-/AOh14GhEI3USGoSv9o6JShJGhR2V47o7KYZh-Ya1FgZ6=s64",
      "userId": "13066601150058162597"
     },
     "user_tz": 360
    },
    "id": "MPcAbjpriFpk",
    "outputId": "21725a4f-22eb-4be8-d50f-6b28d3a79df3"
   },
   "outputs": [
    {
     "name": "stdout",
     "output_type": "stream",
     "text": [
      "15303\n"
     ]
    }
   ],
   "source": [
    "df_val = pd.read_csv('data_divided/dev.tsv', sep =\"\\t\", header=None)\n",
    "df_val = df_val.rename(columns={0: \"id\", 1: \"relation_code\", 2: \"alpha\", 3:\"string\"})\n",
    "df_val = df_val[['id', 'string', 'relation_code' ]]\n",
    "df_val = df_val.dropna(subset=['string'])\n",
    "df_val = pd.get_dummies(df_val, columns = ['relation_code'])\n",
    "df_val = df_val.rename(columns={\"relation_code_0\": \"reason\", \n",
    "                                    \"relation_code_1\": \"route\", \n",
    "                                    \"relation_code_2\": \"strength\", \n",
    "                                    \"relation_code_3\": \"frequency\", \n",
    "                                    \"relation_code_4\": \"duration\", \n",
    "                                    \"relation_code_5\": \"form\",\n",
    "                                    \"relation_code_6\": \"dosage\",\n",
    "                                    \"relation_code_7\": \"ade\",\n",
    "                                    \"relation_code_8\": \"no_relation\"})\n",
    "\n",
    "print(len(df_val))"
   ]
  },
  {
   "cell_type": "code",
   "execution_count": 7,
   "metadata": {
    "executionInfo": {
     "elapsed": 7670,
     "status": "ok",
     "timestamp": 1606511196938,
     "user": {
      "displayName": "Valerie Meausoone",
      "photoUrl": "https://lh3.googleusercontent.com/a-/AOh14GhEI3USGoSv9o6JShJGhR2V47o7KYZh-Ya1FgZ6=s64",
      "userId": "13066601150058162597"
     },
     "user_tz": 360
    },
    "id": "2TsszA9_m7eD"
   },
   "outputs": [],
   "source": [
    "#df_val.head()"
   ]
  },
  {
   "cell_type": "code",
   "execution_count": 8,
   "metadata": {
    "colab": {
     "base_uri": "https://localhost:8080/"
    },
    "executionInfo": {
     "elapsed": 7668,
     "status": "ok",
     "timestamp": 1606511196941,
     "user": {
      "displayName": "Valerie Meausoone",
      "photoUrl": "https://lh3.googleusercontent.com/a-/AOh14GhEI3USGoSv9o6JShJGhR2V47o7KYZh-Ya1FgZ6=s64",
      "userId": "13066601150058162597"
     },
     "user_tz": 360
    },
    "id": "PIEb-KIpm9Nq",
    "outputId": "5dda249d-64af-4952-cf01-7f6afbf4c72b"
   },
   "outputs": [
    {
     "data": {
      "text/plain": [
       "1000"
      ]
     },
     "execution_count": 8,
     "metadata": {},
     "output_type": "execute_result"
    }
   ],
   "source": [
    "df_test = pd.read_csv('data_divided/test.tsv', sep =\"\\t\", header=None)\n",
    "len(df_test)"
   ]
  },
  {
   "cell_type": "code",
   "execution_count": 9,
   "metadata": {
    "colab": {
     "base_uri": "https://localhost:8080/"
    },
    "executionInfo": {
     "elapsed": 7660,
     "status": "ok",
     "timestamp": 1606511196941,
     "user": {
      "displayName": "Valerie Meausoone",
      "photoUrl": "https://lh3.googleusercontent.com/a-/AOh14GhEI3USGoSv9o6JShJGhR2V47o7KYZh-Ya1FgZ6=s64",
      "userId": "13066601150058162597"
     },
     "user_tz": 360
    },
    "id": "n4cm8Zc8sEV0",
    "outputId": "88d2a518-2ec9-4409-cbe1-6ac69a72be48"
   },
   "outputs": [
    {
     "name": "stdout",
     "output_type": "stream",
     "text": [
      "1000\n"
     ]
    }
   ],
   "source": [
    "df_test = df_test.rename(columns={0: \"id\", 1: \"relation_code\", 2: \"alpha\", 3:\"string\"})\n",
    "df_test = df_test[['id', 'string', 'relation_code' ]]\n",
    "df_test = df_test.dropna(subset=['string'])\n",
    "df_test = pd.get_dummies(df_test, columns = ['relation_code'])\n",
    "df_test = df_test.rename(columns={\"relation_code_0\": \"reason\", \n",
    "                                    \"relation_code_1\": \"route\", \n",
    "                                    \"relation_code_2\": \"strength\", \n",
    "                                    \"relation_code_3\": \"frequency\", \n",
    "                                    \"relation_code_4\": \"duration\", \n",
    "                                    \"relation_code_5\": \"form\",\n",
    "                                    \"relation_code_6\": \"dosage\",\n",
    "                                    \"relation_code_7\": \"ade\",\n",
    "                                    \"relation_code_8\": \"no_relation\"})\n",
    "\n",
    "\n",
    "print(len(df_test))"
   ]
  },
  {
   "cell_type": "code",
   "execution_count": 10,
   "metadata": {
    "executionInfo": {
     "elapsed": 7656,
     "status": "ok",
     "timestamp": 1606511196942,
     "user": {
      "displayName": "Valerie Meausoone",
      "photoUrl": "https://lh3.googleusercontent.com/a-/AOh14GhEI3USGoSv9o6JShJGhR2V47o7KYZh-Ya1FgZ6=s64",
      "userId": "13066601150058162597"
     },
     "user_tz": 360
    },
    "id": "qaNhrUX-sOoh"
   },
   "outputs": [],
   "source": [
    "#df_test.head()"
   ]
  },
  {
   "cell_type": "code",
   "execution_count": 11,
   "metadata": {
    "executionInfo": {
     "elapsed": 7654,
     "status": "ok",
     "timestamp": 1606511196944,
     "user": {
      "displayName": "Valerie Meausoone",
      "photoUrl": "https://lh3.googleusercontent.com/a-/AOh14GhEI3USGoSv9o6JShJGhR2V47o7KYZh-Ya1FgZ6=s64",
      "userId": "13066601150058162597"
     },
     "user_tz": 360
    },
    "id": "FyCLOgwwtsw5"
   },
   "outputs": [],
   "source": [
    "target_columns = [\"reason\", \"route\", \"strength\", \"frequency\", \"duration\", \"form\", \"dosage\", \"ade\", \"no_relation\"]"
   ]
  },
  {
   "cell_type": "markdown",
   "metadata": {
    "id": "1MX-kBJ_pTsg"
   },
   "source": [
    "## BERT"
   ]
  },
  {
   "cell_type": "code",
   "execution_count": 12,
   "metadata": {
    "executionInfo": {
     "elapsed": 14303,
     "status": "ok",
     "timestamp": 1606511203597,
     "user": {
      "displayName": "Valerie Meausoone",
      "photoUrl": "https://lh3.googleusercontent.com/a-/AOh14GhEI3USGoSv9o6JShJGhR2V47o7KYZh-Ya1FgZ6=s64",
      "userId": "13066601150058162597"
     },
     "user_tz": 360
    },
    "id": "Y18NHNW7otpO"
   },
   "outputs": [],
   "source": [
    "model_class = transformers.BertModel\n",
    "tokenizer_class = transformers.BertTokenizer\n",
    "pretrained_weights='gsarti/biobert-nli'\n",
    "# Load pretrained model/tokenizer\n",
    "tokenizer = tokenizer_class.from_pretrained(pretrained_weights)\n",
    "bert_model = model_class.from_pretrained(pretrained_weights).to(device)\n",
    "#bert_model = model_class.from_pretrained(pretrained_weights)"
   ]
  },
  {
   "cell_type": "code",
   "execution_count": 13,
   "metadata": {
    "executionInfo": {
     "elapsed": 14301,
     "status": "ok",
     "timestamp": 1606511203599,
     "user": {
      "displayName": "Valerie Meausoone",
      "photoUrl": "https://lh3.googleusercontent.com/a-/AOh14GhEI3USGoSv9o6JShJGhR2V47o7KYZh-Ya1FgZ6=s64",
      "userId": "13066601150058162597"
     },
     "user_tz": 360
    },
    "id": "NKtjr4L8paZ7"
   },
   "outputs": [],
   "source": [
    "max_seq = 256\n",
    "def tokenize_text(df, max_seq):\n",
    "    return [\n",
    "        tokenizer.encode(text, add_special_tokens=True)[:max_seq] for text in df.string.values\n",
    "    ]\n",
    "def pad_text(tokenized_text, max_seq):\n",
    "    return torch.Tensor(np.array([el + [0] * (max_seq - len(el)) for el in tokenized_text])).type(torch.LongTensor).to(device)\n",
    "def tokenize_and_pad_text(df, max_seq):\n",
    "    tokenized_text = tokenize_text(df, max_seq)\n",
    "    padded_text = pad_text(tokenized_text, max_seq)\n",
    "    return torch.tensor(padded_text)\n",
    "def targets_to_tensor(df, target_columns):\n",
    "    return torch.tensor(df[target_columns].values, dtype=torch.float32)\n"
   ]
  },
  {
   "cell_type": "code",
   "execution_count": null,
   "metadata": {
    "colab": {
     "base_uri": "https://localhost:8080/"
    },
    "executionInfo": {
     "elapsed": 16964,
     "status": "ok",
     "timestamp": 1606511206267,
     "user": {
      "displayName": "Valerie Meausoone",
      "photoUrl": "https://lh3.googleusercontent.com/a-/AOh14GhEI3USGoSv9o6JShJGhR2V47o7KYZh-Ya1FgZ6=s64",
      "userId": "13066601150058162597"
     },
     "user_tz": 360
    },
    "id": "5thVKbi5pq-4",
    "outputId": "510bbeb4-9775-4cbc-a6a7-db8b40ad073f"
   },
   "outputs": [
    {
     "name": "stderr",
     "output_type": "stream",
     "text": [
      "<ipython-input-13-59164c46796c>:11: UserWarning: To copy construct from a tensor, it is recommended to use sourceTensor.clone().detach() or sourceTensor.clone().detach().requires_grad_(True), rather than torch.tensor(sourceTensor).\n",
      "  return torch.tensor(padded_text)\n"
     ]
    },
    {
     "name": "stdout",
     "output_type": "stream",
     "text": [
      "<class 'torch.Tensor'>\n"
     ]
    }
   ],
   "source": [
    "train_indices = tokenize_and_pad_text(df_train, max_seq)\n",
    "print(type(train_indices))\n",
    "\n",
    "val_indices = tokenize_and_pad_text(df_val, max_seq)\n",
    "test_indices = tokenize_and_pad_text(df_test, max_seq)\n",
    "with torch.no_grad():\n",
    "    x_train = bert_model(train_indices)[0]  \n",
    "    x_val = bert_model(val_indices)[0]\n",
    "    x_test = bert_model(test_indices)[0]\n",
    "y_train = targets_to_tensor(df_train, target_columns)\n",
    "y_val = targets_to_tensor(df_val, target_columns)\n",
    "y_test = targets_to_tensor(df_test, target_columns)"
   ]
  },
  {
   "cell_type": "code",
   "execution_count": null,
   "metadata": {
    "executionInfo": {
     "elapsed": 16958,
     "status": "ok",
     "timestamp": 1606511206269,
     "user": {
      "displayName": "Valerie Meausoone",
      "photoUrl": "https://lh3.googleusercontent.com/a-/AOh14GhEI3USGoSv9o6JShJGhR2V47o7KYZh-Ya1FgZ6=s64",
      "userId": "13066601150058162597"
     },
     "user_tz": 360
    },
    "id": "n5ri4rMV5p9C"
   },
   "outputs": [],
   "source": [
    "#df_train['string'].isnull().values.sum()"
   ]
  },
  {
   "cell_type": "code",
   "execution_count": null,
   "metadata": {
    "colab": {
     "base_uri": "https://localhost:8080/"
    },
    "executionInfo": {
     "elapsed": 30780,
     "status": "ok",
     "timestamp": 1606511220096,
     "user": {
      "displayName": "Valerie Meausoone",
      "photoUrl": "https://lh3.googleusercontent.com/a-/AOh14GhEI3USGoSv9o6JShJGhR2V47o7KYZh-Ya1FgZ6=s64",
      "userId": "13066601150058162597"
     },
     "user_tz": 360
    },
    "id": "7zGg0mp2tg3I",
    "outputId": "50ec97fc-d10b-41d7-c971-57299b85ba71"
   },
   "outputs": [],
   "source": [
    "x_train[0]"
   ]
  },
  {
   "cell_type": "code",
   "execution_count": null,
   "metadata": {
    "colab": {
     "base_uri": "https://localhost:8080/"
    },
    "executionInfo": {
     "elapsed": 30778,
     "status": "ok",
     "timestamp": 1606511220097,
     "user": {
      "displayName": "Valerie Meausoone",
      "photoUrl": "https://lh3.googleusercontent.com/a-/AOh14GhEI3USGoSv9o6JShJGhR2V47o7KYZh-Ya1FgZ6=s64",
      "userId": "13066601150058162597"
     },
     "user_tz": 360
    },
    "id": "zxQO1hF51xRH",
    "outputId": "0ca06048-46b0-49d1-e4f5-789cd0507829"
   },
   "outputs": [],
   "source": [
    "y_train[0]"
   ]
  },
  {
   "cell_type": "code",
   "execution_count": 20,
   "metadata": {
    "executionInfo": {
     "elapsed": 30772,
     "status": "ok",
     "timestamp": 1606511220097,
     "user": {
      "displayName": "Valerie Meausoone",
      "photoUrl": "https://lh3.googleusercontent.com/a-/AOh14GhEI3USGoSv9o6JShJGhR2V47o7KYZh-Ya1FgZ6=s64",
      "userId": "13066601150058162597"
     },
     "user_tz": 360
    },
    "id": "ppRSRX091zQ3"
   },
   "outputs": [],
   "source": [
    "class KimCNN(nn.Module):\n",
    "    def __init__(self, embed_num, embed_dim, class_num, kernel_num, kernel_sizes, dropout, static):\n",
    "        super(KimCNN, self).__init__()\n",
    "        V = embed_num\n",
    "        D = embed_dim\n",
    "        C = class_num\n",
    "        Co = kernel_num\n",
    "        Ks = kernel_sizes\n",
    "        \n",
    "        self.static = static\n",
    "        self.embed = nn.Embedding(V, D)\n",
    "        self.convs1 = nn.ModuleList([nn.Conv2d(1, Co, (K, D)) for K in Ks])\n",
    "        self.dropout = nn.Dropout(dropout)\n",
    "        self.fc1 = nn.Linear(len(Ks) * Co, C)\n",
    "        self.sigmoid = nn.Sigmoid()\n",
    "        \n",
    "    def forward(self, x):\n",
    "        if self.static:\n",
    "            x = Variable(x)\n",
    "        print('shape1: ', x.shape)\n",
    "        x = x.unsqueeze(1)  # (N, Ci, W, D)\n",
    "        print('shape2: ', x.shape)\n",
    "        x = [F.relu(conv(x)).squeeze(3).to(device) for conv in self.convs1]  # [(N, Co, W), ...]*len(Ks)\n",
    "        shapes =  [y.shape for y in x]\n",
    "        print('shape after Relu: ',shapes)\n",
    "        x = [F.max_pool1d(i, i.size(2)).squeeze(2) for i in x]  # [(N, Co), ...]*len(Ks)\n",
    "        shapes =  [y.shape for y in x]\n",
    "        print('shape after maxpool: ',shapes)\n",
    "        x = torch.cat(x, 1)\n",
    "        print('shape after concat: ',x.shape)\n",
    "        x = self.dropout(x)  # (N, len(Ks)*Co)\n",
    "        logit = self.fc1(x)  # (N, C)\n",
    "        output = self.sigmoid(logit)\n",
    "        return output"
   ]
  },
  {
   "cell_type": "code",
   "execution_count": 21,
   "metadata": {
    "executionInfo": {
     "elapsed": 30768,
     "status": "ok",
     "timestamp": 1606511220098,
     "user": {
      "displayName": "Valerie Meausoone",
      "photoUrl": "https://lh3.googleusercontent.com/a-/AOh14GhEI3USGoSv9o6JShJGhR2V47o7KYZh-Ya1FgZ6=s64",
      "userId": "13066601150058162597"
     },
     "user_tz": 360
    },
    "id": "NK5oJfMz12fj"
   },
   "outputs": [],
   "source": [
    "embed_num = x_train.shape[1]\n",
    "embed_dim = x_train.shape[2]\n",
    "class_num = y_train.shape[1]\n",
    "kernel_num = 3\n",
    "kernel_sizes = [2, 3, 4]\n",
    "dropout = 0.5\n",
    "static = True\n",
    "model = KimCNN(\n",
    "    embed_num=embed_num,\n",
    "    embed_dim=embed_dim,\n",
    "    class_num=class_num,\n",
    "    kernel_num=kernel_num,\n",
    "    kernel_sizes=kernel_sizes,\n",
    "    dropout=dropout,\n",
    "    static=static,\n",
    ")"
   ]
  },
  {
   "cell_type": "code",
   "execution_count": 22,
   "metadata": {
    "executionInfo": {
     "elapsed": 30764,
     "status": "ok",
     "timestamp": 1606511220098,
     "user": {
      "displayName": "Valerie Meausoone",
      "photoUrl": "https://lh3.googleusercontent.com/a-/AOh14GhEI3USGoSv9o6JShJGhR2V47o7KYZh-Ya1FgZ6=s64",
      "userId": "13066601150058162597"
     },
     "user_tz": 360
    },
    "id": "0ccGoHC816hc"
   },
   "outputs": [],
   "source": [
    "n_epochs = 5\n",
    "batch_size = 12\n",
    "lr = 0.00001\n",
    "optimizer = torch.optim.Adam(model.parameters(), lr=lr)\n",
    "loss_fn = nn.BCELoss()"
   ]
  },
  {
   "cell_type": "code",
   "execution_count": 23,
   "metadata": {
    "executionInfo": {
     "elapsed": 30762,
     "status": "ok",
     "timestamp": 1606511220099,
     "user": {
      "displayName": "Valerie Meausoone",
      "photoUrl": "https://lh3.googleusercontent.com/a-/AOh14GhEI3USGoSv9o6JShJGhR2V47o7KYZh-Ya1FgZ6=s64",
      "userId": "13066601150058162597"
     },
     "user_tz": 360
    },
    "id": "BmtJ-4m21_hr"
   },
   "outputs": [],
   "source": [
    "def generate_batch_data(x, y, batch_size):\n",
    "    i, batch = 0, 0\n",
    "    for batch, i in enumerate(range(0, len(x) - batch_size, batch_size), 1):\n",
    "        x_batch = x[i : i + batch_size]\n",
    "        y_batch = y[i : i + batch_size]\n",
    "        yield x_batch.to(device), y_batch.to(device), batch\n",
    "    if i + batch_size < len(x):\n",
    "        yield x[i + batch_size :].to(device), y[i + batch_size :].to(device), batch + 1\n",
    "    if batch == 0:\n",
    "        yield x.to(device), y.to(device), 1\n",
    "\n",
    "#generate_batch_data"
   ]
  },
  {
   "cell_type": "code",
   "execution_count": 24,
   "metadata": {
    "colab": {
     "base_uri": "https://localhost:8080/"
    },
    "executionInfo": {
     "elapsed": 32594,
     "status": "ok",
     "timestamp": 1606511221934,
     "user": {
      "displayName": "Valerie Meausoone",
      "photoUrl": "https://lh3.googleusercontent.com/a-/AOh14GhEI3USGoSv9o6JShJGhR2V47o7KYZh-Ya1FgZ6=s64",
      "userId": "13066601150058162597"
     },
     "user_tz": 360
    },
    "id": "QIQdibk52M0k",
    "outputId": "c5474c9b-ee48-4853-fd37-aeb4d6a25d6e"
   },
   "outputs": [
    {
     "name": "stdout",
     "output_type": "stream",
     "text": [
      "Epoch 1 Train loss: 0.71. Validation loss: 0.69. Elapsed time: 0.35s.\n",
      "Epoch 2 Train loss: 0.69. Validation loss: 0.66. Elapsed time: 0.36s.\n",
      "Epoch 3 Train loss: 0.67. Validation loss: 0.65. Elapsed time: 0.35s.\n",
      "Epoch 4 Train loss: 0.67. Validation loss: 0.64. Elapsed time: 0.34s.\n",
      "Epoch 5 Train loss: 0.66. Validation loss: 0.64. Elapsed time: 0.34s.\n"
     ]
    }
   ],
   "source": [
    "train_losses, val_losses = [], []\n",
    "for epoch in range(n_epochs):\n",
    "  start_time = time.time()\n",
    "  train_loss = 0\n",
    "  model.train(True).to(device)\n",
    "  for x_batch, y_batch, batch in generate_batch_data(x_train, y_train, batch_size):\n",
    "    #print(type(x_batch))\n",
    "    y_pred = model(x_batch).to(device)\n",
    "    #print(type(y_pred))\n",
    "    optimizer.zero_grad()\n",
    "    loss = loss_fn(y_pred, y_batch)\n",
    "    loss.backward()\n",
    "    optimizer.step()\n",
    "    train_loss += loss.item()\n",
    "  train_loss /= batch\n",
    "  train_losses.append(train_loss)\n",
    "  elapsed = time.time() - start_time\n",
    "  \n",
    "  model.eval() # disable dropout for deterministic output\n",
    "# deactivate autograd engine to reduce memory usage and speed up computations\n",
    "  with torch.no_grad():\n",
    "      val_loss, batch = 0, 1\n",
    "      for x_batch, y_batch, batch in generate_batch_data(x_val, y_val, batch_size):\n",
    "          y_pred = model(x_batch)\n",
    "          loss = loss_fn(y_pred, y_batch).to(device)\n",
    "          val_loss += loss.item()\n",
    "      val_loss /= batch\n",
    "      val_losses.append(val_loss)\n",
    "      print(\n",
    "          \"Epoch %d Train loss: %.2f. Validation loss: %.2f. Elapsed time: %.2fs.\"\n",
    "          % (epoch + 1, train_losses[-1], val_losses[-1], elapsed)\n",
    "      )\n"
   ]
  },
  {
   "cell_type": "code",
   "execution_count": 24,
   "metadata": {
    "executionInfo": {
     "elapsed": 32589,
     "status": "ok",
     "timestamp": 1606511221936,
     "user": {
      "displayName": "Valerie Meausoone",
      "photoUrl": "https://lh3.googleusercontent.com/a-/AOh14GhEI3USGoSv9o6JShJGhR2V47o7KYZh-Ya1FgZ6=s64",
      "userId": "13066601150058162597"
     },
     "user_tz": 360
    },
    "id": "6aRuH6nx2PGG"
   },
   "outputs": [],
   "source": []
  }
 ],
 "metadata": {
  "accelerator": "GPU",
  "colab": {
   "authorship_tag": "ABX9TyO0Xq5m1vRpP/8kPP0yJ67i",
   "collapsed_sections": [],
   "machine_shape": "hm",
   "name": "new_BERT_CNN.ipynb",
   "provenance": []
  },
  "kernelspec": {
   "display_name": "Python 3",
   "language": "python",
   "name": "python3"
  },
  "language_info": {
   "codemirror_mode": {
    "name": "ipython",
    "version": 3
   },
   "file_extension": ".py",
   "mimetype": "text/x-python",
   "name": "python",
   "nbconvert_exporter": "python",
   "pygments_lexer": "ipython3",
   "version": "3.8.3"
  }
 },
 "nbformat": 4,
 "nbformat_minor": 4
}
