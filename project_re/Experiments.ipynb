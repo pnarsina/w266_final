{
 "cells": [
  {
   "cell_type": "code",
   "execution_count": 1,
   "metadata": {},
   "outputs": [],
   "source": [
    "%load_ext autoreload\n",
    "%autoreload\n",
    "import os, json\n",
    "from types import SimpleNamespace\n",
    "from experiment import run_model\n",
    "from eval import calculate_stats\n",
    "import pickle\n",
    "from datetime import datetime \n",
    "import torch\n",
    "from transformers import BertTokenizer\n",
    "from sklearn.metrics import classification_report\n",
    "from util.tools import load_config, configEncoder"
   ]
  },
  {
   "cell_type": "code",
   "execution_count": 2,
   "metadata": {},
   "outputs": [],
   "source": [
    "# device = torch.device(\"cuda\" if torch.cuda.is_available() else \"cpu\")\n",
    "device = \"cpu\""
   ]
  },
  {
   "cell_type": "code",
   "execution_count": 3,
   "metadata": {},
   "outputs": [
    {
     "data": {
      "text/plain": [
       "'{\"hyperparams\": {\"NUM_BERT_LAYERS_FREEZE\": 8, \"MAX_SEQ_LENGTH\": \"128\", \"optimizer\": \"AdamW\", \"TRAIN_BATCH_SIZE\": 12, \"EVAL_BATCH_SIZE\": 8, \"LEARNING_RATE\": 1e-05, \"NUM_TRAIN_EPOCHS\": 1, \"NUM_WARMP_STEPS\": 100, \"WARMUP_PROPORTION\": 0.1, \"SCHEDULER_STEP_SIZE\": 1, \"GRADIENT_ACCUMULATION_STEPS\": 1, \"PIN_MEMORY\": \"True\", \"NUM_WORKERS\": 4}, \"programsettings\": {\"DATA_DIR\": \"data_divided/\", \"BERT_MODEL\": \"bert-base-cased\", \"TASK_NAME\": \"re\", \"OUTPUT_DIR\": \"outputs/re/\", \"REPORTS_DIR\": \"reports/re/\", \"CACHE_DIR\": \"cache/\", \"WEIGHTS_NAME\": \"pytorch_model.bin\", \"MODEL_NAME\": \"BioBERT_fc\", \"DEBUG_PRINT\": 0}}'"
      ]
     },
     "execution_count": 3,
     "metadata": {},
     "output_type": "execute_result"
    }
   ],
   "source": [
    "config_folder = \"config/\"\n",
    "config = load_config(config_folder)\n"
   ]
  },
  {
   "cell_type": "code",
   "execution_count": 4,
   "metadata": {},
   "outputs": [
    {
     "name": "stderr",
     "output_type": "stream",
     "text": [
      "INFO:root:***** Running training *****\n",
      "INFO:root:  Num examples = 99\n",
      "INFO:root:  Batch size = 12\n",
      "INFO:root:  Num steps = 16\n",
      "Epoch:   0%|                                                                                     | 0/2 [00:00<?, ?it/s]"
     ]
    },
    {
     "data": {
      "application/vnd.jupyter.widget-view+json": {
       "model_id": "b3572df62ac84516b777f1adef566df6",
       "version_major": 2,
       "version_minor": 0
      },
      "text/plain": [
       "HBox(children=(FloatProgress(value=0.0, description='Iteration', max=9.0, style=ProgressStyle(description_widt…"
      ]
     },
     "metadata": {},
     "output_type": "display_data"
    },
    {
     "name": "stderr",
     "output_type": "stream",
     "text": [
      "C:\\ProgramData\\Anaconda3\\lib\\site-packages\\torch\\optim\\lr_scheduler.py:131: UserWarning: Detected call of `lr_scheduler.step()` before `optimizer.step()`. In PyTorch 1.1.0 and later, you should call them in the opposite order: `optimizer.step()` before `lr_scheduler.step()`.  Failure to do this will result in PyTorch skipping the first value of the learning rate schedule. See more details at https://pytorch.org/docs/stable/optim.html#how-to-adjust-learning-rate\n",
      "  warnings.warn(\"Detected call of `lr_scheduler.step()` before `optimizer.step()`. \"\n",
      "Epoch:  50%|██████████████████████████████████████▌                                      | 1/2 [00:36<00:36, 36.12s/it]"
     ]
    },
    {
     "name": "stdout",
     "output_type": "stream",
     "text": [
      "\n",
      "so far epoch accuracy:  0.1111111111111111\n"
     ]
    },
    {
     "data": {
      "application/vnd.jupyter.widget-view+json": {
       "model_id": "7afc8081d55d43568bcdc6a220e36f42",
       "version_major": 2,
       "version_minor": 0
      },
      "text/plain": [
       "HBox(children=(FloatProgress(value=0.0, description='Iteration', max=9.0, style=ProgressStyle(description_widt…"
      ]
     },
     "metadata": {},
     "output_type": "display_data"
    },
    {
     "name": "stderr",
     "output_type": "stream",
     "text": [
      "Epoch: 100%|█████████████████████████████████████████████████████████████████████████████| 2/2 [01:13<00:00, 36.65s/it]"
     ]
    },
    {
     "name": "stdout",
     "output_type": "stream",
     "text": [
      "\n",
      "so far epoch accuracy:  0.1414141414141414\n",
      "Training complete\n",
      "Best val Acc: 0.141414\n"
     ]
    },
    {
     "name": "stderr",
     "output_type": "stream",
     "text": [
      "\n"
     ]
    },
    {
     "data": {
      "application/vnd.jupyter.widget-view+json": {
       "model_id": "adef02e36ef243178f4ae0d991c080af",
       "version_major": 2,
       "version_minor": 0
      },
      "text/plain": [
       "HBox(children=(FloatProgress(value=0.0, description='Evaluating', max=9.0, style=ProgressStyle(description_wid…"
      ]
     },
     "metadata": {},
     "output_type": "display_data"
    },
    {
     "name": "stderr",
     "output_type": "stream",
     "text": [
      "INFO:root:***** Running training *****\n",
      "INFO:root:  Num examples = 99\n",
      "INFO:root:  Batch size = 12\n",
      "INFO:root:  Num steps = 16\n"
     ]
    },
    {
     "name": "stdout",
     "output_type": "stream",
     "text": [
      "\n"
     ]
    },
    {
     "data": {
      "application/vnd.jupyter.widget-view+json": {
       "model_id": "3f472d2393ae41b4b66b2907fc4d846c",
       "version_major": 2,
       "version_minor": 0
      },
      "text/plain": [
       "HBox(children=(FloatProgress(value=0.0, description='Evaluating', max=9.0, style=ProgressStyle(description_wid…"
      ]
     },
     "metadata": {},
     "output_type": "display_data"
    },
    {
     "name": "stdout",
     "output_type": "stream",
     "text": [
      "\n"
     ]
    }
   ],
   "source": [
    "train_inputs, train_label_ids, train_preds, train_loss, dev_inputs, dev_label_ids, dev_loss, dev_preds = run_model(config, device)"
   ]
  },
  {
   "cell_type": "code",
   "execution_count": 5,
   "metadata": {},
   "outputs": [
    {
     "data": {
      "text/plain": [
       "(array([[  101,   123,   119, ...,     0,     0,     0],\n",
       "        [  101,   108,   156, ...,     0,     0,     0],\n",
       "        [  101,  1124,  1145, ...,     0,     0,     0],\n",
       "        ...,\n",
       "        [  101,   118,  5351, ...,     0,     0,     0],\n",
       "        [  101,  1230,  1249, ...,     0,     0,     0],\n",
       "        [  101,  2508, 13923, ...,   142,   119,   102]], dtype=int64),\n",
       " array([3, 0, 0, 7, 1, 4, 6, 1, 0, 3, 6, 5, 2, 6, 3, 1, 2, 5, 5, 6, 3, 0,\n",
       "        0, 0, 0, 2, 4, 4, 0, 2, 0, 5, 2, 2, 5, 0, 0, 6, 0, 0, 1, 0, 1, 0,\n",
       "        3, 3, 6, 5, 5, 0, 1, 6, 1, 1, 1, 4, 6, 5, 4, 4, 0, 0, 2, 2, 3, 5,\n",
       "        1, 2, 2, 2, 6, 4, 4, 3, 6, 6, 0, 3, 0, 6, 5, 5, 6, 6, 0, 0, 1, 2,\n",
       "        1, 2, 1, 1, 3, 7, 6, 6, 2, 4, 2], dtype=int64),\n",
       " array([1, 1, 4, 7, 7, 6, 1, 1, 1, 6, 3, 1, 7, 1, 1, 6, 6, 1, 1, 3, 6, 1,\n",
       "        1, 3, 7, 6, 3, 6, 5, 7, 1, 6, 6, 1, 1, 7, 3, 1, 6, 7, 4, 4, 3, 7,\n",
       "        6, 7, 1, 6, 6, 7, 1, 7, 1, 3, 1, 1, 6, 6, 7, 6, 1, 3, 1, 1, 1, 1,\n",
       "        1, 7, 1, 1, 6, 1, 6, 6, 7, 6, 1, 6, 7, 1, 1, 6, 7, 6, 1, 5, 6, 6,\n",
       "        6, 1, 4, 1, 1, 3, 1, 7, 6, 7, 6], dtype=int64),\n",
       " 2.2273104985555015,\n",
       " array([[  101,  1302,  2330, ...,     0,     0,     0],\n",
       "        [  101,  2173,  6366, ...,     0,     0,     0],\n",
       "        [  101,   108,   159, ...,     0,     0,     0],\n",
       "        ...,\n",
       "        [  101,   140,  3190, ...,     0,     0,     0],\n",
       "        [  101,  2508, 13923, ...,     0,     0,     0],\n",
       "        [  101,  2508, 13923, ...,     0,     0,     0]], dtype=int64),\n",
       " array([8, 8, 8, 4, 0, 4, 8, 0, 8, 8, 8, 8, 8, 8, 5, 8, 8, 2, 8, 8, 5, 0,\n",
       "        1, 0, 8, 8, 6, 6, 1, 8, 8, 5, 8, 6, 0, 5, 3, 6, 3, 8, 2, 8, 0, 0,\n",
       "        0, 2, 0, 8, 4, 8, 8, 3, 8, 7, 0, 1, 8, 8, 0, 8, 5, 8, 2, 8, 0, 3,\n",
       "        8, 8, 0, 8, 8, 6, 8, 2, 3, 0, 8, 8, 0, 0, 2, 1, 8, 0, 2, 8, 2, 8,\n",
       "        3, 3, 7, 1, 8, 8, 5, 0, 8, 2, 2], dtype=int64),\n",
       " 2.285797701941596,\n",
       " array([7, 5, 1, 6, 1, 6, 5, 6, 6, 6, 5, 1, 7, 5, 6, 7, 5, 6, 5, 4, 7, 4,\n",
       "        7, 6, 5, 1, 7, 1, 1, 1, 5, 1, 7, 3, 6, 7, 1, 1, 1, 3, 1, 6, 7, 1,\n",
       "        3, 1, 1, 5, 7, 7, 4, 1, 7, 7, 6, 4, 6, 7, 1, 1, 7, 5, 7, 6, 7, 1,\n",
       "        6, 6, 7, 6, 1, 8, 4, 1, 1, 1, 1, 1, 6, 7, 7, 6, 6, 1, 7, 5, 1, 7,\n",
       "        1, 1, 1, 6, 8, 6, 3, 1, 6, 6, 6], dtype=int64))"
      ]
     },
     "execution_count": 5,
     "metadata": {},
     "output_type": "execute_result"
    }
   ],
   "source": [
    "train_inputs, train_label_ids, train_preds, train_loss, dev_inputs, dev_label_ids, dev_loss, dev_preds"
   ]
  },
  {
   "cell_type": "code",
   "execution_count": 6,
   "metadata": {},
   "outputs": [
    {
     "name": "stdout",
     "output_type": "stream",
     "text": [
      "              precision    recall  f1-score   support\n",
      "\n",
      "           0       0.00      0.00      0.00        18\n",
      "           1       0.03      0.20      0.06         5\n",
      "           2       0.00      0.00      0.00        10\n",
      "           3       0.00      0.00      0.00         7\n",
      "           4       0.00      0.00      0.00         3\n",
      "           5       0.00      0.00      0.00         6\n",
      "           6       0.00      0.00      0.00         5\n",
      "           7       0.05      0.50      0.08         2\n",
      "           8       0.50      0.02      0.04        43\n",
      "\n",
      "    accuracy                           0.03        99\n",
      "   macro avg       0.06      0.08      0.02        99\n",
      "weighted avg       0.22      0.03      0.02        99\n",
      "\n"
     ]
    },
    {
     "name": "stderr",
     "output_type": "stream",
     "text": [
      "C:\\ProgramData\\Anaconda3\\lib\\site-packages\\sklearn\\metrics\\_classification.py:1221: UndefinedMetricWarning: Precision and F-score are ill-defined and being set to 0.0 in labels with no predicted samples. Use `zero_division` parameter to control this behavior.\n",
      "  _warn_prf(average, modifier, msg_start, len(result))\n"
     ]
    }
   ],
   "source": [
    "print(classification_report(dev_label_ids,dev_preds ))"
   ]
  },
  {
   "cell_type": "code",
   "execution_count": 7,
   "metadata": {},
   "outputs": [],
   "source": [
    "def save_missed_cases_to_file(file_start_name, dev_preds, dev_label_ids, train_inputs):\n",
    "    tokenizer = BertTokenizer.from_pretrained('bert-base-cased', do_lower_case=False)\n",
    "    missed_cases = []\n",
    "    for i in range(0,50):\n",
    "        if dev_label_ids[i] !=  dev_preds[i]:\n",
    "             missed_cases.append([ dev_preds[i],  dev_label_ids[i] , \" \". join (tokenizer.convert_ids_to_tokens(train_inputs[i])) ])\n",
    "\n",
    "    #Save into a file\n",
    "    missed_cases_file = config.programsettings.REPORTS_DIR +file_start_name + str(datetime.now()).replace(\":\", \"_\").replace(\".\", \"_\") + \".pkl\"\n",
    "    with open(missed_cases_file, \"wb\") as f:\n",
    "        pickle.dump(missed_cases, f)  \n",
    "        \n",
    "save_missed_cases_to_file(\"BIOBERT_fc_missedcases_\" , dev_preds, dev_label_ids, train_inputs)"
   ]
  },
  {
   "cell_type": "code",
   "execution_count": 8,
   "metadata": {},
   "outputs": [
    {
     "data": {
      "text/plain": [
       "((99,), (99,), (99,), (99,))"
      ]
     },
     "execution_count": 8,
     "metadata": {},
     "output_type": "execute_result"
    }
   ],
   "source": [
    "import numpy as np\n",
    "np.array(dev_label_ids).shape, np.array(dev_preds).shape, np.array(train_preds).shape, np.array(train_label_ids).shape"
   ]
  },
  {
   "cell_type": "code",
   "execution_count": 9,
   "metadata": {},
   "outputs": [
    {
     "name": "stdout",
     "output_type": "stream",
     "text": [
      "\n",
      " label: [3 0 0 7 1 4 6 1 0 3 6 5 2 6 3 1 2 5 5 6 3 0 0 0 0 2 4 4 0 2 0 5 2 2 5 0 0\n",
      " 6 0 0 1 0 1 0 3 3 6 5 5 0 1 6 1 1 1 4 6 5 4 4 0 0 2 2 3 5 1 2 2 2 6 4 4 3\n",
      " 6 6 0 3 0 6 5 5 6 6 0 0 1 2 1 2 1 1 3 7 6 6 2 4 2]\n",
      "\n",
      " preds: [1 1 4 7 7 6 1 1 1 6 3 1 7 1 1 6 6 1 1 3 6 1 1 3 7 6 3 6 5 7 1 6 6 1 1 7 3\n",
      " 1 6 7 4 4 3 7 6 7 1 6 6 7 1 7 1 3 1 1 6 6 7 6 1 3 1 1 1 1 1 7 1 1 6 1 6 6\n",
      " 7 6 1 6 7 1 1 6 7 6 1 5 6 6 6 1 4 1 1 3 1 7 6 7 6]\n",
      "\n",
      " label: [8 8 8 4 0 4 8 0 8 8 8 8 8 8 5 8 8 2 8 8 5 0 1 0 8 8 6 6 1 8 8 5 8 6 0 5 3\n",
      " 6 3 8 2 8 0 0 0 2 0 8 4 8 8 3 8 7 0 1 8 8 0 8 5 8 2 8 0 3 8 8 0 8 8 6 8 2\n",
      " 3 0 8 8 0 0 2 1 8 0 2 8 2 8 3 3 7 1 8 8 5 0 8 2 2]\n",
      "\n",
      " preds: [7 5 1 6 1 6 5 6 6 6 5 1 7 5 6 7 5 6 5 4 7 4 7 6 5 1 7 1 1 1 5 1 7 3 6 7 1\n",
      " 1 1 3 1 6 7 1 3 1 1 5 7 7 4 1 7 7 6 4 6 7 1 1 7 5 7 6 7 1 6 6 7 6 1 8 4 1\n",
      " 1 1 1 1 6 7 7 6 6 1 7 5 1 7 1 1 1 6 8 6 3 1 6 6 6]\n"
     ]
    }
   ],
   "source": [
    "%autoreload\n",
    "train_mcc, train_f1_score, train_df_results, train_label_matches_df = calculate_stats(train_label_ids,train_preds )\n",
    "dev_mcc, dev_f1_score, dev_df_results, dev_label_matches_df = calculate_stats(dev_label_ids,dev_preds )"
   ]
  },
  {
   "cell_type": "code",
   "execution_count": 10,
   "metadata": {},
   "outputs": [
    {
     "data": {
      "text/plain": [
       "[[<util.tools.config at 0x2396db5a100>,\n",
       "  2.2273104985555015,\n",
       "  2.285797701941596,\n",
       "  -0.009717224655072746,\n",
       "  0.06407342657342657,\n",
       "  -0.0289484367779629,\n",
       "  0.020370370370370372,\n",
       "  array([8, 8, 8, 4, 0, 4, 8, 0, 8, 8, 8, 8, 8, 8, 5, 8, 8, 2, 8, 8, 5, 0,\n",
       "         1, 0, 8, 8, 6, 6, 1, 8, 8, 5, 8, 6, 0, 5, 3, 6, 3, 8, 2, 8, 0, 0,\n",
       "         0, 2, 0, 8, 4, 8, 8, 3, 8, 7, 0, 1, 8, 8, 0, 8, 5, 8, 2, 8, 0, 3,\n",
       "         8, 8, 0, 8, 8, 6, 8, 2, 3, 0, 8, 8, 0, 0, 2, 1, 8, 0, 2, 8, 2, 8,\n",
       "         3, 3, 7, 1, 8, 8, 5, 0, 8, 2, 2], dtype=int64),\n",
       "  array([7, 5, 1, 6, 1, 6, 5, 6, 6, 6, 5, 1, 7, 5, 6, 7, 5, 6, 5, 4, 7, 4,\n",
       "         7, 6, 5, 1, 7, 1, 1, 1, 5, 1, 7, 3, 6, 7, 1, 1, 1, 3, 1, 6, 7, 1,\n",
       "         3, 1, 1, 5, 7, 7, 4, 1, 7, 7, 6, 4, 6, 7, 1, 1, 7, 5, 7, 6, 7, 1,\n",
       "         6, 6, 7, 6, 1, 8, 4, 1, 1, 1, 1, 1, 6, 7, 7, 6, 6, 1, 7, 5, 1, 7,\n",
       "         1, 1, 1, 6, 8, 6, 3, 1, 6, 6, 6], dtype=int64),\n",
       "  array([3, 0, 0, 7, 1, 4, 6, 1, 0, 3, 6, 5, 2, 6, 3, 1, 2, 5, 5, 6, 3, 0,\n",
       "         0, 0, 0, 2, 4, 4, 0, 2, 0, 5, 2, 2, 5, 0, 0, 6, 0, 0, 1, 0, 1, 0,\n",
       "         3, 3, 6, 5, 5, 0, 1, 6, 1, 1, 1, 4, 6, 5, 4, 4, 0, 0, 2, 2, 3, 5,\n",
       "         1, 2, 2, 2, 6, 4, 4, 3, 6, 6, 0, 3, 0, 6, 5, 5, 6, 6, 0, 0, 1, 2,\n",
       "         1, 2, 1, 1, 3, 7, 6, 6, 2, 4, 2], dtype=int64),\n",
       "  array([1, 1, 4, 7, 7, 6, 1, 1, 1, 6, 3, 1, 7, 1, 1, 6, 6, 1, 1, 3, 6, 1,\n",
       "         1, 3, 7, 6, 3, 6, 5, 7, 1, 6, 6, 1, 1, 7, 3, 1, 6, 7, 4, 4, 3, 7,\n",
       "         6, 7, 1, 6, 6, 7, 1, 7, 1, 3, 1, 1, 6, 6, 7, 6, 1, 3, 1, 1, 1, 1,\n",
       "         1, 7, 1, 1, 6, 1, 6, 6, 7, 6, 1, 6, 7, 1, 1, 6, 7, 6, 1, 5, 6, 6,\n",
       "         6, 1, 4, 1, 1, 3, 1, 7, 6, 7, 6], dtype=int64)]]"
      ]
     },
     "execution_count": 10,
     "metadata": {},
     "output_type": "execute_result"
    }
   ],
   "source": [
    "all_experiment_results = []\n",
    "all_experiment_results.append([config, train_loss, dev_loss, train_mcc, train_f1_score,dev_mcc,dev_f1_score, \n",
    "                               dev_label_ids, dev_preds,train_label_ids,train_preds  ])\n",
    "all_experiment_results"
   ]
  },
  {
   "cell_type": "code",
   "execution_count": 11,
   "metadata": {},
   "outputs": [
    {
     "data": {
      "text/html": [
       "<div>\n",
       "<style scoped>\n",
       "    .dataframe tbody tr th:only-of-type {\n",
       "        vertical-align: middle;\n",
       "    }\n",
       "\n",
       "    .dataframe tbody tr th {\n",
       "        vertical-align: top;\n",
       "    }\n",
       "\n",
       "    .dataframe thead th {\n",
       "        text-align: right;\n",
       "    }\n",
       "</style>\n",
       "<table border=\"1\" class=\"dataframe\">\n",
       "  <thead>\n",
       "    <tr style=\"text-align: right;\">\n",
       "      <th></th>\n",
       "      <th></th>\n",
       "      <th>predicted</th>\n",
       "    </tr>\n",
       "    <tr>\n",
       "      <th>labels</th>\n",
       "      <th>matched</th>\n",
       "      <th></th>\n",
       "    </tr>\n",
       "  </thead>\n",
       "  <tbody>\n",
       "    <tr>\n",
       "      <th rowspan=\"2\" valign=\"top\">ADE-Drug</th>\n",
       "      <th>False</th>\n",
       "      <td>1</td>\n",
       "    </tr>\n",
       "    <tr>\n",
       "      <th>True</th>\n",
       "      <td>1</td>\n",
       "    </tr>\n",
       "    <tr>\n",
       "      <th>Dosage-Drug</th>\n",
       "      <th>False</th>\n",
       "      <td>5</td>\n",
       "    </tr>\n",
       "    <tr>\n",
       "      <th>Duration-Drug</th>\n",
       "      <th>False</th>\n",
       "      <td>3</td>\n",
       "    </tr>\n",
       "    <tr>\n",
       "      <th>Form-Drug</th>\n",
       "      <th>False</th>\n",
       "      <td>6</td>\n",
       "    </tr>\n",
       "    <tr>\n",
       "      <th>Frequency-Drug</th>\n",
       "      <th>False</th>\n",
       "      <td>7</td>\n",
       "    </tr>\n",
       "    <tr>\n",
       "      <th>Reason-Drug</th>\n",
       "      <th>False</th>\n",
       "      <td>18</td>\n",
       "    </tr>\n",
       "    <tr>\n",
       "      <th rowspan=\"2\" valign=\"top\">Route-Drug</th>\n",
       "      <th>False</th>\n",
       "      <td>4</td>\n",
       "    </tr>\n",
       "    <tr>\n",
       "      <th>True</th>\n",
       "      <td>1</td>\n",
       "    </tr>\n",
       "    <tr>\n",
       "      <th>Strength-Drug</th>\n",
       "      <th>False</th>\n",
       "      <td>10</td>\n",
       "    </tr>\n",
       "    <tr>\n",
       "      <th rowspan=\"2\" valign=\"top\">no relation</th>\n",
       "      <th>False</th>\n",
       "      <td>42</td>\n",
       "    </tr>\n",
       "    <tr>\n",
       "      <th>True</th>\n",
       "      <td>1</td>\n",
       "    </tr>\n",
       "  </tbody>\n",
       "</table>\n",
       "</div>"
      ],
      "text/plain": [
       "                        predicted\n",
       "labels         matched           \n",
       "ADE-Drug       False            1\n",
       "               True             1\n",
       "Dosage-Drug    False            5\n",
       "Duration-Drug  False            3\n",
       "Form-Drug      False            6\n",
       "Frequency-Drug False            7\n",
       "Reason-Drug    False           18\n",
       "Route-Drug     False            4\n",
       "               True             1\n",
       "Strength-Drug  False           10\n",
       "no relation    False           42\n",
       "               True             1"
      ]
     },
     "execution_count": 11,
     "metadata": {},
     "output_type": "execute_result"
    }
   ],
   "source": [
    "dev_label_matches_df"
   ]
  },
  {
   "cell_type": "markdown",
   "metadata": {},
   "source": [
    "##  Try with BERT Sequential configuration"
   ]
  },
  {
   "cell_type": "markdown",
   "metadata": {},
   "source": [
    "### Just change model from BIOR to BERT Sequence"
   ]
  },
  {
   "cell_type": "code",
   "execution_count": 12,
   "metadata": {},
   "outputs": [],
   "source": [
    "config.programsettings.MODEL_NAME = \"BERT_Sequence\"\n",
    "config.programsettings.DEBUG_PRINT = 0"
   ]
  },
  {
   "cell_type": "code",
   "execution_count": null,
   "metadata": {},
   "outputs": [
    {
     "name": "stderr",
     "output_type": "stream",
     "text": [
      "INFO:root:***** Running training *****\n",
      "INFO:root:  Num examples = 99\n",
      "INFO:root:  Batch size = 12\n",
      "INFO:root:  Num steps = 16\n",
      "INFO:pytorch_pretrained_bert.modeling:loading archive file https://s3.amazonaws.com/models.huggingface.co/bert/bert-base-cased.tar.gz from cache at cache/a803ce83ca27fecf74c355673c434e51c265fb8a3e0e57ac62a80e38ba98d384.681017f415dfb33ec8d0e04fe51a619f3f01532ecea04edbfd48c5d160550d9c\n",
      "INFO:pytorch_pretrained_bert.modeling:extracting archive file cache/a803ce83ca27fecf74c355673c434e51c265fb8a3e0e57ac62a80e38ba98d384.681017f415dfb33ec8d0e04fe51a619f3f01532ecea04edbfd48c5d160550d9c to temp dir C:\\Users\\pnars\\AppData\\Local\\Temp\\tmp6ubgse3f\n",
      "INFO:pytorch_pretrained_bert.modeling:Model config {\n",
      "  \"attention_probs_dropout_prob\": 0.1,\n",
      "  \"hidden_act\": \"gelu\",\n",
      "  \"hidden_dropout_prob\": 0.1,\n",
      "  \"hidden_size\": 768,\n",
      "  \"initializer_range\": 0.02,\n",
      "  \"intermediate_size\": 3072,\n",
      "  \"max_position_embeddings\": 512,\n",
      "  \"num_attention_heads\": 12,\n",
      "  \"num_hidden_layers\": 12,\n",
      "  \"type_vocab_size\": 2,\n",
      "  \"vocab_size\": 28996\n",
      "}\n",
      "\n",
      "INFO:pytorch_pretrained_bert.modeling:Weights of BertForSequenceClassification not initialized from pretrained model: ['classifier.weight', 'classifier.bias']\n",
      "INFO:pytorch_pretrained_bert.modeling:Weights from pretrained model not used in BertForSequenceClassification: ['cls.predictions.bias', 'cls.predictions.transform.dense.weight', 'cls.predictions.transform.dense.bias', 'cls.predictions.decoder.weight', 'cls.seq_relationship.weight', 'cls.seq_relationship.bias', 'cls.predictions.transform.LayerNorm.weight', 'cls.predictions.transform.LayerNorm.bias']\n",
      "Epoch:   0%|                                                                                     | 0/2 [00:00<?, ?it/s]"
     ]
    },
    {
     "data": {
      "application/vnd.jupyter.widget-view+json": {
       "model_id": "19558f9bcf0c4fd095c2c2fc9fc5c5a4",
       "version_major": 2,
       "version_minor": 0
      },
      "text/plain": [
       "HBox(children=(FloatProgress(value=0.0, description='Iteration', max=9.0, style=ProgressStyle(description_widt…"
      ]
     },
     "metadata": {},
     "output_type": "display_data"
    },
    {
     "name": "stderr",
     "output_type": "stream",
     "text": [
      "C:\\ProgramData\\Anaconda3\\lib\\site-packages\\torch\\optim\\lr_scheduler.py:131: UserWarning: Detected call of `lr_scheduler.step()` before `optimizer.step()`. In PyTorch 1.1.0 and later, you should call them in the opposite order: `optimizer.step()` before `lr_scheduler.step()`.  Failure to do this will result in PyTorch skipping the first value of the learning rate schedule. See more details at https://pytorch.org/docs/stable/optim.html#how-to-adjust-learning-rate\n",
      "  warnings.warn(\"Detected call of `lr_scheduler.step()` before `optimizer.step()`. \"\n",
      "Epoch:  50%|██████████████████████████████████████▌                                      | 1/2 [00:46<00:46, 46.21s/it]"
     ]
    },
    {
     "name": "stdout",
     "output_type": "stream",
     "text": [
      "\n",
      "so far epoch accuracy:  0.09090909090909091\n"
     ]
    },
    {
     "data": {
      "application/vnd.jupyter.widget-view+json": {
       "model_id": "345d13238833431fa59d881a1e29296f",
       "version_major": 2,
       "version_minor": 0
      },
      "text/plain": [
       "HBox(children=(FloatProgress(value=0.0, description='Iteration', max=9.0, style=ProgressStyle(description_widt…"
      ]
     },
     "metadata": {},
     "output_type": "display_data"
    }
   ],
   "source": [
    "train_inputs, train_label_ids, train_preds, train_loss, dev_inputs, dev_label_ids, dev_loss, dev_preds = run_model(config, device)"
   ]
  },
  {
   "cell_type": "code",
   "execution_count": null,
   "metadata": {},
   "outputs": [],
   "source": [
    "\n",
    "train_mcc, train_f1_score, train_df_results, train_label_matches_df = calculate_stats(train_label_ids,train_preds )\n",
    "dev_mcc, dev_f1_score, dev_df_results, dev_label_matches_df = calculate_stats(dev_label_ids,dev_preds)"
   ]
  },
  {
   "cell_type": "code",
   "execution_count": null,
   "metadata": {},
   "outputs": [],
   "source": [
    "all_experiment_results.append([config, train_loss, dev_loss, train_mcc, train_f1_score,dev_mcc,dev_f1_score, \n",
    "                               dev_label_ids, dev_preds,train_label_ids,train_preds  ])\n",
    "all_experiment_results"
   ]
  },
  {
   "cell_type": "code",
   "execution_count": null,
   "metadata": {},
   "outputs": [],
   "source": [
    "dev_label_matches_df"
   ]
  },
  {
   "cell_type": "code",
   "execution_count": null,
   "metadata": {},
   "outputs": [],
   "source": [
    "\n",
    "all_model_results_pickle_file = config.programsettings.REPORTS_DIR + \"multi_model_experiment_results_\" + str(datetime.now()).replace(\":\", \"_\").replace(\".\", \"_\") + \".pkl\"\n",
    "with open(all_model_results_pickle_file, \"wb\") as f:\n",
    "    pickle.dump(all_experiment_results, f)  \n"
   ]
  },
  {
   "cell_type": "code",
   "execution_count": null,
   "metadata": {},
   "outputs": [],
   "source": [
    "print(classification_report(dev_label_ids,dev_preds ))"
   ]
  },
  {
   "cell_type": "code",
   "execution_count": null,
   "metadata": {},
   "outputs": [],
   "source": [
    "# Save missed cases.\n",
    "save_missed_cases_to_file(\"BERT_sequential_missedcases_\" , dev_preds, dev_label_ids, train_inputs)\n"
   ]
  },
  {
   "cell_type": "markdown",
   "metadata": {},
   "source": [
    "# Hyper paramter tuning based on experiments in experiments_batch"
   ]
  },
  {
   "cell_type": "code",
   "execution_count": 1,
   "metadata": {},
   "outputs": [
    {
     "name": "stderr",
     "output_type": "stream",
     "text": [
      "INFO:root:***** Running training *****\n",
      "INFO:root:  Num examples = 99\n",
      "INFO:root:  Batch size = 12\n",
      "INFO:root:  Num steps = 8\n",
      "Epoch:   0%|                                                                                     | 0/1 [00:00<?, ?it/s]"
     ]
    },
    {
     "data": {
      "application/vnd.jupyter.widget-view+json": {
       "model_id": "aec32bcc921742b6ba6d5680433a3516",
       "version_major": 2,
       "version_minor": 0
      },
      "text/plain": [
       "HBox(children=(FloatProgress(value=0.0, description='Iteration', max=9.0, style=ProgressStyle(description_widt…"
      ]
     },
     "metadata": {},
     "output_type": "display_data"
    },
    {
     "name": "stderr",
     "output_type": "stream",
     "text": [
      "C:\\ProgramData\\Anaconda3\\lib\\site-packages\\torch\\optim\\lr_scheduler.py:131: UserWarning: Detected call of `lr_scheduler.step()` before `optimizer.step()`. In PyTorch 1.1.0 and later, you should call them in the opposite order: `optimizer.step()` before `lr_scheduler.step()`.  Failure to do this will result in PyTorch skipping the first value of the learning rate schedule. See more details at https://pytorch.org/docs/stable/optim.html#how-to-adjust-learning-rate\n",
      "  warnings.warn(\"Detected call of `lr_scheduler.step()` before `optimizer.step()`. \"\n",
      "Epoch: 100%|█████████████████████████████████████████████████████████████████████████████| 1/1 [00:35<00:00, 35.22s/it]"
     ]
    },
    {
     "name": "stdout",
     "output_type": "stream",
     "text": [
      "\n",
      "so far epoch accuracy:  0.09090909090909091\n",
      "Training complete\n",
      "Best val Acc: 0.090909\n"
     ]
    },
    {
     "name": "stderr",
     "output_type": "stream",
     "text": [
      "\n"
     ]
    },
    {
     "data": {
      "application/vnd.jupyter.widget-view+json": {
       "model_id": "b02f506245af4f7d831001ce294ece6b",
       "version_major": 2,
       "version_minor": 0
      },
      "text/plain": [
       "HBox(children=(FloatProgress(value=0.0, description='Evaluating', max=9.0, style=ProgressStyle(description_wid…"
      ]
     },
     "metadata": {},
     "output_type": "display_data"
    },
    {
     "name": "stderr",
     "output_type": "stream",
     "text": [
      "INFO:root:***** Running training *****\n",
      "INFO:root:  Num examples = 99\n",
      "INFO:root:  Batch size = 12\n",
      "INFO:root:  Num steps = 8\n"
     ]
    },
    {
     "name": "stdout",
     "output_type": "stream",
     "text": [
      "\n"
     ]
    },
    {
     "data": {
      "application/vnd.jupyter.widget-view+json": {
       "model_id": "1d2b00d5d8c44ae5a55a70c52341cf1c",
       "version_major": 2,
       "version_minor": 0
      },
      "text/plain": [
       "HBox(children=(FloatProgress(value=0.0, description='Evaluating', max=9.0, style=ProgressStyle(description_wid…"
      ]
     },
     "metadata": {},
     "output_type": "display_data"
    },
    {
     "name": "stdout",
     "output_type": "stream",
     "text": [
      "\n"
     ]
    },
    {
     "name": "stderr",
     "output_type": "stream",
     "text": [
      "INFO:root:***** Running training *****\n",
      "INFO:root:  Num examples = 99\n",
      "INFO:root:  Batch size = 12\n",
      "INFO:root:  Num steps = 8\n"
     ]
    },
    {
     "name": "stdout",
     "output_type": "stream",
     "text": [
      "\n",
      " label: [5 2 2 1 2 5 0 6 5 1 4 3 4 4 4 0 2 0 2 1 6 3 0 6 5 1 4 2 2 3 0 3 5 0 2 6 0\n",
      " 0 5 3 3 4 3 7 2 6 6 1 5 6 5 6 3 2 2 5 2 4 3 5 0 1 6 6 0 2 2 0 1 0 0 1 6 0\n",
      " 0 1 1 0 0 0 7 1 4 0 1 0 1 1 6 0 5 6 4 6 3 2 6 0 6]\n",
      "\n",
      " preds: [3 7 7 2 7 2 7 2 3 7 3 7 3 7 7 2 3 7 2 7 7 2 7 2 2 3 7 7 2 7 7 3 2 7 2 2 7\n",
      " 7 2 3 2 3 2 7 7 7 2 7 2 7 7 7 7 2 2 3 3 3 3 7 2 3 2 2 3 7 7 8 7 3 2 2 3 3\n",
      " 3 2 3 2 3 7 2 2 7 1 3 7 2 7 7 7 3 1 7 3 7 3 3 2 2]\n",
      "\n",
      " label: [0 4 8 2 3 7 6 1 0 0 8 8 8 8 3 8 1 8 8 5 8 2 8 3 8 8 8 6 0 2 8 8 1 8 3 8 0\n",
      " 2 8 0 5 0 0 8 2 8 8 5 2 8 2 7 8 8 4 3 8 0 8 8 0 8 8 8 8 5 8 8 5 8 0 8 5 8\n",
      " 8 3 2 8 0 1 0 1 8 6 3 0 8 8 2 0 8 0 6 0 6 0 8 4 2]\n",
      "\n",
      " preds: [3 3 6 7 3 1 2 3 3 3 2 6 7 2 3 4 7 8 2 3 2 2 8 3 8 6 1 3 7 3 8 2 2 6 2 1 3\n",
      " 2 2 4 7 7 2 8 2 4 8 2 2 2 3 3 8 7 7 3 2 3 2 8 3 6 3 3 6 2 8 2 2 3 3 8 3 2\n",
      " 6 2 7 5 4 3 2 7 2 3 2 7 2 7 7 3 6 3 2 3 4 2 2 3 3]\n"
     ]
    },
    {
     "name": "stderr",
     "output_type": "stream",
     "text": [
      "Epoch:   0%|                                                                                     | 0/1 [00:00<?, ?it/s]"
     ]
    },
    {
     "data": {
      "application/vnd.jupyter.widget-view+json": {
       "model_id": "f515f7b7613040f39ff73879cfa06c11",
       "version_major": 2,
       "version_minor": 0
      },
      "text/plain": [
       "HBox(children=(FloatProgress(value=0.0, description='Iteration', max=9.0, style=ProgressStyle(description_widt…"
      ]
     },
     "metadata": {},
     "output_type": "display_data"
    },
    {
     "name": "stderr",
     "output_type": "stream",
     "text": [
      "Epoch: 100%|█████████████████████████████████████████████████████████████████████████████| 1/1 [00:36<00:00, 36.52s/it]"
     ]
    },
    {
     "name": "stdout",
     "output_type": "stream",
     "text": [
      "\n",
      "so far epoch accuracy:  0.16161616161616163\n",
      "Training complete\n",
      "Best val Acc: 0.161616\n"
     ]
    },
    {
     "name": "stderr",
     "output_type": "stream",
     "text": [
      "\n"
     ]
    },
    {
     "data": {
      "application/vnd.jupyter.widget-view+json": {
       "model_id": "b0dc8948ed9542ada3dd1a91eef01a0d",
       "version_major": 2,
       "version_minor": 0
      },
      "text/plain": [
       "HBox(children=(FloatProgress(value=0.0, description='Evaluating', max=9.0, style=ProgressStyle(description_wid…"
      ]
     },
     "metadata": {},
     "output_type": "display_data"
    },
    {
     "name": "stderr",
     "output_type": "stream",
     "text": [
      "INFO:root:***** Running training *****\n",
      "INFO:root:  Num examples = 99\n",
      "INFO:root:  Batch size = 12\n",
      "INFO:root:  Num steps = 8\n"
     ]
    },
    {
     "name": "stdout",
     "output_type": "stream",
     "text": [
      "\n"
     ]
    },
    {
     "data": {
      "application/vnd.jupyter.widget-view+json": {
       "model_id": "f5050cec8df744338a8bbc9cc1e67bc5",
       "version_major": 2,
       "version_minor": 0
      },
      "text/plain": [
       "HBox(children=(FloatProgress(value=0.0, description='Evaluating', max=9.0, style=ProgressStyle(description_wid…"
      ]
     },
     "metadata": {},
     "output_type": "display_data"
    },
    {
     "name": "stdout",
     "output_type": "stream",
     "text": [
      "\n"
     ]
    },
    {
     "name": "stderr",
     "output_type": "stream",
     "text": [
      "INFO:root:***** Running training *****\n",
      "INFO:root:  Num examples = 99\n",
      "INFO:root:  Batch size = 12\n",
      "INFO:root:  Num steps = 8\n"
     ]
    },
    {
     "name": "stdout",
     "output_type": "stream",
     "text": [
      "\n",
      " label: [0 0 6 1 6 6 1 1 5 0 4 5 6 2 0 2 0 5 1 1 4 1 0 0 2 0 0 4 1 3 6 7 0 3 3 5 2\n",
      " 0 4 6 7 1 0 4 6 5 6 4 3 4 4 1 0 2 2 3 1 2 6 0 6 4 0 6 0 6 6 1 6 0 5 5 1 0\n",
      " 3 2 3 1 3 0 0 2 6 5 5 2 5 2 2 5 0 2 0 3 3 6 2 1 2]\n",
      "\n",
      " preds: [6 8 6 2 3 6 2 2 4 4 3 6 2 2 2 2 3 6 6 2 6 2 6 3 4 2 3 6 2 2 3 3 3 6 6 5 6\n",
      " 2 6 5 6 2 3 6 6 6 0 2 4 2 6 8 2 2 8 6 5 6 6 3 2 4 3 8 2 6 6 4 6 4 6 3 6 2\n",
      " 2 2 6 6 6 2 2 6 6 6 0 2 6 6 6 8 3 6 6 2 6 4 2 6 5]\n",
      "\n",
      " label: [5 8 7 2 8 8 0 8 3 5 8 8 2 2 0 8 5 8 0 0 8 8 7 3 0 1 2 6 0 8 8 4 4 3 6 8 8\n",
      " 1 1 0 8 8 8 4 6 8 8 2 1 8 6 5 3 8 8 8 8 0 2 2 8 5 0 0 5 0 8 8 8 6 2 8 2 8\n",
      " 8 0 8 8 2 8 0 8 0 8 0 0 3 8 0 3 0 8 8 8 3 8 1 8 8]\n",
      "\n",
      " preds: [6 0 6 6 0 3 2 0 2 2 1 0 2 8 2 1 6 3 2 2 8 4 2 6 4 6 6 3 2 0 0 4 2 6 2 3 0\n",
      " 2 6 8 1 3 7 6 8 3 2 5 6 4 8 2 5 0 2 8 3 4 0 5 1 3 3 8 6 8 1 1 2 2 4 4 6 3\n",
      " 3 2 4 3 5 7 3 4 3 2 6 3 6 1 6 2 2 1 3 4 6 2 6 3 3]\n"
     ]
    },
    {
     "name": "stderr",
     "output_type": "stream",
     "text": [
      "Epoch:   0%|                                                                                     | 0/1 [00:00<?, ?it/s]"
     ]
    },
    {
     "data": {
      "application/vnd.jupyter.widget-view+json": {
       "model_id": "578082d5acb34531822a2fdd97e4f3da",
       "version_major": 2,
       "version_minor": 0
      },
      "text/plain": [
       "HBox(children=(FloatProgress(value=0.0, description='Iteration', max=9.0, style=ProgressStyle(description_widt…"
      ]
     },
     "metadata": {},
     "output_type": "display_data"
    },
    {
     "name": "stderr",
     "output_type": "stream",
     "text": [
      "Epoch: 100%|█████████████████████████████████████████████████████████████████████████████| 1/1 [00:36<00:00, 36.98s/it]"
     ]
    },
    {
     "name": "stdout",
     "output_type": "stream",
     "text": [
      "\n",
      "so far epoch accuracy:  0.13131313131313133\n",
      "Training complete\n",
      "Best val Acc: 0.131313\n"
     ]
    },
    {
     "name": "stderr",
     "output_type": "stream",
     "text": [
      "\n"
     ]
    },
    {
     "data": {
      "application/vnd.jupyter.widget-view+json": {
       "model_id": "b5669785e93e4f729c86a0248258d7de",
       "version_major": 2,
       "version_minor": 0
      },
      "text/plain": [
       "HBox(children=(FloatProgress(value=0.0, description='Evaluating', max=9.0, style=ProgressStyle(description_wid…"
      ]
     },
     "metadata": {},
     "output_type": "display_data"
    },
    {
     "name": "stderr",
     "output_type": "stream",
     "text": [
      "INFO:root:***** Running training *****\n",
      "INFO:root:  Num examples = 99\n",
      "INFO:root:  Batch size = 12\n",
      "INFO:root:  Num steps = 8\n"
     ]
    },
    {
     "name": "stdout",
     "output_type": "stream",
     "text": [
      "\n"
     ]
    },
    {
     "data": {
      "application/vnd.jupyter.widget-view+json": {
       "model_id": "8e529b1521de4e8eb7edc869dc676e9e",
       "version_major": 2,
       "version_minor": 0
      },
      "text/plain": [
       "HBox(children=(FloatProgress(value=0.0, description='Evaluating', max=9.0, style=ProgressStyle(description_wid…"
      ]
     },
     "metadata": {},
     "output_type": "display_data"
    },
    {
     "name": "stdout",
     "output_type": "stream",
     "text": [
      "\n"
     ]
    },
    {
     "name": "stderr",
     "output_type": "stream",
     "text": [
      "INFO:root:***** Running training *****\n",
      "INFO:root:  Num examples = 99\n",
      "INFO:root:  Batch size = 12\n",
      "INFO:root:  Num steps = 8\n"
     ]
    },
    {
     "name": "stdout",
     "output_type": "stream",
     "text": [
      "\n",
      " label: [0 3 4 2 3 1 0 0 0 3 0 5 2 5 4 1 1 0 3 6 1 0 6 6 7 1 6 6 2 6 5 3 7 1 1 0 3\n",
      " 1 2 6 4 1 2 6 4 6 0 4 0 6 6 0 2 2 3 6 2 6 3 5 2 5 0 0 4 2 1 6 1 0 5 5 0 1\n",
      " 0 4 0 3 0 0 5 2 0 2 3 4 4 6 5 2 2 1 2 1 5 5 0 6 0]\n",
      "\n",
      " preds: [2 3 3 3 3 3 6 3 0 3 2 3 3 3 0 3 3 3 3 2 3 6 6 3 3 3 3 3 3 3 3 3 4 6 3 3 3\n",
      " 3 3 3 3 3 3 3 3 3 2 0 0 3 3 3 3 3 3 3 3 4 3 3 3 3 2 2 3 3 3 4 3 0 3 3 3 2\n",
      " 4 6 6 3 0 0 3 3 3 3 3 3 0 3 4 3 3 4 3 4 3 3 6 3 0]\n",
      "\n",
      " label: [0 8 0 2 8 2 5 8 5 3 0 8 2 6 8 1 8 8 8 6 4 8 0 8 8 2 5 0 3 2 8 0 4 8 2 8 8\n",
      " 5 6 1 8 8 8 0 0 0 8 1 0 8 0 2 3 8 2 8 8 8 4 8 2 8 8 0 5 8 3 7 0 8 3 8 8 2\n",
      " 8 0 6 1 8 8 8 1 8 5 0 8 8 7 8 8 3 3 0 8 0 8 8 6 0]\n",
      "\n",
      " preds: [0 2 3 3 8 3 3 3 3 3 2 3 3 3 2 4 3 3 2 3 3 3 2 4 2 3 3 0 3 3 3 0 0 0 0 4 2\n",
      " 6 3 3 8 3 3 0 3 0 2 0 3 2 2 3 3 3 3 4 0 3 3 2 3 2 2 3 0 2 3 3 6 0 3 2 2 3\n",
      " 6 3 3 3 5 2 2 3 3 3 0 4 2 4 0 3 0 3 0 3 2 2 8 0 0]\n"
     ]
    },
    {
     "name": "stderr",
     "output_type": "stream",
     "text": [
      "Epoch:   0%|                                                                                     | 0/1 [00:00<?, ?it/s]"
     ]
    },
    {
     "data": {
      "application/vnd.jupyter.widget-view+json": {
       "model_id": "202fdfdd415e4cbd800f79a99ca689b5",
       "version_major": 2,
       "version_minor": 0
      },
      "text/plain": [
       "HBox(children=(FloatProgress(value=0.0, description='Iteration', max=9.0, style=ProgressStyle(description_widt…"
      ]
     },
     "metadata": {},
     "output_type": "display_data"
    },
    {
     "name": "stderr",
     "output_type": "stream",
     "text": [
      "Epoch: 100%|█████████████████████████████████████████████████████████████████████████████| 1/1 [00:37<00:00, 37.38s/it]"
     ]
    },
    {
     "name": "stdout",
     "output_type": "stream",
     "text": [
      "\n",
      "so far epoch accuracy:  0.08080808080808081\n",
      "Training complete\n",
      "Best val Acc: 0.080808\n"
     ]
    },
    {
     "name": "stderr",
     "output_type": "stream",
     "text": [
      "\n"
     ]
    },
    {
     "data": {
      "application/vnd.jupyter.widget-view+json": {
       "model_id": "8df445c2726e4ff8aa39dd6161844724",
       "version_major": 2,
       "version_minor": 0
      },
      "text/plain": [
       "HBox(children=(FloatProgress(value=0.0, description='Evaluating', max=9.0, style=ProgressStyle(description_wid…"
      ]
     },
     "metadata": {},
     "output_type": "display_data"
    },
    {
     "name": "stderr",
     "output_type": "stream",
     "text": [
      "INFO:root:***** Running training *****\n",
      "INFO:root:  Num examples = 99\n",
      "INFO:root:  Batch size = 12\n",
      "INFO:root:  Num steps = 8\n"
     ]
    },
    {
     "name": "stdout",
     "output_type": "stream",
     "text": [
      "\n"
     ]
    },
    {
     "data": {
      "application/vnd.jupyter.widget-view+json": {
       "model_id": "fd518d8332424e7498070f45f3be1aef",
       "version_major": 2,
       "version_minor": 0
      },
      "text/plain": [
       "HBox(children=(FloatProgress(value=0.0, description='Evaluating', max=9.0, style=ProgressStyle(description_wid…"
      ]
     },
     "metadata": {},
     "output_type": "display_data"
    },
    {
     "name": "stdout",
     "output_type": "stream",
     "text": [
      "\n"
     ]
    },
    {
     "name": "stderr",
     "output_type": "stream",
     "text": [
      "INFO:root:***** Running training *****\n",
      "INFO:root:  Num examples = 99\n",
      "INFO:root:  Batch size = 24\n",
      "INFO:root:  Num steps = 4\n"
     ]
    },
    {
     "name": "stdout",
     "output_type": "stream",
     "text": [
      "\n",
      " label: [3 6 6 5 6 5 5 0 4 4 2 6 0 0 4 6 1 2 1 6 0 0 1 0 2 2 5 6 4 2 1 4 3 6 6 3 6\n",
      " 0 3 0 7 0 6 2 5 5 1 2 3 0 1 1 5 0 1 0 4 2 0 0 6 1 1 0 0 2 1 3 1 3 0 3 6 6\n",
      " 3 2 0 1 2 2 6 5 2 7 3 4 0 4 1 0 6 0 2 4 2 5 0 5 5]\n",
      "\n",
      " preds: [6 3 3 3 3 3 3 3 3 0 3 3 3 3 6 3 0 3 2 3 3 6 3 3 3 3 2 3 3 3 3 6 0 6 3 3 6\n",
      " 6 3 3 6 2 3 3 3 3 3 3 3 3 3 3 3 6 3 3 3 6 1 6 3 3 3 3 3 3 3 3 2 3 3 3 1 3\n",
      " 3 3 6 6 3 3 3 3 2 2 0 0 3 3 3 6 3 3 3 3 3 3 3 3 3]\n",
      "\n",
      " label: [0 2 4 1 2 8 0 8 5 4 0 8 8 0 6 0 6 3 0 8 8 7 8 0 1 8 2 5 8 8 2 8 0 2 8 0 8\n",
      " 8 2 8 0 8 2 8 8 8 8 0 8 3 8 8 8 8 8 2 6 0 0 5 8 1 5 0 8 8 8 2 5 8 7 2 4 8\n",
      " 8 8 8 8 1 0 0 3 6 8 0 5 3 6 1 3 3 8 0 8 8 8 8 3 8]\n",
      "\n",
      " preds: [3 3 0 3 3 7 3 7 3 6 3 7 2 3 3 3 3 3 2 3 1 2 3 3 3 6 3 6 3 3 3 7 3 3 7 3 7\n",
      " 3 3 7 2 6 0 7 7 6 7 3 0 3 6 7 6 6 7 6 3 3 3 3 7 3 0 0 3 3 7 3 3 2 2 3 3 4\n",
      " 6 6 7 3 0 2 3 3 6 6 3 3 5 3 3 3 3 3 3 3 7 7 7 3 3]\n"
     ]
    },
    {
     "name": "stderr",
     "output_type": "stream",
     "text": [
      "Epoch:   0%|                                                                                     | 0/1 [00:00<?, ?it/s]"
     ]
    },
    {
     "data": {
      "application/vnd.jupyter.widget-view+json": {
       "model_id": "5999c7aef28e461cafc1eb5e121c9f35",
       "version_major": 2,
       "version_minor": 0
      },
      "text/plain": [
       "HBox(children=(FloatProgress(value=0.0, description='Iteration', max=5.0, style=ProgressStyle(description_widt…"
      ]
     },
     "metadata": {},
     "output_type": "display_data"
    },
    {
     "name": "stderr",
     "output_type": "stream",
     "text": [
      "Epoch: 100%|█████████████████████████████████████████████████████████████████████████████| 1/1 [00:33<00:00, 33.85s/it]"
     ]
    },
    {
     "name": "stdout",
     "output_type": "stream",
     "text": [
      "\n",
      "so far epoch accuracy:  0.13131313131313133\n",
      "Training complete\n",
      "Best val Acc: 0.131313\n"
     ]
    },
    {
     "name": "stderr",
     "output_type": "stream",
     "text": [
      "\n"
     ]
    },
    {
     "data": {
      "application/vnd.jupyter.widget-view+json": {
       "model_id": "064485ffb3384c14bfe2f4e5ac936859",
       "version_major": 2,
       "version_minor": 0
      },
      "text/plain": [
       "HBox(children=(FloatProgress(value=0.0, description='Evaluating', max=5.0, style=ProgressStyle(description_wid…"
      ]
     },
     "metadata": {},
     "output_type": "display_data"
    },
    {
     "name": "stderr",
     "output_type": "stream",
     "text": [
      "INFO:root:***** Running training *****\n",
      "INFO:root:  Num examples = 99\n",
      "INFO:root:  Batch size = 24\n",
      "INFO:root:  Num steps = 4\n"
     ]
    },
    {
     "name": "stdout",
     "output_type": "stream",
     "text": [
      "\n"
     ]
    },
    {
     "data": {
      "application/vnd.jupyter.widget-view+json": {
       "model_id": "0f08a33ca9d048d9b592a66347fc5f93",
       "version_major": 2,
       "version_minor": 0
      },
      "text/plain": [
       "HBox(children=(FloatProgress(value=0.0, description='Evaluating', max=5.0, style=ProgressStyle(description_wid…"
      ]
     },
     "metadata": {},
     "output_type": "display_data"
    },
    {
     "name": "stdout",
     "output_type": "stream",
     "text": [
      "\n",
      "\n",
      " label: [1 3 3 6 2 1 1 0 2 6 0 4 0 6 0 1 4 1 0 4 6 1 2 0 2 0 1 0 5 6 2 0 5 3 6 3 2\n",
      " 2 5 4 1 7 5 6 2 7 2 6 6 2 5 4 0 0 3 0 4 5 2 5 6 3 6 2 4 6 0 6 0 3 5 0 0 0\n",
      " 3 1 6 2 0 4 0 2 4 6 0 0 0 1 1 2 5 1 5 6 3 1 3 1 5]\n",
      "\n",
      " preds: [7 6 5 5 6 4 5 6 5 5 6 6 6 6 6 4 4 5 6 5 6 1 4 6 5 1 6 6 5 7 7 7 4 6 5 6 5\n",
      " 6 6 5 6 6 5 7 5 6 4 7 6 5 5 6 6 4 4 6 5 7 6 7 5 4 6 5 6 6 6 7 6 6 5 6 6 5\n",
      " 7 1 6 7 6 4 7 5 5 5 6 5 6 4 6 4 6 7 7 6 4 7 5 7 6]\n",
      "\n",
      " label: [3 0 6 8 8 7 0 8 8 4 8 0 8 8 0 0 6 8 4 0 5 6 3 2 0 3 8 2 8 8 8 8 8 8 0 6 6\n",
      " 8 3 8 0 8 0 8 2 8 8 8 7 2 8 8 2 2 3 8 4 5 0 8 8 0 8 3 8 5 5 2 8 8 8 1 0 3\n",
      " 0 2 2 8 8 1 8 8 5 0 8 1 1 0 0 5 0 8 8 8 2 8 8 8 1]\n",
      "\n",
      " preds: [4 1 4 3 6 6 1 6 3 5 6 6 6 2 7 5 7 6 5 4 6 6 3 4 1 7 0 3 3 5 3 6 3 6 7 4 6\n",
      " 3 7 6 5 4 6 4 3 6 6 3 5 5 1 3 6 5 4 3 4 5 6 2 3 6 2 4 4 3 6 4 6 6 6 6 5 1\n",
      " 5 4 5 7 3 4 6 4 4 6 3 6 6 6 6 6 1 2 5 4 5 6 3 3 6]\n"
     ]
    }
   ],
   "source": [
    "device = torch.device(\"cuda\" if torch.cuda.is_available() else \"cpu\")\n",
    "# device = \"cpu\"\n",
    "from  experiments_batch import run_all_experiments_save\n",
    "run_all_experiments_save(device)"
   ]
  },
  {
   "cell_type": "code",
   "execution_count": null,
   "metadata": {},
   "outputs": [],
   "source": []
  }
 ],
 "metadata": {
  "kernelspec": {
   "display_name": "Python 3",
   "language": "python",
   "name": "python3"
  },
  "language_info": {
   "codemirror_mode": {
    "name": "ipython",
    "version": 3
   },
   "file_extension": ".py",
   "mimetype": "text/x-python",
   "name": "python",
   "nbconvert_exporter": "python",
   "pygments_lexer": "ipython3",
   "version": "3.8.3"
  }
 },
 "nbformat": 4,
 "nbformat_minor": 4
}
