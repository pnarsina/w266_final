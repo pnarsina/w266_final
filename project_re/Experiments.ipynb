{
 "cells": [
  {
   "cell_type": "code",
   "execution_count": 1,
   "metadata": {},
   "outputs": [],
   "source": [
    "%load_ext autoreload\n",
    "%autoreload\n",
    "import os, json\n",
    "from types import SimpleNamespace\n",
    "from experiment import run_model\n",
    "from eval import calculate_stats\n",
    "import pickle\n",
    "from datetime import datetime \n",
    "import torch\n",
    "from transformers import BertTokenizer\n",
    "from sklearn.metrics import classification_report\n",
    "from util.tools import load_config, configEncoder"
   ]
  },
  {
   "cell_type": "code",
   "execution_count": 2,
   "metadata": {},
   "outputs": [],
   "source": [
    "# device = torch.device(\"cuda\" if torch.cuda.is_available() else \"cpu\")\n",
    "device = \"cpu\""
   ]
  },
  {
   "cell_type": "code",
   "execution_count": 3,
   "metadata": {},
   "outputs": [],
   "source": [
    "config_folder = \"config/\"\n",
    "config = load_config(config_folder)\n"
   ]
  },
  {
   "cell_type": "code",
   "execution_count": 4,
   "metadata": {},
   "outputs": [
    {
     "name": "stderr",
     "output_type": "stream",
     "text": [
      "INFO:root:***** Running training *****\n",
      "INFO:root:  Num examples = 99\n",
      "INFO:root:  Batch size = 24\n",
      "INFO:root:  Num steps = 12\n"
     ]
    },
    {
     "name": "stdout",
     "output_type": "stream",
     "text": [
      "from model {'config': <util.tools.config object at 0x000001C9A582CDF0>, 'bert_features': 768, 'layer1_features': 256, 'max_seq_length': 256, 'label_classes': 9, 'kernel_1': 24, 'kernel_2': 36, 'kernel_3': 48, 'out_size': 64, 'stride': 1} in feature 35712\n"
     ]
    },
    {
     "name": "stderr",
     "output_type": "stream",
     "text": [
      "Epoch:   0%|                                                                                     | 0/3 [00:00<?, ?it/s]"
     ]
    },
    {
     "data": {
      "application/vnd.jupyter.widget-view+json": {
       "model_id": "6325f5b15ea34c6fbe3aeb87863141d7",
       "version_major": 2,
       "version_minor": 0
      },
      "text/plain": [
       "HBox(children=(FloatProgress(value=0.0, description='Iteration', max=5.0, style=ProgressStyle(description_widt…"
      ]
     },
     "metadata": {},
     "output_type": "display_data"
    },
    {
     "name": "stderr",
     "output_type": "stream",
     "text": [
      "C:\\ProgramData\\Anaconda3\\lib\\site-packages\\torch\\optim\\lr_scheduler.py:131: UserWarning: Detected call of `lr_scheduler.step()` before `optimizer.step()`. In PyTorch 1.1.0 and later, you should call them in the opposite order: `optimizer.step()` before `lr_scheduler.step()`.  Failure to do this will result in PyTorch skipping the first value of the learning rate schedule. See more details at https://pytorch.org/docs/stable/optim.html#how-to-adjust-learning-rate\n",
      "  warnings.warn(\"Detected call of `lr_scheduler.step()` before `optimizer.step()`. \"\n",
      "Epoch:  33%|█████████████████████████▋                                                   | 1/3 [01:12<02:25, 72.98s/it]"
     ]
    },
    {
     "name": "stdout",
     "output_type": "stream",
     "text": [
      "\n",
      "so far epoch accuracy:  0.16161616161616163\n"
     ]
    },
    {
     "data": {
      "application/vnd.jupyter.widget-view+json": {
       "model_id": "f77d4557ecc6462e85a4ecf405823407",
       "version_major": 2,
       "version_minor": 0
      },
      "text/plain": [
       "HBox(children=(FloatProgress(value=0.0, description='Iteration', max=5.0, style=ProgressStyle(description_widt…"
      ]
     },
     "metadata": {},
     "output_type": "display_data"
    },
    {
     "name": "stderr",
     "output_type": "stream",
     "text": [
      "Epoch:  67%|███████████████████████████████████████████████████▎                         | 2/3 [02:27<01:13, 73.59s/it]"
     ]
    },
    {
     "name": "stdout",
     "output_type": "stream",
     "text": [
      "\n"
     ]
    },
    {
     "data": {
      "application/vnd.jupyter.widget-view+json": {
       "model_id": "99b53a69009046fa993b288cdb40e6f2",
       "version_major": 2,
       "version_minor": 0
      },
      "text/plain": [
       "HBox(children=(FloatProgress(value=0.0, description='Iteration', max=5.0, style=ProgressStyle(description_widt…"
      ]
     },
     "metadata": {},
     "output_type": "display_data"
    },
    {
     "name": "stderr",
     "output_type": "stream",
     "text": [
      "Epoch: 100%|█████████████████████████████████████████████████████████████████████████████| 3/3 [03:42<00:00, 74.30s/it]"
     ]
    },
    {
     "name": "stdout",
     "output_type": "stream",
     "text": [
      "\n",
      "Training complete\n",
      "Best val Acc: 0.161616\n"
     ]
    },
    {
     "name": "stderr",
     "output_type": "stream",
     "text": [
      "\n"
     ]
    },
    {
     "data": {
      "application/vnd.jupyter.widget-view+json": {
       "model_id": "b1378d75c52d4b4b9b3219d06701b932",
       "version_major": 2,
       "version_minor": 0
      },
      "text/plain": [
       "HBox(children=(FloatProgress(value=0.0, description='Evaluating', max=5.0, style=ProgressStyle(description_wid…"
      ]
     },
     "metadata": {},
     "output_type": "display_data"
    },
    {
     "name": "stdout",
     "output_type": "stream",
     "text": [
      "\n"
     ]
    },
    {
     "name": "stderr",
     "output_type": "stream",
     "text": [
      "100%|██████████████████████████████████████████████████████████████████████████████████| 99/99 [00:08<00:00, 11.20it/s]\n",
      "INFO:root:***** Running training *****\n",
      "INFO:root:  Num examples = 99\n",
      "INFO:root:  Batch size = 24\n",
      "INFO:root:  Num steps = 12\n"
     ]
    },
    {
     "data": {
      "application/vnd.jupyter.widget-view+json": {
       "model_id": "c67978f373f840e4814944a0b7eebf35",
       "version_major": 2,
       "version_minor": 0
      },
      "text/plain": [
       "HBox(children=(FloatProgress(value=0.0, description='Evaluating', max=5.0, style=ProgressStyle(description_wid…"
      ]
     },
     "metadata": {},
     "output_type": "display_data"
    },
    {
     "name": "stdout",
     "output_type": "stream",
     "text": [
      "\n"
     ]
    }
   ],
   "source": [
    "train_inputs, train_label_ids, train_preds, train_loss, dev_inputs, dev_label_ids, dev_loss, dev_preds = run_model(config, device)"
   ]
  },
  {
   "cell_type": "code",
   "execution_count": 5,
   "metadata": {},
   "outputs": [
    {
     "data": {
      "text/plain": [
       "(array([[ 101,  118, 5351, ...,    0,    0,    0],\n",
       "        [ 101, 1429,  119, ...,    0,    0,    0],\n",
       "        [ 101, 1230,  156, ...,    0,    0,    0],\n",
       "        ...,\n",
       "        [ 101, 2907, 1598, ...,    0,    0,    0],\n",
       "        [ 101, 1967, 1185, ...,    0,    0,    0],\n",
       "        [ 101,  129,  119, ...,    0,    0,    0]], dtype=int64),\n",
       " array([1, 6, 0, 4, 0, 2, 0, 6, 0, 2, 4, 0, 2, 1, 0, 2, 5, 5, 2, 0, 2, 5,\n",
       "        0, 5, 4, 1, 0, 6, 1, 1, 5, 6, 5, 2, 6, 0, 2, 0, 3, 3, 0, 1, 2, 2,\n",
       "        0, 3, 2, 1, 3, 5, 0, 4, 6, 5, 5, 6, 6, 7, 3, 1, 2, 6, 1, 6, 0, 0,\n",
       "        6, 1, 1, 3, 7, 3, 0, 5, 5, 0, 4, 1, 4, 0, 6, 1, 6, 4, 0, 0, 3, 4,\n",
       "        6, 3, 1, 2, 4, 3, 0, 6, 2, 6, 2], dtype=int64),\n",
       " array([6, 6, 6, 6, 6, 6, 6, 6, 6, 6, 6, 6, 6, 6, 6, 6, 6, 6, 6, 6, 6, 6,\n",
       "        6, 6, 6, 6, 6, 6, 6, 6, 6, 6, 6, 6, 6, 6, 6, 6, 6, 6, 6, 6, 6, 6,\n",
       "        6, 6, 6, 6, 6, 6, 6, 6, 6, 6, 6, 6, 6, 6, 6, 6, 6, 6, 6, 6, 6, 6,\n",
       "        6, 6, 6, 6, 6, 6, 6, 6, 6, 6, 6, 6, 6, 6, 6, 6, 6, 6, 6, 6, 6, 6,\n",
       "        6, 6, 6, 6, 6, 6, 6, 6, 6, 6, 6], dtype=int64),\n",
       " 2.1836008071899413,\n",
       " array([[  101,  1230,  7621, ...,     0,     0,     0],\n",
       "        [  101,  2508, 13923, ...,     0,     0,     0],\n",
       "        [  101,  1109,  1268, ...,     0,     0,     0],\n",
       "        ...,\n",
       "        [  101,  1130,  1117, ...,     0,     0,     0],\n",
       "        [  101, 10722,  2137, ...,     0,     0,     0],\n",
       "        [  101, 10289,  1204, ...,     0,     0,     0]], dtype=int64),\n",
       " array([8, 3, 8, 2, 8, 5, 4, 8, 2, 2, 8, 8, 8, 0, 1, 0, 8, 6, 1, 5, 5, 0,\n",
       "        1, 3, 3, 8, 6, 7, 0, 8, 8, 2, 8, 8, 0, 8, 2, 8, 0, 0, 6, 2, 3, 0,\n",
       "        7, 2, 0, 3, 2, 8, 8, 6, 0, 5, 0, 8, 8, 8, 8, 0, 8, 2, 8, 0, 0, 8,\n",
       "        8, 2, 8, 3, 4, 8, 0, 1, 8, 8, 1, 8, 8, 4, 8, 8, 5, 0, 0, 6, 8, 0,\n",
       "        8, 8, 8, 8, 3, 8, 8, 5, 8, 8, 8], dtype=int64),\n",
       " 2.2014145851135254,\n",
       " array([6, 6, 6, 6, 6, 6, 6, 6, 6, 6, 6, 6, 6, 6, 6, 6, 6, 6, 6, 6, 6, 6,\n",
       "        6, 6, 6, 6, 6, 6, 6, 6, 6, 6, 6, 6, 6, 6, 6, 6, 6, 6, 6, 6, 6, 6,\n",
       "        6, 6, 6, 6, 6, 6, 6, 6, 6, 6, 6, 6, 6, 6, 6, 6, 6, 6, 6, 6, 6, 6,\n",
       "        6, 6, 6, 6, 6, 6, 6, 6, 6, 6, 6, 6, 6, 6, 6, 6, 6, 6, 6, 6, 6, 6,\n",
       "        6, 6, 6, 6, 6, 6, 6, 6, 6, 6, 6], dtype=int64))"
      ]
     },
     "execution_count": 5,
     "metadata": {},
     "output_type": "execute_result"
    }
   ],
   "source": [
    "train_inputs, train_label_ids, train_preds, train_loss, dev_inputs, dev_label_ids, dev_loss, dev_preds"
   ]
  },
  {
   "cell_type": "code",
   "execution_count": 6,
   "metadata": {},
   "outputs": [
    {
     "name": "stdout",
     "output_type": "stream",
     "text": [
      "              precision    recall  f1-score   support\n",
      "\n",
      "           0       0.00      0.00      0.00        18\n",
      "           1       0.00      0.00      0.00         5\n",
      "           2       0.00      0.00      0.00        10\n",
      "           3       0.00      0.00      0.00         7\n",
      "           4       0.00      0.00      0.00         3\n",
      "           5       0.00      0.00      0.00         6\n",
      "           6       0.05      1.00      0.10         5\n",
      "           7       0.00      0.00      0.00         2\n",
      "           8       0.00      0.00      0.00        43\n",
      "\n",
      "    accuracy                           0.05        99\n",
      "   macro avg       0.01      0.11      0.01        99\n",
      "weighted avg       0.00      0.05      0.00        99\n",
      "\n"
     ]
    },
    {
     "name": "stderr",
     "output_type": "stream",
     "text": [
      "C:\\ProgramData\\Anaconda3\\lib\\site-packages\\sklearn\\metrics\\_classification.py:1221: UndefinedMetricWarning: Precision and F-score are ill-defined and being set to 0.0 in labels with no predicted samples. Use `zero_division` parameter to control this behavior.\n",
      "  _warn_prf(average, modifier, msg_start, len(result))\n"
     ]
    }
   ],
   "source": [
    "print(classification_report(dev_label_ids,dev_preds ))"
   ]
  },
  {
   "cell_type": "code",
   "execution_count": 7,
   "metadata": {},
   "outputs": [],
   "source": [
    "def save_missed_cases_to_file(file_start_name, dev_preds, dev_label_ids, train_inputs):\n",
    "    tokenizer = BertTokenizer.from_pretrained('bert-base-cased', do_lower_case=False)\n",
    "    missed_cases = []\n",
    "    for i in range(0,50):\n",
    "        if dev_label_ids[i] !=  dev_preds[i]:\n",
    "             missed_cases.append([ dev_preds[i],  dev_label_ids[i] , \" \". join (tokenizer.convert_ids_to_tokens(train_inputs[i])) ])\n",
    "\n",
    "    #Save into a file\n",
    "    missed_cases_file = config.programsettings.REPORTS_DIR +file_start_name + str(datetime.now()).replace(\":\", \"_\").replace(\".\", \"_\") + \".pkl\"\n",
    "    with open(missed_cases_file, \"wb\") as f:\n",
    "        pickle.dump(missed_cases, f)  \n",
    "        \n",
    "save_missed_cases_to_file(\"BIOBERT_fc_missedcases_\" , dev_preds, dev_label_ids, train_inputs)"
   ]
  },
  {
   "cell_type": "code",
   "execution_count": 8,
   "metadata": {},
   "outputs": [
    {
     "data": {
      "text/plain": [
       "((99,), (99,), (99,), (99,))"
      ]
     },
     "execution_count": 8,
     "metadata": {},
     "output_type": "execute_result"
    }
   ],
   "source": [
    "import numpy as np\n",
    "np.array(dev_label_ids).shape, np.array(dev_preds).shape, np.array(train_preds).shape, np.array(train_label_ids).shape"
   ]
  },
  {
   "cell_type": "code",
   "execution_count": 9,
   "metadata": {},
   "outputs": [
    {
     "name": "stdout",
     "output_type": "stream",
     "text": [
      "\n",
      " label: [0 3 2 5 4 6 2 5 0 1 5 5 1 0 5 3 4 6 6 2 7 6 5 0 0 6 0 1 0 6 0 6 0 3 1 1 4\n",
      " 2 4 3 0 1 0 2 2 2 3 5 7 6 3 6 1 4 3 0 3 2 0 0 1 3 6 4 6 6 2 1 5 5 2 6 6 3\n",
      " 0 0 5 4 2 0 1 2 1 0 4 0 0 2 2 1 0 2 1 1 0 6 5 4 6]\n",
      "\n",
      " preds: [6 6 4 6 4 4 4 7 7 4 3 4 6 4 6 4 4 4 6 4 7 6 6 4 4 4 4 4 7 6 7 6 4 6 4 6 4\n",
      " 6 4 4 6 6 6 6 6 4 6 6 7 6 4 6 4 4 4 6 6 6 6 6 6 4 6 4 6 6 6 6 6 4 4 6 6 4\n",
      " 6 6 4 6 6 6 6 4 3 6 4 3 6 6 6 4 6 4 4 4 4 4 4 4 7]\n",
      "\n",
      " label: [6 2 8 2 8 8 8 0 0 3 5 0 8 1 8 3 8 8 8 8 0 0 8 8 8 8 6 8 2 7 3 8 3 6 0 2 0\n",
      " 6 5 0 8 1 6 1 3 0 7 0 0 8 8 8 8 8 0 8 4 2 2 8 0 5 1 2 8 8 8 0 5 8 4 2 8 0\n",
      " 8 0 8 8 8 3 8 8 4 5 2 5 2 0 3 8 0 8 8 8 8 8 8 8 1]\n",
      "\n",
      " preds: [6 6 7 4 7 7 4 4 6 4 6 6 4 6 7 4 7 6 6 4 6 4 7 7 6 7 6 6 6 7 4 4 6 6 3 4 4\n",
      " 7 4 4 4 6 4 6 6 4 4 6 4 6 7 4 4 7 6 7 4 4 4 7 4 6 4 4 7 6 7 4 6 7 4 6 6 4\n",
      " 7 6 4 7 7 6 7 6 6 6 7 6 4 4 4 6 4 7 7 6 3 4 7 4 4]\n"
     ]
    }
   ],
   "source": [
    "%autoreload\n",
    "train_mcc, train_f1_score, train_df_results, train_label_matches_df = calculate_stats(train_label_ids,train_preds )\n",
    "dev_mcc, dev_f1_score, dev_df_results, dev_label_matches_df = calculate_stats(dev_label_ids,dev_preds )"
   ]
  },
  {
   "cell_type": "code",
   "execution_count": 10,
   "metadata": {},
   "outputs": [
    {
     "data": {
      "text/plain": [
       "[[<util.tools.config at 0x2ea8c1b7a30>,\n",
       "  2.1800858974456787,\n",
       "  2.2085455417633058,\n",
       "  0.1305070354677441,\n",
       "  0.13842203548085902,\n",
       "  0.03532304615650811,\n",
       "  0.03616457816999822,\n",
       "  array([6, 2, 8, 2, 8, 8, 8, 0, 0, 3, 5, 0, 8, 1, 8, 3, 8, 8, 8, 8, 0, 0,\n",
       "         8, 8, 8, 8, 6, 8, 2, 7, 3, 8, 3, 6, 0, 2, 0, 6, 5, 0, 8, 1, 6, 1,\n",
       "         3, 0, 7, 0, 0, 8, 8, 8, 8, 8, 0, 8, 4, 2, 2, 8, 0, 5, 1, 2, 8, 8,\n",
       "         8, 0, 5, 8, 4, 2, 8, 0, 8, 0, 8, 8, 8, 3, 8, 8, 4, 5, 2, 5, 2, 0,\n",
       "         3, 8, 0, 8, 8, 8, 8, 8, 8, 8, 1], dtype=int64),\n",
       "  array([6, 6, 7, 4, 7, 7, 4, 4, 6, 4, 6, 6, 4, 6, 7, 4, 7, 6, 6, 4, 6, 4,\n",
       "         7, 7, 6, 7, 6, 6, 6, 7, 4, 4, 6, 6, 3, 4, 4, 7, 4, 4, 4, 6, 4, 6,\n",
       "         6, 4, 4, 6, 4, 6, 7, 4, 4, 7, 6, 7, 4, 4, 4, 7, 4, 6, 4, 4, 7, 6,\n",
       "         7, 4, 6, 7, 4, 6, 6, 4, 7, 6, 4, 7, 7, 6, 7, 6, 6, 6, 7, 6, 4, 4,\n",
       "         4, 6, 4, 7, 7, 6, 3, 4, 7, 4, 4], dtype=int64),\n",
       "  array([0, 3, 2, 5, 4, 6, 2, 5, 0, 1, 5, 5, 1, 0, 5, 3, 4, 6, 6, 2, 7, 6,\n",
       "         5, 0, 0, 6, 0, 1, 0, 6, 0, 6, 0, 3, 1, 1, 4, 2, 4, 3, 0, 1, 0, 2,\n",
       "         2, 2, 3, 5, 7, 6, 3, 6, 1, 4, 3, 0, 3, 2, 0, 0, 1, 3, 6, 4, 6, 6,\n",
       "         2, 1, 5, 5, 2, 6, 6, 3, 0, 0, 5, 4, 2, 0, 1, 2, 1, 0, 4, 0, 0, 2,\n",
       "         2, 1, 0, 2, 1, 1, 0, 6, 5, 4, 6], dtype=int64),\n",
       "  array([6, 6, 4, 6, 4, 4, 4, 7, 7, 4, 3, 4, 6, 4, 6, 4, 4, 4, 6, 4, 7, 6,\n",
       "         6, 4, 4, 4, 4, 4, 7, 6, 7, 6, 4, 6, 4, 6, 4, 6, 4, 4, 6, 6, 6, 6,\n",
       "         6, 4, 6, 6, 7, 6, 4, 6, 4, 4, 4, 6, 6, 6, 6, 6, 6, 4, 6, 4, 6, 6,\n",
       "         6, 6, 6, 4, 4, 6, 6, 4, 6, 6, 4, 6, 6, 6, 6, 4, 3, 6, 4, 3, 6, 6,\n",
       "         6, 4, 6, 4, 4, 4, 4, 4, 4, 4, 7], dtype=int64)]]"
      ]
     },
     "execution_count": 10,
     "metadata": {},
     "output_type": "execute_result"
    }
   ],
   "source": [
    "all_experiment_results = []\n",
    "all_experiment_results.append([config, train_loss, dev_loss, train_mcc, train_f1_score,dev_mcc,dev_f1_score, \n",
    "                               dev_label_ids, dev_preds,train_label_ids,train_preds  ])\n",
    "all_experiment_results"
   ]
  },
  {
   "cell_type": "code",
   "execution_count": 11,
   "metadata": {},
   "outputs": [
    {
     "data": {
      "text/html": [
       "<div>\n",
       "<style scoped>\n",
       "    .dataframe tbody tr th:only-of-type {\n",
       "        vertical-align: middle;\n",
       "    }\n",
       "\n",
       "    .dataframe tbody tr th {\n",
       "        vertical-align: top;\n",
       "    }\n",
       "\n",
       "    .dataframe thead th {\n",
       "        text-align: right;\n",
       "    }\n",
       "</style>\n",
       "<table border=\"1\" class=\"dataframe\">\n",
       "  <thead>\n",
       "    <tr style=\"text-align: right;\">\n",
       "      <th></th>\n",
       "      <th></th>\n",
       "      <th>predicted</th>\n",
       "    </tr>\n",
       "    <tr>\n",
       "      <th>labels</th>\n",
       "      <th>matched</th>\n",
       "      <th></th>\n",
       "    </tr>\n",
       "  </thead>\n",
       "  <tbody>\n",
       "    <tr>\n",
       "      <th rowspan=\"2\" valign=\"top\">ADE-Drug</th>\n",
       "      <th>False</th>\n",
       "      <td>1</td>\n",
       "    </tr>\n",
       "    <tr>\n",
       "      <th>True</th>\n",
       "      <td>1</td>\n",
       "    </tr>\n",
       "    <tr>\n",
       "      <th rowspan=\"2\" valign=\"top\">Dosage-Drug</th>\n",
       "      <th>False</th>\n",
       "      <td>2</td>\n",
       "    </tr>\n",
       "    <tr>\n",
       "      <th>True</th>\n",
       "      <td>3</td>\n",
       "    </tr>\n",
       "    <tr>\n",
       "      <th rowspan=\"2\" valign=\"top\">Duration-Drug</th>\n",
       "      <th>False</th>\n",
       "      <td>1</td>\n",
       "    </tr>\n",
       "    <tr>\n",
       "      <th>True</th>\n",
       "      <td>2</td>\n",
       "    </tr>\n",
       "    <tr>\n",
       "      <th>Form-Drug</th>\n",
       "      <th>False</th>\n",
       "      <td>6</td>\n",
       "    </tr>\n",
       "    <tr>\n",
       "      <th>Frequency-Drug</th>\n",
       "      <th>False</th>\n",
       "      <td>7</td>\n",
       "    </tr>\n",
       "    <tr>\n",
       "      <th>Reason-Drug</th>\n",
       "      <th>False</th>\n",
       "      <td>18</td>\n",
       "    </tr>\n",
       "    <tr>\n",
       "      <th>Route-Drug</th>\n",
       "      <th>False</th>\n",
       "      <td>5</td>\n",
       "    </tr>\n",
       "    <tr>\n",
       "      <th>Strength-Drug</th>\n",
       "      <th>False</th>\n",
       "      <td>10</td>\n",
       "    </tr>\n",
       "    <tr>\n",
       "      <th>no relation</th>\n",
       "      <th>False</th>\n",
       "      <td>43</td>\n",
       "    </tr>\n",
       "  </tbody>\n",
       "</table>\n",
       "</div>"
      ],
      "text/plain": [
       "                        predicted\n",
       "labels         matched           \n",
       "ADE-Drug       False            1\n",
       "               True             1\n",
       "Dosage-Drug    False            2\n",
       "               True             3\n",
       "Duration-Drug  False            1\n",
       "               True             2\n",
       "Form-Drug      False            6\n",
       "Frequency-Drug False            7\n",
       "Reason-Drug    False           18\n",
       "Route-Drug     False            5\n",
       "Strength-Drug  False           10\n",
       "no relation    False           43"
      ]
     },
     "execution_count": 11,
     "metadata": {},
     "output_type": "execute_result"
    }
   ],
   "source": [
    "dev_label_matches_df"
   ]
  },
  {
   "cell_type": "markdown",
   "metadata": {},
   "source": [
    "##  Try with BERT Sequential configuration"
   ]
  },
  {
   "cell_type": "markdown",
   "metadata": {},
   "source": [
    "### Just change model from BIOR to BERT Sequence"
   ]
  },
  {
   "cell_type": "code",
   "execution_count": 12,
   "metadata": {},
   "outputs": [],
   "source": [
    "config.programsettings.MODEL_NAME = \"BERT_Sequence\"\n",
    "config.programsettings.DEBUG_PRINT = 0"
   ]
  },
  {
   "cell_type": "code",
   "execution_count": 13,
   "metadata": {},
   "outputs": [
    {
     "name": "stderr",
     "output_type": "stream",
     "text": [
      "INFO:root:***** Running training *****\n",
      "INFO:root:  Num examples = 99\n",
      "INFO:root:  Batch size = 24\n",
      "INFO:root:  Num steps = 40\n",
      "INFO:pytorch_pretrained_bert.modeling:loading archive file https://s3.amazonaws.com/models.huggingface.co/bert/bert-base-cased.tar.gz from cache at cache/a803ce83ca27fecf74c355673c434e51c265fb8a3e0e57ac62a80e38ba98d384.681017f415dfb33ec8d0e04fe51a619f3f01532ecea04edbfd48c5d160550d9c\n",
      "INFO:pytorch_pretrained_bert.modeling:extracting archive file cache/a803ce83ca27fecf74c355673c434e51c265fb8a3e0e57ac62a80e38ba98d384.681017f415dfb33ec8d0e04fe51a619f3f01532ecea04edbfd48c5d160550d9c to temp dir C:\\Users\\pnars\\AppData\\Local\\Temp\\tmp_g5gm1j3\n",
      "INFO:pytorch_pretrained_bert.modeling:Model config {\n",
      "  \"attention_probs_dropout_prob\": 0.1,\n",
      "  \"hidden_act\": \"gelu\",\n",
      "  \"hidden_dropout_prob\": 0.1,\n",
      "  \"hidden_size\": 768,\n",
      "  \"initializer_range\": 0.02,\n",
      "  \"intermediate_size\": 3072,\n",
      "  \"max_position_embeddings\": 512,\n",
      "  \"num_attention_heads\": 12,\n",
      "  \"num_hidden_layers\": 12,\n",
      "  \"type_vocab_size\": 2,\n",
      "  \"vocab_size\": 28996\n",
      "}\n",
      "\n",
      "INFO:pytorch_pretrained_bert.modeling:Weights of BertForSequenceClassification not initialized from pretrained model: ['classifier.weight', 'classifier.bias']\n",
      "INFO:pytorch_pretrained_bert.modeling:Weights from pretrained model not used in BertForSequenceClassification: ['cls.predictions.bias', 'cls.predictions.transform.dense.weight', 'cls.predictions.transform.dense.bias', 'cls.predictions.decoder.weight', 'cls.seq_relationship.weight', 'cls.seq_relationship.bias', 'cls.predictions.transform.LayerNorm.weight', 'cls.predictions.transform.LayerNorm.bias']\n",
      "Epoch:   0%|                                                                                                                    | 0/10 [00:00<?, ?it/s]"
     ]
    },
    {
     "data": {
      "application/vnd.jupyter.widget-view+json": {
       "model_id": "c98599e778d249989a0ed70907693093",
       "version_major": 2,
       "version_minor": 0
      },
      "text/plain": [
       "HBox(children=(FloatProgress(value=0.0, description='Iteration', max=5.0, style=ProgressStyle(description_widt…"
      ]
     },
     "metadata": {},
     "output_type": "display_data"
    },
    {
     "name": "stderr",
     "output_type": "stream",
     "text": [
      "C:\\ProgramData\\Anaconda3\\lib\\site-packages\\torch\\optim\\lr_scheduler.py:131: UserWarning: Detected call of `lr_scheduler.step()` before `optimizer.step()`. In PyTorch 1.1.0 and later, you should call them in the opposite order: `optimizer.step()` before `lr_scheduler.step()`.  Failure to do this will result in PyTorch skipping the first value of the learning rate schedule. See more details at https://pytorch.org/docs/stable/optim.html#how-to-adjust-learning-rate\n",
      "  warnings.warn(\"Detected call of `lr_scheduler.step()` before `optimizer.step()`. \"\n",
      "Epoch:  10%|██████████▊                                                                                                 | 1/10 [01:26<12:56, 86.26s/it]"
     ]
    },
    {
     "name": "stdout",
     "output_type": "stream",
     "text": [
      "\n",
      "so far epoch accuracy:  0.1111111111111111\n"
     ]
    },
    {
     "data": {
      "application/vnd.jupyter.widget-view+json": {
       "model_id": "f3f6b642686740bbab5d5228e0adb8e8",
       "version_major": 2,
       "version_minor": 0
      },
      "text/plain": [
       "HBox(children=(FloatProgress(value=0.0, description='Iteration', max=5.0, style=ProgressStyle(description_widt…"
      ]
     },
     "metadata": {},
     "output_type": "display_data"
    },
    {
     "name": "stderr",
     "output_type": "stream",
     "text": [
      "Epoch:  20%|█████████████████████▌                                                                                      | 2/10 [02:53<11:31, 86.47s/it]"
     ]
    },
    {
     "name": "stdout",
     "output_type": "stream",
     "text": [
      "\n"
     ]
    },
    {
     "data": {
      "application/vnd.jupyter.widget-view+json": {
       "model_id": "4a02a333b7974ccc9e82b3fbefd8d1e2",
       "version_major": 2,
       "version_minor": 0
      },
      "text/plain": [
       "HBox(children=(FloatProgress(value=0.0, description='Iteration', max=5.0, style=ProgressStyle(description_widt…"
      ]
     },
     "metadata": {},
     "output_type": "display_data"
    },
    {
     "name": "stderr",
     "output_type": "stream",
     "text": [
      "Epoch:  30%|████████████████████████████████▍                                                                           | 3/10 [04:24<10:14, 87.77s/it]"
     ]
    },
    {
     "name": "stdout",
     "output_type": "stream",
     "text": [
      "\n",
      "so far epoch accuracy:  0.12121212121212122\n"
     ]
    },
    {
     "data": {
      "application/vnd.jupyter.widget-view+json": {
       "model_id": "d3543e8a5b7b4686a8324c290e2deb67",
       "version_major": 2,
       "version_minor": 0
      },
      "text/plain": [
       "HBox(children=(FloatProgress(value=0.0, description='Iteration', max=5.0, style=ProgressStyle(description_widt…"
      ]
     },
     "metadata": {},
     "output_type": "display_data"
    },
    {
     "name": "stderr",
     "output_type": "stream",
     "text": [
      "Epoch:  40%|███████████████████████████████████████████▏                                                                | 4/10 [05:51<08:45, 87.59s/it]"
     ]
    },
    {
     "name": "stdout",
     "output_type": "stream",
     "text": [
      "\n"
     ]
    },
    {
     "data": {
      "application/vnd.jupyter.widget-view+json": {
       "model_id": "d1834322e78f44e9abb822b46dbc3857",
       "version_major": 2,
       "version_minor": 0
      },
      "text/plain": [
       "HBox(children=(FloatProgress(value=0.0, description='Iteration', max=5.0, style=ProgressStyle(description_widt…"
      ]
     },
     "metadata": {},
     "output_type": "display_data"
    },
    {
     "name": "stderr",
     "output_type": "stream",
     "text": [
      "Epoch:  50%|██████████████████████████████████████████████████████                                                      | 5/10 [07:18<07:17, 87.44s/it]"
     ]
    },
    {
     "name": "stdout",
     "output_type": "stream",
     "text": [
      "\n"
     ]
    },
    {
     "data": {
      "application/vnd.jupyter.widget-view+json": {
       "model_id": "d7ee2a23fe5d43b08ef805115a860553",
       "version_major": 2,
       "version_minor": 0
      },
      "text/plain": [
       "HBox(children=(FloatProgress(value=0.0, description='Iteration', max=5.0, style=ProgressStyle(description_widt…"
      ]
     },
     "metadata": {},
     "output_type": "display_data"
    },
    {
     "name": "stderr",
     "output_type": "stream",
     "text": [
      "Epoch:  60%|████████████████████████████████████████████████████████████████▊                                           | 6/10 [08:45<05:49, 87.46s/it]"
     ]
    },
    {
     "name": "stdout",
     "output_type": "stream",
     "text": [
      "\n"
     ]
    },
    {
     "data": {
      "application/vnd.jupyter.widget-view+json": {
       "model_id": "2d125266163849619d4cf8c24568830a",
       "version_major": 2,
       "version_minor": 0
      },
      "text/plain": [
       "HBox(children=(FloatProgress(value=0.0, description='Iteration', max=5.0, style=ProgressStyle(description_widt…"
      ]
     },
     "metadata": {},
     "output_type": "display_data"
    },
    {
     "name": "stderr",
     "output_type": "stream",
     "text": [
      "Epoch:  70%|███████████████████████████████████████████████████████████████████████████▌                                | 7/10 [10:14<04:23, 87.84s/it]"
     ]
    },
    {
     "name": "stdout",
     "output_type": "stream",
     "text": [
      "\n",
      "so far epoch accuracy:  0.1717171717171717\n"
     ]
    },
    {
     "data": {
      "application/vnd.jupyter.widget-view+json": {
       "model_id": "82038cc2058a42bc915e4af32c5f6336",
       "version_major": 2,
       "version_minor": 0
      },
      "text/plain": [
       "HBox(children=(FloatProgress(value=0.0, description='Iteration', max=5.0, style=ProgressStyle(description_widt…"
      ]
     },
     "metadata": {},
     "output_type": "display_data"
    },
    {
     "name": "stderr",
     "output_type": "stream",
     "text": [
      "Epoch:  80%|██████████████████████████████████████████████████████████████████████████████████████▍                     | 8/10 [11:41<02:55, 87.61s/it]"
     ]
    },
    {
     "name": "stdout",
     "output_type": "stream",
     "text": [
      "\n",
      "so far epoch accuracy:  0.2222222222222222\n"
     ]
    },
    {
     "data": {
      "application/vnd.jupyter.widget-view+json": {
       "model_id": "3b77c6ef430443518bdf0f22ad5e4eee",
       "version_major": 2,
       "version_minor": 0
      },
      "text/plain": [
       "HBox(children=(FloatProgress(value=0.0, description='Iteration', max=5.0, style=ProgressStyle(description_widt…"
      ]
     },
     "metadata": {},
     "output_type": "display_data"
    },
    {
     "name": "stderr",
     "output_type": "stream",
     "text": [
      "Epoch:  90%|█████████████████████████████████████████████████████████████████████████████████████████████████▏          | 9/10 [13:08<01:27, 87.32s/it]"
     ]
    },
    {
     "name": "stdout",
     "output_type": "stream",
     "text": [
      "\n"
     ]
    },
    {
     "data": {
      "application/vnd.jupyter.widget-view+json": {
       "model_id": "c0127b18ccad4de7a9f31aea44c8836b",
       "version_major": 2,
       "version_minor": 0
      },
      "text/plain": [
       "HBox(children=(FloatProgress(value=0.0, description='Iteration', max=5.0, style=ProgressStyle(description_widt…"
      ]
     },
     "metadata": {},
     "output_type": "display_data"
    },
    {
     "name": "stderr",
     "output_type": "stream",
     "text": [
      "Epoch: 100%|███████████████████████████████████████████████████████████████████████████████████████████████████████████| 10/10 [14:37<00:00, 87.71s/it]"
     ]
    },
    {
     "name": "stdout",
     "output_type": "stream",
     "text": [
      "\n",
      "Training complete\n",
      "Best val Acc: 0.222222\n"
     ]
    },
    {
     "name": "stderr",
     "output_type": "stream",
     "text": [
      "\n"
     ]
    },
    {
     "data": {
      "application/vnd.jupyter.widget-view+json": {
       "model_id": "a6e37355ab354d8ea697f339e82cd75f",
       "version_major": 2,
       "version_minor": 0
      },
      "text/plain": [
       "HBox(children=(FloatProgress(value=0.0, description='Evaluating', max=5.0, style=ProgressStyle(description_wid…"
      ]
     },
     "metadata": {},
     "output_type": "display_data"
    },
    {
     "name": "stderr",
     "output_type": "stream",
     "text": [
      "INFO:root:***** Running training *****\n",
      "INFO:root:  Num examples = 99\n",
      "INFO:root:  Batch size = 24\n",
      "INFO:root:  Num steps = 40\n"
     ]
    },
    {
     "name": "stdout",
     "output_type": "stream",
     "text": [
      "\n"
     ]
    },
    {
     "data": {
      "application/vnd.jupyter.widget-view+json": {
       "model_id": "453aaaedba814af8ba881330f7c4660c",
       "version_major": 2,
       "version_minor": 0
      },
      "text/plain": [
       "HBox(children=(FloatProgress(value=0.0, description='Evaluating', max=5.0, style=ProgressStyle(description_wid…"
      ]
     },
     "metadata": {},
     "output_type": "display_data"
    },
    {
     "name": "stdout",
     "output_type": "stream",
     "text": [
      "\n"
     ]
    }
   ],
   "source": [
    "train_inputs, train_label_ids, train_preds, train_loss, dev_inputs, dev_label_ids, dev_loss, dev_preds = run_model(config, device)"
   ]
  },
  {
   "cell_type": "code",
   "execution_count": 14,
   "metadata": {},
   "outputs": [
    {
     "name": "stdout",
     "output_type": "stream",
     "text": [
      "\n",
      " label: [1 3 4 6 2 4 5 2 6 2 6 4 1 4 3 1 4 0 0 5 5 0 1 0 0 1 0 6 6 3 3 5 6 0 1 2 6\n",
      " 6 1 5 2 5 6 7 5 3 0 4 3 2 6 0 0 6 0 1 0 2 1 0 0 1 3 1 1 6 4 0 4 0 0 3 2 6\n",
      " 1 5 6 3 2 2 2 0 3 5 2 0 2 1 0 7 0 0 5 2 2 6 6 4 5]\n",
      "\n",
      " preds: [4 4 6 6 4 4 5 6 6 6 6 4 5 4 4 6 6 4 6 5 5 6 4 6 6 6 6 6 4 4 4 5 6 5 6 5 4\n",
      " 6 4 6 6 6 5 6 5 4 6 4 6 6 6 6 6 6 4 5 6 4 6 6 6 4 6 5 4 4 4 4 6 6 6 6 6 6\n",
      " 6 4 6 6 4 5 4 6 4 4 4 6 5 5 6 6 6 4 6 4 5 4 5 4 5]\n",
      "\n",
      " label: [8 8 0 8 8 8 8 8 0 0 8 8 0 8 0 4 6 2 8 8 0 8 8 3 2 8 8 2 3 8 5 2 5 8 0 6 1\n",
      " 5 3 0 8 4 8 2 7 8 3 8 8 0 8 8 8 0 8 0 6 8 5 8 0 8 0 3 8 0 0 8 8 1 8 8 8 3\n",
      " 5 8 1 8 2 0 8 6 4 6 8 2 2 8 0 5 2 1 2 1 7 0 8 8 3]\n",
      "\n",
      " preds: [4 3 2 4 6 4 3 4 4 6 6 3 2 4 6 4 6 2 4 6 4 3 6 6 4 6 4 6 2 3 4 4 4 3 6 6 6\n",
      " 6 6 6 6 4 4 6 2 4 6 4 6 6 4 4 4 6 4 5 6 3 6 6 6 3 4 2 4 6 2 4 4 6 6 3 4 2\n",
      " 6 3 6 4 4 4 3 6 6 6 4 6 6 3 6 6 6 6 6 6 6 6 6 4 6]\n"
     ]
    }
   ],
   "source": [
    "\n",
    "train_mcc, train_f1_score, train_df_results, train_label_matches_df = calculate_stats(train_label_ids,train_preds )\n",
    "dev_mcc, dev_f1_score, dev_df_results, dev_label_matches_df = calculate_stats(dev_label_ids,dev_preds)"
   ]
  },
  {
   "cell_type": "code",
   "execution_count": 15,
   "metadata": {},
   "outputs": [
    {
     "data": {
      "text/plain": [
       "[[<util.tools.config at 0x2ea8c1b7a30>,\n",
       "  2.1800858974456787,\n",
       "  2.2085455417633058,\n",
       "  0.1305070354677441,\n",
       "  0.13842203548085902,\n",
       "  0.03532304615650811,\n",
       "  0.03616457816999822,\n",
       "  array([6, 2, 8, 2, 8, 8, 8, 0, 0, 3, 5, 0, 8, 1, 8, 3, 8, 8, 8, 8, 0, 0,\n",
       "         8, 8, 8, 8, 6, 8, 2, 7, 3, 8, 3, 6, 0, 2, 0, 6, 5, 0, 8, 1, 6, 1,\n",
       "         3, 0, 7, 0, 0, 8, 8, 8, 8, 8, 0, 8, 4, 2, 2, 8, 0, 5, 1, 2, 8, 8,\n",
       "         8, 0, 5, 8, 4, 2, 8, 0, 8, 0, 8, 8, 8, 3, 8, 8, 4, 5, 2, 5, 2, 0,\n",
       "         3, 8, 0, 8, 8, 8, 8, 8, 8, 8, 1], dtype=int64),\n",
       "  array([6, 6, 7, 4, 7, 7, 4, 4, 6, 4, 6, 6, 4, 6, 7, 4, 7, 6, 6, 4, 6, 4,\n",
       "         7, 7, 6, 7, 6, 6, 6, 7, 4, 4, 6, 6, 3, 4, 4, 7, 4, 4, 4, 6, 4, 6,\n",
       "         6, 4, 4, 6, 4, 6, 7, 4, 4, 7, 6, 7, 4, 4, 4, 7, 4, 6, 4, 4, 7, 6,\n",
       "         7, 4, 6, 7, 4, 6, 6, 4, 7, 6, 4, 7, 7, 6, 7, 6, 6, 6, 7, 6, 4, 4,\n",
       "         4, 6, 4, 7, 7, 6, 3, 4, 7, 4, 4], dtype=int64),\n",
       "  array([0, 3, 2, 5, 4, 6, 2, 5, 0, 1, 5, 5, 1, 0, 5, 3, 4, 6, 6, 2, 7, 6,\n",
       "         5, 0, 0, 6, 0, 1, 0, 6, 0, 6, 0, 3, 1, 1, 4, 2, 4, 3, 0, 1, 0, 2,\n",
       "         2, 2, 3, 5, 7, 6, 3, 6, 1, 4, 3, 0, 3, 2, 0, 0, 1, 3, 6, 4, 6, 6,\n",
       "         2, 1, 5, 5, 2, 6, 6, 3, 0, 0, 5, 4, 2, 0, 1, 2, 1, 0, 4, 0, 0, 2,\n",
       "         2, 1, 0, 2, 1, 1, 0, 6, 5, 4, 6], dtype=int64),\n",
       "  array([6, 6, 4, 6, 4, 4, 4, 7, 7, 4, 3, 4, 6, 4, 6, 4, 4, 4, 6, 4, 7, 6,\n",
       "         6, 4, 4, 4, 4, 4, 7, 6, 7, 6, 4, 6, 4, 6, 4, 6, 4, 4, 6, 6, 6, 6,\n",
       "         6, 4, 6, 6, 7, 6, 4, 6, 4, 4, 4, 6, 6, 6, 6, 6, 6, 4, 6, 4, 6, 6,\n",
       "         6, 6, 6, 4, 4, 6, 6, 4, 6, 6, 4, 6, 6, 6, 6, 4, 3, 6, 4, 3, 6, 6,\n",
       "         6, 4, 6, 4, 4, 4, 4, 4, 4, 4, 7], dtype=int64)],\n",
       " [<util.tools.config at 0x2ea8c1b7a30>,\n",
       "  2.0408056735992433,\n",
       "  2.378587341308594,\n",
       "  0.12845300504905482,\n",
       "  0.12774725274725274,\n",
       "  0.04289595596267952,\n",
       "  0.04683058408548604,\n",
       "  array([8, 8, 0, 8, 8, 8, 8, 8, 0, 0, 8, 8, 0, 8, 0, 4, 6, 2, 8, 8, 0, 8,\n",
       "         8, 3, 2, 8, 8, 2, 3, 8, 5, 2, 5, 8, 0, 6, 1, 5, 3, 0, 8, 4, 8, 2,\n",
       "         7, 8, 3, 8, 8, 0, 8, 8, 8, 0, 8, 0, 6, 8, 5, 8, 0, 8, 0, 3, 8, 0,\n",
       "         0, 8, 8, 1, 8, 8, 8, 3, 5, 8, 1, 8, 2, 0, 8, 6, 4, 6, 8, 2, 2, 8,\n",
       "         0, 5, 2, 1, 2, 1, 7, 0, 8, 8, 3], dtype=int64),\n",
       "  array([4, 3, 2, 4, 6, 4, 3, 4, 4, 6, 6, 3, 2, 4, 6, 4, 6, 2, 4, 6, 4, 3,\n",
       "         6, 6, 4, 6, 4, 6, 2, 3, 4, 4, 4, 3, 6, 6, 6, 6, 6, 6, 6, 4, 4, 6,\n",
       "         2, 4, 6, 4, 6, 6, 4, 4, 4, 6, 4, 5, 6, 3, 6, 6, 6, 3, 4, 2, 4, 6,\n",
       "         2, 4, 4, 6, 6, 3, 4, 2, 6, 3, 6, 4, 4, 4, 3, 6, 6, 6, 4, 6, 6, 3,\n",
       "         6, 6, 6, 6, 6, 6, 6, 6, 6, 4, 6], dtype=int64),\n",
       "  array([1, 3, 4, 6, 2, 4, 5, 2, 6, 2, 6, 4, 1, 4, 3, 1, 4, 0, 0, 5, 5, 0,\n",
       "         1, 0, 0, 1, 0, 6, 6, 3, 3, 5, 6, 0, 1, 2, 6, 6, 1, 5, 2, 5, 6, 7,\n",
       "         5, 3, 0, 4, 3, 2, 6, 0, 0, 6, 0, 1, 0, 2, 1, 0, 0, 1, 3, 1, 1, 6,\n",
       "         4, 0, 4, 0, 0, 3, 2, 6, 1, 5, 6, 3, 2, 2, 2, 0, 3, 5, 2, 0, 2, 1,\n",
       "         0, 7, 0, 0, 5, 2, 2, 6, 6, 4, 5], dtype=int64),\n",
       "  array([4, 4, 6, 6, 4, 4, 5, 6, 6, 6, 6, 4, 5, 4, 4, 6, 6, 4, 6, 5, 5, 6,\n",
       "         4, 6, 6, 6, 6, 6, 4, 4, 4, 5, 6, 5, 6, 5, 4, 6, 4, 6, 6, 6, 5, 6,\n",
       "         5, 4, 6, 4, 6, 6, 6, 6, 6, 6, 4, 5, 6, 4, 6, 6, 6, 4, 6, 5, 4, 4,\n",
       "         4, 4, 6, 6, 6, 6, 6, 6, 6, 4, 6, 6, 4, 5, 4, 6, 4, 4, 4, 6, 5, 5,\n",
       "         6, 6, 6, 4, 6, 4, 5, 4, 5, 4, 5], dtype=int64)]]"
      ]
     },
     "execution_count": 15,
     "metadata": {},
     "output_type": "execute_result"
    }
   ],
   "source": [
    "all_experiment_results.append([config, train_loss, dev_loss, train_mcc, train_f1_score,dev_mcc,dev_f1_score, \n",
    "                               dev_label_ids, dev_preds,train_label_ids,train_preds  ])\n",
    "all_experiment_results"
   ]
  },
  {
   "cell_type": "code",
   "execution_count": 16,
   "metadata": {},
   "outputs": [
    {
     "data": {
      "text/html": [
       "<div>\n",
       "<style scoped>\n",
       "    .dataframe tbody tr th:only-of-type {\n",
       "        vertical-align: middle;\n",
       "    }\n",
       "\n",
       "    .dataframe tbody tr th {\n",
       "        vertical-align: top;\n",
       "    }\n",
       "\n",
       "    .dataframe thead th {\n",
       "        text-align: right;\n",
       "    }\n",
       "</style>\n",
       "<table border=\"1\" class=\"dataframe\">\n",
       "  <thead>\n",
       "    <tr style=\"text-align: right;\">\n",
       "      <th></th>\n",
       "      <th></th>\n",
       "      <th>predicted</th>\n",
       "    </tr>\n",
       "    <tr>\n",
       "      <th>labels</th>\n",
       "      <th>matched</th>\n",
       "      <th></th>\n",
       "    </tr>\n",
       "  </thead>\n",
       "  <tbody>\n",
       "    <tr>\n",
       "      <th>ADE-Drug</th>\n",
       "      <th>False</th>\n",
       "      <td>2</td>\n",
       "    </tr>\n",
       "    <tr>\n",
       "      <th>Dosage-Drug</th>\n",
       "      <th>True</th>\n",
       "      <td>5</td>\n",
       "    </tr>\n",
       "    <tr>\n",
       "      <th rowspan=\"2\" valign=\"top\">Duration-Drug</th>\n",
       "      <th>False</th>\n",
       "      <td>1</td>\n",
       "    </tr>\n",
       "    <tr>\n",
       "      <th>True</th>\n",
       "      <td>2</td>\n",
       "    </tr>\n",
       "    <tr>\n",
       "      <th>Form-Drug</th>\n",
       "      <th>False</th>\n",
       "      <td>6</td>\n",
       "    </tr>\n",
       "    <tr>\n",
       "      <th>Frequency-Drug</th>\n",
       "      <th>False</th>\n",
       "      <td>7</td>\n",
       "    </tr>\n",
       "    <tr>\n",
       "      <th>Reason-Drug</th>\n",
       "      <th>False</th>\n",
       "      <td>18</td>\n",
       "    </tr>\n",
       "    <tr>\n",
       "      <th>Route-Drug</th>\n",
       "      <th>False</th>\n",
       "      <td>5</td>\n",
       "    </tr>\n",
       "    <tr>\n",
       "      <th rowspan=\"2\" valign=\"top\">Strength-Drug</th>\n",
       "      <th>False</th>\n",
       "      <td>9</td>\n",
       "    </tr>\n",
       "    <tr>\n",
       "      <th>True</th>\n",
       "      <td>1</td>\n",
       "    </tr>\n",
       "    <tr>\n",
       "      <th>no relation</th>\n",
       "      <th>False</th>\n",
       "      <td>43</td>\n",
       "    </tr>\n",
       "  </tbody>\n",
       "</table>\n",
       "</div>"
      ],
      "text/plain": [
       "                        predicted\n",
       "labels         matched           \n",
       "ADE-Drug       False            2\n",
       "Dosage-Drug    True             5\n",
       "Duration-Drug  False            1\n",
       "               True             2\n",
       "Form-Drug      False            6\n",
       "Frequency-Drug False            7\n",
       "Reason-Drug    False           18\n",
       "Route-Drug     False            5\n",
       "Strength-Drug  False            9\n",
       "               True             1\n",
       "no relation    False           43"
      ]
     },
     "execution_count": 16,
     "metadata": {},
     "output_type": "execute_result"
    }
   ],
   "source": [
    "dev_label_matches_df"
   ]
  },
  {
   "cell_type": "code",
   "execution_count": 17,
   "metadata": {},
   "outputs": [],
   "source": [
    "\n",
    "all_model_results_pickle_file = config.programsettings.REPORTS_DIR + \"multi_model_experiment_results_\" + str(datetime.now()).replace(\":\", \"_\").replace(\".\", \"_\") + \".pkl\"\n",
    "with open(all_model_results_pickle_file, \"wb\") as f:\n",
    "    pickle.dump(all_experiment_results, f)  \n"
   ]
  },
  {
   "cell_type": "code",
   "execution_count": 18,
   "metadata": {},
   "outputs": [
    {
     "name": "stdout",
     "output_type": "stream",
     "text": [
      "              precision    recall  f1-score   support\n",
      "\n",
      "           0       0.00      0.00      0.00        18\n",
      "           1       0.00      0.00      0.00         5\n",
      "           2       0.12      0.10      0.11        10\n",
      "           3       0.00      0.00      0.00         7\n",
      "           4       0.06      0.67      0.11         3\n",
      "           5       0.00      0.00      0.00         6\n",
      "           6       0.11      1.00      0.20         5\n",
      "           7       0.00      0.00      0.00         2\n",
      "           8       0.00      0.00      0.00        43\n",
      "\n",
      "    accuracy                           0.08        99\n",
      "   macro avg       0.03      0.20      0.05        99\n",
      "weighted avg       0.02      0.08      0.02        99\n",
      "\n"
     ]
    },
    {
     "name": "stderr",
     "output_type": "stream",
     "text": [
      "C:\\ProgramData\\Anaconda3\\lib\\site-packages\\sklearn\\metrics\\_classification.py:1221: UndefinedMetricWarning: Precision and F-score are ill-defined and being set to 0.0 in labels with no predicted samples. Use `zero_division` parameter to control this behavior.\n",
      "  _warn_prf(average, modifier, msg_start, len(result))\n"
     ]
    }
   ],
   "source": [
    "print(classification_report(dev_label_ids,dev_preds ))"
   ]
  },
  {
   "cell_type": "code",
   "execution_count": 19,
   "metadata": {},
   "outputs": [],
   "source": [
    "# Save missed cases.\n",
    "save_missed_cases_to_file(\"BERT_sequential_missedcases_\" , dev_preds, dev_label_ids, train_inputs)\n"
   ]
  },
  {
   "cell_type": "markdown",
   "metadata": {},
   "source": [
    "# Hyper paramter tuning based on experiments in experiments_batch"
   ]
  },
  {
   "cell_type": "code",
   "execution_count": 20,
   "metadata": {},
   "outputs": [],
   "source": [
    "# import torch\n",
    "# device = torch.device(\"cuda\" if torch.cuda.is_available() else \"cpu\")\n",
    "# # device = \"cpu\"\n",
    "# from  experiments_batch import run_all_experiments_save\n",
    "# run_all_experiments_save(device)"
   ]
  },
  {
   "cell_type": "code",
   "execution_count": null,
   "metadata": {},
   "outputs": [],
   "source": []
  },
  {
   "cell_type": "code",
   "execution_count": null,
   "metadata": {},
   "outputs": [],
   "source": []
  }
 ],
 "metadata": {
  "kernelspec": {
   "display_name": "Python 3",
   "language": "python",
   "name": "python3"
  },
  "language_info": {
   "codemirror_mode": {
    "name": "ipython",
    "version": 3
   },
   "file_extension": ".py",
   "mimetype": "text/x-python",
   "name": "python",
   "nbconvert_exporter": "python",
   "pygments_lexer": "ipython3",
   "version": "3.8.3"
  }
 },
 "nbformat": 4,
 "nbformat_minor": 4
}
