{
 "cells": [
  {
   "cell_type": "code",
   "execution_count": 10,
   "metadata": {},
   "outputs": [],
   "source": [
    "# %load_ext autoreload\n",
    "%autoreload\n",
    "import os, json\n",
    "from types import SimpleNamespace\n",
    "from experiment import run_model\n",
    "from eval import calculate_stats\n",
    "import pickle\n",
    "from datetime import datetime \n",
    "import torch\n",
    "from transformers import BertTokenizer"
   ]
  },
  {
   "cell_type": "code",
   "execution_count": 5,
   "metadata": {},
   "outputs": [],
   "source": [
    "# device = torch.device(\"cuda\" if torch.cuda.is_available() else \"cpu\")\n",
    "device = \"cpu\""
   ]
  },
  {
   "cell_type": "code",
   "execution_count": 6,
   "metadata": {},
   "outputs": [],
   "source": [
    "config_folder = \"config/\"\n",
    "\n",
    "class obj(object):\n",
    "    def __init__(self, d):\n",
    "        for a, b in d.items():\n",
    "            if isinstance(b, (list, tuple)):\n",
    "               setattr(self, a, [obj(x) if isinstance(x, dict) else x for x in b])\n",
    "            else:\n",
    "               setattr(self, a, obj(b) if isinstance(b, dict) else b)\n",
    "\n",
    "with open(os.path.join(config_folder, \"config.json\")) as f:\n",
    "    config = obj(json.load(f))"
   ]
  },
  {
   "cell_type": "code",
   "execution_count": 7,
   "metadata": {},
   "outputs": [
    {
     "name": "stderr",
     "output_type": "stream",
     "text": [
      "INFO:root:***** Running training *****\n",
      "INFO:root:  Num examples = 99\n",
      "INFO:root:  Batch size = 12\n",
      "INFO:root:  Num steps = 80\n",
      "Epoch:   0%|                                                                                                         | 0/10 [00:00<?, ?it/s]"
     ]
    },
    {
     "data": {
      "application/vnd.jupyter.widget-view+json": {
       "model_id": "050275d41a074ead8674276809d8e949",
       "version_major": 2,
       "version_minor": 0
      },
      "text/plain": [
       "HBox(children=(FloatProgress(value=0.0, description='Iteration', max=9.0, style=ProgressStyle(description_widt…"
      ]
     },
     "metadata": {},
     "output_type": "display_data"
    },
    {
     "name": "stderr",
     "output_type": "stream",
     "text": [
      "C:\\ProgramData\\Anaconda3\\lib\\site-packages\\torch\\optim\\lr_scheduler.py:131: UserWarning: Detected call of `lr_scheduler.step()` before `optimizer.step()`. In PyTorch 1.1.0 and later, you should call them in the opposite order: `optimizer.step()` before `lr_scheduler.step()`.  Failure to do this will result in PyTorch skipping the first value of the learning rate schedule. See more details at https://pytorch.org/docs/stable/optim.html#how-to-adjust-learning-rate\n",
      "  warnings.warn(\"Detected call of `lr_scheduler.step()` before `optimizer.step()`. \"\n"
     ]
    },
    {
     "name": "stdout",
     "output_type": "stream",
     "text": [
      "\n",
      "so far epoch accuracy:  0.10101010101010101\n"
     ]
    },
    {
     "name": "stderr",
     "output_type": "stream",
     "text": [
      "Epoch:  10%|█████████▋                                                                                       | 1/10 [00:34<05:14, 34.91s/it]"
     ]
    },
    {
     "data": {
      "application/vnd.jupyter.widget-view+json": {
       "model_id": "0a491bc65c1f415e8d583968c102e5d9",
       "version_major": 2,
       "version_minor": 0
      },
      "text/plain": [
       "HBox(children=(FloatProgress(value=0.0, description='Iteration', max=9.0, style=ProgressStyle(description_widt…"
      ]
     },
     "metadata": {},
     "output_type": "display_data"
    },
    {
     "name": "stderr",
     "output_type": "stream",
     "text": [
      "Epoch:  20%|███████████████████▍                                                                             | 2/10 [01:14<04:51, 36.41s/it]"
     ]
    },
    {
     "name": "stdout",
     "output_type": "stream",
     "text": [
      "\n",
      "so far epoch accuracy:  0.16161616161616163\n"
     ]
    },
    {
     "data": {
      "application/vnd.jupyter.widget-view+json": {
       "model_id": "48101605325741a4a5182a5aafc8e803",
       "version_major": 2,
       "version_minor": 0
      },
      "text/plain": [
       "HBox(children=(FloatProgress(value=0.0, description='Iteration', max=9.0, style=ProgressStyle(description_widt…"
      ]
     },
     "metadata": {},
     "output_type": "display_data"
    },
    {
     "name": "stderr",
     "output_type": "stream",
     "text": [
      "Epoch:  30%|█████████████████████████████                                                                    | 3/10 [01:52<04:17, 36.83s/it]"
     ]
    },
    {
     "name": "stdout",
     "output_type": "stream",
     "text": [
      "\n"
     ]
    },
    {
     "data": {
      "application/vnd.jupyter.widget-view+json": {
       "model_id": "d01af476a5d14563b68a062bcd055c67",
       "version_major": 2,
       "version_minor": 0
      },
      "text/plain": [
       "HBox(children=(FloatProgress(value=0.0, description='Iteration', max=9.0, style=ProgressStyle(description_widt…"
      ]
     },
     "metadata": {},
     "output_type": "display_data"
    },
    {
     "name": "stderr",
     "output_type": "stream",
     "text": [
      "Epoch:  40%|██████████████████████████████████████▊                                                          | 4/10 [02:32<03:46, 37.67s/it]"
     ]
    },
    {
     "name": "stdout",
     "output_type": "stream",
     "text": [
      "\n",
      "so far epoch accuracy:  0.1919191919191919\n"
     ]
    },
    {
     "data": {
      "application/vnd.jupyter.widget-view+json": {
       "model_id": "cf9734c2dfca49daaa4cbbeaf72e63cd",
       "version_major": 2,
       "version_minor": 0
      },
      "text/plain": [
       "HBox(children=(FloatProgress(value=0.0, description='Iteration', max=9.0, style=ProgressStyle(description_widt…"
      ]
     },
     "metadata": {},
     "output_type": "display_data"
    },
    {
     "name": "stderr",
     "output_type": "stream",
     "text": [
      "Epoch:  50%|████████████████████████████████████████████████▌                                                | 5/10 [03:12<03:11, 38.32s/it]"
     ]
    },
    {
     "name": "stdout",
     "output_type": "stream",
     "text": [
      "\n",
      "so far epoch accuracy:  0.31313131313131315\n"
     ]
    },
    {
     "data": {
      "application/vnd.jupyter.widget-view+json": {
       "model_id": "8229111ec30c48de9b752c4bb4d469b7",
       "version_major": 2,
       "version_minor": 0
      },
      "text/plain": [
       "HBox(children=(FloatProgress(value=0.0, description='Iteration', max=9.0, style=ProgressStyle(description_widt…"
      ]
     },
     "metadata": {},
     "output_type": "display_data"
    },
    {
     "name": "stderr",
     "output_type": "stream",
     "text": [
      "Epoch:  60%|██████████████████████████████████████████████████████████▏                                      | 6/10 [03:51<02:34, 38.71s/it]"
     ]
    },
    {
     "name": "stdout",
     "output_type": "stream",
     "text": [
      "\n"
     ]
    },
    {
     "data": {
      "application/vnd.jupyter.widget-view+json": {
       "model_id": "4956d168cd5e464983bf2b907ccfacaa",
       "version_major": 2,
       "version_minor": 0
      },
      "text/plain": [
       "HBox(children=(FloatProgress(value=0.0, description='Iteration', max=9.0, style=ProgressStyle(description_widt…"
      ]
     },
     "metadata": {},
     "output_type": "display_data"
    },
    {
     "name": "stderr",
     "output_type": "stream",
     "text": [
      "Epoch:  70%|███████████████████████████████████████████████████████████████████▉                             | 7/10 [04:31<01:57, 39.13s/it]"
     ]
    },
    {
     "name": "stdout",
     "output_type": "stream",
     "text": [
      "\n"
     ]
    },
    {
     "data": {
      "application/vnd.jupyter.widget-view+json": {
       "model_id": "fcaeb0f5187e4dce9fbf9815f81b091e",
       "version_major": 2,
       "version_minor": 0
      },
      "text/plain": [
       "HBox(children=(FloatProgress(value=0.0, description='Iteration', max=9.0, style=ProgressStyle(description_widt…"
      ]
     },
     "metadata": {},
     "output_type": "display_data"
    },
    {
     "name": "stderr",
     "output_type": "stream",
     "text": [
      "Epoch:  80%|█████████████████████████████████████████████████████████████████████████████▌                   | 8/10 [05:11<01:18, 39.23s/it]"
     ]
    },
    {
     "name": "stdout",
     "output_type": "stream",
     "text": [
      "\n",
      "so far epoch accuracy:  0.3434343434343434\n"
     ]
    },
    {
     "data": {
      "application/vnd.jupyter.widget-view+json": {
       "model_id": "15eeaa69a84e4d0ca13e940035ec79bc",
       "version_major": 2,
       "version_minor": 0
      },
      "text/plain": [
       "HBox(children=(FloatProgress(value=0.0, description='Iteration', max=9.0, style=ProgressStyle(description_widt…"
      ]
     },
     "metadata": {},
     "output_type": "display_data"
    },
    {
     "name": "stderr",
     "output_type": "stream",
     "text": [
      "Epoch:  90%|███████████████████████████████████████████████████████████████████████████████████████▎         | 9/10 [05:50<00:39, 39.13s/it]"
     ]
    },
    {
     "name": "stdout",
     "output_type": "stream",
     "text": [
      "\n"
     ]
    },
    {
     "data": {
      "application/vnd.jupyter.widget-view+json": {
       "model_id": "05c9d7ff6a724a5d928e21a32803fd1d",
       "version_major": 2,
       "version_minor": 0
      },
      "text/plain": [
       "HBox(children=(FloatProgress(value=0.0, description='Iteration', max=9.0, style=ProgressStyle(description_widt…"
      ]
     },
     "metadata": {},
     "output_type": "display_data"
    },
    {
     "name": "stderr",
     "output_type": "stream",
     "text": [
      "Epoch: 100%|████████████████████████████████████████████████████████████████████████████████████████████████| 10/10 [06:30<00:00, 39.09s/it]"
     ]
    },
    {
     "name": "stdout",
     "output_type": "stream",
     "text": [
      "\n",
      "so far epoch accuracy:  0.40404040404040403\n",
      "Training complete\n",
      "Best val Acc: 0.404040\n"
     ]
    },
    {
     "name": "stderr",
     "output_type": "stream",
     "text": [
      "\n"
     ]
    },
    {
     "data": {
      "application/vnd.jupyter.widget-view+json": {
       "model_id": "ff6369be055f47c5a3ce542bac3c91d2",
       "version_major": 2,
       "version_minor": 0
      },
      "text/plain": [
       "HBox(children=(FloatProgress(value=0.0, description='Evaluating', max=9.0, style=ProgressStyle(description_wid…"
      ]
     },
     "metadata": {},
     "output_type": "display_data"
    },
    {
     "name": "stderr",
     "output_type": "stream",
     "text": [
      "INFO:root:***** Running training *****\n",
      "INFO:root:  Num examples = 99\n",
      "INFO:root:  Batch size = 12\n",
      "INFO:root:  Num steps = 80\n"
     ]
    },
    {
     "name": "stdout",
     "output_type": "stream",
     "text": [
      "\n"
     ]
    },
    {
     "data": {
      "application/vnd.jupyter.widget-view+json": {
       "model_id": "4e63465b5a2d4b4e9851db37f6cc84bc",
       "version_major": 2,
       "version_minor": 0
      },
      "text/plain": [
       "HBox(children=(FloatProgress(value=0.0, description='Evaluating', max=9.0, style=ProgressStyle(description_wid…"
      ]
     },
     "metadata": {},
     "output_type": "display_data"
    },
    {
     "name": "stdout",
     "output_type": "stream",
     "text": [
      "\n"
     ]
    }
   ],
   "source": [
    "train_inputs, train_label_ids, train_preds, train_loss, dev_inputs, dev_label_ids, dev_loss, dev_preds = run_model(config, device)"
   ]
  },
  {
   "cell_type": "code",
   "execution_count": 8,
   "metadata": {},
   "outputs": [
    {
     "data": {
      "text/plain": [
       "(array([[  101,  1230,   156, ...,     0,     0,     0],\n",
       "        [  101,   125,   119, ...,     0,     0,     0],\n",
       "        [  101,  1230,  1249, ...,     0,     0,     0],\n",
       "        ...,\n",
       "        [  101,  2508, 13923, ...,   126, 17713,   102],\n",
       "        [  101,  2508, 13923, ...,     0,     0,     0],\n",
       "        [  101,  1967,  1185, ...,     0,     0,     0]], dtype=int64),\n",
       " array([0, 6, 0, 2, 0, 7, 5, 1, 0, 1, 0, 0, 3, 4, 0, 2, 0, 5, 0, 2, 6, 0,\n",
       "        5, 2, 1, 0, 5, 6, 4, 5, 3, 2, 3, 2, 6, 2, 5, 2, 4, 5, 1, 4, 1, 1,\n",
       "        2, 3, 6, 2, 0, 0, 5, 1, 3, 5, 3, 0, 0, 6, 1, 6, 0, 1, 6, 1, 4, 0,\n",
       "        0, 6, 6, 3, 3, 2, 0, 1, 0, 6, 4, 3, 0, 0, 2, 2, 6, 1, 5, 6, 6, 1,\n",
       "        3, 6, 2, 2, 5, 6, 4, 4, 4, 1, 7], dtype=int64),\n",
       " array([0, 6, 0, 2, 0, 0, 0, 1, 0, 2, 1, 0, 3, 2, 0, 0, 0, 2, 0, 2, 1, 2,\n",
       "        2, 2, 6, 0, 2, 2, 2, 2, 2, 2, 1, 1, 2, 2, 2, 0, 0, 2, 1, 0, 2, 1,\n",
       "        2, 2, 0, 2, 0, 0, 2, 6, 2, 2, 2, 0, 0, 6, 6, 0, 0, 6, 2, 3, 2, 0,\n",
       "        0, 6, 0, 2, 2, 2, 0, 2, 0, 6, 4, 3, 0, 1, 2, 2, 2, 6, 1, 2, 0, 1,\n",
       "        2, 0, 2, 2, 5, 6, 0, 2, 2, 2, 0], dtype=int64),\n",
       " 1.5169469515482585,\n",
       " array([[  101,  1405,   119, ...,     0,     0,     0],\n",
       "        [  101, 12107,  5253, ...,     0,     0,     0],\n",
       "        [  101,   108, 11336, ...,     0,     0,     0],\n",
       "        ...,\n",
       "        [  101,  1302,  1168, ...,     0,     0,     0],\n",
       "        [  101,  7199,   117, ...,     0,     0,     0],\n",
       "        [  101,  1489,   119, ...,     0,     0,     0]], dtype=int64),\n",
       " array([6, 8, 8, 8, 4, 8, 3, 4, 0, 2, 0, 0, 3, 0, 1, 6, 3, 5, 8, 8, 0, 8,\n",
       "        8, 2, 8, 5, 8, 8, 8, 5, 8, 3, 3, 1, 8, 2, 4, 8, 8, 8, 8, 0, 5, 8,\n",
       "        8, 8, 6, 8, 8, 7, 0, 0, 2, 1, 2, 0, 8, 8, 5, 6, 8, 2, 0, 1, 0, 3,\n",
       "        8, 8, 2, 2, 8, 8, 3, 8, 8, 0, 8, 0, 0, 8, 8, 0, 0, 8, 2, 1, 7, 2,\n",
       "        0, 5, 8, 0, 8, 8, 8, 6, 8, 8, 8], dtype=int64),\n",
       " 2.275619705518087,\n",
       " array([2, 7, 0, 0, 0, 3, 2, 4, 0, 2, 1, 0, 2, 0, 0, 1, 2, 5, 6, 7, 0, 6,\n",
       "        1, 2, 1, 0, 6, 6, 3, 2, 0, 0, 2, 6, 7, 2, 2, 0, 2, 0, 1, 0, 2, 2,\n",
       "        0, 1, 2, 2, 0, 0, 0, 0, 2, 2, 0, 0, 5, 0, 2, 0, 0, 2, 1, 0, 0, 2,\n",
       "        2, 7, 2, 2, 3, 5, 2, 1, 2, 6, 6, 1, 2, 0, 6, 0, 0, 7, 2, 2, 0, 2,\n",
       "        2, 2, 7, 0, 7, 7, 1, 2, 7, 6, 2], dtype=int64))"
      ]
     },
     "execution_count": 8,
     "metadata": {},
     "output_type": "execute_result"
    }
   ],
   "source": [
    "train_inputs, train_label_ids, train_preds, train_loss, dev_inputs, dev_label_ids, dev_loss, dev_preds"
   ]
  },
  {
   "cell_type": "code",
   "execution_count": 13,
   "metadata": {},
   "outputs": [
    {
     "name": "stdout",
     "output_type": "stream",
     "text": [
      "\n",
      " predicted  2  true  6 [CLS] Text:  His Text:  S Text:  ##U Text:  ##B Text:  _ Text:  B Text:  As Text:  ##th Text:  ##ma Text:  S Text:  ##U Text:  ##B Text:  _ Text:  E Text:  was Text:  treated Text:  with Text:  standing Text:  and Text:  PR Text:  ##N Text:  al Text:  ##but Text:  ##ero Text:  ##l Text:  and Text:  i Text:  ##pra Text:  ##tri Text:  ##op Text:  ##ium Text:  and Text:  a Text:  slow Text:  pre Text:  ##dn Text:  ##ison Text:  ##e Text:  tape Text:  ##r Text:  which Text:  he Text:  l Text:  completed Text:  on Text:  [ Text:  * Text:  * Text:  211 Text:  ##5 Text:  - Text:  3 Text:  - Text:  18 Text:  * Text:  * Text:  ] Text:  and Text:  he Text:  was Text:  restart Text:  ##ed Text:  on Text:  O Text:  ##B Text:  ##J Text:  _ Text:  B Text:  Ad Text:  ##va Text:  ##ir Text:  O Text:  ##B Text:  ##J Text:  _ Text:  E Text:  - Text:  patient Text:  may Text:  require Text:  additional Text:  ne Text:  ##bs Text:  on Text:  top Text:  of Text:  his Text:  standing Text:  ad Text:  ##va Text:  ##ir Text:  though Text:  his Text:  respiratory Text:  status Text:  has Text:  been Text:  very Text:  stable Text:  , Text:  without Text:  w Text:  ##hee Text:  ##zing Text:  for Text:  the Text:  last Text:  week Text:  . Text:  [SEP] Text:  [PAD] Text:  [PAD] Text:  [PAD] Text:  [PAD] Text:  [PAD] Text:  [PAD] Text:  [PAD] Text:  [PAD] Text:  [PAD] Text:  [PAD] Text:  [PAD] Text:  [PAD] Text:  [PAD] Text:  [PAD] Text:  [PAD] Text:  [PAD] Text:  [PAD]\n",
      "\n",
      " predicted  7  true  8 [CLS] Text:  4 Text:  . Text:  O Text:  ##B Text:  ##J Text:  _ Text:  B Text:  carved Text:  ##ilo Text:  ##l Text:  O Text:  ##B Text:  ##J Text:  _ Text:  E Text:  12 Text:  . Text:  5 Text:  mg Text:  Table Text:  ##t Text:  Si Text:  ##g Text:  : Text:  S Text:  ##U Text:  ##B Text:  _ Text:  B Text:  Two Text:  ( Text:  2 Text:  ) Text:  S Text:  ##U Text:  ##B Text:  _ Text:  E Text:  Table Text:  ##t Text:  P Text:  ##O Text:  B Text:  ##ID Text:  ( Text:  2 Text:  times Text:  a Text:  day Text:  ) Text:  . Text:  [SEP] Text:  [PAD] Text:  [PAD] Text:  [PAD] Text:  [PAD] Text:  [PAD] Text:  [PAD] Text:  [PAD] Text:  [PAD] Text:  [PAD] Text:  [PAD] Text:  [PAD] Text:  [PAD] Text:  [PAD] Text:  [PAD] Text:  [PAD] Text:  [PAD] Text:  [PAD] Text:  [PAD] Text:  [PAD] Text:  [PAD] Text:  [PAD] Text:  [PAD] Text:  [PAD] Text:  [PAD] Text:  [PAD] Text:  [PAD] Text:  [PAD] Text:  [PAD] Text:  [PAD] Text:  [PAD] Text:  [PAD] Text:  [PAD] Text:  [PAD] Text:  [PAD] Text:  [PAD] Text:  [PAD] Text:  [PAD] Text:  [PAD] Text:  [PAD] Text:  [PAD] Text:  [PAD] Text:  [PAD] Text:  [PAD] Text:  [PAD] Text:  [PAD] Text:  [PAD] Text:  [PAD] Text:  [PAD] Text:  [PAD] Text:  [PAD] Text:  [PAD] Text:  [PAD] Text:  [PAD] Text:  [PAD] Text:  [PAD] Text:  [PAD] Text:  [PAD] Text:  [PAD] Text:  [PAD] Text:  [PAD] Text:  [PAD] Text:  [PAD] Text:  [PAD] Text:  [PAD] Text:  [PAD] Text:  [PAD] Text:  [PAD] Text:  [PAD] Text:  [PAD] Text:  [PAD] Text:  [PAD] Text:  [PAD] Text:  [PAD] Text:  [PAD] Text:  [PAD]\n",
      "\n",
      " predicted  0  true  8 [CLS] Text:  His Text:  As Text:  ##th Text:  ##ma Text:  was Text:  treated Text:  with Text:  standing Text:  and Text:  PR Text:  ##N Text:  al Text:  ##but Text:  ##ero Text:  ##l Text:  and Text:  i Text:  ##pra Text:  ##tri Text:  ##op Text:  ##ium Text:  and Text:  a Text:  slow Text:  pre Text:  ##dn Text:  ##ison Text:  ##e Text:  tape Text:  ##r Text:  which Text:  he Text:  l Text:  completed Text:  on Text:  [ Text:  * Text:  * Text:  211 Text:  ##5 Text:  - Text:  3 Text:  - Text:  18 Text:  * Text:  * Text:  ] Text:  and Text:  he Text:  was Text:  restart Text:  ##ed Text:  on Text:  Ad Text:  ##va Text:  ##ir Text:  - Text:  patient Text:  may Text:  require Text:  additional Text:  ne Text:  ##bs Text:  on Text:  top Text:  of Text:  his Text:  standing Text:  O Text:  ##B Text:  ##J Text:  _ Text:  B Text:  ad Text:  ##va Text:  ##ir Text:  O Text:  ##B Text:  ##J Text:  _ Text:  E Text:  though Text:  his Text:  respiratory Text:  status Text:  has Text:  been Text:  very Text:  stable Text:  , Text:  without Text:  S Text:  ##U Text:  ##B Text:  _ Text:  B Text:  w Text:  ##hee Text:  ##zing Text:  S Text:  ##U Text:  ##B Text:  _ Text:  E Text:  for Text:  the Text:  last Text:  week Text:  . Text:  [SEP] Text:  [PAD] Text:  [PAD] Text:  [PAD] Text:  [PAD] Text:  [PAD] Text:  [PAD] Text:  [PAD] Text:  [PAD] Text:  [PAD] Text:  [PAD] Text:  [PAD] Text:  [PAD] Text:  [PAD] Text:  [PAD] Text:  [PAD] Text:  [PAD] Text:  [PAD]\n",
      "\n",
      " predicted  0  true  8 [CLS] Text:  7 Text:  . Text:  O Text:  ##B Text:  ##J Text:  _ Text:  B Text:  l Text:  ##isi Text:  ##no Text:  ##p Text:  ##ril Text:  O Text:  ##B Text:  ##J Text:  _ Text:  E Text:  S Text:  ##U Text:  ##B Text:  _ Text:  B Text:  10 Text:  mg Text:  S Text:  ##U Text:  ##B Text:  _ Text:  E Text:  Table Text:  ##t Text:  Si Text:  ##g Text:  : Text:  Two Text:  ( Text:  2 Text:  ) Text:  Table Text:  ##t Text:  P Text:  ##O Text:  D Text:  ##A Text:  ##IL Text:  ##Y Text:  ( Text:  Daily Text:  ) Text:  . Text:  [SEP] Text:  [PAD] Text:  [PAD] Text:  [PAD] Text:  [PAD] Text:  [PAD] Text:  [PAD] Text:  [PAD] Text:  [PAD] Text:  [PAD] Text:  [PAD] Text:  [PAD] Text:  [PAD] Text:  [PAD] Text:  [PAD] Text:  [PAD] Text:  [PAD] Text:  [PAD] Text:  [PAD] Text:  [PAD] Text:  [PAD] Text:  [PAD] Text:  [PAD] Text:  [PAD] Text:  [PAD] Text:  [PAD] Text:  [PAD] Text:  [PAD] Text:  [PAD] Text:  [PAD] Text:  [PAD] Text:  [PAD] Text:  [PAD] Text:  [PAD] Text:  [PAD] Text:  [PAD] Text:  [PAD] Text:  [PAD] Text:  [PAD] Text:  [PAD] Text:  [PAD] Text:  [PAD] Text:  [PAD] Text:  [PAD] Text:  [PAD] Text:  [PAD] Text:  [PAD] Text:  [PAD] Text:  [PAD] Text:  [PAD] Text:  [PAD] Text:  [PAD] Text:  [PAD] Text:  [PAD] Text:  [PAD] Text:  [PAD] Text:  [PAD] Text:  [PAD] Text:  [PAD] Text:  [PAD] Text:  [PAD] Text:  [PAD] Text:  [PAD] Text:  [PAD] Text:  [PAD] Text:  [PAD] Text:  [PAD] Text:  [PAD] Text:  [PAD] Text:  [PAD] Text:  [PAD] Text:  [PAD] Text:  [PAD] Text:  [PAD] Text:  [PAD] Text:  [PAD] Text:  [PAD]\n",
      "\n",
      " predicted  0  true  4 [CLS] Text:  Of Text:  note Text:  , Text:  the Text:  patient Text:  was Text:  admitted Text:  to Text:  L Text:  ##G Text:  ##H Text:  in Text:  [ Text:  * Text:  * Text:  1 Text:  - Text:  4 Text:  * Text:  * Text:  ] Text:  for Text:  d Text:  ##ys Text:  ##p Text:  ##nea Text:  , Text:  and Text:  was Text:  subsequently Text:  diagnosed Text:  with Text:  a Text:  S Text:  ##U Text:  ##B Text:  _ Text:  B Text:  CA Text:  ##P Text:  S Text:  ##U Text:  ##B Text:  _ Text:  E Text:  and Text:  as Text:  ##th Text:  ##ma Text:  treated Text:  with Text:  CT Text:  ##X Text:  and Text:  O Text:  ##B Text:  ##J Text:  _ Text:  B Text:  a Text:  ##zi Text:  ##th Text:  ##rom Text:  ##y Text:  ##cin Text:  O Text:  ##B Text:  ##J Text:  _ Text:  E Text:  . Text:  [SEP] Text:  [PAD] Text:  [PAD] Text:  [PAD] Text:  [PAD] Text:  [PAD] Text:  [PAD] Text:  [PAD] Text:  [PAD] Text:  [PAD] Text:  [PAD] Text:  [PAD] Text:  [PAD] Text:  [PAD] Text:  [PAD] Text:  [PAD] Text:  [PAD] Text:  [PAD] Text:  [PAD] Text:  [PAD] Text:  [PAD] Text:  [PAD] Text:  [PAD] Text:  [PAD] Text:  [PAD] Text:  [PAD] Text:  [PAD] Text:  [PAD] Text:  [PAD] Text:  [PAD] Text:  [PAD] Text:  [PAD] Text:  [PAD] Text:  [PAD] Text:  [PAD] Text:  [PAD] Text:  [PAD] Text:  [PAD] Text:  [PAD] Text:  [PAD] Text:  [PAD] Text:  [PAD] Text:  [PAD] Text:  [PAD] Text:  [PAD] Text:  [PAD] Text:  [PAD] Text:  [PAD] Text:  [PAD] Text:  [PAD] Text:  [PAD] Text:  [PAD] Text:  [PAD] Text:  [PAD] Text:  [PAD] Text:  [PAD]\n",
      "\n",
      " predicted  3  true  8 [CLS] Text:  # Text:  S Text:  ##U Text:  ##B Text:  _ Text:  B Text:  H Text:  ##yper Text:  ##gly Text:  ##ce Text:  ##mia Text:  S Text:  ##U Text:  ##B Text:  _ Text:  E Text:  : Text:  Pat Text:  ##ient Text:  is Text:  not Text:  known Text:  to Text:  be Text:  a Text:  di Text:  ##abe Text:  ##tic Text:  and Text:  was Text:  felt Text:  [ Text:  * Text:  * Text:  12 Text:  - Text:  26 Text:  * Text:  * Text:  ] Text:  O Text:  ##B Text:  ##J Text:  _ Text:  B Text:  s Text:  ##tero Text:  ##ids Text:  O Text:  ##B Text:  ##J Text:  _ Text:  E Text:  , Text:  his Text:  sugar Text:  ##s Text:  were Text:  controlled Text:  on Text:  sliding Text:  scale Text:  insulin Text:  in Text:  the Text:  hospital Text:  but Text:  he Text:  no Text:  longer Text:  had Text:  insulin Text:  requirements Text:  as Text:  his Text:  pre Text:  ##dn Text:  ##ison Text:  ##e Text:  was Text:  tape Text:  ##red Text:  . Text:  [SEP] Text:  [PAD] Text:  [PAD] Text:  [PAD] Text:  [PAD] Text:  [PAD] Text:  [PAD] Text:  [PAD] Text:  [PAD] Text:  [PAD] Text:  [PAD] Text:  [PAD] Text:  [PAD] Text:  [PAD] Text:  [PAD] Text:  [PAD] Text:  [PAD] Text:  [PAD] Text:  [PAD] Text:  [PAD] Text:  [PAD] Text:  [PAD] Text:  [PAD] Text:  [PAD] Text:  [PAD] Text:  [PAD] Text:  [PAD] Text:  [PAD] Text:  [PAD] Text:  [PAD] Text:  [PAD] Text:  [PAD] Text:  [PAD] Text:  [PAD] Text:  [PAD] Text:  [PAD] Text:  [PAD] Text:  [PAD] Text:  [PAD] Text:  [PAD] Text:  [PAD] Text:  [PAD] Text:  [PAD] Text:  [PAD]\n",
      "\n",
      " predicted  2  true  3 [CLS] Text:  He Text:  was Text:  treated Text:  with Text:  IV Text:  so Text:  ##lude Text:  ##med Text:  ##rol Text:  and Text:  O Text:  ##B Text:  ##J Text:  _ Text:  B Text:  al Text:  ##but Text:  ##ero Text:  ##l Text:  O Text:  ##B Text:  ##J Text:  _ Text:  E Text:  S Text:  ##U Text:  ##B Text:  _ Text:  B Text:  MD Text:  ##I Text:  S Text:  ##U Text:  ##B Text:  _ Text:  E Text:  . Text:  [SEP] Text:  [PAD] Text:  [PAD] Text:  [PAD] Text:  [PAD] Text:  [PAD] Text:  [PAD] Text:  [PAD] Text:  [PAD] Text:  [PAD] Text:  [PAD] Text:  [PAD] Text:  [PAD] Text:  [PAD] Text:  [PAD] Text:  [PAD] Text:  [PAD] Text:  [PAD] Text:  [PAD] Text:  [PAD] Text:  [PAD] Text:  [PAD] Text:  [PAD] Text:  [PAD] Text:  [PAD] Text:  [PAD] Text:  [PAD] Text:  [PAD] Text:  [PAD] Text:  [PAD] Text:  [PAD] Text:  [PAD] Text:  [PAD] Text:  [PAD] Text:  [PAD] Text:  [PAD] Text:  [PAD] Text:  [PAD] Text:  [PAD] Text:  [PAD] Text:  [PAD] Text:  [PAD] Text:  [PAD] Text:  [PAD] Text:  [PAD] Text:  [PAD] Text:  [PAD] Text:  [PAD] Text:  [PAD] Text:  [PAD] Text:  [PAD] Text:  [PAD] Text:  [PAD] Text:  [PAD] Text:  [PAD] Text:  [PAD] Text:  [PAD] Text:  [PAD] Text:  [PAD] Text:  [PAD] Text:  [PAD] Text:  [PAD] Text:  [PAD] Text:  [PAD] Text:  [PAD] Text:  [PAD] Text:  [PAD] Text:  [PAD] Text:  [PAD] Text:  [PAD] Text:  [PAD] Text:  [PAD] Text:  [PAD] Text:  [PAD] Text:  [PAD] Text:  [PAD] Text:  [PAD] Text:  [PAD] Text:  [PAD] Text:  [PAD] Text:  [PAD] Text:  [PAD] Text:  [PAD] Text:  [PAD] Text:  [PAD] Text:  [PAD] Text:  [PAD] Text:  [PAD] Text:  [PAD] Text:  [PAD]\n",
      "\n",
      " predicted  1  true  0 [CLS] Text:  11 Text:  . Text:  O Text:  ##B Text:  ##J Text:  _ Text:  B Text:  ace Text:  ##tam Text:  ##ino Text:  ##phe Text:  ##n Text:  O Text:  ##B Text:  ##J Text:  _ Text:  E Text:  500 Text:  mg Text:  Table Text:  ##t Text:  Si Text:  ##g Text:  : Text:  Two Text:  ( Text:  2 Text:  ) Text:  Table Text:  ##t Text:  P Text:  ##O Text:  T Text:  ##ID Text:  ( Text:  3 Text:  times Text:  a Text:  day Text:  ) Text:  as Text:  needed Text:  for Text:  S Text:  ##U Text:  ##B Text:  _ Text:  B Text:  pain Text:  S Text:  ##U Text:  ##B Text:  _ Text:  E Text:  / Text:  fever Text:  . Text:  [SEP] Text:  [PAD] Text:  [PAD] Text:  [PAD] Text:  [PAD] Text:  [PAD] Text:  [PAD] Text:  [PAD] Text:  [PAD] Text:  [PAD] Text:  [PAD] Text:  [PAD] Text:  [PAD] Text:  [PAD] Text:  [PAD] Text:  [PAD] Text:  [PAD] Text:  [PAD] Text:  [PAD] Text:  [PAD] Text:  [PAD] Text:  [PAD] Text:  [PAD] Text:  [PAD] Text:  [PAD] Text:  [PAD] Text:  [PAD] Text:  [PAD] Text:  [PAD] Text:  [PAD] Text:  [PAD] Text:  [PAD] Text:  [PAD] Text:  [PAD] Text:  [PAD] Text:  [PAD] Text:  [PAD] Text:  [PAD] Text:  [PAD] Text:  [PAD] Text:  [PAD] Text:  [PAD] Text:  [PAD] Text:  [PAD] Text:  [PAD] Text:  [PAD] Text:  [PAD] Text:  [PAD] Text:  [PAD] Text:  [PAD] Text:  [PAD] Text:  [PAD] Text:  [PAD] Text:  [PAD] Text:  [PAD] Text:  [PAD] Text:  [PAD] Text:  [PAD] Text:  [PAD] Text:  [PAD] Text:  [PAD] Text:  [PAD] Text:  [PAD] Text:  [PAD] Text:  [PAD] Text:  [PAD] Text:  [PAD] Text:  [PAD] Text:  [PAD] Text:  [PAD]\n",
      "\n",
      " predicted  2  true  3 [CLS] Text:  P Text:  ##O Text:  S Text:  ##U Text:  ##B Text:  _ Text:  B Text:  D Text:  ##A Text:  ##IL Text:  ##Y Text:  S Text:  ##U Text:  ##B Text:  _ Text:  E Text:  ( Text:  Daily Text:  ) Text:  as Text:  needed Text:  for Text:  Con Text:  ##st Text:  ##ip Text:  ##ation Text:  . Text:  Me Text:  ##dication Text:  ##s Text:  on Text:  Ad Text:  ##mission Text:  : Text:  Car Text:  ##ved Text:  ##ilo Text:  ##l Text:  25 Text:  [ Text:  * Text:  * Text:  Hospital Text:  ##1 Text:  * Text:  * Text:  ] Text:  Las Text:  ##ix Text:  80 Text:  mg Text:  p Text:  ##o Text:  bid Text:  X Text:  ##ana Text:  ##x Text:  0 Text:  . Text:  25 Text:  mg Text:  1 Text:  - Text:  2 Text:  ta Text:  ##bs Text:  p Text:  ##rn Text:  al Text:  ##but Text:  ##ero Text:  ##l Text:  MD Text:  ##I Text:  I Text:  ##bu Text:  ##p Text:  ##ro Text:  ##fen Text:  p Text:  ##rn Text:  Ben Text:  ##ad Text:  ##ryl Text:  p Text:  ##rn Text:  Ad Text:  ##va Text:  ##ir Text:  disk Text:  ##us Text:  L Text:  ##sin Text:  ##op Text:  ##ril Text:  40 Text:  daily Text:  Disc Text:  ##har Text:  ##ge Text:  Me Text:  ##dication Text:  ##s Text:  : Text:  1 Text:  . Text:  O Text:  ##B Text:  ##J Text:  _ Text:  B Text:  bi Text:  ##sa Text:  ##co Text:  ##dy Text:  ##l Text:  O Text:  ##B Text:  ##J Text:  _ Text:  E Text:  5 Text:  mg Text:  Table Text:  ##t Text:  , Text:  [SEP]\n",
      "\n",
      " predicted  0  true  1 [CLS] Text:  He Text:  also Text:  may Text:  have Text:  S Text:  ##U Text:  ##B Text:  _ Text:  B Text:  re Text:  ##current Text:  seizure Text:  ##s Text:  S Text:  ##U Text:  ##B Text:  _ Text:  E Text:  which Text:  should Text:  be Text:  treated Text:  with Text:  O Text:  ##B Text:  ##J Text:  _ Text:  B Text:  at Text:  ##iva Text:  ##n Text:  O Text:  ##B Text:  ##J Text:  _ Text:  E Text:  IV Text:  or Text:  I Text:  ##M Text:  and Text:  do Text:  not Text:  ne Text:  ##cc Text:  ##ess Text:  ##arily Text:  indicate Text:  patient Text:  needs Text:  to Text:  return Text:  to Text:  hospital Text:  unless Text:  they Text:  continue Text:  for Text:  greater Text:  than Text:  5 Text:  minutes Text:  or Text:  he Text:  has Text:  multiple Text:  S Text:  ##U Text:  ##B Text:  _ Text:  B Text:  re Text:  ##current Text:  seizure Text:  ##s Text:  S Text:  ##U Text:  ##B Text:  _ Text:  E Text:  or Text:  complications Text:  such Text:  as Text:  as Text:  ##piration Text:  . Text:  [SEP] Text:  [PAD] Text:  [PAD] Text:  [PAD] Text:  [PAD] Text:  [PAD] Text:  [PAD] Text:  [PAD] Text:  [PAD] Text:  [PAD] Text:  [PAD] Text:  [PAD] Text:  [PAD] Text:  [PAD] Text:  [PAD] Text:  [PAD] Text:  [PAD] Text:  [PAD] Text:  [PAD] Text:  [PAD] Text:  [PAD] Text:  [PAD] Text:  [PAD] Text:  [PAD] Text:  [PAD] Text:  [PAD] Text:  [PAD] Text:  [PAD] Text:  [PAD] Text:  [PAD] Text:  [PAD] Text:  [PAD] Text:  [PAD] Text:  [PAD] Text:  [PAD] Text:  [PAD] Text:  [PAD] Text:  [PAD] Text:  [PAD] Text:  [PAD]\n",
      "\n",
      " predicted  1  true  6 [CLS] Text:  Also Text:  continued Text:  on Text:  home Text:  dose Text:  of Text:  carved Text:  ##ilo Text:  ##l Text:  and Text:  Li Text:  ##sin Text:  ##op Text:  ##ril Text:  but Text:  O Text:  ##B Text:  ##J Text:  _ Text:  B Text:  AC Text:  ##E Text:  O Text:  ##B Text:  ##J Text:  _ Text:  E Text:  down Text:  ##ti Text:  ##trate Text:  ##d Text:  from Text:  S Text:  ##U Text:  ##B Text:  _ Text:  B Text:  40 Text:  S Text:  ##U Text:  ##B Text:  _ Text:  E Text:  to Text:  20 Text:  when Text:  had Text:  elevated Text:  C Text:  ##r Text:  1 Text:  . Text:  9 Text:  on Text:  [ Text:  * Text:  * Text:  3 Text:  - Text:  18 Text:  * Text:  * Text:  ] Text:  and Text:  slightly Text:  low Text:  BP Text:  ##s Text:  high Text:  90s Text:  / Text:  60s Text:  . Text:  [SEP] Text:  [PAD] Text:  [PAD] Text:  [PAD] Text:  [PAD] Text:  [PAD] Text:  [PAD] Text:  [PAD] Text:  [PAD] Text:  [PAD] Text:  [PAD] Text:  [PAD] Text:  [PAD] Text:  [PAD] Text:  [PAD] Text:  [PAD] Text:  [PAD] Text:  [PAD] Text:  [PAD] Text:  [PAD] Text:  [PAD] Text:  [PAD] Text:  [PAD] Text:  [PAD] Text:  [PAD] Text:  [PAD] Text:  [PAD] Text:  [PAD] Text:  [PAD] Text:  [PAD] Text:  [PAD] Text:  [PAD] Text:  [PAD] Text:  [PAD] Text:  [PAD] Text:  [PAD] Text:  [PAD] Text:  [PAD] Text:  [PAD] Text:  [PAD] Text:  [PAD] Text:  [PAD] Text:  [PAD] Text:  [PAD] Text:  [PAD] Text:  [PAD] Text:  [PAD] Text:  [PAD] Text:  [PAD] Text:  [PAD] Text:  [PAD] Text:  [PAD] Text:  [PAD] Text:  [PAD]\n",
      "\n",
      " predicted  2  true  3 [CLS] Text:  He Text:  was Text:  treated Text:  with Text:  S Text:  ##U Text:  ##B Text:  _ Text:  B Text:  pain Text:  S Text:  ##U Text:  ##B Text:  _ Text:  E Text:  medication Text:  including Text:  low Text:  dose Text:  O Text:  ##B Text:  ##J Text:  _ Text:  B Text:  ultra Text:  ##m Text:  O Text:  ##B Text:  ##J Text:  _ Text:  E Text:  , Text:  standing Text:  t Text:  ##yle Text:  ##no Text:  ##l Text:  and Text:  a Text:  lid Text:  ##oc Text:  ##aine Text:  patch Text:  . Text:  [SEP] Text:  [PAD] Text:  [PAD] Text:  [PAD] Text:  [PAD] Text:  [PAD] Text:  [PAD] Text:  [PAD] Text:  [PAD] Text:  [PAD] Text:  [PAD] Text:  [PAD] Text:  [PAD] Text:  [PAD] Text:  [PAD] Text:  [PAD] Text:  [PAD] Text:  [PAD] Text:  [PAD] Text:  [PAD] Text:  [PAD] Text:  [PAD] Text:  [PAD] Text:  [PAD] Text:  [PAD] Text:  [PAD] Text:  [PAD] Text:  [PAD] Text:  [PAD] Text:  [PAD] Text:  [PAD] Text:  [PAD] Text:  [PAD] Text:  [PAD] Text:  [PAD] Text:  [PAD] Text:  [PAD] Text:  [PAD] Text:  [PAD] Text:  [PAD] Text:  [PAD] Text:  [PAD] Text:  [PAD] Text:  [PAD] Text:  [PAD] Text:  [PAD] Text:  [PAD] Text:  [PAD] Text:  [PAD] Text:  [PAD] Text:  [PAD] Text:  [PAD] Text:  [PAD] Text:  [PAD] Text:  [PAD] Text:  [PAD] Text:  [PAD] Text:  [PAD] Text:  [PAD] Text:  [PAD] Text:  [PAD] Text:  [PAD] Text:  [PAD] Text:  [PAD] Text:  [PAD] Text:  [PAD] Text:  [PAD] Text:  [PAD] Text:  [PAD] Text:  [PAD] Text:  [PAD] Text:  [PAD] Text:  [PAD] Text:  [PAD] Text:  [PAD] Text:  [PAD] Text:  [PAD] Text:  [PAD] Text:  [PAD] Text:  [PAD] Text:  [PAD] Text:  [PAD] Text:  [PAD]\n",
      "\n",
      " predicted  6  true  8 [CLS] Text:  Also Text:  continued Text:  on Text:  home Text:  dose Text:  of Text:  carved Text:  ##ilo Text:  ##l Text:  and Text:  Li Text:  ##sin Text:  ##op Text:  ##ril Text:  but Text:  O Text:  ##B Text:  ##J Text:  _ Text:  B Text:  AC Text:  ##E Text:  O Text:  ##B Text:  ##J Text:  _ Text:  E Text:  down Text:  ##ti Text:  ##trate Text:  ##d Text:  from Text:  40 Text:  to Text:  20 Text:  when Text:  had Text:  elevated Text:  C Text:  ##r Text:  1 Text:  . Text:  9 Text:  on Text:  [ Text:  * Text:  * Text:  3 Text:  - Text:  18 Text:  * Text:  * Text:  ] Text:  and Text:  slightly Text:  S Text:  ##U Text:  ##B Text:  _ Text:  B Text:  low Text:  BP Text:  ##s Text:  S Text:  ##U Text:  ##B Text:  _ Text:  E Text:  high Text:  90s Text:  / Text:  60s Text:  . Text:  [SEP] Text:  [PAD] Text:  [PAD] Text:  [PAD] Text:  [PAD] Text:  [PAD] Text:  [PAD] Text:  [PAD] Text:  [PAD] Text:  [PAD] Text:  [PAD] Text:  [PAD] Text:  [PAD] Text:  [PAD] Text:  [PAD] Text:  [PAD] Text:  [PAD] Text:  [PAD] Text:  [PAD] Text:  [PAD] Text:  [PAD] Text:  [PAD] Text:  [PAD] Text:  [PAD] Text:  [PAD] Text:  [PAD] Text:  [PAD] Text:  [PAD] Text:  [PAD] Text:  [PAD] Text:  [PAD] Text:  [PAD] Text:  [PAD] Text:  [PAD] Text:  [PAD] Text:  [PAD] Text:  [PAD] Text:  [PAD] Text:  [PAD] Text:  [PAD] Text:  [PAD] Text:  [PAD] Text:  [PAD] Text:  [PAD] Text:  [PAD] Text:  [PAD] Text:  [PAD] Text:  [PAD] Text:  [PAD] Text:  [PAD] Text:  [PAD] Text:  [PAD] Text:  [PAD] Text:  [PAD]\n",
      "\n",
      " predicted  7  true  8 [CLS] Text:  Me Text:  ##dication Text:  ##s Text:  on Text:  Ad Text:  ##mission Text:  : Text:  O Text:  ##B Text:  ##J Text:  _ Text:  B Text:  Car Text:  ##ved Text:  ##ilo Text:  ##l Text:  O Text:  ##B Text:  ##J Text:  _ Text:  E Text:  S Text:  ##U Text:  ##B Text:  _ Text:  B Text:  25 Text:  S Text:  ##U Text:  ##B Text:  _ Text:  E Text:  [ Text:  * Text:  * Text:  Hospital Text:  ##1 Text:  * Text:  * Text:  ] Text:  Las Text:  ##ix Text:  80 Text:  mg Text:  p Text:  ##o Text:  bid Text:  X Text:  ##ana Text:  ##x Text:  0 Text:  . Text:  S Text:  ##U Text:  ##B Text:  _ Text:  B Text:  25 Text:  S Text:  ##U Text:  ##B Text:  _ Text:  E Text:  mg Text:  1 Text:  - Text:  2 Text:  ta Text:  ##bs Text:  p Text:  ##rn Text:  al Text:  ##but Text:  ##ero Text:  ##l Text:  MD Text:  ##I Text:  I Text:  ##bu Text:  ##p Text:  ##ro Text:  ##fen Text:  p Text:  ##rn Text:  Ben Text:  ##ad Text:  ##ryl Text:  p Text:  ##rn Text:  Ad Text:  ##va Text:  ##ir Text:  disk Text:  ##us Text:  L Text:  ##sin Text:  ##op Text:  ##ril Text:  40 Text:  daily Text:  Disc Text:  ##har Text:  ##ge Text:  Me Text:  ##dication Text:  ##s Text:  : Text:  1 Text:  . Text:  bi Text:  ##sa Text:  ##co Text:  ##dy Text:  ##l Text:  5 Text:  mg Text:  Table Text:  ##t Text:  , Text:  Del Text:  ##ay Text:  ##ed Text:  Release Text:  ( Text:  E Text:  . Text:  [SEP]\n",
      "\n",
      " predicted  6  true  8 [CLS] Text:  2 Text:  . Text:  O Text:  ##B Text:  ##J Text:  _ Text:  B Text:  se Text:  ##nna Text:  O Text:  ##B Text:  ##J Text:  _ Text:  E Text:  8 Text:  . Text:  6 Text:  mg Text:  Table Text:  ##t Text:  Si Text:  ##g Text:  : Text:  One Text:  ( Text:  1 Text:  ) Text:  Table Text:  ##t Text:  P Text:  ##O Text:  B Text:  ##ID Text:  ( Text:  2 Text:  times Text:  a Text:  day Text:  ) Text:  as Text:  needed Text:  for Text:  S Text:  ##U Text:  ##B Text:  _ Text:  B Text:  Con Text:  ##st Text:  ##ip Text:  ##ation Text:  S Text:  ##U Text:  ##B Text:  _ Text:  E Text:  . Text:  [SEP] Text:  [PAD] Text:  [PAD] Text:  [PAD] Text:  [PAD] Text:  [PAD] Text:  [PAD] Text:  [PAD] Text:  [PAD] Text:  [PAD] Text:  [PAD] Text:  [PAD] Text:  [PAD] Text:  [PAD] Text:  [PAD] Text:  [PAD] Text:  [PAD] Text:  [PAD] Text:  [PAD] Text:  [PAD] Text:  [PAD] Text:  [PAD] Text:  [PAD] Text:  [PAD] Text:  [PAD] Text:  [PAD] Text:  [PAD] Text:  [PAD] Text:  [PAD] Text:  [PAD] Text:  [PAD] Text:  [PAD] Text:  [PAD] Text:  [PAD] Text:  [PAD] Text:  [PAD] Text:  [PAD] Text:  [PAD] Text:  [PAD] Text:  [PAD] Text:  [PAD] Text:  [PAD] Text:  [PAD] Text:  [PAD] Text:  [PAD] Text:  [PAD] Text:  [PAD] Text:  [PAD] Text:  [PAD] Text:  [PAD] Text:  [PAD] Text:  [PAD] Text:  [PAD] Text:  [PAD] Text:  [PAD] Text:  [PAD] Text:  [PAD] Text:  [PAD] Text:  [PAD] Text:  [PAD] Text:  [PAD] Text:  [PAD] Text:  [PAD] Text:  [PAD] Text:  [PAD] Text:  [PAD] Text:  [PAD] Text:  [PAD] Text:  [PAD] Text:  [PAD]\n",
      "\n",
      " predicted  1  true  8 [CLS] Text:  7 Text:  . Text:  O Text:  ##B Text:  ##J Text:  _ Text:  B Text:  l Text:  ##isi Text:  ##no Text:  ##p Text:  ##ril Text:  O Text:  ##B Text:  ##J Text:  _ Text:  E Text:  10 Text:  mg Text:  S Text:  ##U Text:  ##B Text:  _ Text:  B Text:  Table Text:  ##t Text:  S Text:  ##U Text:  ##B Text:  _ Text:  E Text:  Si Text:  ##g Text:  : Text:  Two Text:  ( Text:  2 Text:  ) Text:  S Text:  ##U Text:  ##B Text:  _ Text:  B Text:  Table Text:  ##t Text:  S Text:  ##U Text:  ##B Text:  _ Text:  E Text:  P Text:  ##O Text:  D Text:  ##A Text:  ##IL Text:  ##Y Text:  ( Text:  Daily Text:  ) Text:  . Text:  [SEP] Text:  [PAD] Text:  [PAD] Text:  [PAD] Text:  [PAD] Text:  [PAD] Text:  [PAD] Text:  [PAD] Text:  [PAD] Text:  [PAD] Text:  [PAD] Text:  [PAD] Text:  [PAD] Text:  [PAD] Text:  [PAD] Text:  [PAD] Text:  [PAD] Text:  [PAD] Text:  [PAD] Text:  [PAD] Text:  [PAD] Text:  [PAD] Text:  [PAD] Text:  [PAD] Text:  [PAD] Text:  [PAD] Text:  [PAD] Text:  [PAD] Text:  [PAD] Text:  [PAD] Text:  [PAD] Text:  [PAD] Text:  [PAD] Text:  [PAD] Text:  [PAD] Text:  [PAD] Text:  [PAD] Text:  [PAD] Text:  [PAD] Text:  [PAD] Text:  [PAD] Text:  [PAD] Text:  [PAD] Text:  [PAD] Text:  [PAD] Text:  [PAD] Text:  [PAD] Text:  [PAD] Text:  [PAD] Text:  [PAD] Text:  [PAD] Text:  [PAD] Text:  [PAD] Text:  [PAD] Text:  [PAD] Text:  [PAD] Text:  [PAD] Text:  [PAD] Text:  [PAD] Text:  [PAD] Text:  [PAD] Text:  [PAD] Text:  [PAD] Text:  [PAD] Text:  [PAD] Text:  [PAD] Text:  [PAD]\n",
      "\n",
      " predicted  1  true  8 [CLS] Text:  Pat Text:  ##ient Text:  was Text:  di Text:  ##ures Text:  ##ed Text:  with Text:  S Text:  ##U Text:  ##B Text:  _ Text:  B Text:  IV Text:  S Text:  ##U Text:  ##B Text:  _ Text:  E Text:  O Text:  ##B Text:  ##J Text:  _ Text:  B Text:  las Text:  ##ix Text:  O Text:  ##B Text:  ##J Text:  _ Text:  E Text:  in Text:  the Text:  E Text:  ##D Text:  and Text:  then Text:  transitioned Text:  to Text:  P Text:  ##O Text:  O Text:  ##B Text:  ##J Text:  _ Text:  B Text:  las Text:  ##ix Text:  O Text:  ##B Text:  ##J Text:  _ Text:  E Text:  , Text:  home Text:  dose Text:  , Text:  on Text:  the Text:  floor Text:  . Text:  [SEP] Text:  [PAD] Text:  [PAD] Text:  [PAD] Text:  [PAD] Text:  [PAD] Text:  [PAD] Text:  [PAD] Text:  [PAD] Text:  [PAD] Text:  [PAD] Text:  [PAD] Text:  [PAD] Text:  [PAD] Text:  [PAD] Text:  [PAD] Text:  [PAD] Text:  [PAD] Text:  [PAD] Text:  [PAD] Text:  [PAD] Text:  [PAD] Text:  [PAD] Text:  [PAD] Text:  [PAD] Text:  [PAD] Text:  [PAD] Text:  [PAD] Text:  [PAD] Text:  [PAD] Text:  [PAD] Text:  [PAD] Text:  [PAD] Text:  [PAD] Text:  [PAD] Text:  [PAD] Text:  [PAD] Text:  [PAD] Text:  [PAD] Text:  [PAD] Text:  [PAD] Text:  [PAD] Text:  [PAD] Text:  [PAD] Text:  [PAD] Text:  [PAD] Text:  [PAD] Text:  [PAD] Text:  [PAD] Text:  [PAD] Text:  [PAD] Text:  [PAD] Text:  [PAD] Text:  [PAD] Text:  [PAD] Text:  [PAD] Text:  [PAD] Text:  [PAD] Text:  [PAD] Text:  [PAD] Text:  [PAD] Text:  [PAD] Text:  [PAD] Text:  [PAD] Text:  [PAD] Text:  [PAD] Text:  [PAD]\n",
      "\n",
      " predicted  0  true  5 [CLS] Text:  He Text:  received Text:  ve Text:  ##cu Text:  ##ron Text:  ##ium Text:  and Text:  was Text:  started Text:  on Text:  an Text:  O Text:  ##B Text:  ##J Text:  _ Text:  B Text:  e Text:  ##pi Text:  O Text:  ##B Text:  ##J Text:  _ Text:  E Text:  g Text:  ##tt Text:  for Text:  S Text:  ##U Text:  ##B Text:  _ Text:  B Text:  as Text:  ##th Text:  ##ma Text:  S Text:  ##U Text:  ##B Text:  _ Text:  E Text:  and Text:  a Text:  cooling Text:  protocol Text:  , Text:  and Text:  was Text:  then Text:  transferred Text:  to Text:  [ Text:  * Text:  * Text:  Hospital Text:  ##1 Text:  18 Text:  * Text:  * Text:  ] Text:  for Text:  further Text:  evaluation Text:  . Text:  [SEP] Text:  [PAD] Text:  [PAD] Text:  [PAD] Text:  [PAD] Text:  [PAD] Text:  [PAD] Text:  [PAD] Text:  [PAD] Text:  [PAD] Text:  [PAD] Text:  [PAD] Text:  [PAD] Text:  [PAD] Text:  [PAD] Text:  [PAD] Text:  [PAD] Text:  [PAD] Text:  [PAD] Text:  [PAD] Text:  [PAD] Text:  [PAD] Text:  [PAD] Text:  [PAD] Text:  [PAD] Text:  [PAD] Text:  [PAD] Text:  [PAD] Text:  [PAD] Text:  [PAD] Text:  [PAD] Text:  [PAD] Text:  [PAD] Text:  [PAD] Text:  [PAD] Text:  [PAD] Text:  [PAD] Text:  [PAD] Text:  [PAD] Text:  [PAD] Text:  [PAD] Text:  [PAD] Text:  [PAD] Text:  [PAD] Text:  [PAD] Text:  [PAD] Text:  [PAD] Text:  [PAD] Text:  [PAD] Text:  [PAD] Text:  [PAD] Text:  [PAD] Text:  [PAD] Text:  [PAD] Text:  [PAD] Text:  [PAD] Text:  [PAD] Text:  [PAD] Text:  [PAD] Text:  [PAD] Text:  [PAD] Text:  [PAD] Text:  [PAD] Text:  [PAD] Text:  [PAD]\n",
      "\n",
      " predicted  6  true  8 [CLS] Text:  5 Text:  . Text:  O Text:  ##B Text:  ##J Text:  _ Text:  B Text:  do Text:  ##cus Text:  ##ate Text:  sodium Text:  O Text:  ##B Text:  ##J Text:  _ Text:  E Text:  100 Text:  mg Text:  S Text:  ##U Text:  ##B Text:  _ Text:  B Text:  Cap Text:  ##sul Text:  ##e Text:  S Text:  ##U Text:  ##B Text:  _ Text:  E Text:  Si Text:  ##g Text:  : Text:  One Text:  ( Text:  1 Text:  ) Text:  S Text:  ##U Text:  ##B Text:  _ Text:  B Text:  Cap Text:  ##sul Text:  ##e Text:  S Text:  ##U Text:  ##B Text:  _ Text:  E Text:  P Text:  ##O Text:  B Text:  ##ID Text:  ( Text:  2 Text:  times Text:  a Text:  day Text:  ) Text:  . Text:  [SEP] Text:  [PAD] Text:  [PAD] Text:  [PAD] Text:  [PAD] Text:  [PAD] Text:  [PAD] Text:  [PAD] Text:  [PAD] Text:  [PAD] Text:  [PAD] Text:  [PAD] Text:  [PAD] Text:  [PAD] Text:  [PAD] Text:  [PAD] Text:  [PAD] Text:  [PAD] Text:  [PAD] Text:  [PAD] Text:  [PAD] Text:  [PAD] Text:  [PAD] Text:  [PAD] Text:  [PAD] Text:  [PAD] Text:  [PAD] Text:  [PAD] Text:  [PAD] Text:  [PAD] Text:  [PAD] Text:  [PAD] Text:  [PAD] Text:  [PAD] Text:  [PAD] Text:  [PAD] Text:  [PAD] Text:  [PAD] Text:  [PAD] Text:  [PAD] Text:  [PAD] Text:  [PAD] Text:  [PAD] Text:  [PAD] Text:  [PAD] Text:  [PAD] Text:  [PAD] Text:  [PAD] Text:  [PAD] Text:  [PAD] Text:  [PAD] Text:  [PAD] Text:  [PAD] Text:  [PAD] Text:  [PAD] Text:  [PAD] Text:  [PAD] Text:  [PAD] Text:  [PAD] Text:  [PAD] Text:  [PAD] Text:  [PAD] Text:  [PAD] Text:  [PAD] Text:  [PAD]\n",
      "\n",
      " predicted  6  true  8 [CLS] Text:  Si Text:  ##g Text:  : Text:  S Text:  ##U Text:  ##B Text:  _ Text:  B Text:  Two Text:  ( Text:  2 Text:  ) Text:  S Text:  ##U Text:  ##B Text:  _ Text:  E Text:  Table Text:  ##t Text:  , Text:  Del Text:  ##ay Text:  ##ed Text:  Release Text:  ( Text:  E Text:  . Text:  C Text:  . Text:  ) Text:  Me Text:  ##dication Text:  ##s Text:  on Text:  Ad Text:  ##mission Text:  : Text:  Car Text:  ##ved Text:  ##ilo Text:  ##l Text:  25 Text:  [ Text:  * Text:  * Text:  Hospital Text:  ##1 Text:  * Text:  * Text:  ] Text:  Las Text:  ##ix Text:  80 Text:  mg Text:  p Text:  ##o Text:  bid Text:  X Text:  ##ana Text:  ##x Text:  0 Text:  . Text:  25 Text:  mg Text:  1 Text:  - Text:  2 Text:  ta Text:  ##bs Text:  p Text:  ##rn Text:  al Text:  ##but Text:  ##ero Text:  ##l Text:  MD Text:  ##I Text:  I Text:  ##bu Text:  ##p Text:  ##ro Text:  ##fen Text:  p Text:  ##rn Text:  Ben Text:  ##ad Text:  ##ryl Text:  p Text:  ##rn Text:  Ad Text:  ##va Text:  ##ir Text:  disk Text:  ##us Text:  L Text:  ##sin Text:  ##op Text:  ##ril Text:  40 Text:  daily Text:  Disc Text:  ##har Text:  ##ge Text:  Me Text:  ##dication Text:  ##s Text:  : Text:  1 Text:  . Text:  O Text:  ##B Text:  ##J Text:  _ Text:  B Text:  bi Text:  ##sa Text:  ##co Text:  ##dy Text:  ##l Text:  O Text:  ##B Text:  ##J Text:  _ Text:  E Text:  5 Text:  mg Text:  [SEP]\n",
      "\n",
      " predicted  3  true  8 [CLS] Text:  Me Text:  ##dication Text:  ##s Text:  on Text:  Ad Text:  ##mission Text:  : Text:  Car Text:  ##ved Text:  ##ilo Text:  ##l Text:  25 Text:  [ Text:  * Text:  * Text:  Hospital Text:  ##1 Text:  * Text:  * Text:  ] Text:  Las Text:  ##ix Text:  80 Text:  mg Text:  p Text:  ##o Text:  bid Text:  X Text:  ##ana Text:  ##x Text:  0 Text:  . Text:  25 Text:  mg Text:  1 Text:  - Text:  2 Text:  ta Text:  ##bs Text:  p Text:  ##rn Text:  al Text:  ##but Text:  ##ero Text:  ##l Text:  MD Text:  ##I Text:  I Text:  ##bu Text:  ##p Text:  ##ro Text:  ##fen Text:  p Text:  ##rn Text:  Ben Text:  ##ad Text:  ##ryl Text:  p Text:  ##rn Text:  Ad Text:  ##va Text:  ##ir Text:  disk Text:  ##us Text:  L Text:  ##sin Text:  ##op Text:  ##ril Text:  40 Text:  daily Text:  Disc Text:  ##har Text:  ##ge Text:  Me Text:  ##dication Text:  ##s Text:  : Text:  1 Text:  . Text:  O Text:  ##B Text:  ##J Text:  _ Text:  B Text:  bi Text:  ##sa Text:  ##co Text:  ##dy Text:  ##l Text:  O Text:  ##B Text:  ##J Text:  _ Text:  E Text:  5 Text:  mg Text:  Table Text:  ##t Text:  , Text:  S Text:  ##U Text:  ##B Text:  _ Text:  B Text:  Del Text:  ##ay Text:  ##ed Text:  Release Text:  S Text:  ##U Text:  ##B Text:  _ Text:  E Text:  ( Text:  E Text:  . Text:  C Text:  . Text:  ) Text:  [SEP] Text:  [PAD] Text:  [PAD] Text:  [PAD] Text:  [PAD] Text:  [PAD] Text:  [PAD] Text:  [PAD]\n",
      "\n",
      " predicted  2  true  5 [CLS] Text:  Me Text:  ##dication Text:  ##s Text:  on Text:  Ad Text:  ##mission Text:  : Text:  Car Text:  ##ved Text:  ##ilo Text:  ##l Text:  25 Text:  [ Text:  * Text:  * Text:  Hospital Text:  ##1 Text:  * Text:  * Text:  ] Text:  Las Text:  ##ix Text:  80 Text:  mg Text:  p Text:  ##o Text:  bid Text:  X Text:  ##ana Text:  ##x Text:  0 Text:  . Text:  25 Text:  mg Text:  1 Text:  - Text:  2 Text:  ta Text:  ##bs Text:  p Text:  ##rn Text:  O Text:  ##B Text:  ##J Text:  _ Text:  B Text:  al Text:  ##but Text:  ##ero Text:  ##l Text:  O Text:  ##B Text:  ##J Text:  _ Text:  E Text:  S Text:  ##U Text:  ##B Text:  _ Text:  B Text:  MD Text:  ##I Text:  S Text:  ##U Text:  ##B Text:  _ Text:  E Text:  I Text:  ##bu Text:  ##p Text:  ##ro Text:  ##fen Text:  p Text:  ##rn Text:  Ben Text:  ##ad Text:  ##ryl Text:  p Text:  ##rn Text:  Ad Text:  ##va Text:  ##ir Text:  disk Text:  ##us Text:  L Text:  ##sin Text:  ##op Text:  ##ril Text:  40 Text:  daily Text:  Disc Text:  ##har Text:  ##ge Text:  Me Text:  ##dication Text:  ##s Text:  : Text:  1 Text:  . Text:  bi Text:  ##sa Text:  ##co Text:  ##dy Text:  ##l Text:  5 Text:  mg Text:  Table Text:  ##t Text:  , Text:  Del Text:  ##ay Text:  ##ed Text:  Release Text:  ( Text:  E Text:  . Text:  C Text:  . Text:  ) Text:  [SEP] Text:  [PAD] Text:  [PAD] Text:  [PAD] Text:  [PAD] Text:  [PAD] Text:  [PAD] Text:  [PAD]\n",
      "\n",
      " predicted  0  true  8 [CLS] Text:  - Text:  patient Text:  will Text:  be Text:  on Text:  O Text:  ##B Text:  ##J Text:  _ Text:  B Text:  Top Text:  ##ira Text:  ##mate Text:  O Text:  ##B Text:  ##J Text:  _ Text:  E Text:  25 Text:  ##m Text:  ##g Text:  P Text:  ##O Text:  S Text:  ##U Text:  ##B Text:  _ Text:  B Text:  B Text:  ##ID Text:  S Text:  ##U Text:  ##B Text:  _ Text:  E Text:  until Text:  [ Text:  * Text:  * Text:  3 Text:  - Text:  22 Text:  * Text:  * Text:  ] Text:  PM Text:  then Text:  increase Text:  to Text:  50 Text:  ##m Text:  ##g Text:  p Text:  ##o Text:  S Text:  ##U Text:  ##B Text:  _ Text:  B Text:  B Text:  ##ID Text:  S Text:  ##U Text:  ##B Text:  _ Text:  E Text:  for Text:  seven Text:  days Text:  then Text:  increase Text:  to Text:  75 Text:  ##m Text:  ##g Text:  [ Text:  * Text:  * Text:  Hospital Text:  ##1 Text:  * Text:  * Text:  ] Text:  ongoing Text:  . Text:  [SEP] Text:  [PAD] Text:  [PAD] Text:  [PAD] Text:  [PAD] Text:  [PAD] Text:  [PAD] Text:  [PAD] Text:  [PAD] Text:  [PAD] Text:  [PAD] Text:  [PAD] Text:  [PAD] Text:  [PAD] Text:  [PAD] Text:  [PAD] Text:  [PAD] Text:  [PAD] Text:  [PAD] Text:  [PAD] Text:  [PAD] Text:  [PAD] Text:  [PAD] Text:  [PAD] Text:  [PAD] Text:  [PAD] Text:  [PAD] Text:  [PAD] Text:  [PAD] Text:  [PAD] Text:  [PAD] Text:  [PAD] Text:  [PAD] Text:  [PAD] Text:  [PAD] Text:  [PAD] Text:  [PAD] Text:  [PAD] Text:  [PAD] Text:  [PAD] Text:  [PAD] Text:  [PAD]\n",
      "\n",
      " predicted  0  true  3 [CLS] Text:  6 Text:  . Text:  O Text:  ##B Text:  ##J Text:  _ Text:  B Text:  fur Text:  ##ose Text:  ##mi Text:  ##de Text:  O Text:  ##B Text:  ##J Text:  _ Text:  E Text:  S Text:  ##U Text:  ##B Text:  _ Text:  B Text:  40 Text:  mg Text:  S Text:  ##U Text:  ##B Text:  _ Text:  E Text:  Table Text:  ##t Text:  Si Text:  ##g Text:  : Text:  Two Text:  ( Text:  2 Text:  ) Text:  Table Text:  ##t Text:  P Text:  ##O Text:  B Text:  ##ID Text:  ( Text:  2 Text:  times Text:  a Text:  day Text:  ) Text:  . Text:  [SEP] Text:  [PAD] Text:  [PAD] Text:  [PAD] Text:  [PAD] Text:  [PAD] Text:  [PAD] Text:  [PAD] Text:  [PAD] Text:  [PAD] Text:  [PAD] Text:  [PAD] Text:  [PAD] Text:  [PAD] Text:  [PAD] Text:  [PAD] Text:  [PAD] Text:  [PAD] Text:  [PAD] Text:  [PAD] Text:  [PAD] Text:  [PAD] Text:  [PAD] Text:  [PAD] Text:  [PAD] Text:  [PAD] Text:  [PAD] Text:  [PAD] Text:  [PAD] Text:  [PAD] Text:  [PAD] Text:  [PAD] Text:  [PAD] Text:  [PAD] Text:  [PAD] Text:  [PAD] Text:  [PAD] Text:  [PAD] Text:  [PAD] Text:  [PAD] Text:  [PAD] Text:  [PAD] Text:  [PAD] Text:  [PAD] Text:  [PAD] Text:  [PAD] Text:  [PAD] Text:  [PAD] Text:  [PAD] Text:  [PAD] Text:  [PAD] Text:  [PAD] Text:  [PAD] Text:  [PAD] Text:  [PAD] Text:  [PAD] Text:  [PAD] Text:  [PAD] Text:  [PAD] Text:  [PAD] Text:  [PAD] Text:  [PAD] Text:  [PAD] Text:  [PAD] Text:  [PAD] Text:  [PAD] Text:  [PAD] Text:  [PAD] Text:  [PAD] Text:  [PAD] Text:  [PAD] Text:  [PAD] Text:  [PAD] Text:  [PAD] Text:  [PAD] Text:  [PAD] Text:  [PAD]\n",
      "\n",
      " predicted  2  true  3 [CLS] Text:  3 Text:  . Text:  O Text:  ##B Text:  ##J Text:  _ Text:  B Text:  ace Text:  ##tam Text:  ##ino Text:  ##phe Text:  ##n Text:  O Text:  ##B Text:  ##J Text:  _ Text:  E Text:  325 Text:  mg Text:  Table Text:  ##t Text:  Si Text:  ##g Text:  : Text:  Two Text:  ( Text:  2 Text:  ) Text:  Table Text:  ##t Text:  P Text:  ##O Text:  S Text:  ##U Text:  ##B Text:  _ Text:  B Text:  Q Text:  ##6 Text:  ##H Text:  ( Text:  every Text:  6 Text:  hours Text:  ) Text:  as Text:  needed Text:  S Text:  ##U Text:  ##B Text:  _ Text:  E Text:  for Text:  pain Text:  / Text:  fever Text:  . Text:  [SEP] Text:  [PAD] Text:  [PAD] Text:  [PAD] Text:  [PAD] Text:  [PAD] Text:  [PAD] Text:  [PAD] Text:  [PAD] Text:  [PAD] Text:  [PAD] Text:  [PAD] Text:  [PAD] Text:  [PAD] Text:  [PAD] Text:  [PAD] Text:  [PAD] Text:  [PAD] Text:  [PAD] Text:  [PAD] Text:  [PAD] Text:  [PAD] Text:  [PAD] Text:  [PAD] Text:  [PAD] Text:  [PAD] Text:  [PAD] Text:  [PAD] Text:  [PAD] Text:  [PAD] Text:  [PAD] Text:  [PAD] Text:  [PAD] Text:  [PAD] Text:  [PAD] Text:  [PAD] Text:  [PAD] Text:  [PAD] Text:  [PAD] Text:  [PAD] Text:  [PAD] Text:  [PAD] Text:  [PAD] Text:  [PAD] Text:  [PAD] Text:  [PAD] Text:  [PAD] Text:  [PAD] Text:  [PAD] Text:  [PAD] Text:  [PAD] Text:  [PAD] Text:  [PAD] Text:  [PAD] Text:  [PAD] Text:  [PAD] Text:  [PAD] Text:  [PAD] Text:  [PAD] Text:  [PAD] Text:  [PAD] Text:  [PAD] Text:  [PAD] Text:  [PAD] Text:  [PAD] Text:  [PAD] Text:  [PAD] Text:  [PAD] Text:  [PAD] Text:  [PAD]\n",
      "\n",
      " predicted  6  true  1 [CLS] Text:  3 Text:  . Text:  O Text:  ##B Text:  ##J Text:  _ Text:  B Text:  ace Text:  ##tam Text:  ##ino Text:  ##phe Text:  ##n Text:  O Text:  ##B Text:  ##J Text:  _ Text:  E Text:  S Text:  ##U Text:  ##B Text:  _ Text:  B Text:  325 Text:  mg Text:  S Text:  ##U Text:  ##B Text:  _ Text:  E Text:  Table Text:  ##t Text:  Si Text:  ##g Text:  : Text:  Two Text:  ( Text:  2 Text:  ) Text:  Table Text:  ##t Text:  P Text:  ##O Text:  Q Text:  ##6 Text:  ##H Text:  ( Text:  every Text:  6 Text:  hours Text:  ) Text:  as Text:  needed Text:  for Text:  pain Text:  / Text:  fever Text:  . Text:  [SEP] Text:  [PAD] Text:  [PAD] Text:  [PAD] Text:  [PAD] Text:  [PAD] Text:  [PAD] Text:  [PAD] Text:  [PAD] Text:  [PAD] Text:  [PAD] Text:  [PAD] Text:  [PAD] Text:  [PAD] Text:  [PAD] Text:  [PAD] Text:  [PAD] Text:  [PAD] Text:  [PAD] Text:  [PAD] Text:  [PAD] Text:  [PAD] Text:  [PAD] Text:  [PAD] Text:  [PAD] Text:  [PAD] Text:  [PAD] Text:  [PAD] Text:  [PAD] Text:  [PAD] Text:  [PAD] Text:  [PAD] Text:  [PAD] Text:  [PAD] Text:  [PAD] Text:  [PAD] Text:  [PAD] Text:  [PAD] Text:  [PAD] Text:  [PAD] Text:  [PAD] Text:  [PAD] Text:  [PAD] Text:  [PAD] Text:  [PAD] Text:  [PAD] Text:  [PAD] Text:  [PAD] Text:  [PAD] Text:  [PAD] Text:  [PAD] Text:  [PAD] Text:  [PAD] Text:  [PAD] Text:  [PAD] Text:  [PAD] Text:  [PAD] Text:  [PAD] Text:  [PAD] Text:  [PAD] Text:  [PAD] Text:  [PAD] Text:  [PAD] Text:  [PAD] Text:  [PAD] Text:  [PAD] Text:  [PAD] Text:  [PAD] Text:  [PAD] Text:  [PAD]\n",
      "\n",
      " predicted  7  true  8 [CLS] Text:  Me Text:  ##dication Text:  ##s Text:  on Text:  Ad Text:  ##mission Text:  : Text:  Car Text:  ##ved Text:  ##ilo Text:  ##l Text:  25 Text:  [ Text:  * Text:  * Text:  Hospital Text:  ##1 Text:  * Text:  * Text:  ] Text:  Las Text:  ##ix Text:  80 Text:  mg Text:  p Text:  ##o Text:  bid Text:  O Text:  ##B Text:  ##J Text:  _ Text:  B Text:  X Text:  ##ana Text:  ##x Text:  O Text:  ##B Text:  ##J Text:  _ Text:  E Text:  0 Text:  . Text:  25 Text:  mg Text:  S Text:  ##U Text:  ##B Text:  _ Text:  B Text:  1 Text:  - Text:  2 Text:  S Text:  ##U Text:  ##B Text:  _ Text:  E Text:  ta Text:  ##bs Text:  p Text:  ##rn Text:  al Text:  ##but Text:  ##ero Text:  ##l Text:  MD Text:  ##I Text:  I Text:  ##bu Text:  ##p Text:  ##ro Text:  ##fen Text:  p Text:  ##rn Text:  Ben Text:  ##ad Text:  ##ryl Text:  p Text:  ##rn Text:  Ad Text:  ##va Text:  ##ir Text:  disk Text:  ##us Text:  L Text:  ##sin Text:  ##op Text:  ##ril Text:  40 Text:  daily Text:  Disc Text:  ##har Text:  ##ge Text:  Me Text:  ##dication Text:  ##s Text:  : Text:  1 Text:  . Text:  bi Text:  ##sa Text:  ##co Text:  ##dy Text:  ##l Text:  5 Text:  mg Text:  Table Text:  ##t Text:  , Text:  Del Text:  ##ay Text:  ##ed Text:  Release Text:  ( Text:  E Text:  . Text:  C Text:  . Text:  ) Text:  [SEP] Text:  [PAD] Text:  [PAD] Text:  [PAD] Text:  [PAD] Text:  [PAD] Text:  [PAD] Text:  [PAD]\n",
      "\n",
      " predicted  2  true  4 [CLS] Text:  6 Text:  . Text:  O Text:  ##B Text:  ##J Text:  _ Text:  B Text:  fur Text:  ##ose Text:  ##mi Text:  ##de Text:  O Text:  ##B Text:  ##J Text:  _ Text:  E Text:  40 Text:  mg Text:  S Text:  ##U Text:  ##B Text:  _ Text:  B Text:  Table Text:  ##t Text:  S Text:  ##U Text:  ##B Text:  _ Text:  E Text:  Si Text:  ##g Text:  : Text:  Two Text:  ( Text:  2 Text:  ) Text:  S Text:  ##U Text:  ##B Text:  _ Text:  B Text:  Table Text:  ##t Text:  S Text:  ##U Text:  ##B Text:  _ Text:  E Text:  P Text:  ##O Text:  B Text:  ##ID Text:  ( Text:  2 Text:  times Text:  a Text:  day Text:  ) Text:  . Text:  [SEP] Text:  [PAD] Text:  [PAD] Text:  [PAD] Text:  [PAD] Text:  [PAD] Text:  [PAD] Text:  [PAD] Text:  [PAD] Text:  [PAD] Text:  [PAD] Text:  [PAD] Text:  [PAD] Text:  [PAD] Text:  [PAD] Text:  [PAD] Text:  [PAD] Text:  [PAD] Text:  [PAD] Text:  [PAD] Text:  [PAD] Text:  [PAD] Text:  [PAD] Text:  [PAD] Text:  [PAD] Text:  [PAD] Text:  [PAD] Text:  [PAD] Text:  [PAD] Text:  [PAD] Text:  [PAD] Text:  [PAD] Text:  [PAD] Text:  [PAD] Text:  [PAD] Text:  [PAD] Text:  [PAD] Text:  [PAD] Text:  [PAD] Text:  [PAD] Text:  [PAD] Text:  [PAD] Text:  [PAD] Text:  [PAD] Text:  [PAD] Text:  [PAD] Text:  [PAD] Text:  [PAD] Text:  [PAD] Text:  [PAD] Text:  [PAD] Text:  [PAD] Text:  [PAD] Text:  [PAD] Text:  [PAD] Text:  [PAD] Text:  [PAD] Text:  [PAD] Text:  [PAD] Text:  [PAD] Text:  [PAD] Text:  [PAD] Text:  [PAD] Text:  [PAD] Text:  [PAD] Text:  [PAD] Text:  [PAD]\n",
      "\n",
      " predicted  0  true  8 [CLS] Text:  Also Text:  continued Text:  on Text:  home Text:  dose Text:  of Text:  carved Text:  ##ilo Text:  ##l Text:  and Text:  Li Text:  ##sin Text:  ##op Text:  ##ril Text:  but Text:  O Text:  ##B Text:  ##J Text:  _ Text:  B Text:  AC Text:  ##E Text:  O Text:  ##B Text:  ##J Text:  _ Text:  E Text:  down Text:  ##ti Text:  ##trate Text:  ##d Text:  from Text:  40 Text:  to Text:  S Text:  ##U Text:  ##B Text:  _ Text:  B Text:  20 Text:  S Text:  ##U Text:  ##B Text:  _ Text:  E Text:  when Text:  had Text:  elevated Text:  C Text:  ##r Text:  1 Text:  . Text:  9 Text:  on Text:  [ Text:  * Text:  * Text:  3 Text:  - Text:  18 Text:  * Text:  * Text:  ] Text:  and Text:  slightly Text:  low Text:  BP Text:  ##s Text:  high Text:  90s Text:  / Text:  60s Text:  . Text:  [SEP] Text:  [PAD] Text:  [PAD] Text:  [PAD] Text:  [PAD] Text:  [PAD] Text:  [PAD] Text:  [PAD] Text:  [PAD] Text:  [PAD] Text:  [PAD] Text:  [PAD] Text:  [PAD] Text:  [PAD] Text:  [PAD] Text:  [PAD] Text:  [PAD] Text:  [PAD] Text:  [PAD] Text:  [PAD] Text:  [PAD] Text:  [PAD] Text:  [PAD] Text:  [PAD] Text:  [PAD] Text:  [PAD] Text:  [PAD] Text:  [PAD] Text:  [PAD] Text:  [PAD] Text:  [PAD] Text:  [PAD] Text:  [PAD] Text:  [PAD] Text:  [PAD] Text:  [PAD] Text:  [PAD] Text:  [PAD] Text:  [PAD] Text:  [PAD] Text:  [PAD] Text:  [PAD] Text:  [PAD] Text:  [PAD] Text:  [PAD] Text:  [PAD] Text:  [PAD] Text:  [PAD] Text:  [PAD] Text:  [PAD] Text:  [PAD] Text:  [PAD] Text:  [PAD] Text:  [PAD]\n",
      "\n",
      " predicted  2  true  8 [CLS] Text:  His Text:  As Text:  ##th Text:  ##ma Text:  was Text:  treated Text:  with Text:  S Text:  ##U Text:  ##B Text:  _ Text:  B Text:  standing Text:  S Text:  ##U Text:  ##B Text:  _ Text:  E Text:  and Text:  PR Text:  ##N Text:  O Text:  ##B Text:  ##J Text:  _ Text:  B Text:  al Text:  ##but Text:  ##ero Text:  ##l Text:  O Text:  ##B Text:  ##J Text:  _ Text:  E Text:  and Text:  i Text:  ##pra Text:  ##tri Text:  ##op Text:  ##ium Text:  and Text:  a Text:  slow Text:  pre Text:  ##dn Text:  ##ison Text:  ##e Text:  tape Text:  ##r Text:  which Text:  he Text:  l Text:  completed Text:  on Text:  [ Text:  * Text:  * Text:  211 Text:  ##5 Text:  - Text:  3 Text:  - Text:  18 Text:  * Text:  * Text:  ] Text:  and Text:  he Text:  was Text:  restart Text:  ##ed Text:  on Text:  Ad Text:  ##va Text:  ##ir Text:  - Text:  patient Text:  may Text:  require Text:  additional Text:  ne Text:  ##bs Text:  on Text:  top Text:  of Text:  his Text:  S Text:  ##U Text:  ##B Text:  _ Text:  B Text:  standing Text:  S Text:  ##U Text:  ##B Text:  _ Text:  E Text:  ad Text:  ##va Text:  ##ir Text:  though Text:  his Text:  respiratory Text:  status Text:  has Text:  been Text:  very Text:  stable Text:  , Text:  without Text:  w Text:  ##hee Text:  ##zing Text:  for Text:  the Text:  last Text:  week Text:  . Text:  [SEP] Text:  [PAD] Text:  [PAD] Text:  [PAD] Text:  [PAD] Text:  [PAD] Text:  [PAD] Text:  [PAD]\n",
      "\n",
      " predicted  0  true  8 [CLS] Text:  Me Text:  ##dication Text:  ##s Text:  on Text:  Ad Text:  ##mission Text:  : Text:  Car Text:  ##ved Text:  ##ilo Text:  ##l Text:  25 Text:  [ Text:  * Text:  * Text:  Hospital Text:  ##1 Text:  * Text:  * Text:  ] Text:  Las Text:  ##ix Text:  80 Text:  mg Text:  p Text:  ##o Text:  bid Text:  X Text:  ##ana Text:  ##x Text:  0 Text:  . Text:  25 Text:  mg Text:  1 Text:  - Text:  2 Text:  ta Text:  ##bs Text:  p Text:  ##rn Text:  al Text:  ##but Text:  ##ero Text:  ##l Text:  MD Text:  ##I Text:  I Text:  ##bu Text:  ##p Text:  ##ro Text:  ##fen Text:  p Text:  ##rn Text:  Ben Text:  ##ad Text:  ##ryl Text:  p Text:  ##rn Text:  Ad Text:  ##va Text:  ##ir Text:  disk Text:  ##us Text:  L Text:  ##sin Text:  ##op Text:  ##ril Text:  40 Text:  daily Text:  Disc Text:  ##har Text:  ##ge Text:  Me Text:  ##dication Text:  ##s Text:  : Text:  1 Text:  . Text:  O Text:  ##B Text:  ##J Text:  _ Text:  B Text:  bi Text:  ##sa Text:  ##co Text:  ##dy Text:  ##l Text:  O Text:  ##B Text:  ##J Text:  _ Text:  E Text:  5 Text:  mg Text:  S Text:  ##U Text:  ##B Text:  _ Text:  B Text:  Table Text:  ##t Text:  S Text:  ##U Text:  ##B Text:  _ Text:  E Text:  , Text:  Del Text:  ##ay Text:  ##ed Text:  Release Text:  ( Text:  E Text:  . Text:  C Text:  . Text:  ) Text:  [SEP] Text:  [PAD] Text:  [PAD] Text:  [PAD] Text:  [PAD] Text:  [PAD] Text:  [PAD] Text:  [PAD]\n",
      "\n",
      " predicted  1  true  8 [CLS] Text:  11 Text:  . Text:  O Text:  ##B Text:  ##J Text:  _ Text:  B Text:  ace Text:  ##tam Text:  ##ino Text:  ##phe Text:  ##n Text:  O Text:  ##B Text:  ##J Text:  _ Text:  E Text:  500 Text:  mg Text:  Table Text:  ##t Text:  Si Text:  ##g Text:  : Text:  Two Text:  ( Text:  2 Text:  ) Text:  Table Text:  ##t Text:  S Text:  ##U Text:  ##B Text:  _ Text:  B Text:  P Text:  ##O Text:  S Text:  ##U Text:  ##B Text:  _ Text:  E Text:  T Text:  ##ID Text:  ( Text:  3 Text:  times Text:  a Text:  day Text:  ) Text:  as Text:  needed Text:  for Text:  pain Text:  / Text:  fever Text:  . Text:  [SEP] Text:  [PAD] Text:  [PAD] Text:  [PAD] Text:  [PAD] Text:  [PAD] Text:  [PAD] Text:  [PAD] Text:  [PAD] Text:  [PAD] Text:  [PAD] Text:  [PAD] Text:  [PAD] Text:  [PAD] Text:  [PAD] Text:  [PAD] Text:  [PAD] Text:  [PAD] Text:  [PAD] Text:  [PAD] Text:  [PAD] Text:  [PAD] Text:  [PAD] Text:  [PAD] Text:  [PAD] Text:  [PAD] Text:  [PAD] Text:  [PAD] Text:  [PAD] Text:  [PAD] Text:  [PAD] Text:  [PAD] Text:  [PAD] Text:  [PAD] Text:  [PAD] Text:  [PAD] Text:  [PAD] Text:  [PAD] Text:  [PAD] Text:  [PAD] Text:  [PAD] Text:  [PAD] Text:  [PAD] Text:  [PAD] Text:  [PAD] Text:  [PAD] Text:  [PAD] Text:  [PAD] Text:  [PAD] Text:  [PAD] Text:  [PAD] Text:  [PAD] Text:  [PAD] Text:  [PAD] Text:  [PAD] Text:  [PAD] Text:  [PAD] Text:  [PAD] Text:  [PAD] Text:  [PAD] Text:  [PAD] Text:  [PAD] Text:  [PAD] Text:  [PAD] Text:  [PAD] Text:  [PAD] Text:  [PAD] Text:  [PAD] Text:  [PAD] Text:  [PAD]\n",
      "\n",
      " predicted  2  true  5 [CLS] Text:  - Text:  patient Text:  will Text:  be Text:  on Text:  O Text:  ##B Text:  ##J Text:  _ Text:  B Text:  Top Text:  ##ira Text:  ##mate Text:  O Text:  ##B Text:  ##J Text:  _ Text:  E Text:  25 Text:  ##m Text:  ##g Text:  P Text:  ##O Text:  B Text:  ##ID Text:  until Text:  [ Text:  * Text:  * Text:  3 Text:  - Text:  22 Text:  * Text:  * Text:  ] Text:  PM Text:  then Text:  increase Text:  to Text:  50 Text:  ##m Text:  ##g Text:  S Text:  ##U Text:  ##B Text:  _ Text:  B Text:  p Text:  ##o Text:  S Text:  ##U Text:  ##B Text:  _ Text:  E Text:  B Text:  ##ID Text:  for Text:  seven Text:  days Text:  then Text:  increase Text:  to Text:  75 Text:  ##m Text:  ##g Text:  [ Text:  * Text:  * Text:  Hospital Text:  ##1 Text:  * Text:  * Text:  ] Text:  ongoing Text:  . Text:  [SEP] Text:  [PAD] Text:  [PAD] Text:  [PAD] Text:  [PAD] Text:  [PAD] Text:  [PAD] Text:  [PAD] Text:  [PAD] Text:  [PAD] Text:  [PAD] Text:  [PAD] Text:  [PAD] Text:  [PAD] Text:  [PAD] Text:  [PAD] Text:  [PAD] Text:  [PAD] Text:  [PAD] Text:  [PAD] Text:  [PAD] Text:  [PAD] Text:  [PAD] Text:  [PAD] Text:  [PAD] Text:  [PAD] Text:  [PAD] Text:  [PAD] Text:  [PAD] Text:  [PAD] Text:  [PAD] Text:  [PAD] Text:  [PAD] Text:  [PAD] Text:  [PAD] Text:  [PAD] Text:  [PAD] Text:  [PAD] Text:  [PAD] Text:  [PAD] Text:  [PAD] Text:  [PAD] Text:  [PAD] Text:  [PAD] Text:  [PAD] Text:  [PAD] Text:  [PAD] Text:  [PAD] Text:  [PAD] Text:  [PAD] Text:  [PAD] Text:  [PAD]\n",
      "\n",
      " predicted  2  true  8 [CLS] Text:  3 Text:  . Text:  O Text:  ##B Text:  ##J Text:  _ Text:  B Text:  ace Text:  ##tam Text:  ##ino Text:  ##phe Text:  ##n Text:  O Text:  ##B Text:  ##J Text:  _ Text:  E Text:  325 Text:  mg Text:  Table Text:  ##t Text:  Si Text:  ##g Text:  : Text:  Two Text:  ( Text:  2 Text:  ) Text:  Table Text:  ##t Text:  S Text:  ##U Text:  ##B Text:  _ Text:  B Text:  P Text:  ##O Text:  S Text:  ##U Text:  ##B Text:  _ Text:  E Text:  Q Text:  ##6 Text:  ##H Text:  ( Text:  every Text:  6 Text:  hours Text:  ) Text:  as Text:  needed Text:  for Text:  pain Text:  / Text:  fever Text:  . Text:  [SEP] Text:  [PAD] Text:  [PAD] Text:  [PAD] Text:  [PAD] Text:  [PAD] Text:  [PAD] Text:  [PAD] Text:  [PAD] Text:  [PAD] Text:  [PAD] Text:  [PAD] Text:  [PAD] Text:  [PAD] Text:  [PAD] Text:  [PAD] Text:  [PAD] Text:  [PAD] Text:  [PAD] Text:  [PAD] Text:  [PAD] Text:  [PAD] Text:  [PAD] Text:  [PAD] Text:  [PAD] Text:  [PAD] Text:  [PAD] Text:  [PAD] Text:  [PAD] Text:  [PAD] Text:  [PAD] Text:  [PAD] Text:  [PAD] Text:  [PAD] Text:  [PAD] Text:  [PAD] Text:  [PAD] Text:  [PAD] Text:  [PAD] Text:  [PAD] Text:  [PAD] Text:  [PAD] Text:  [PAD] Text:  [PAD] Text:  [PAD] Text:  [PAD] Text:  [PAD] Text:  [PAD] Text:  [PAD] Text:  [PAD] Text:  [PAD] Text:  [PAD] Text:  [PAD] Text:  [PAD] Text:  [PAD] Text:  [PAD] Text:  [PAD] Text:  [PAD] Text:  [PAD] Text:  [PAD] Text:  [PAD] Text:  [PAD] Text:  [PAD] Text:  [PAD] Text:  [PAD] Text:  [PAD] Text:  [PAD] Text:  [PAD] Text:  [PAD] Text:  [PAD]\n",
      "\n",
      " predicted  0  true  8 [CLS] Text:  2 Text:  . Text:  O Text:  ##B Text:  ##J Text:  _ Text:  B Text:  se Text:  ##nna Text:  O Text:  ##B Text:  ##J Text:  _ Text:  E Text:  S Text:  ##U Text:  ##B Text:  _ Text:  B Text:  8 Text:  . Text:  6 Text:  mg Text:  S Text:  ##U Text:  ##B Text:  _ Text:  E Text:  Table Text:  ##t Text:  Si Text:  ##g Text:  : Text:  One Text:  ( Text:  1 Text:  ) Text:  Table Text:  ##t Text:  P Text:  ##O Text:  B Text:  ##ID Text:  ( Text:  2 Text:  times Text:  a Text:  day Text:  ) Text:  as Text:  needed Text:  for Text:  Con Text:  ##st Text:  ##ip Text:  ##ation Text:  . Text:  [SEP] Text:  [PAD] Text:  [PAD] Text:  [PAD] Text:  [PAD] Text:  [PAD] Text:  [PAD] Text:  [PAD] Text:  [PAD] Text:  [PAD] Text:  [PAD] Text:  [PAD] Text:  [PAD] Text:  [PAD] Text:  [PAD] Text:  [PAD] Text:  [PAD] Text:  [PAD] Text:  [PAD] Text:  [PAD] Text:  [PAD] Text:  [PAD] Text:  [PAD] Text:  [PAD] Text:  [PAD] Text:  [PAD] Text:  [PAD] Text:  [PAD] Text:  [PAD] Text:  [PAD] Text:  [PAD] Text:  [PAD] Text:  [PAD] Text:  [PAD] Text:  [PAD] Text:  [PAD] Text:  [PAD] Text:  [PAD] Text:  [PAD] Text:  [PAD] Text:  [PAD] Text:  [PAD] Text:  [PAD] Text:  [PAD] Text:  [PAD] Text:  [PAD] Text:  [PAD] Text:  [PAD] Text:  [PAD] Text:  [PAD] Text:  [PAD] Text:  [PAD] Text:  [PAD] Text:  [PAD] Text:  [PAD] Text:  [PAD] Text:  [PAD] Text:  [PAD] Text:  [PAD] Text:  [PAD] Text:  [PAD] Text:  [PAD] Text:  [PAD] Text:  [PAD] Text:  [PAD] Text:  [PAD] Text:  [PAD] Text:  [PAD] Text:  [PAD] Text:  [PAD]\n",
      "\n",
      " predicted  1  true  8 [CLS] Text:  Me Text:  ##dication Text:  ##s Text:  on Text:  Ad Text:  ##mission Text:  : Text:  Car Text:  ##ved Text:  ##ilo Text:  ##l Text:  25 Text:  [ Text:  * Text:  * Text:  Hospital Text:  ##1 Text:  * Text:  * Text:  ] Text:  Las Text:  ##ix Text:  80 Text:  mg Text:  p Text:  ##o Text:  bid Text:  X Text:  ##ana Text:  ##x Text:  0 Text:  . Text:  25 Text:  mg Text:  1 Text:  - Text:  2 Text:  ta Text:  ##bs Text:  p Text:  ##rn Text:  al Text:  ##but Text:  ##ero Text:  ##l Text:  MD Text:  ##I Text:  I Text:  ##bu Text:  ##p Text:  ##ro Text:  ##fen Text:  p Text:  ##rn Text:  Ben Text:  ##ad Text:  ##ryl Text:  p Text:  ##rn Text:  Ad Text:  ##va Text:  ##ir Text:  disk Text:  ##us Text:  O Text:  ##B Text:  ##J Text:  _ Text:  B Text:  L Text:  ##sin Text:  ##op Text:  ##ril Text:  O Text:  ##B Text:  ##J Text:  _ Text:  E Text:  40 Text:  S Text:  ##U Text:  ##B Text:  _ Text:  B Text:  daily Text:  S Text:  ##U Text:  ##B Text:  _ Text:  E Text:  Disc Text:  ##har Text:  ##ge Text:  Me Text:  ##dication Text:  ##s Text:  : Text:  1 Text:  . Text:  bi Text:  ##sa Text:  ##co Text:  ##dy Text:  ##l Text:  5 Text:  mg Text:  Table Text:  ##t Text:  , Text:  Del Text:  ##ay Text:  ##ed Text:  Release Text:  ( Text:  E Text:  . Text:  C Text:  . Text:  ) Text:  [SEP] Text:  [PAD] Text:  [PAD] Text:  [PAD] Text:  [PAD] Text:  [PAD] Text:  [PAD] Text:  [PAD]\n",
      "\n",
      " predicted  2  true  6 [CLS] Text:  His Text:  As Text:  ##th Text:  ##ma Text:  was Text:  treated Text:  with Text:  standing Text:  and Text:  PR Text:  ##N Text:  al Text:  ##but Text:  ##ero Text:  ##l Text:  and Text:  i Text:  ##pra Text:  ##tri Text:  ##op Text:  ##ium Text:  and Text:  a Text:  slow Text:  O Text:  ##B Text:  ##J Text:  _ Text:  B Text:  pre Text:  ##dn Text:  ##ison Text:  ##e Text:  O Text:  ##B Text:  ##J Text:  _ Text:  E Text:  S Text:  ##U Text:  ##B Text:  _ Text:  B Text:  tape Text:  ##r Text:  S Text:  ##U Text:  ##B Text:  _ Text:  E Text:  which Text:  he Text:  l Text:  completed Text:  on Text:  [ Text:  * Text:  * Text:  211 Text:  ##5 Text:  - Text:  3 Text:  - Text:  18 Text:  * Text:  * Text:  ] Text:  and Text:  he Text:  was Text:  restart Text:  ##ed Text:  on Text:  Ad Text:  ##va Text:  ##ir Text:  - Text:  patient Text:  may Text:  require Text:  additional Text:  ne Text:  ##bs Text:  on Text:  top Text:  of Text:  his Text:  standing Text:  ad Text:  ##va Text:  ##ir Text:  though Text:  his Text:  respiratory Text:  status Text:  has Text:  been Text:  very Text:  stable Text:  , Text:  without Text:  w Text:  ##hee Text:  ##zing Text:  for Text:  the Text:  last Text:  week Text:  . Text:  [SEP] Text:  [PAD] Text:  [PAD] Text:  [PAD] Text:  [PAD] Text:  [PAD] Text:  [PAD] Text:  [PAD] Text:  [PAD] Text:  [PAD] Text:  [PAD] Text:  [PAD] Text:  [PAD] Text:  [PAD] Text:  [PAD] Text:  [PAD] Text:  [PAD] Text:  [PAD]\n",
      "\n",
      " predicted  2  true  8 [CLS] Text:  8 Text:  . Text:  O Text:  ##B Text:  ##J Text:  _ Text:  B Text:  o Text:  ##lan Text:  ##za Text:  ##pine Text:  O Text:  ##B Text:  ##J Text:  _ Text:  E Text:  S Text:  ##U Text:  ##B Text:  _ Text:  B Text:  5 Text:  mg Text:  S Text:  ##U Text:  ##B Text:  _ Text:  E Text:  Table Text:  ##t Text:  , Text:  Rapid Text:  Di Text:  ##sso Text:  ##lve Text:  Si Text:  ##g Text:  : Text:  [ Text:  * Text:  * Text:  11 Text:  - Text:  25 Text:  * Text:  * Text:  ] Text:  Table Text:  ##t Text:  , Text:  Rapid Text:  Di Text:  ##sso Text:  ##lves Text:  P Text:  ##O Text:  Q Text:  ##HS Text:  ( Text:  once Text:  a Text:  day Text:  ( Text:  at Text:  bed Text:  ##time Text:  ) Text:  ) Text:  as Text:  needed Text:  for Text:  sleep Text:  . Text:  [SEP] Text:  [PAD] Text:  [PAD] Text:  [PAD] Text:  [PAD] Text:  [PAD] Text:  [PAD] Text:  [PAD] Text:  [PAD] Text:  [PAD] Text:  [PAD] Text:  [PAD] Text:  [PAD] Text:  [PAD] Text:  [PAD] Text:  [PAD] Text:  [PAD] Text:  [PAD] Text:  [PAD] Text:  [PAD] Text:  [PAD] Text:  [PAD] Text:  [PAD] Text:  [PAD] Text:  [PAD] Text:  [PAD] Text:  [PAD] Text:  [PAD] Text:  [PAD] Text:  [PAD] Text:  [PAD] Text:  [PAD] Text:  [PAD] Text:  [PAD] Text:  [PAD] Text:  [PAD] Text:  [PAD] Text:  [PAD] Text:  [PAD] Text:  [PAD] Text:  [PAD] Text:  [PAD] Text:  [PAD] Text:  [PAD] Text:  [PAD] Text:  [PAD] Text:  [PAD] Text:  [PAD] Text:  [PAD] Text:  [PAD] Text:  [PAD] Text:  [PAD] Text:  [PAD] Text:  [PAD]\n",
      "\n",
      " predicted  0  true  8 [CLS] Text:  # Text:  S Text:  ##U Text:  ##B Text:  _ Text:  B Text:  V Text:  ##ent Text:  ##ila Text:  ##tor Text:  associated Text:  pneumonia Text:  S Text:  ##U Text:  ##B Text:  _ Text:  E Text:  : Text:  Pat Text:  ##ient Text:  developed Text:  a Text:  fever Text:  on Text:  [ Text:  * Text:  * Text:  2 Text:  - Text:  27 Text:  * Text:  * Text:  ] Text:  with Text:  new Text:  in Text:  ##fi Text:  ##lt Text:  ##rates Text:  on Text:  chest Text:  x Text:  ##ray Text:  while Text:  in Text:  ##tub Text:  ##ated Text:  . Text:  He Text:  was Text:  initially Text:  covered Text:  with Text:  van Text:  ##c Text:  / Text:  O Text:  ##B Text:  ##J Text:  _ Text:  B Text:  c Text:  ##ef Text:  ##ep Text:  ##ime Text:  O Text:  ##B Text:  ##J Text:  _ Text:  E Text:  and Text:  c Text:  ##ip Text:  ##ro Text:  . Text:  [SEP] Text:  [PAD] Text:  [PAD] Text:  [PAD] Text:  [PAD] Text:  [PAD] Text:  [PAD] Text:  [PAD] Text:  [PAD] Text:  [PAD] Text:  [PAD] Text:  [PAD] Text:  [PAD] Text:  [PAD] Text:  [PAD] Text:  [PAD] Text:  [PAD] Text:  [PAD] Text:  [PAD] Text:  [PAD] Text:  [PAD] Text:  [PAD] Text:  [PAD] Text:  [PAD] Text:  [PAD] Text:  [PAD] Text:  [PAD] Text:  [PAD] Text:  [PAD] Text:  [PAD] Text:  [PAD] Text:  [PAD] Text:  [PAD] Text:  [PAD] Text:  [PAD] Text:  [PAD] Text:  [PAD] Text:  [PAD] Text:  [PAD] Text:  [PAD] Text:  [PAD] Text:  [PAD] Text:  [PAD] Text:  [PAD] Text:  [PAD] Text:  [PAD] Text:  [PAD] Text:  [PAD] Text:  [PAD] Text:  [PAD] Text:  [PAD] Text:  [PAD]\n",
      "\n",
      " predicted  0  true  7 [CLS] Text:  Of Text:  note Text:  , Text:  the Text:  patient Text:  was Text:  admitted Text:  to Text:  L Text:  ##G Text:  ##H Text:  in Text:  [ Text:  * Text:  * Text:  1 Text:  - Text:  4 Text:  * Text:  * Text:  ] Text:  for Text:  d Text:  ##ys Text:  ##p Text:  ##nea Text:  , Text:  and Text:  was Text:  subsequently Text:  diagnosed Text:  with Text:  a Text:  S Text:  ##U Text:  ##B Text:  _ Text:  B Text:  CA Text:  ##P Text:  S Text:  ##U Text:  ##B Text:  _ Text:  E Text:  and Text:  as Text:  ##th Text:  ##ma Text:  treated Text:  with Text:  O Text:  ##B Text:  ##J Text:  _ Text:  B Text:  CT Text:  ##X Text:  O Text:  ##B Text:  ##J Text:  _ Text:  E Text:  and Text:  a Text:  ##zi Text:  ##th Text:  ##rom Text:  ##y Text:  ##cin Text:  . Text:  [SEP] Text:  [PAD] Text:  [PAD] Text:  [PAD] Text:  [PAD] Text:  [PAD] Text:  [PAD] Text:  [PAD] Text:  [PAD] Text:  [PAD] Text:  [PAD] Text:  [PAD] Text:  [PAD] Text:  [PAD] Text:  [PAD] Text:  [PAD] Text:  [PAD] Text:  [PAD] Text:  [PAD] Text:  [PAD] Text:  [PAD] Text:  [PAD] Text:  [PAD] Text:  [PAD] Text:  [PAD] Text:  [PAD] Text:  [PAD] Text:  [PAD] Text:  [PAD] Text:  [PAD] Text:  [PAD] Text:  [PAD] Text:  [PAD] Text:  [PAD] Text:  [PAD] Text:  [PAD] Text:  [PAD] Text:  [PAD] Text:  [PAD] Text:  [PAD] Text:  [PAD] Text:  [PAD] Text:  [PAD] Text:  [PAD] Text:  [PAD] Text:  [PAD] Text:  [PAD] Text:  [PAD] Text:  [PAD] Text:  [PAD] Text:  [PAD] Text:  [PAD] Text:  [PAD] Text:  [PAD] Text:  [PAD] Text:  [PAD]\n"
     ]
    }
   ],
   "source": [
    "tokenizer = BertTokenizer.from_pretrained('bert-base-cased', do_lower_case=False)\n",
    "for i in range(0,50):\n",
    "    if dev_label_ids[i] !=  dev_preds[i]:\n",
    "        print(\"\\n predicted \", dev_preds[i], \" true \", dev_label_ids[i] , \" Text: \"\" \". join (tokenizer.convert_ids_to_tokens(train_inputs[i])))"
   ]
  },
  {
   "cell_type": "code",
   "execution_count": 7,
   "metadata": {},
   "outputs": [
    {
     "data": {
      "text/plain": [
       "((15304,), (15304,), (61014,), (61014,))"
      ]
     },
     "execution_count": 7,
     "metadata": {},
     "output_type": "execute_result"
    }
   ],
   "source": [
    "import numpy as np\n",
    "np.array(all_dev_label_ids).shape, np.array(dev_preds).shape, np.array(train_preds).shape, np.array(train_label_ids).shape"
   ]
  },
  {
   "cell_type": "code",
   "execution_count": 8,
   "metadata": {},
   "outputs": [
    {
     "name": "stdout",
     "output_type": "stream",
     "text": [
      "\n",
      " label: [0 8 5 ... 6 1 8]\n",
      "\n",
      " preds: [0 8 5 ... 6 1 8]\n",
      "\n",
      " label: [1 6 0 ... 8 6 3]\n",
      "\n",
      " preds: [1 6 0 ... 8 6 3]\n"
     ]
    }
   ],
   "source": [
    "%autoreload\n",
    "train_mcc, train_f1_score, train_df_results, train_label_matches_df = calculate_stats(train_label_ids,train_preds )\n",
    "dev_mcc, dev_f1_score, dev_df_results, dev_label_matches_df = calculate_stats(all_dev_label_ids,dev_preds )"
   ]
  },
  {
   "cell_type": "code",
   "execution_count": 9,
   "metadata": {},
   "outputs": [
    {
     "data": {
      "text/plain": [
       "[['<__main__.obj object at 0x00000145C2150790>',\n",
       "  0.028281437373610104,\n",
       "  0.10090719395104036,\n",
       "  0.9828714870380854,\n",
       "  0.9811421345806985,\n",
       "  0.9655254255851637,\n",
       "  0.9513203962222588]]"
      ]
     },
     "execution_count": 9,
     "metadata": {},
     "output_type": "execute_result"
    }
   ],
   "source": [
    "all_experiment_results = []\n",
    "all_experiment_results.append([str(config), train_loss, dev_loss, train_mcc, train_f1_score,dev_mcc,dev_f1_score, \n",
    "                               all_dev_label_ids, dev_preds,train_label_ids,train_preds  ])\n",
    "all_experiment_results"
   ]
  },
  {
   "cell_type": "code",
   "execution_count": 10,
   "metadata": {},
   "outputs": [
    {
     "data": {
      "text/html": [
       "<div>\n",
       "<style scoped>\n",
       "    .dataframe tbody tr th:only-of-type {\n",
       "        vertical-align: middle;\n",
       "    }\n",
       "\n",
       "    .dataframe tbody tr th {\n",
       "        vertical-align: top;\n",
       "    }\n",
       "\n",
       "    .dataframe thead th {\n",
       "        text-align: right;\n",
       "    }\n",
       "</style>\n",
       "<table border=\"1\" class=\"dataframe\">\n",
       "  <thead>\n",
       "    <tr style=\"text-align: right;\">\n",
       "      <th></th>\n",
       "      <th></th>\n",
       "      <th>predicted</th>\n",
       "    </tr>\n",
       "    <tr>\n",
       "      <th>labels</th>\n",
       "      <th>matched</th>\n",
       "      <th></th>\n",
       "    </tr>\n",
       "  </thead>\n",
       "  <tbody>\n",
       "    <tr>\n",
       "      <th rowspan=\"2\" valign=\"top\">ADE-Drug</th>\n",
       "      <th>False</th>\n",
       "      <td>34</td>\n",
       "    </tr>\n",
       "    <tr>\n",
       "      <th>True</th>\n",
       "      <td>216</td>\n",
       "    </tr>\n",
       "    <tr>\n",
       "      <th rowspan=\"2\" valign=\"top\">Dosage-Drug</th>\n",
       "      <th>False</th>\n",
       "      <td>26</td>\n",
       "    </tr>\n",
       "    <tr>\n",
       "      <th>True</th>\n",
       "      <td>907</td>\n",
       "    </tr>\n",
       "    <tr>\n",
       "      <th rowspan=\"2\" valign=\"top\">Duration-Drug</th>\n",
       "      <th>False</th>\n",
       "      <td>7</td>\n",
       "    </tr>\n",
       "    <tr>\n",
       "      <th>True</th>\n",
       "      <td>129</td>\n",
       "    </tr>\n",
       "    <tr>\n",
       "      <th rowspan=\"2\" valign=\"top\">Form-Drug</th>\n",
       "      <th>False</th>\n",
       "      <td>57</td>\n",
       "    </tr>\n",
       "    <tr>\n",
       "      <th>True</th>\n",
       "      <td>897</td>\n",
       "    </tr>\n",
       "    <tr>\n",
       "      <th rowspan=\"2\" valign=\"top\">Frequency-Drug</th>\n",
       "      <th>False</th>\n",
       "      <td>59</td>\n",
       "    </tr>\n",
       "    <tr>\n",
       "      <th>True</th>\n",
       "      <td>1210</td>\n",
       "    </tr>\n",
       "    <tr>\n",
       "      <th rowspan=\"2\" valign=\"top\">Reason-Drug</th>\n",
       "      <th>False</th>\n",
       "      <td>43</td>\n",
       "    </tr>\n",
       "    <tr>\n",
       "      <th>True</th>\n",
       "      <td>991</td>\n",
       "    </tr>\n",
       "    <tr>\n",
       "      <th rowspan=\"2\" valign=\"top\">Route-Drug</th>\n",
       "      <th>False</th>\n",
       "      <td>35</td>\n",
       "    </tr>\n",
       "    <tr>\n",
       "      <th>True</th>\n",
       "      <td>1110</td>\n",
       "    </tr>\n",
       "    <tr>\n",
       "      <th rowspan=\"2\" valign=\"top\">Strength-Drug</th>\n",
       "      <th>False</th>\n",
       "      <td>57</td>\n",
       "    </tr>\n",
       "    <tr>\n",
       "      <th>True</th>\n",
       "      <td>1325</td>\n",
       "    </tr>\n",
       "    <tr>\n",
       "      <th rowspan=\"2\" valign=\"top\">no relation</th>\n",
       "      <th>False</th>\n",
       "      <td>41</td>\n",
       "    </tr>\n",
       "    <tr>\n",
       "      <th>True</th>\n",
       "      <td>8160</td>\n",
       "    </tr>\n",
       "  </tbody>\n",
       "</table>\n",
       "</div>"
      ],
      "text/plain": [
       "                        predicted\n",
       "labels         matched           \n",
       "ADE-Drug       False           34\n",
       "               True           216\n",
       "Dosage-Drug    False           26\n",
       "               True           907\n",
       "Duration-Drug  False            7\n",
       "               True           129\n",
       "Form-Drug      False           57\n",
       "               True           897\n",
       "Frequency-Drug False           59\n",
       "               True          1210\n",
       "Reason-Drug    False           43\n",
       "               True           991\n",
       "Route-Drug     False           35\n",
       "               True          1110\n",
       "Strength-Drug  False           57\n",
       "               True          1325\n",
       "no relation    False           41\n",
       "               True          8160"
      ]
     },
     "execution_count": 10,
     "metadata": {},
     "output_type": "execute_result"
    }
   ],
   "source": [
    "dev_label_matches_df"
   ]
  },
  {
   "cell_type": "markdown",
   "metadata": {},
   "source": [
    "##  Try with different configuration"
   ]
  },
  {
   "cell_type": "markdown",
   "metadata": {},
   "source": [
    "### Just change model from BIOR to BERT Sequence"
   ]
  },
  {
   "cell_type": "code",
   "execution_count": 11,
   "metadata": {},
   "outputs": [],
   "source": [
    "config.programsettings.MODEL_NAME = \"BERT_Sequence\"\n",
    "config.programsettings.DEBUG_PRINT = 0"
   ]
  },
  {
   "cell_type": "code",
   "execution_count": 12,
   "metadata": {},
   "outputs": [
    {
     "name": "stderr",
     "output_type": "stream",
     "text": [
      "INFO:root:***** Running training *****\n",
      "INFO:root:  Num examples = 61014\n",
      "INFO:root:  Batch size = 12\n",
      "INFO:root:  Num steps = 50840\n",
      "INFO:pytorch_pretrained_bert.modeling:loading archive file https://s3.amazonaws.com/models.huggingface.co/bert/bert-base-cased.tar.gz from cache at cache/a803ce83ca27fecf74c355673c434e51c265fb8a3e0e57ac62a80e38ba98d384.681017f415dfb33ec8d0e04fe51a619f3f01532ecea04edbfd48c5d160550d9c\n",
      "INFO:pytorch_pretrained_bert.modeling:extracting archive file cache/a803ce83ca27fecf74c355673c434e51c265fb8a3e0e57ac62a80e38ba98d384.681017f415dfb33ec8d0e04fe51a619f3f01532ecea04edbfd48c5d160550d9c to temp dir C:\\Users\\pnarsina\\AppData\\Local\\Temp\\2\\tmp8umad1wl\n",
      "INFO:pytorch_pretrained_bert.modeling:Model config {\n",
      "  \"attention_probs_dropout_prob\": 0.1,\n",
      "  \"hidden_act\": \"gelu\",\n",
      "  \"hidden_dropout_prob\": 0.1,\n",
      "  \"hidden_size\": 768,\n",
      "  \"initializer_range\": 0.02,\n",
      "  \"intermediate_size\": 3072,\n",
      "  \"max_position_embeddings\": 512,\n",
      "  \"num_attention_heads\": 12,\n",
      "  \"num_hidden_layers\": 12,\n",
      "  \"type_vocab_size\": 2,\n",
      "  \"vocab_size\": 28996\n",
      "}\n",
      "\n",
      "INFO:pytorch_pretrained_bert.modeling:Weights of BertForSequenceClassification not initialized from pretrained model: ['classifier.weight', 'classifier.bias']\n",
      "INFO:pytorch_pretrained_bert.modeling:Weights from pretrained model not used in BertForSequenceClassification: ['cls.predictions.bias', 'cls.predictions.transform.dense.weight', 'cls.predictions.transform.dense.bias', 'cls.predictions.decoder.weight', 'cls.seq_relationship.weight', 'cls.seq_relationship.bias', 'cls.predictions.transform.LayerNorm.weight', 'cls.predictions.transform.LayerNorm.bias']\n",
      "Epoch:   0%|                                                                                    | 0/10 [00:00<?, ?it/s]"
     ]
    },
    {
     "data": {
      "application/vnd.jupyter.widget-view+json": {
       "model_id": "c24ac2854e2a42f5b047c4404ae6b887",
       "version_major": 2,
       "version_minor": 0
      },
      "text/plain": [
       "HBox(children=(FloatProgress(value=0.0, description='Iteration', max=5085.0, style=ProgressStyle(description_w…"
      ]
     },
     "metadata": {},
     "output_type": "display_data"
    },
    {
     "name": "stderr",
     "output_type": "stream",
     "text": [
      "C:\\ProgramData\\Anaconda3\\lib\\site-packages\\torch\\optim\\lr_scheduler.py:131: UserWarning: Detected call of `lr_scheduler.step()` before `optimizer.step()`. In PyTorch 1.1.0 and later, you should call them in the opposite order: `optimizer.step()` before `lr_scheduler.step()`.  Failure to do this will result in PyTorch skipping the first value of the learning rate schedule. See more details at https://pytorch.org/docs/stable/optim.html#how-to-adjust-learning-rate\n",
      "  warnings.warn(\"Detected call of `lr_scheduler.step()` before `optimizer.step()`. \"\n",
      "Epoch:  10%|███████▎                                                                 | 1/10 [12:02<1:48:22, 722.50s/it]"
     ]
    },
    {
     "name": "stdout",
     "output_type": "stream",
     "text": [
      "\n",
      "so far epoch accuracy:  0.9336709607631035\n"
     ]
    },
    {
     "data": {
      "application/vnd.jupyter.widget-view+json": {
       "model_id": "2b55719d740c4f829dc70df549e54481",
       "version_major": 2,
       "version_minor": 0
      },
      "text/plain": [
       "HBox(children=(FloatProgress(value=0.0, description='Iteration', max=5085.0, style=ProgressStyle(description_w…"
      ]
     },
     "metadata": {},
     "output_type": "display_data"
    },
    {
     "name": "stderr",
     "output_type": "stream",
     "text": [
      "Epoch:  20%|██████████████▌                                                          | 2/10 [24:03<1:36:16, 722.08s/it]"
     ]
    },
    {
     "name": "stdout",
     "output_type": "stream",
     "text": [
      "\n",
      "so far epoch accuracy:  0.9750876847936539\n"
     ]
    },
    {
     "data": {
      "application/vnd.jupyter.widget-view+json": {
       "model_id": "3d513c0b236e45a1adf7c94a990f395d",
       "version_major": 2,
       "version_minor": 0
      },
      "text/plain": [
       "HBox(children=(FloatProgress(value=0.0, description='Iteration', max=5085.0, style=ProgressStyle(description_w…"
      ]
     },
     "metadata": {},
     "output_type": "display_data"
    },
    {
     "name": "stderr",
     "output_type": "stream",
     "text": [
      "Epoch:  30%|█████████████████████▉                                                   | 3/10 [36:05<1:24:13, 721.97s/it]"
     ]
    },
    {
     "name": "stdout",
     "output_type": "stream",
     "text": [
      "\n",
      "so far epoch accuracy:  0.9789556495230602\n"
     ]
    },
    {
     "data": {
      "application/vnd.jupyter.widget-view+json": {
       "model_id": "afc5661d218f4aacaa7ef4deca7c3c40",
       "version_major": 2,
       "version_minor": 0
      },
      "text/plain": [
       "HBox(children=(FloatProgress(value=0.0, description='Iteration', max=5085.0, style=ProgressStyle(description_w…"
      ]
     },
     "metadata": {},
     "output_type": "display_data"
    },
    {
     "name": "stderr",
     "output_type": "stream",
     "text": [
      "Epoch:  40%|█████████████████████████████▏                                           | 4/10 [48:06<1:12:10, 721.67s/it]"
     ]
    },
    {
     "name": "stdout",
     "output_type": "stream",
     "text": [
      "\n",
      "so far epoch accuracy:  0.9814796604058085\n"
     ]
    },
    {
     "data": {
      "application/vnd.jupyter.widget-view+json": {
       "model_id": "47677d823eb24af7aad9ec2a95e28795",
       "version_major": 2,
       "version_minor": 0
      },
      "text/plain": [
       "HBox(children=(FloatProgress(value=0.0, description='Iteration', max=5085.0, style=ProgressStyle(description_w…"
      ]
     },
     "metadata": {},
     "output_type": "display_data"
    },
    {
     "name": "stderr",
     "output_type": "stream",
     "text": [
      "Epoch:  50%|███████████████████████████████████▌                                   | 5/10 [1:00:08<1:00:08, 721.68s/it]"
     ]
    },
    {
     "name": "stdout",
     "output_type": "stream",
     "text": [
      "\n",
      "so far epoch accuracy:  0.982790834890353\n"
     ]
    },
    {
     "data": {
      "application/vnd.jupyter.widget-view+json": {
       "model_id": "338d50c75a234dcbbca83f63cd145251",
       "version_major": 2,
       "version_minor": 0
      },
      "text/plain": [
       "HBox(children=(FloatProgress(value=0.0, description='Iteration', max=5085.0, style=ProgressStyle(description_w…"
      ]
     },
     "metadata": {},
     "output_type": "display_data"
    },
    {
     "name": "stderr",
     "output_type": "stream",
     "text": [
      "Epoch:  60%|███████████████████████████████████████████▊                             | 6/10 [1:12:09<48:06, 721.65s/it]"
     ]
    },
    {
     "name": "stdout",
     "output_type": "stream",
     "text": [
      "\n",
      "so far epoch accuracy:  0.9841839577801816\n"
     ]
    },
    {
     "data": {
      "application/vnd.jupyter.widget-view+json": {
       "model_id": "1ba869dcd74a4c58a0743665390f1586",
       "version_major": 2,
       "version_minor": 0
      },
      "text/plain": [
       "HBox(children=(FloatProgress(value=0.0, description='Iteration', max=5085.0, style=ProgressStyle(description_w…"
      ]
     },
     "metadata": {},
     "output_type": "display_data"
    },
    {
     "name": "stderr",
     "output_type": "stream",
     "text": [
      "Epoch:  70%|███████████████████████████████████████████████████                      | 7/10 [1:24:10<36:03, 721.33s/it]"
     ]
    },
    {
     "name": "stdout",
     "output_type": "stream",
     "text": [
      "\n",
      "so far epoch accuracy:  0.9849706624709084\n"
     ]
    },
    {
     "data": {
      "application/vnd.jupyter.widget-view+json": {
       "model_id": "5a91e8f749ae4d98bd237a78e3a1539b",
       "version_major": 2,
       "version_minor": 0
      },
      "text/plain": [
       "HBox(children=(FloatProgress(value=0.0, description='Iteration', max=5085.0, style=ProgressStyle(description_w…"
      ]
     },
     "metadata": {},
     "output_type": "display_data"
    },
    {
     "name": "stderr",
     "output_type": "stream",
     "text": [
      "Epoch:  80%|██████████████████████████████████████████████████████████▍              | 8/10 [1:36:10<24:01, 720.99s/it]"
     ]
    },
    {
     "name": "stdout",
     "output_type": "stream",
     "text": [
      "\n",
      "so far epoch accuracy:  0.9855606909889534\n"
     ]
    },
    {
     "data": {
      "application/vnd.jupyter.widget-view+json": {
       "model_id": "a09871f45dec408e9664800de5a8e3b9",
       "version_major": 2,
       "version_minor": 0
      },
      "text/plain": [
       "HBox(children=(FloatProgress(value=0.0, description='Iteration', max=5085.0, style=ProgressStyle(description_w…"
      ]
     },
     "metadata": {},
     "output_type": "display_data"
    },
    {
     "name": "stderr",
     "output_type": "stream",
     "text": [
      "Epoch:  90%|█████████████████████████████████████████████████████████████████▋       | 9/10 [1:48:11<12:01, 721.01s/it]"
     ]
    },
    {
     "name": "stdout",
     "output_type": "stream",
     "text": [
      "\n",
      "so far epoch accuracy:  0.986265447274396\n"
     ]
    },
    {
     "data": {
      "application/vnd.jupyter.widget-view+json": {
       "model_id": "c1264800a6c74436a2b7d53215160e51",
       "version_major": 2,
       "version_minor": 0
      },
      "text/plain": [
       "HBox(children=(FloatProgress(value=0.0, description='Iteration', max=5085.0, style=ProgressStyle(description_w…"
      ]
     },
     "metadata": {},
     "output_type": "display_data"
    },
    {
     "name": "stderr",
     "output_type": "stream",
     "text": [
      "Epoch: 100%|████████████████████████████████████████████████████████████████████████| 10/10 [2:00:12<00:00, 721.21s/it]"
     ]
    },
    {
     "name": "stdout",
     "output_type": "stream",
     "text": [
      "\n",
      "so far epoch accuracy:  0.9869374241977251\n",
      "Training complete\n",
      "Best val Acc: 0.986937\n"
     ]
    },
    {
     "name": "stderr",
     "output_type": "stream",
     "text": [
      "\n"
     ]
    },
    {
     "data": {
      "application/vnd.jupyter.widget-view+json": {
       "model_id": "d942588f56da46549d08e5a531a076f9",
       "version_major": 2,
       "version_minor": 0
      },
      "text/plain": [
       "HBox(children=(FloatProgress(value=0.0, description='Evaluating', max=5085.0, style=ProgressStyle(description_…"
      ]
     },
     "metadata": {},
     "output_type": "display_data"
    },
    {
     "name": "stdout",
     "output_type": "stream",
     "text": [
      "\n"
     ]
    },
    {
     "name": "stderr",
     "output_type": "stream",
     "text": [
      "INFO:root:***** Running training *****\n",
      "INFO:root:  Num examples = 15304\n",
      "INFO:root:  Batch size = 12\n",
      "INFO:root:  Num steps = 12750\n"
     ]
    },
    {
     "data": {
      "application/vnd.jupyter.widget-view+json": {
       "model_id": "80e23c8267d14ceab9a9a5eef620fda0",
       "version_major": 2,
       "version_minor": 0
      },
      "text/plain": [
       "HBox(children=(FloatProgress(value=0.0, description='Evaluating', max=1276.0, style=ProgressStyle(description_…"
      ]
     },
     "metadata": {},
     "output_type": "display_data"
    },
    {
     "name": "stdout",
     "output_type": "stream",
     "text": [
      "\n"
     ]
    }
   ],
   "source": [
    "train_label_ids, train_preds, train_loss, all_dev_label_ids, dev_loss, dev_preds = run_model(config, device)"
   ]
  },
  {
   "cell_type": "code",
   "execution_count": 13,
   "metadata": {},
   "outputs": [
    {
     "name": "stdout",
     "output_type": "stream",
     "text": [
      "\n",
      " label: [5 8 6 ... 1 2 8]\n",
      "\n",
      " preds: [5 8 6 ... 1 2 8]\n",
      "\n",
      " label: [8 0 8 ... 8 8 8]\n",
      "\n",
      " preds: [8 0 8 ... 8 8 8]\n"
     ]
    }
   ],
   "source": [
    "\n",
    "train_mcc, train_f1_score, train_df_results, train_label_matches_df = calculate_stats(train_label_ids,train_preds )\n",
    "dev_mcc, dev_f1_score, dev_df_results, dev_label_matches_df = calculate_stats(all_dev_label_ids,dev_preds)"
   ]
  },
  {
   "cell_type": "code",
   "execution_count": 14,
   "metadata": {},
   "outputs": [
    {
     "data": {
      "text/plain": [
       "[['<__main__.obj object at 0x00000145C2150790>',\n",
       "  0.028281437373610104,\n",
       "  0.10090719395104036,\n",
       "  0.9828714870380854,\n",
       "  0.9811421345806985,\n",
       "  0.9655254255851637,\n",
       "  0.9513203962222588],\n",
       " ['<__main__.obj object at 0x00000145C2150790>',\n",
       "  0.029586662868419118,\n",
       "  0.09663268666182578,\n",
       "  0.9826565895445114,\n",
       "  0.9813933562820968,\n",
       "  0.9658135876808309,\n",
       "  0.9538088513676909,\n",
       "  array([8, 0, 8, ..., 8, 8, 8], dtype=int64),\n",
       "  array([5, 8, 6, ..., 1, 2, 8], dtype=int64)]]"
      ]
     },
     "execution_count": 14,
     "metadata": {},
     "output_type": "execute_result"
    }
   ],
   "source": [
    "all_experiment_results.append([str(config), train_loss, dev_loss, train_mcc, train_f1_score,dev_mcc,dev_f1_score, \n",
    "                               all_dev_label_ids, dev_preds,train_label_ids,train_preds  ])\n",
    "all_experiment_results"
   ]
  },
  {
   "cell_type": "code",
   "execution_count": 15,
   "metadata": {},
   "outputs": [
    {
     "data": {
      "text/html": [
       "<div>\n",
       "<style scoped>\n",
       "    .dataframe tbody tr th:only-of-type {\n",
       "        vertical-align: middle;\n",
       "    }\n",
       "\n",
       "    .dataframe tbody tr th {\n",
       "        vertical-align: top;\n",
       "    }\n",
       "\n",
       "    .dataframe thead th {\n",
       "        text-align: right;\n",
       "    }\n",
       "</style>\n",
       "<table border=\"1\" class=\"dataframe\">\n",
       "  <thead>\n",
       "    <tr style=\"text-align: right;\">\n",
       "      <th></th>\n",
       "      <th></th>\n",
       "      <th>predicted</th>\n",
       "    </tr>\n",
       "    <tr>\n",
       "      <th>labels</th>\n",
       "      <th>matched</th>\n",
       "      <th></th>\n",
       "    </tr>\n",
       "  </thead>\n",
       "  <tbody>\n",
       "    <tr>\n",
       "      <th rowspan=\"2\" valign=\"top\">ADE-Drug</th>\n",
       "      <th>False</th>\n",
       "      <td>31</td>\n",
       "    </tr>\n",
       "    <tr>\n",
       "      <th>True</th>\n",
       "      <td>219</td>\n",
       "    </tr>\n",
       "    <tr>\n",
       "      <th rowspan=\"2\" valign=\"top\">Dosage-Drug</th>\n",
       "      <th>False</th>\n",
       "      <td>25</td>\n",
       "    </tr>\n",
       "    <tr>\n",
       "      <th>True</th>\n",
       "      <td>908</td>\n",
       "    </tr>\n",
       "    <tr>\n",
       "      <th rowspan=\"2\" valign=\"top\">Duration-Drug</th>\n",
       "      <th>False</th>\n",
       "      <td>8</td>\n",
       "    </tr>\n",
       "    <tr>\n",
       "      <th>True</th>\n",
       "      <td>128</td>\n",
       "    </tr>\n",
       "    <tr>\n",
       "      <th rowspan=\"2\" valign=\"top\">Form-Drug</th>\n",
       "      <th>False</th>\n",
       "      <td>60</td>\n",
       "    </tr>\n",
       "    <tr>\n",
       "      <th>True</th>\n",
       "      <td>894</td>\n",
       "    </tr>\n",
       "    <tr>\n",
       "      <th rowspan=\"2\" valign=\"top\">Frequency-Drug</th>\n",
       "      <th>False</th>\n",
       "      <td>53</td>\n",
       "    </tr>\n",
       "    <tr>\n",
       "      <th>True</th>\n",
       "      <td>1216</td>\n",
       "    </tr>\n",
       "    <tr>\n",
       "      <th rowspan=\"2\" valign=\"top\">Reason-Drug</th>\n",
       "      <th>False</th>\n",
       "      <td>39</td>\n",
       "    </tr>\n",
       "    <tr>\n",
       "      <th>True</th>\n",
       "      <td>995</td>\n",
       "    </tr>\n",
       "    <tr>\n",
       "      <th rowspan=\"2\" valign=\"top\">Route-Drug</th>\n",
       "      <th>False</th>\n",
       "      <td>42</td>\n",
       "    </tr>\n",
       "    <tr>\n",
       "      <th>True</th>\n",
       "      <td>1103</td>\n",
       "    </tr>\n",
       "    <tr>\n",
       "      <th rowspan=\"2\" valign=\"top\">Strength-Drug</th>\n",
       "      <th>False</th>\n",
       "      <td>60</td>\n",
       "    </tr>\n",
       "    <tr>\n",
       "      <th>True</th>\n",
       "      <td>1322</td>\n",
       "    </tr>\n",
       "    <tr>\n",
       "      <th rowspan=\"2\" valign=\"top\">no relation</th>\n",
       "      <th>False</th>\n",
       "      <td>38</td>\n",
       "    </tr>\n",
       "    <tr>\n",
       "      <th>True</th>\n",
       "      <td>8163</td>\n",
       "    </tr>\n",
       "  </tbody>\n",
       "</table>\n",
       "</div>"
      ],
      "text/plain": [
       "                        predicted\n",
       "labels         matched           \n",
       "ADE-Drug       False           31\n",
       "               True           219\n",
       "Dosage-Drug    False           25\n",
       "               True           908\n",
       "Duration-Drug  False            8\n",
       "               True           128\n",
       "Form-Drug      False           60\n",
       "               True           894\n",
       "Frequency-Drug False           53\n",
       "               True          1216\n",
       "Reason-Drug    False           39\n",
       "               True           995\n",
       "Route-Drug     False           42\n",
       "               True          1103\n",
       "Strength-Drug  False           60\n",
       "               True          1322\n",
       "no relation    False           38\n",
       "               True          8163"
      ]
     },
     "execution_count": 15,
     "metadata": {},
     "output_type": "execute_result"
    }
   ],
   "source": [
    "dev_label_matches_df"
   ]
  },
  {
   "cell_type": "code",
   "execution_count": 16,
   "metadata": {},
   "outputs": [],
   "source": [
    "\n",
    "all_model_results_pickle_file = config.programsettings.REPORTS_DIR + \"multi_model_experiment_results_\" + str(datetime.now()).replace(\":\", \"_\").replace(\".\", \"_\") + \".pkl\"\n",
    "with open(all_model_results_pickle_file, \"wb\") as f:\n",
    "    pickle.dump(all_experiment_results, f)  \n"
   ]
  },
  {
   "cell_type": "code",
   "execution_count": 26,
   "metadata": {},
   "outputs": [
    {
     "name": "stdout",
     "output_type": "stream",
     "text": [
      "              precision    recall  f1-score   support\n",
      "\n",
      "           0       0.94      0.96      0.95      1034\n",
      "           1       0.97      0.96      0.97      1145\n",
      "           2       0.94      0.96      0.95      1382\n",
      "           3       0.94      0.96      0.95      1269\n",
      "           4       0.97      0.94      0.96       136\n",
      "           5       0.95      0.94      0.94       954\n",
      "           6       0.98      0.97      0.97       933\n",
      "           7       0.91      0.88      0.89       250\n",
      "           8       1.00      1.00      1.00      8201\n",
      "\n",
      "    accuracy                           0.98     15304\n",
      "   macro avg       0.96      0.95      0.95     15304\n",
      "weighted avg       0.98      0.98      0.98     15304\n",
      "\n"
     ]
    }
   ],
   "source": [
    "from sklearn.metrics import classification_report\n",
    "print(classification_report(all_dev_label_ids,dev_preds ))"
   ]
  },
  {
   "cell_type": "code",
   "execution_count": null,
   "metadata": {},
   "outputs": [],
   "source": []
  }
 ],
 "metadata": {
  "kernelspec": {
   "display_name": "Python 3",
   "language": "python",
   "name": "python3"
  },
  "language_info": {
   "codemirror_mode": {
    "name": "ipython",
    "version": 3
   },
   "file_extension": ".py",
   "mimetype": "text/x-python",
   "name": "python",
   "nbconvert_exporter": "python",
   "pygments_lexer": "ipython3",
   "version": "3.8.3"
  }
 },
 "nbformat": 4,
 "nbformat_minor": 4
}
