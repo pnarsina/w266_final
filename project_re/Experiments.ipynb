{
 "cells": [
  {
   "cell_type": "code",
   "execution_count": 1,
   "metadata": {},
   "outputs": [],
   "source": [
    "%load_ext autoreload\n",
    "%autoreload\n",
    "import os, json\n",
    "from types import SimpleNamespace\n",
    "from experiment import run_model\n",
    "from eval import calculate_stats\n",
    "import pickle\n",
    "from datetime import datetime \n",
    "import torch\n",
    "from transformers import BertTokenizer\n",
    "from sklearn.metrics import classification_report\n",
    "from util.tools import load_config, configEncoder"
   ]
  },
  {
   "cell_type": "code",
   "execution_count": 2,
   "metadata": {},
   "outputs": [],
   "source": [
    "# device = torch.device(\"cuda\" if torch.cuda.is_available() else \"cpu\")\n",
    "device = \"cpu\""
   ]
  },
  {
   "cell_type": "code",
   "execution_count": 3,
   "metadata": {},
   "outputs": [
    {
     "data": {
      "text/plain": [
       "0.01"
      ]
     },
     "execution_count": 3,
     "metadata": {},
     "output_type": "execute_result"
    }
   ],
   "source": [
    "config_folder = \"config/\"\n",
    "config = load_config(config_folder)\n",
    "config.modelconfig.DROP_OUT"
   ]
  },
  {
   "cell_type": "code",
   "execution_count": 4,
   "metadata": {},
   "outputs": [
    {
     "name": "stderr",
     "output_type": "stream",
     "text": [
      "INFO:root:***** Running training *****\n",
      "INFO:root:  Num examples = 99\n",
      "INFO:root:  Batch size = 24\n",
      "INFO:root:  Num steps = 12\n"
     ]
    },
    {
     "name": "stdout",
     "output_type": "stream",
     "text": [
      "Looking for cached feature pickle file data_divided/train_features_256.pkl\n"
     ]
    },
    {
     "name": "stderr",
     "output_type": "stream",
     "text": [
      "Epoch:   0%|                                                                                     | 0/3 [00:00<?, ?it/s]"
     ]
    },
    {
     "data": {
      "application/vnd.jupyter.widget-view+json": {
       "model_id": "0ed658eb582a41008505fa04f1684c56",
       "version_major": 2,
       "version_minor": 0
      },
      "text/plain": [
       "HBox(children=(FloatProgress(value=0.0, description='Iteration', max=5.0, style=ProgressStyle(description_widt…"
      ]
     },
     "metadata": {},
     "output_type": "display_data"
    },
    {
     "name": "stderr",
     "output_type": "stream",
     "text": [
      "C:\\ProgramData\\Anaconda3\\lib\\site-packages\\torch\\optim\\lr_scheduler.py:131: UserWarning: Detected call of `lr_scheduler.step()` before `optimizer.step()`. In PyTorch 1.1.0 and later, you should call them in the opposite order: `optimizer.step()` before `lr_scheduler.step()`.  Failure to do this will result in PyTorch skipping the first value of the learning rate schedule. See more details at https://pytorch.org/docs/stable/optim.html#how-to-adjust-learning-rate\n",
      "  warnings.warn(\"Detected call of `lr_scheduler.step()` before `optimizer.step()`. \"\n",
      "Epoch:   0%|                                                                                     | 0/3 [00:06<?, ?it/s]"
     ]
    },
    {
     "name": "stdout",
     "output_type": "stream",
     "text": [
      "\n"
     ]
    },
    {
     "name": "stderr",
     "output_type": "stream",
     "text": [
      "\n"
     ]
    },
    {
     "ename": "AssertionError",
     "evalue": "",
     "output_type": "error",
     "traceback": [
      "\u001b[1;31m---------------------------------------------------------------------------\u001b[0m",
      "\u001b[1;31mAssertionError\u001b[0m                            Traceback (most recent call last)",
      "\u001b[1;32m<ipython-input-4-03a02422223f>\u001b[0m in \u001b[0;36m<module>\u001b[1;34m\u001b[0m\n\u001b[0;32m      1\u001b[0m \u001b[0mtrain_inputs\u001b[0m\u001b[1;33m,\u001b[0m \u001b[0mtrain_label_ids\u001b[0m\u001b[1;33m,\u001b[0m \u001b[0mtrain_preds\u001b[0m\u001b[1;33m,\u001b[0m \u001b[0mtrain_loss\u001b[0m\u001b[1;33m,\u001b[0m \u001b[0mdev_inputs\u001b[0m\u001b[1;33m,\u001b[0m \u001b[0mdev_label_ids\u001b[0m\u001b[1;33m,\u001b[0m \u001b[0mdev_loss\u001b[0m\u001b[1;33m,\u001b[0m \u001b[0mdev_preds\u001b[0m\u001b[1;33m,\u001b[0m\u001b[0mtest_inputs\u001b[0m\u001b[1;33m,\u001b[0m \u001b[0mtest_preds\u001b[0m\u001b[1;33m,\u001b[0m\u001b[0;31m \u001b[0m\u001b[0;31m\\\u001b[0m\u001b[1;33m\u001b[0m\u001b[1;33m\u001b[0m\u001b[0m\n\u001b[1;32m----> 2\u001b[1;33m \u001b[0mtest_labels\u001b[0m\u001b[1;33m,\u001b[0m \u001b[0mtest_loss\u001b[0m  \u001b[1;33m=\u001b[0m \u001b[0mrun_model\u001b[0m\u001b[1;33m(\u001b[0m\u001b[0mconfig\u001b[0m\u001b[1;33m,\u001b[0m \u001b[0mdevice\u001b[0m\u001b[1;33m)\u001b[0m\u001b[1;33m\u001b[0m\u001b[1;33m\u001b[0m\u001b[0m\n\u001b[0m",
      "\u001b[1;32mC:\\prabhu\\edu\\code\\w266\\final_project\\project_re\\experiment.py\u001b[0m in \u001b[0;36mrun_model\u001b[1;34m(config, device)\u001b[0m\n\u001b[0;32m     54\u001b[0m \u001b[1;31m# Run the model\u001b[0m\u001b[1;33m\u001b[0m\u001b[1;33m\u001b[0m\u001b[1;33m\u001b[0m\u001b[0m\n\u001b[0;32m     55\u001b[0m \u001b[1;31m# from train import train_model\u001b[0m\u001b[1;33m\u001b[0m\u001b[1;33m\u001b[0m\u001b[1;33m\u001b[0m\u001b[0m\n\u001b[1;32m---> 56\u001b[1;33m     model = train_model(config, model,  optimizer, scheduler, train_dataloader, num_labels, data_len,\n\u001b[0m\u001b[0;32m     57\u001b[0m                         \u001b[0mdevice\u001b[0m \u001b[1;33m=\u001b[0m \u001b[0mdevice\u001b[0m\u001b[1;33m,\u001b[0m \u001b[0mmodel_save_path\u001b[0m \u001b[1;33m=\u001b[0m \u001b[0mconfig\u001b[0m\u001b[1;33m.\u001b[0m\u001b[0mprogramsettings\u001b[0m\u001b[1;33m.\u001b[0m\u001b[0mOUTPUT_DIR\u001b[0m\u001b[1;33m,\u001b[0m\u001b[1;33m\u001b[0m\u001b[1;33m\u001b[0m\u001b[0m\n\u001b[0;32m     58\u001b[0m                         model_name = config.programsettings.MODEL_NAME , num_epochs=config.hyperparams.NUM_TRAIN_EPOCHS)\n",
      "\u001b[1;32mC:\\prabhu\\edu\\code\\w266\\final_project\\project_re\\train.py\u001b[0m in \u001b[0;36mtrain_model\u001b[1;34m(config, model, optimizer, scheduler, train_dataloader, num_labels, data_len, device, model_save_path, model_name, num_epochs, GRADIENT_ACCUMULATION_STEPS)\u001b[0m\n\u001b[0;32m     43\u001b[0m             \u001b[0minput_ids\u001b[0m\u001b[1;33m,\u001b[0m \u001b[0minput_mask\u001b[0m\u001b[1;33m,\u001b[0m \u001b[0msegment_ids\u001b[0m\u001b[1;33m,\u001b[0m \u001b[0mlabel_ids\u001b[0m \u001b[1;33m=\u001b[0m \u001b[0mbatch\u001b[0m\u001b[1;33m\u001b[0m\u001b[1;33m\u001b[0m\u001b[0m\n\u001b[0;32m     44\u001b[0m \u001b[1;33m\u001b[0m\u001b[0m\n\u001b[1;32m---> 45\u001b[1;33m             \u001b[0mlogits\u001b[0m \u001b[1;33m=\u001b[0m \u001b[0mmodel\u001b[0m\u001b[1;33m(\u001b[0m\u001b[0minput_ids\u001b[0m\u001b[1;33m,\u001b[0m \u001b[0msegment_ids\u001b[0m\u001b[1;33m,\u001b[0m \u001b[0minput_mask\u001b[0m\u001b[1;33m)\u001b[0m\u001b[1;33m\u001b[0m\u001b[1;33m\u001b[0m\u001b[0m\n\u001b[0m\u001b[0;32m     46\u001b[0m \u001b[1;33m\u001b[0m\u001b[0m\n\u001b[0;32m     47\u001b[0m             \u001b[0mweights\u001b[0m \u001b[1;33m=\u001b[0m \u001b[0mtorch\u001b[0m\u001b[1;33m.\u001b[0m\u001b[0mTensor\u001b[0m\u001b[1;33m(\u001b[0m\u001b[0mconfig\u001b[0m\u001b[1;33m.\u001b[0m\u001b[0mhyperparams\u001b[0m\u001b[1;33m.\u001b[0m\u001b[0mLOSS_FN_CLASS_WEIGHTS\u001b[0m\u001b[1;33m)\u001b[0m\u001b[1;33m\u001b[0m\u001b[1;33m\u001b[0m\u001b[0m\n",
      "\u001b[1;32mC:\\ProgramData\\Anaconda3\\lib\\site-packages\\torch\\nn\\modules\\module.py\u001b[0m in \u001b[0;36m_call_impl\u001b[1;34m(self, *input, **kwargs)\u001b[0m\n\u001b[0;32m    725\u001b[0m             \u001b[0mresult\u001b[0m \u001b[1;33m=\u001b[0m \u001b[0mself\u001b[0m\u001b[1;33m.\u001b[0m\u001b[0m_slow_forward\u001b[0m\u001b[1;33m(\u001b[0m\u001b[1;33m*\u001b[0m\u001b[0minput\u001b[0m\u001b[1;33m,\u001b[0m \u001b[1;33m**\u001b[0m\u001b[0mkwargs\u001b[0m\u001b[1;33m)\u001b[0m\u001b[1;33m\u001b[0m\u001b[1;33m\u001b[0m\u001b[0m\n\u001b[0;32m    726\u001b[0m         \u001b[1;32melse\u001b[0m\u001b[1;33m:\u001b[0m\u001b[1;33m\u001b[0m\u001b[1;33m\u001b[0m\u001b[0m\n\u001b[1;32m--> 727\u001b[1;33m             \u001b[0mresult\u001b[0m \u001b[1;33m=\u001b[0m \u001b[0mself\u001b[0m\u001b[1;33m.\u001b[0m\u001b[0mforward\u001b[0m\u001b[1;33m(\u001b[0m\u001b[1;33m*\u001b[0m\u001b[0minput\u001b[0m\u001b[1;33m,\u001b[0m \u001b[1;33m**\u001b[0m\u001b[0mkwargs\u001b[0m\u001b[1;33m)\u001b[0m\u001b[1;33m\u001b[0m\u001b[1;33m\u001b[0m\u001b[0m\n\u001b[0m\u001b[0;32m    728\u001b[0m         for hook in itertools.chain(\n\u001b[0;32m    729\u001b[0m                 \u001b[0m_global_forward_hooks\u001b[0m\u001b[1;33m.\u001b[0m\u001b[0mvalues\u001b[0m\u001b[1;33m(\u001b[0m\u001b[1;33m)\u001b[0m\u001b[1;33m,\u001b[0m\u001b[1;33m\u001b[0m\u001b[1;33m\u001b[0m\u001b[0m\n",
      "\u001b[1;32mC:\\prabhu\\edu\\code\\w266\\final_project\\project_re\\model\\MedClinical.py\u001b[0m in \u001b[0;36mforward\u001b[1;34m(self, ids, segment_ids, mask)\u001b[0m\n\u001b[0;32m    185\u001b[0m             \u001b[0mout\u001b[0m \u001b[1;33m=\u001b[0m \u001b[0mself\u001b[0m\u001b[1;33m.\u001b[0m\u001b[0mcustom_softmax\u001b[0m\u001b[1;33m(\u001b[0m\u001b[0mout\u001b[0m\u001b[1;33m)\u001b[0m\u001b[1;33m\u001b[0m\u001b[1;33m\u001b[0m\u001b[0m\n\u001b[0;32m    186\u001b[0m         \u001b[1;32melif\u001b[0m \u001b[0mself\u001b[0m\u001b[1;33m.\u001b[0m\u001b[0mmodel_conf\u001b[0m\u001b[1;33m.\u001b[0m\u001b[0mact_function\u001b[0m \u001b[1;33m==\u001b[0m\u001b[1;34m\"lsoftmax\"\u001b[0m\u001b[1;33m:\u001b[0m\u001b[1;33m\u001b[0m\u001b[1;33m\u001b[0m\u001b[0m\n\u001b[1;32m--> 187\u001b[1;33m             \u001b[0mout\u001b[0m \u001b[1;33m=\u001b[0m \u001b[0mself\u001b[0m\u001b[1;33m.\u001b[0m\u001b[0mlsoftmax\u001b[0m\u001b[1;33m(\u001b[0m\u001b[0mout\u001b[0m\u001b[1;33m)\u001b[0m\u001b[1;33m\u001b[0m\u001b[1;33m\u001b[0m\u001b[0m\n\u001b[0m\u001b[0;32m    188\u001b[0m \u001b[1;33m\u001b[0m\u001b[0m\n\u001b[0;32m    189\u001b[0m         \u001b[1;32mreturn\u001b[0m \u001b[1;33m(\u001b[0m\u001b[0mout\u001b[0m\u001b[1;33m.\u001b[0m\u001b[0msqueeze\u001b[0m\u001b[1;33m(\u001b[0m\u001b[1;33m)\u001b[0m\u001b[1;33m)\u001b[0m\u001b[1;33m\u001b[0m\u001b[1;33m\u001b[0m\u001b[0m\n",
      "\u001b[1;32mC:\\ProgramData\\Anaconda3\\lib\\site-packages\\torch\\nn\\modules\\module.py\u001b[0m in \u001b[0;36m_call_impl\u001b[1;34m(self, *input, **kwargs)\u001b[0m\n\u001b[0;32m    725\u001b[0m             \u001b[0mresult\u001b[0m \u001b[1;33m=\u001b[0m \u001b[0mself\u001b[0m\u001b[1;33m.\u001b[0m\u001b[0m_slow_forward\u001b[0m\u001b[1;33m(\u001b[0m\u001b[1;33m*\u001b[0m\u001b[0minput\u001b[0m\u001b[1;33m,\u001b[0m \u001b[1;33m**\u001b[0m\u001b[0mkwargs\u001b[0m\u001b[1;33m)\u001b[0m\u001b[1;33m\u001b[0m\u001b[1;33m\u001b[0m\u001b[0m\n\u001b[0;32m    726\u001b[0m         \u001b[1;32melse\u001b[0m\u001b[1;33m:\u001b[0m\u001b[1;33m\u001b[0m\u001b[1;33m\u001b[0m\u001b[0m\n\u001b[1;32m--> 727\u001b[1;33m             \u001b[0mresult\u001b[0m \u001b[1;33m=\u001b[0m \u001b[0mself\u001b[0m\u001b[1;33m.\u001b[0m\u001b[0mforward\u001b[0m\u001b[1;33m(\u001b[0m\u001b[1;33m*\u001b[0m\u001b[0minput\u001b[0m\u001b[1;33m,\u001b[0m \u001b[1;33m**\u001b[0m\u001b[0mkwargs\u001b[0m\u001b[1;33m)\u001b[0m\u001b[1;33m\u001b[0m\u001b[1;33m\u001b[0m\u001b[0m\n\u001b[0m\u001b[0;32m    728\u001b[0m         for hook in itertools.chain(\n\u001b[0;32m    729\u001b[0m                 \u001b[0m_global_forward_hooks\u001b[0m\u001b[1;33m.\u001b[0m\u001b[0mvalues\u001b[0m\u001b[1;33m(\u001b[0m\u001b[1;33m)\u001b[0m\u001b[1;33m,\u001b[0m\u001b[1;33m\u001b[0m\u001b[1;33m\u001b[0m\u001b[0m\n",
      "\u001b[1;32mC:\\prabhu\\edu\\code\\w266\\final_project\\project_re\\model\\lsoftmax.py\u001b[0m in \u001b[0;36mforward\u001b[1;34m(self, input, target)\u001b[0m\n\u001b[0;32m     54\u001b[0m     \u001b[1;32mdef\u001b[0m \u001b[0mforward\u001b[0m\u001b[1;33m(\u001b[0m\u001b[0mself\u001b[0m\u001b[1;33m,\u001b[0m \u001b[0minput\u001b[0m\u001b[1;33m,\u001b[0m \u001b[0mtarget\u001b[0m\u001b[1;33m=\u001b[0m\u001b[1;32mNone\u001b[0m\u001b[1;33m)\u001b[0m\u001b[1;33m:\u001b[0m\u001b[1;33m\u001b[0m\u001b[1;33m\u001b[0m\u001b[0m\n\u001b[0;32m     55\u001b[0m         \u001b[1;32mif\u001b[0m \u001b[0mself\u001b[0m\u001b[1;33m.\u001b[0m\u001b[0mtraining\u001b[0m\u001b[1;33m:\u001b[0m\u001b[1;33m\u001b[0m\u001b[1;33m\u001b[0m\u001b[0m\n\u001b[1;32m---> 56\u001b[1;33m             \u001b[1;32massert\u001b[0m \u001b[0mtarget\u001b[0m \u001b[1;32mis\u001b[0m \u001b[1;32mnot\u001b[0m \u001b[1;32mNone\u001b[0m\u001b[1;33m\u001b[0m\u001b[1;33m\u001b[0m\u001b[0m\n\u001b[0m\u001b[0;32m     57\u001b[0m             \u001b[0mx\u001b[0m\u001b[1;33m,\u001b[0m \u001b[0mw\u001b[0m \u001b[1;33m=\u001b[0m \u001b[0minput\u001b[0m\u001b[1;33m,\u001b[0m \u001b[0mself\u001b[0m\u001b[1;33m.\u001b[0m\u001b[0mweight\u001b[0m\u001b[1;33m\u001b[0m\u001b[1;33m\u001b[0m\u001b[0m\n\u001b[0;32m     58\u001b[0m             \u001b[0mbeta\u001b[0m \u001b[1;33m=\u001b[0m \u001b[0mmax\u001b[0m\u001b[1;33m(\u001b[0m\u001b[0mself\u001b[0m\u001b[1;33m.\u001b[0m\u001b[0mbeta\u001b[0m\u001b[1;33m,\u001b[0m \u001b[0mself\u001b[0m\u001b[1;33m.\u001b[0m\u001b[0mbeta_min\u001b[0m\u001b[1;33m)\u001b[0m\u001b[1;33m\u001b[0m\u001b[1;33m\u001b[0m\u001b[0m\n",
      "\u001b[1;31mAssertionError\u001b[0m: "
     ]
    }
   ],
   "source": [
    "train_inputs, train_label_ids, train_preds, train_loss, dev_inputs, dev_label_ids, dev_loss, dev_preds,test_inputs, test_preds, \\\n",
    "test_labels, test_loss  = run_model(config, device)"
   ]
  },
  {
   "cell_type": "code",
   "execution_count": 5,
   "metadata": {},
   "outputs": [
    {
     "data": {
      "text/plain": [
       "(array([[  101,  2508, 13923, ...,     0,     0,     0],\n",
       "        [  101,  1230,  7621, ...,     0,     0,     0],\n",
       "        [  101,   128,   119, ...,     0,     0,     0],\n",
       "        ...,\n",
       "        [  101,  2508, 13923, ...,     0,     0,     0],\n",
       "        [  101,   108,   156, ...,     0,     0,     0],\n",
       "        [  101,  2508, 13923, ...,     0,     0,     0]], dtype=int64),\n",
       " array([3, 0, 3, 5, 6, 2, 0, 1, 5, 4, 0, 6, 2, 0, 2, 6, 0, 0, 2, 2, 6, 0,\n",
       "        5, 5, 2, 2, 0, 0, 2, 1, 4, 6, 0, 4, 0, 0, 0, 1, 3, 6, 4, 0, 6, 0,\n",
       "        3, 1, 0, 2, 6, 2, 6, 5, 4, 2, 6, 6, 4, 3, 0, 6, 3, 1, 5, 7, 1, 6,\n",
       "        2, 0, 1, 2, 0, 2, 1, 6, 7, 3, 4, 5, 6, 4, 3, 3, 1, 5, 1, 5, 3, 1,\n",
       "        5, 4, 0, 1, 2, 0, 1, 1, 5, 0, 6], dtype=int64),\n",
       " array([6, 5, 6, 8, 2, 0, 0, 8, 5, 6, 4, 2, 8, 6, 6, 0, 4, 4, 6, 6, 8, 2,\n",
       "        0, 1, 1, 0, 7, 4, 7, 6, 7, 4, 0, 6, 2, 6, 0, 6, 7, 6, 6, 0, 6, 2,\n",
       "        1, 6, 7, 6, 6, 6, 2, 8, 7, 4, 5, 7, 6, 6, 6, 4, 6, 4, 6, 5, 4, 4,\n",
       "        4, 1, 8, 6, 7, 4, 0, 4, 0, 4, 1, 1, 7, 7, 6, 6, 0, 2, 4, 6, 8, 4,\n",
       "        8, 6, 6, 4, 2, 6, 6, 6, 6, 0, 6], dtype=int64),\n",
       " 2.1707954883575438,\n",
       " array([[  101,   124,   119, ...,     0,     0,     0],\n",
       "        [  101, 21062,  4725, ...,     0,     0,     0],\n",
       "        [  101,   108, 11336, ...,     0,     0,     0],\n",
       "        ...,\n",
       "        [  101,  1542,   119, ...,     0,     0,     0],\n",
       "        [  101,   127,   119, ...,     0,     0,     0],\n",
       "        [  101,  1124,  1108, ...,     0,     0,     0]], dtype=int64),\n",
       " array([0, 8, 8, 8, 8, 8, 4, 1, 4, 8, 8, 8, 8, 2, 0, 8, 8, 8, 0, 2, 0, 0,\n",
       "        0, 8, 2, 6, 2, 8, 6, 6, 6, 3, 8, 0, 8, 8, 8, 8, 8, 0, 8, 5, 7, 8,\n",
       "        8, 3, 3, 3, 1, 3, 0, 8, 8, 8, 8, 8, 0, 0, 5, 2, 8, 0, 4, 0, 8, 8,\n",
       "        8, 5, 8, 8, 0, 1, 8, 8, 1, 3, 8, 7, 2, 8, 3, 2, 2, 8, 2, 6, 8, 0,\n",
       "        1, 8, 2, 8, 5, 8, 0, 0, 0, 5, 5], dtype=int64),\n",
       " 2.2034605979919433,\n",
       " array([4, 8, 1, 5, 5, 4, 1, 6, 7, 0, 1, 7, 7, 4, 0, 4, 5, 1, 4, 6, 2, 2,\n",
       "        2, 5, 7, 6, 7, 2, 0, 4, 5, 7, 5, 7, 5, 4, 2, 5, 4, 4, 7, 7, 6, 4,\n",
       "        6, 2, 6, 8, 1, 6, 7, 4, 1, 4, 5, 2, 0, 2, 6, 6, 5, 2, 6, 2, 7, 5,\n",
       "        5, 6, 0, 3, 6, 2, 6, 6, 6, 7, 4, 4, 7, 5, 6, 6, 7, 3, 7, 4, 4, 0,\n",
       "        2, 6, 6, 4, 1, 4, 0, 2, 4, 5, 6], dtype=int64),\n",
       " array([1, 4, 2, 2, 0, 7, 7, 4, 4, 4, 0, 0, 2, 1, 5, 8, 8, 2, 0, 0, 0, 1,\n",
       "        5, 8, 0, 8, 0, 6, 4, 4, 2, 8, 0, 6, 6, 1, 6, 2, 8, 5, 4, 3, 6, 0,\n",
       "        6, 6, 4, 8, 2, 7, 5, 4, 2, 8, 2, 0, 5, 4, 8, 1, 5, 2, 5, 0, 4, 5,\n",
       "        5, 6, 0, 3, 1, 5, 4, 6, 7, 0, 5, 2, 6, 2, 4, 7, 4, 4, 6, 2, 6, 2,\n",
       "        0, 1, 4, 5, 6, 3, 5, 4, 0, 4, 1, 7], dtype=int64),\n",
       " array([7, 0, 1, 8, 8, 8, 8, 8, 2, 8, 8, 8, 8, 8, 8, 8, 8, 7, 8, 3, 5, 7,\n",
       "        8, 5, 1, 7, 8, 8, 8, 8, 8, 8, 8, 3, 8, 8, 8, 8, 8, 8, 3, 8, 8, 3,\n",
       "        8, 8, 8, 0, 0, 8, 8, 8, 8, 0, 7, 1, 3, 8, 8, 8, 8, 3, 8, 8, 8, 8,\n",
       "        8, 8, 8, 8, 8, 8, 8, 8, 8, 8, 8, 8, 8, 8, 8, 8, 8, 8, 8, 7, 8, 8,\n",
       "        8, 7, 8, 8, 8, 8, 4, 0, 1, 1, 3, 7], dtype=int64))"
      ]
     },
     "execution_count": 5,
     "metadata": {},
     "output_type": "execute_result"
    }
   ],
   "source": [
    "train_inputs, train_label_ids, train_preds, train_loss, dev_inputs, dev_label_ids, dev_loss, dev_preds, test_preds, test_labels"
   ]
  },
  {
   "cell_type": "code",
   "execution_count": 6,
   "metadata": {},
   "outputs": [
    {
     "name": "stdout",
     "output_type": "stream",
     "text": [
      "              precision    recall  f1-score   support\n",
      "\n",
      "           0       0.00      0.00      0.00         5\n",
      "           1       0.00      0.00      0.00         5\n",
      "           2       0.00      0.00      0.00         1\n",
      "           3       0.00      0.00      0.00         7\n",
      "           4       0.00      0.00      0.00         1\n",
      "           5       0.00      0.00      0.00         2\n",
      "           6       0.00      0.00      0.00         0\n",
      "           7       0.17      0.12      0.14         8\n",
      "           8       0.56      0.07      0.12        71\n",
      "\n",
      "    accuracy                           0.06       100\n",
      "   macro avg       0.08      0.02      0.03       100\n",
      "weighted avg       0.41      0.06      0.10       100\n",
      "\n"
     ]
    },
    {
     "name": "stderr",
     "output_type": "stream",
     "text": [
      "C:\\ProgramData\\Anaconda3\\lib\\site-packages\\sklearn\\metrics\\_classification.py:1221: UndefinedMetricWarning: Recall and F-score are ill-defined and being set to 0.0 in labels with no true samples. Use `zero_division` parameter to control this behavior.\n",
      "  _warn_prf(average, modifier, msg_start, len(result))\n"
     ]
    }
   ],
   "source": [
    "print(classification_report(test_labels,test_preds ))"
   ]
  },
  {
   "cell_type": "code",
   "execution_count": 2,
   "metadata": {},
   "outputs": [
    {
     "ename": "NameError",
     "evalue": "name 'dev_preds' is not defined",
     "output_type": "error",
     "traceback": [
      "\u001b[1;31m---------------------------------------------------------------------------\u001b[0m",
      "\u001b[1;31mNameError\u001b[0m                                 Traceback (most recent call last)",
      "\u001b[1;32m<ipython-input-2-8b39e78e9add>\u001b[0m in \u001b[0;36m<module>\u001b[1;34m\u001b[0m\n\u001b[0;32m     11\u001b[0m         \u001b[0mpickle\u001b[0m\u001b[1;33m.\u001b[0m\u001b[0mdump\u001b[0m\u001b[1;33m(\u001b[0m\u001b[0mmissed_cases\u001b[0m\u001b[1;33m,\u001b[0m \u001b[0mf\u001b[0m\u001b[1;33m)\u001b[0m\u001b[1;33m\u001b[0m\u001b[1;33m\u001b[0m\u001b[0m\n\u001b[0;32m     12\u001b[0m \u001b[1;33m\u001b[0m\u001b[0m\n\u001b[1;32m---> 13\u001b[1;33m \u001b[0msave_missed_cases_to_file\u001b[0m\u001b[1;33m(\u001b[0m\u001b[1;34m\"BIOBERT_fc_missedcases_\"\u001b[0m \u001b[1;33m,\u001b[0m \u001b[0mdev_preds\u001b[0m\u001b[1;33m,\u001b[0m \u001b[0mdev_label_ids\u001b[0m\u001b[1;33m,\u001b[0m \u001b[0mtrain_inputs\u001b[0m\u001b[1;33m)\u001b[0m\u001b[1;33m\u001b[0m\u001b[1;33m\u001b[0m\u001b[0m\n\u001b[0m",
      "\u001b[1;31mNameError\u001b[0m: name 'dev_preds' is not defined"
     ]
    }
   ],
   "source": [
    "def save_missed_cases_to_file(file_start_name, dev_preds, dev_label_ids, train_inputs):\n",
    "    tokenizer = BertTokenizer.from_pretrained('bert-base-cased', do_lower_case=False)\n",
    "    missed_cases = []\n",
    "    for i in range(0,50):\n",
    "        if dev_label_ids[i] !=  dev_preds[i]:\n",
    "             missed_cases.append([ dev_preds[i],  dev_label_ids[i] , \" \". join (tokenizer.convert_ids_to_tokens(train_inputs[i])) ])\n",
    "\n",
    "    #Save into a file\n",
    "    missed_cases_file = config.programsettings.REPORTS_DIR +file_start_name + str(datetime.now()).replace(\":\", \"_\").replace(\".\", \"_\") + \".pkl\"\n",
    "    with open(missed_cases_file, \"wb\") as f:\n",
    "        pickle.dump(missed_cases, f)  \n",
    "        \n",
    "save_missed_cases_to_file(\"BIOBERT_fc_missedcases_\" , dev_preds, dev_label_ids, train_inputs)"
   ]
  },
  {
   "cell_type": "code",
   "execution_count": 8,
   "metadata": {},
   "outputs": [
    {
     "data": {
      "text/plain": [
       "((99,), (99,), (99,), (99,))"
      ]
     },
     "execution_count": 8,
     "metadata": {},
     "output_type": "execute_result"
    }
   ],
   "source": [
    "import numpy as np\n",
    "np.array(dev_label_ids).shape, np.array(dev_preds).shape, np.array(train_preds).shape, np.array(train_label_ids).shape"
   ]
  },
  {
   "cell_type": "code",
   "execution_count": 9,
   "metadata": {},
   "outputs": [
    {
     "name": "stdout",
     "output_type": "stream",
     "text": [
      "\n",
      " label: [0 3 2 5 4 6 2 5 0 1 5 5 1 0 5 3 4 6 6 2 7 6 5 0 0 6 0 1 0 6 0 6 0 3 1 1 4\n",
      " 2 4 3 0 1 0 2 2 2 3 5 7 6 3 6 1 4 3 0 3 2 0 0 1 3 6 4 6 6 2 1 5 5 2 6 6 3\n",
      " 0 0 5 4 2 0 1 2 1 0 4 0 0 2 2 1 0 2 1 1 0 6 5 4 6]\n",
      "\n",
      " preds: [6 6 4 6 4 4 4 7 7 4 3 4 6 4 6 4 4 4 6 4 7 6 6 4 4 4 4 4 7 6 7 6 4 6 4 6 4\n",
      " 6 4 4 6 6 6 6 6 4 6 6 7 6 4 6 4 4 4 6 6 6 6 6 6 4 6 4 6 6 6 6 6 4 4 6 6 4\n",
      " 6 6 4 6 6 6 6 4 3 6 4 3 6 6 6 4 6 4 4 4 4 4 4 4 7]\n",
      "\n",
      " label: [6 2 8 2 8 8 8 0 0 3 5 0 8 1 8 3 8 8 8 8 0 0 8 8 8 8 6 8 2 7 3 8 3 6 0 2 0\n",
      " 6 5 0 8 1 6 1 3 0 7 0 0 8 8 8 8 8 0 8 4 2 2 8 0 5 1 2 8 8 8 0 5 8 4 2 8 0\n",
      " 8 0 8 8 8 3 8 8 4 5 2 5 2 0 3 8 0 8 8 8 8 8 8 8 1]\n",
      "\n",
      " preds: [6 6 7 4 7 7 4 4 6 4 6 6 4 6 7 4 7 6 6 4 6 4 7 7 6 7 6 6 6 7 4 4 6 6 3 4 4\n",
      " 7 4 4 4 6 4 6 6 4 4 6 4 6 7 4 4 7 6 7 4 4 4 7 4 6 4 4 7 6 7 4 6 7 4 6 6 4\n",
      " 7 6 4 7 7 6 7 6 6 6 7 6 4 4 4 6 4 7 7 6 3 4 7 4 4]\n"
     ]
    }
   ],
   "source": [
    "%autoreload\n",
    "train_mcc, train_f1_score, train_df_results, train_label_matches_df = calculate_stats(train_label_ids,train_preds )\n",
    "dev_mcc, dev_f1_score, dev_df_results, dev_label_matches_df = calculate_stats(dev_label_ids,dev_preds )"
   ]
  },
  {
   "cell_type": "code",
   "execution_count": 10,
   "metadata": {},
   "outputs": [
    {
     "data": {
      "text/plain": [
       "[[<util.tools.config at 0x2ea8c1b7a30>,\n",
       "  2.1800858974456787,\n",
       "  2.2085455417633058,\n",
       "  0.1305070354677441,\n",
       "  0.13842203548085902,\n",
       "  0.03532304615650811,\n",
       "  0.03616457816999822,\n",
       "  array([6, 2, 8, 2, 8, 8, 8, 0, 0, 3, 5, 0, 8, 1, 8, 3, 8, 8, 8, 8, 0, 0,\n",
       "         8, 8, 8, 8, 6, 8, 2, 7, 3, 8, 3, 6, 0, 2, 0, 6, 5, 0, 8, 1, 6, 1,\n",
       "         3, 0, 7, 0, 0, 8, 8, 8, 8, 8, 0, 8, 4, 2, 2, 8, 0, 5, 1, 2, 8, 8,\n",
       "         8, 0, 5, 8, 4, 2, 8, 0, 8, 0, 8, 8, 8, 3, 8, 8, 4, 5, 2, 5, 2, 0,\n",
       "         3, 8, 0, 8, 8, 8, 8, 8, 8, 8, 1], dtype=int64),\n",
       "  array([6, 6, 7, 4, 7, 7, 4, 4, 6, 4, 6, 6, 4, 6, 7, 4, 7, 6, 6, 4, 6, 4,\n",
       "         7, 7, 6, 7, 6, 6, 6, 7, 4, 4, 6, 6, 3, 4, 4, 7, 4, 4, 4, 6, 4, 6,\n",
       "         6, 4, 4, 6, 4, 6, 7, 4, 4, 7, 6, 7, 4, 4, 4, 7, 4, 6, 4, 4, 7, 6,\n",
       "         7, 4, 6, 7, 4, 6, 6, 4, 7, 6, 4, 7, 7, 6, 7, 6, 6, 6, 7, 6, 4, 4,\n",
       "         4, 6, 4, 7, 7, 6, 3, 4, 7, 4, 4], dtype=int64),\n",
       "  array([0, 3, 2, 5, 4, 6, 2, 5, 0, 1, 5, 5, 1, 0, 5, 3, 4, 6, 6, 2, 7, 6,\n",
       "         5, 0, 0, 6, 0, 1, 0, 6, 0, 6, 0, 3, 1, 1, 4, 2, 4, 3, 0, 1, 0, 2,\n",
       "         2, 2, 3, 5, 7, 6, 3, 6, 1, 4, 3, 0, 3, 2, 0, 0, 1, 3, 6, 4, 6, 6,\n",
       "         2, 1, 5, 5, 2, 6, 6, 3, 0, 0, 5, 4, 2, 0, 1, 2, 1, 0, 4, 0, 0, 2,\n",
       "         2, 1, 0, 2, 1, 1, 0, 6, 5, 4, 6], dtype=int64),\n",
       "  array([6, 6, 4, 6, 4, 4, 4, 7, 7, 4, 3, 4, 6, 4, 6, 4, 4, 4, 6, 4, 7, 6,\n",
       "         6, 4, 4, 4, 4, 4, 7, 6, 7, 6, 4, 6, 4, 6, 4, 6, 4, 4, 6, 6, 6, 6,\n",
       "         6, 4, 6, 6, 7, 6, 4, 6, 4, 4, 4, 6, 6, 6, 6, 6, 6, 4, 6, 4, 6, 6,\n",
       "         6, 6, 6, 4, 4, 6, 6, 4, 6, 6, 4, 6, 6, 6, 6, 4, 3, 6, 4, 3, 6, 6,\n",
       "         6, 4, 6, 4, 4, 4, 4, 4, 4, 4, 7], dtype=int64)]]"
      ]
     },
     "execution_count": 10,
     "metadata": {},
     "output_type": "execute_result"
    }
   ],
   "source": [
    "all_experiment_results = []\n",
    "all_experiment_results.append([config, train_loss, dev_loss, train_mcc, train_f1_score,dev_mcc,dev_f1_score, \n",
    "                               dev_label_ids, dev_preds,train_label_ids,train_preds  ])\n",
    "all_experiment_results"
   ]
  },
  {
   "cell_type": "code",
   "execution_count": 11,
   "metadata": {},
   "outputs": [
    {
     "data": {
      "text/html": [
       "<div>\n",
       "<style scoped>\n",
       "    .dataframe tbody tr th:only-of-type {\n",
       "        vertical-align: middle;\n",
       "    }\n",
       "\n",
       "    .dataframe tbody tr th {\n",
       "        vertical-align: top;\n",
       "    }\n",
       "\n",
       "    .dataframe thead th {\n",
       "        text-align: right;\n",
       "    }\n",
       "</style>\n",
       "<table border=\"1\" class=\"dataframe\">\n",
       "  <thead>\n",
       "    <tr style=\"text-align: right;\">\n",
       "      <th></th>\n",
       "      <th></th>\n",
       "      <th>predicted</th>\n",
       "    </tr>\n",
       "    <tr>\n",
       "      <th>labels</th>\n",
       "      <th>matched</th>\n",
       "      <th></th>\n",
       "    </tr>\n",
       "  </thead>\n",
       "  <tbody>\n",
       "    <tr>\n",
       "      <th rowspan=\"2\" valign=\"top\">ADE-Drug</th>\n",
       "      <th>False</th>\n",
       "      <td>1</td>\n",
       "    </tr>\n",
       "    <tr>\n",
       "      <th>True</th>\n",
       "      <td>1</td>\n",
       "    </tr>\n",
       "    <tr>\n",
       "      <th rowspan=\"2\" valign=\"top\">Dosage-Drug</th>\n",
       "      <th>False</th>\n",
       "      <td>2</td>\n",
       "    </tr>\n",
       "    <tr>\n",
       "      <th>True</th>\n",
       "      <td>3</td>\n",
       "    </tr>\n",
       "    <tr>\n",
       "      <th rowspan=\"2\" valign=\"top\">Duration-Drug</th>\n",
       "      <th>False</th>\n",
       "      <td>1</td>\n",
       "    </tr>\n",
       "    <tr>\n",
       "      <th>True</th>\n",
       "      <td>2</td>\n",
       "    </tr>\n",
       "    <tr>\n",
       "      <th>Form-Drug</th>\n",
       "      <th>False</th>\n",
       "      <td>6</td>\n",
       "    </tr>\n",
       "    <tr>\n",
       "      <th>Frequency-Drug</th>\n",
       "      <th>False</th>\n",
       "      <td>7</td>\n",
       "    </tr>\n",
       "    <tr>\n",
       "      <th>Reason-Drug</th>\n",
       "      <th>False</th>\n",
       "      <td>18</td>\n",
       "    </tr>\n",
       "    <tr>\n",
       "      <th>Route-Drug</th>\n",
       "      <th>False</th>\n",
       "      <td>5</td>\n",
       "    </tr>\n",
       "    <tr>\n",
       "      <th>Strength-Drug</th>\n",
       "      <th>False</th>\n",
       "      <td>10</td>\n",
       "    </tr>\n",
       "    <tr>\n",
       "      <th>no relation</th>\n",
       "      <th>False</th>\n",
       "      <td>43</td>\n",
       "    </tr>\n",
       "  </tbody>\n",
       "</table>\n",
       "</div>"
      ],
      "text/plain": [
       "                        predicted\n",
       "labels         matched           \n",
       "ADE-Drug       False            1\n",
       "               True             1\n",
       "Dosage-Drug    False            2\n",
       "               True             3\n",
       "Duration-Drug  False            1\n",
       "               True             2\n",
       "Form-Drug      False            6\n",
       "Frequency-Drug False            7\n",
       "Reason-Drug    False           18\n",
       "Route-Drug     False            5\n",
       "Strength-Drug  False           10\n",
       "no relation    False           43"
      ]
     },
     "execution_count": 11,
     "metadata": {},
     "output_type": "execute_result"
    }
   ],
   "source": [
    "dev_label_matches_df"
   ]
  },
  {
   "cell_type": "markdown",
   "metadata": {},
   "source": [
    "##  Try with BERT Sequential configuration"
   ]
  },
  {
   "cell_type": "markdown",
   "metadata": {},
   "source": [
    "### Just change model from BIOR to BERT Sequence"
   ]
  },
  {
   "cell_type": "code",
   "execution_count": 12,
   "metadata": {},
   "outputs": [],
   "source": [
    "config.programsettings.MODEL_NAME = \"BERT_Sequence\"\n",
    "config.programsettings.DEBUG_PRINT = 0"
   ]
  },
  {
   "cell_type": "code",
   "execution_count": 13,
   "metadata": {},
   "outputs": [
    {
     "name": "stderr",
     "output_type": "stream",
     "text": [
      "INFO:root:***** Running training *****\n",
      "INFO:root:  Num examples = 99\n",
      "INFO:root:  Batch size = 24\n",
      "INFO:root:  Num steps = 40\n",
      "INFO:pytorch_pretrained_bert.modeling:loading archive file https://s3.amazonaws.com/models.huggingface.co/bert/bert-base-cased.tar.gz from cache at cache/a803ce83ca27fecf74c355673c434e51c265fb8a3e0e57ac62a80e38ba98d384.681017f415dfb33ec8d0e04fe51a619f3f01532ecea04edbfd48c5d160550d9c\n",
      "INFO:pytorch_pretrained_bert.modeling:extracting archive file cache/a803ce83ca27fecf74c355673c434e51c265fb8a3e0e57ac62a80e38ba98d384.681017f415dfb33ec8d0e04fe51a619f3f01532ecea04edbfd48c5d160550d9c to temp dir C:\\Users\\pnars\\AppData\\Local\\Temp\\tmp_g5gm1j3\n",
      "INFO:pytorch_pretrained_bert.modeling:Model config {\n",
      "  \"attention_probs_dropout_prob\": 0.1,\n",
      "  \"hidden_act\": \"gelu\",\n",
      "  \"hidden_dropout_prob\": 0.1,\n",
      "  \"hidden_size\": 768,\n",
      "  \"initializer_range\": 0.02,\n",
      "  \"intermediate_size\": 3072,\n",
      "  \"max_position_embeddings\": 512,\n",
      "  \"num_attention_heads\": 12,\n",
      "  \"num_hidden_layers\": 12,\n",
      "  \"type_vocab_size\": 2,\n",
      "  \"vocab_size\": 28996\n",
      "}\n",
      "\n",
      "INFO:pytorch_pretrained_bert.modeling:Weights of BertForSequenceClassification not initialized from pretrained model: ['classifier.weight', 'classifier.bias']\n",
      "INFO:pytorch_pretrained_bert.modeling:Weights from pretrained model not used in BertForSequenceClassification: ['cls.predictions.bias', 'cls.predictions.transform.dense.weight', 'cls.predictions.transform.dense.bias', 'cls.predictions.decoder.weight', 'cls.seq_relationship.weight', 'cls.seq_relationship.bias', 'cls.predictions.transform.LayerNorm.weight', 'cls.predictions.transform.LayerNorm.bias']\n",
      "Epoch:   0%|                                                                                                                    | 0/10 [00:00<?, ?it/s]"
     ]
    },
    {
     "data": {
      "application/vnd.jupyter.widget-view+json": {
       "model_id": "c98599e778d249989a0ed70907693093",
       "version_major": 2,
       "version_minor": 0
      },
      "text/plain": [
       "HBox(children=(FloatProgress(value=0.0, description='Iteration', max=5.0, style=ProgressStyle(description_widt…"
      ]
     },
     "metadata": {},
     "output_type": "display_data"
    },
    {
     "name": "stderr",
     "output_type": "stream",
     "text": [
      "C:\\ProgramData\\Anaconda3\\lib\\site-packages\\torch\\optim\\lr_scheduler.py:131: UserWarning: Detected call of `lr_scheduler.step()` before `optimizer.step()`. In PyTorch 1.1.0 and later, you should call them in the opposite order: `optimizer.step()` before `lr_scheduler.step()`.  Failure to do this will result in PyTorch skipping the first value of the learning rate schedule. See more details at https://pytorch.org/docs/stable/optim.html#how-to-adjust-learning-rate\n",
      "  warnings.warn(\"Detected call of `lr_scheduler.step()` before `optimizer.step()`. \"\n",
      "Epoch:  10%|██████████▊                                                                                                 | 1/10 [01:26<12:56, 86.26s/it]"
     ]
    },
    {
     "name": "stdout",
     "output_type": "stream",
     "text": [
      "\n",
      "so far epoch accuracy:  0.1111111111111111\n"
     ]
    },
    {
     "data": {
      "application/vnd.jupyter.widget-view+json": {
       "model_id": "f3f6b642686740bbab5d5228e0adb8e8",
       "version_major": 2,
       "version_minor": 0
      },
      "text/plain": [
       "HBox(children=(FloatProgress(value=0.0, description='Iteration', max=5.0, style=ProgressStyle(description_widt…"
      ]
     },
     "metadata": {},
     "output_type": "display_data"
    },
    {
     "name": "stderr",
     "output_type": "stream",
     "text": [
      "Epoch:  20%|█████████████████████▌                                                                                      | 2/10 [02:53<11:31, 86.47s/it]"
     ]
    },
    {
     "name": "stdout",
     "output_type": "stream",
     "text": [
      "\n"
     ]
    },
    {
     "data": {
      "application/vnd.jupyter.widget-view+json": {
       "model_id": "4a02a333b7974ccc9e82b3fbefd8d1e2",
       "version_major": 2,
       "version_minor": 0
      },
      "text/plain": [
       "HBox(children=(FloatProgress(value=0.0, description='Iteration', max=5.0, style=ProgressStyle(description_widt…"
      ]
     },
     "metadata": {},
     "output_type": "display_data"
    },
    {
     "name": "stderr",
     "output_type": "stream",
     "text": [
      "Epoch:  30%|████████████████████████████████▍                                                                           | 3/10 [04:24<10:14, 87.77s/it]"
     ]
    },
    {
     "name": "stdout",
     "output_type": "stream",
     "text": [
      "\n",
      "so far epoch accuracy:  0.12121212121212122\n"
     ]
    },
    {
     "data": {
      "application/vnd.jupyter.widget-view+json": {
       "model_id": "d3543e8a5b7b4686a8324c290e2deb67",
       "version_major": 2,
       "version_minor": 0
      },
      "text/plain": [
       "HBox(children=(FloatProgress(value=0.0, description='Iteration', max=5.0, style=ProgressStyle(description_widt…"
      ]
     },
     "metadata": {},
     "output_type": "display_data"
    },
    {
     "name": "stderr",
     "output_type": "stream",
     "text": [
      "Epoch:  40%|███████████████████████████████████████████▏                                                                | 4/10 [05:51<08:45, 87.59s/it]"
     ]
    },
    {
     "name": "stdout",
     "output_type": "stream",
     "text": [
      "\n"
     ]
    },
    {
     "data": {
      "application/vnd.jupyter.widget-view+json": {
       "model_id": "d1834322e78f44e9abb822b46dbc3857",
       "version_major": 2,
       "version_minor": 0
      },
      "text/plain": [
       "HBox(children=(FloatProgress(value=0.0, description='Iteration', max=5.0, style=ProgressStyle(description_widt…"
      ]
     },
     "metadata": {},
     "output_type": "display_data"
    },
    {
     "name": "stderr",
     "output_type": "stream",
     "text": [
      "Epoch:  50%|██████████████████████████████████████████████████████                                                      | 5/10 [07:18<07:17, 87.44s/it]"
     ]
    },
    {
     "name": "stdout",
     "output_type": "stream",
     "text": [
      "\n"
     ]
    },
    {
     "data": {
      "application/vnd.jupyter.widget-view+json": {
       "model_id": "d7ee2a23fe5d43b08ef805115a860553",
       "version_major": 2,
       "version_minor": 0
      },
      "text/plain": [
       "HBox(children=(FloatProgress(value=0.0, description='Iteration', max=5.0, style=ProgressStyle(description_widt…"
      ]
     },
     "metadata": {},
     "output_type": "display_data"
    },
    {
     "name": "stderr",
     "output_type": "stream",
     "text": [
      "Epoch:  60%|████████████████████████████████████████████████████████████████▊                                           | 6/10 [08:45<05:49, 87.46s/it]"
     ]
    },
    {
     "name": "stdout",
     "output_type": "stream",
     "text": [
      "\n"
     ]
    },
    {
     "data": {
      "application/vnd.jupyter.widget-view+json": {
       "model_id": "2d125266163849619d4cf8c24568830a",
       "version_major": 2,
       "version_minor": 0
      },
      "text/plain": [
       "HBox(children=(FloatProgress(value=0.0, description='Iteration', max=5.0, style=ProgressStyle(description_widt…"
      ]
     },
     "metadata": {},
     "output_type": "display_data"
    },
    {
     "name": "stderr",
     "output_type": "stream",
     "text": [
      "Epoch:  70%|███████████████████████████████████████████████████████████████████████████▌                                | 7/10 [10:14<04:23, 87.84s/it]"
     ]
    },
    {
     "name": "stdout",
     "output_type": "stream",
     "text": [
      "\n",
      "so far epoch accuracy:  0.1717171717171717\n"
     ]
    },
    {
     "data": {
      "application/vnd.jupyter.widget-view+json": {
       "model_id": "82038cc2058a42bc915e4af32c5f6336",
       "version_major": 2,
       "version_minor": 0
      },
      "text/plain": [
       "HBox(children=(FloatProgress(value=0.0, description='Iteration', max=5.0, style=ProgressStyle(description_widt…"
      ]
     },
     "metadata": {},
     "output_type": "display_data"
    },
    {
     "name": "stderr",
     "output_type": "stream",
     "text": [
      "Epoch:  80%|██████████████████████████████████████████████████████████████████████████████████████▍                     | 8/10 [11:41<02:55, 87.61s/it]"
     ]
    },
    {
     "name": "stdout",
     "output_type": "stream",
     "text": [
      "\n",
      "so far epoch accuracy:  0.2222222222222222\n"
     ]
    },
    {
     "data": {
      "application/vnd.jupyter.widget-view+json": {
       "model_id": "3b77c6ef430443518bdf0f22ad5e4eee",
       "version_major": 2,
       "version_minor": 0
      },
      "text/plain": [
       "HBox(children=(FloatProgress(value=0.0, description='Iteration', max=5.0, style=ProgressStyle(description_widt…"
      ]
     },
     "metadata": {},
     "output_type": "display_data"
    },
    {
     "name": "stderr",
     "output_type": "stream",
     "text": [
      "Epoch:  90%|█████████████████████████████████████████████████████████████████████████████████████████████████▏          | 9/10 [13:08<01:27, 87.32s/it]"
     ]
    },
    {
     "name": "stdout",
     "output_type": "stream",
     "text": [
      "\n"
     ]
    },
    {
     "data": {
      "application/vnd.jupyter.widget-view+json": {
       "model_id": "c0127b18ccad4de7a9f31aea44c8836b",
       "version_major": 2,
       "version_minor": 0
      },
      "text/plain": [
       "HBox(children=(FloatProgress(value=0.0, description='Iteration', max=5.0, style=ProgressStyle(description_widt…"
      ]
     },
     "metadata": {},
     "output_type": "display_data"
    },
    {
     "name": "stderr",
     "output_type": "stream",
     "text": [
      "Epoch: 100%|███████████████████████████████████████████████████████████████████████████████████████████████████████████| 10/10 [14:37<00:00, 87.71s/it]"
     ]
    },
    {
     "name": "stdout",
     "output_type": "stream",
     "text": [
      "\n",
      "Training complete\n",
      "Best val Acc: 0.222222\n"
     ]
    },
    {
     "name": "stderr",
     "output_type": "stream",
     "text": [
      "\n"
     ]
    },
    {
     "data": {
      "application/vnd.jupyter.widget-view+json": {
       "model_id": "a6e37355ab354d8ea697f339e82cd75f",
       "version_major": 2,
       "version_minor": 0
      },
      "text/plain": [
       "HBox(children=(FloatProgress(value=0.0, description='Evaluating', max=5.0, style=ProgressStyle(description_wid…"
      ]
     },
     "metadata": {},
     "output_type": "display_data"
    },
    {
     "name": "stderr",
     "output_type": "stream",
     "text": [
      "INFO:root:***** Running training *****\n",
      "INFO:root:  Num examples = 99\n",
      "INFO:root:  Batch size = 24\n",
      "INFO:root:  Num steps = 40\n"
     ]
    },
    {
     "name": "stdout",
     "output_type": "stream",
     "text": [
      "\n"
     ]
    },
    {
     "data": {
      "application/vnd.jupyter.widget-view+json": {
       "model_id": "453aaaedba814af8ba881330f7c4660c",
       "version_major": 2,
       "version_minor": 0
      },
      "text/plain": [
       "HBox(children=(FloatProgress(value=0.0, description='Evaluating', max=5.0, style=ProgressStyle(description_wid…"
      ]
     },
     "metadata": {},
     "output_type": "display_data"
    },
    {
     "name": "stdout",
     "output_type": "stream",
     "text": [
      "\n"
     ]
    }
   ],
   "source": [
    "train_inputs, train_label_ids, train_preds, train_loss, dev_inputs, dev_label_ids, dev_loss, dev_preds = run_model(config, device)"
   ]
  },
  {
   "cell_type": "code",
   "execution_count": 14,
   "metadata": {},
   "outputs": [
    {
     "name": "stdout",
     "output_type": "stream",
     "text": [
      "\n",
      " label: [1 3 4 6 2 4 5 2 6 2 6 4 1 4 3 1 4 0 0 5 5 0 1 0 0 1 0 6 6 3 3 5 6 0 1 2 6\n",
      " 6 1 5 2 5 6 7 5 3 0 4 3 2 6 0 0 6 0 1 0 2 1 0 0 1 3 1 1 6 4 0 4 0 0 3 2 6\n",
      " 1 5 6 3 2 2 2 0 3 5 2 0 2 1 0 7 0 0 5 2 2 6 6 4 5]\n",
      "\n",
      " preds: [4 4 6 6 4 4 5 6 6 6 6 4 5 4 4 6 6 4 6 5 5 6 4 6 6 6 6 6 4 4 4 5 6 5 6 5 4\n",
      " 6 4 6 6 6 5 6 5 4 6 4 6 6 6 6 6 6 4 5 6 4 6 6 6 4 6 5 4 4 4 4 6 6 6 6 6 6\n",
      " 6 4 6 6 4 5 4 6 4 4 4 6 5 5 6 6 6 4 6 4 5 4 5 4 5]\n",
      "\n",
      " label: [8 8 0 8 8 8 8 8 0 0 8 8 0 8 0 4 6 2 8 8 0 8 8 3 2 8 8 2 3 8 5 2 5 8 0 6 1\n",
      " 5 3 0 8 4 8 2 7 8 3 8 8 0 8 8 8 0 8 0 6 8 5 8 0 8 0 3 8 0 0 8 8 1 8 8 8 3\n",
      " 5 8 1 8 2 0 8 6 4 6 8 2 2 8 0 5 2 1 2 1 7 0 8 8 3]\n",
      "\n",
      " preds: [4 3 2 4 6 4 3 4 4 6 6 3 2 4 6 4 6 2 4 6 4 3 6 6 4 6 4 6 2 3 4 4 4 3 6 6 6\n",
      " 6 6 6 6 4 4 6 2 4 6 4 6 6 4 4 4 6 4 5 6 3 6 6 6 3 4 2 4 6 2 4 4 6 6 3 4 2\n",
      " 6 3 6 4 4 4 3 6 6 6 4 6 6 3 6 6 6 6 6 6 6 6 6 4 6]\n"
     ]
    }
   ],
   "source": [
    "\n",
    "train_mcc, train_f1_score, train_df_results, train_label_matches_df = calculate_stats(train_label_ids,train_preds )\n",
    "dev_mcc, dev_f1_score, dev_df_results, dev_label_matches_df = calculate_stats(dev_label_ids,dev_preds)"
   ]
  },
  {
   "cell_type": "code",
   "execution_count": 15,
   "metadata": {},
   "outputs": [
    {
     "data": {
      "text/plain": [
       "[[<util.tools.config at 0x2ea8c1b7a30>,\n",
       "  2.1800858974456787,\n",
       "  2.2085455417633058,\n",
       "  0.1305070354677441,\n",
       "  0.13842203548085902,\n",
       "  0.03532304615650811,\n",
       "  0.03616457816999822,\n",
       "  array([6, 2, 8, 2, 8, 8, 8, 0, 0, 3, 5, 0, 8, 1, 8, 3, 8, 8, 8, 8, 0, 0,\n",
       "         8, 8, 8, 8, 6, 8, 2, 7, 3, 8, 3, 6, 0, 2, 0, 6, 5, 0, 8, 1, 6, 1,\n",
       "         3, 0, 7, 0, 0, 8, 8, 8, 8, 8, 0, 8, 4, 2, 2, 8, 0, 5, 1, 2, 8, 8,\n",
       "         8, 0, 5, 8, 4, 2, 8, 0, 8, 0, 8, 8, 8, 3, 8, 8, 4, 5, 2, 5, 2, 0,\n",
       "         3, 8, 0, 8, 8, 8, 8, 8, 8, 8, 1], dtype=int64),\n",
       "  array([6, 6, 7, 4, 7, 7, 4, 4, 6, 4, 6, 6, 4, 6, 7, 4, 7, 6, 6, 4, 6, 4,\n",
       "         7, 7, 6, 7, 6, 6, 6, 7, 4, 4, 6, 6, 3, 4, 4, 7, 4, 4, 4, 6, 4, 6,\n",
       "         6, 4, 4, 6, 4, 6, 7, 4, 4, 7, 6, 7, 4, 4, 4, 7, 4, 6, 4, 4, 7, 6,\n",
       "         7, 4, 6, 7, 4, 6, 6, 4, 7, 6, 4, 7, 7, 6, 7, 6, 6, 6, 7, 6, 4, 4,\n",
       "         4, 6, 4, 7, 7, 6, 3, 4, 7, 4, 4], dtype=int64),\n",
       "  array([0, 3, 2, 5, 4, 6, 2, 5, 0, 1, 5, 5, 1, 0, 5, 3, 4, 6, 6, 2, 7, 6,\n",
       "         5, 0, 0, 6, 0, 1, 0, 6, 0, 6, 0, 3, 1, 1, 4, 2, 4, 3, 0, 1, 0, 2,\n",
       "         2, 2, 3, 5, 7, 6, 3, 6, 1, 4, 3, 0, 3, 2, 0, 0, 1, 3, 6, 4, 6, 6,\n",
       "         2, 1, 5, 5, 2, 6, 6, 3, 0, 0, 5, 4, 2, 0, 1, 2, 1, 0, 4, 0, 0, 2,\n",
       "         2, 1, 0, 2, 1, 1, 0, 6, 5, 4, 6], dtype=int64),\n",
       "  array([6, 6, 4, 6, 4, 4, 4, 7, 7, 4, 3, 4, 6, 4, 6, 4, 4, 4, 6, 4, 7, 6,\n",
       "         6, 4, 4, 4, 4, 4, 7, 6, 7, 6, 4, 6, 4, 6, 4, 6, 4, 4, 6, 6, 6, 6,\n",
       "         6, 4, 6, 6, 7, 6, 4, 6, 4, 4, 4, 6, 6, 6, 6, 6, 6, 4, 6, 4, 6, 6,\n",
       "         6, 6, 6, 4, 4, 6, 6, 4, 6, 6, 4, 6, 6, 6, 6, 4, 3, 6, 4, 3, 6, 6,\n",
       "         6, 4, 6, 4, 4, 4, 4, 4, 4, 4, 7], dtype=int64)],\n",
       " [<util.tools.config at 0x2ea8c1b7a30>,\n",
       "  2.0408056735992433,\n",
       "  2.378587341308594,\n",
       "  0.12845300504905482,\n",
       "  0.12774725274725274,\n",
       "  0.04289595596267952,\n",
       "  0.04683058408548604,\n",
       "  array([8, 8, 0, 8, 8, 8, 8, 8, 0, 0, 8, 8, 0, 8, 0, 4, 6, 2, 8, 8, 0, 8,\n",
       "         8, 3, 2, 8, 8, 2, 3, 8, 5, 2, 5, 8, 0, 6, 1, 5, 3, 0, 8, 4, 8, 2,\n",
       "         7, 8, 3, 8, 8, 0, 8, 8, 8, 0, 8, 0, 6, 8, 5, 8, 0, 8, 0, 3, 8, 0,\n",
       "         0, 8, 8, 1, 8, 8, 8, 3, 5, 8, 1, 8, 2, 0, 8, 6, 4, 6, 8, 2, 2, 8,\n",
       "         0, 5, 2, 1, 2, 1, 7, 0, 8, 8, 3], dtype=int64),\n",
       "  array([4, 3, 2, 4, 6, 4, 3, 4, 4, 6, 6, 3, 2, 4, 6, 4, 6, 2, 4, 6, 4, 3,\n",
       "         6, 6, 4, 6, 4, 6, 2, 3, 4, 4, 4, 3, 6, 6, 6, 6, 6, 6, 6, 4, 4, 6,\n",
       "         2, 4, 6, 4, 6, 6, 4, 4, 4, 6, 4, 5, 6, 3, 6, 6, 6, 3, 4, 2, 4, 6,\n",
       "         2, 4, 4, 6, 6, 3, 4, 2, 6, 3, 6, 4, 4, 4, 3, 6, 6, 6, 4, 6, 6, 3,\n",
       "         6, 6, 6, 6, 6, 6, 6, 6, 6, 4, 6], dtype=int64),\n",
       "  array([1, 3, 4, 6, 2, 4, 5, 2, 6, 2, 6, 4, 1, 4, 3, 1, 4, 0, 0, 5, 5, 0,\n",
       "         1, 0, 0, 1, 0, 6, 6, 3, 3, 5, 6, 0, 1, 2, 6, 6, 1, 5, 2, 5, 6, 7,\n",
       "         5, 3, 0, 4, 3, 2, 6, 0, 0, 6, 0, 1, 0, 2, 1, 0, 0, 1, 3, 1, 1, 6,\n",
       "         4, 0, 4, 0, 0, 3, 2, 6, 1, 5, 6, 3, 2, 2, 2, 0, 3, 5, 2, 0, 2, 1,\n",
       "         0, 7, 0, 0, 5, 2, 2, 6, 6, 4, 5], dtype=int64),\n",
       "  array([4, 4, 6, 6, 4, 4, 5, 6, 6, 6, 6, 4, 5, 4, 4, 6, 6, 4, 6, 5, 5, 6,\n",
       "         4, 6, 6, 6, 6, 6, 4, 4, 4, 5, 6, 5, 6, 5, 4, 6, 4, 6, 6, 6, 5, 6,\n",
       "         5, 4, 6, 4, 6, 6, 6, 6, 6, 6, 4, 5, 6, 4, 6, 6, 6, 4, 6, 5, 4, 4,\n",
       "         4, 4, 6, 6, 6, 6, 6, 6, 6, 4, 6, 6, 4, 5, 4, 6, 4, 4, 4, 6, 5, 5,\n",
       "         6, 6, 6, 4, 6, 4, 5, 4, 5, 4, 5], dtype=int64)]]"
      ]
     },
     "execution_count": 15,
     "metadata": {},
     "output_type": "execute_result"
    }
   ],
   "source": [
    "all_experiment_results.append([config, train_loss, dev_loss, train_mcc, train_f1_score,dev_mcc,dev_f1_score, \n",
    "                               dev_label_ids, dev_preds,train_label_ids,train_preds  ])\n",
    "all_experiment_results"
   ]
  },
  {
   "cell_type": "code",
   "execution_count": 16,
   "metadata": {},
   "outputs": [
    {
     "data": {
      "text/html": [
       "<div>\n",
       "<style scoped>\n",
       "    .dataframe tbody tr th:only-of-type {\n",
       "        vertical-align: middle;\n",
       "    }\n",
       "\n",
       "    .dataframe tbody tr th {\n",
       "        vertical-align: top;\n",
       "    }\n",
       "\n",
       "    .dataframe thead th {\n",
       "        text-align: right;\n",
       "    }\n",
       "</style>\n",
       "<table border=\"1\" class=\"dataframe\">\n",
       "  <thead>\n",
       "    <tr style=\"text-align: right;\">\n",
       "      <th></th>\n",
       "      <th></th>\n",
       "      <th>predicted</th>\n",
       "    </tr>\n",
       "    <tr>\n",
       "      <th>labels</th>\n",
       "      <th>matched</th>\n",
       "      <th></th>\n",
       "    </tr>\n",
       "  </thead>\n",
       "  <tbody>\n",
       "    <tr>\n",
       "      <th>ADE-Drug</th>\n",
       "      <th>False</th>\n",
       "      <td>2</td>\n",
       "    </tr>\n",
       "    <tr>\n",
       "      <th>Dosage-Drug</th>\n",
       "      <th>True</th>\n",
       "      <td>5</td>\n",
       "    </tr>\n",
       "    <tr>\n",
       "      <th rowspan=\"2\" valign=\"top\">Duration-Drug</th>\n",
       "      <th>False</th>\n",
       "      <td>1</td>\n",
       "    </tr>\n",
       "    <tr>\n",
       "      <th>True</th>\n",
       "      <td>2</td>\n",
       "    </tr>\n",
       "    <tr>\n",
       "      <th>Form-Drug</th>\n",
       "      <th>False</th>\n",
       "      <td>6</td>\n",
       "    </tr>\n",
       "    <tr>\n",
       "      <th>Frequency-Drug</th>\n",
       "      <th>False</th>\n",
       "      <td>7</td>\n",
       "    </tr>\n",
       "    <tr>\n",
       "      <th>Reason-Drug</th>\n",
       "      <th>False</th>\n",
       "      <td>18</td>\n",
       "    </tr>\n",
       "    <tr>\n",
       "      <th>Route-Drug</th>\n",
       "      <th>False</th>\n",
       "      <td>5</td>\n",
       "    </tr>\n",
       "    <tr>\n",
       "      <th rowspan=\"2\" valign=\"top\">Strength-Drug</th>\n",
       "      <th>False</th>\n",
       "      <td>9</td>\n",
       "    </tr>\n",
       "    <tr>\n",
       "      <th>True</th>\n",
       "      <td>1</td>\n",
       "    </tr>\n",
       "    <tr>\n",
       "      <th>no relation</th>\n",
       "      <th>False</th>\n",
       "      <td>43</td>\n",
       "    </tr>\n",
       "  </tbody>\n",
       "</table>\n",
       "</div>"
      ],
      "text/plain": [
       "                        predicted\n",
       "labels         matched           \n",
       "ADE-Drug       False            2\n",
       "Dosage-Drug    True             5\n",
       "Duration-Drug  False            1\n",
       "               True             2\n",
       "Form-Drug      False            6\n",
       "Frequency-Drug False            7\n",
       "Reason-Drug    False           18\n",
       "Route-Drug     False            5\n",
       "Strength-Drug  False            9\n",
       "               True             1\n",
       "no relation    False           43"
      ]
     },
     "execution_count": 16,
     "metadata": {},
     "output_type": "execute_result"
    }
   ],
   "source": [
    "dev_label_matches_df"
   ]
  },
  {
   "cell_type": "code",
   "execution_count": 17,
   "metadata": {},
   "outputs": [],
   "source": [
    "\n",
    "all_model_results_pickle_file = config.programsettings.REPORTS_DIR + \"multi_model_experiment_results_\" + str(datetime.now()).replace(\":\", \"_\").replace(\".\", \"_\") + \".pkl\"\n",
    "with open(all_model_results_pickle_file, \"wb\") as f:\n",
    "    pickle.dump(all_experiment_results, f)  \n"
   ]
  },
  {
   "cell_type": "code",
   "execution_count": 18,
   "metadata": {},
   "outputs": [
    {
     "name": "stdout",
     "output_type": "stream",
     "text": [
      "              precision    recall  f1-score   support\n",
      "\n",
      "           0       0.00      0.00      0.00        18\n",
      "           1       0.00      0.00      0.00         5\n",
      "           2       0.12      0.10      0.11        10\n",
      "           3       0.00      0.00      0.00         7\n",
      "           4       0.06      0.67      0.11         3\n",
      "           5       0.00      0.00      0.00         6\n",
      "           6       0.11      1.00      0.20         5\n",
      "           7       0.00      0.00      0.00         2\n",
      "           8       0.00      0.00      0.00        43\n",
      "\n",
      "    accuracy                           0.08        99\n",
      "   macro avg       0.03      0.20      0.05        99\n",
      "weighted avg       0.02      0.08      0.02        99\n",
      "\n"
     ]
    },
    {
     "name": "stderr",
     "output_type": "stream",
     "text": [
      "C:\\ProgramData\\Anaconda3\\lib\\site-packages\\sklearn\\metrics\\_classification.py:1221: UndefinedMetricWarning: Precision and F-score are ill-defined and being set to 0.0 in labels with no predicted samples. Use `zero_division` parameter to control this behavior.\n",
      "  _warn_prf(average, modifier, msg_start, len(result))\n"
     ]
    }
   ],
   "source": [
    "print(classification_report(dev_label_ids,dev_preds ))"
   ]
  },
  {
   "cell_type": "code",
   "execution_count": 19,
   "metadata": {},
   "outputs": [],
   "source": [
    "# Save missed cases.\n",
    "save_missed_cases_to_file(\"BERT_sequential_missedcases_\" , dev_preds, dev_label_ids, train_inputs)\n"
   ]
  },
  {
   "cell_type": "markdown",
   "metadata": {},
   "source": [
    "# Hyper paramter tuning based on experiments in experiments_batch"
   ]
  },
  {
   "cell_type": "code",
   "execution_count": 20,
   "metadata": {},
   "outputs": [],
   "source": [
    "# import torch\n",
    "# device = torch.device(\"cuda\" if torch.cuda.is_available() else \"cpu\")\n",
    "# # device = \"cpu\"\n",
    "# from  experiments_batch import run_all_experiments_save\n",
    "# run_all_experiments_save(device)"
   ]
  },
  {
   "cell_type": "code",
   "execution_count": null,
   "metadata": {},
   "outputs": [],
   "source": []
  },
  {
   "cell_type": "code",
   "execution_count": null,
   "metadata": {},
   "outputs": [],
   "source": []
  }
 ],
 "metadata": {
  "kernelspec": {
   "display_name": "Python 3",
   "language": "python",
   "name": "python3"
  },
  "language_info": {
   "codemirror_mode": {
    "name": "ipython",
    "version": 3
   },
   "file_extension": ".py",
   "mimetype": "text/x-python",
   "name": "python",
   "nbconvert_exporter": "python",
   "pygments_lexer": "ipython3",
   "version": "3.8.3"
  }
 },
 "nbformat": 4,
 "nbformat_minor": 4
}
