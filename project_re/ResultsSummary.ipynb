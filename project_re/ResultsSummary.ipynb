{
 "cells": [
  {
   "cell_type": "code",
   "execution_count": 1,
   "metadata": {},
   "outputs": [],
   "source": [
    "%reload_ext autoreload\n",
    "%autoreload\n",
    "import pickle, os, json\n",
    "import torch\n",
    "from pathlib import Path, PureWindowsPath, PurePosixPath\n",
    "from util.tools import load_config\n",
    "import pandas as pd"
   ]
  },
  {
   "cell_type": "code",
   "execution_count": 2,
   "metadata": {},
   "outputs": [],
   "source": [
    "device = torch.device(\"cuda\" if torch.cuda.is_available() else \"cpu\")\n",
    "# device = \"cpu\""
   ]
  },
  {
   "cell_type": "code",
   "execution_count": 3,
   "metadata": {},
   "outputs": [],
   "source": [
    "config_folder = \"config/\"\n",
    "config = load_config(config_folder)"
   ]
  },
  {
   "cell_type": "code",
   "execution_count": 12,
   "metadata": {},
   "outputs": [
    {
     "name": "stdout",
     "output_type": "stream",
     "text": [
      "reports\\re\\multi_model_experiment_results_2020-11-22 10_44_11_756583.pkl\n"
     ]
    },
    {
     "data": {
      "text/html": [
       "<div>\n",
       "<style scoped>\n",
       "    .dataframe tbody tr th:only-of-type {\n",
       "        vertical-align: middle;\n",
       "    }\n",
       "\n",
       "    .dataframe tbody tr th {\n",
       "        vertical-align: top;\n",
       "    }\n",
       "\n",
       "    .dataframe thead th {\n",
       "        text-align: right;\n",
       "    }\n",
       "</style>\n",
       "<table border=\"1\" class=\"dataframe\">\n",
       "  <thead>\n",
       "    <tr style=\"text-align: right;\">\n",
       "      <th></th>\n",
       "      <th>model_name</th>\n",
       "      <th>lr</th>\n",
       "      <th>train_batch_size</th>\n",
       "      <th>train_max_seq</th>\n",
       "      <th>train_loss</th>\n",
       "      <th>dev_loss</th>\n",
       "      <th>train_mcc</th>\n",
       "      <th>train_f1_score</th>\n",
       "      <th>dev_mcc</th>\n",
       "      <th>dev_f1_score</th>\n",
       "    </tr>\n",
       "  </thead>\n",
       "  <tbody>\n",
       "    <tr>\n",
       "      <th>0</th>\n",
       "      <td>BioBERT_fc</td>\n",
       "      <td>0.000010</td>\n",
       "      <td>12</td>\n",
       "      <td>128</td>\n",
       "      <td>0.008484</td>\n",
       "      <td>0.061662</td>\n",
       "      <td>0.995074</td>\n",
       "      <td>0.994248</td>\n",
       "      <td>0.981641</td>\n",
       "      <td>0.969833</td>\n",
       "    </tr>\n",
       "    <tr>\n",
       "      <th>1</th>\n",
       "      <td>BioBERT_fc</td>\n",
       "      <td>0.000008</td>\n",
       "      <td>12</td>\n",
       "      <td>128</td>\n",
       "      <td>0.008790</td>\n",
       "      <td>0.056426</td>\n",
       "      <td>0.994977</td>\n",
       "      <td>0.993931</td>\n",
       "      <td>0.981643</td>\n",
       "      <td>0.968364</td>\n",
       "    </tr>\n",
       "    <tr>\n",
       "      <th>2</th>\n",
       "      <td>BioBERT_fc</td>\n",
       "      <td>0.000013</td>\n",
       "      <td>12</td>\n",
       "      <td>128</td>\n",
       "      <td>0.008213</td>\n",
       "      <td>0.060076</td>\n",
       "      <td>0.995146</td>\n",
       "      <td>0.994219</td>\n",
       "      <td>0.982797</td>\n",
       "      <td>0.972130</td>\n",
       "    </tr>\n",
       "    <tr>\n",
       "      <th>3</th>\n",
       "      <td>BioBERT_fc</td>\n",
       "      <td>0.000013</td>\n",
       "      <td>12</td>\n",
       "      <td>256</td>\n",
       "      <td>0.008129</td>\n",
       "      <td>0.063987</td>\n",
       "      <td>0.995194</td>\n",
       "      <td>0.994399</td>\n",
       "      <td>0.981838</td>\n",
       "      <td>0.969729</td>\n",
       "    </tr>\n",
       "    <tr>\n",
       "      <th>4</th>\n",
       "      <td>BioBERT_fc</td>\n",
       "      <td>0.000013</td>\n",
       "      <td>24</td>\n",
       "      <td>256</td>\n",
       "      <td>0.008214</td>\n",
       "      <td>0.057145</td>\n",
       "      <td>0.995291</td>\n",
       "      <td>0.994401</td>\n",
       "      <td>0.982028</td>\n",
       "      <td>0.971121</td>\n",
       "    </tr>\n",
       "  </tbody>\n",
       "</table>\n",
       "</div>"
      ],
      "text/plain": [
       "   model_name        lr  train_batch_size train_max_seq  train_loss  dev_loss  \\\n",
       "0  BioBERT_fc  0.000010                12           128    0.008484  0.061662   \n",
       "1  BioBERT_fc  0.000008                12           128    0.008790  0.056426   \n",
       "2  BioBERT_fc  0.000013                12           128    0.008213  0.060076   \n",
       "3  BioBERT_fc  0.000013                12           256    0.008129  0.063987   \n",
       "4  BioBERT_fc  0.000013                24           256    0.008214  0.057145   \n",
       "\n",
       "   train_mcc  train_f1_score   dev_mcc  dev_f1_score  \n",
       "0   0.995074        0.994248  0.981641      0.969833  \n",
       "1   0.994977        0.993931  0.981643      0.968364  \n",
       "2   0.995146        0.994219  0.982797      0.972130  \n",
       "3   0.995194        0.994399  0.981838      0.969729  \n",
       "4   0.995291        0.994401  0.982028      0.971121  "
      ]
     },
     "execution_count": 12,
     "metadata": {},
     "output_type": "execute_result"
    }
   ],
   "source": [
    "reports_folder_name = config.programsettings.REPORTS_DIR\n",
    "data_folder = Path(reports_folder_name)\n",
    "list_results_files = list(data_folder.glob('**/multi_model_*.pkl'))\n",
    "\n",
    "all_results = []\n",
    "for results_file in list_results_files:\n",
    "    print(results_file)\n",
    "    with open(results_file,\"rb\") as f:\n",
    "        lst_results = pickle.load(f)\n",
    "    for results in lst_results:\n",
    "        results_json = json.loads(results[0])\n",
    "        max_seq = results_json[\"hyperparams\"][\"MAX_SEQ_LENGTH\"]\n",
    "        lr = results_json[\"hyperparams\"][\"LEARNING_RATE\"]\n",
    "        train_batch = results_json[\"hyperparams\"][\"TRAIN_BATCH_SIZE\"]\n",
    "        model_name = results_json[\"programsettings\"][\"MODEL_NAME\"]\n",
    "        all_results.append([model_name,lr, train_batch,max_seq,results[1], results[2], results[3], results[4], results[5],results[6] ])\n",
    "\n",
    "columns = ['model_name', 'lr', 'train_batch_size','train_max_seq','train_loss', 'dev_loss', 'train_mcc', 'train_f1_score','dev_mcc','dev_f1_score']\n",
    "\n",
    "df_results = pd.DataFrame(all_results, columns = columns)\n",
    "df_results"
   ]
  },
  {
   "cell_type": "code",
   "execution_count": null,
   "metadata": {},
   "outputs": [],
   "source": [
    "[str(config), train_loss, dev_loss, train_mcc, train_f1_score,dev_mcc,dev_f1_score, \n",
    "                               dev_label_ids, dev_preds,train_label_ids,train_preds"
   ]
  }
 ],
 "metadata": {
  "kernelspec": {
   "display_name": "Python 3",
   "language": "python",
   "name": "python3"
  },
  "language_info": {
   "codemirror_mode": {
    "name": "ipython",
    "version": 3
   },
   "file_extension": ".py",
   "mimetype": "text/x-python",
   "name": "python",
   "nbconvert_exporter": "python",
   "pygments_lexer": "ipython3",
   "version": "3.8.3"
  }
 },
 "nbformat": 4,
 "nbformat_minor": 4
}
