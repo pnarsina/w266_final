{
 "cells": [
  {
   "cell_type": "markdown",
   "metadata": {},
   "source": [
    "## [2018 Adverse Drug Events and Medication Extraction](https://portal.dbmi.hms.harvard.edu/projects/n2c2-nlp/)"
   ]
  },
  {
   "cell_type": "code",
   "execution_count": 1,
   "metadata": {},
   "outputs": [],
   "source": [
    "import pandas as pd\n",
    "import numpy as np\n",
    "import zipfile\n",
    "import argparse\n",
    "import glob\n",
    "import os\n",
    "from collections import defaultdict\n",
    "from xml.etree import cElementTree"
   ]
  },
  {
   "cell_type": "code",
   "execution_count": 2,
   "metadata": {},
   "outputs": [
    {
     "name": "stdout",
     "output_type": "stream",
     "text": [
      "/Users/valeriemeausoone/Documents/W266/github_repo/w266_final\r\n"
     ]
    }
   ],
   "source": [
    "!pwd"
   ]
  },
  {
   "cell_type": "code",
   "execution_count": 3,
   "metadata": {},
   "outputs": [],
   "source": [
    "#with zipfile.ZipFile('/Users/valeriemeausoone/Documents/W266/github_repo/w266_final/data/i2b2/2018/training_20180910.zip', 'r') as zip_ref:\n",
    "#    zip_ref.extractall('/Users/valeriemeausoone/Documents/W266/github_repo/w266_final/data/i2b2/2018/training_20180910')"
   ]
  },
  {
   "cell_type": "code",
   "execution_count": 4,
   "metadata": {},
   "outputs": [],
   "source": [
    "file_path = '/Users/valeriemeausoone/Documents/W266/github_repo/w266_final/data/i2b2/2018/training_20180910/training_20180910'\n",
    "#path = os.path.abspath(file_path)"
   ]
  },
  {
   "cell_type": "code",
   "execution_count": 5,
   "metadata": {},
   "outputs": [],
   "source": [
    "import glob, os\n",
    "os.chdir(file_path)"
   ]
  },
  {
   "cell_type": "code",
   "execution_count": 22,
   "metadata": {},
   "outputs": [],
   "source": [
    "class ClinicalConcept(object):\n",
    "    \"\"\"Named Entity Tag class.\"\"\"\n",
    "\n",
    "    def __init__(self, tid, start, end, ttype, text=''):\n",
    "        \"\"\"Init.\"\"\"\n",
    "        self.tid = str(tid).strip()\n",
    "        self.start = int(start)\n",
    "        self.end = int(end)\n",
    "        self.text = str(text).strip()\n",
    "        self.ttype = str(ttype).strip()\n",
    "\n",
    "    def span_matches(self, other, mode='strict'):\n",
    "        \"\"\"Return whether the current tag overlaps with the one provided.\"\"\"\n",
    "        assert mode in ('strict', 'lenient')\n",
    "        if mode == 'strict':\n",
    "            if self.start == other.start and self.end == other.end:\n",
    "                return True\n",
    "        else:   # lenient\n",
    "            if (self.end > other.start and self.start < other.end) or \\\n",
    "               (self.start < other.end and other.start < self.end):\n",
    "                return True\n",
    "        return False\n",
    "\n",
    "    def equals(self, other, mode='strict'):\n",
    "        \"\"\"Return whether the current tag is equal to the one provided.\"\"\"\n",
    "        assert mode in ('strict', 'lenient')\n",
    "        return other.ttype == self.ttype and self.span_matches(other, mode)\n",
    "\n",
    "    def __str__(self):\n",
    "        \"\"\"String representation.\"\"\"\n",
    "        return '{}\\t{}\\t({}:{})'.format(self.ttype, self.text, self.start, self.end)"
   ]
  },
  {
   "cell_type": "code",
   "execution_count": 23,
   "metadata": {},
   "outputs": [],
   "source": [
    "class Relation(object):\n",
    "    \"\"\"Relation class.\"\"\"\n",
    "\n",
    "    def __init__(self, rid, arg1, arg2, rtype):\n",
    "        \"\"\"Init.\"\"\"\n",
    "        assert isinstance(arg1, ClinicalConcept)\n",
    "        assert isinstance(arg2, ClinicalConcept)\n",
    "        self.rid = str(rid).strip()\n",
    "        self.arg1 = arg1\n",
    "        self.arg2 = arg2\n",
    "        self.rtype = str(rtype).strip()\n",
    "\n",
    "    def equals(self, other, mode='strict'):\n",
    "        \"\"\"Return whether the current tag is equal to the one provided.\"\"\"\n",
    "        assert mode in ('strict', 'lenient')\n",
    "        if self.arg1.equals(other.arg1, mode) and \\\n",
    "                self.arg2.equals(other.arg2, mode) and \\\n",
    "                self.rtype == other.rtype:\n",
    "            return True\n",
    "        return False\n",
    "\n",
    "    def __str__(self):\n",
    "        \"\"\"String representation.\"\"\"\n",
    "        return '{} ({}->{})'.format(self.rtype, self.arg1.ttype,\n",
    "                                    self.arg2.ttype)\n"
   ]
  },
  {
   "cell_type": "code",
   "execution_count": 62,
   "metadata": {
    "scrolled": false
   },
   "outputs": [],
   "source": [
    "i=0\n",
    "for path in glob.glob(\"*.ann\"):\n",
    "    annotations = defaultdict(dict)\n",
    "    with open(path) as annotation_file:\n",
    "        lines = annotation_file.readlines()\n",
    "        for line_num, line in enumerate(lines):\n",
    "            if line.strip().startswith('T'):\n",
    "                try:\n",
    "                    tag_id, tag_m, tag_text = line.strip().split('\\t')\n",
    "                except ValueError:\n",
    "                    print(path, line)\n",
    "                if len(tag_m.split(' ')) == 3:\n",
    "                    tag_type, tag_start, tag_end = tag_m.split(' ')\n",
    "                elif len(tag_m.split(' ')) == 4:\n",
    "                    tag_type, tag_start, _, tag_end = tag_m.split(' ')\n",
    "                elif len(tag_m.split(' ')) == 5:\n",
    "                    tag_type, tag_start, _, _, tag_end = tag_m.split(' ')\n",
    "                else:\n",
    "                    print(path)\n",
    "                    print(line)\n",
    "                tag_start, tag_end = int(tag_start), int(tag_end)\n",
    "                annotations['tags'][tag_id] = ClinicalConcept(tag_id,\n",
    "                                                              tag_start,\n",
    "                                                              tag_end,\n",
    "                                                              tag_type,\n",
    "                                                              tag_text)\n",
    "    \n",
    "        for line_num, line in enumerate(lines):\n",
    "            if line.strip().startswith('R'):\n",
    "                rel_id, rel_m = line.strip().split('\\t')\n",
    "                rel_type, rel_arg1, rel_arg2 = rel_m.split(' ')\n",
    "                rel_arg1 = rel_arg1.split(':')[1]\n",
    "                rel_arg2 = rel_arg2.split(':')[1]\n",
    "                arg1 = annotations['tags'][rel_arg1]\n",
    "                arg2 = annotations['tags'][rel_arg2]\n",
    "                annotations['relations'][rel_id] = Relation(rel_id, arg1,\n",
    "                                                            arg2, rel_type)\n",
    "            i+=1"
   ]
  },
  {
   "cell_type": "code",
   "execution_count": 64,
   "metadata": {},
   "outputs": [
    {
     "data": {
      "text/plain": [
       "87301"
      ]
     },
     "execution_count": 64,
     "metadata": {},
     "output_type": "execute_result"
    }
   ],
   "source": [
    "i"
   ]
  },
  {
   "cell_type": "code",
   "execution_count": 69,
   "metadata": {},
   "outputs": [
    {
     "name": "stdout",
     "output_type": "stream",
     "text": [
      "Reason-Drug (Reason->Drug)\n"
     ]
    }
   ],
   "source": [
    "print(annotations['relations']['R1'])"
   ]
  },
  {
   "cell_type": "code",
   "execution_count": 43,
   "metadata": {},
   "outputs": [],
   "source": [
    "#Types of relations\n",
    "\n",
    "#Relation codes\n",
    "relation_codes = list(set(list(annotations['relations'].keys())))"
   ]
  },
  {
   "cell_type": "code",
   "execution_count": 44,
   "metadata": {},
   "outputs": [
    {
     "data": {
      "text/plain": [
       "['R41',\n",
       " 'R5',\n",
       " 'R16',\n",
       " 'R13',\n",
       " 'R2',\n",
       " 'R22',\n",
       " 'R4',\n",
       " 'R38',\n",
       " 'R25',\n",
       " 'R7',\n",
       " 'R18',\n",
       " 'R37',\n",
       " 'R40',\n",
       " 'R3',\n",
       " 'R36',\n",
       " 'R23',\n",
       " 'R35',\n",
       " 'R31',\n",
       " 'R8',\n",
       " 'R12',\n",
       " 'R6',\n",
       " 'R24',\n",
       " 'R14',\n",
       " 'R27',\n",
       " 'R9',\n",
       " 'R17',\n",
       " 'R29',\n",
       " 'R1',\n",
       " 'R34',\n",
       " 'R33',\n",
       " 'R15',\n",
       " 'R11',\n",
       " 'R21',\n",
       " 'R39',\n",
       " 'R30',\n",
       " 'R26',\n",
       " 'R28',\n",
       " 'R19',\n",
       " 'R10',\n",
       " 'R20']"
      ]
     },
     "execution_count": 44,
     "metadata": {},
     "output_type": "execute_result"
    }
   ],
   "source": [
    "for code in relation_codes:\n",
    "    annotations['relations'][code]"
   ]
  },
  {
   "cell_type": "code",
   "execution_count": 48,
   "metadata": {},
   "outputs": [
    {
     "name": "stdout",
     "output_type": "stream",
     "text": [
      "R41 Reason-Drug (Reason->Drug)\n",
      "R5 ADE-Drug (ADE->Drug)\n",
      "R16 Strength-Drug (Strength->Drug)\n",
      "R13 Strength-Drug (Strength->Drug)\n",
      "R2 ADE-Drug (ADE->Drug)\n",
      "R22 Reason-Drug (Reason->Drug)\n",
      "R4 ADE-Drug (ADE->Drug)\n",
      "R38 Reason-Drug (Reason->Drug)\n",
      "R25 Route-Drug (Route->Drug)\n",
      "R7 Reason-Drug (Reason->Drug)\n",
      "R18 Frequency-Drug (Frequency->Drug)\n",
      "R37 Reason-Drug (Reason->Drug)\n",
      "R40 Reason-Drug (Reason->Drug)\n",
      "R3 ADE-Drug (ADE->Drug)\n",
      "R36 Route-Drug (Route->Drug)\n",
      "R23 Route-Drug (Route->Drug)\n",
      "R35 Route-Drug (Route->Drug)\n",
      "R31 Reason-Drug (Reason->Drug)\n",
      "R8 Reason-Drug (Reason->Drug)\n",
      "R12 Strength-Drug (Strength->Drug)\n",
      "R6 Reason-Drug (Reason->Drug)\n",
      "R24 Strength-Drug (Strength->Drug)\n",
      "R14 Strength-Drug (Strength->Drug)\n",
      "R27 Reason-Drug (Reason->Drug)\n",
      "R9 ADE-Drug (ADE->Drug)\n",
      "R17 Strength-Drug (Strength->Drug)\n",
      "R29 Reason-Drug (Reason->Drug)\n",
      "R1 Reason-Drug (Reason->Drug)\n",
      "R34 Strength-Drug (Strength->Drug)\n",
      "R33 Route-Drug (Route->Drug)\n",
      "R15 Strength-Drug (Strength->Drug)\n",
      "R11 Reason-Drug (Reason->Drug)\n",
      "R21 Strength-Drug (Strength->Drug)\n",
      "R39 Reason-Drug (Reason->Drug)\n",
      "R30 Dosage-Drug (Dosage->Drug)\n",
      "R26 Reason-Drug (Reason->Drug)\n",
      "R28 Strength-Drug (Strength->Drug)\n",
      "R19 Frequency-Drug (Frequency->Drug)\n",
      "R10 Reason-Drug (Reason->Drug)\n",
      "R20 Route-Drug (Route->Drug)\n"
     ]
    }
   ],
   "source": [
    "for code in relation_codes:\n",
    "    print(code, annotations['relations'][code])"
   ]
  },
  {
   "cell_type": "code",
   "execution_count": 54,
   "metadata": {},
   "outputs": [
    {
     "name": "stdout",
     "output_type": "stream",
     "text": [
      "Reason-Drug Arg1:T71 Arg2:T67\n"
     ]
    }
   ],
   "source": [
    "print(rel_m)"
   ]
  },
  {
   "cell_type": "code",
   "execution_count": null,
   "metadata": {},
   "outputs": [],
   "source": []
  },
  {
   "cell_type": "code",
   "execution_count": null,
   "metadata": {},
   "outputs": [],
   "source": []
  },
  {
   "cell_type": "code",
   "execution_count": null,
   "metadata": {},
   "outputs": [],
   "source": []
  },
  {
   "cell_type": "code",
   "execution_count": null,
   "metadata": {},
   "outputs": [],
   "source": []
  },
  {
   "cell_type": "code",
   "execution_count": null,
   "metadata": {},
   "outputs": [],
   "source": []
  },
  {
   "cell_type": "code",
   "execution_count": null,
   "metadata": {},
   "outputs": [],
   "source": []
  }
 ],
 "metadata": {
  "kernelspec": {
   "display_name": "Python 3",
   "language": "python",
   "name": "python3"
  },
  "language_info": {
   "codemirror_mode": {
    "name": "ipython",
    "version": 3
   },
   "file_extension": ".py",
   "mimetype": "text/x-python",
   "name": "python",
   "nbconvert_exporter": "python",
   "pygments_lexer": "ipython3",
   "version": "3.7.3"
  }
 },
 "nbformat": 4,
 "nbformat_minor": 2
}
